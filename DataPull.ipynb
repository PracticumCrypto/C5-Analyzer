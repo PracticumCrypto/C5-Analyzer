{
  "nbformat": 4,
  "nbformat_minor": 0,
  "metadata": {
    "colab": {
      "name": "DataPull.ipynb",
      "provenance": []
    },
    "kernelspec": {
      "name": "python3",
      "display_name": "Python 3"
    },
    "language_info": {
      "name": "python"
    }
  },
  "cells": [
    {
      "cell_type": "code",
      "execution_count": 1,
      "metadata": {
        "id": "xRHrfZma_zRz"
      },
      "outputs": [],
      "source": [
        "import json\n",
        "import requests\n",
        "import pandas as pd\n",
        "\n",
        "# insert your API key here\n",
        "API_KEY = '1vGb0FOsg2hEIGrEhpueLCcWd1Y'"
      ]
    },
    {
      "cell_type": "code",
      "source": [
        "symbolList = ['BTC', 'ETH', 'LTC', 'AAVE', 'ABT', 'AMPL', 'ANT', 'ARMOR', 'BADGER', 'BAL', 'BAND', 'BAT', 'BIX', 'BNT', 'BOND', 'BRD', 'BUSD', 'BZRX', 'CELR', 'CHSB', 'CND', 'COMP', 'CREAM', 'CRO', 'CRV', 'CVC', 'CVP', 'DAI', 'DDX', 'DENT', 'DGX', 'DHT', 'DMG', 'DODO', 'DOUGH', 'DRGN', 'ELF', 'ENG', 'ENJ', 'EURS', 'FET', 'FTT', 'FUN', 'GNO', 'GUSD', 'HEGIC', 'HOT', 'HPT', 'HT', 'HUSD', 'INDEX', 'KCS', 'LAMB', 'LBA', 'LDO', 'LEO', 'LINK', 'LOOM', 'LRC', 'MANA', 'MATIC', 'MCB', 'MCO', 'MFT', 'MIR', 'MKR', 'MLN', 'MTA', 'MTL', 'MX', 'NDX', 'NEXO', 'NFTX', 'NMR', 'Nsure', 'OCEAN', 'OKB', 'OMG', 'PAY', 'PERP', 'PICKLE', 'PNK', 'PNT', 'POLY', 'POWR', 'PPT', 'QASH', 'QKC', 'QNT', 'RDN', 'REN', 'REP', 'RLC', 'ROOK', 'RPL', 'RSR', 'SAI', 'SAN', 'SNT', 'SNX', 'STAKE', 'STORJ', 'sUSD', 'SUSHI', 'TEL', 'TOP', 'UBT', 'UMA', 'UNI', 'USDC', 'USDK', 'USDP', 'USDT', 'UTK', 'VERI', 'WaBi', 'WAX', 'WBTC', 'WETH', 'wNXM', 'WTC', 'YAM', 'YFI', 'ZRX']"
      ],
      "metadata": {
        "id": "LGCeX94KAF5s"
      },
      "execution_count": 3,
      "outputs": []
    },
    {
      "cell_type": "code",
      "source": [
        "symbolListShort = ['BTC', 'ETH', 'LTC', 'AAVE', 'ABT', 'AMPL', 'ANT']"
      ],
      "metadata": {
        "id": "EJTUYneeCJPj"
      },
      "execution_count": 4,
      "outputs": []
    },
    {
      "cell_type": "markdown",
      "source": [
        "## Get Multiple Attributes for Multiple Coins"
      ],
      "metadata": {
        "id": "7nlgSPPTKKkP"
      }
    },
    {
      "cell_type": "code",
      "source": [
        "rootUrl = 'https://api.glassnode.com'"
      ],
      "metadata": {
        "id": "P9u2JUg4JJ0G"
      },
      "execution_count": 5,
      "outputs": []
    },
    {
      "cell_type": "code",
      "source": [
        "endPoints = {\n",
        "    'Price' : '/v1/metrics/market/price_usd_close',\n",
        "    'MarketCap' : '/v1/metrics/market/marketcap_usd',\n",
        "    'TransactionCount' :'/v1/metrics/transactions/count',\n",
        "    'ActiveAddress': '/v1/metrics/addresses/active_count',\n",
        "}"
      ],
      "metadata": {
        "id": "Ga-VZHKvJLm1"
      },
      "execution_count": 30,
      "outputs": []
    },
    {
      "cell_type": "code",
      "source": [
        "for i in symbolListShort:\n",
        "  for j in list(endPoints.keys()):\n",
        "    reqUrl = rootUrl + endPoints[j]\n",
        "    res = requests.get(reqUrl,\n",
        "                       params={'a': i, 'api_key': API_KEY})\n",
        "    name=str(i)+'_'+str(j)\n",
        "    locals()[name] = pd.read_json(res.text, convert_dates=['t'])\n",
        "  print(str(i) + ' data successfully pulled')\n",
        "print('\\nALL DATA SUCCESSFULLY PULLED!')"
      ],
      "metadata": {
        "id": "hRBQM5TVKZO8"
      },
      "execution_count": null,
      "outputs": []
    },
    {
      "cell_type": "code",
      "source": [
        "BTC_Price.head()"
      ],
      "metadata": {
        "id": "C5Cfbd3nLkaT"
      },
      "execution_count": null,
      "outputs": []
    },
    {
      "cell_type": "code",
      "source": [
        "BTC_MarketCap.head()"
      ],
      "metadata": {
        "id": "vqVQizFKLn7j"
      },
      "execution_count": null,
      "outputs": []
    },
    {
      "cell_type": "code",
      "source": [
        "BTC_ActiveAddress"
      ],
      "metadata": {
        "id": "jTuPZBqtgfJD"
      },
      "execution_count": null,
      "outputs": []
    },
    {
      "cell_type": "code",
      "source": [
        ""
      ],
      "metadata": {
        "id": "CAqCY9XUhDgh"
      },
      "execution_count": null,
      "outputs": []
    }
  ]
}