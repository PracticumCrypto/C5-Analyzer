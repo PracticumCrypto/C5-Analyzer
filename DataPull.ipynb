{
  "cells": [
    {
      "cell_type": "markdown",
      "metadata": {
        "id": "lh68fHXe8UTs"
      },
      "source": [
        "## Fixed Data:"
      ]
    },
    {
      "cell_type": "code",
      "execution_count": 31,
      "metadata": {
        "colab": {
          "base_uri": "https://localhost:8080/"
        },
        "id": "jjOiSHrVIxNU",
        "outputId": "8e1c6393-a343-4f83-f547-ceb3700dd420"
      },
      "outputs": [
        {
          "name": "stdout",
          "output_type": "stream",
          "text": [
            "Requirement already satisfied: fredapi in c:\\zacharyyang\\lib\\site-packages (0.5.0)\n",
            "Requirement already satisfied: pandas in c:\\zacharyyang\\lib\\site-packages (from fredapi) (1.1.3)\n",
            "Requirement already satisfied: python-dateutil>=2.7.3 in c:\\zacharyyang\\lib\\site-packages (from pandas->fredapi) (2.8.1)\n",
            "Requirement already satisfied: numpy>=1.15.4 in c:\\zacharyyang\\lib\\site-packages (from pandas->fredapi) (1.19.2)\n",
            "Requirement already satisfied: pytz>=2017.2 in c:\\zacharyyang\\lib\\site-packages (from pandas->fredapi) (2020.1)\n",
            "Requirement already satisfied: six>=1.5 in c:\\zacharyyang\\lib\\site-packages (from python-dateutil>=2.7.3->pandas->fredapi) (1.15.0)\n",
            "Note: you may need to restart the kernel to use updated packages.\n"
          ]
        }
      ],
      "source": [
        "pip install fredapi"
      ]
    },
    {
      "cell_type": "code",
      "execution_count": 1,
      "metadata": {
        "id": "xRHrfZma_zRz"
      },
      "outputs": [],
      "source": [
        "import json\n",
        "import numpy as np\n",
        "import requests\n",
        "import pandas as pd\n",
        "from fredapi import Fred\n",
        "\n",
        "API_KEY = '1vGb0FOsg2hEIGrEhpueLCcWd1Y'\n",
        "FRED_API_KEY = 'b13a905b98b5dfc1f3910d6a0d875ae3'\n",
        "\n",
        "rootUrl = 'https://api.glassnode.com'\n",
        "\n",
        "symbolList = ['BTC', 'ETH', 'LTC', 'AAVE', 'ABT', 'AMPL', 'ANT', 'ARMOR', 'BADGER', 'BAL', 'BAND', 'BAT', 'BIX', 'BNT', 'BOND', 'BRD', 'BUSD', 'BZRX', 'CELR', 'CHSB', 'CND', 'COMP', 'CREAM', 'CRO', 'CRV', 'CVC', 'CVP', 'DAI', 'DDX', 'DENT', 'DGX', 'DHT', 'DMG', 'DODO', 'DOUGH', 'DRGN', 'ELF', 'ENG', 'ENJ', 'EURS', 'FET', 'FTT', 'FUN', 'GNO', 'GUSD', 'HEGIC', 'HOT', 'HPT', 'HT', 'HUSD', 'INDEX', 'KCS', 'LAMB', 'LBA', 'LDO', 'LEO', 'LINK', 'LOOM', 'LRC', 'MANA', 'MATIC',\n",
        "              'MCB', 'MCO', 'MFT', 'MIR', 'MKR', 'MLN', 'MTA', 'MTL', 'MX', 'NDX', 'NEXO', 'NFTX', 'NMR', 'Nsure', 'OCEAN', 'OKB', 'OMG', 'PAY', 'PERP', 'PICKLE', 'PNK', 'PNT', 'POLY', 'POWR', 'PPT', 'QASH', 'QKC', 'QNT', 'RDN', 'REN', 'REP', 'RLC', 'ROOK', 'RPL', 'RSR', 'SAI', 'SAN', 'SNT', 'SNX', 'STAKE', 'STORJ', 'sUSD', 'SUSHI', 'TEL', 'TOP', 'UBT', 'UMA', 'UNI', 'USDC', 'USDK', 'USDP', 'USDT', 'UTK', 'VERI', 'WaBi', 'WAX', 'WBTC', 'WETH', 'wNXM', 'WTC', 'YAM', 'YFI', 'ZRX']\n",
        "\n",
        "symbolListShort = ['BTC', 'ETH', 'LTC']\n",
        "\n",
        "endPoints = {\n",
        "    'Price': '/v1/metrics/market/price_usd_close',\n",
        "    'MarketCap': '/v1/metrics/market/marketcap_usd',\n",
        "    'TransactionCount': '/v1/metrics/transactions/count',\n",
        "    'ActiveAddress': '/v1/metrics/addresses/active_count',\n",
        "}"
      ]
    },
    {
      "cell_type": "code",
      "execution_count": 14,
      "metadata": {
        "id": "jKTjV1E9IxNX"
      },
      "outputs": [],
      "source": [
        "fred = Fred(api_key=FRED_API_KEY)\n",
        "Risk_free_rate = fred.get_series('DGS1MO', frequency = 'wem')\n",
        "Risk_free_rate = Risk_free_rate.to_frame()\n",
        "Risk_free_rate = Risk_free_rate.reset_index()\n",
        "Risk_free_rate = Risk_free_rate.rename(columns={'index':'Date', 0:'RiskFree'})"
      ]
    },
    {
      "cell_type": "code",
      "execution_count": 15,
      "metadata": {},
      "outputs": [
        {
          "data": {
            "text/html": [
              "<div>\n",
              "<style scoped>\n",
              "    .dataframe tbody tr th:only-of-type {\n",
              "        vertical-align: middle;\n",
              "    }\n",
              "\n",
              "    .dataframe tbody tr th {\n",
              "        vertical-align: top;\n",
              "    }\n",
              "\n",
              "    .dataframe thead th {\n",
              "        text-align: right;\n",
              "    }\n",
              "</style>\n",
              "<table border=\"1\" class=\"dataframe\">\n",
              "  <thead>\n",
              "    <tr style=\"text-align: right;\">\n",
              "      <th></th>\n",
              "      <th>Date</th>\n",
              "      <th>RiskFree</th>\n",
              "    </tr>\n",
              "  </thead>\n",
              "  <tbody>\n",
              "    <tr>\n",
              "      <th>1079</th>\n",
              "      <td>2022-04-11</td>\n",
              "      <td>0.20</td>\n",
              "    </tr>\n",
              "    <tr>\n",
              "      <th>1080</th>\n",
              "      <td>2022-04-18</td>\n",
              "      <td>0.31</td>\n",
              "    </tr>\n",
              "    <tr>\n",
              "      <th>1081</th>\n",
              "      <td>2022-04-25</td>\n",
              "      <td>0.42</td>\n",
              "    </tr>\n",
              "    <tr>\n",
              "      <th>1082</th>\n",
              "      <td>2022-05-02</td>\n",
              "      <td>0.38</td>\n",
              "    </tr>\n",
              "    <tr>\n",
              "      <th>1083</th>\n",
              "      <td>2022-05-09</td>\n",
              "      <td>NaN</td>\n",
              "    </tr>\n",
              "  </tbody>\n",
              "</table>\n",
              "</div>"
            ],
            "text/plain": [
              "           Date  RiskFree\n",
              "1079 2022-04-11      0.20\n",
              "1080 2022-04-18      0.31\n",
              "1081 2022-04-25      0.42\n",
              "1082 2022-05-02      0.38\n",
              "1083 2022-05-09       NaN"
            ]
          },
          "execution_count": 15,
          "metadata": {},
          "output_type": "execute_result"
        }
      ],
      "source": [
        "Risk_free_rate.tail()"
      ]
    },
    {
      "cell_type": "markdown",
      "metadata": {
        "id": "7nlgSPPTKKkP"
      },
      "source": [
        "## Get Multiple Attributes for Multiple Coins:"
      ]
    },
    {
      "cell_type": "code",
      "execution_count": 16,
      "metadata": {
        "id": "NoAHRVf366me"
      },
      "outputs": [],
      "source": [
        "### Define a function to pull data according to input values(coin, feature)\n",
        "### After running this method, it should return pulled data, and also store it in memory named as \"coin_feature\"\n",
        "\n",
        "def PullData(coin, feature):\n",
        "    ##print(f\"Pulling {coin}'s {feature} data\")\n",
        "\n",
        "    # Assemble full request url and get responses:\n",
        "    reqUrl = rootUrl + endPoints[feature]\n",
        "    res = requests.get(reqUrl,\n",
        "                       params={'a': coin, 'api_key': API_KEY, 'i':'1w'})\n",
        "    data_raw = pd.read_json(res.text, convert_dates=['t'])\n",
        "\n",
        "    # Rename column \"v\" according to features\n",
        "    data = data_raw.rename(columns={\"v\" : f\"{feature}\", 't':'Date'})\n",
        "\n",
        "    # Turn renamed dataframe into a global variable for future using\n",
        "    name = f\"{coin}_{feature}\"\n",
        "    globals()[name] = data\n",
        "\n",
        "    # Return a dataframe\n",
        "    return data"
      ]
    },
    {
      "cell_type": "code",
      "execution_count": 17,
      "metadata": {
        "colab": {
          "base_uri": "https://localhost:8080/"
        },
        "id": "hRBQM5TVKZO8",
        "outputId": "63911f86-3c92-4bbf-d87b-238b63730b23"
      },
      "outputs": [],
      "source": [
        "### Get all features(listed in endPoints) of all coins(listed in symbolListShort) \n",
        "\n",
        "from functools import reduce\n",
        "\n",
        "for i in symbolList:\n",
        "    ##print(f\"Start Pulling {i}'s data:\")\n",
        "\n",
        "    # Preparation for merging\n",
        "    frameName = f\"{i}_Frames\"\n",
        "    locals()[frameName] = []\n",
        "\n",
        "    # Get data\n",
        "    for j in list(endPoints.keys()):\n",
        "        locals()[frameName].append(PullData(i, j))\n",
        "\n",
        "    # Merge to single dataframe\n",
        "    ##print('Merging Dataframes...')\n",
        "    dfName = f\"{i}_Raw\"\n",
        "    locals()[dfName] = reduce(lambda  left,right: pd.merge(left,right, on='Date', how='inner'), locals()[frameName])\n",
        "    locals()[dfName] = locals()[dfName].merge(Risk_free_rate, on='Date', how='left')\n",
        "\n",
        "    ##print(f\"{i} data successfully pulled\\n\")\n",
        "##print('\\nALL DATA SUCCESSFULLY PULLED!')"
      ]
    },
    {
      "cell_type": "code",
      "execution_count": 18,
      "metadata": {},
      "outputs": [],
      "source": [
        "BTC_Raw.to_csv(\"C:/Users/杨仲伯/Desktop/BTC_weekly.csv\")"
      ]
    },
    {
      "cell_type": "markdown",
      "metadata": {},
      "source": [
        "# NET: Network Factor"
      ]
    },
    {
      "cell_type": "markdown",
      "metadata": {},
      "source": [
        "The network factor (NET) is constructed by splitting the coins of the Core Sample into 3 groups due to the limitation of available coins. Particularly, each week we split the cryptocurrencies into three [30% 40% 30%] groups by the growth rate in total addresses with balance. The network factor (NET) is the return difference between the top and the bottom network portfolios. "
      ]
    },
    {
      "cell_type": "markdown",
      "metadata": {},
      "source": [
        "## Get address growth"
      ]
    },
    {
      "cell_type": "code",
      "execution_count": 13,
      "metadata": {},
      "outputs": [
        {
          "name": "stderr",
          "output_type": "stream",
          "text": [
            "C:\\ZacharyYang\\lib\\site-packages\\pandas\\core\\series.py:726: RuntimeWarning: divide by zero encountered in log\n",
            "  result = getattr(ufunc, method)(*inputs, **kwargs)\n"
          ]
        }
      ],
      "source": [
        "NET = pd.DataFrame({'Date':[]})\n",
        "NET.Date = BTC_Raw.Date\n",
        "\n",
        "for i in symbolList:\n",
        "    dfName = f\"{i}_Raw\"\n",
        "\n",
        "    copy1 = f\"{i}1\"\n",
        "    locals()[copy1] = locals()[dfName].copy()\n",
        "    copy2 = f\"{i}2\"\n",
        "    locals()[copy2] = locals()[dfName].copy()\n",
        "    locals()[copy2] = locals()[copy2].shift()\n",
        "\n",
        "    df_NET = f\"{i}_NET\"\n",
        "    locals()[df_NET] = pd.DataFrame({'Date':[],f\"{i}\":[]})\n",
        "    locals()[df_NET]['Date'] = locals()[copy1]['Date']\n",
        "    locals()[df_NET][f\"{i}\"] = np.log(locals()[copy1]['ActiveAddress'])-np.log(locals()[copy2]['ActiveAddress'])\n",
        "\n",
        "    NET = NET.merge(locals()[df_NET], left_on='Date', right_on='Date', how='outer')\n",
        "    \n",
        "NET['30Percentile'] = NET.quantile(q=0.3, numeric_only = True, axis = 1)\n",
        "NET['70Percentile'] = NET.quantile(q=0.7, numeric_only = True, axis = 1)"
      ]
    },
    {
      "cell_type": "markdown",
      "metadata": {},
      "source": [
        "## Get Return"
      ]
    },
    {
      "cell_type": "code",
      "execution_count": 44,
      "metadata": {},
      "outputs": [],
      "source": [
        "Return = pd.DataFrame({'Date':[]})\n",
        "Return['Date'] = NET.Date\n",
        "for i in symbolList:\n",
        "    \n",
        "    dfName = f\"{i}_Raw\" \n",
        "    df = f\"{i}_Return\"\n",
        "    locals()[df] = pd.DataFrame({'Date':[]})\n",
        "    locals()[df].Date = locals()[dfName].Date\n",
        "    locals()[df][f\"{i}\"] = locals()[dfName].Price.rolling(52).apply(lambda x: (x.iloc[-1]-x.iloc[0])/x.iloc[0])\n",
        "\n",
        "    Return = Return.merge(locals()[df], left_on='Date', right_on='Date', how='outer')"
      ]
    },
    {
      "cell_type": "markdown",
      "metadata": {},
      "source": [
        "## Construct Network factor"
      ]
    },
    {
      "cell_type": "code",
      "execution_count": 83,
      "metadata": {},
      "outputs": [
        {
          "data": {
            "text/html": [
              "<div>\n",
              "<style scoped>\n",
              "    .dataframe tbody tr th:only-of-type {\n",
              "        vertical-align: middle;\n",
              "    }\n",
              "\n",
              "    .dataframe tbody tr th {\n",
              "        vertical-align: top;\n",
              "    }\n",
              "\n",
              "    .dataframe thead th {\n",
              "        text-align: right;\n",
              "    }\n",
              "</style>\n",
              "<table border=\"1\" class=\"dataframe\">\n",
              "  <thead>\n",
              "    <tr style=\"text-align: right;\">\n",
              "      <th></th>\n",
              "      <th>Date</th>\n",
              "      <th>NET</th>\n",
              "    </tr>\n",
              "  </thead>\n",
              "  <tbody>\n",
              "    <tr>\n",
              "      <th>611</th>\n",
              "      <td>2022-03-28</td>\n",
              "      <td>-0.328270</td>\n",
              "    </tr>\n",
              "    <tr>\n",
              "      <th>612</th>\n",
              "      <td>2022-04-04</td>\n",
              "      <td>0.256623</td>\n",
              "    </tr>\n",
              "    <tr>\n",
              "      <th>613</th>\n",
              "      <td>2022-04-11</td>\n",
              "      <td>-0.035431</td>\n",
              "    </tr>\n",
              "    <tr>\n",
              "      <th>614</th>\n",
              "      <td>2022-04-18</td>\n",
              "      <td>-0.009535</td>\n",
              "    </tr>\n",
              "    <tr>\n",
              "      <th>615</th>\n",
              "      <td>2022-04-25</td>\n",
              "      <td>0.052962</td>\n",
              "    </tr>\n",
              "  </tbody>\n",
              "</table>\n",
              "</div>"
            ],
            "text/plain": [
              "          Date       NET\n",
              "611 2022-03-28 -0.328270\n",
              "612 2022-04-04  0.256623\n",
              "613 2022-04-11 -0.035431\n",
              "614 2022-04-18 -0.009535\n",
              "615 2022-04-25  0.052962"
            ]
          },
          "execution_count": 83,
          "metadata": {},
          "output_type": "execute_result"
        }
      ],
      "source": [
        "C5 = pd.DataFrame({'Date':[]})\n",
        "C5.Date = NET.Date\n",
        "C5['short'] = Return[NET[symbolList].apply(lambda x: x <= NET['30Percentile'])].mean(axis=1, numeric_only= True)\n",
        "C5['long'] = Return[NET[symbolList].apply(lambda x: x >= NET['70Percentile'])].mean(axis=1, numeric_only= True)\n",
        "C5.fillna(value = 0, inplace=True)\n",
        "C5['NET'] = C5.long - C5.short\n",
        "C5.drop(columns=['short', 'long'], inplace=True)\n",
        "C5.tail()"
      ]
    },
    {
      "cell_type": "code",
      "execution_count": null,
      "metadata": {},
      "outputs": [],
      "source": [
        "C5.tail(200)"
      ]
    },
    {
      "cell_type": "code",
      "execution_count": 91,
      "metadata": {},
      "outputs": [],
      "source": [
        "pd.set_option('display.max_rows', 500)\n",
        "## so many null values\n",
        "# because a lot of null in Return table,  \n",
        "# In turn \n",
        "\n"
      ]
    },
    {
      "cell_type": "markdown",
      "metadata": {},
      "source": [
        "## Verification"
      ]
    },
    {
      "cell_type": "code",
      "execution_count": 85,
      "metadata": {},
      "outputs": [
        {
          "data": {
            "text/plain": [
              "Text(0, 0.5, 'Cumulative Return')"
            ]
          },
          "execution_count": 85,
          "metadata": {},
          "output_type": "execute_result"
        },
        {
          "data": {
            "image/png": "[encoded data removed]",
            "text/plain": [
              "<Figure size 432x288 with 1 Axes>"
            ]
          },
          "metadata": {
            "needs_background": "light"
          },
          "output_type": "display_data"
        }
      ],
      "source": [
        "import matplotlib.pyplot as plt\n",
        "\n",
        "plt.plot(C5.Date, np.cumsum(C5.NET))\n",
        "plt.xlabel('Year')\n",
        "plt.ylabel('Cumulative Return')"
      ]
    },
    {
      "cell_type": "code",
      "execution_count": null,
      "metadata": {},
      "outputs": [],
      "source": []
    }
  ],
  "metadata": {
    "colab": {
      "name": "DataPullZ.ipynb",
      "provenance": []
    },
    "interpreter": {
      "hash": "605ac26f4caee09107964592767aa4d1bea7494e1453a9eb2b6bd6a7bba35dd3"
    },
    "kernelspec": {
      "display_name": "Python 3.8.5 ('base')",
      "language": "python",
      "name": "python3"
    },
    "language_info": {
      "codemirror_mode": {
        "name": "ipython",
        "version": 3
      },
      "file_extension": ".py",
      "mimetype": "text/x-python",
      "name": "python",
      "nbconvert_exporter": "python",
      "pygments_lexer": "ipython3",
      "version": "3.8.5"
    }
  },
  "nbformat": 4,
  "nbformat_minor": 0
}
