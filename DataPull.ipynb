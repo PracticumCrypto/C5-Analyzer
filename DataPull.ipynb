{
  "nbformat": 4,
  "nbformat_minor": 0,
  "metadata": {
    "colab": {
      "name": "DataPull.ipynb",
      "provenance": []
    },
    "kernelspec": {
      "name": "python3",
      "display_name": "Python 3"
    },
    "language_info": {
      "name": "python"
    }
  },
  "cells": [
    {
      "cell_type": "code",
<<<<<<< Updated upstream
<<<<<<< Updated upstream
      "execution_count": 1,
=======
      "execution_count": 4,
>>>>>>> Stashed changes
=======
      "execution_count": 3,
      "metadata": {},
      "outputs": [
        {
          "name": "stdout",
          "output_type": "stream",
          "text": [
            "Collecting fredapi\n",
            "  Using cached fredapi-0.5.0-py3-none-any.whl (11 kB)\n",
            "Requirement already satisfied: pandas in c:\\zacharyyang\\lib\\site-packages (from fredapi) (1.1.3)\n",
            "Requirement already satisfied: python-dateutil>=2.7.3 in c:\\zacharyyang\\lib\\site-packages (from pandas->fredapi) (2.8.1)\n",
            "Requirement already satisfied: pytz>=2017.2 in c:\\zacharyyang\\lib\\site-packages (from pandas->fredapi) (2020.1)\n",
            "Requirement already satisfied: numpy>=1.15.4 in c:\\zacharyyang\\lib\\site-packages (from pandas->fredapi) (1.19.2)\n",
            "Requirement already satisfied: six>=1.5 in c:\\zacharyyang\\lib\\site-packages (from python-dateutil>=2.7.3->pandas->fredapi) (1.15.0)\n",
            "Installing collected packages: fredapi\n",
            "Successfully installed fredapi-0.5.0\n",
            "Note: you may need to restart the kernel to use updated packages.\n"
          ]
        }
      ],
      "source": [
        "pip install fredapi"
      ]
    },
    {
      "cell_type": "code",
      "execution_count": 6,
>>>>>>> Stashed changes
      "metadata": {
        "id": "xRHrfZma_zRz"
      },
      "outputs": [
        {
          "ename": "ModuleNotFoundError",
          "evalue": "No module named 'fredapi'",
          "output_type": "error",
          "traceback": [
            "\u001b[1;31m---------------------------------------------------------------------------\u001b[0m",
            "\u001b[1;31mModuleNotFoundError\u001b[0m                       Traceback (most recent call last)",
            "\u001b[1;32m<ipython-input-4-6c90a5a59478>\u001b[0m in \u001b[0;36m<module>\u001b[1;34m\u001b[0m\n\u001b[0;32m      2\u001b[0m \u001b[1;32mimport\u001b[0m \u001b[0mrequests\u001b[0m\u001b[1;33m\u001b[0m\u001b[1;33m\u001b[0m\u001b[0m\n\u001b[0;32m      3\u001b[0m \u001b[1;32mimport\u001b[0m \u001b[0mpandas\u001b[0m \u001b[1;32mas\u001b[0m \u001b[0mpd\u001b[0m\u001b[1;33m\u001b[0m\u001b[1;33m\u001b[0m\u001b[0m\n\u001b[1;32m----> 4\u001b[1;33m \u001b[1;32mfrom\u001b[0m \u001b[0mfredapi\u001b[0m \u001b[1;32mimport\u001b[0m \u001b[0mFred\u001b[0m\u001b[1;33m\u001b[0m\u001b[1;33m\u001b[0m\u001b[0m\n\u001b[0m\u001b[0;32m      5\u001b[0m \u001b[1;33m\u001b[0m\u001b[0m\n\u001b[0;32m      6\u001b[0m \u001b[0mAPI_KEY\u001b[0m \u001b[1;33m=\u001b[0m \u001b[1;34m'1vGb0FOsg2hEIGrEhpueLCcWd1Y'\u001b[0m\u001b[1;33m\u001b[0m\u001b[1;33m\u001b[0m\u001b[0m\n",
            "\u001b[1;31mModuleNotFoundError\u001b[0m: No module named 'fredapi'"
          ]
        }
      ],
      "source": [
        "import json\n",
        "import requests\n",
        "import pandas as pd\n",
        "from fredapi import Fred\n",
        "\n",
<<<<<<< Updated upstream
        "# insert your API key here\n",
        "API_KEY = '1vGb0FOsg2hEIGrEhpueLCcWd1Y'"
=======
        "API_KEY = '1vGb0FOsg2hEIGrEhpueLCcWd1Y'\n",
        "FRED_API_KEY = 'b13a905b98b5dfc1f3910d6a0d875ae3'\n",
        "\n",
        "rootUrl = 'https://api.glassnode.com'\n",
        "\n",
        "symbolList = ['BTC', 'ETH', 'LTC', 'AAVE', 'ABT', 'AMPL', 'ANT', 'ARMOR', 'BADGER', 'BAL', 'BAND', 'BAT', 'BIX', 'BNT', 'BOND', 'BRD', 'BUSD', 'BZRX', 'CELR', 'CHSB', 'CND', 'COMP', 'CREAM', 'CRO', 'CRV', 'CVC', 'CVP', 'DAI', 'DDX', 'DENT', 'DGX', 'DHT', 'DMG', 'DODO', 'DOUGH', 'DRGN', 'ELF', 'ENG', 'ENJ', 'EURS', 'FET', 'FTT', 'FUN', 'GNO', 'GUSD', 'HEGIC', 'HOT', 'HPT', 'HT', 'HUSD', 'INDEX', 'KCS', 'LAMB', 'LBA', 'LDO', 'LEO', 'LINK', 'LOOM', 'LRC', 'MANA', 'MATIC',\n",
        "              'MCB', 'MCO', 'MFT', 'MIR', 'MKR', 'MLN', 'MTA', 'MTL', 'MX', 'NDX', 'NEXO', 'NFTX', 'NMR', 'Nsure', 'OCEAN', 'OKB', 'OMG', 'PAY', 'PERP', 'PICKLE', 'PNK', 'PNT', 'POLY', 'POWR', 'PPT', 'QASH', 'QKC', 'QNT', 'RDN', 'REN', 'REP', 'RLC', 'ROOK', 'RPL', 'RSR', 'SAI', 'SAN', 'SNT', 'SNX', 'STAKE', 'STORJ', 'sUSD', 'SUSHI', 'TEL', 'TOP', 'UBT', 'UMA', 'UNI', 'USDC', 'USDK', 'USDP', 'USDT', 'UTK', 'VERI', 'WaBi', 'WAX', 'WBTC', 'WETH', 'wNXM', 'WTC', 'YAM', 'YFI', 'ZRX']\n",
        "\n",
        "symbolListShort = ['BTC', 'ETH', 'LTC']\n",
        "\n",
        "endPoints = {\n",
        "    'Price': '/v1/metrics/market/price_usd_close',\n",
        "    'MarketCap': '/v1/metrics/market/marketcap_usd',\n",
        "    'TransactionCount': '/v1/metrics/transactions/count',\n",
        "    'ActiveAddress': '/v1/metrics/addresses/active_count',\n",
        "}"
>>>>>>> Stashed changes
      ]
    },
    {
      "cell_type": "code",
      "source": [
        "symbolList = ['BTC', 'ETH', 'LTC', 'AAVE', 'ABT', 'AMPL', 'ANT', 'ARMOR', 'BADGER', 'BAL', 'BAND', 'BAT', 'BIX', 'BNT', 'BOND', 'BRD', 'BUSD', 'BZRX', 'CELR', 'CHSB', 'CND', 'COMP', 'CREAM', 'CRO', 'CRV', 'CVC', 'CVP', 'DAI', 'DDX', 'DENT', 'DGX', 'DHT', 'DMG', 'DODO', 'DOUGH', 'DRGN', 'ELF', 'ENG', 'ENJ', 'EURS', 'FET', 'FTT', 'FUN', 'GNO', 'GUSD', 'HEGIC', 'HOT', 'HPT', 'HT', 'HUSD', 'INDEX', 'KCS', 'LAMB', 'LBA', 'LDO', 'LEO', 'LINK', 'LOOM', 'LRC', 'MANA', 'MATIC', 'MCB', 'MCO', 'MFT', 'MIR', 'MKR', 'MLN', 'MTA', 'MTL', 'MX', 'NDX', 'NEXO', 'NFTX', 'NMR', 'Nsure', 'OCEAN', 'OKB', 'OMG', 'PAY', 'PERP', 'PICKLE', 'PNK', 'PNT', 'POLY', 'POWR', 'PPT', 'QASH', 'QKC', 'QNT', 'RDN', 'REN', 'REP', 'RLC', 'ROOK', 'RPL', 'RSR', 'SAI', 'SAN', 'SNT', 'SNX', 'STAKE', 'STORJ', 'sUSD', 'SUSHI', 'TEL', 'TOP', 'UBT', 'UMA', 'UNI', 'USDC', 'USDK', 'USDP', 'USDT', 'UTK', 'VERI', 'WaBi', 'WAX', 'WBTC', 'WETH', 'wNXM', 'WTC', 'YAM', 'YFI', 'ZRX']"
      ],
      "metadata": {
        "id": "LGCeX94KAF5s"
      },
      "execution_count": 3,
      "outputs": []
    },
    {
      "cell_type": "code",
<<<<<<< Updated upstream
      "source": [
        "symbolListShort = ['BTC', 'ETH', 'LTC', 'AAVE', 'ABT', 'AMPL', 'ANT']"
      ],
=======
      "execution_count": 7,
>>>>>>> Stashed changes
      "metadata": {
        "id": "EJTUYneeCJPj"
      },
      "execution_count": 4,
      "outputs": []
    },
    {
      "cell_type": "markdown",
      "source": [
        "## Get Multiple Attributes for Multiple Coins"
      ],
      "metadata": {
        "id": "7nlgSPPTKKkP"
      }
    },
    {
      "cell_type": "code",
<<<<<<< Updated upstream
<<<<<<< Updated upstream
      "source": [
        "rootUrl = 'https://api.glassnode.com'"
      ],
=======
      "execution_count": 1,
      "metadata": {},
      "outputs": [
        {
          "ename": "NameError",
          "evalue": "name 'Fred' is not defined",
          "output_type": "error",
          "traceback": [
            "\u001b[1;31m---------------------------------------------------------------------------\u001b[0m",
            "\u001b[1;31mNameError\u001b[0m                                 Traceback (most recent call last)",
            "\u001b[1;32m<ipython-input-1-359ab422c384>\u001b[0m in \u001b[0;36m<module>\u001b[1;34m\u001b[0m\n\u001b[1;32m----> 1\u001b[1;33m \u001b[0mfred\u001b[0m \u001b[1;33m=\u001b[0m \u001b[0mFred\u001b[0m\u001b[1;33m(\u001b[0m\u001b[0mapi_key\u001b[0m\u001b[1;33m=\u001b[0m\u001b[0mFRED_API_KEY\u001b[0m\u001b[1;33m)\u001b[0m\u001b[1;33m\u001b[0m\u001b[1;33m\u001b[0m\u001b[0m\n\u001b[0m\u001b[0;32m      2\u001b[0m \u001b[0mRisk_free_rate\u001b[0m \u001b[1;33m=\u001b[0m \u001b[0mfred\u001b[0m\u001b[1;33m.\u001b[0m\u001b[0mget_series\u001b[0m\u001b[1;33m(\u001b[0m\u001b[1;34m'DGS1MO'\u001b[0m\u001b[1;33m)\u001b[0m\u001b[1;33m\u001b[0m\u001b[1;33m\u001b[0m\u001b[0m\n\u001b[0;32m      3\u001b[0m \u001b[0mRisk_free_rate\u001b[0m\u001b[1;33m.\u001b[0m\u001b[0mhead\u001b[0m\u001b[1;33m(\u001b[0m\u001b[1;33m)\u001b[0m\u001b[1;33m\u001b[0m\u001b[1;33m\u001b[0m\u001b[0m\n",
            "\u001b[1;31mNameError\u001b[0m: name 'Fred' is not defined"
=======
      "execution_count": 30,
      "metadata": {},
      "outputs": [],
      "source": [
        "fred = Fred(api_key=FRED_API_KEY)\n",
        "Risk_free_rate = fred.get_series('DGS1MO')\n",
        "Risk_free_rate = Risk_free_rate.to_frame()\n",
        "Risk_free_rate = Risk_free_rate.reset_index()\n",
        "Risk_free_rate = Risk_free_rate.rename(columns={'index':'Date', 0:'RiskFree'})"
      ]
    },
    {
      "cell_type": "code",
      "execution_count": 38,
      "metadata": {},
      "outputs": [
        {
          "data": {
            "text/plain": [
              "pandas.core.frame.DataFrame"
            ]
          },
          "execution_count": 38,
          "metadata": {},
          "output_type": "execute_result"
        }
      ],
      "source": [
        "type(Risk_free_rate)"
      ]
    },
    {
      "cell_type": "code",
      "execution_count": 37,
      "metadata": {
        "colab": {
          "base_uri": "https://localhost:8080/"
        },
        "id": "hRBQM5TVKZO8",
        "outputId": "5580094c-bf7e-4e72-d862-61b731c52c94"
      },
      "outputs": [
        {
          "name": "stdout",
          "output_type": "stream",
          "text": [
            "Start Pulling BTC's data:\n",
            "Pulling BTC's Price data\n",
            "Pulling BTC's MarketCap data\n",
            "Pulling BTC's TransactionCount data\n",
            "Pulling BTC's ActiveAddress data\n"
          ]
        },
        {
          "ename": "TypeError",
          "evalue": "object of type 'NoneType' has no len()",
          "output_type": "error",
          "traceback": [
            "\u001b[1;31m---------------------------------------------------------------------------\u001b[0m",
            "\u001b[1;31mTypeError\u001b[0m                                 Traceback (most recent call last)",
            "\u001b[1;32m<ipython-input-37-0d3baaacc218>\u001b[0m in \u001b[0;36m<module>\u001b[1;34m\u001b[0m\n\u001b[0;32m     17\u001b[0m     \u001b[0mdfName\u001b[0m \u001b[1;33m=\u001b[0m \u001b[1;34mf\"{i}_All\"\u001b[0m\u001b[1;33m\u001b[0m\u001b[1;33m\u001b[0m\u001b[0m\n\u001b[0;32m     18\u001b[0m     \u001b[0mlocals\u001b[0m\u001b[1;33m(\u001b[0m\u001b[1;33m)\u001b[0m\u001b[1;33m[\u001b[0m\u001b[0mdfName\u001b[0m\u001b[1;33m]\u001b[0m \u001b[1;33m=\u001b[0m \u001b[0mreduce\u001b[0m\u001b[1;33m(\u001b[0m\u001b[1;32mlambda\u001b[0m  \u001b[0mleft\u001b[0m\u001b[1;33m,\u001b[0m\u001b[0mright\u001b[0m\u001b[1;33m:\u001b[0m \u001b[0mpd\u001b[0m\u001b[1;33m.\u001b[0m\u001b[0mmerge\u001b[0m\u001b[1;33m(\u001b[0m\u001b[0mleft\u001b[0m\u001b[1;33m,\u001b[0m\u001b[0mright\u001b[0m\u001b[1;33m,\u001b[0m \u001b[0mon\u001b[0m\u001b[1;33m=\u001b[0m\u001b[1;34m'Date'\u001b[0m\u001b[1;33m,\u001b[0m \u001b[0mhow\u001b[0m\u001b[1;33m=\u001b[0m\u001b[1;34m'inner'\u001b[0m\u001b[1;33m)\u001b[0m\u001b[1;33m,\u001b[0m \u001b[0mlocals\u001b[0m\u001b[1;33m(\u001b[0m\u001b[1;33m)\u001b[0m\u001b[1;33m[\u001b[0m\u001b[0mframeName\u001b[0m\u001b[1;33m]\u001b[0m\u001b[1;33m)\u001b[0m\u001b[1;33m\u001b[0m\u001b[1;33m\u001b[0m\u001b[0m\n\u001b[1;32m---> 19\u001b[1;33m     \u001b[0mlocals\u001b[0m\u001b[1;33m(\u001b[0m\u001b[1;33m)\u001b[0m\u001b[1;33m[\u001b[0m\u001b[0mdfName\u001b[0m\u001b[1;33m]\u001b[0m \u001b[1;33m=\u001b[0m \u001b[0mlocals\u001b[0m\u001b[1;33m(\u001b[0m\u001b[1;33m)\u001b[0m\u001b[1;33m[\u001b[0m\u001b[0mdfName\u001b[0m\u001b[1;33m]\u001b[0m\u001b[1;33m.\u001b[0m\u001b[0mmerge\u001b[0m\u001b[1;33m(\u001b[0m\u001b[0mRisk_free_rate\u001b[0m\u001b[1;33m,\u001b[0m \u001b[0mleft_on\u001b[0m\u001b[1;33m=\u001b[0m\u001b[1;34m'Date'\u001b[0m\u001b[1;33m,\u001b[0m \u001b[0mhow\u001b[0m\u001b[1;33m=\u001b[0m\u001b[1;34m'inner'\u001b[0m\u001b[1;33m)\u001b[0m\u001b[1;33m\u001b[0m\u001b[1;33m\u001b[0m\u001b[0m\n\u001b[0m\u001b[0;32m     20\u001b[0m \u001b[1;33m\u001b[0m\u001b[0m\n\u001b[0;32m     21\u001b[0m     \u001b[0mprint\u001b[0m\u001b[1;33m(\u001b[0m\u001b[1;34mf\"{i} data successfully pulled\\n\"\u001b[0m\u001b[1;33m)\u001b[0m\u001b[1;33m\u001b[0m\u001b[1;33m\u001b[0m\u001b[0m\n",
            "\u001b[1;32mC:\\ZacharyYang\\lib\\site-packages\\pandas\\core\\frame.py\u001b[0m in \u001b[0;36mmerge\u001b[1;34m(self, right, how, on, left_on, right_on, left_index, right_index, sort, suffixes, copy, indicator, validate)\u001b[0m\n\u001b[0;32m   7944\u001b[0m         \u001b[1;32mfrom\u001b[0m \u001b[0mpandas\u001b[0m\u001b[1;33m.\u001b[0m\u001b[0mcore\u001b[0m\u001b[1;33m.\u001b[0m\u001b[0mreshape\u001b[0m\u001b[1;33m.\u001b[0m\u001b[0mmerge\u001b[0m \u001b[1;32mimport\u001b[0m \u001b[0mmerge\u001b[0m\u001b[1;33m\u001b[0m\u001b[1;33m\u001b[0m\u001b[0m\n\u001b[0;32m   7945\u001b[0m \u001b[1;33m\u001b[0m\u001b[0m\n\u001b[1;32m-> 7946\u001b[1;33m         return merge(\n\u001b[0m\u001b[0;32m   7947\u001b[0m             \u001b[0mself\u001b[0m\u001b[1;33m,\u001b[0m\u001b[1;33m\u001b[0m\u001b[1;33m\u001b[0m\u001b[0m\n\u001b[0;32m   7948\u001b[0m             \u001b[0mright\u001b[0m\u001b[1;33m,\u001b[0m\u001b[1;33m\u001b[0m\u001b[1;33m\u001b[0m\u001b[0m\n",
            "\u001b[1;32mC:\\ZacharyYang\\lib\\site-packages\\pandas\\core\\reshape\\merge.py\u001b[0m in \u001b[0;36mmerge\u001b[1;34m(left, right, how, on, left_on, right_on, left_index, right_index, sort, suffixes, copy, indicator, validate)\u001b[0m\n\u001b[0;32m     72\u001b[0m     \u001b[0mvalidate\u001b[0m\u001b[1;33m=\u001b[0m\u001b[1;32mNone\u001b[0m\u001b[1;33m,\u001b[0m\u001b[1;33m\u001b[0m\u001b[1;33m\u001b[0m\u001b[0m\n\u001b[0;32m     73\u001b[0m ) -> \"DataFrame\":\n\u001b[1;32m---> 74\u001b[1;33m     op = _MergeOperation(\n\u001b[0m\u001b[0;32m     75\u001b[0m         \u001b[0mleft\u001b[0m\u001b[1;33m,\u001b[0m\u001b[1;33m\u001b[0m\u001b[1;33m\u001b[0m\u001b[0m\n\u001b[0;32m     76\u001b[0m         \u001b[0mright\u001b[0m\u001b[1;33m,\u001b[0m\u001b[1;33m\u001b[0m\u001b[1;33m\u001b[0m\u001b[0m\n",
            "\u001b[1;32mC:\\ZacharyYang\\lib\\site-packages\\pandas\\core\\reshape\\merge.py\u001b[0m in \u001b[0;36m__init__\u001b[1;34m(self, left, right, how, on, left_on, right_on, axis, left_index, right_index, sort, suffixes, copy, indicator, validate)\u001b[0m\n\u001b[0;32m    643\u001b[0m             \u001b[0mwarnings\u001b[0m\u001b[1;33m.\u001b[0m\u001b[0mwarn\u001b[0m\u001b[1;33m(\u001b[0m\u001b[0mmsg\u001b[0m\u001b[1;33m,\u001b[0m \u001b[0mUserWarning\u001b[0m\u001b[1;33m)\u001b[0m\u001b[1;33m\u001b[0m\u001b[1;33m\u001b[0m\u001b[0m\n\u001b[0;32m    644\u001b[0m \u001b[1;33m\u001b[0m\u001b[0m\n\u001b[1;32m--> 645\u001b[1;33m         \u001b[0mself\u001b[0m\u001b[1;33m.\u001b[0m\u001b[0m_validate_specification\u001b[0m\u001b[1;33m(\u001b[0m\u001b[1;33m)\u001b[0m\u001b[1;33m\u001b[0m\u001b[1;33m\u001b[0m\u001b[0m\n\u001b[0m\u001b[0;32m    646\u001b[0m \u001b[1;33m\u001b[0m\u001b[0m\n\u001b[0;32m    647\u001b[0m         \u001b[1;31m# note this function has side effects\u001b[0m\u001b[1;33m\u001b[0m\u001b[1;33m\u001b[0m\u001b[1;33m\u001b[0m\u001b[0m\n",
            "\u001b[1;32mC:\\ZacharyYang\\lib\\site-packages\\pandas\\core\\reshape\\merge.py\u001b[0m in \u001b[0;36m_validate_specification\u001b[1;34m(self)\u001b[0m\n\u001b[0;32m   1247\u001b[0m                     )\n\u001b[0;32m   1248\u001b[0m                 \u001b[0mself\u001b[0m\u001b[1;33m.\u001b[0m\u001b[0mleft_on\u001b[0m \u001b[1;33m=\u001b[0m \u001b[1;33m[\u001b[0m\u001b[1;32mNone\u001b[0m\u001b[1;33m]\u001b[0m \u001b[1;33m*\u001b[0m \u001b[0mn\u001b[0m\u001b[1;33m\u001b[0m\u001b[1;33m\u001b[0m\u001b[0m\n\u001b[1;32m-> 1249\u001b[1;33m         \u001b[1;32mif\u001b[0m \u001b[0mlen\u001b[0m\u001b[1;33m(\u001b[0m\u001b[0mself\u001b[0m\u001b[1;33m.\u001b[0m\u001b[0mright_on\u001b[0m\u001b[1;33m)\u001b[0m \u001b[1;33m!=\u001b[0m \u001b[0mlen\u001b[0m\u001b[1;33m(\u001b[0m\u001b[0mself\u001b[0m\u001b[1;33m.\u001b[0m\u001b[0mleft_on\u001b[0m\u001b[1;33m)\u001b[0m\u001b[1;33m:\u001b[0m\u001b[1;33m\u001b[0m\u001b[1;33m\u001b[0m\u001b[0m\n\u001b[0m\u001b[0;32m   1250\u001b[0m             \u001b[1;32mraise\u001b[0m \u001b[0mValueError\u001b[0m\u001b[1;33m(\u001b[0m\u001b[1;34m\"len(right_on) must equal len(left_on)\"\u001b[0m\u001b[1;33m)\u001b[0m\u001b[1;33m\u001b[0m\u001b[1;33m\u001b[0m\u001b[0m\n\u001b[0;32m   1251\u001b[0m \u001b[1;33m\u001b[0m\u001b[0m\n",
            "\u001b[1;31mTypeError\u001b[0m: object of type 'NoneType' has no len()"
>>>>>>> Stashed changes
          ]
        }
      ],
      "source": [
<<<<<<< Updated upstream
        "fred = Fred(api_key=FRED_API_KEY)\n",
        "Risk_free_rate = fred.get_series('DGS1MO')\n",
        "Risk_free_rate.head()"
=======
        "### Get all features(listed in endPoints) of all coins(listed in symbolListShort) \n",
        "\n",
        "from functools import reduce\n",
        "\n",
        "for i in symbolListShort:\n",
        "    print(f\"Start Pulling {i}'s data:\")\n",
        "\n",
        "    # Preparation for merging\n",
        "    frameName = f\"{i}_Frames\"\n",
        "    locals()[frameName] = []\n",
        "\n",
        "    # Get data\n",
        "    for j in list(endPoints.keys()):\n",
        "        locals()[frameName].append(PullData(i, j))\n",
        "\n",
        "    # Merge to single dataframe\n",
        "    dfName = f\"{i}_All\"\n",
        "    locals()[dfName] = reduce(lambda  left,right: pd.merge(left,right, on='Date', how='inner'), locals()[frameName])\n",
        "    locals()[dfName] = locals()[dfName].merge(Risk_free_rate, left_on='Date', how='inner')\n",
        "\n",
        "    print(f\"{i} data successfully pulled\\n\")\n",
        "print('\\nALL DATA SUCCESSFULLY PULLED!')"
>>>>>>> Stashed changes
      ]
    },
    {
      "cell_type": "code",
<<<<<<< Updated upstream
      "execution_count": 4,
>>>>>>> Stashed changes
      "metadata": {
        "id": "P9u2JUg4JJ0G"
      },
      "execution_count": 5,
      "outputs": []
    },
    {
      "cell_type": "code",
      "source": [
        "endPoints = {\n",
        "    'Price' : '/v1/metrics/market/price_usd_close',\n",
        "    'MarketCap' : '/v1/metrics/market/marketcap_usd',\n",
        "    'TransactionCount' :'/v1/metrics/transactions/count',\n",
        "    'ActiveAddress': '/v1/metrics/addresses/active_count',\n",
        "}"
      ],
=======
      "execution_count": 12,
>>>>>>> Stashed changes
      "metadata": {
        "id": "Ga-VZHKvJLm1"
      },
<<<<<<< Updated upstream
      "execution_count": 30,
      "outputs": []
    },
    {
      "cell_type": "code",
      "source": [
        "for i in symbolListShort:\n",
        "  for j in list(endPoints.keys()):\n",
        "    reqUrl = rootUrl + endPoints[j]\n",
        "    res = requests.get(reqUrl,\n",
        "                       params={'a': i, 'api_key': API_KEY})\n",
        "    name=str(i)+'_'+str(j)\n",
        "    locals()[name] = pd.read_json(res.text, convert_dates=['t'])\n",
        "  print(str(i) + ' data successfully pulled')\n",
        "print('\\nALL DATA SUCCESSFULLY PULLED!')"
=======
      "outputs": [
        {
          "data": {
            "text/html": [
              "<div>\n",
              "<style scoped>\n",
              "    .dataframe tbody tr th:only-of-type {\n",
              "        vertical-align: middle;\n",
              "    }\n",
              "\n",
              "    .dataframe tbody tr th {\n",
              "        vertical-align: top;\n",
              "    }\n",
              "\n",
              "    .dataframe thead th {\n",
              "        text-align: right;\n",
              "    }\n",
              "</style>\n",
              "<table border=\"1\" class=\"dataframe\">\n",
              "  <thead>\n",
              "    <tr style=\"text-align: right;\">\n",
              "      <th></th>\n",
              "      <th>Date</th>\n",
              "      <th>Price</th>\n",
              "      <th>MarketCap</th>\n",
              "      <th>TransactionCount</th>\n",
              "      <th>ActiveAddress</th>\n",
              "    </tr>\n",
              "  </thead>\n",
              "  <tbody>\n",
              "    <tr>\n",
              "      <th>0</th>\n",
              "      <td>2010-07-17</td>\n",
              "      <td>0.049510</td>\n",
              "      <td>1.702649e+05</td>\n",
              "      <td>235</td>\n",
              "      <td>635</td>\n",
              "    </tr>\n",
              "    <tr>\n",
              "      <th>1</th>\n",
              "      <td>2010-07-18</td>\n",
              "      <td>0.085840</td>\n",
              "      <td>2.959420e+05</td>\n",
              "      <td>248</td>\n",
              "      <td>757</td>\n",
              "    </tr>\n",
              "    <tr>\n",
              "      <th>2</th>\n",
              "      <td>2010-07-19</td>\n",
              "      <td>0.080800</td>\n",
              "      <td>2.792690e+05</td>\n",
              "      <td>354</td>\n",
              "      <td>808</td>\n",
              "    </tr>\n",
              "    <tr>\n",
              "      <th>3</th>\n",
              "      <td>2010-07-20</td>\n",
              "      <td>0.074733</td>\n",
              "      <td>2.589772e+05</td>\n",
              "      <td>413</td>\n",
              "      <td>728</td>\n",
              "    </tr>\n",
              "    <tr>\n",
              "      <th>4</th>\n",
              "      <td>2010-07-21</td>\n",
              "      <td>0.079210</td>\n",
              "      <td>2.753102e+05</td>\n",
              "      <td>256</td>\n",
              "      <td>621</td>\n",
              "    </tr>\n",
              "    <tr>\n",
              "      <th>...</th>\n",
              "      <td>...</td>\n",
              "      <td>...</td>\n",
              "      <td>...</td>\n",
              "      <td>...</td>\n",
              "      <td>...</td>\n",
              "    </tr>\n",
              "    <tr>\n",
              "      <th>4290</th>\n",
              "      <td>2022-04-15</td>\n",
              "      <td>40546.284623</td>\n",
              "      <td>7.708954e+11</td>\n",
              "      <td>216079</td>\n",
              "      <td>891111</td>\n",
              "    </tr>\n",
              "    <tr>\n",
              "      <th>4291</th>\n",
              "      <td>2022-04-16</td>\n",
              "      <td>40424.483293</td>\n",
              "      <td>7.686185e+11</td>\n",
              "      <td>225352</td>\n",
              "      <td>796255</td>\n",
              "    </tr>\n",
              "    <tr>\n",
              "      <th>4292</th>\n",
              "      <td>2022-04-17</td>\n",
              "      <td>39722.815414</td>\n",
              "      <td>7.553182e+11</td>\n",
              "      <td>207159</td>\n",
              "      <td>749143</td>\n",
              "    </tr>\n",
              "    <tr>\n",
              "      <th>4293</th>\n",
              "      <td>2022-04-18</td>\n",
              "      <td>40830.991984</td>\n",
              "      <td>7.764240e+11</td>\n",
              "      <td>246287</td>\n",
              "      <td>927618</td>\n",
              "    </tr>\n",
              "    <tr>\n",
              "      <th>4294</th>\n",
              "      <td>2022-04-19</td>\n",
              "      <td>41502.282479</td>\n",
              "      <td>7.892212e+11</td>\n",
              "      <td>273044</td>\n",
              "      <td>945350</td>\n",
              "    </tr>\n",
              "  </tbody>\n",
              "</table>\n",
              "<p>4295 rows × 5 columns</p>\n",
              "</div>"
            ],
            "text/plain": [
              "           Date         Price     MarketCap  TransactionCount  ActiveAddress\n",
              "0    2010-07-17      0.049510  1.702649e+05               235            635\n",
              "1    2010-07-18      0.085840  2.959420e+05               248            757\n",
              "2    2010-07-19      0.080800  2.792690e+05               354            808\n",
              "3    2010-07-20      0.074733  2.589772e+05               413            728\n",
              "4    2010-07-21      0.079210  2.753102e+05               256            621\n",
              "...         ...           ...           ...               ...            ...\n",
              "4290 2022-04-15  40546.284623  7.708954e+11            216079         891111\n",
              "4291 2022-04-16  40424.483293  7.686185e+11            225352         796255\n",
              "4292 2022-04-17  39722.815414  7.553182e+11            207159         749143\n",
              "4293 2022-04-18  40830.991984  7.764240e+11            246287         927618\n",
              "4294 2022-04-19  41502.282479  7.892212e+11            273044         945350\n",
              "\n",
              "[4295 rows x 5 columns]"
            ]
          },
          "execution_count": 12,
          "metadata": {},
          "output_type": "execute_result"
        }
>>>>>>> Stashed changes
      ],
      "metadata": {
        "id": "hRBQM5TVKZO8"
      },
      "execution_count": null,
      "outputs": []
    },
    {
      "cell_type": "code",
      "source": [
<<<<<<< Updated upstream
        "BTC_Price.head()"
      ],
      "metadata": {
        "id": "C5Cfbd3nLkaT"
      },
      "execution_count": null,
      "outputs": []
=======
        "BTC_All"
      ]
>>>>>>> Stashed changes
    },
    {
      "cell_type": "code",
      "source": [
        "BTC_MarketCap.head()"
      ],
      "metadata": {
        "id": "vqVQizFKLn7j"
      },
      "execution_count": null,
      "outputs": []
    },
    {
      "cell_type": "code",
      "source": [
        "BTC_ActiveAddress"
      ],
      "metadata": {
        "id": "jTuPZBqtgfJD"
      },
      "execution_count": null,
      "outputs": []
    },
    {
      "cell_type": "code",
      "source": [
        ""
      ],
      "metadata": {
        "id": "CAqCY9XUhDgh"
      },
      "execution_count": null,
      "outputs": []
    }
  ]
}