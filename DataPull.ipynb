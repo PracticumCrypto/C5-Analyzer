{
  "cells": [
    {
      "cell_type": "markdown",
      "metadata": {
        "id": "lh68fHXe8UTs"
      },
      "source": [
        "## Fixed Data:"
      ]
    },
    {
      "cell_type": "code",
      "execution_count": 21,
      "metadata": {
        "colab": {
          "base_uri": "https://localhost:8080/"
        },
        "id": "jjOiSHrVIxNU",
        "outputId": "8e1c6393-a343-4f83-f547-ceb3700dd420"
      },
      "outputs": [
        {
          "name": "stdout",
          "output_type": "stream",
          "text": [
            "Requirement already satisfied: fredapi in c:\\zacharyyang\\lib\\site-packages (0.5.0)\n",
            "Requirement already satisfied: pandas in c:\\zacharyyang\\lib\\site-packages (from fredapi) (1.1.3)\n",
            "Requirement already satisfied: python-dateutil>=2.7.3 in c:\\zacharyyang\\lib\\site-packages (from pandas->fredapi) (2.8.1)\n",
            "Requirement already satisfied: pytz>=2017.2 in c:\\zacharyyang\\lib\\site-packages (from pandas->fredapi) (2020.1)\n",
            "Note: you may need to restart the kernel to use updated packages.Requirement already satisfied: numpy>=1.15.4 in c:\\zacharyyang\\lib\\site-packages (from pandas->fredapi) (1.19.2)\n",
            "Requirement already satisfied: six>=1.5 in c:\\zacharyyang\\lib\\site-packages (from python-dateutil>=2.7.3->pandas->fredapi) (1.15.0)\n",
            "\n"
          ]
        }
      ],
      "source": [
        "pip install fredapi"
      ]
    },
    {
      "cell_type": "code",
      "execution_count": 22,
      "metadata": {
        "id": "xRHrfZma_zRz"
      },
      "outputs": [],
      "source": [
        "import json\n",
        "import numpy as np\n",
        "import requests\n",
        "import pandas as pd\n",
        "from fredapi import Fred\n",
        "\n",
        "API_KEY = '1vGb0FOsg2hEIGrEhpueLCcWd1Y'\n",
        "FRED_API_KEY = 'b13a905b98b5dfc1f3910d6a0d875ae3'\n",
        "\n",
        "rootUrl = 'https://api.glassnode.com'\n",
        "\n",
        "symbolList = ['BTC', 'ETH', 'LTC', 'AAVE', 'ABT', 'AMPL', 'ANT', 'ARMOR', 'BADGER', 'BAL', 'BAND', 'BAT', 'BIX', 'BNT', 'BOND', 'BRD', 'BUSD', 'BZRX', 'CELR', 'CHSB', 'CND', 'COMP', 'CREAM', 'CRO', 'CRV', 'CVC', 'CVP', 'DAI', 'DDX', 'DENT', 'DGX', 'DHT', 'DMG', 'DODO', 'DOUGH', 'DRGN', 'ELF', 'ENG', 'ENJ', 'EURS', 'FET', 'FTT', 'FUN', 'GNO', 'GUSD', 'HEGIC', 'HOT', 'HPT', 'HT', 'HUSD', 'INDEX', 'KCS', 'LAMB', 'LBA', 'LDO', 'LEO', 'LINK', 'LOOM', 'LRC', 'MANA', 'MATIC',\n",
        "              'MCB', 'MCO', 'MFT', 'MIR', 'MKR', 'MLN', 'MTA', 'MTL', 'MX', 'NDX', 'NEXO', 'NFTX', 'NMR', 'Nsure', 'OCEAN', 'OKB', 'OMG', 'PAY', 'PERP', 'PICKLE', 'PNK', 'PNT', 'POLY', 'POWR', 'PPT', 'QASH', 'QKC', 'QNT', 'RDN', 'REN', 'REP', 'RLC', 'ROOK', 'RPL', 'RSR', 'SAI', 'SAN', 'SNT', 'SNX', 'STAKE', 'STORJ', 'sUSD', 'SUSHI', 'TEL', 'TOP', 'UBT', 'UMA', 'UNI', 'USDC', 'USDK', 'USDP', 'USDT', 'UTK', 'VERI', 'WaBi', 'WAX', 'WBTC', 'WETH', 'wNXM', 'WTC', 'YAM', 'YFI', 'ZRX']\n",
        "\n",
        "symbolListShort = ['BTC', 'ETH', 'LTC']\n",
        "\n",
        "endPoints = {\n",
        "    'Price': '/v1/metrics/market/price_usd_close',\n",
        "    'MarketCap': '/v1/metrics/market/marketcap_usd',\n",
        "    'TransactionCount': '/v1/metrics/transactions/count',\n",
        "    'ActiveAddress': '/v1/metrics/addresses/active_count',\n",
        "}"
      ]
    },
    {
      "cell_type": "code",
      "execution_count": 23,
      "metadata": {
        "id": "jKTjV1E9IxNX"
      },
      "outputs": [],
      "source": [
        "fred = Fred(api_key=FRED_API_KEY)\n",
        "Risk_free_rate = fred.get_series('DGS1MO')\n",
        "Risk_free_rate = Risk_free_rate.to_frame()\n",
        "Risk_free_rate = Risk_free_rate.reset_index()\n",
        "Risk_free_rate = Risk_free_rate.rename(columns={'index':'Date', 0:'RiskFree'})"
      ]
    },
    {
      "cell_type": "markdown",
      "metadata": {
        "id": "7nlgSPPTKKkP"
      },
      "source": [
        "## Get Multiple Attributes for Multiple Coins:"
      ]
    },
    {
      "cell_type": "code",
      "execution_count": 24,
      "metadata": {
        "id": "NoAHRVf366me"
      },
      "outputs": [],
      "source": [
        "### Define a function to pull data according to input values(coin, feature)\n",
        "### After running this method, it should return pulled data, and also store it in memory named as \"coin_feature\"\n",
        "\n",
        "def PullData(coin, feature):\n",
        "    print(f\"Pulling {coin}'s {feature} data\")\n",
        "\n",
        "    # Assemble full request url and get responses:\n",
        "    reqUrl = rootUrl + endPoints[feature]\n",
        "    res = requests.get(reqUrl,\n",
        "                       params={'a': coin, 'api_key': API_KEY, 'i':'1w'})\n",
        "    data_raw = pd.read_json(res.text, convert_dates=['t'])\n",
        "\n",
        "    # Rename column \"v\" according to features\n",
        "    data = data_raw.rename(columns={\"v\" : f\"{feature}\", 't':'Date'})\n",
        "\n",
        "    # Turn renamed dataframe into a global variable for future using\n",
        "    name = f\"{coin}_{feature}\"\n",
        "    globals()[name] = data\n",
        "\n",
        "    # Return a dataframe\n",
        "    return data"
      ]
    },
    {
      "cell_type": "code",
      "execution_count": 25,
      "metadata": {
        "colab": {
          "base_uri": "https://localhost:8080/"
        },
        "id": "hRBQM5TVKZO8",
        "outputId": "63911f86-3c92-4bbf-d87b-238b63730b23"
      },
      "outputs": [
        {
          "name": "stdout",
          "output_type": "stream",
          "text": [
            "Start Pulling BTC's data:\n",
            "Pulling BTC's Price data\n",
            "Pulling BTC's MarketCap data\n",
            "Pulling BTC's TransactionCount data\n",
            "Pulling BTC's ActiveAddress data\n",
            "Merging Dataframes...\n",
            "BTC data successfully pulled\n",
            "\n",
            "Start Pulling ETH's data:\n",
            "Pulling ETH's Price data\n",
            "Pulling ETH's MarketCap data\n",
            "Pulling ETH's TransactionCount data\n",
            "Pulling ETH's ActiveAddress data\n",
            "Merging Dataframes...\n",
            "ETH data successfully pulled\n",
            "\n",
            "Start Pulling LTC's data:\n",
            "Pulling LTC's Price data\n",
            "Pulling LTC's MarketCap data\n",
            "Pulling LTC's TransactionCount data\n",
            "Pulling LTC's ActiveAddress data\n",
            "Merging Dataframes...\n",
            "LTC data successfully pulled\n",
            "\n",
            "\n",
            "ALL DATA SUCCESSFULLY PULLED!\n"
          ]
        }
      ],
      "source": [
        "### Get all features(listed in endPoints) of all coins(listed in symbolListShort) \n",
        "\n",
        "from functools import reduce\n",
        "\n",
        "for i in symbolListShort:\n",
        "    print(f\"Start Pulling {i}'s data:\")\n",
        "\n",
        "    # Preparation for merging\n",
        "    frameName = f\"{i}_Frames\"\n",
        "    locals()[frameName] = []\n",
        "\n",
        "    # Get data\n",
        "    for j in list(endPoints.keys()):\n",
        "        locals()[frameName].append(PullData(i, j))\n",
        "\n",
        "    # Merge to single dataframe\n",
        "    print('Merging Dataframes...')\n",
        "    dfName = f\"{i}_Raw\"\n",
        "    locals()[dfName] = reduce(lambda  left,right: pd.merge(left,right, on='Date', how='inner'), locals()[frameName])\n",
        "    locals()[dfName] = locals()[dfName].merge(Risk_free_rate)\n",
        "\n",
        "    print(f\"{i} data successfully pulled\\n\")\n",
        "print('\\nALL DATA SUCCESSFULLY PULLED!')"
      ]
    },
    {
      "cell_type": "code",
      "execution_count": null,
      "metadata": {},
      "outputs": [],
      "source": [
        "for i in symbolListShort:\n",
        "    frameName = f\"{i}_Frames\"\n",
        "    locals()[frameName] = []    "
      ]
    },
    {
      "cell_type": "code",
      "execution_count": 27,
      "metadata": {},
      "outputs": [],
      "source": [
        "LTC1 = LTC_All.copy()\n",
        "LTC2 = LTC_All.copy()\n",
        "LTC2 = LTC2.shift()"
      ]
    },
    {
      "cell_type": "code",
      "execution_count": 28,
      "metadata": {},
      "outputs": [
        {
          "data": {
            "text/html": [
              "<div>\n",
              "<style scoped>\n",
              "    .dataframe tbody tr th:only-of-type {\n",
              "        vertical-align: middle;\n",
              "    }\n",
              "\n",
              "    .dataframe tbody tr th {\n",
              "        vertical-align: top;\n",
              "    }\n",
              "\n",
              "    .dataframe thead th {\n",
              "        text-align: right;\n",
              "    }\n",
              "</style>\n",
              "<table border=\"1\" class=\"dataframe\">\n",
              "  <thead>\n",
              "    <tr style=\"text-align: right;\">\n",
              "      <th></th>\n",
              "      <th>Date</th>\n",
              "      <th>Price</th>\n",
              "      <th>MarketCap</th>\n",
              "      <th>TransactionCount</th>\n",
              "      <th>ActiveAddress</th>\n",
              "      <th>RiskFree</th>\n",
              "    </tr>\n",
              "  </thead>\n",
              "  <tbody>\n",
              "    <tr>\n",
              "      <th>0</th>\n",
              "      <td>2013-05-13</td>\n",
              "      <td>3.149100</td>\n",
              "      <td>5.601635e+07</td>\n",
              "      <td>45636</td>\n",
              "      <td>63963</td>\n",
              "      <td>0.02</td>\n",
              "    </tr>\n",
              "    <tr>\n",
              "      <th>1</th>\n",
              "      <td>2013-05-20</td>\n",
              "      <td>3.150000</td>\n",
              "      <td>5.668063e+07</td>\n",
              "      <td>40096</td>\n",
              "      <td>57330</td>\n",
              "      <td>0.01</td>\n",
              "    </tr>\n",
              "    <tr>\n",
              "      <th>2</th>\n",
              "      <td>2013-05-27</td>\n",
              "      <td>2.830000</td>\n",
              "      <td>5.150006e+07</td>\n",
              "      <td>34165</td>\n",
              "      <td>49767</td>\n",
              "      <td>NaN</td>\n",
              "    </tr>\n",
              "    <tr>\n",
              "      <th>3</th>\n",
              "      <td>2013-06-03</td>\n",
              "      <td>2.348333</td>\n",
              "      <td>4.322178e+07</td>\n",
              "      <td>32639</td>\n",
              "      <td>48009</td>\n",
              "      <td>0.03</td>\n",
              "    </tr>\n",
              "    <tr>\n",
              "      <th>4</th>\n",
              "      <td>2013-06-10</td>\n",
              "      <td>2.150000</td>\n",
              "      <td>3.999957e+07</td>\n",
              "      <td>31174</td>\n",
              "      <td>49237</td>\n",
              "      <td>0.04</td>\n",
              "    </tr>\n",
              "  </tbody>\n",
              "</table>\n",
              "</div>"
            ],
            "text/plain": [
              "        Date     Price     MarketCap  TransactionCount  ActiveAddress  \\\n",
              "0 2013-05-13  3.149100  5.601635e+07             45636          63963   \n",
              "1 2013-05-20  3.150000  5.668063e+07             40096          57330   \n",
              "2 2013-05-27  2.830000  5.150006e+07             34165          49767   \n",
              "3 2013-06-03  2.348333  4.322178e+07             32639          48009   \n",
              "4 2013-06-10  2.150000  3.999957e+07             31174          49237   \n",
              "\n",
              "   RiskFree  \n",
              "0      0.02  \n",
              "1      0.01  \n",
              "2       NaN  \n",
              "3      0.03  \n",
              "4      0.04  "
            ]
          },
          "execution_count": 28,
          "metadata": {},
          "output_type": "execute_result"
        }
      ],
      "source": [
        "LTC1.head()"
      ]
    },
    {
      "cell_type": "code",
      "execution_count": 29,
      "metadata": {},
      "outputs": [
        {
          "data": {
            "text/plain": [
              "(467, 6)"
            ]
          },
          "execution_count": 29,
          "metadata": {},
          "output_type": "execute_result"
        }
      ],
      "source": [
        "LTC2.shape"
      ]
    },
    {
      "cell_type": "code",
      "execution_count": 30,
      "metadata": {},
      "outputs": [
        {
          "data": {
            "text/plain": [
              "(467, 6)"
            ]
          },
          "execution_count": 30,
          "metadata": {},
          "output_type": "execute_result"
        }
      ],
      "source": [
        "LTC1.shape"
      ]
    },
    {
      "cell_type": "code",
      "execution_count": 31,
      "metadata": {},
      "outputs": [],
      "source": [
        "LTC_All['NET'] = np.log(LTC1['ActiveAddress'])-np.log(LTC2['ActiveAddress'])"
      ]
    },
    {
      "cell_type": "code",
      "execution_count": 34,
      "metadata": {},
      "outputs": [
        {
          "data": {
            "text/html": [
              "<div>\n",
              "<style scoped>\n",
              "    .dataframe tbody tr th:only-of-type {\n",
              "        vertical-align: middle;\n",
              "    }\n",
              "\n",
              "    .dataframe tbody tr th {\n",
              "        vertical-align: top;\n",
              "    }\n",
              "\n",
              "    .dataframe thead th {\n",
              "        text-align: right;\n",
              "    }\n",
              "</style>\n",
              "<table border=\"1\" class=\"dataframe\">\n",
              "  <thead>\n",
              "    <tr style=\"text-align: right;\">\n",
              "      <th></th>\n",
              "      <th>Date</th>\n",
              "      <th>Price</th>\n",
              "      <th>MarketCap</th>\n",
              "      <th>TransactionCount</th>\n",
              "      <th>ActiveAddress</th>\n",
              "      <th>RiskFree</th>\n",
              "      <th>NET</th>\n",
              "    </tr>\n",
              "  </thead>\n",
              "  <tbody>\n",
              "    <tr>\n",
              "      <th>0</th>\n",
              "      <td>2013-05-13</td>\n",
              "      <td>3.149100</td>\n",
              "      <td>5.601635e+07</td>\n",
              "      <td>45636</td>\n",
              "      <td>63963</td>\n",
              "      <td>0.02</td>\n",
              "      <td>NaN</td>\n",
              "    </tr>\n",
              "    <tr>\n",
              "      <th>1</th>\n",
              "      <td>2013-05-20</td>\n",
              "      <td>3.150000</td>\n",
              "      <td>5.668063e+07</td>\n",
              "      <td>40096</td>\n",
              "      <td>57330</td>\n",
              "      <td>0.01</td>\n",
              "      <td>-0.109481</td>\n",
              "    </tr>\n",
              "    <tr>\n",
              "      <th>2</th>\n",
              "      <td>2013-05-27</td>\n",
              "      <td>2.830000</td>\n",
              "      <td>5.150006e+07</td>\n",
              "      <td>34165</td>\n",
              "      <td>49767</td>\n",
              "      <td>NaN</td>\n",
              "      <td>-0.141472</td>\n",
              "    </tr>\n",
              "    <tr>\n",
              "      <th>3</th>\n",
              "      <td>2013-06-03</td>\n",
              "      <td>2.348333</td>\n",
              "      <td>4.322178e+07</td>\n",
              "      <td>32639</td>\n",
              "      <td>48009</td>\n",
              "      <td>0.03</td>\n",
              "      <td>-0.035964</td>\n",
              "    </tr>\n",
              "    <tr>\n",
              "      <th>4</th>\n",
              "      <td>2013-06-10</td>\n",
              "      <td>2.150000</td>\n",
              "      <td>3.999957e+07</td>\n",
              "      <td>31174</td>\n",
              "      <td>49237</td>\n",
              "      <td>0.04</td>\n",
              "      <td>0.025257</td>\n",
              "    </tr>\n",
              "  </tbody>\n",
              "</table>\n",
              "</div>"
            ],
            "text/plain": [
              "        Date     Price     MarketCap  TransactionCount  ActiveAddress  \\\n",
              "0 2013-05-13  3.149100  5.601635e+07             45636          63963   \n",
              "1 2013-05-20  3.150000  5.668063e+07             40096          57330   \n",
              "2 2013-05-27  2.830000  5.150006e+07             34165          49767   \n",
              "3 2013-06-03  2.348333  4.322178e+07             32639          48009   \n",
              "4 2013-06-10  2.150000  3.999957e+07             31174          49237   \n",
              "\n",
              "   RiskFree       NET  \n",
              "0      0.02       NaN  \n",
              "1      0.01 -0.109481  \n",
              "2       NaN -0.141472  \n",
              "3      0.03 -0.035964  \n",
              "4      0.04  0.025257  "
            ]
          },
          "execution_count": 34,
          "metadata": {},
          "output_type": "execute_result"
        }
      ],
      "source": [
        "LTC_All.head()"
      ]
    },
    {
      "cell_type": "code",
      "execution_count": null,
      "metadata": {},
      "outputs": [],
      "source": []
    }
  ],
  "metadata": {
    "colab": {
      "name": "DataPullZ.ipynb",
      "provenance": []
    },
    "kernelspec": {
      "display_name": "Python 3",
      "name": "python3"
    },
    "language_info": {
      "codemirror_mode": {
        "name": "ipython",
        "version": 3
      },
      "file_extension": ".py",
      "mimetype": "text/x-python",
      "name": "python",
      "nbconvert_exporter": "python",
      "pygments_lexer": "ipython3",
      "version": "3.8.5"
    }
  },
  "nbformat": 4,
  "nbformat_minor": 0
}
