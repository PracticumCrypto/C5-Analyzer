{
  "cells": [
    {
<<<<<<< HEAD
      "cell_type": "markdown",
      "metadata": {
        "id": "lh68fHXe8UTs"
      },
      "source": [
        "## Fixed Data:"
      ]
    },
    {
      "cell_type": "code",
      "execution_count": 2,
=======
      "cell_type": "code",
<<<<<<< Updated upstream
      "execution_count": 1,
=======
      "execution_count": 4,
>>>>>>> Stashed changes
>>>>>>> parent of 8b53c37 (Update DataPull.ipynb)
      "metadata": {
        "id": "xRHrfZma_zRz"
      },
      "outputs": [],
      "source": [
        "import json\n",
        "import requests\n",
        "import pandas as pd\n",
        "\n",
        "API_KEY = '1vGb0FOsg2hEIGrEhpueLCcWd1Y'\n",
        "\n",
        "rootUrl = 'https://api.glassnode.com'\n",
        "\n",
        "symbolList = ['BTC', 'ETH', 'LTC', 'AAVE', 'ABT', 'AMPL', 'ANT', 'ARMOR', 'BADGER', 'BAL', 'BAND', 'BAT', 'BIX', 'BNT', 'BOND', 'BRD', 'BUSD', 'BZRX', 'CELR', 'CHSB', 'CND', 'COMP', 'CREAM', 'CRO', 'CRV', 'CVC', 'CVP', 'DAI', 'DDX', 'DENT', 'DGX', 'DHT', 'DMG', 'DODO', 'DOUGH', 'DRGN', 'ELF', 'ENG', 'ENJ', 'EURS', 'FET', 'FTT', 'FUN', 'GNO', 'GUSD', 'HEGIC', 'HOT', 'HPT', 'HT', 'HUSD', 'INDEX', 'KCS', 'LAMB', 'LBA', 'LDO', 'LEO', 'LINK', 'LOOM', 'LRC', 'MANA', 'MATIC',\n",
        "              'MCB', 'MCO', 'MFT', 'MIR', 'MKR', 'MLN', 'MTA', 'MTL', 'MX', 'NDX', 'NEXO', 'NFTX', 'NMR', 'Nsure', 'OCEAN', 'OKB', 'OMG', 'PAY', 'PERP', 'PICKLE', 'PNK', 'PNT', 'POLY', 'POWR', 'PPT', 'QASH', 'QKC', 'QNT', 'RDN', 'REN', 'REP', 'RLC', 'ROOK', 'RPL', 'RSR', 'SAI', 'SAN', 'SNT', 'SNX', 'STAKE', 'STORJ', 'sUSD', 'SUSHI', 'TEL', 'TOP', 'UBT', 'UMA', 'UNI', 'USDC', 'USDK', 'USDP', 'USDT', 'UTK', 'VERI', 'WaBi', 'WAX', 'WBTC', 'WETH', 'wNXM', 'WTC', 'YAM', 'YFI', 'ZRX']\n",
        "\n",
        "symbolListShort = ['BTC', 'ETH', 'LTC']\n",
        "\n",
        "endPoints = {\n",
        "    'Price': '/v1/metrics/market/price_usd_close',\n",
        "    'MarketCap': '/v1/metrics/market/marketcap_usd',\n",
        "    'TransactionCount': '/v1/metrics/transactions/count',\n",
        "    'ActiveAddress': '/v1/metrics/addresses/active_count',\n",
        "}"
      ]
    },
    {
<<<<<<< HEAD
=======
      "cell_type": "code",
      "source": [
        "symbolList = ['BTC', 'ETH', 'LTC', 'AAVE', 'ABT', 'AMPL', 'ANT', 'ARMOR', 'BADGER', 'BAL', 'BAND', 'BAT', 'BIX', 'BNT', 'BOND', 'BRD', 'BUSD', 'BZRX', 'CELR', 'CHSB', 'CND', 'COMP', 'CREAM', 'CRO', 'CRV', 'CVC', 'CVP', 'DAI', 'DDX', 'DENT', 'DGX', 'DHT', 'DMG', 'DODO', 'DOUGH', 'DRGN', 'ELF', 'ENG', 'ENJ', 'EURS', 'FET', 'FTT', 'FUN', 'GNO', 'GUSD', 'HEGIC', 'HOT', 'HPT', 'HT', 'HUSD', 'INDEX', 'KCS', 'LAMB', 'LBA', 'LDO', 'LEO', 'LINK', 'LOOM', 'LRC', 'MANA', 'MATIC', 'MCB', 'MCO', 'MFT', 'MIR', 'MKR', 'MLN', 'MTA', 'MTL', 'MX', 'NDX', 'NEXO', 'NFTX', 'NMR', 'Nsure', 'OCEAN', 'OKB', 'OMG', 'PAY', 'PERP', 'PICKLE', 'PNK', 'PNT', 'POLY', 'POWR', 'PPT', 'QASH', 'QKC', 'QNT', 'RDN', 'REN', 'REP', 'RLC', 'ROOK', 'RPL', 'RSR', 'SAI', 'SAN', 'SNT', 'SNX', 'STAKE', 'STORJ', 'sUSD', 'SUSHI', 'TEL', 'TOP', 'UBT', 'UMA', 'UNI', 'USDC', 'USDK', 'USDP', 'USDT', 'UTK', 'VERI', 'WaBi', 'WAX', 'WBTC', 'WETH', 'wNXM', 'WTC', 'YAM', 'YFI', 'ZRX']"
      ],
      "metadata": {
        "id": "LGCeX94KAF5s"
      },
      "execution_count": 3,
      "outputs": []
    },
    {
      "cell_type": "code",
      "source": [
        "symbolListShort = ['BTC', 'ETH', 'LTC', 'AAVE', 'ABT', 'AMPL', 'ANT']"
      ],
      "metadata": {
        "id": "EJTUYneeCJPj"
      },
      "execution_count": 4,
      "outputs": []
    },
    {
>>>>>>> parent of 8b53c37 (Update DataPull.ipynb)
      "cell_type": "markdown",
      "metadata": {
        "id": "7nlgSPPTKKkP"
<<<<<<< HEAD
      },
      "source": [
        "## Get Multiple Attributes for Multiple Coins:"
      ]
    },
    {
      "cell_type": "code",
      "execution_count": 3,
      "metadata": {
        "id": "NoAHRVf366me"
      },
      "outputs": [],
      "source": [
        "### Define a function to pull data according to input values(coin, feature)\n",
        "### After running this method, it should return pulled data, and also store it in memory named as \"coin_feature\"\n",
        "\n",
        "def PullData(coin, feature):\n",
        "    print(f\"Pulling {coin}'s {feature} data\")\n",
        "\n",
        "    # Assemble full request url and get responses:\n",
        "    reqUrl = rootUrl + endPoints[feature]\n",
        "    res = requests.get(reqUrl,\n",
        "                       params={'a': coin, 'api_key': API_KEY})\n",
        "    data_raw = pd.read_json(res.text, convert_dates=['t'])\n",
        "\n",
        "    # Rename column \"v\" according to features\n",
        "    data = data_raw.rename(columns={\"v\" : f\"{feature}\", 't':'Date'})\n",
        "\n",
        "    # Turn renamed dataframe into a global variable for future using\n",
        "    name = f\"{coin}_{feature}\"\n",
        "    globals()[name] = data\n",
        "\n",
        "    # Return a dataframe\n",
        "    return data"
      ]
    },
    {
      "cell_type": "code",
      "execution_count": 4,
      "metadata": {
        "colab": {
          "base_uri": "https://localhost:8080/"
        },
        "id": "hRBQM5TVKZO8",
        "outputId": "5580094c-bf7e-4e72-d862-61b731c52c94"
      },
      "outputs": [
        {
          "name": "stdout",
          "output_type": "stream",
          "text": [
            "Start Pulling BTC's data:\n",
            "Pulling BTC's Price data\n",
            "Pulling BTC's MarketCap data\n",
            "Pulling BTC's TransactionCount data\n",
            "Pulling BTC's ActiveAddress data\n",
            "BTC data successfully pulled\n",
            "\n",
            "Start Pulling ETH's data:\n",
            "Pulling ETH's Price data\n",
            "Pulling ETH's MarketCap data\n",
            "Pulling ETH's TransactionCount data\n",
            "Pulling ETH's ActiveAddress data\n",
            "ETH data successfully pulled\n",
            "\n",
            "Start Pulling LTC's data:\n",
            "Pulling LTC's Price data\n",
            "Pulling LTC's MarketCap data\n",
            "Pulling LTC's TransactionCount data\n",
            "Pulling LTC's ActiveAddress data\n",
            "LTC data successfully pulled\n",
            "\n",
            "\n",
            "ALL DATA SUCCESSFULLY PULLED!\n"
=======
      }
    },
    {
      "cell_type": "code",
<<<<<<< Updated upstream
      "source": [
        "rootUrl = 'https://api.glassnode.com'"
      ],
=======
      "execution_count": 1,
      "metadata": {},
      "outputs": [
        {
          "ename": "NameError",
          "evalue": "name 'Fred' is not defined",
          "output_type": "error",
          "traceback": [
            "\u001b[1;31m---------------------------------------------------------------------------\u001b[0m",
            "\u001b[1;31mNameError\u001b[0m                                 Traceback (most recent call last)",
            "\u001b[1;32m<ipython-input-1-359ab422c384>\u001b[0m in \u001b[0;36m<module>\u001b[1;34m\u001b[0m\n\u001b[1;32m----> 1\u001b[1;33m \u001b[0mfred\u001b[0m \u001b[1;33m=\u001b[0m \u001b[0mFred\u001b[0m\u001b[1;33m(\u001b[0m\u001b[0mapi_key\u001b[0m\u001b[1;33m=\u001b[0m\u001b[0mFRED_API_KEY\u001b[0m\u001b[1;33m)\u001b[0m\u001b[1;33m\u001b[0m\u001b[1;33m\u001b[0m\u001b[0m\n\u001b[0m\u001b[0;32m      2\u001b[0m \u001b[0mRisk_free_rate\u001b[0m \u001b[1;33m=\u001b[0m \u001b[0mfred\u001b[0m\u001b[1;33m.\u001b[0m\u001b[0mget_series\u001b[0m\u001b[1;33m(\u001b[0m\u001b[1;34m'DGS1MO'\u001b[0m\u001b[1;33m)\u001b[0m\u001b[1;33m\u001b[0m\u001b[1;33m\u001b[0m\u001b[0m\n\u001b[0;32m      3\u001b[0m \u001b[0mRisk_free_rate\u001b[0m\u001b[1;33m.\u001b[0m\u001b[0mhead\u001b[0m\u001b[1;33m(\u001b[0m\u001b[1;33m)\u001b[0m\u001b[1;33m\u001b[0m\u001b[1;33m\u001b[0m\u001b[0m\n",
            "\u001b[1;31mNameError\u001b[0m: name 'Fred' is not defined"
>>>>>>> parent of 8b53c37 (Update DataPull.ipynb)
          ]
        }
      ],
      "source": [
<<<<<<< HEAD
        "### Get all features(listed in endPoints) of all coins(listed in symbolListShort) \n",
        "\n",
        "from functools import reduce\n",
        "\n",
        "for i in symbolListShort:\n",
        "    print(f\"Start Pulling {i}'s data:\")\n",
        "\n",
        "    # Preparation for merging\n",
        "    frameName = f\"{i}_Frames\"\n",
        "    locals()[frameName] = []\n",
        "\n",
        "    # Get data\n",
        "    for j in list(endPoints.keys()):\n",
        "        locals()[frameName].append(PullData(i, j))\n",
        "\n",
        "    # Merge to single dataframe\n",
        "    dfName = f\"{i}_All\"\n",
        "    locals()[dfName] = reduce(lambda  left,right: pd.merge(left,right, on='Date', how='inner'), locals()[frameName])\n",
        "\n",
        "    print(f\"{i} data successfully pulled\\n\")\n",
        "print('\\nALL DATA SUCCESSFULLY PULLED!')"
=======
        "fred = Fred(api_key=FRED_API_KEY)\n",
        "Risk_free_rate = fred.get_series('DGS1MO')\n",
        "Risk_free_rate.head()"
>>>>>>> parent of 8b53c37 (Update DataPull.ipynb)
      ]
    },
    {
      "cell_type": "code",
<<<<<<< HEAD
      "execution_count": 5,
=======
      "execution_count": 4,
>>>>>>> Stashed changes
      "metadata": {
        "id": "P9u2JUg4JJ0G"
      },
      "execution_count": 5,
      "outputs": []
    },
    {
      "cell_type": "code",
      "source": [
        "endPoints = {\n",
        "    'Price' : '/v1/metrics/market/price_usd_close',\n",
        "    'MarketCap' : '/v1/metrics/market/marketcap_usd',\n",
        "    'TransactionCount' :'/v1/metrics/transactions/count',\n",
        "    'ActiveAddress': '/v1/metrics/addresses/active_count',\n",
        "}"
      ],
>>>>>>> parent of 8b53c37 (Update DataPull.ipynb)
      "metadata": {
        "colab": {
          "base_uri": "https://localhost:8080/",
          "height": 424
        },
        "id": "PRH20GfOciZG",
        "outputId": "47938b23-50c8-43cb-8019-d5bd92c5f697"
      },
<<<<<<< HEAD
      "outputs": [
        {
          "data": {
            "text/html": [
              "<div>\n",
              "<style scoped>\n",
              "    .dataframe tbody tr th:only-of-type {\n",
              "        vertical-align: middle;\n",
              "    }\n",
              "\n",
              "    .dataframe tbody tr th {\n",
              "        vertical-align: top;\n",
              "    }\n",
              "\n",
              "    .dataframe thead th {\n",
              "        text-align: right;\n",
              "    }\n",
              "</style>\n",
              "<table border=\"1\" class=\"dataframe\">\n",
              "  <thead>\n",
              "    <tr style=\"text-align: right;\">\n",
              "      <th></th>\n",
              "      <th>Date</th>\n",
              "      <th>Price</th>\n",
              "      <th>MarketCap</th>\n",
              "      <th>TransactionCount</th>\n",
              "      <th>ActiveAddress</th>\n",
              "    </tr>\n",
              "  </thead>\n",
              "  <tbody>\n",
              "    <tr>\n",
              "      <th>0</th>\n",
              "      <td>2013-05-19</td>\n",
              "      <td>3.149100</td>\n",
              "      <td>5.601635e+07</td>\n",
              "      <td>5590</td>\n",
              "      <td>11200</td>\n",
              "    </tr>\n",
              "    <tr>\n",
              "      <th>1</th>\n",
              "      <td>2013-05-20</td>\n",
              "      <td>NaN</td>\n",
              "      <td>5.610263e+07</td>\n",
              "      <td>6375</td>\n",
              "      <td>12574</td>\n",
              "    </tr>\n",
              "    <tr>\n",
              "      <th>2</th>\n",
              "      <td>2013-05-21</td>\n",
              "      <td>NaN</td>\n",
              "      <td>5.618734e+07</td>\n",
              "      <td>6248</td>\n",
              "      <td>12086</td>\n",
              "    </tr>\n",
              "    <tr>\n",
              "      <th>3</th>\n",
              "      <td>2013-05-22</td>\n",
              "      <td>3.060000</td>\n",
              "      <td>5.468296e+07</td>\n",
              "      <td>5319</td>\n",
              "      <td>10606</td>\n",
              "    </tr>\n",
              "    <tr>\n",
              "      <th>4</th>\n",
              "      <td>2013-05-23</td>\n",
              "      <td>3.050000</td>\n",
              "      <td>5.459866e+07</td>\n",
              "      <td>5939</td>\n",
              "      <td>11720</td>\n",
              "    </tr>\n",
              "    <tr>\n",
              "      <th>...</th>\n",
              "      <td>...</td>\n",
              "      <td>...</td>\n",
              "      <td>...</td>\n",
              "      <td>...</td>\n",
              "      <td>...</td>\n",
              "    </tr>\n",
              "    <tr>\n",
              "      <th>3251</th>\n",
              "      <td>2022-04-13</td>\n",
              "      <td>110.360163</td>\n",
              "      <td>7.732401e+09</td>\n",
              "      <td>131892</td>\n",
              "      <td>328691</td>\n",
              "    </tr>\n",
              "    <tr>\n",
              "      <th>3252</th>\n",
              "      <td>2022-04-14</td>\n",
              "      <td>107.430865</td>\n",
              "      <td>7.527953e+09</td>\n",
              "      <td>113646</td>\n",
              "      <td>302368</td>\n",
              "    </tr>\n",
              "    <tr>\n",
              "      <th>3253</th>\n",
              "      <td>2022-04-15</td>\n",
              "      <td>111.103397</td>\n",
              "      <td>7.786069e+09</td>\n",
              "      <td>121456</td>\n",
              "      <td>309623</td>\n",
              "    </tr>\n",
              "    <tr>\n",
              "      <th>3254</th>\n",
              "      <td>2022-04-16</td>\n",
              "      <td>114.430712</td>\n",
              "      <td>8.020100e+09</td>\n",
              "      <td>109324</td>\n",
              "      <td>283888</td>\n",
              "    </tr>\n",
              "    <tr>\n",
              "      <th>3255</th>\n",
              "      <td>2022-04-17</td>\n",
              "      <td>109.018201</td>\n",
              "      <td>7.641529e+09</td>\n",
              "      <td>103601</td>\n",
              "      <td>284622</td>\n",
              "    </tr>\n",
              "  </tbody>\n",
              "</table>\n",
              "<p>3256 rows × 5 columns</p>\n",
              "</div>"
            ],
            "text/plain": [
              "           Date       Price     MarketCap  TransactionCount  ActiveAddress\n",
              "0    2013-05-19    3.149100  5.601635e+07              5590          11200\n",
              "1    2013-05-20         NaN  5.610263e+07              6375          12574\n",
              "2    2013-05-21         NaN  5.618734e+07              6248          12086\n",
              "3    2013-05-22    3.060000  5.468296e+07              5319          10606\n",
              "4    2013-05-23    3.050000  5.459866e+07              5939          11720\n",
              "...         ...         ...           ...               ...            ...\n",
              "3251 2022-04-13  110.360163  7.732401e+09            131892         328691\n",
              "3252 2022-04-14  107.430865  7.527953e+09            113646         302368\n",
              "3253 2022-04-15  111.103397  7.786069e+09            121456         309623\n",
              "3254 2022-04-16  114.430712  8.020100e+09            109324         283888\n",
              "3255 2022-04-17  109.018201  7.641529e+09            103601         284622\n",
              "\n",
              "[3256 rows x 5 columns]"
            ]
          },
          "execution_count": 5,
          "metadata": {},
          "output_type": "execute_result"
        }
=======
      "execution_count": 30,
      "outputs": []
    },
    {
      "cell_type": "code",
      "source": [
        "for i in symbolListShort:\n",
        "  for j in list(endPoints.keys()):\n",
        "    reqUrl = rootUrl + endPoints[j]\n",
        "    res = requests.get(reqUrl,\n",
        "                       params={'a': i, 'api_key': API_KEY})\n",
        "    name=str(i)+'_'+str(j)\n",
        "    locals()[name] = pd.read_json(res.text, convert_dates=['t'])\n",
        "  print(str(i) + ' data successfully pulled')\n",
        "print('\\nALL DATA SUCCESSFULLY PULLED!')"
>>>>>>> parent of 8b53c37 (Update DataPull.ipynb)
      ],
      "source": [
<<<<<<< HEAD
        "LTC_All"
      ]
=======
        "BTC_Price.head()"
      ],
      "metadata": {
        "id": "C5Cfbd3nLkaT"
      },
      "execution_count": null,
      "outputs": []
>>>>>>> parent of 8b53c37 (Update DataPull.ipynb)
    },
    {
      "cell_type": "code",
      "execution_count": null,
      "metadata": {},
      "outputs": [],
      "source": []
    }
  ],
  "metadata": {
    "colab": {
      "name": "DataPull.ipynb",
      "provenance": []
    },
    "kernelspec": {
      "display_name": "Python 3",
      "name": "python3"
    },
    "language_info": {
      "codemirror_mode": {
        "name": "ipython",
        "version": 3
      },
      "file_extension": ".py",
      "mimetype": "text/x-python",
      "name": "python",
      "nbconvert_exporter": "python",
      "pygments_lexer": "ipython3",
      "version": "3.8.5"
    }
  },
  "nbformat": 4,
  "nbformat_minor": 0
}
