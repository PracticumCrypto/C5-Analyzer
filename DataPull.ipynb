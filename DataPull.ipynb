{
  "nbformat": 4,
  "nbformat_minor": 0,
  "metadata": {
    "colab": {
      "name": "DataPull.ipynb",
      "provenance": []
    },
    "kernelspec": {
      "name": "python3",
      "display_name": "Python 3"
    },
    "language_info": {
      "name": "python"
    }
  },
  "cells": [
    {
      "cell_type": "code",
<<<<<<< Updated upstream
      "execution_count": 1,
=======
      "execution_count": 4,
>>>>>>> Stashed changes
      "metadata": {
        "id": "xRHrfZma_zRz"
      },
      "outputs": [
        {
          "ename": "ModuleNotFoundError",
          "evalue": "No module named 'fredapi'",
          "output_type": "error",
          "traceback": [
            "\u001b[1;31m---------------------------------------------------------------------------\u001b[0m",
            "\u001b[1;31mModuleNotFoundError\u001b[0m                       Traceback (most recent call last)",
            "\u001b[1;32m<ipython-input-4-6c90a5a59478>\u001b[0m in \u001b[0;36m<module>\u001b[1;34m\u001b[0m\n\u001b[0;32m      2\u001b[0m \u001b[1;32mimport\u001b[0m \u001b[0mrequests\u001b[0m\u001b[1;33m\u001b[0m\u001b[1;33m\u001b[0m\u001b[0m\n\u001b[0;32m      3\u001b[0m \u001b[1;32mimport\u001b[0m \u001b[0mpandas\u001b[0m \u001b[1;32mas\u001b[0m \u001b[0mpd\u001b[0m\u001b[1;33m\u001b[0m\u001b[1;33m\u001b[0m\u001b[0m\n\u001b[1;32m----> 4\u001b[1;33m \u001b[1;32mfrom\u001b[0m \u001b[0mfredapi\u001b[0m \u001b[1;32mimport\u001b[0m \u001b[0mFred\u001b[0m\u001b[1;33m\u001b[0m\u001b[1;33m\u001b[0m\u001b[0m\n\u001b[0m\u001b[0;32m      5\u001b[0m \u001b[1;33m\u001b[0m\u001b[0m\n\u001b[0;32m      6\u001b[0m \u001b[0mAPI_KEY\u001b[0m \u001b[1;33m=\u001b[0m \u001b[1;34m'1vGb0FOsg2hEIGrEhpueLCcWd1Y'\u001b[0m\u001b[1;33m\u001b[0m\u001b[1;33m\u001b[0m\u001b[0m\n",
            "\u001b[1;31mModuleNotFoundError\u001b[0m: No module named 'fredapi'"
          ]
        }
      ],
      "source": [
        "import json\n",
        "import requests\n",
        "import pandas as pd\n",
        "from fredapi import Fred\n",
        "\n",
<<<<<<< Updated upstream
        "# insert your API key here\n",
        "API_KEY = '1vGb0FOsg2hEIGrEhpueLCcWd1Y'"
=======
        "API_KEY = '1vGb0FOsg2hEIGrEhpueLCcWd1Y'\n",
        "FRED_API_KEY = 'b13a905b98b5dfc1f3910d6a0d875ae3'\n",
        "\n",
        "rootUrl = 'https://api.glassnode.com'\n",
        "\n",
        "symbolList = ['BTC', 'ETH', 'LTC', 'AAVE', 'ABT', 'AMPL', 'ANT', 'ARMOR', 'BADGER', 'BAL', 'BAND', 'BAT', 'BIX', 'BNT', 'BOND', 'BRD', 'BUSD', 'BZRX', 'CELR', 'CHSB', 'CND', 'COMP', 'CREAM', 'CRO', 'CRV', 'CVC', 'CVP', 'DAI', 'DDX', 'DENT', 'DGX', 'DHT', 'DMG', 'DODO', 'DOUGH', 'DRGN', 'ELF', 'ENG', 'ENJ', 'EURS', 'FET', 'FTT', 'FUN', 'GNO', 'GUSD', 'HEGIC', 'HOT', 'HPT', 'HT', 'HUSD', 'INDEX', 'KCS', 'LAMB', 'LBA', 'LDO', 'LEO', 'LINK', 'LOOM', 'LRC', 'MANA', 'MATIC',\n",
        "              'MCB', 'MCO', 'MFT', 'MIR', 'MKR', 'MLN', 'MTA', 'MTL', 'MX', 'NDX', 'NEXO', 'NFTX', 'NMR', 'Nsure', 'OCEAN', 'OKB', 'OMG', 'PAY', 'PERP', 'PICKLE', 'PNK', 'PNT', 'POLY', 'POWR', 'PPT', 'QASH', 'QKC', 'QNT', 'RDN', 'REN', 'REP', 'RLC', 'ROOK', 'RPL', 'RSR', 'SAI', 'SAN', 'SNT', 'SNX', 'STAKE', 'STORJ', 'sUSD', 'SUSHI', 'TEL', 'TOP', 'UBT', 'UMA', 'UNI', 'USDC', 'USDK', 'USDP', 'USDT', 'UTK', 'VERI', 'WaBi', 'WAX', 'WBTC', 'WETH', 'wNXM', 'WTC', 'YAM', 'YFI', 'ZRX']\n",
        "\n",
        "symbolListShort = ['BTC', 'ETH', 'LTC']\n",
        "\n",
        "endPoints = {\n",
        "    'Price': '/v1/metrics/market/price_usd_close',\n",
        "    'MarketCap': '/v1/metrics/market/marketcap_usd',\n",
        "    'TransactionCount': '/v1/metrics/transactions/count',\n",
        "    'ActiveAddress': '/v1/metrics/addresses/active_count',\n",
        "}"
>>>>>>> Stashed changes
      ]
    },
    {
      "cell_type": "code",
      "source": [
        "symbolList = ['BTC', 'ETH', 'LTC', 'AAVE', 'ABT', 'AMPL', 'ANT', 'ARMOR', 'BADGER', 'BAL', 'BAND', 'BAT', 'BIX', 'BNT', 'BOND', 'BRD', 'BUSD', 'BZRX', 'CELR', 'CHSB', 'CND', 'COMP', 'CREAM', 'CRO', 'CRV', 'CVC', 'CVP', 'DAI', 'DDX', 'DENT', 'DGX', 'DHT', 'DMG', 'DODO', 'DOUGH', 'DRGN', 'ELF', 'ENG', 'ENJ', 'EURS', 'FET', 'FTT', 'FUN', 'GNO', 'GUSD', 'HEGIC', 'HOT', 'HPT', 'HT', 'HUSD', 'INDEX', 'KCS', 'LAMB', 'LBA', 'LDO', 'LEO', 'LINK', 'LOOM', 'LRC', 'MANA', 'MATIC', 'MCB', 'MCO', 'MFT', 'MIR', 'MKR', 'MLN', 'MTA', 'MTL', 'MX', 'NDX', 'NEXO', 'NFTX', 'NMR', 'Nsure', 'OCEAN', 'OKB', 'OMG', 'PAY', 'PERP', 'PICKLE', 'PNK', 'PNT', 'POLY', 'POWR', 'PPT', 'QASH', 'QKC', 'QNT', 'RDN', 'REN', 'REP', 'RLC', 'ROOK', 'RPL', 'RSR', 'SAI', 'SAN', 'SNT', 'SNX', 'STAKE', 'STORJ', 'sUSD', 'SUSHI', 'TEL', 'TOP', 'UBT', 'UMA', 'UNI', 'USDC', 'USDK', 'USDP', 'USDT', 'UTK', 'VERI', 'WaBi', 'WAX', 'WBTC', 'WETH', 'wNXM', 'WTC', 'YAM', 'YFI', 'ZRX']"
      ],
      "metadata": {
        "id": "LGCeX94KAF5s"
      },
      "execution_count": 3,
      "outputs": []
    },
    {
      "cell_type": "code",
      "source": [
        "symbolListShort = ['BTC', 'ETH', 'LTC', 'AAVE', 'ABT', 'AMPL', 'ANT']"
      ],
      "metadata": {
        "id": "EJTUYneeCJPj"
      },
      "execution_count": 4,
      "outputs": []
    },
    {
      "cell_type": "markdown",
      "source": [
        "## Get Multiple Attributes for Multiple Coins"
      ],
      "metadata": {
        "id": "7nlgSPPTKKkP"
      }
    },
    {
      "cell_type": "code",
<<<<<<< Updated upstream
      "source": [
        "rootUrl = 'https://api.glassnode.com'"
      ],
=======
      "execution_count": 1,
      "metadata": {},
      "outputs": [
        {
          "ename": "NameError",
          "evalue": "name 'Fred' is not defined",
          "output_type": "error",
          "traceback": [
            "\u001b[1;31m---------------------------------------------------------------------------\u001b[0m",
            "\u001b[1;31mNameError\u001b[0m                                 Traceback (most recent call last)",
            "\u001b[1;32m<ipython-input-1-359ab422c384>\u001b[0m in \u001b[0;36m<module>\u001b[1;34m\u001b[0m\n\u001b[1;32m----> 1\u001b[1;33m \u001b[0mfred\u001b[0m \u001b[1;33m=\u001b[0m \u001b[0mFred\u001b[0m\u001b[1;33m(\u001b[0m\u001b[0mapi_key\u001b[0m\u001b[1;33m=\u001b[0m\u001b[0mFRED_API_KEY\u001b[0m\u001b[1;33m)\u001b[0m\u001b[1;33m\u001b[0m\u001b[1;33m\u001b[0m\u001b[0m\n\u001b[0m\u001b[0;32m      2\u001b[0m \u001b[0mRisk_free_rate\u001b[0m \u001b[1;33m=\u001b[0m \u001b[0mfred\u001b[0m\u001b[1;33m.\u001b[0m\u001b[0mget_series\u001b[0m\u001b[1;33m(\u001b[0m\u001b[1;34m'DGS1MO'\u001b[0m\u001b[1;33m)\u001b[0m\u001b[1;33m\u001b[0m\u001b[1;33m\u001b[0m\u001b[0m\n\u001b[0;32m      3\u001b[0m \u001b[0mRisk_free_rate\u001b[0m\u001b[1;33m.\u001b[0m\u001b[0mhead\u001b[0m\u001b[1;33m(\u001b[0m\u001b[1;33m)\u001b[0m\u001b[1;33m\u001b[0m\u001b[1;33m\u001b[0m\u001b[0m\n",
            "\u001b[1;31mNameError\u001b[0m: name 'Fred' is not defined"
          ]
        }
      ],
      "source": [
        "fred = Fred(api_key=FRED_API_KEY)\n",
        "Risk_free_rate = fred.get_series('DGS1MO')\n",
        "Risk_free_rate.head()"
      ]
    },
    {
      "cell_type": "code",
      "execution_count": 4,
>>>>>>> Stashed changes
      "metadata": {
        "id": "P9u2JUg4JJ0G"
      },
      "execution_count": 5,
      "outputs": []
    },
    {
      "cell_type": "code",
      "source": [
        "endPoints = {\n",
        "    'Price' : '/v1/metrics/market/price_usd_close',\n",
        "    'MarketCap' : '/v1/metrics/market/marketcap_usd',\n",
        "    'TransactionCount' :'/v1/metrics/transactions/count',\n",
        "    'ActiveAddress': '/v1/metrics/addresses/active_count',\n",
        "}"
      ],
      "metadata": {
        "id": "Ga-VZHKvJLm1"
      },
      "execution_count": 30,
      "outputs": []
    },
    {
      "cell_type": "code",
      "source": [
        "for i in symbolListShort:\n",
        "  for j in list(endPoints.keys()):\n",
        "    reqUrl = rootUrl + endPoints[j]\n",
        "    res = requests.get(reqUrl,\n",
        "                       params={'a': i, 'api_key': API_KEY})\n",
        "    name=str(i)+'_'+str(j)\n",
        "    locals()[name] = pd.read_json(res.text, convert_dates=['t'])\n",
        "  print(str(i) + ' data successfully pulled')\n",
        "print('\\nALL DATA SUCCESSFULLY PULLED!')"
      ],
      "metadata": {
        "id": "hRBQM5TVKZO8"
      },
      "execution_count": null,
      "outputs": []
    },
    {
      "cell_type": "code",
      "source": [
        "BTC_Price.head()"
      ],
      "metadata": {
        "id": "C5Cfbd3nLkaT"
      },
      "execution_count": null,
      "outputs": []
    },
    {
      "cell_type": "code",
      "source": [
        "BTC_MarketCap.head()"
      ],
      "metadata": {
        "id": "vqVQizFKLn7j"
      },
      "execution_count": null,
      "outputs": []
    },
    {
      "cell_type": "code",
      "source": [
        "BTC_ActiveAddress"
      ],
      "metadata": {
        "id": "jTuPZBqtgfJD"
      },
      "execution_count": null,
      "outputs": []
    },
    {
      "cell_type": "code",
      "source": [
        ""
      ],
      "metadata": {
        "id": "CAqCY9XUhDgh"
      },
      "execution_count": null,
      "outputs": []
    }
  ]
}