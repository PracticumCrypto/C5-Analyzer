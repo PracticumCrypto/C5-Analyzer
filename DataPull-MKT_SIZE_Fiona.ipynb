{
 "cells": [
  {
   "cell_type": "markdown",
   "metadata": {
    "id": "lh68fHXe8UTs"
   },
   "source": [
    "## Fixed Data:"
   ]
  },
  {
   "cell_type": "code",
   "execution_count": 1,
   "metadata": {
    "colab": {
     "base_uri": "https://localhost:8080/"
    },
    "id": "jjOiSHrVIxNU",
    "outputId": "8e1c6393-a343-4f83-f547-ceb3700dd420"
   },
   "outputs": [
    {
     "name": "stdout",
     "output_type": "stream",
     "text": [
      "Requirement already satisfied: fredapi in /Users/fionafu/opt/anaconda3/lib/python3.9/site-packages (0.5.0)\n",
      "Requirement already satisfied: pandas in /Users/fionafu/opt/anaconda3/lib/python3.9/site-packages (from fredapi) (1.3.4)\n",
      "Requirement already satisfied: python-dateutil>=2.7.3 in /Users/fionafu/opt/anaconda3/lib/python3.9/site-packages (from pandas->fredapi) (2.8.2)\n",
      "Requirement already satisfied: pytz>=2017.3 in /Users/fionafu/opt/anaconda3/lib/python3.9/site-packages (from pandas->fredapi) (2021.3)\n",
      "Requirement already satisfied: numpy>=1.17.3 in /Users/fionafu/opt/anaconda3/lib/python3.9/site-packages (from pandas->fredapi) (1.20.3)\n",
      "Requirement already satisfied: six>=1.5 in /Users/fionafu/opt/anaconda3/lib/python3.9/site-packages (from python-dateutil>=2.7.3->pandas->fredapi) (1.16.0)\n",
      "Note: you may need to restart the kernel to use updated packages.\n"
     ]
    }
   ],
   "source": [
    "pip install fredapi "
   ]
  },
  {
   "cell_type": "code",
   "execution_count": 2,
   "metadata": {
    "id": "xRHrfZma_zRz"
   },
   "outputs": [],
   "source": [
    "import pandas as pd\n",
    "from fredapi import Fred\n",
    "\n",
    "\n",
    "API_KEY = '1vGb0FOsg2hEIGrEhpueLCcWd1Y'\n",
    "FRED_API_KEY = 'b13a905b98b5dfc1f3910d6a0d875ae3'\n",
    "\n",
    "rootUrl = 'https://api.glassnode.com'\n",
    "\n",
    "symbolList = ['BTC', 'ETH', 'LTC', 'AAVE', 'ABT', 'AMPL', 'ANT', 'ARMOR', 'BADGER', 'BAL', 'BAND', 'BAT', 'BIX', 'BNT', 'BOND', 'BRD', 'BUSD', 'BZRX', 'CELR', 'CHSB', 'CND', 'COMP', 'CREAM', 'CRO', 'CRV', 'CVC', 'CVP', 'DAI', 'DDX', 'DENT', 'DGX', 'DHT', 'DMG', 'DODO', 'DOUGH', 'DRGN', 'ELF', 'ENG', 'ENJ', 'EURS', 'FET', 'FTT', 'FUN', 'GNO', 'GUSD', 'HEGIC', 'HOT', 'HPT', 'HT', 'HUSD', 'INDEX', 'KCS', 'LAMB', 'LBA', 'LDO', 'LEO', 'LINK', 'LOOM', 'LRC', 'MANA', 'MATIC',\n",
    "              'MCB', 'MCO', 'MFT', 'MIR', 'MKR', 'MLN', 'MTA', 'MTL', 'MX', 'NDX', 'NEXO', 'NFTX', 'NMR', 'Nsure', 'OCEAN', 'OKB', 'OMG', 'PAY', 'PERP', 'PICKLE', 'PNK', 'PNT', 'POLY', 'POWR', 'PPT', 'QASH', 'QKC', 'QNT', 'RDN', 'REN', 'REP', 'RLC', 'ROOK', 'RPL', 'RSR', 'SAI', 'SAN', 'SNT', 'SNX', 'STAKE', 'STORJ', 'sUSD', 'SUSHI', 'TEL', 'TOP', 'UBT', 'UMA', 'UNI', 'USDC', 'USDK', 'USDP', 'USDT', 'UTK', 'VERI', 'WaBi', 'WAX', 'WBTC', 'WETH', 'wNXM', 'WTC', 'YAM', 'YFI', 'ZRX']\n",
    "\n",
    "symbolListShort = ['BTC', 'ETH', 'LTC']\n",
    "\n",
    "endPoints = {\n",
    "    'Price': '/v1/metrics/market/price_usd_close',\n",
    "    'MarketCap': '/v1/metrics/market/marketcap_usd',\n",
    "    'TransactionCount': '/v1/metrics/transactions/count',\n",
    "    'ActiveAddress': '/v1/metrics/addresses/active_count',\n",
    "}"
   ]
  },
  {
   "cell_type": "markdown",
   "metadata": {
    "id": "7nlgSPPTKKkP"
   },
   "source": [
    "## Get Multiple Attributes for Multiple Coins:"
   ]
  },
  {
   "cell_type": "markdown",
   "metadata": {},
   "source": [
    "### Define a function to pull attributes, input coin type and attribute"
   ]
  },
  {
   "cell_type": "code",
   "execution_count": 3,
   "metadata": {
    "id": "NoAHRVf366me"
   },
   "outputs": [],
   "source": [
    "def PullData(coin: str,\n",
    "             feature: str):\n",
    "    \"\"\"This Method Pull Data According to Input Parameters(coin, feature)\n",
    "\n",
    "    Args:\n",
    "        coin (str): Name of a Coin. Like: \"BTC\"\n",
    "        feature (str): Feature of a Coin. Like: \"Price\"\n",
    "\n",
    "    Returns:\n",
    "        data (pd.DataFrame): A DataFrame Contains Date and Feature of One Coin\n",
    "    \"\"\"\n",
    "    print(f\"Pulling {coin}'s {feature}\")\n",
    "\n",
    "    import requests\n",
    "\n",
    "    # Assemble full request url and get responses:\n",
    "    reqUrl = rootUrl + endPoints[feature]\n",
    "    res = requests.get(reqUrl,\n",
    "                       params={'a': coin,\n",
    "                               'api_key': API_KEY,\n",
    "                               'i': '1w'})\n",
    "    data_raw = pd.read_json(res.text,\n",
    "                            convert_dates=['t'])\n",
    "\n",
    "    # Rename column \"v\" according to features\n",
    "    data = data_raw.rename(columns={\"v\": f\"{feature}\",\n",
    "                                    't': 'Date'})\n",
    "\n",
    "    # Return a dataframe\n",
    "    return data"
   ]
  },
  {
   "cell_type": "markdown",
   "metadata": {},
   "source": [
    "### Input a coin list, it will output all defined attributes"
   ]
  },
  {
   "cell_type": "code",
   "execution_count": 4,
   "metadata": {
    "colab": {
     "base_uri": "https://localhost:8080/"
    },
    "id": "hRBQM5TVKZO8",
    "outputId": "63911f86-3c92-4bbf-d87b-238b63730b23"
   },
   "outputs": [],
   "source": [
    "def PullStart(coinList: list):\n",
    "    \"\"\"This Method Gets Features(Listed in \"endPoints\"(Constant)) of Coins(Listed in \"coinList\"(Method Parameter))\n",
    "\n",
    "    Args:\n",
    "        coinList (list): The List of Coins' Name\n",
    "\n",
    "    Returns:\n",
    "        fullFrame (pd.DataFrame): A DataFrame Contains All Features of Listed Coin's\n",
    "    \"\"\"\n",
    "    # Initialization\n",
    "    from functools import reduce\n",
    "    from tqdm import tqdm\n",
    "    from fredapi import Fred\n",
    "\n",
    "    colName = [\"Date\"]\n",
    "    for key in endPoints.items():\n",
    "        colName.append(key)\n",
    "    fullFrame = pd.DataFrame(columns=colName.append(\"Asset\"))\n",
    "\n",
    "    # Pull Fred RiskFree\n",
    "    fred = Fred(api_key=FRED_API_KEY)\n",
    "    Risk_free_rate = fred.get_series('DGS1MO').to_frame().reset_index().rename(columns={'index': 'Date',\n",
    "                                                                                        0: 'RiskFree'})\n",
    "    Risk_free_rate['RiskFree'] = Risk_free_rate['RiskFree'] / 100\n",
    "\n",
    "    # Data Pull\n",
    "    for i in tqdm(coinList):\n",
    "        print(f\"Start Pulling {i}'s data:\")\n",
    "\n",
    "        # Preparation for merging\n",
    "        frameName = f\"{i}_Frames\"\n",
    "        locals()[frameName] = []\n",
    "\n",
    "        # Get data\n",
    "        for j in list(endPoints.keys()):\n",
    "            locals()[frameName].append(PullData(i,\n",
    "                                                j))\n",
    "\n",
    "        # Merge 2-column dataframes to a single dataframe\n",
    "        dfName = f\"{i}_All\"\n",
    "        # Outer Merge Glassnode to Ensure Not Missing Any Values.\n",
    "        # Left Merge Fred to ensure all the records in api stored.\n",
    "        locals()[dfName] = reduce(lambda left, right:\n",
    "                                  pd.merge(left, right,\n",
    "                                           on='Date',\n",
    "                                           how='outer'),\n",
    "                                  locals()[frameName]).merge(Risk_free_rate,\n",
    "                                                             how='left',\n",
    "                                                             on='Date').sort_values(by=['Date'])\n",
    "        locals()[dfName]['Asset'] = i\n",
    "\n",
    "        # Merge All Coins into a single Dataframe\n",
    "        fullFrame = pd.concat([fullFrame, locals()[dfName]],\n",
    "                                     ignore_index=True)\n",
    "\n",
    "        print(f\"{i} data successfully pulled\\n\")\n",
    "    print('All Frames Merged')\n",
    "    print('\\nALL DATA SUCCESSFULLY PULLED!')\n",
    "\n",
    "    return fullFrame"
   ]
  },
  {
   "cell_type": "markdown",
   "metadata": {},
   "source": [
    "## <font color='green'> Added : Imputation for NA values using linear interpolation method\n",
    "if the price for the asset is missing for the latest **4 weeks** , then we consider it as a cryto currency that stopped trading, we won't include it in our sample\n"
   ]
  },
  {
   "cell_type": "code",
   "execution_count": 129,
   "metadata": {},
   "outputs": [],
   "source": [
    "def InterpolationImpute (sample: pd.DataFrame):\n",
    "    \"\"\"This Method will impute NA values using linear interpolation method\n",
    "\n",
    "    Args:\n",
    "        sample (pd.DataFrame): The Pulled Data \n",
    "\n",
    "    Returns:\n",
    "        fullFrame (pd.DataFrame): A DataFrame Imputed all NA using linear interpolation\n",
    "    \"\"\"\n",
    "    # Initialization\n",
    "    imputedFrame = pd.DataFrame(columns=list(sample.columns))\n",
    "    \n",
    "    orgcols = list(sample.columns)\n",
    "    cols = orgcols.copy()\n",
    "    cols.remove('Date')\n",
    "    cols.remove('Asset')\n",
    "    for index in sample['Asset'].unique().tolist():\n",
    "        syntax = f\"Asset == '{index}'\"\n",
    "        segment = sample.query(syntax)\n",
    "\n",
    "#if the price for the asset is missing for the latest **4 weeks** , \n",
    "#then we consider it as a cryto currency that stopped trading, we won't include it in our sample\n",
    "\n",
    "        if (segment['Price'][-4:].isnull().sum() < 4):\n",
    "            temp = segment[cols].interpolate(method='linear', limit_direction='forward', axis=0)\n",
    "            temp['Asset'] = segment['Asset']\n",
    "            temp['Date'] = segment['Date']\n",
    "            imputedFrame = pd.concat([imputedFrame, temp[orgcols]],\n",
    "                                     ignore_index=True)\n",
    "    \n",
    "\n",
    "    \n",
    "    return imputedFrame"
   ]
  },
  {
   "cell_type": "markdown",
   "metadata": {},
   "source": [
    "## Calculate the return - Now only pick lastest 52 records for testing\n",
    "Input is a dataframe includes all pulled data"
   ]
  },
  {
   "cell_type": "code",
   "execution_count": 11,
   "metadata": {},
   "outputs": [],
   "source": [
    "def AddReturn(sample: pd.DataFrame):\n",
    "    \"\"\"This Method Add Return Column to Pulled Raw Data\n",
    "\n",
    "    Args:\n",
    "        sample (pd.DataFrame): The Raw Pulled Data without a Return Column\n",
    "\n",
    "    Returns:\n",
    "        fullFrame (pd.DataFrame): DataFrame with a Return Column\n",
    "    \"\"\"\n",
    "    fullFrame = pd.DataFrame(columns=list(sample.columns).append('Return'))\n",
    "    for index in sample['Asset'].unique().tolist():\n",
    "        syntax = f\"Asset == '{index}'\"\n",
    "        segment = sample.query(syntax)\n",
    "        # Only Select 53 Weeks for Test\n",
    "        temp = segment[-53:-1].reset_index().drop('index', axis=1)\n",
    "        segment = segment[-52:].reset_index().drop('index', axis=1)\n",
    "        segment['Return'] = (segment['Price'] - temp['Price'])/temp['Price']\n",
    "        fullFrame = pd.concat([fullFrame, segment],\n",
    "                                     ignore_index=True)\n",
    "    return fullFrame"
   ]
  },
  {
   "cell_type": "markdown",
   "metadata": {},
   "source": [
    "## Initialize - get full sample"
   ]
  },
  {
   "cell_type": "code",
   "execution_count": 8,
   "metadata": {},
   "outputs": [
    {
     "name": "stderr",
     "output_type": "stream",
     "text": [
      "\r",
      "  0%|                                                   | 0/124 [00:00<?, ?it/s]"
     ]
    },
    {
     "name": "stdout",
     "output_type": "stream",
     "text": [
      "Start Pulling BTC's data:\n",
      "Pulling BTC's Price\n",
      "Pulling BTC's MarketCap\n",
      "Pulling BTC's TransactionCount\n",
      "Pulling BTC's ActiveAddress\n"
     ]
    },
    {
     "name": "stderr",
     "output_type": "stream",
     "text": [
      "\r",
      "  1%|▎                                          | 1/124 [00:01<03:26,  1.68s/it]"
     ]
    },
    {
     "name": "stdout",
     "output_type": "stream",
     "text": [
      "BTC data successfully pulled\n",
      "\n",
      "Start Pulling ETH's data:\n",
      "Pulling ETH's Price\n",
      "Pulling ETH's MarketCap\n",
      "Pulling ETH's TransactionCount\n",
      "Pulling ETH's ActiveAddress\n"
     ]
    },
    {
     "name": "stderr",
     "output_type": "stream",
     "text": [
      "\r",
      "  2%|▋                                          | 2/124 [00:04<04:23,  2.16s/it]"
     ]
    },
    {
     "name": "stdout",
     "output_type": "stream",
     "text": [
      "ETH data successfully pulled\n",
      "\n",
      "Start Pulling LTC's data:\n",
      "Pulling LTC's Price\n",
      "Pulling LTC's MarketCap\n",
      "Pulling LTC's TransactionCount\n",
      "Pulling LTC's ActiveAddress\n"
     ]
    },
    {
     "name": "stderr",
     "output_type": "stream",
     "text": [
      "\r",
      "  2%|█                                          | 3/124 [00:06<04:31,  2.24s/it]"
     ]
    },
    {
     "name": "stdout",
     "output_type": "stream",
     "text": [
      "LTC data successfully pulled\n",
      "\n",
      "Start Pulling AAVE's data:\n",
      "Pulling AAVE's Price\n",
      "Pulling AAVE's MarketCap\n",
      "Pulling AAVE's TransactionCount\n",
      "Pulling AAVE's ActiveAddress\n"
     ]
    },
    {
     "name": "stderr",
     "output_type": "stream",
     "text": [
      "\r",
      "  3%|█▍                                         | 4/124 [00:07<03:47,  1.89s/it]"
     ]
    },
    {
     "name": "stdout",
     "output_type": "stream",
     "text": [
      "AAVE data successfully pulled\n",
      "\n",
      "Start Pulling ABT's data:\n",
      "Pulling ABT's Price\n",
      "Pulling ABT's MarketCap\n",
      "Pulling ABT's TransactionCount\n",
      "Pulling ABT's ActiveAddress\n"
     ]
    },
    {
     "name": "stderr",
     "output_type": "stream",
     "text": [
      "\r",
      "  4%|█▋                                         | 5/124 [00:09<03:17,  1.66s/it]"
     ]
    },
    {
     "name": "stdout",
     "output_type": "stream",
     "text": [
      "ABT data successfully pulled\n",
      "\n",
      "Start Pulling AMPL's data:\n",
      "Pulling AMPL's Price\n",
      "Pulling AMPL's MarketCap\n",
      "Pulling AMPL's TransactionCount\n",
      "Pulling AMPL's ActiveAddress\n"
     ]
    },
    {
     "name": "stderr",
     "output_type": "stream",
     "text": [
      "\r",
      "  5%|██                                         | 6/124 [00:10<03:15,  1.66s/it]"
     ]
    },
    {
     "name": "stdout",
     "output_type": "stream",
     "text": [
      "AMPL data successfully pulled\n",
      "\n",
      "Start Pulling ANT's data:\n",
      "Pulling ANT's Price\n",
      "Pulling ANT's MarketCap\n",
      "Pulling ANT's TransactionCount\n",
      "Pulling ANT's ActiveAddress\n"
     ]
    },
    {
     "name": "stderr",
     "output_type": "stream",
     "text": [
      "\r",
      "  6%|██▍                                        | 7/124 [00:12<03:19,  1.71s/it]"
     ]
    },
    {
     "name": "stdout",
     "output_type": "stream",
     "text": [
      "ANT data successfully pulled\n",
      "\n",
      "Start Pulling ARMOR's data:\n",
      "Pulling ARMOR's Price\n",
      "Pulling ARMOR's MarketCap\n",
      "Pulling ARMOR's TransactionCount\n",
      "Pulling ARMOR's ActiveAddress\n"
     ]
    },
    {
     "name": "stderr",
     "output_type": "stream",
     "text": [
      "\r",
      "  6%|██▊                                        | 8/124 [00:13<03:02,  1.57s/it]"
     ]
    },
    {
     "name": "stdout",
     "output_type": "stream",
     "text": [
      "ARMOR data successfully pulled\n",
      "\n",
      "Start Pulling BADGER's data:\n",
      "Pulling BADGER's Price\n",
      "Pulling BADGER's MarketCap\n",
      "Pulling BADGER's TransactionCount\n",
      "Pulling BADGER's ActiveAddress\n"
     ]
    },
    {
     "name": "stderr",
     "output_type": "stream",
     "text": [
      "\r",
      "  7%|███                                        | 9/124 [00:15<02:58,  1.55s/it]"
     ]
    },
    {
     "name": "stdout",
     "output_type": "stream",
     "text": [
      "BADGER data successfully pulled\n",
      "\n",
      "Start Pulling BAL's data:\n",
      "Pulling BAL's Price\n",
      "Pulling BAL's MarketCap\n",
      "Pulling BAL's TransactionCount\n",
      "Pulling BAL's ActiveAddress\n"
     ]
    },
    {
     "name": "stderr",
     "output_type": "stream",
     "text": [
      "\r",
      "  8%|███▍                                      | 10/124 [00:16<02:48,  1.48s/it]"
     ]
    },
    {
     "name": "stdout",
     "output_type": "stream",
     "text": [
      "BAL data successfully pulled\n",
      "\n",
      "Start Pulling BAND's data:\n",
      "Pulling BAND's Price\n",
      "Pulling BAND's MarketCap\n",
      "Pulling BAND's TransactionCount\n",
      "Pulling BAND's ActiveAddress\n"
     ]
    },
    {
     "name": "stderr",
     "output_type": "stream",
     "text": [
      "\r",
      "  9%|███▋                                      | 11/124 [00:18<02:45,  1.46s/it]"
     ]
    },
    {
     "name": "stdout",
     "output_type": "stream",
     "text": [
      "BAND data successfully pulled\n",
      "\n",
      "Start Pulling BAT's data:\n",
      "Pulling BAT's Price\n",
      "Pulling BAT's MarketCap\n",
      "Pulling BAT's TransactionCount\n",
      "Pulling BAT's ActiveAddress\n"
     ]
    },
    {
     "name": "stderr",
     "output_type": "stream",
     "text": [
      "\r",
      " 10%|████                                      | 12/124 [00:20<03:00,  1.61s/it]"
     ]
    },
    {
     "name": "stdout",
     "output_type": "stream",
     "text": [
      "BAT data successfully pulled\n",
      "\n",
      "Start Pulling BIX's data:\n",
      "Pulling BIX's Price\n",
      "Pulling BIX's MarketCap\n",
      "Pulling BIX's TransactionCount\n",
      "Pulling BIX's ActiveAddress\n"
     ]
    },
    {
     "name": "stderr",
     "output_type": "stream",
     "text": [
      "\r",
      " 10%|████▍                                     | 13/124 [00:21<02:52,  1.55s/it]"
     ]
    },
    {
     "name": "stdout",
     "output_type": "stream",
     "text": [
      "BIX data successfully pulled\n",
      "\n",
      "Start Pulling BNT's data:\n",
      "Pulling BNT's Price\n",
      "Pulling BNT's MarketCap\n",
      "Pulling BNT's TransactionCount\n",
      "Pulling BNT's ActiveAddress\n"
     ]
    },
    {
     "name": "stderr",
     "output_type": "stream",
     "text": [
      "\r",
      " 11%|████▋                                     | 14/124 [00:23<03:00,  1.64s/it]"
     ]
    },
    {
     "name": "stdout",
     "output_type": "stream",
     "text": [
      "BNT data successfully pulled\n",
      "\n",
      "Start Pulling BOND's data:\n",
      "Pulling BOND's Price\n",
      "Pulling BOND's MarketCap\n",
      "Pulling BOND's TransactionCount\n",
      "Pulling BOND's ActiveAddress\n"
     ]
    },
    {
     "name": "stderr",
     "output_type": "stream",
     "text": [
      "\r",
      " 12%|█████                                     | 15/124 [00:24<02:43,  1.50s/it]"
     ]
    },
    {
     "name": "stdout",
     "output_type": "stream",
     "text": [
      "BOND data successfully pulled\n",
      "\n",
      "Start Pulling BRD's data:\n",
      "Pulling BRD's Price\n",
      "Pulling BRD's MarketCap\n",
      "Pulling BRD's TransactionCount\n",
      "Pulling BRD's ActiveAddress\n"
     ]
    },
    {
     "name": "stderr",
     "output_type": "stream",
     "text": [
      "\r",
      " 13%|█████▍                                    | 16/124 [00:25<02:33,  1.42s/it]"
     ]
    },
    {
     "name": "stdout",
     "output_type": "stream",
     "text": [
      "BRD data successfully pulled\n",
      "\n",
      "Start Pulling BUSD's data:\n",
      "Pulling BUSD's Price\n",
      "Pulling BUSD's MarketCap\n",
      "Pulling BUSD's TransactionCount\n",
      "Pulling BUSD's ActiveAddress\n"
     ]
    },
    {
     "name": "stderr",
     "output_type": "stream",
     "text": [
      "\r",
      " 14%|█████▊                                    | 17/124 [00:27<02:29,  1.40s/it]"
     ]
    },
    {
     "name": "stdout",
     "output_type": "stream",
     "text": [
      "BUSD data successfully pulled\n",
      "\n",
      "Start Pulling BZRX's data:\n",
      "Pulling BZRX's Price\n",
      "Pulling BZRX's MarketCap\n",
      "Pulling BZRX's TransactionCount\n",
      "Pulling BZRX's ActiveAddress\n"
     ]
    },
    {
     "name": "stderr",
     "output_type": "stream",
     "text": [
      "\r",
      " 15%|██████                                    | 18/124 [00:28<02:29,  1.41s/it]"
     ]
    },
    {
     "name": "stdout",
     "output_type": "stream",
     "text": [
      "BZRX data successfully pulled\n",
      "\n",
      "Start Pulling CELR's data:\n",
      "Pulling CELR's Price\n",
      "Pulling CELR's MarketCap\n",
      "Pulling CELR's TransactionCount\n",
      "Pulling CELR's ActiveAddress\n"
     ]
    },
    {
     "name": "stderr",
     "output_type": "stream",
     "text": [
      "\r",
      " 15%|██████▍                                   | 19/124 [00:31<03:04,  1.75s/it]"
     ]
    },
    {
     "name": "stdout",
     "output_type": "stream",
     "text": [
      "CELR data successfully pulled\n",
      "\n",
      "Start Pulling CHSB's data:\n",
      "Pulling CHSB's Price\n",
      "Pulling CHSB's MarketCap\n",
      "Pulling CHSB's TransactionCount\n",
      "Pulling CHSB's ActiveAddress\n"
     ]
    },
    {
     "name": "stderr",
     "output_type": "stream",
     "text": [
      "\r",
      " 16%|██████▊                                   | 20/124 [00:32<03:03,  1.76s/it]"
     ]
    },
    {
     "name": "stdout",
     "output_type": "stream",
     "text": [
      "CHSB data successfully pulled\n",
      "\n",
      "Start Pulling CND's data:\n",
      "Pulling CND's Price\n",
      "Pulling CND's MarketCap\n",
      "Pulling CND's TransactionCount\n",
      "Pulling CND's ActiveAddress\n"
     ]
    },
    {
     "name": "stderr",
     "output_type": "stream",
     "text": [
      "\r",
      " 17%|███████                                   | 21/124 [00:35<03:15,  1.89s/it]"
     ]
    },
    {
     "name": "stdout",
     "output_type": "stream",
     "text": [
      "CND data successfully pulled\n",
      "\n",
      "Start Pulling COMP's data:\n",
      "Pulling COMP's Price\n",
      "Pulling COMP's MarketCap\n",
      "Pulling COMP's TransactionCount\n",
      "Pulling COMP's ActiveAddress\n"
     ]
    },
    {
     "name": "stderr",
     "output_type": "stream",
     "text": [
      "\r",
      " 18%|███████▍                                  | 22/124 [00:36<02:59,  1.76s/it]"
     ]
    },
    {
     "name": "stdout",
     "output_type": "stream",
     "text": [
      "COMP data successfully pulled\n",
      "\n",
      "Start Pulling CREAM's data:\n",
      "Pulling CREAM's Price\n",
      "Pulling CREAM's MarketCap\n",
      "Pulling CREAM's TransactionCount\n",
      "Pulling CREAM's ActiveAddress\n"
     ]
    },
    {
     "name": "stderr",
     "output_type": "stream",
     "text": [
      "\r",
      " 19%|███████▊                                  | 23/124 [00:38<03:03,  1.81s/it]"
     ]
    },
    {
     "name": "stdout",
     "output_type": "stream",
     "text": [
      "CREAM data successfully pulled\n",
      "\n",
      "Start Pulling CRO's data:\n",
      "Pulling CRO's Price\n",
      "Pulling CRO's MarketCap\n",
      "Pulling CRO's TransactionCount\n",
      "Pulling CRO's ActiveAddress\n"
     ]
    },
    {
     "name": "stderr",
     "output_type": "stream",
     "text": [
      "\r",
      " 19%|████████▏                                 | 24/124 [00:41<03:29,  2.09s/it]"
     ]
    },
    {
     "name": "stdout",
     "output_type": "stream",
     "text": [
      "CRO data successfully pulled\n",
      "\n",
      "Start Pulling CRV's data:\n",
      "Pulling CRV's Price\n",
      "Pulling CRV's MarketCap\n",
      "Pulling CRV's TransactionCount\n",
      "Pulling CRV's ActiveAddress\n"
     ]
    },
    {
     "name": "stderr",
     "output_type": "stream",
     "text": [
      "\r",
      " 20%|████████▍                                 | 25/124 [00:43<03:24,  2.06s/it]"
     ]
    },
    {
     "name": "stdout",
     "output_type": "stream",
     "text": [
      "CRV data successfully pulled\n",
      "\n",
      "Start Pulling CVC's data:\n",
      "Pulling CVC's Price\n",
      "Pulling CVC's MarketCap\n",
      "Pulling CVC's TransactionCount\n",
      "Pulling CVC's ActiveAddress\n"
     ]
    },
    {
     "name": "stderr",
     "output_type": "stream",
     "text": [
      "\r",
      " 21%|████████▊                                 | 26/124 [00:45<03:28,  2.13s/it]"
     ]
    },
    {
     "name": "stdout",
     "output_type": "stream",
     "text": [
      "CVC data successfully pulled\n",
      "\n",
      "Start Pulling CVP's data:\n",
      "Pulling CVP's Price\n",
      "Pulling CVP's MarketCap\n",
      "Pulling CVP's TransactionCount\n",
      "Pulling CVP's ActiveAddress\n"
     ]
    },
    {
     "name": "stderr",
     "output_type": "stream",
     "text": [
      "\r",
      " 22%|█████████▏                                | 27/124 [00:47<03:30,  2.17s/it]"
     ]
    },
    {
     "name": "stdout",
     "output_type": "stream",
     "text": [
      "CVP data successfully pulled\n",
      "\n",
      "Start Pulling DAI's data:\n",
      "Pulling DAI's Price\n",
      "Pulling DAI's MarketCap\n",
      "Pulling DAI's TransactionCount\n",
      "Pulling DAI's ActiveAddress\n"
     ]
    },
    {
     "name": "stderr",
     "output_type": "stream",
     "text": [
      "\r",
      " 23%|█████████▍                                | 28/124 [00:49<03:08,  1.96s/it]"
     ]
    },
    {
     "name": "stdout",
     "output_type": "stream",
     "text": [
      "DAI data successfully pulled\n",
      "\n",
      "Start Pulling DDX's data:\n",
      "Pulling DDX's Price\n",
      "Pulling DDX's MarketCap\n",
      "Pulling DDX's TransactionCount\n",
      "Pulling DDX's ActiveAddress\n"
     ]
    },
    {
     "name": "stderr",
     "output_type": "stream",
     "text": [
      "\r",
      " 23%|█████████▊                                | 29/124 [00:50<02:54,  1.84s/it]"
     ]
    },
    {
     "name": "stdout",
     "output_type": "stream",
     "text": [
      "DDX data successfully pulled\n",
      "\n",
      "Start Pulling DENT's data:\n",
      "Pulling DENT's Price\n",
      "Pulling DENT's MarketCap\n",
      "Pulling DENT's TransactionCount\n",
      "Pulling DENT's ActiveAddress\n"
     ]
    },
    {
     "name": "stderr",
     "output_type": "stream",
     "text": [
      "\r",
      " 24%|██████████▏                               | 30/124 [00:53<03:03,  1.96s/it]"
     ]
    },
    {
     "name": "stdout",
     "output_type": "stream",
     "text": [
      "DENT data successfully pulled\n",
      "\n",
      "Start Pulling DGX's data:\n",
      "Pulling DGX's Price\n",
      "Pulling DGX's MarketCap\n",
      "Pulling DGX's TransactionCount\n",
      "Pulling DGX's ActiveAddress\n"
     ]
    },
    {
     "name": "stderr",
     "output_type": "stream",
     "text": [
      "\r",
      " 25%|██████████▌                               | 31/124 [00:55<03:30,  2.26s/it]"
     ]
    },
    {
     "name": "stdout",
     "output_type": "stream",
     "text": [
      "DGX data successfully pulled\n",
      "\n",
      "Start Pulling DHT's data:\n",
      "Pulling DHT's Price\n",
      "Pulling DHT's MarketCap\n",
      "Pulling DHT's TransactionCount\n",
      "Pulling DHT's ActiveAddress\n"
     ]
    },
    {
     "name": "stderr",
     "output_type": "stream",
     "text": [
      "\r",
      " 26%|██████████▊                               | 32/124 [00:57<03:00,  1.97s/it]"
     ]
    },
    {
     "name": "stdout",
     "output_type": "stream",
     "text": [
      "DHT data successfully pulled\n",
      "\n",
      "Start Pulling DMG's data:\n",
      "Pulling DMG's Price\n",
      "Pulling DMG's MarketCap\n",
      "Pulling DMG's TransactionCount\n",
      "Pulling DMG's ActiveAddress\n"
     ]
    },
    {
     "name": "stderr",
     "output_type": "stream",
     "text": [
      "\r",
      " 27%|███████████▏                              | 33/124 [00:58<02:45,  1.82s/it]"
     ]
    },
    {
     "name": "stdout",
     "output_type": "stream",
     "text": [
      "DMG data successfully pulled\n",
      "\n",
      "Start Pulling DODO's data:\n",
      "Pulling DODO's Price\n",
      "Pulling DODO's MarketCap\n",
      "Pulling DODO's TransactionCount\n",
      "Pulling DODO's ActiveAddress\n"
     ]
    },
    {
     "name": "stderr",
     "output_type": "stream",
     "text": [
      "\r",
      " 27%|███████████▌                              | 34/124 [01:00<02:39,  1.77s/it]"
     ]
    },
    {
     "name": "stdout",
     "output_type": "stream",
     "text": [
      "DODO data successfully pulled\n",
      "\n",
      "Start Pulling DOUGH's data:\n",
      "Pulling DOUGH's Price\n",
      "Pulling DOUGH's MarketCap\n",
      "Pulling DOUGH's TransactionCount\n",
      "Pulling DOUGH's ActiveAddress\n"
     ]
    },
    {
     "name": "stderr",
     "output_type": "stream",
     "text": [
      "\r",
      " 28%|███████████▊                              | 35/124 [01:01<02:29,  1.68s/it]"
     ]
    },
    {
     "name": "stdout",
     "output_type": "stream",
     "text": [
      "DOUGH data successfully pulled\n",
      "\n",
      "Start Pulling DRGN's data:\n",
      "Pulling DRGN's Price\n",
      "Pulling DRGN's MarketCap\n",
      "Pulling DRGN's TransactionCount\n",
      "Pulling DRGN's ActiveAddress\n"
     ]
    },
    {
     "name": "stderr",
     "output_type": "stream",
     "text": [
      "\r",
      " 29%|████████████▏                             | 36/124 [01:03<02:21,  1.61s/it]"
     ]
    },
    {
     "name": "stdout",
     "output_type": "stream",
     "text": [
      "DRGN data successfully pulled\n",
      "\n",
      "Start Pulling ELF's data:\n",
      "Pulling ELF's Price\n",
      "Pulling ELF's MarketCap\n",
      "Pulling ELF's TransactionCount\n",
      "Pulling ELF's ActiveAddress\n"
     ]
    },
    {
     "name": "stderr",
     "output_type": "stream",
     "text": [
      "\r",
      " 30%|████████████▌                             | 37/124 [01:05<02:42,  1.87s/it]"
     ]
    },
    {
     "name": "stdout",
     "output_type": "stream",
     "text": [
      "ELF data successfully pulled\n",
      "\n",
      "Start Pulling ENG's data:\n",
      "Pulling ENG's Price\n",
      "Pulling ENG's MarketCap\n",
      "Pulling ENG's TransactionCount\n",
      "Pulling ENG's ActiveAddress\n"
     ]
    },
    {
     "name": "stderr",
     "output_type": "stream",
     "text": [
      "\r",
      " 31%|████████████▊                             | 38/124 [01:07<02:39,  1.86s/it]"
     ]
    },
    {
     "name": "stdout",
     "output_type": "stream",
     "text": [
      "ENG data successfully pulled\n",
      "\n",
      "Start Pulling ENJ's data:\n",
      "Pulling ENJ's Price\n",
      "Pulling ENJ's MarketCap\n",
      "Pulling ENJ's TransactionCount\n",
      "Pulling ENJ's ActiveAddress\n"
     ]
    },
    {
     "name": "stderr",
     "output_type": "stream",
     "text": [
      "\r",
      " 31%|█████████████▏                            | 39/124 [01:09<02:38,  1.87s/it]"
     ]
    },
    {
     "name": "stdout",
     "output_type": "stream",
     "text": [
      "ENJ data successfully pulled\n",
      "\n",
      "Start Pulling EURS's data:\n",
      "Pulling EURS's Price\n",
      "Pulling EURS's MarketCap\n",
      "Pulling EURS's TransactionCount\n",
      "Pulling EURS's ActiveAddress\n"
     ]
    },
    {
     "name": "stderr",
     "output_type": "stream",
     "text": [
      "\r",
      " 32%|█████████████▌                            | 40/124 [01:10<02:24,  1.72s/it]"
     ]
    },
    {
     "name": "stdout",
     "output_type": "stream",
     "text": [
      "EURS data successfully pulled\n",
      "\n",
      "Start Pulling FET's data:\n",
      "Pulling FET's Price\n",
      "Pulling FET's MarketCap\n",
      "Pulling FET's TransactionCount\n",
      "Pulling FET's ActiveAddress\n"
     ]
    },
    {
     "name": "stderr",
     "output_type": "stream",
     "text": [
      "\r",
      " 33%|█████████████▉                            | 41/124 [01:14<03:12,  2.32s/it]"
     ]
    },
    {
     "name": "stdout",
     "output_type": "stream",
     "text": [
      "FET data successfully pulled\n",
      "\n",
      "Start Pulling FTT's data:\n",
      "Pulling FTT's Price\n",
      "Pulling FTT's MarketCap\n",
      "Pulling FTT's TransactionCount\n",
      "Pulling FTT's ActiveAddress\n"
     ]
    },
    {
     "name": "stderr",
     "output_type": "stream",
     "text": [
      "\r",
      " 34%|██████████████▏                           | 42/124 [01:15<02:45,  2.02s/it]"
     ]
    },
    {
     "name": "stdout",
     "output_type": "stream",
     "text": [
      "FTT data successfully pulled\n",
      "\n",
      "Start Pulling FUN's data:\n",
      "Pulling FUN's Price\n",
      "Pulling FUN's MarketCap\n",
      "Pulling FUN's TransactionCount\n",
      "Pulling FUN's ActiveAddress\n"
     ]
    },
    {
     "name": "stderr",
     "output_type": "stream",
     "text": [
      "\r",
      " 35%|██████████████▌                           | 43/124 [01:17<02:39,  1.97s/it]"
     ]
    },
    {
     "name": "stdout",
     "output_type": "stream",
     "text": [
      "FUN data successfully pulled\n",
      "\n",
      "Start Pulling GNO's data:\n",
      "Pulling GNO's Price\n",
      "Pulling GNO's MarketCap\n",
      "Pulling GNO's TransactionCount\n",
      "Pulling GNO's ActiveAddress\n"
     ]
    },
    {
     "name": "stderr",
     "output_type": "stream",
     "text": [
      "\r",
      " 35%|██████████████▉                           | 44/124 [01:20<02:52,  2.15s/it]"
     ]
    },
    {
     "name": "stdout",
     "output_type": "stream",
     "text": [
      "GNO data successfully pulled\n",
      "\n",
      "Start Pulling GUSD's data:\n",
      "Pulling GUSD's Price\n",
      "Pulling GUSD's MarketCap\n",
      "Pulling GUSD's TransactionCount\n",
      "Pulling GUSD's ActiveAddress\n"
     ]
    },
    {
     "name": "stderr",
     "output_type": "stream",
     "text": [
      "\r",
      " 36%|███████████████▏                          | 45/124 [01:21<02:34,  1.96s/it]"
     ]
    },
    {
     "name": "stdout",
     "output_type": "stream",
     "text": [
      "GUSD data successfully pulled\n",
      "\n",
      "Start Pulling HEGIC's data:\n",
      "Pulling HEGIC's Price\n",
      "Pulling HEGIC's MarketCap\n",
      "Pulling HEGIC's TransactionCount\n",
      "Pulling HEGIC's ActiveAddress\n"
     ]
    },
    {
     "name": "stderr",
     "output_type": "stream",
     "text": [
      "\r",
      " 37%|███████████████▌                          | 46/124 [01:23<02:28,  1.91s/it]"
     ]
    },
    {
     "name": "stdout",
     "output_type": "stream",
     "text": [
      "HEGIC data successfully pulled\n",
      "\n",
      "Start Pulling HOT's data:\n",
      "Pulling HOT's Price\n",
      "Pulling HOT's MarketCap\n",
      "Pulling HOT's TransactionCount\n",
      "Pulling HOT's ActiveAddress\n"
     ]
    },
    {
     "name": "stderr",
     "output_type": "stream",
     "text": [
      "\r",
      " 38%|███████████████▉                          | 47/124 [01:24<02:13,  1.73s/it]"
     ]
    },
    {
     "name": "stdout",
     "output_type": "stream",
     "text": [
      "HOT data successfully pulled\n",
      "\n",
      "Start Pulling HPT's data:\n",
      "Pulling HPT's Price\n",
      "Pulling HPT's MarketCap\n",
      "Pulling HPT's TransactionCount\n",
      "Pulling HPT's ActiveAddress\n"
     ]
    },
    {
     "name": "stderr",
     "output_type": "stream",
     "text": [
      "\r",
      " 39%|████████████████▎                         | 48/124 [01:26<02:06,  1.66s/it]"
     ]
    },
    {
     "name": "stdout",
     "output_type": "stream",
     "text": [
      "HPT data successfully pulled\n",
      "\n",
      "Start Pulling HT's data:\n",
      "Pulling HT's Price\n",
      "Pulling HT's MarketCap\n",
      "Pulling HT's TransactionCount\n",
      "Pulling HT's ActiveAddress\n"
     ]
    },
    {
     "name": "stderr",
     "output_type": "stream",
     "text": [
      "\r",
      " 40%|████████████████▌                         | 49/124 [01:28<02:13,  1.78s/it]"
     ]
    },
    {
     "name": "stdout",
     "output_type": "stream",
     "text": [
      "HT data successfully pulled\n",
      "\n",
      "Start Pulling HUSD's data:\n",
      "Pulling HUSD's Price\n",
      "Pulling HUSD's MarketCap\n",
      "Pulling HUSD's TransactionCount\n",
      "Pulling HUSD's ActiveAddress\n"
     ]
    },
    {
     "name": "stderr",
     "output_type": "stream",
     "text": [
      "\r",
      " 40%|████████████████▉                         | 50/124 [01:29<02:00,  1.63s/it]"
     ]
    },
    {
     "name": "stdout",
     "output_type": "stream",
     "text": [
      "HUSD data successfully pulled\n",
      "\n",
      "Start Pulling INDEX's data:\n",
      "Pulling INDEX's Price\n",
      "Pulling INDEX's MarketCap\n",
      "Pulling INDEX's TransactionCount\n",
      "Pulling INDEX's ActiveAddress\n"
     ]
    },
    {
     "name": "stderr",
     "output_type": "stream",
     "text": [
      "\r",
      " 41%|█████████████████▎                        | 51/124 [01:31<01:53,  1.56s/it]"
     ]
    },
    {
     "name": "stdout",
     "output_type": "stream",
     "text": [
      "INDEX data successfully pulled\n",
      "\n",
      "Start Pulling KCS's data:\n",
      "Pulling KCS's Price\n",
      "Pulling KCS's MarketCap\n",
      "Pulling KCS's TransactionCount\n",
      "Pulling KCS's ActiveAddress\n"
     ]
    },
    {
     "name": "stderr",
     "output_type": "stream",
     "text": [
      "\r",
      " 42%|█████████████████▌                        | 52/124 [01:32<01:49,  1.52s/it]"
     ]
    },
    {
     "name": "stdout",
     "output_type": "stream",
     "text": [
      "KCS data successfully pulled\n",
      "\n",
      "Start Pulling LAMB's data:\n",
      "Pulling LAMB's Price\n",
      "Pulling LAMB's MarketCap\n",
      "Pulling LAMB's TransactionCount\n",
      "Pulling LAMB's ActiveAddress\n"
     ]
    },
    {
     "name": "stderr",
     "output_type": "stream",
     "text": [
      "\r",
      " 43%|█████████████████▉                        | 53/124 [01:34<01:52,  1.59s/it]"
     ]
    },
    {
     "name": "stdout",
     "output_type": "stream",
     "text": [
      "LAMB data successfully pulled\n",
      "\n",
      "Start Pulling LBA's data:\n",
      "Pulling LBA's Price\n",
      "Pulling LBA's MarketCap\n",
      "Pulling LBA's TransactionCount\n",
      "Pulling LBA's ActiveAddress\n"
     ]
    },
    {
     "name": "stderr",
     "output_type": "stream",
     "text": [
      "\r",
      " 44%|██████████████████▎                       | 54/124 [01:35<01:42,  1.46s/it]"
     ]
    },
    {
     "name": "stdout",
     "output_type": "stream",
     "text": [
      "LBA data successfully pulled\n",
      "\n",
      "Start Pulling LDO's data:\n",
      "Pulling LDO's Price\n",
      "Pulling LDO's MarketCap\n",
      "Pulling LDO's TransactionCount\n",
      "Pulling LDO's ActiveAddress\n"
     ]
    },
    {
     "name": "stderr",
     "output_type": "stream",
     "text": [
      "\r",
      " 44%|██████████████████▋                       | 55/124 [01:36<01:40,  1.45s/it]"
     ]
    },
    {
     "name": "stdout",
     "output_type": "stream",
     "text": [
      "LDO data successfully pulled\n",
      "\n",
      "Start Pulling LEO's data:\n",
      "Pulling LEO's Price\n",
      "Pulling LEO's MarketCap\n",
      "Pulling LEO's TransactionCount\n",
      "Pulling LEO's ActiveAddress\n"
     ]
    },
    {
     "name": "stderr",
     "output_type": "stream",
     "text": [
      "\r",
      " 45%|██████████████████▉                       | 56/124 [01:38<01:36,  1.42s/it]"
     ]
    },
    {
     "name": "stdout",
     "output_type": "stream",
     "text": [
      "LEO data successfully pulled\n",
      "\n",
      "Start Pulling LINK's data:\n",
      "Pulling LINK's Price\n",
      "Pulling LINK's MarketCap\n",
      "Pulling LINK's TransactionCount\n",
      "Pulling LINK's ActiveAddress\n"
     ]
    },
    {
     "name": "stderr",
     "output_type": "stream",
     "text": [
      "\r",
      " 46%|███████████████████▎                      | 57/124 [01:39<01:37,  1.46s/it]"
     ]
    },
    {
     "name": "stdout",
     "output_type": "stream",
     "text": [
      "LINK data successfully pulled\n",
      "\n",
      "Start Pulling LOOM's data:\n",
      "Pulling LOOM's Price\n",
      "Pulling LOOM's MarketCap\n",
      "Pulling LOOM's TransactionCount\n",
      "Pulling LOOM's ActiveAddress\n"
     ]
    },
    {
     "name": "stderr",
     "output_type": "stream",
     "text": [
      "\r",
      " 47%|███████████████████▋                      | 58/124 [01:42<02:00,  1.82s/it]"
     ]
    },
    {
     "name": "stdout",
     "output_type": "stream",
     "text": [
      "LOOM data successfully pulled\n",
      "\n",
      "Start Pulling LRC's data:\n",
      "Pulling LRC's Price\n",
      "Pulling LRC's MarketCap\n",
      "Pulling LRC's TransactionCount\n",
      "Pulling LRC's ActiveAddress\n"
     ]
    },
    {
     "name": "stderr",
     "output_type": "stream",
     "text": [
      "\r",
      " 48%|███████████████████▉                      | 59/124 [01:44<01:52,  1.74s/it]"
     ]
    },
    {
     "name": "stdout",
     "output_type": "stream",
     "text": [
      "LRC data successfully pulled\n",
      "\n",
      "Start Pulling MANA's data:\n",
      "Pulling MANA's Price\n",
      "Pulling MANA's MarketCap\n",
      "Pulling MANA's TransactionCount\n",
      "Pulling MANA's ActiveAddress\n"
     ]
    },
    {
     "name": "stderr",
     "output_type": "stream",
     "text": [
      "\r",
      " 48%|████████████████████▎                     | 60/124 [01:46<02:08,  2.01s/it]"
     ]
    },
    {
     "name": "stdout",
     "output_type": "stream",
     "text": [
      "MANA data successfully pulled\n",
      "\n",
      "Start Pulling MATIC's data:\n",
      "Pulling MATIC's Price\n",
      "Pulling MATIC's MarketCap\n",
      "Pulling MATIC's TransactionCount\n",
      "Pulling MATIC's ActiveAddress\n"
     ]
    },
    {
     "name": "stderr",
     "output_type": "stream",
     "text": [
      "\r",
      " 49%|████████████████████▋                     | 61/124 [01:48<02:01,  1.93s/it]"
     ]
    },
    {
     "name": "stdout",
     "output_type": "stream",
     "text": [
      "MATIC data successfully pulled\n",
      "\n",
      "Start Pulling MCB's data:\n",
      "Pulling MCB's Price\n",
      "Pulling MCB's MarketCap\n",
      "Pulling MCB's TransactionCount\n",
      "Pulling MCB's ActiveAddress\n"
     ]
    },
    {
     "name": "stderr",
     "output_type": "stream",
     "text": [
      "\r",
      " 50%|█████████████████████                     | 62/124 [01:49<01:49,  1.77s/it]"
     ]
    },
    {
     "name": "stdout",
     "output_type": "stream",
     "text": [
      "MCB data successfully pulled\n",
      "\n",
      "Start Pulling MCO's data:\n",
      "Pulling MCO's Price\n",
      "Pulling MCO's MarketCap\n",
      "Pulling MCO's TransactionCount\n",
      "Pulling MCO's ActiveAddress\n"
     ]
    },
    {
     "name": "stderr",
     "output_type": "stream",
     "text": [
      "\r",
      " 51%|█████████████████████▎                    | 63/124 [01:51<01:38,  1.61s/it]"
     ]
    },
    {
     "name": "stdout",
     "output_type": "stream",
     "text": [
      "MCO data successfully pulled\n",
      "\n",
      "Start Pulling MFT's data:\n",
      "Pulling MFT's Price\n",
      "Pulling MFT's MarketCap\n",
      "Pulling MFT's TransactionCount\n",
      "Pulling MFT's ActiveAddress\n"
     ]
    },
    {
     "name": "stderr",
     "output_type": "stream",
     "text": [
      "\r",
      " 52%|█████████████████████▋                    | 64/124 [01:53<01:49,  1.82s/it]"
     ]
    },
    {
     "name": "stdout",
     "output_type": "stream",
     "text": [
      "MFT data successfully pulled\n",
      "\n",
      "Start Pulling MIR's data:\n",
      "Pulling MIR's Price\n",
      "Pulling MIR's MarketCap\n",
      "Pulling MIR's TransactionCount\n",
      "Pulling MIR's ActiveAddress\n"
     ]
    },
    {
     "name": "stderr",
     "output_type": "stream",
     "text": [
      "\r",
      " 52%|██████████████████████                    | 65/124 [01:55<01:46,  1.80s/it]"
     ]
    },
    {
     "name": "stdout",
     "output_type": "stream",
     "text": [
      "MIR data successfully pulled\n",
      "\n",
      "Start Pulling MKR's data:\n",
      "Pulling MKR's Price\n",
      "Pulling MKR's MarketCap\n",
      "Pulling MKR's TransactionCount\n",
      "Pulling MKR's ActiveAddress\n"
     ]
    },
    {
     "name": "stderr",
     "output_type": "stream",
     "text": [
      "\r",
      " 53%|██████████████████████▎                   | 66/124 [01:56<01:35,  1.64s/it]"
     ]
    },
    {
     "name": "stdout",
     "output_type": "stream",
     "text": [
      "MKR data successfully pulled\n",
      "\n",
      "Start Pulling MLN's data:\n",
      "Pulling MLN's Price\n",
      "Pulling MLN's MarketCap\n",
      "Pulling MLN's TransactionCount\n",
      "Pulling MLN's ActiveAddress\n"
     ]
    },
    {
     "name": "stderr",
     "output_type": "stream",
     "text": [
      "\r",
      " 54%|██████████████████████▋                   | 67/124 [01:57<01:27,  1.53s/it]"
     ]
    },
    {
     "name": "stdout",
     "output_type": "stream",
     "text": [
      "MLN data successfully pulled\n",
      "\n",
      "Start Pulling MTA's data:\n",
      "Pulling MTA's Price\n",
      "Pulling MTA's MarketCap\n",
      "Pulling MTA's TransactionCount\n",
      "Pulling MTA's ActiveAddress\n"
     ]
    },
    {
     "name": "stderr",
     "output_type": "stream",
     "text": [
      "\r",
      " 55%|███████████████████████                   | 68/124 [01:59<01:23,  1.49s/it]"
     ]
    },
    {
     "name": "stdout",
     "output_type": "stream",
     "text": [
      "MTA data successfully pulled\n",
      "\n",
      "Start Pulling MTL's data:\n",
      "Pulling MTL's Price\n",
      "Pulling MTL's MarketCap\n",
      "Pulling MTL's TransactionCount\n",
      "Pulling MTL's ActiveAddress\n"
     ]
    },
    {
     "name": "stderr",
     "output_type": "stream",
     "text": [
      "\r",
      " 56%|███████████████████████▎                  | 69/124 [02:00<01:18,  1.43s/it]"
     ]
    },
    {
     "name": "stdout",
     "output_type": "stream",
     "text": [
      "MTL data successfully pulled\n",
      "\n",
      "Start Pulling MX's data:\n",
      "Pulling MX's Price\n",
      "Pulling MX's MarketCap\n",
      "Pulling MX's TransactionCount\n",
      "Pulling MX's ActiveAddress\n"
     ]
    },
    {
     "name": "stderr",
     "output_type": "stream",
     "text": [
      "\r",
      " 56%|███████████████████████▋                  | 70/124 [02:01<01:14,  1.39s/it]"
     ]
    },
    {
     "name": "stdout",
     "output_type": "stream",
     "text": [
      "MX data successfully pulled\n",
      "\n",
      "Start Pulling NDX's data:\n",
      "Pulling NDX's Price\n",
      "Pulling NDX's MarketCap\n",
      "Pulling NDX's TransactionCount\n",
      "Pulling NDX's ActiveAddress\n"
     ]
    },
    {
     "name": "stderr",
     "output_type": "stream",
     "text": [
      "\r",
      " 57%|████████████████████████                  | 71/124 [02:02<01:11,  1.35s/it]"
     ]
    },
    {
     "name": "stdout",
     "output_type": "stream",
     "text": [
      "NDX data successfully pulled\n",
      "\n",
      "Start Pulling NEXO's data:\n",
      "Pulling NEXO's Price\n",
      "Pulling NEXO's MarketCap\n",
      "Pulling NEXO's TransactionCount\n",
      "Pulling NEXO's ActiveAddress\n"
     ]
    },
    {
     "name": "stderr",
     "output_type": "stream",
     "text": [
      "\r",
      " 58%|████████████████████████▍                 | 72/124 [02:04<01:07,  1.30s/it]"
     ]
    },
    {
     "name": "stdout",
     "output_type": "stream",
     "text": [
      "NEXO data successfully pulled\n",
      "\n",
      "Start Pulling NFTX's data:\n",
      "Pulling NFTX's Price\n",
      "Pulling NFTX's MarketCap\n",
      "Pulling NFTX's TransactionCount\n",
      "Pulling NFTX's ActiveAddress\n"
     ]
    },
    {
     "name": "stderr",
     "output_type": "stream",
     "text": [
      "\r",
      " 59%|████████████████████████▋                 | 73/124 [02:05<01:05,  1.28s/it]"
     ]
    },
    {
     "name": "stdout",
     "output_type": "stream",
     "text": [
      "NFTX data successfully pulled\n",
      "\n",
      "Start Pulling NMR's data:\n",
      "Pulling NMR's Price\n",
      "Pulling NMR's MarketCap\n",
      "Pulling NMR's TransactionCount\n",
      "Pulling NMR's ActiveAddress\n"
     ]
    },
    {
     "name": "stderr",
     "output_type": "stream",
     "text": [
      "\r",
      " 60%|█████████████████████████                 | 74/124 [02:06<01:07,  1.35s/it]"
     ]
    },
    {
     "name": "stdout",
     "output_type": "stream",
     "text": [
      "NMR data successfully pulled\n",
      "\n",
      "Start Pulling Nsure's data:\n",
      "Pulling Nsure's Price\n",
      "Pulling Nsure's MarketCap\n",
      "Pulling Nsure's TransactionCount\n",
      "Pulling Nsure's ActiveAddress\n"
     ]
    },
    {
     "name": "stderr",
     "output_type": "stream",
     "text": [
      "\r",
      " 60%|█████████████████████████▍                | 75/124 [02:08<01:04,  1.31s/it]"
     ]
    },
    {
     "name": "stdout",
     "output_type": "stream",
     "text": [
      "Nsure data successfully pulled\n",
      "\n",
      "Start Pulling OCEAN's data:\n",
      "Pulling OCEAN's Price\n",
      "Pulling OCEAN's MarketCap\n",
      "Pulling OCEAN's TransactionCount\n",
      "Pulling OCEAN's ActiveAddress\n"
     ]
    },
    {
     "name": "stderr",
     "output_type": "stream",
     "text": [
      "\r",
      " 61%|█████████████████████████▋                | 76/124 [02:09<01:02,  1.30s/it]"
     ]
    },
    {
     "name": "stdout",
     "output_type": "stream",
     "text": [
      "OCEAN data successfully pulled\n",
      "\n",
      "Start Pulling OKB's data:\n",
      "Pulling OKB's Price\n",
      "Pulling OKB's MarketCap\n",
      "Pulling OKB's TransactionCount\n",
      "Pulling OKB's ActiveAddress\n"
     ]
    },
    {
     "name": "stderr",
     "output_type": "stream",
     "text": [
      "\r",
      " 62%|██████████████████████████                | 77/124 [02:11<01:07,  1.43s/it]"
     ]
    },
    {
     "name": "stdout",
     "output_type": "stream",
     "text": [
      "OKB data successfully pulled\n",
      "\n",
      "Start Pulling OMG's data:\n",
      "Pulling OMG's Price\n",
      "Pulling OMG's MarketCap\n",
      "Pulling OMG's TransactionCount\n",
      "Pulling OMG's ActiveAddress\n"
     ]
    },
    {
     "name": "stderr",
     "output_type": "stream",
     "text": [
      "\r",
      " 63%|██████████████████████████▍               | 78/124 [02:12<01:04,  1.40s/it]"
     ]
    },
    {
     "name": "stdout",
     "output_type": "stream",
     "text": [
      "OMG data successfully pulled\n",
      "\n",
      "Start Pulling PAY's data:\n",
      "Pulling PAY's Price\n",
      "Pulling PAY's MarketCap\n",
      "Pulling PAY's TransactionCount\n",
      "Pulling PAY's ActiveAddress\n"
     ]
    },
    {
     "name": "stderr",
     "output_type": "stream",
     "text": [
      "\r",
      " 64%|██████████████████████████▊               | 79/124 [02:13<01:04,  1.43s/it]"
     ]
    },
    {
     "name": "stdout",
     "output_type": "stream",
     "text": [
      "PAY data successfully pulled\n",
      "\n",
      "Start Pulling PERP's data:\n",
      "Pulling PERP's Price\n",
      "Pulling PERP's MarketCap\n",
      "Pulling PERP's TransactionCount\n",
      "Pulling PERP's ActiveAddress\n"
     ]
    },
    {
     "name": "stderr",
     "output_type": "stream",
     "text": [
      "\r",
      " 65%|███████████████████████████               | 80/124 [02:15<01:04,  1.47s/it]"
     ]
    },
    {
     "name": "stdout",
     "output_type": "stream",
     "text": [
      "PERP data successfully pulled\n",
      "\n",
      "Start Pulling PICKLE's data:\n",
      "Pulling PICKLE's Price\n",
      "Pulling PICKLE's MarketCap\n",
      "Pulling PICKLE's TransactionCount\n",
      "Pulling PICKLE's ActiveAddress\n"
     ]
    },
    {
     "name": "stderr",
     "output_type": "stream",
     "text": [
      "\r",
      " 65%|███████████████████████████▍              | 81/124 [02:17<01:11,  1.65s/it]"
     ]
    },
    {
     "name": "stdout",
     "output_type": "stream",
     "text": [
      "PICKLE data successfully pulled\n",
      "\n",
      "Start Pulling PNK's data:\n",
      "Pulling PNK's Price\n",
      "Pulling PNK's MarketCap\n",
      "Pulling PNK's TransactionCount\n",
      "Pulling PNK's ActiveAddress\n"
     ]
    },
    {
     "name": "stderr",
     "output_type": "stream",
     "text": [
      "\r",
      " 66%|███████████████████████████▊              | 82/124 [02:19<01:12,  1.72s/it]"
     ]
    },
    {
     "name": "stdout",
     "output_type": "stream",
     "text": [
      "PNK data successfully pulled\n",
      "\n",
      "Start Pulling PNT's data:\n",
      "Pulling PNT's Price\n",
      "Pulling PNT's MarketCap\n",
      "Pulling PNT's TransactionCount\n",
      "Pulling PNT's ActiveAddress\n"
     ]
    },
    {
     "name": "stderr",
     "output_type": "stream",
     "text": [
      "\r",
      " 67%|████████████████████████████              | 83/124 [02:20<01:03,  1.56s/it]"
     ]
    },
    {
     "name": "stdout",
     "output_type": "stream",
     "text": [
      "PNT data successfully pulled\n",
      "\n",
      "Start Pulling POLY's data:\n",
      "Pulling POLY's Price\n",
      "Pulling POLY's MarketCap\n",
      "Pulling POLY's TransactionCount\n",
      "Pulling POLY's ActiveAddress\n"
     ]
    },
    {
     "name": "stderr",
     "output_type": "stream",
     "text": [
      "\r",
      " 68%|████████████████████████████▍             | 84/124 [02:21<00:59,  1.49s/it]"
     ]
    },
    {
     "name": "stdout",
     "output_type": "stream",
     "text": [
      "POLY data successfully pulled\n",
      "\n",
      "Start Pulling POWR's data:\n",
      "Pulling POWR's Price\n",
      "Pulling POWR's MarketCap\n",
      "Pulling POWR's TransactionCount\n",
      "Pulling POWR's ActiveAddress\n"
     ]
    },
    {
     "name": "stderr",
     "output_type": "stream",
     "text": [
      "\r",
      " 69%|████████████████████████████▊             | 85/124 [02:23<01:01,  1.58s/it]"
     ]
    },
    {
     "name": "stdout",
     "output_type": "stream",
     "text": [
      "POWR data successfully pulled\n",
      "\n",
      "Start Pulling PPT's data:\n",
      "Pulling PPT's Price\n",
      "Pulling PPT's MarketCap\n",
      "Pulling PPT's TransactionCount\n",
      "Pulling PPT's ActiveAddress\n"
     ]
    },
    {
     "name": "stderr",
     "output_type": "stream",
     "text": [
      "\r",
      " 69%|█████████████████████████████▏            | 86/124 [02:24<00:55,  1.47s/it]"
     ]
    },
    {
     "name": "stdout",
     "output_type": "stream",
     "text": [
      "PPT data successfully pulled\n",
      "\n",
      "Start Pulling QASH's data:\n",
      "Pulling QASH's Price\n",
      "Pulling QASH's MarketCap\n",
      "Pulling QASH's TransactionCount\n",
      "Pulling QASH's ActiveAddress\n"
     ]
    },
    {
     "name": "stderr",
     "output_type": "stream",
     "text": [
      "\r",
      " 70%|█████████████████████████████▍            | 87/124 [02:28<01:12,  1.97s/it]"
     ]
    },
    {
     "name": "stdout",
     "output_type": "stream",
     "text": [
      "QASH data successfully pulled\n",
      "\n",
      "Start Pulling QKC's data:\n",
      "Pulling QKC's Price\n",
      "Pulling QKC's MarketCap\n",
      "Pulling QKC's TransactionCount\n",
      "Pulling QKC's ActiveAddress\n"
     ]
    },
    {
     "name": "stderr",
     "output_type": "stream",
     "text": [
      "\r",
      " 71%|█████████████████████████████▊            | 88/124 [02:29<01:03,  1.77s/it]"
     ]
    },
    {
     "name": "stdout",
     "output_type": "stream",
     "text": [
      "QKC data successfully pulled\n",
      "\n",
      "Start Pulling QNT's data:\n",
      "Pulling QNT's Price\n",
      "Pulling QNT's MarketCap\n",
      "Pulling QNT's TransactionCount\n",
      "Pulling QNT's ActiveAddress\n"
     ]
    },
    {
     "name": "stderr",
     "output_type": "stream",
     "text": [
      "\r",
      " 72%|██████████████████████████████▏           | 89/124 [02:31<01:01,  1.76s/it]"
     ]
    },
    {
     "name": "stdout",
     "output_type": "stream",
     "text": [
      "QNT data successfully pulled\n",
      "\n",
      "Start Pulling RDN's data:\n",
      "Pulling RDN's Price\n",
      "Pulling RDN's MarketCap\n",
      "Pulling RDN's TransactionCount\n",
      "Pulling RDN's ActiveAddress\n"
     ]
    },
    {
     "name": "stderr",
     "output_type": "stream",
     "text": [
      "\r",
      " 73%|██████████████████████████████▍           | 90/124 [02:32<00:57,  1.70s/it]"
     ]
    },
    {
     "name": "stdout",
     "output_type": "stream",
     "text": [
      "RDN data successfully pulled\n",
      "\n",
      "Start Pulling REN's data:\n",
      "Pulling REN's Price\n",
      "Pulling REN's MarketCap\n",
      "Pulling REN's TransactionCount\n",
      "Pulling REN's ActiveAddress\n"
     ]
    },
    {
     "name": "stderr",
     "output_type": "stream",
     "text": [
      "\r",
      " 73%|██████████████████████████████▊           | 91/124 [02:34<00:56,  1.70s/it]"
     ]
    },
    {
     "name": "stdout",
     "output_type": "stream",
     "text": [
      "REN data successfully pulled\n",
      "\n",
      "Start Pulling REP's data:\n",
      "Pulling REP's Price\n",
      "Pulling REP's MarketCap\n",
      "Pulling REP's TransactionCount\n",
      "Pulling REP's ActiveAddress\n"
     ]
    },
    {
     "name": "stderr",
     "output_type": "stream",
     "text": [
      "\r",
      " 74%|███████████████████████████████▏          | 92/124 [02:36<00:59,  1.86s/it]"
     ]
    },
    {
     "name": "stdout",
     "output_type": "stream",
     "text": [
      "REP data successfully pulled\n",
      "\n",
      "Start Pulling RLC's data:\n",
      "Pulling RLC's Price\n",
      "Pulling RLC's MarketCap\n",
      "Pulling RLC's TransactionCount\n",
      "Pulling RLC's ActiveAddress\n"
     ]
    },
    {
     "name": "stderr",
     "output_type": "stream",
     "text": [
      "\r",
      " 75%|███████████████████████████████▌          | 93/124 [02:38<00:54,  1.77s/it]"
     ]
    },
    {
     "name": "stdout",
     "output_type": "stream",
     "text": [
      "RLC data successfully pulled\n",
      "\n",
      "Start Pulling ROOK's data:\n",
      "Pulling ROOK's Price\n",
      "Pulling ROOK's MarketCap\n",
      "Pulling ROOK's TransactionCount\n",
      "Pulling ROOK's ActiveAddress\n"
     ]
    },
    {
     "name": "stderr",
     "output_type": "stream",
     "text": [
      "\r",
      " 76%|███████████████████████████████▊          | 94/124 [02:39<00:47,  1.58s/it]"
     ]
    },
    {
     "name": "stdout",
     "output_type": "stream",
     "text": [
      "ROOK data successfully pulled\n",
      "\n",
      "Start Pulling RPL's data:\n",
      "Pulling RPL's Price\n",
      "Pulling RPL's MarketCap\n",
      "Pulling RPL's TransactionCount\n",
      "Pulling RPL's ActiveAddress\n"
     ]
    },
    {
     "name": "stderr",
     "output_type": "stream",
     "text": [
      "\r",
      " 77%|████████████████████████████████▏         | 95/124 [02:40<00:43,  1.50s/it]"
     ]
    },
    {
     "name": "stdout",
     "output_type": "stream",
     "text": [
      "RPL data successfully pulled\n",
      "\n",
      "Start Pulling RSR's data:\n",
      "Pulling RSR's Price\n",
      "Pulling RSR's MarketCap\n",
      "Pulling RSR's TransactionCount\n",
      "Pulling RSR's ActiveAddress\n"
     ]
    },
    {
     "name": "stderr",
     "output_type": "stream",
     "text": [
      "\r",
      " 77%|████████████████████████████████▌         | 96/124 [02:41<00:40,  1.43s/it]"
     ]
    },
    {
     "name": "stdout",
     "output_type": "stream",
     "text": [
      "RSR data successfully pulled\n",
      "\n",
      "Start Pulling SAI's data:\n",
      "Pulling SAI's Price\n",
      "Pulling SAI's MarketCap\n",
      "Pulling SAI's TransactionCount\n",
      "Pulling SAI's ActiveAddress\n"
     ]
    },
    {
     "name": "stderr",
     "output_type": "stream",
     "text": [
      "\r",
      " 78%|████████████████████████████████▊         | 97/124 [02:43<00:39,  1.44s/it]"
     ]
    },
    {
     "name": "stdout",
     "output_type": "stream",
     "text": [
      "SAI data successfully pulled\n",
      "\n",
      "Start Pulling SAN's data:\n",
      "Pulling SAN's Price\n",
      "Pulling SAN's MarketCap\n",
      "Pulling SAN's TransactionCount\n",
      "Pulling SAN's ActiveAddress\n"
     ]
    },
    {
     "name": "stderr",
     "output_type": "stream",
     "text": [
      "\r",
      " 79%|█████████████████████████████████▏        | 98/124 [02:45<00:43,  1.69s/it]"
     ]
    },
    {
     "name": "stdout",
     "output_type": "stream",
     "text": [
      "SAN data successfully pulled\n",
      "\n",
      "Start Pulling SNT's data:\n",
      "Pulling SNT's Price\n",
      "Pulling SNT's MarketCap\n",
      "Pulling SNT's TransactionCount\n",
      "Pulling SNT's ActiveAddress\n"
     ]
    },
    {
     "name": "stderr",
     "output_type": "stream",
     "text": [
      "\r",
      " 80%|█████████████████████████████████▌        | 99/124 [02:47<00:40,  1.62s/it]"
     ]
    },
    {
     "name": "stdout",
     "output_type": "stream",
     "text": [
      "SNT data successfully pulled\n",
      "\n",
      "Start Pulling SNX's data:\n",
      "Pulling SNX's Price\n",
      "Pulling SNX's MarketCap\n",
      "Pulling SNX's TransactionCount\n",
      "Pulling SNX's ActiveAddress\n"
     ]
    },
    {
     "name": "stderr",
     "output_type": "stream",
     "text": [
      "\r",
      " 81%|█████████████████████████████████        | 100/124 [02:48<00:36,  1.53s/it]"
     ]
    },
    {
     "name": "stdout",
     "output_type": "stream",
     "text": [
      "SNX data successfully pulled\n",
      "\n",
      "Start Pulling STAKE's data:\n",
      "Pulling STAKE's Price\n",
      "Pulling STAKE's MarketCap\n",
      "Pulling STAKE's TransactionCount\n",
      "Pulling STAKE's ActiveAddress\n"
     ]
    },
    {
     "name": "stderr",
     "output_type": "stream",
     "text": [
      "\r",
      " 81%|█████████████████████████████████▍       | 101/124 [02:49<00:33,  1.47s/it]"
     ]
    },
    {
     "name": "stdout",
     "output_type": "stream",
     "text": [
      "STAKE data successfully pulled\n",
      "\n",
      "Start Pulling STORJ's data:\n",
      "Pulling STORJ's Price\n",
      "Pulling STORJ's MarketCap\n",
      "Pulling STORJ's TransactionCount\n",
      "Pulling STORJ's ActiveAddress\n"
     ]
    },
    {
     "name": "stderr",
     "output_type": "stream",
     "text": [
      "\r",
      " 82%|█████████████████████████████████▋       | 102/124 [02:50<00:30,  1.39s/it]"
     ]
    },
    {
     "name": "stdout",
     "output_type": "stream",
     "text": [
      "STORJ data successfully pulled\n",
      "\n",
      "Start Pulling sUSD's data:\n",
      "Pulling sUSD's Price\n",
      "Pulling sUSD's MarketCap\n",
      "Pulling sUSD's TransactionCount\n",
      "Pulling sUSD's ActiveAddress\n"
     ]
    },
    {
     "name": "stderr",
     "output_type": "stream",
     "text": [
      "\r",
      " 83%|██████████████████████████████████       | 103/124 [02:52<00:28,  1.34s/it]"
     ]
    },
    {
     "name": "stdout",
     "output_type": "stream",
     "text": [
      "sUSD data successfully pulled\n",
      "\n",
      "Start Pulling SUSHI's data:\n",
      "Pulling SUSHI's Price\n",
      "Pulling SUSHI's MarketCap\n",
      "Pulling SUSHI's TransactionCount\n",
      "Pulling SUSHI's ActiveAddress\n"
     ]
    },
    {
     "name": "stderr",
     "output_type": "stream",
     "text": [
      "\r",
      " 84%|██████████████████████████████████▍      | 104/124 [02:53<00:25,  1.29s/it]"
     ]
    },
    {
     "name": "stdout",
     "output_type": "stream",
     "text": [
      "SUSHI data successfully pulled\n",
      "\n",
      "Start Pulling TEL's data:\n",
      "Pulling TEL's Price\n",
      "Pulling TEL's MarketCap\n",
      "Pulling TEL's TransactionCount\n",
      "Pulling TEL's ActiveAddress\n"
     ]
    },
    {
     "name": "stderr",
     "output_type": "stream",
     "text": [
      "\r",
      " 85%|██████████████████████████████████▋      | 105/124 [02:54<00:24,  1.27s/it]"
     ]
    },
    {
     "name": "stdout",
     "output_type": "stream",
     "text": [
      "TEL data successfully pulled\n",
      "\n",
      "Start Pulling TOP's data:\n",
      "Pulling TOP's Price\n",
      "Pulling TOP's MarketCap\n",
      "Pulling TOP's TransactionCount\n",
      "Pulling TOP's ActiveAddress\n"
     ]
    },
    {
     "name": "stderr",
     "output_type": "stream",
     "text": [
      "\r",
      " 85%|███████████████████████████████████      | 106/124 [02:55<00:22,  1.27s/it]"
     ]
    },
    {
     "name": "stdout",
     "output_type": "stream",
     "text": [
      "TOP data successfully pulled\n",
      "\n",
      "Start Pulling UBT's data:\n",
      "Pulling UBT's Price\n",
      "Pulling UBT's MarketCap\n",
      "Pulling UBT's TransactionCount\n",
      "Pulling UBT's ActiveAddress\n"
     ]
    },
    {
     "name": "stderr",
     "output_type": "stream",
     "text": [
      "\r",
      " 86%|███████████████████████████████████▍     | 107/124 [02:57<00:21,  1.29s/it]"
     ]
    },
    {
     "name": "stdout",
     "output_type": "stream",
     "text": [
      "UBT data successfully pulled\n",
      "\n",
      "Start Pulling UMA's data:\n",
      "Pulling UMA's Price\n",
      "Pulling UMA's MarketCap\n",
      "Pulling UMA's TransactionCount\n",
      "Pulling UMA's ActiveAddress\n"
     ]
    },
    {
     "name": "stderr",
     "output_type": "stream",
     "text": [
      "\r",
      " 87%|███████████████████████████████████▋     | 108/124 [02:58<00:20,  1.27s/it]"
     ]
    },
    {
     "name": "stdout",
     "output_type": "stream",
     "text": [
      "UMA data successfully pulled\n",
      "\n",
      "Start Pulling UNI's data:\n",
      "Pulling UNI's Price\n",
      "Pulling UNI's MarketCap\n",
      "Pulling UNI's TransactionCount\n",
      "Pulling UNI's ActiveAddress\n"
     ]
    },
    {
     "name": "stderr",
     "output_type": "stream",
     "text": [
      "\r",
      " 88%|████████████████████████████████████     | 109/124 [03:00<00:20,  1.37s/it]"
     ]
    },
    {
     "name": "stdout",
     "output_type": "stream",
     "text": [
      "UNI data successfully pulled\n",
      "\n",
      "Start Pulling USDC's data:\n",
      "Pulling USDC's Price\n",
      "Pulling USDC's MarketCap\n",
      "Pulling USDC's TransactionCount\n",
      "Pulling USDC's ActiveAddress\n"
     ]
    },
    {
     "name": "stderr",
     "output_type": "stream",
     "text": [
      "\r",
      " 89%|████████████████████████████████████▎    | 110/124 [03:01<00:19,  1.42s/it]"
     ]
    },
    {
     "name": "stdout",
     "output_type": "stream",
     "text": [
      "USDC data successfully pulled\n",
      "\n",
      "Start Pulling USDK's data:\n",
      "Pulling USDK's Price\n",
      "Pulling USDK's MarketCap\n",
      "Pulling USDK's TransactionCount\n",
      "Pulling USDK's ActiveAddress\n"
     ]
    },
    {
     "name": "stderr",
     "output_type": "stream",
     "text": [
      "\r",
      " 90%|████████████████████████████████████▋    | 111/124 [03:03<00:20,  1.54s/it]"
     ]
    },
    {
     "name": "stdout",
     "output_type": "stream",
     "text": [
      "USDK data successfully pulled\n",
      "\n",
      "Start Pulling USDP's data:\n",
      "Pulling USDP's Price\n",
      "Pulling USDP's MarketCap\n",
      "Pulling USDP's TransactionCount\n",
      "Pulling USDP's ActiveAddress\n"
     ]
    },
    {
     "name": "stderr",
     "output_type": "stream",
     "text": [
      "\r",
      " 90%|█████████████████████████████████████    | 112/124 [03:05<00:20,  1.75s/it]"
     ]
    },
    {
     "name": "stdout",
     "output_type": "stream",
     "text": [
      "USDP data successfully pulled\n",
      "\n",
      "Start Pulling USDT's data:\n",
      "Pulling USDT's Price\n",
      "Pulling USDT's MarketCap\n",
      "Pulling USDT's TransactionCount\n",
      "Pulling USDT's ActiveAddress\n"
     ]
    },
    {
     "name": "stderr",
     "output_type": "stream",
     "text": [
      "\r",
      " 91%|█████████████████████████████████████▎   | 113/124 [03:06<00:17,  1.59s/it]"
     ]
    },
    {
     "name": "stdout",
     "output_type": "stream",
     "text": [
      "USDT data successfully pulled\n",
      "\n",
      "Start Pulling UTK's data:\n",
      "Pulling UTK's Price\n",
      "Pulling UTK's MarketCap\n",
      "Pulling UTK's TransactionCount\n",
      "Pulling UTK's ActiveAddress\n"
     ]
    },
    {
     "name": "stderr",
     "output_type": "stream",
     "text": [
      "\r",
      " 92%|█████████████████████████████████████▋   | 114/124 [03:08<00:16,  1.63s/it]"
     ]
    },
    {
     "name": "stdout",
     "output_type": "stream",
     "text": [
      "UTK data successfully pulled\n",
      "\n",
      "Start Pulling VERI's data:\n",
      "Pulling VERI's Price\n",
      "Pulling VERI's MarketCap\n",
      "Pulling VERI's TransactionCount\n",
      "Pulling VERI's ActiveAddress\n"
     ]
    },
    {
     "name": "stderr",
     "output_type": "stream",
     "text": [
      "\r",
      " 93%|██████████████████████████████████████   | 115/124 [03:10<00:14,  1.64s/it]"
     ]
    },
    {
     "name": "stdout",
     "output_type": "stream",
     "text": [
      "VERI data successfully pulled\n",
      "\n",
      "Start Pulling WaBi's data:\n",
      "Pulling WaBi's Price\n",
      "Pulling WaBi's MarketCap\n",
      "Pulling WaBi's TransactionCount\n",
      "Pulling WaBi's ActiveAddress\n"
     ]
    },
    {
     "name": "stderr",
     "output_type": "stream",
     "text": [
      "\r",
      " 94%|██████████████████████████████████████▎  | 116/124 [03:13<00:18,  2.27s/it]"
     ]
    },
    {
     "name": "stdout",
     "output_type": "stream",
     "text": [
      "WaBi data successfully pulled\n",
      "\n",
      "Start Pulling WAX's data:\n",
      "Pulling WAX's Price\n",
      "Pulling WAX's MarketCap\n",
      "Pulling WAX's TransactionCount\n",
      "Pulling WAX's ActiveAddress\n"
     ]
    },
    {
     "name": "stderr",
     "output_type": "stream",
     "text": [
      "\r",
      " 94%|██████████████████████████████████████▋  | 117/124 [03:16<00:16,  2.30s/it]"
     ]
    },
    {
     "name": "stdout",
     "output_type": "stream",
     "text": [
      "WAX data successfully pulled\n",
      "\n",
      "Start Pulling WBTC's data:\n",
      "Pulling WBTC's Price\n",
      "Pulling WBTC's MarketCap\n",
      "Pulling WBTC's TransactionCount\n",
      "Pulling WBTC's ActiveAddress\n"
     ]
    },
    {
     "name": "stderr",
     "output_type": "stream",
     "text": [
      "\r",
      " 95%|███████████████████████████████████████  | 118/124 [03:17<00:11,  1.98s/it]"
     ]
    },
    {
     "name": "stdout",
     "output_type": "stream",
     "text": [
      "WBTC data successfully pulled\n",
      "\n",
      "Start Pulling WETH's data:\n",
      "Pulling WETH's Price\n",
      "Pulling WETH's MarketCap\n",
      "Pulling WETH's TransactionCount\n",
      "Pulling WETH's ActiveAddress\n"
     ]
    },
    {
     "name": "stderr",
     "output_type": "stream",
     "text": [
      "\r",
      " 96%|███████████████████████████████████████▎ | 119/124 [03:19<00:09,  1.84s/it]"
     ]
    },
    {
     "name": "stdout",
     "output_type": "stream",
     "text": [
      "WETH data successfully pulled\n",
      "\n",
      "Start Pulling wNXM's data:\n",
      "Pulling wNXM's Price\n",
      "Pulling wNXM's MarketCap\n",
      "Pulling wNXM's TransactionCount\n",
      "Pulling wNXM's ActiveAddress\n"
     ]
    },
    {
     "name": "stderr",
     "output_type": "stream",
     "text": [
      "\r",
      " 97%|███████████████████████████████████████▋ | 120/124 [03:20<00:06,  1.64s/it]"
     ]
    },
    {
     "name": "stdout",
     "output_type": "stream",
     "text": [
      "wNXM data successfully pulled\n",
      "\n",
      "Start Pulling WTC's data:\n",
      "Pulling WTC's Price\n",
      "Pulling WTC's MarketCap\n",
      "Pulling WTC's TransactionCount\n",
      "Pulling WTC's ActiveAddress\n"
     ]
    },
    {
     "name": "stderr",
     "output_type": "stream",
     "text": [
      "\r",
      " 98%|████████████████████████████████████████ | 121/124 [03:21<00:04,  1.59s/it]"
     ]
    },
    {
     "name": "stdout",
     "output_type": "stream",
     "text": [
      "WTC data successfully pulled\n",
      "\n",
      "Start Pulling YAM's data:\n",
      "Pulling YAM's Price\n",
      "Pulling YAM's MarketCap\n",
      "Pulling YAM's TransactionCount\n",
      "Pulling YAM's ActiveAddress\n"
     ]
    },
    {
     "name": "stderr",
     "output_type": "stream",
     "text": [
      "\r",
      " 98%|████████████████████████████████████████▎| 122/124 [03:22<00:02,  1.48s/it]"
     ]
    },
    {
     "name": "stdout",
     "output_type": "stream",
     "text": [
      "YAM data successfully pulled\n",
      "\n",
      "Start Pulling YFI's data:\n",
      "Pulling YFI's Price\n",
      "Pulling YFI's MarketCap\n",
      "Pulling YFI's TransactionCount\n",
      "Pulling YFI's ActiveAddress\n"
     ]
    },
    {
     "name": "stderr",
     "output_type": "stream",
     "text": [
      "\r",
      " 99%|████████████████████████████████████████▋| 123/124 [03:24<00:01,  1.43s/it]"
     ]
    },
    {
     "name": "stdout",
     "output_type": "stream",
     "text": [
      "YFI data successfully pulled\n",
      "\n",
      "Start Pulling ZRX's data:\n",
      "Pulling ZRX's Price\n",
      "Pulling ZRX's MarketCap\n",
      "Pulling ZRX's TransactionCount\n",
      "Pulling ZRX's ActiveAddress\n"
     ]
    },
    {
     "name": "stderr",
     "output_type": "stream",
     "text": [
      "100%|█████████████████████████████████████████| 124/124 [03:25<00:00,  1.66s/it]"
     ]
    },
    {
     "name": "stdout",
     "output_type": "stream",
     "text": [
      "ZRX data successfully pulled\n",
      "\n",
      "All Frames Merged\n",
      "\n",
      "ALL DATA SUCCESSFULLY PULLED!\n"
     ]
    },
    {
     "name": "stderr",
     "output_type": "stream",
     "text": [
      "\n"
     ]
    }
   ],
   "source": [
    "# Get fullSample Raw Data(Without Return)\n",
    "fullSample_raw = PullStart(symbolList)\n",
    "\n",
    "# Add Return to fullSample\n",
    "fullSample_add = AddReturn(fullSample_raw)\n",
    "\n",
    "# Impute missing value using interploration method\n",
    "fullSample = InterpolationImpute(fullSample_add)\n",
    "\n"
   ]
  },
  {
   "cell_type": "code",
   "execution_count": 132,
   "metadata": {},
   "outputs": [
    {
     "data": {
      "text/plain": [
       "Date                  0\n",
       "Price               122\n",
       "MarketCap             0\n",
       "TransactionCount     49\n",
       "ActiveAddress         0\n",
       "RiskFree            744\n",
       "Asset                 0\n",
       "Return              122\n",
       "dtype: int64"
      ]
     },
     "execution_count": 132,
     "metadata": {},
     "output_type": "execute_result"
    }
   ],
   "source": [
    "fullSample_add.isnull().sum()"
   ]
  },
  {
   "cell_type": "code",
   "execution_count": 134,
   "metadata": {},
   "outputs": [
    {
     "data": {
      "text/plain": [
       "Date                0\n",
       "Price               0\n",
       "MarketCap           0\n",
       "TransactionCount    0\n",
       "ActiveAddress       0\n",
       "RiskFree            0\n",
       "Asset               0\n",
       "Return              0\n",
       "dtype: int64"
      ]
     },
     "execution_count": 134,
     "metadata": {},
     "output_type": "execute_result"
    }
   ],
   "source": [
    "fullSample.isnull().sum() ## after imputation, note: already removed coins stopped trading"
   ]
  },
  {
   "cell_type": "code",
   "execution_count": null,
   "metadata": {},
   "outputs": [],
   "source": []
  },
  {
   "cell_type": "markdown",
   "metadata": {},
   "source": [
    "## 1.MKT \n",
    "### 1.1Get the large capitalization portfolio - largeCapSample\n",
    "Use (maket cap > 1m and top 100) to set up market porfolio"
   ]
  },
  {
   "cell_type": "code",
   "execution_count": 135,
   "metadata": {},
   "outputs": [],
   "source": [
    "largeCapport = fullSample.query(\"MarketCap > 1000000\")\n",
    "largeCapSample = largeCapport.groupby(['Date']).apply(lambda x: x.nlargest(100,['MarketCap'])).reset_index(drop=True)"
   ]
  },
  {
   "cell_type": "code",
   "execution_count": 136,
   "metadata": {},
   "outputs": [
    {
     "data": {
      "text/plain": [
       "Date                0\n",
       "Price               0\n",
       "MarketCap           0\n",
       "TransactionCount    0\n",
       "ActiveAddress       0\n",
       "RiskFree            0\n",
       "Asset               0\n",
       "Return              0\n",
       "dtype: int64"
      ]
     },
     "execution_count": 136,
     "metadata": {},
     "output_type": "execute_result"
    }
   ],
   "source": [
    "largeCapSample.isnull().sum()"
   ]
  },
  {
   "cell_type": "markdown",
   "metadata": {},
   "source": [
    "### 1.2 Calculate MKT for each week"
   ]
  },
  {
   "cell_type": "code",
   "execution_count": 138,
   "metadata": {},
   "outputs": [],
   "source": [
    "## largeCapSample is a big dataframe include all crypto currencies makcap greater than 1000000\n",
    "marketport = largeCapSample.groupby('Date')['MarketCap'].sum().reset_index(name='TotalMarketCap')\n",
    "\n",
    "marketInd = largeCapSample.copy()\n",
    "marketInd['weights'] = marketInd['Return'] * marketInd['MarketCap']\n",
    "recomp = marketInd.groupby('Date')['weights'].sum().reset_index(name='TotalMarketReturn')\n",
    "marketport['MarketIndexReturn'] = recomp['TotalMarketReturn']/ marketport['TotalMarketCap']"
   ]
  },
  {
   "cell_type": "code",
   "execution_count": 139,
   "metadata": {},
   "outputs": [],
   "source": [
    "riskfree = largeCapSample.groupby('Date')['RiskFree'].mean().reset_index()\n",
    "marketport = marketport.merge(riskfree, on='Date')\n",
    "marketport['MKT'] = marketport['MarketIndexReturn'] - marketport['RiskFree']\n",
    "MKT_f = marketport[['Date','MKT']]"
   ]
  },
  {
   "cell_type": "code",
   "execution_count": 140,
   "metadata": {},
   "outputs": [
    {
     "data": {
      "text/html": [
       "<div>\n",
       "<style scoped>\n",
       "    .dataframe tbody tr th:only-of-type {\n",
       "        vertical-align: middle;\n",
       "    }\n",
       "\n",
       "    .dataframe tbody tr th {\n",
       "        vertical-align: top;\n",
       "    }\n",
       "\n",
       "    .dataframe thead th {\n",
       "        text-align: right;\n",
       "    }\n",
       "</style>\n",
       "<table border=\"1\" class=\"dataframe\">\n",
       "  <thead>\n",
       "    <tr style=\"text-align: right;\">\n",
       "      <th></th>\n",
       "      <th>Date</th>\n",
       "      <th>MKT</th>\n",
       "    </tr>\n",
       "  </thead>\n",
       "  <tbody>\n",
       "    <tr>\n",
       "      <th>0</th>\n",
       "      <td>2021-05-03</td>\n",
       "      <td>0.118304</td>\n",
       "    </tr>\n",
       "    <tr>\n",
       "      <th>1</th>\n",
       "      <td>2021-05-10</td>\n",
       "      <td>-0.145881</td>\n",
       "    </tr>\n",
       "    <tr>\n",
       "      <th>2</th>\n",
       "      <td>2021-05-17</td>\n",
       "      <td>-0.280399</td>\n",
       "    </tr>\n",
       "    <tr>\n",
       "      <th>3</th>\n",
       "      <td>2021-05-24</td>\n",
       "      <td>0.069425</td>\n",
       "    </tr>\n",
       "    <tr>\n",
       "      <th>4</th>\n",
       "      <td>2021-05-31</td>\n",
       "      <td>0.042021</td>\n",
       "    </tr>\n",
       "  </tbody>\n",
       "</table>\n",
       "</div>"
      ],
      "text/plain": [
       "        Date       MKT\n",
       "0 2021-05-03  0.118304\n",
       "1 2021-05-10 -0.145881\n",
       "2 2021-05-17 -0.280399\n",
       "3 2021-05-24  0.069425\n",
       "4 2021-05-31  0.042021"
      ]
     },
     "execution_count": 140,
     "metadata": {},
     "output_type": "execute_result"
    }
   ],
   "source": [
    "MKT_f.head()"
   ]
  },
  {
   "cell_type": "code",
   "execution_count": 141,
   "metadata": {},
   "outputs": [
    {
     "data": {
      "text/plain": [
       "108"
      ]
     },
     "execution_count": 141,
     "metadata": {},
     "output_type": "execute_result"
    }
   ],
   "source": [
    "len(largeCapSample.Asset.unique())"
   ]
  },
  {
   "cell_type": "code",
   "execution_count": 142,
   "metadata": {},
   "outputs": [
    {
     "data": {
      "text/plain": [
       "121"
      ]
     },
     "execution_count": 142,
     "metadata": {},
     "output_type": "execute_result"
    }
   ],
   "source": [
    "len(fullSample.Asset.unique())"
   ]
  },
  {
   "cell_type": "markdown",
   "metadata": {},
   "source": [
    "## 2. Calculate Size - SMB (currently use full sample)"
   ]
  },
  {
   "cell_type": "markdown",
   "metadata": {},
   "source": [
    "### largeCap includes all the cryptos in the top cap 20%, smallCap includes all the cryptos in the bottom cap 20%"
   ]
  },
  {
   "cell_type": "code",
   "execution_count": 143,
   "metadata": {},
   "outputs": [
    {
     "data": {
      "text/html": [
       "<div>\n",
       "<style scoped>\n",
       "    .dataframe tbody tr th:only-of-type {\n",
       "        vertical-align: middle;\n",
       "    }\n",
       "\n",
       "    .dataframe tbody tr th {\n",
       "        vertical-align: top;\n",
       "    }\n",
       "\n",
       "    .dataframe thead th {\n",
       "        text-align: right;\n",
       "    }\n",
       "</style>\n",
       "<table border=\"1\" class=\"dataframe\">\n",
       "  <thead>\n",
       "    <tr style=\"text-align: right;\">\n",
       "      <th></th>\n",
       "      <th>Date</th>\n",
       "      <th>Price</th>\n",
       "      <th>MarketCap</th>\n",
       "      <th>TransactionCount</th>\n",
       "      <th>ActiveAddress</th>\n",
       "      <th>RiskFree</th>\n",
       "      <th>Asset</th>\n",
       "      <th>Return</th>\n",
       "    </tr>\n",
       "  </thead>\n",
       "  <tbody>\n",
       "    <tr>\n",
       "      <th>0</th>\n",
       "      <td>2021-05-03</td>\n",
       "      <td>58218.566077</td>\n",
       "      <td>1.088991e+12</td>\n",
       "      <td>2038316.0</td>\n",
       "      <td>6622607.0</td>\n",
       "      <td>0.0002</td>\n",
       "      <td>BTC</td>\n",
       "      <td>0.028357</td>\n",
       "    </tr>\n",
       "    <tr>\n",
       "      <th>1</th>\n",
       "      <td>2021-05-03</td>\n",
       "      <td>3932.359246</td>\n",
       "      <td>4.554030e+11</td>\n",
       "      <td>10602184.0</td>\n",
       "      <td>3548128.0</td>\n",
       "      <td>0.0002</td>\n",
       "      <td>ETH</td>\n",
       "      <td>0.331870</td>\n",
       "    </tr>\n",
       "    <tr>\n",
       "      <th>2</th>\n",
       "      <td>2021-05-03</td>\n",
       "      <td>1.000026</td>\n",
       "      <td>5.372178e+10</td>\n",
       "      <td>0.0</td>\n",
       "      <td>576798.0</td>\n",
       "      <td>0.0002</td>\n",
       "      <td>USDT</td>\n",
       "      <td>0.000035</td>\n",
       "    </tr>\n",
       "    <tr>\n",
       "      <th>3</th>\n",
       "      <td>2021-05-03</td>\n",
       "      <td>385.704466</td>\n",
       "      <td>2.608153e+10</td>\n",
       "      <td>882361.0</td>\n",
       "      <td>1438322.0</td>\n",
       "      <td>0.0002</td>\n",
       "      <td>LTC</td>\n",
       "      <td>0.433524</td>\n",
       "    </tr>\n",
       "    <tr>\n",
       "      <th>4</th>\n",
       "      <td>2021-05-03</td>\n",
       "      <td>52.096533</td>\n",
       "      <td>2.182895e+10</td>\n",
       "      <td>0.0</td>\n",
       "      <td>65705.0</td>\n",
       "      <td>0.0002</td>\n",
       "      <td>LINK</td>\n",
       "      <td>0.320233</td>\n",
       "    </tr>\n",
       "  </tbody>\n",
       "</table>\n",
       "</div>"
      ],
      "text/plain": [
       "        Date         Price     MarketCap  TransactionCount  ActiveAddress  \\\n",
       "0 2021-05-03  58218.566077  1.088991e+12         2038316.0      6622607.0   \n",
       "1 2021-05-03   3932.359246  4.554030e+11        10602184.0      3548128.0   \n",
       "2 2021-05-03      1.000026  5.372178e+10               0.0       576798.0   \n",
       "3 2021-05-03    385.704466  2.608153e+10          882361.0      1438322.0   \n",
       "4 2021-05-03     52.096533  2.182895e+10               0.0        65705.0   \n",
       "\n",
       "   RiskFree Asset    Return  \n",
       "0    0.0002   BTC  0.028357  \n",
       "1    0.0002   ETH  0.331870  \n",
       "2    0.0002  USDT  0.000035  \n",
       "3    0.0002   LTC  0.433524  \n",
       "4    0.0002  LINK  0.320233  "
      ]
     },
     "execution_count": 143,
     "metadata": {},
     "output_type": "execute_result"
    }
   ],
   "source": [
    "largeCap = fullSample.groupby(['Date']).apply(lambda \n",
    "                                                x: x.nlargest(round(0.2*len(symbolList)),\n",
    "                                                              ['MarketCap'])).reset_index(drop=True)\n",
    "\n",
    "smallCap = fullSample.groupby(['Date']).apply(lambda \n",
    "                                                x: x.nsmallest(round(0.2*len(symbolList)),\n",
    "                                                              ['MarketCap'])).reset_index(drop=True)\n",
    "largeCap.head()"
   ]
  },
  {
   "cell_type": "code",
   "execution_count": 144,
   "metadata": {},
   "outputs": [
    {
     "data": {
      "text/plain": [
       "122"
      ]
     },
     "execution_count": 144,
     "metadata": {},
     "output_type": "execute_result"
    }
   ],
   "source": [
    "len(largeCap.Asset.unique().sum())"
   ]
  },
  {
   "cell_type": "markdown",
   "metadata": {},
   "source": [
    "### <font color = 'green'> Method 1: using value weighted method"
   ]
  },
  {
   "cell_type": "code",
   "execution_count": 145,
   "metadata": {},
   "outputs": [],
   "source": [
    "largeInd = largeCap.copy()\n",
    "largeport = largeCap.groupby('Date')['MarketCap'].sum().reset_index(name='TotalMarketCap')\n",
    "\n",
    "largeInd['weights'] = largeInd['Return'] * largeInd['MarketCap']\n",
    "\n",
    "temp = largeInd.groupby('Date')['weights'].sum().reset_index(name='TotalMarketReturn')\n",
    "\n",
    "largeport['LargePortReturn'] = temp['TotalMarketReturn']/ largeport['TotalMarketCap']"
   ]
  },
  {
   "cell_type": "code",
   "execution_count": 146,
   "metadata": {},
   "outputs": [],
   "source": [
    "smallInd = smallCap.copy()\n",
    "smallport = smallCap.groupby('Date')['MarketCap'].sum().reset_index(name='TotalMarketCap')\n",
    "\n",
    "smallInd['weights'] = smallInd['Return'] * smallInd['MarketCap']\n",
    "\n",
    "temp = smallInd.groupby('Date')['weights'].sum().reset_index(name='TotalMarketReturn')\n",
    "\n",
    "smallport['SmallPortReturn'] = temp['TotalMarketReturn']/ smallport['TotalMarketCap']"
   ]
  },
  {
   "cell_type": "code",
   "execution_count": 147,
   "metadata": {},
   "outputs": [],
   "source": [
    "smallport['SMB'] = smallport['SmallPortReturn'] - largeport['LargePortReturn']\n",
    "smb_f = smallport[['Date','SMB']]"
   ]
  },
  {
   "cell_type": "code",
   "execution_count": 148,
   "metadata": {},
   "outputs": [
    {
     "data": {
      "text/html": [
       "<div>\n",
       "<style scoped>\n",
       "    .dataframe tbody tr th:only-of-type {\n",
       "        vertical-align: middle;\n",
       "    }\n",
       "\n",
       "    .dataframe tbody tr th {\n",
       "        vertical-align: top;\n",
       "    }\n",
       "\n",
       "    .dataframe thead th {\n",
       "        text-align: right;\n",
       "    }\n",
       "</style>\n",
       "<table border=\"1\" class=\"dataframe\">\n",
       "  <thead>\n",
       "    <tr style=\"text-align: right;\">\n",
       "      <th></th>\n",
       "      <th>Date</th>\n",
       "      <th>SMB</th>\n",
       "    </tr>\n",
       "  </thead>\n",
       "  <tbody>\n",
       "    <tr>\n",
       "      <th>0</th>\n",
       "      <td>2021-05-03</td>\n",
       "      <td>-0.065378</td>\n",
       "    </tr>\n",
       "    <tr>\n",
       "      <th>1</th>\n",
       "      <td>2021-05-10</td>\n",
       "      <td>-0.026721</td>\n",
       "    </tr>\n",
       "    <tr>\n",
       "      <th>2</th>\n",
       "      <td>2021-05-17</td>\n",
       "      <td>-0.215717</td>\n",
       "    </tr>\n",
       "    <tr>\n",
       "      <th>3</th>\n",
       "      <td>2021-05-24</td>\n",
       "      <td>0.066505</td>\n",
       "    </tr>\n",
       "    <tr>\n",
       "      <th>4</th>\n",
       "      <td>2021-05-31</td>\n",
       "      <td>0.036195</td>\n",
       "    </tr>\n",
       "  </tbody>\n",
       "</table>\n",
       "</div>"
      ],
      "text/plain": [
       "        Date       SMB\n",
       "0 2021-05-03 -0.065378\n",
       "1 2021-05-10 -0.026721\n",
       "2 2021-05-17 -0.215717\n",
       "3 2021-05-24  0.066505\n",
       "4 2021-05-31  0.036195"
      ]
     },
     "execution_count": 148,
     "metadata": {},
     "output_type": "execute_result"
    }
   ],
   "source": [
    "smb_f.head()"
   ]
  },
  {
   "cell_type": "code",
   "execution_count": 149,
   "metadata": {},
   "outputs": [
    {
     "data": {
      "text/html": [
       "<div>\n",
       "<style scoped>\n",
       "    .dataframe tbody tr th:only-of-type {\n",
       "        vertical-align: middle;\n",
       "    }\n",
       "\n",
       "    .dataframe tbody tr th {\n",
       "        vertical-align: top;\n",
       "    }\n",
       "\n",
       "    .dataframe thead th {\n",
       "        text-align: right;\n",
       "    }\n",
       "</style>\n",
       "<table border=\"1\" class=\"dataframe\">\n",
       "  <thead>\n",
       "    <tr style=\"text-align: right;\">\n",
       "      <th></th>\n",
       "      <th>Date</th>\n",
       "      <th>TotalMarketCap</th>\n",
       "      <th>SmallPortReturn</th>\n",
       "      <th>SMB</th>\n",
       "    </tr>\n",
       "  </thead>\n",
       "  <tbody>\n",
       "    <tr>\n",
       "      <th>0</th>\n",
       "      <td>2021-05-03</td>\n",
       "      <td>4.666271e+08</td>\n",
       "      <td>0.053903</td>\n",
       "      <td>-0.065378</td>\n",
       "    </tr>\n",
       "    <tr>\n",
       "      <th>1</th>\n",
       "      <td>2021-05-10</td>\n",
       "      <td>3.946338e+08</td>\n",
       "      <td>-0.172443</td>\n",
       "      <td>-0.026721</td>\n",
       "    </tr>\n",
       "    <tr>\n",
       "      <th>2</th>\n",
       "      <td>2021-05-17</td>\n",
       "      <td>2.200986e+08</td>\n",
       "      <td>-0.493379</td>\n",
       "      <td>-0.215717</td>\n",
       "    </tr>\n",
       "    <tr>\n",
       "      <th>3</th>\n",
       "      <td>2021-05-24</td>\n",
       "      <td>2.498192e+08</td>\n",
       "      <td>0.133241</td>\n",
       "      <td>0.066505</td>\n",
       "    </tr>\n",
       "    <tr>\n",
       "      <th>4</th>\n",
       "      <td>2021-05-31</td>\n",
       "      <td>2.693276e+08</td>\n",
       "      <td>0.076927</td>\n",
       "      <td>0.036195</td>\n",
       "    </tr>\n",
       "  </tbody>\n",
       "</table>\n",
       "</div>"
      ],
      "text/plain": [
       "        Date  TotalMarketCap  SmallPortReturn       SMB\n",
       "0 2021-05-03    4.666271e+08         0.053903 -0.065378\n",
       "1 2021-05-10    3.946338e+08        -0.172443 -0.026721\n",
       "2 2021-05-17    2.200986e+08        -0.493379 -0.215717\n",
       "3 2021-05-24    2.498192e+08         0.133241  0.066505\n",
       "4 2021-05-31    2.693276e+08         0.076927  0.036195"
      ]
     },
     "execution_count": 149,
     "metadata": {},
     "output_type": "execute_result"
    }
   ],
   "source": [
    "smallport.head()"
   ]
  },
  {
   "cell_type": "code",
   "execution_count": null,
   "metadata": {},
   "outputs": [],
   "source": []
  },
  {
   "cell_type": "markdown",
   "metadata": {},
   "source": [
    "### <font color = 'green'> Method 2: using equal weighted method"
   ]
  },
  {
   "cell_type": "code",
   "execution_count": 150,
   "metadata": {},
   "outputs": [],
   "source": [
    "largeport2 = largeCap.groupby('Date')['Return'].mean().reset_index(name='LargePortReturn')\n",
    "smallport2 = smallCap.groupby('Date')['Return'].mean().reset_index(name='SmallPortReturn')\n",
    "smallport2['SMB'] = smallport2['SmallPortReturn'] - largeport2['LargePortReturn']\n",
    "smb_f2 = smallport2[['Date','SMB']]"
   ]
  },
  {
   "cell_type": "code",
   "execution_count": 151,
   "metadata": {},
   "outputs": [
    {
     "data": {
      "text/html": [
       "<div>\n",
       "<style scoped>\n",
       "    .dataframe tbody tr th:only-of-type {\n",
       "        vertical-align: middle;\n",
       "    }\n",
       "\n",
       "    .dataframe tbody tr th {\n",
       "        vertical-align: top;\n",
       "    }\n",
       "\n",
       "    .dataframe thead th {\n",
       "        text-align: right;\n",
       "    }\n",
       "</style>\n",
       "<table border=\"1\" class=\"dataframe\">\n",
       "  <thead>\n",
       "    <tr style=\"text-align: right;\">\n",
       "      <th></th>\n",
       "      <th>Date</th>\n",
       "      <th>SMB</th>\n",
       "    </tr>\n",
       "  </thead>\n",
       "  <tbody>\n",
       "    <tr>\n",
       "      <th>0</th>\n",
       "      <td>2021-05-03</td>\n",
       "      <td>-0.168220</td>\n",
       "    </tr>\n",
       "    <tr>\n",
       "      <th>1</th>\n",
       "      <td>2021-05-10</td>\n",
       "      <td>-0.128466</td>\n",
       "    </tr>\n",
       "    <tr>\n",
       "      <th>2</th>\n",
       "      <td>2021-05-17</td>\n",
       "      <td>-0.104422</td>\n",
       "    </tr>\n",
       "    <tr>\n",
       "      <th>3</th>\n",
       "      <td>2021-05-24</td>\n",
       "      <td>-0.033261</td>\n",
       "    </tr>\n",
       "    <tr>\n",
       "      <th>4</th>\n",
       "      <td>2021-05-31</td>\n",
       "      <td>0.035372</td>\n",
       "    </tr>\n",
       "  </tbody>\n",
       "</table>\n",
       "</div>"
      ],
      "text/plain": [
       "        Date       SMB\n",
       "0 2021-05-03 -0.168220\n",
       "1 2021-05-10 -0.128466\n",
       "2 2021-05-17 -0.104422\n",
       "3 2021-05-24 -0.033261\n",
       "4 2021-05-31  0.035372"
      ]
     },
     "execution_count": 151,
     "metadata": {},
     "output_type": "execute_result"
    }
   ],
   "source": [
    "smb_f2.head()"
   ]
  },
  {
   "cell_type": "markdown",
   "metadata": {},
   "source": [
    "## Linear Regression Model"
   ]
  },
  {
   "cell_type": "markdown",
   "metadata": {},
   "source": [
    "### test for a single crypto currency"
   ]
  },
  {
   "cell_type": "code",
   "execution_count": 154,
   "metadata": {},
   "outputs": [],
   "source": [
    "LTC_All = fullSample.query(\" Asset == 'LTC' \")\n",
    "ltc_reg = LTC_All[['Date','RiskFree','Return']]\n",
    "mkt_smb = MKT_f.merge(smb_f, on = 'Date', how = 'outer')\n",
    "ltc_reg = ltc_reg.merge(mkt_smb, on = 'Date', how = 'outer')"
   ]
  },
  {
   "cell_type": "code",
   "execution_count": 155,
   "metadata": {},
   "outputs": [
    {
     "data": {
      "text/html": [
       "<div>\n",
       "<style scoped>\n",
       "    .dataframe tbody tr th:only-of-type {\n",
       "        vertical-align: middle;\n",
       "    }\n",
       "\n",
       "    .dataframe tbody tr th {\n",
       "        vertical-align: top;\n",
       "    }\n",
       "\n",
       "    .dataframe thead th {\n",
       "        text-align: right;\n",
       "    }\n",
       "</style>\n",
       "<table border=\"1\" class=\"dataframe\">\n",
       "  <thead>\n",
       "    <tr style=\"text-align: right;\">\n",
       "      <th></th>\n",
       "      <th>Date</th>\n",
       "      <th>RiskFree</th>\n",
       "      <th>Return</th>\n",
       "      <th>MKT</th>\n",
       "      <th>SMB</th>\n",
       "      <th>ExcessReturn</th>\n",
       "    </tr>\n",
       "  </thead>\n",
       "  <tbody>\n",
       "    <tr>\n",
       "      <th>0</th>\n",
       "      <td>2021-05-03</td>\n",
       "      <td>0.0002</td>\n",
       "      <td>0.433524</td>\n",
       "      <td>0.118304</td>\n",
       "      <td>-0.065378</td>\n",
       "      <td>0.433324</td>\n",
       "    </tr>\n",
       "    <tr>\n",
       "      <th>1</th>\n",
       "      <td>2021-05-10</td>\n",
       "      <td>0.0002</td>\n",
       "      <td>-0.231293</td>\n",
       "      <td>-0.145881</td>\n",
       "      <td>-0.026721</td>\n",
       "      <td>-0.231493</td>\n",
       "    </tr>\n",
       "    <tr>\n",
       "      <th>2</th>\n",
       "      <td>2021-05-17</td>\n",
       "      <td>0.0000</td>\n",
       "      <td>-0.513065</td>\n",
       "      <td>-0.280399</td>\n",
       "      <td>-0.215717</td>\n",
       "      <td>-0.513065</td>\n",
       "    </tr>\n",
       "    <tr>\n",
       "      <th>3</th>\n",
       "      <td>2021-05-24</td>\n",
       "      <td>0.0001</td>\n",
       "      <td>0.183915</td>\n",
       "      <td>0.069425</td>\n",
       "      <td>0.066505</td>\n",
       "      <td>0.183815</td>\n",
       "    </tr>\n",
       "    <tr>\n",
       "      <th>4</th>\n",
       "      <td>2021-05-31</td>\n",
       "      <td>0.0001</td>\n",
       "      <td>0.032219</td>\n",
       "      <td>0.042021</td>\n",
       "      <td>0.036195</td>\n",
       "      <td>0.032119</td>\n",
       "    </tr>\n",
       "  </tbody>\n",
       "</table>\n",
       "</div>"
      ],
      "text/plain": [
       "        Date  RiskFree    Return       MKT       SMB  ExcessReturn\n",
       "0 2021-05-03    0.0002  0.433524  0.118304 -0.065378      0.433324\n",
       "1 2021-05-10    0.0002 -0.231293 -0.145881 -0.026721     -0.231493\n",
       "2 2021-05-17    0.0000 -0.513065 -0.280399 -0.215717     -0.513065\n",
       "3 2021-05-24    0.0001  0.183915  0.069425  0.066505      0.183815\n",
       "4 2021-05-31    0.0001  0.032219  0.042021  0.036195      0.032119"
      ]
     },
     "execution_count": 155,
     "metadata": {},
     "output_type": "execute_result"
    }
   ],
   "source": [
    "ltc_reg['ExcessReturn']=ltc_reg['Return'] - ltc_reg['RiskFree']\n",
    "ltc_reg.head(5)"
   ]
  },
  {
   "cell_type": "code",
   "execution_count": 156,
   "metadata": {},
   "outputs": [],
   "source": [
    "target = \"ExcessReturn\"\n",
    "feature1 = ['MKT']\n",
    "feature2 = ['SMB']\n",
    "features =['MKT', 'SMB']\n",
    "\n",
    "# features.remove(target)\n",
    "# features.remove(\"Date\")\n",
    "y = ltc_reg[target].copy()\n",
    "x1 = ltc_reg [feature1].copy()\n",
    "x2 = ltc_reg [feature2].copy()\n",
    "x3 = ltc_reg [features].copy()\n"
   ]
  },
  {
   "cell_type": "code",
   "execution_count": 157,
   "metadata": {},
   "outputs": [],
   "source": [
    "from sklearn.linear_model import LinearRegression\n",
    "from sklearn.metrics import mean_absolute_error, mean_squared_error, r2_score\n",
    "\n",
    "model1 = LinearRegression()\n",
    "model2 = LinearRegression()\n",
    "model3 = LinearRegression()"
   ]
  },
  {
   "cell_type": "code",
   "execution_count": 158,
   "metadata": {},
   "outputs": [
    {
     "data": {
      "text/plain": [
       "LinearRegression()"
      ]
     },
     "execution_count": 158,
     "metadata": {},
     "output_type": "execute_result"
    }
   ],
   "source": [
    "model1.fit(x1, y)\n",
    "model2.fit(x2, y)\n",
    "model3.fit(x3, y)"
   ]
  },
  {
   "cell_type": "code",
   "execution_count": 159,
   "metadata": {},
   "outputs": [],
   "source": [
    "y1 = model1.predict(x1)\n",
    "y2 = model2.predict(x2)\n",
    "y3 = model3.predict(x3)"
   ]
  },
  {
   "cell_type": "code",
   "execution_count": 160,
   "metadata": {},
   "outputs": [],
   "source": [
    "import numpy as np\n",
    "import matplotlib.pyplot as plt\n",
    "%matplotlib inline\n",
    "\n",
    "def myPlot(factor, excessreturn, model):\n",
    "    plt.scatter(factor, excessreturn, alpha=0.3)\n",
    "    x = np.linspace(factor.min(), factor.max())\n",
    "    y = model.predict(x.reshape(-1,1))\n",
    "    plt.plot(x, y, color='r')\n",
    "    plt.xlabel('factor')\n",
    "    plt.ylabel('Excess Return')\n",
    "    plt.title('Linear regression result for excess return and ONE factor')\n",
    "    plt.show()"
   ]
  },
  {
   "cell_type": "markdown",
   "metadata": {},
   "source": [
    "## Fator MKT vs Excess return"
   ]
  },
  {
   "cell_type": "code",
   "execution_count": 161,
   "metadata": {},
   "outputs": [
    {
     "data": {
      "image/png": "[encoded data removed]",
      "text/plain": [
       "<Figure size 432x288 with 1 Axes>"
      ]
     },
     "metadata": {
      "needs_background": "light"
     },
     "output_type": "display_data"
    }
   ],
   "source": [
    "myPlot(ltc_reg.MKT, ltc_reg.ExcessReturn, model1)"
   ]
  },
  {
   "cell_type": "code",
   "execution_count": 162,
   "metadata": {},
   "outputs": [
    {
     "name": "stdout",
     "output_type": "stream",
     "text": [
      "alpha for LTC with MKT is: -0.00763970274927746\n"
     ]
    }
   ],
   "source": [
    "### get the alpha with MKT factor only\n",
    "print('alpha for LTC with MKT is:', model1.intercept_)"
   ]
  },
  {
   "cell_type": "code",
   "execution_count": 163,
   "metadata": {},
   "outputs": [
    {
     "name": "stdout",
     "output_type": "stream",
     "text": [
      "MAS for MKT is  5.72e-02\n",
      "MSE for MKT is  6.91e-03\n",
      "R2_score for MKT is  0.72\n"
     ]
    }
   ],
   "source": [
    "### measure the performance of MKT Factor\n",
    "print('MAS for MKT is {: .2e}'.format(mean_absolute_error(y, y1)))\n",
    "print('MSE for MKT is {: .2e}'.format(mean_squared_error(y, y1)))\n",
    "print('R2_score for MKT is {: .2f}'.format(r2_score(y, y1)))\n"
   ]
  },
  {
   "cell_type": "code",
   "execution_count": 164,
   "metadata": {},
   "outputs": [
    {
     "data": {
      "image/png": "[encoded data removed]",
      "text/plain": [
       "<Figure size 432x288 with 1 Axes>"
      ]
     },
     "metadata": {
      "needs_background": "light"
     },
     "output_type": "display_data"
    }
   ],
   "source": [
    "myPlot(ltc_reg.SMB, ltc_reg.ExcessReturn, model2)"
   ]
  },
  {
   "cell_type": "code",
   "execution_count": 165,
   "metadata": {},
   "outputs": [
    {
     "name": "stdout",
     "output_type": "stream",
     "text": [
      "MAS for SMB is  1.05e-01\n",
      "MSE for SMB is  2.26e-02\n",
      "R2_score for SMB is  0.10\n"
     ]
    }
   ],
   "source": [
    "print('MAS for SMB is {: .2e}'.format(mean_absolute_error(y, y2)))\n",
    "print('MSE for SMB is {: .2e}'.format(mean_squared_error(y, y2)))\n",
    "print('R2_score for SMB is {: .2f}'.format(r2_score(y, y2)))"
   ]
  },
  {
   "cell_type": "code",
   "execution_count": 166,
   "metadata": {},
   "outputs": [
    {
     "name": "stdout",
     "output_type": "stream",
     "text": [
      "alpha for LTC with SMB is: 0.007903948578665942\n"
     ]
    }
   ],
   "source": [
    "### get the alpha with Size factor only\n",
    "print('alpha for LTC with SMB is:', model2.intercept_)"
   ]
  },
  {
   "cell_type": "code",
   "execution_count": null,
   "metadata": {},
   "outputs": [],
   "source": []
  },
  {
   "cell_type": "code",
   "execution_count": 167,
   "metadata": {},
   "outputs": [
    {
     "name": "stdout",
     "output_type": "stream",
     "text": [
      "MAS for MKT combined with SMB is  5.82e-02\n",
      "MSE for MKT combined with SMB is  6.89e-03\n",
      "R2_score for MKT combined with SMB is  0.72\n"
     ]
    }
   ],
   "source": [
    "print('MAS for MKT combined with SMB is {: .2e}'.format(mean_absolute_error(y, y3)))\n",
    "print('MSE for MKT combined with SMB is {: .2e}'.format(mean_squared_error(y, y3)))\n",
    "print('R2_score for MKT combined with SMB is {: .2f}'.format(r2_score(y, y3)))"
   ]
  },
  {
   "cell_type": "code",
   "execution_count": 168,
   "metadata": {},
   "outputs": [
    {
     "name": "stdout",
     "output_type": "stream",
     "text": [
      "alpha for LTC with combination for MKT and SMB is: -0.009172916280296015\n"
     ]
    }
   ],
   "source": [
    "print('alpha for LTC with combination for MKT and SMB is:', model3.intercept_)"
   ]
  },
  {
   "cell_type": "markdown",
   "metadata": {},
   "source": [
    "## Output a list of alphas for the top 10 crypto currencies using factors MKT & SMB"
   ]
  },
  {
   "cell_type": "code",
   "execution_count": 199,
   "metadata": {},
   "outputs": [],
   "source": [
    "from sklearn.linear_model import LinearRegression\n",
    "performance = {}\n",
    "factors = MKT_f.merge(smb_f, on = 'Date', how = 'outer')  \n",
    "features = factors.columns.tolist()\n",
    "features.remove('Date')\n",
    "target = \"ExcessReturn\"\n",
    "\n",
    "#currently only generate alphas for those crypto currencies whose makcap > 1m and top 100 at the latest week\n",
    "latest = largeCapSample.Date.max()\n",
    "latestLarge = largeCapSample.query(\"Date == @latest\")\n",
    "\n",
    "\n",
    "for index in latestLarge['Asset'].unique().tolist():\n",
    "    syntax = f\"Asset == '{index}'\"\n",
    "    segment = fullSample.query(syntax)\n",
    "    \n",
    "    reg = segment[['Date','RiskFree','Return']].merge(factors, on = 'Date', how = 'outer')\n",
    "    reg['ExcessReturn'] = reg['Return'] - reg['RiskFree']\n",
    "    y = reg [target].copy()\n",
    "    x = reg [features].copy()    \n",
    "    model = LinearRegression()\n",
    "    model.fit(x, y)\n",
    "    y_pred = model.predict(x)    \n",
    "    alpha = model.intercept_    \n",
    "    performance[index] = alpha\n"
   ]
  },
  {
   "cell_type": "code",
   "execution_count": 224,
   "metadata": {},
   "outputs": [
    {
     "data": {
      "text/html": [
       "<div>\n",
       "<style scoped>\n",
       "    .dataframe tbody tr th:only-of-type {\n",
       "        vertical-align: middle;\n",
       "    }\n",
       "\n",
       "    .dataframe tbody tr th {\n",
       "        vertical-align: top;\n",
       "    }\n",
       "\n",
       "    .dataframe thead th {\n",
       "        text-align: right;\n",
       "    }\n",
       "</style>\n",
       "<table border=\"1\" class=\"dataframe\">\n",
       "  <thead>\n",
       "    <tr style=\"text-align: right;\">\n",
       "      <th></th>\n",
       "      <th>Asset</th>\n",
       "      <th>Alpha</th>\n",
       "    </tr>\n",
       "  </thead>\n",
       "  <tbody>\n",
       "    <tr>\n",
       "      <th>98</th>\n",
       "      <td>HEGIC</td>\n",
       "      <td>-0.031660</td>\n",
       "    </tr>\n",
       "    <tr>\n",
       "      <th>75</th>\n",
       "      <td>MIR</td>\n",
       "      <td>-0.017986</td>\n",
       "    </tr>\n",
       "    <tr>\n",
       "      <th>57</th>\n",
       "      <td>RSR</td>\n",
       "      <td>-0.017301</td>\n",
       "    </tr>\n",
       "    <tr>\n",
       "      <th>64</th>\n",
       "      <td>FUN</td>\n",
       "      <td>-0.014028</td>\n",
       "    </tr>\n",
       "    <tr>\n",
       "      <th>83</th>\n",
       "      <td>BOND</td>\n",
       "      <td>-0.013643</td>\n",
       "    </tr>\n",
       "    <tr>\n",
       "      <th>35</th>\n",
       "      <td>BNT</td>\n",
       "      <td>-0.012883</td>\n",
       "    </tr>\n",
       "    <tr>\n",
       "      <th>43</th>\n",
       "      <td>SUSHI</td>\n",
       "      <td>-0.011480</td>\n",
       "    </tr>\n",
       "    <tr>\n",
       "      <th>99</th>\n",
       "      <td>WaBi</td>\n",
       "      <td>-0.010667</td>\n",
       "    </tr>\n",
       "    <tr>\n",
       "      <th>13</th>\n",
       "      <td>UNI</td>\n",
       "      <td>-0.010221</td>\n",
       "    </tr>\n",
       "    <tr>\n",
       "      <th>85</th>\n",
       "      <td>DODO</td>\n",
       "      <td>-0.010127</td>\n",
       "    </tr>\n",
       "  </tbody>\n",
       "</table>\n",
       "</div>"
      ],
      "text/plain": [
       "    Asset     Alpha\n",
       "98  HEGIC -0.031660\n",
       "75    MIR -0.017986\n",
       "57    RSR -0.017301\n",
       "64    FUN -0.014028\n",
       "83   BOND -0.013643\n",
       "35    BNT -0.012883\n",
       "43  SUSHI -0.011480\n",
       "99   WaBi -0.010667\n",
       "13    UNI -0.010221\n",
       "85   DODO -0.010127"
      ]
     },
     "execution_count": 224,
     "metadata": {},
     "output_type": "execute_result"
    }
   ],
   "source": [
    "##question: alpha, absolute value or just value?\n",
    "\n",
    "alp_sig = pd.DataFrame(list(performance.items()), columns = ['Asset','Alpha'])\n",
    "alp_sig = alp_sig.sort_values(by=['Alpha'])\n",
    "alp_sig.head(10)\n",
    "\n"
   ]
  },
  {
   "cell_type": "code",
   "execution_count": null,
   "metadata": {},
   "outputs": [],
   "source": []
  },
  {
   "cell_type": "markdown",
   "metadata": {},
   "source": [
    "## <font color='green'>Testing purpose : try to find the first date with available price"
   ]
  },
  {
   "cell_type": "code",
   "execution_count": 89,
   "metadata": {},
   "outputs": [],
   "source": [
    "df = pd.DataFrame(columns = LTC_All.columns.values)\n",
    "df['Asset'] = ''\n",
    "\n",
    "for i in symbolList:\n",
    "    \n",
    "    dfName = f\"{i}_All\" \n",
    "    test=pd.DataFrame\n",
    "    df1 = locals()[dfName][locals()[dfName].Price.notnull()].iloc[0]\n",
    "    \n",
    "    df1['Asset'] = i\n",
    "    df=df.append(df1, ignore_index=True)"
   ]
  },
  {
   "cell_type": "code",
   "execution_count": 90,
   "metadata": {},
   "outputs": [],
   "source": [
    "df.to_csv(\"firstavailable_price.csv\")"
   ]
  },
  {
   "cell_type": "code",
   "execution_count": 108,
   "metadata": {},
   "outputs": [],
   "source": [
    "new = df.sort_values(by=['Date'])"
   ]
  },
  {
   "cell_type": "code",
   "execution_count": 78,
   "metadata": {},
   "outputs": [
    {
     "data": {
      "text/plain": [
       "0        3.149100\n",
       "1        3.150000\n",
       "2        2.830000\n",
       "3        2.348333\n",
       "4        2.150000\n",
       "          ...    \n",
       "462    129.241438\n",
       "463    128.926292\n",
       "464    111.343007\n",
       "465    109.018201\n",
       "466    104.648982\n",
       "Name: Price, Length: 467, dtype: float64"
      ]
     },
     "execution_count": 78,
     "metadata": {},
     "output_type": "execute_result"
    }
   ],
   "source": [
    "LTC_All.Price.loc[~LTC_All.Price.isnull()]"
   ]
  },
  {
   "cell_type": "code",
   "execution_count": null,
   "metadata": {},
   "outputs": [],
   "source": []
  }
 ],
 "metadata": {
  "colab": {
   "name": "DataPullZ.ipynb",
   "provenance": []
  },
  "kernelspec": {
   "display_name": "Python 3 (ipykernel)",
   "language": "python",
   "name": "python3"
  },
  "language_info": {
   "codemirror_mode": {
    "name": "ipython",
    "version": 3
   },
   "file_extension": ".py",
   "mimetype": "text/x-python",
   "name": "python",
   "nbconvert_exporter": "python",
   "pygments_lexer": "ipython3",
   "version": "3.9.7"
  }
 },
 "nbformat": 4,
 "nbformat_minor": 1
}
