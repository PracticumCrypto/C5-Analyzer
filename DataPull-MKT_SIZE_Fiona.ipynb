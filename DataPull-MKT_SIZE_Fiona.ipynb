{
 "cells": [
  {
   "cell_type": "markdown",
   "metadata": {
    "id": "lh68fHXe8UTs"
   },
   "source": [
    "## Fixed Data:"
   ]
  },
  {
   "cell_type": "code",
   "execution_count": 1,
   "metadata": {
    "colab": {
     "base_uri": "https://localhost:8080/"
    },
    "id": "jjOiSHrVIxNU",
    "outputId": "8e1c6393-a343-4f83-f547-ceb3700dd420"
   },
   "outputs": [
    {
     "name": "stdout",
     "output_type": "stream",
     "text": [
      "Requirement already satisfied: fredapi in /Users/fionafu/opt/anaconda3/lib/python3.9/site-packages (0.5.0)\n",
      "Requirement already satisfied: pandas in /Users/fionafu/opt/anaconda3/lib/python3.9/site-packages (from fredapi) (1.3.4)\n",
      "Requirement already satisfied: python-dateutil>=2.7.3 in /Users/fionafu/opt/anaconda3/lib/python3.9/site-packages (from pandas->fredapi) (2.8.2)\n",
      "Requirement already satisfied: pytz>=2017.3 in /Users/fionafu/opt/anaconda3/lib/python3.9/site-packages (from pandas->fredapi) (2021.3)\n",
      "Requirement already satisfied: numpy>=1.17.3 in /Users/fionafu/opt/anaconda3/lib/python3.9/site-packages (from pandas->fredapi) (1.20.3)\n",
      "Requirement already satisfied: six>=1.5 in /Users/fionafu/opt/anaconda3/lib/python3.9/site-packages (from python-dateutil>=2.7.3->pandas->fredapi) (1.16.0)\n",
      "Note: you may need to restart the kernel to use updated packages.\n"
     ]
    }
   ],
   "source": [
    "pip install fredapi"
   ]
  },
  {
   "cell_type": "code",
   "execution_count": 2,
   "metadata": {
    "id": "xRHrfZma_zRz"
   },
   "outputs": [],
   "source": [
    "import pandas as pd\n",
    "from fredapi import Fred\n",
    "\n",
    "\n",
    "API_KEY = '1vGb0FOsg2hEIGrEhpueLCcWd1Y'\n",
    "FRED_API_KEY = 'b13a905b98b5dfc1f3910d6a0d875ae3'\n",
    "\n",
    "rootUrl = 'https://api.glassnode.com'\n",
    "\n",
    "symbolList = ['BTC', 'ETH', 'LTC', 'AAVE', 'ABT', 'AMPL', 'ANT', 'ARMOR', 'BADGER', 'BAL', 'BAND', 'BAT', 'BIX', 'BNT', 'BOND', 'BRD', 'BUSD', 'BZRX', 'CELR', 'CHSB', 'CND', 'COMP', 'CREAM', 'CRO', 'CRV', 'CVC', 'CVP', 'DAI', 'DDX', 'DENT', 'DGX', 'DHT', 'DMG', 'DODO', 'DOUGH', 'DRGN', 'ELF', 'ENG', 'ENJ', 'EURS', 'FET', 'FTT', 'FUN', 'GNO', 'GUSD', 'HEGIC', 'HOT', 'HPT', 'HT', 'HUSD', 'INDEX', 'KCS', 'LAMB', 'LBA', 'LDO', 'LEO', 'LINK', 'LOOM', 'LRC', 'MANA', 'MATIC',\n",
    "              'MCB', 'MCO', 'MFT', 'MIR', 'MKR', 'MLN', 'MTA', 'MTL', 'MX', 'NDX', 'NEXO', 'NFTX', 'NMR', 'Nsure', 'OCEAN', 'OKB', 'OMG', 'PAY', 'PERP', 'PICKLE', 'PNK', 'PNT', 'POLY', 'POWR', 'PPT', 'QASH', 'QKC', 'QNT', 'RDN', 'REN', 'REP', 'RLC', 'ROOK', 'RPL', 'RSR', 'SAI', 'SAN', 'SNT', 'SNX', 'STAKE', 'STORJ', 'sUSD', 'SUSHI', 'TEL', 'TOP', 'UBT', 'UMA', 'UNI', 'USDC', 'USDK', 'USDP', 'USDT', 'UTK', 'VERI', 'WaBi', 'WAX', 'WBTC', 'WETH', 'wNXM', 'WTC', 'YAM', 'YFI', 'ZRX']\n",
    "\n",
    "symbolListShort = ['BTC', 'ETH', 'LTC']\n",
    "\n",
    "endPoints = {\n",
    "    'Price': '/v1/metrics/market/price_usd_close',\n",
    "    'MarketCap': '/v1/metrics/market/marketcap_usd',\n",
    "    'TransactionCount': '/v1/metrics/transactions/count',\n",
    "    'ActiveAddress': '/v1/metrics/addresses/active_count',\n",
    "}"
   ]
  },
  {
   "cell_type": "markdown",
   "metadata": {
    "id": "7nlgSPPTKKkP"
   },
   "source": [
    "## Get Multiple Attributes for Multiple Coins:"
   ]
  },
  {
   "cell_type": "markdown",
   "metadata": {},
   "source": [
    "### Define a function to pull attributes, input coin type and attribute"
   ]
  },
  {
   "cell_type": "code",
   "execution_count": 3,
   "metadata": {
    "id": "NoAHRVf366me"
   },
   "outputs": [],
   "source": [
    "def PullData(coin: str,\n",
    "             feature: str):\n",
    "    \"\"\"This Method Pull Data According to Input Parameters(coin, feature)\n",
    "\n",
    "    Args:\n",
    "        coin (str): Name of a Coin. Like: \"BTC\"\n",
    "        feature (str): Feature of a Coin. Like: \"Price\"\n",
    "\n",
    "    Returns:\n",
    "        data (pd.DataFrame): A DataFrame Contains Date and Feature of One Coin\n",
    "    \"\"\"\n",
    "    print(f\"Pulling {coin}'s {feature}\")\n",
    "\n",
    "    import requests\n",
    "\n",
    "    # Assemble full request url and get responses:\n",
    "    reqUrl = rootUrl + endPoints[feature]\n",
    "    res = requests.get(reqUrl,\n",
    "                       params={'a': coin,\n",
    "                               'api_key': API_KEY,\n",
    "                               'i': '1w'})\n",
    "    data_raw = pd.read_json(res.text,\n",
    "                            convert_dates=['t'])\n",
    "\n",
    "    # Rename column \"v\" according to features\n",
    "    data = data_raw.rename(columns={\"v\": f\"{feature}\",\n",
    "                                    't': 'Date'})\n",
    "\n",
    "    # Return a dataframe\n",
    "    return data"
   ]
  },
  {
   "cell_type": "markdown",
   "metadata": {},
   "source": [
    "### Input a coin list, it will output all defined attributes"
   ]
  },
  {
   "cell_type": "code",
   "execution_count": 4,
   "metadata": {
    "colab": {
     "base_uri": "https://localhost:8080/"
    },
    "id": "hRBQM5TVKZO8",
    "outputId": "63911f86-3c92-4bbf-d87b-238b63730b23"
   },
   "outputs": [],
   "source": [
    "def PullStart(coinList: list):\n",
    "    \"\"\"This Method Gets Features(Listed in \"endPoints\"(Constant)) of Coins(Listed in \"coinList\"(Method Parameter))\n",
    "\n",
    "    Args:\n",
    "        coinList (list): The List of Coins' Name\n",
    "\n",
    "    Returns:\n",
    "        fullFrame (pd.DataFrame): A DataFrame Contains All Features of Listed Coin's\n",
    "    \"\"\"\n",
    "    # Initialization\n",
    "    from functools import reduce\n",
    "    from tqdm import tqdm\n",
    "    from fredapi import Fred\n",
    "\n",
    "    colName = [\"Date\"]\n",
    "    for key in endPoints.items():\n",
    "        colName.append(key)\n",
    "    fullFrame = pd.DataFrame(columns=colName.append(\"Asset\"))\n",
    "\n",
    "    # Pull Fred RiskFree\n",
    "    fred = Fred(api_key=FRED_API_KEY)\n",
    "    Risk_free_rate = fred.get_series('DGS1MO').to_frame().reset_index().rename(columns={'index': 'Date',\n",
    "                                                                                        0: 'RiskFree'})\n",
    "    Risk_free_rate['RiskFree'] = Risk_free_rate['RiskFree'] / 100\n",
    "\n",
    "    # Data Pull\n",
    "    for i in tqdm(coinList):\n",
    "        print(f\"Start Pulling {i}'s data:\")\n",
    "\n",
    "        # Preparation for merging\n",
    "        frameName = f\"{i}_Frames\"\n",
    "        locals()[frameName] = []\n",
    "\n",
    "        # Get data\n",
    "        for j in list(endPoints.keys()):\n",
    "            locals()[frameName].append(PullData(i,\n",
    "                                                j))\n",
    "\n",
    "        # Merge 2-column dataframes to a single dataframe\n",
    "        dfName = f\"{i}_All\"\n",
    "        # Outer Merge Glassnode to Ensure Not Missing Any Values.\n",
    "        # Left Merge Fred to ensure all the records in api stored.\n",
    "        locals()[dfName] = reduce(lambda left, right:\n",
    "                                  pd.merge(left, right,\n",
    "                                           on='Date',\n",
    "                                           how='outer'),\n",
    "                                  locals()[frameName]).merge(Risk_free_rate,\n",
    "                                                             how='left',\n",
    "                                                             on='Date').sort_values(by=['Date'])\n",
    "        locals()[dfName]['Asset'] = i\n",
    "\n",
    "        # Merge All Coins into a single Dataframe\n",
    "        fullFrame = pd.concat([fullFrame, locals()[dfName]],\n",
    "                                     ignore_index=True)\n",
    "\n",
    "        print(f\"{i} data successfully pulled\\n\")\n",
    "    print('All Frames Merged')\n",
    "    print('\\nALL DATA SUCCESSFULLY PULLED!')\n",
    "\n",
    "    return fullFrame"
   ]
  },
  {
   "cell_type": "markdown",
   "metadata": {},
   "source": [
    "## <font color='red'> Imputation for NA values using linear interpolation method, IMP! Currently didn't remove the coins from the sample list if their price are all null, will further discuss on how to deal with this type of conins."
   ]
  },
  {
   "cell_type": "code",
   "execution_count": 78,
   "metadata": {},
   "outputs": [],
   "source": [
    "def InterpolationImpute (sample: pd.DataFrame):\n",
    "    \"\"\"This Method will impute NA values using linear interpolation method\n",
    "\n",
    "    Args:\n",
    "        sample (pd.DataFrame): The Pulled Data \n",
    "\n",
    "    Returns:\n",
    "        fullFrame (pd.DataFrame): A DataFrame Imputed all NA using linear interpolation\n",
    "    \"\"\"\n",
    "    # Initialization\n",
    "    imputedFrame = pd.DataFrame(columns=list(fullSample.columns))\n",
    "    \n",
    "    orgcols = list(fullSample.columns)\n",
    "    cols = orgcols.copy()\n",
    "    cols.remove('Date')\n",
    "    cols.remove('Asset')\n",
    "    for index in fullSample.groupby('Asset').count().index.values.tolist():\n",
    "        syntax = f\"Asset == '{index}'\"\n",
    "        segment = fullSample.query(syntax)\n",
    "        temp = segment[cols].interpolate(method='linear', limit_direction='forward', axis=0)\n",
    "        temp['Asset'] = segment['Asset']\n",
    "        temp['Date'] = segment['Date']\n",
    "        imputedFrame = pd.concat([imputedFrame, temp[orgcols]],\n",
    "                                     ignore_index=True)\n",
    "\n",
    "    \n",
    "    return imputedFrame"
   ]
  },
  {
   "cell_type": "markdown",
   "metadata": {},
   "source": [
    "## Calculate the return - Now only pick lastest 52 records for testing\n",
    "Input is a dataframe includes all pulled data"
   ]
  },
  {
   "cell_type": "code",
   "execution_count": 79,
   "metadata": {},
   "outputs": [],
   "source": [
    "def AddReturn(sample: pd.DataFrame):\n",
    "    \"\"\"This Method Add Return Column to Pulled Raw Data\n",
    "\n",
    "    Args:\n",
    "        sample (pd.DataFrame): The Raw Pulled Data without a Return Column\n",
    "\n",
    "    Returns:\n",
    "        fullFrame (pd.DataFrame): DataFrame with a Return Column\n",
    "    \"\"\"\n",
    "    fullFrame = pd.DataFrame(columns=list(sample.columns).append('Return'))\n",
    "    for index in sample.groupby('Asset').count().index.values.tolist():\n",
    "        syntax = f\"Asset == '{index}'\"\n",
    "        segment = sample.query(syntax)\n",
    "        # Only Select 53 Weeks for Test\n",
    "        temp = segment[-53:-1].reset_index().drop('index', axis=1)\n",
    "        segment = segment[-52:].reset_index().drop('index', axis=1)\n",
    "        segment['Return'] = (segment['Price'] - temp['Price'])/temp['Price']\n",
    "        fullFrame = pd.concat([fullFrame, segment],\n",
    "                                     ignore_index=True)\n",
    "    return fullFrame"
   ]
  },
  {
   "cell_type": "markdown",
   "metadata": {},
   "source": [
    "## Initialize - get full sample"
   ]
  },
  {
   "cell_type": "code",
   "execution_count": 6,
   "metadata": {},
   "outputs": [
    {
     "name": "stderr",
     "output_type": "stream",
     "text": [
      "\r",
      "  0%|                                                   | 0/124 [00:00<?, ?it/s]"
     ]
    },
    {
     "name": "stdout",
     "output_type": "stream",
     "text": [
      "Start Pulling BTC's data:\n",
      "Pulling BTC's Price\n",
      "Pulling BTC's MarketCap\n",
      "Pulling BTC's TransactionCount\n",
      "Pulling BTC's ActiveAddress\n"
     ]
    },
    {
     "name": "stderr",
     "output_type": "stream",
     "text": [
      "\r",
      "  1%|▎                                          | 1/124 [00:03<07:06,  3.47s/it]"
     ]
    },
    {
     "name": "stdout",
     "output_type": "stream",
     "text": [
      "BTC data successfully pulled\n",
      "\n",
      "Start Pulling ETH's data:\n",
      "Pulling ETH's Price\n",
      "Pulling ETH's MarketCap\n",
      "Pulling ETH's TransactionCount\n",
      "Pulling ETH's ActiveAddress\n"
     ]
    },
    {
     "name": "stderr",
     "output_type": "stream",
     "text": [
      "\r",
      "  2%|▋                                          | 2/124 [00:05<05:05,  2.51s/it]"
     ]
    },
    {
     "name": "stdout",
     "output_type": "stream",
     "text": [
      "ETH data successfully pulled\n",
      "\n",
      "Start Pulling LTC's data:\n",
      "Pulling LTC's Price\n",
      "Pulling LTC's MarketCap\n",
      "Pulling LTC's TransactionCount\n",
      "Pulling LTC's ActiveAddress\n"
     ]
    },
    {
     "name": "stderr",
     "output_type": "stream",
     "text": [
      "\r",
      "  2%|█                                          | 3/124 [00:07<04:40,  2.32s/it]"
     ]
    },
    {
     "name": "stdout",
     "output_type": "stream",
     "text": [
      "LTC data successfully pulled\n",
      "\n",
      "Start Pulling AAVE's data:\n",
      "Pulling AAVE's Price\n",
      "Pulling AAVE's MarketCap\n",
      "Pulling AAVE's TransactionCount\n",
      "Pulling AAVE's ActiveAddress\n"
     ]
    },
    {
     "name": "stderr",
     "output_type": "stream",
     "text": [
      "\r",
      "  3%|█▍                                         | 4/124 [00:08<04:03,  2.03s/it]"
     ]
    },
    {
     "name": "stdout",
     "output_type": "stream",
     "text": [
      "AAVE data successfully pulled\n",
      "\n",
      "Start Pulling ABT's data:\n",
      "Pulling ABT's Price\n",
      "Pulling ABT's MarketCap\n",
      "Pulling ABT's TransactionCount\n",
      "Pulling ABT's ActiveAddress\n"
     ]
    },
    {
     "name": "stderr",
     "output_type": "stream",
     "text": [
      "\r",
      "  4%|█▋                                         | 5/124 [00:10<03:34,  1.80s/it]"
     ]
    },
    {
     "name": "stdout",
     "output_type": "stream",
     "text": [
      "ABT data successfully pulled\n",
      "\n",
      "Start Pulling AMPL's data:\n",
      "Pulling AMPL's Price\n",
      "Pulling AMPL's MarketCap\n",
      "Pulling AMPL's TransactionCount\n",
      "Pulling AMPL's ActiveAddress\n"
     ]
    },
    {
     "name": "stderr",
     "output_type": "stream",
     "text": [
      "\r",
      "  5%|██                                         | 6/124 [00:11<03:24,  1.73s/it]"
     ]
    },
    {
     "name": "stdout",
     "output_type": "stream",
     "text": [
      "AMPL data successfully pulled\n",
      "\n",
      "Start Pulling ANT's data:\n",
      "Pulling ANT's Price\n",
      "Pulling ANT's MarketCap\n",
      "Pulling ANT's TransactionCount\n",
      "Pulling ANT's ActiveAddress\n"
     ]
    },
    {
     "name": "stderr",
     "output_type": "stream",
     "text": [
      "\r",
      "  6%|██▍                                        | 7/124 [00:14<03:41,  1.89s/it]"
     ]
    },
    {
     "name": "stdout",
     "output_type": "stream",
     "text": [
      "ANT data successfully pulled\n",
      "\n",
      "Start Pulling ARMOR's data:\n",
      "Pulling ARMOR's Price\n",
      "Pulling ARMOR's MarketCap\n",
      "Pulling ARMOR's TransactionCount\n",
      "Pulling ARMOR's ActiveAddress\n"
     ]
    },
    {
     "name": "stderr",
     "output_type": "stream",
     "text": [
      "\r",
      "  6%|██▊                                        | 8/124 [00:16<03:44,  1.93s/it]"
     ]
    },
    {
     "name": "stdout",
     "output_type": "stream",
     "text": [
      "ARMOR data successfully pulled\n",
      "\n",
      "Start Pulling BADGER's data:\n",
      "Pulling BADGER's Price\n",
      "Pulling BADGER's MarketCap\n",
      "Pulling BADGER's TransactionCount\n",
      "Pulling BADGER's ActiveAddress\n"
     ]
    },
    {
     "name": "stderr",
     "output_type": "stream",
     "text": [
      "\r",
      "  7%|███                                        | 9/124 [00:18<04:05,  2.14s/it]"
     ]
    },
    {
     "name": "stdout",
     "output_type": "stream",
     "text": [
      "BADGER data successfully pulled\n",
      "\n",
      "Start Pulling BAL's data:\n",
      "Pulling BAL's Price\n",
      "Pulling BAL's MarketCap\n",
      "Pulling BAL's TransactionCount\n",
      "Pulling BAL's ActiveAddress\n"
     ]
    },
    {
     "name": "stderr",
     "output_type": "stream",
     "text": [
      "\r",
      "  8%|███▍                                      | 10/124 [00:22<05:09,  2.71s/it]"
     ]
    },
    {
     "name": "stdout",
     "output_type": "stream",
     "text": [
      "BAL data successfully pulled\n",
      "\n",
      "Start Pulling BAND's data:\n",
      "Pulling BAND's Price\n",
      "Pulling BAND's MarketCap\n",
      "Pulling BAND's TransactionCount\n",
      "Pulling BAND's ActiveAddress\n"
     ]
    },
    {
     "name": "stderr",
     "output_type": "stream",
     "text": [
      "\r",
      "  9%|███▋                                      | 11/124 [00:24<04:38,  2.47s/it]"
     ]
    },
    {
     "name": "stdout",
     "output_type": "stream",
     "text": [
      "BAND data successfully pulled\n",
      "\n",
      "Start Pulling BAT's data:\n",
      "Pulling BAT's Price\n",
      "Pulling BAT's MarketCap\n",
      "Pulling BAT's TransactionCount\n",
      "Pulling BAT's ActiveAddress\n"
     ]
    },
    {
     "name": "stderr",
     "output_type": "stream",
     "text": [
      "\r",
      " 10%|████                                      | 12/124 [00:26<04:12,  2.25s/it]"
     ]
    },
    {
     "name": "stdout",
     "output_type": "stream",
     "text": [
      "BAT data successfully pulled\n",
      "\n",
      "Start Pulling BIX's data:\n",
      "Pulling BIX's Price\n",
      "Pulling BIX's MarketCap\n",
      "Pulling BIX's TransactionCount\n",
      "Pulling BIX's ActiveAddress\n"
     ]
    },
    {
     "name": "stderr",
     "output_type": "stream",
     "text": [
      "\r",
      " 10%|████▍                                     | 13/124 [00:28<03:48,  2.06s/it]"
     ]
    },
    {
     "name": "stdout",
     "output_type": "stream",
     "text": [
      "BIX data successfully pulled\n",
      "\n",
      "Start Pulling BNT's data:\n",
      "Pulling BNT's Price\n",
      "Pulling BNT's MarketCap\n",
      "Pulling BNT's TransactionCount\n",
      "Pulling BNT's ActiveAddress\n"
     ]
    },
    {
     "name": "stderr",
     "output_type": "stream",
     "text": [
      "\r",
      " 11%|████▋                                     | 14/124 [00:29<03:28,  1.90s/it]"
     ]
    },
    {
     "name": "stdout",
     "output_type": "stream",
     "text": [
      "BNT data successfully pulled\n",
      "\n",
      "Start Pulling BOND's data:\n",
      "Pulling BOND's Price\n",
      "Pulling BOND's MarketCap\n",
      "Pulling BOND's TransactionCount\n",
      "Pulling BOND's ActiveAddress\n"
     ]
    },
    {
     "name": "stderr",
     "output_type": "stream",
     "text": [
      "\r",
      " 12%|█████                                     | 15/124 [00:31<03:17,  1.82s/it]"
     ]
    },
    {
     "name": "stdout",
     "output_type": "stream",
     "text": [
      "BOND data successfully pulled\n",
      "\n",
      "Start Pulling BRD's data:\n",
      "Pulling BRD's Price\n",
      "Pulling BRD's MarketCap\n",
      "Pulling BRD's TransactionCount\n",
      "Pulling BRD's ActiveAddress\n"
     ]
    },
    {
     "name": "stderr",
     "output_type": "stream",
     "text": [
      "\r",
      " 13%|█████▍                                    | 16/124 [00:33<03:20,  1.85s/it]"
     ]
    },
    {
     "name": "stdout",
     "output_type": "stream",
     "text": [
      "BRD data successfully pulled\n",
      "\n",
      "Start Pulling BUSD's data:\n",
      "Pulling BUSD's Price\n",
      "Pulling BUSD's MarketCap\n",
      "Pulling BUSD's TransactionCount\n",
      "Pulling BUSD's ActiveAddress\n"
     ]
    },
    {
     "name": "stderr",
     "output_type": "stream",
     "text": [
      "\r",
      " 14%|█████▊                                    | 17/124 [00:34<03:09,  1.77s/it]"
     ]
    },
    {
     "name": "stdout",
     "output_type": "stream",
     "text": [
      "BUSD data successfully pulled\n",
      "\n",
      "Start Pulling BZRX's data:\n",
      "Pulling BZRX's Price\n",
      "Pulling BZRX's MarketCap\n",
      "Pulling BZRX's TransactionCount\n",
      "Pulling BZRX's ActiveAddress\n"
     ]
    },
    {
     "name": "stderr",
     "output_type": "stream",
     "text": [
      "\r",
      " 15%|██████                                    | 18/124 [00:36<03:01,  1.71s/it]"
     ]
    },
    {
     "name": "stdout",
     "output_type": "stream",
     "text": [
      "BZRX data successfully pulled\n",
      "\n",
      "Start Pulling CELR's data:\n",
      "Pulling CELR's Price\n",
      "Pulling CELR's MarketCap\n",
      "Pulling CELR's TransactionCount\n",
      "Pulling CELR's ActiveAddress\n"
     ]
    },
    {
     "name": "stderr",
     "output_type": "stream",
     "text": [
      "\r",
      " 15%|██████▍                                   | 19/124 [00:37<02:50,  1.62s/it]"
     ]
    },
    {
     "name": "stdout",
     "output_type": "stream",
     "text": [
      "CELR data successfully pulled\n",
      "\n",
      "Start Pulling CHSB's data:\n",
      "Pulling CHSB's Price\n",
      "Pulling CHSB's MarketCap\n",
      "Pulling CHSB's TransactionCount\n",
      "Pulling CHSB's ActiveAddress\n"
     ]
    },
    {
     "name": "stderr",
     "output_type": "stream",
     "text": [
      "\r",
      " 16%|██████▊                                   | 20/124 [00:39<02:48,  1.62s/it]"
     ]
    },
    {
     "name": "stdout",
     "output_type": "stream",
     "text": [
      "CHSB data successfully pulled\n",
      "\n",
      "Start Pulling CND's data:\n",
      "Pulling CND's Price\n",
      "Pulling CND's MarketCap\n",
      "Pulling CND's TransactionCount\n",
      "Pulling CND's ActiveAddress\n"
     ]
    },
    {
     "name": "stderr",
     "output_type": "stream",
     "text": [
      "\r",
      " 17%|███████                                   | 21/124 [00:41<03:04,  1.79s/it]"
     ]
    },
    {
     "name": "stdout",
     "output_type": "stream",
     "text": [
      "CND data successfully pulled\n",
      "\n",
      "Start Pulling COMP's data:\n",
      "Pulling COMP's Price\n",
      "Pulling COMP's MarketCap\n",
      "Pulling COMP's TransactionCount\n",
      "Pulling COMP's ActiveAddress\n"
     ]
    },
    {
     "name": "stderr",
     "output_type": "stream",
     "text": [
      "\r",
      " 18%|███████▍                                  | 22/124 [00:43<03:02,  1.79s/it]"
     ]
    },
    {
     "name": "stdout",
     "output_type": "stream",
     "text": [
      "COMP data successfully pulled\n",
      "\n",
      "Start Pulling CREAM's data:\n",
      "Pulling CREAM's Price\n",
      "Pulling CREAM's MarketCap\n",
      "Pulling CREAM's TransactionCount\n",
      "Pulling CREAM's ActiveAddress\n"
     ]
    },
    {
     "name": "stderr",
     "output_type": "stream",
     "text": [
      "\r",
      " 19%|███████▊                                  | 23/124 [00:44<02:53,  1.72s/it]"
     ]
    },
    {
     "name": "stdout",
     "output_type": "stream",
     "text": [
      "CREAM data successfully pulled\n",
      "\n",
      "Start Pulling CRO's data:\n",
      "Pulling CRO's Price\n",
      "Pulling CRO's MarketCap\n",
      "Pulling CRO's TransactionCount\n",
      "Pulling CRO's ActiveAddress\n"
     ]
    },
    {
     "name": "stderr",
     "output_type": "stream",
     "text": [
      "\r",
      " 19%|████████▏                                 | 24/124 [00:47<03:14,  1.94s/it]"
     ]
    },
    {
     "name": "stdout",
     "output_type": "stream",
     "text": [
      "CRO data successfully pulled\n",
      "\n",
      "Start Pulling CRV's data:\n",
      "Pulling CRV's Price\n",
      "Pulling CRV's MarketCap\n",
      "Pulling CRV's TransactionCount\n",
      "Pulling CRV's ActiveAddress\n"
     ]
    },
    {
     "name": "stderr",
     "output_type": "stream",
     "text": [
      "\r",
      " 20%|████████▍                                 | 25/124 [00:49<03:08,  1.91s/it]"
     ]
    },
    {
     "name": "stdout",
     "output_type": "stream",
     "text": [
      "CRV data successfully pulled\n",
      "\n",
      "Start Pulling CVC's data:\n",
      "Pulling CVC's Price\n",
      "Pulling CVC's MarketCap\n",
      "Pulling CVC's TransactionCount\n",
      "Pulling CVC's ActiveAddress\n"
     ]
    },
    {
     "name": "stderr",
     "output_type": "stream",
     "text": [
      "\r",
      " 21%|████████▊                                 | 26/124 [00:50<02:50,  1.74s/it]"
     ]
    },
    {
     "name": "stdout",
     "output_type": "stream",
     "text": [
      "CVC data successfully pulled\n",
      "\n",
      "Start Pulling CVP's data:\n",
      "Pulling CVP's Price\n",
      "Pulling CVP's MarketCap\n",
      "Pulling CVP's TransactionCount\n",
      "Pulling CVP's ActiveAddress\n"
     ]
    },
    {
     "name": "stderr",
     "output_type": "stream",
     "text": [
      "\r",
      " 22%|█████████▏                                | 27/124 [00:51<02:38,  1.63s/it]"
     ]
    },
    {
     "name": "stdout",
     "output_type": "stream",
     "text": [
      "CVP data successfully pulled\n",
      "\n",
      "Start Pulling DAI's data:\n",
      "Pulling DAI's Price\n",
      "Pulling DAI's MarketCap\n",
      "Pulling DAI's TransactionCount\n",
      "Pulling DAI's ActiveAddress\n"
     ]
    },
    {
     "name": "stderr",
     "output_type": "stream",
     "text": [
      "\r",
      " 23%|█████████▍                                | 28/124 [00:53<02:33,  1.60s/it]"
     ]
    },
    {
     "name": "stdout",
     "output_type": "stream",
     "text": [
      "DAI data successfully pulled\n",
      "\n",
      "Start Pulling DDX's data:\n",
      "Pulling DDX's Price\n",
      "Pulling DDX's MarketCap\n",
      "Pulling DDX's TransactionCount\n",
      "Pulling DDX's ActiveAddress\n"
     ]
    },
    {
     "name": "stderr",
     "output_type": "stream",
     "text": [
      "\r",
      " 23%|█████████▊                                | 29/124 [00:55<02:38,  1.67s/it]"
     ]
    },
    {
     "name": "stdout",
     "output_type": "stream",
     "text": [
      "DDX data successfully pulled\n",
      "\n",
      "Start Pulling DENT's data:\n",
      "Pulling DENT's Price\n",
      "Pulling DENT's MarketCap\n",
      "Pulling DENT's TransactionCount\n",
      "Pulling DENT's ActiveAddress\n"
     ]
    },
    {
     "name": "stderr",
     "output_type": "stream",
     "text": [
      "\r",
      " 24%|██████████▏                               | 30/124 [00:56<02:35,  1.65s/it]"
     ]
    },
    {
     "name": "stdout",
     "output_type": "stream",
     "text": [
      "DENT data successfully pulled\n",
      "\n",
      "Start Pulling DGX's data:\n",
      "Pulling DGX's Price\n",
      "Pulling DGX's MarketCap\n",
      "Pulling DGX's TransactionCount\n",
      "Pulling DGX's ActiveAddress\n"
     ]
    },
    {
     "name": "stderr",
     "output_type": "stream",
     "text": [
      "\r",
      " 25%|██████████▌                               | 31/124 [00:58<02:45,  1.78s/it]"
     ]
    },
    {
     "name": "stdout",
     "output_type": "stream",
     "text": [
      "DGX data successfully pulled\n",
      "\n",
      "Start Pulling DHT's data:\n",
      "Pulling DHT's Price\n",
      "Pulling DHT's MarketCap\n",
      "Pulling DHT's TransactionCount\n",
      "Pulling DHT's ActiveAddress\n"
     ]
    },
    {
     "name": "stderr",
     "output_type": "stream",
     "text": [
      "\r",
      " 26%|██████████▊                               | 32/124 [01:01<03:04,  2.00s/it]"
     ]
    },
    {
     "name": "stdout",
     "output_type": "stream",
     "text": [
      "DHT data successfully pulled\n",
      "\n",
      "Start Pulling DMG's data:\n",
      "Pulling DMG's Price\n",
      "Pulling DMG's MarketCap\n",
      "Pulling DMG's TransactionCount\n",
      "Pulling DMG's ActiveAddress\n"
     ]
    },
    {
     "name": "stderr",
     "output_type": "stream",
     "text": [
      "\r",
      " 27%|███████████▏                              | 33/124 [01:02<02:47,  1.84s/it]"
     ]
    },
    {
     "name": "stdout",
     "output_type": "stream",
     "text": [
      "DMG data successfully pulled\n",
      "\n",
      "Start Pulling DODO's data:\n",
      "Pulling DODO's Price\n",
      "Pulling DODO's MarketCap\n",
      "Pulling DODO's TransactionCount\n",
      "Pulling DODO's ActiveAddress\n"
     ]
    },
    {
     "name": "stderr",
     "output_type": "stream",
     "text": [
      "\r",
      " 27%|███████████▌                              | 34/124 [01:04<02:47,  1.87s/it]"
     ]
    },
    {
     "name": "stdout",
     "output_type": "stream",
     "text": [
      "DODO data successfully pulled\n",
      "\n",
      "Start Pulling DOUGH's data:\n",
      "Pulling DOUGH's Price\n",
      "Pulling DOUGH's MarketCap\n",
      "Pulling DOUGH's TransactionCount\n",
      "Pulling DOUGH's ActiveAddress\n"
     ]
    },
    {
     "name": "stderr",
     "output_type": "stream",
     "text": [
      "\r",
      " 28%|███████████▊                              | 35/124 [01:06<02:41,  1.81s/it]"
     ]
    },
    {
     "name": "stdout",
     "output_type": "stream",
     "text": [
      "DOUGH data successfully pulled\n",
      "\n",
      "Start Pulling DRGN's data:\n",
      "Pulling DRGN's Price\n",
      "Pulling DRGN's MarketCap\n",
      "Pulling DRGN's TransactionCount\n",
      "Pulling DRGN's ActiveAddress\n"
     ]
    },
    {
     "name": "stderr",
     "output_type": "stream",
     "text": [
      "\r",
      " 29%|████████████▏                             | 36/124 [01:08<02:36,  1.78s/it]"
     ]
    },
    {
     "name": "stdout",
     "output_type": "stream",
     "text": [
      "DRGN data successfully pulled\n",
      "\n",
      "Start Pulling ELF's data:\n",
      "Pulling ELF's Price\n",
      "Pulling ELF's MarketCap\n",
      "Pulling ELF's TransactionCount\n",
      "Pulling ELF's ActiveAddress\n"
     ]
    },
    {
     "name": "stderr",
     "output_type": "stream",
     "text": [
      "\r",
      " 30%|████████████▌                             | 37/124 [01:10<02:33,  1.77s/it]"
     ]
    },
    {
     "name": "stdout",
     "output_type": "stream",
     "text": [
      "ELF data successfully pulled\n",
      "\n",
      "Start Pulling ENG's data:\n",
      "Pulling ENG's Price\n",
      "Pulling ENG's MarketCap\n",
      "Pulling ENG's TransactionCount\n",
      "Pulling ENG's ActiveAddress\n"
     ]
    },
    {
     "name": "stderr",
     "output_type": "stream",
     "text": [
      "\r",
      " 31%|████████████▊                             | 38/124 [01:11<02:24,  1.68s/it]"
     ]
    },
    {
     "name": "stdout",
     "output_type": "stream",
     "text": [
      "ENG data successfully pulled\n",
      "\n",
      "Start Pulling ENJ's data:\n",
      "Pulling ENJ's Price\n",
      "Pulling ENJ's MarketCap\n",
      "Pulling ENJ's TransactionCount\n",
      "Pulling ENJ's ActiveAddress\n"
     ]
    },
    {
     "name": "stderr",
     "output_type": "stream",
     "text": [
      "\r",
      " 31%|█████████████▏                            | 39/124 [01:13<02:21,  1.66s/it]"
     ]
    },
    {
     "name": "stdout",
     "output_type": "stream",
     "text": [
      "ENJ data successfully pulled\n",
      "\n",
      "Start Pulling EURS's data:\n",
      "Pulling EURS's Price\n",
      "Pulling EURS's MarketCap\n",
      "Pulling EURS's TransactionCount\n",
      "Pulling EURS's ActiveAddress\n"
     ]
    },
    {
     "name": "stderr",
     "output_type": "stream",
     "text": [
      "\r",
      " 32%|█████████████▌                            | 40/124 [01:14<02:16,  1.63s/it]"
     ]
    },
    {
     "name": "stdout",
     "output_type": "stream",
     "text": [
      "EURS data successfully pulled\n",
      "\n",
      "Start Pulling FET's data:\n",
      "Pulling FET's Price\n",
      "Pulling FET's MarketCap\n",
      "Pulling FET's TransactionCount\n",
      "Pulling FET's ActiveAddress\n"
     ]
    },
    {
     "name": "stderr",
     "output_type": "stream",
     "text": [
      "\r",
      " 33%|█████████████▉                            | 41/124 [01:16<02:26,  1.77s/it]"
     ]
    },
    {
     "name": "stdout",
     "output_type": "stream",
     "text": [
      "FET data successfully pulled\n",
      "\n",
      "Start Pulling FTT's data:\n",
      "Pulling FTT's Price\n",
      "Pulling FTT's MarketCap\n",
      "Pulling FTT's TransactionCount\n",
      "Pulling FTT's ActiveAddress\n"
     ]
    },
    {
     "name": "stderr",
     "output_type": "stream",
     "text": [
      "\r",
      " 34%|██████████████▏                           | 42/124 [01:19<02:44,  2.01s/it]"
     ]
    },
    {
     "name": "stdout",
     "output_type": "stream",
     "text": [
      "FTT data successfully pulled\n",
      "\n",
      "Start Pulling FUN's data:\n",
      "Pulling FUN's Price\n",
      "Pulling FUN's MarketCap\n",
      "Pulling FUN's TransactionCount\n",
      "Pulling FUN's ActiveAddress\n"
     ]
    },
    {
     "name": "stderr",
     "output_type": "stream",
     "text": [
      "\r",
      " 35%|██████████████▌                           | 43/124 [01:21<02:37,  1.95s/it]"
     ]
    },
    {
     "name": "stdout",
     "output_type": "stream",
     "text": [
      "FUN data successfully pulled\n",
      "\n",
      "Start Pulling GNO's data:\n",
      "Pulling GNO's Price\n",
      "Pulling GNO's MarketCap\n",
      "Pulling GNO's TransactionCount\n",
      "Pulling GNO's ActiveAddress\n"
     ]
    },
    {
     "name": "stderr",
     "output_type": "stream",
     "text": [
      "\r",
      " 35%|██████████████▉                           | 44/124 [01:23<02:42,  2.03s/it]"
     ]
    },
    {
     "name": "stdout",
     "output_type": "stream",
     "text": [
      "GNO data successfully pulled\n",
      "\n",
      "Start Pulling GUSD's data:\n",
      "Pulling GUSD's Price\n",
      "Pulling GUSD's MarketCap\n",
      "Pulling GUSD's TransactionCount\n",
      "Pulling GUSD's ActiveAddress\n"
     ]
    },
    {
     "name": "stderr",
     "output_type": "stream",
     "text": [
      "\r",
      " 36%|███████████████▏                          | 45/124 [01:24<02:30,  1.90s/it]"
     ]
    },
    {
     "name": "stdout",
     "output_type": "stream",
     "text": [
      "GUSD data successfully pulled\n",
      "\n",
      "Start Pulling HEGIC's data:\n",
      "Pulling HEGIC's Price\n",
      "Pulling HEGIC's MarketCap\n",
      "Pulling HEGIC's TransactionCount\n",
      "Pulling HEGIC's ActiveAddress\n"
     ]
    },
    {
     "name": "stderr",
     "output_type": "stream",
     "text": [
      "\r",
      " 37%|███████████████▌                          | 46/124 [01:26<02:19,  1.79s/it]"
     ]
    },
    {
     "name": "stdout",
     "output_type": "stream",
     "text": [
      "HEGIC data successfully pulled\n",
      "\n",
      "Start Pulling HOT's data:\n",
      "Pulling HOT's Price\n",
      "Pulling HOT's MarketCap\n",
      "Pulling HOT's TransactionCount\n",
      "Pulling HOT's ActiveAddress\n"
     ]
    },
    {
     "name": "stderr",
     "output_type": "stream",
     "text": [
      "\r",
      " 38%|███████████████▉                          | 47/124 [01:28<02:15,  1.76s/it]"
     ]
    },
    {
     "name": "stdout",
     "output_type": "stream",
     "text": [
      "HOT data successfully pulled\n",
      "\n",
      "Start Pulling HPT's data:\n",
      "Pulling HPT's Price\n",
      "Pulling HPT's MarketCap\n",
      "Pulling HPT's TransactionCount\n",
      "Pulling HPT's ActiveAddress\n"
     ]
    },
    {
     "name": "stderr",
     "output_type": "stream",
     "text": [
      "\r",
      " 39%|████████████████▎                         | 48/124 [01:31<02:53,  2.29s/it]"
     ]
    },
    {
     "name": "stdout",
     "output_type": "stream",
     "text": [
      "HPT data successfully pulled\n",
      "\n",
      "Start Pulling HT's data:\n",
      "Pulling HT's Price\n",
      "Pulling HT's MarketCap\n",
      "Pulling HT's TransactionCount\n",
      "Pulling HT's ActiveAddress\n"
     ]
    },
    {
     "name": "stderr",
     "output_type": "stream",
     "text": [
      "\r",
      " 40%|████████████████▌                         | 49/124 [01:33<02:37,  2.10s/it]"
     ]
    },
    {
     "name": "stdout",
     "output_type": "stream",
     "text": [
      "HT data successfully pulled\n",
      "\n",
      "Start Pulling HUSD's data:\n",
      "Pulling HUSD's Price\n",
      "Pulling HUSD's MarketCap\n",
      "Pulling HUSD's TransactionCount\n",
      "Pulling HUSD's ActiveAddress\n"
     ]
    },
    {
     "name": "stderr",
     "output_type": "stream",
     "text": [
      "\r",
      " 40%|████████████████▉                         | 50/124 [01:35<02:27,  1.99s/it]"
     ]
    },
    {
     "name": "stdout",
     "output_type": "stream",
     "text": [
      "HUSD data successfully pulled\n",
      "\n",
      "Start Pulling INDEX's data:\n",
      "Pulling INDEX's Price\n",
      "Pulling INDEX's MarketCap\n",
      "Pulling INDEX's TransactionCount\n",
      "Pulling INDEX's ActiveAddress\n"
     ]
    },
    {
     "name": "stderr",
     "output_type": "stream",
     "text": [
      "\r",
      " 41%|█████████████████▎                        | 51/124 [01:37<02:36,  2.14s/it]"
     ]
    },
    {
     "name": "stdout",
     "output_type": "stream",
     "text": [
      "INDEX data successfully pulled\n",
      "\n",
      "Start Pulling KCS's data:\n",
      "Pulling KCS's Price\n",
      "Pulling KCS's MarketCap\n",
      "Pulling KCS's TransactionCount\n",
      "Pulling KCS's ActiveAddress\n"
     ]
    },
    {
     "name": "stderr",
     "output_type": "stream",
     "text": [
      "\r",
      " 42%|█████████████████▌                        | 52/124 [01:39<02:39,  2.21s/it]"
     ]
    },
    {
     "name": "stdout",
     "output_type": "stream",
     "text": [
      "KCS data successfully pulled\n",
      "\n",
      "Start Pulling LAMB's data:\n",
      "Pulling LAMB's Price\n",
      "Pulling LAMB's MarketCap\n",
      "Pulling LAMB's TransactionCount\n",
      "Pulling LAMB's ActiveAddress\n"
     ]
    },
    {
     "name": "stderr",
     "output_type": "stream",
     "text": [
      "\r",
      " 43%|█████████████████▉                        | 53/124 [01:41<02:24,  2.04s/it]"
     ]
    },
    {
     "name": "stdout",
     "output_type": "stream",
     "text": [
      "LAMB data successfully pulled\n",
      "\n",
      "Start Pulling LBA's data:\n",
      "Pulling LBA's Price\n",
      "Pulling LBA's MarketCap\n",
      "Pulling LBA's TransactionCount\n",
      "Pulling LBA's ActiveAddress\n"
     ]
    },
    {
     "name": "stderr",
     "output_type": "stream",
     "text": [
      "\r",
      " 44%|██████████████████▎                       | 54/124 [01:43<02:17,  1.96s/it]"
     ]
    },
    {
     "name": "stdout",
     "output_type": "stream",
     "text": [
      "LBA data successfully pulled\n",
      "\n",
      "Start Pulling LDO's data:\n",
      "Pulling LDO's Price\n",
      "Pulling LDO's MarketCap\n",
      "Pulling LDO's TransactionCount\n",
      "Pulling LDO's ActiveAddress\n"
     ]
    },
    {
     "name": "stderr",
     "output_type": "stream",
     "text": [
      "\r",
      " 44%|██████████████████▋                       | 55/124 [01:45<02:12,  1.92s/it]"
     ]
    },
    {
     "name": "stdout",
     "output_type": "stream",
     "text": [
      "LDO data successfully pulled\n",
      "\n",
      "Start Pulling LEO's data:\n",
      "Pulling LEO's Price\n",
      "Pulling LEO's MarketCap\n",
      "Pulling LEO's TransactionCount\n",
      "Pulling LEO's ActiveAddress\n"
     ]
    },
    {
     "name": "stderr",
     "output_type": "stream",
     "text": [
      "\r",
      " 45%|██████████████████▉                       | 56/124 [01:47<02:21,  2.09s/it]"
     ]
    },
    {
     "name": "stdout",
     "output_type": "stream",
     "text": [
      "LEO data successfully pulled\n",
      "\n",
      "Start Pulling LINK's data:\n",
      "Pulling LINK's Price\n",
      "Pulling LINK's MarketCap\n",
      "Pulling LINK's TransactionCount\n",
      "Pulling LINK's ActiveAddress\n"
     ]
    },
    {
     "name": "stderr",
     "output_type": "stream",
     "text": [
      "\r",
      " 46%|███████████████████▎                      | 57/124 [01:53<03:35,  3.21s/it]"
     ]
    },
    {
     "name": "stdout",
     "output_type": "stream",
     "text": [
      "LINK data successfully pulled\n",
      "\n",
      "Start Pulling LOOM's data:\n",
      "Pulling LOOM's Price\n",
      "Pulling LOOM's MarketCap\n",
      "Pulling LOOM's TransactionCount\n",
      "Pulling LOOM's ActiveAddress\n"
     ]
    },
    {
     "name": "stderr",
     "output_type": "stream",
     "text": [
      "\r",
      " 47%|███████████████████▋                      | 58/124 [01:55<03:13,  2.93s/it]"
     ]
    },
    {
     "name": "stdout",
     "output_type": "stream",
     "text": [
      "LOOM data successfully pulled\n",
      "\n",
      "Start Pulling LRC's data:\n",
      "Pulling LRC's Price\n",
      "Pulling LRC's MarketCap\n",
      "Pulling LRC's TransactionCount\n",
      "Pulling LRC's ActiveAddress\n"
     ]
    },
    {
     "name": "stderr",
     "output_type": "stream",
     "text": [
      "\r",
      " 48%|███████████████████▉                      | 59/124 [01:57<02:46,  2.56s/it]"
     ]
    },
    {
     "name": "stdout",
     "output_type": "stream",
     "text": [
      "LRC data successfully pulled\n",
      "\n",
      "Start Pulling MANA's data:\n",
      "Pulling MANA's Price\n",
      "Pulling MANA's MarketCap\n",
      "Pulling MANA's TransactionCount\n",
      "Pulling MANA's ActiveAddress\n"
     ]
    },
    {
     "name": "stderr",
     "output_type": "stream",
     "text": [
      "\r",
      " 48%|████████████████████▎                     | 60/124 [01:59<02:37,  2.46s/it]"
     ]
    },
    {
     "name": "stdout",
     "output_type": "stream",
     "text": [
      "MANA data successfully pulled\n",
      "\n",
      "Start Pulling MATIC's data:\n",
      "Pulling MATIC's Price\n",
      "Pulling MATIC's MarketCap\n",
      "Pulling MATIC's TransactionCount\n",
      "Pulling MATIC's ActiveAddress\n"
     ]
    },
    {
     "name": "stderr",
     "output_type": "stream",
     "text": [
      "\r",
      " 49%|████████████████████▋                     | 61/124 [02:01<02:15,  2.15s/it]"
     ]
    },
    {
     "name": "stdout",
     "output_type": "stream",
     "text": [
      "MATIC data successfully pulled\n",
      "\n",
      "Start Pulling MCB's data:\n",
      "Pulling MCB's Price\n",
      "Pulling MCB's MarketCap\n",
      "Pulling MCB's TransactionCount\n",
      "Pulling MCB's ActiveAddress\n"
     ]
    },
    {
     "name": "stderr",
     "output_type": "stream",
     "text": [
      "\r",
      " 50%|█████████████████████                     | 62/124 [02:02<02:05,  2.03s/it]"
     ]
    },
    {
     "name": "stdout",
     "output_type": "stream",
     "text": [
      "MCB data successfully pulled\n",
      "\n",
      "Start Pulling MCO's data:\n",
      "Pulling MCO's Price\n",
      "Pulling MCO's MarketCap\n",
      "Pulling MCO's TransactionCount\n",
      "Pulling MCO's ActiveAddress\n"
     ]
    },
    {
     "name": "stderr",
     "output_type": "stream",
     "text": [
      "\r",
      " 51%|█████████████████████▎                    | 63/124 [02:04<01:57,  1.93s/it]"
     ]
    },
    {
     "name": "stdout",
     "output_type": "stream",
     "text": [
      "MCO data successfully pulled\n",
      "\n",
      "Start Pulling MFT's data:\n",
      "Pulling MFT's Price\n",
      "Pulling MFT's MarketCap\n",
      "Pulling MFT's TransactionCount\n",
      "Pulling MFT's ActiveAddress\n"
     ]
    },
    {
     "name": "stderr",
     "output_type": "stream",
     "text": [
      "\r",
      " 52%|█████████████████████▋                    | 64/124 [02:06<01:59,  1.99s/it]"
     ]
    },
    {
     "name": "stdout",
     "output_type": "stream",
     "text": [
      "MFT data successfully pulled\n",
      "\n",
      "Start Pulling MIR's data:\n",
      "Pulling MIR's Price\n",
      "Pulling MIR's MarketCap\n",
      "Pulling MIR's TransactionCount\n",
      "Pulling MIR's ActiveAddress\n"
     ]
    },
    {
     "name": "stderr",
     "output_type": "stream",
     "text": [
      "\r",
      " 52%|██████████████████████                    | 65/124 [02:08<01:47,  1.82s/it]"
     ]
    },
    {
     "name": "stdout",
     "output_type": "stream",
     "text": [
      "MIR data successfully pulled\n",
      "\n",
      "Start Pulling MKR's data:\n",
      "Pulling MKR's Price\n",
      "Pulling MKR's MarketCap\n",
      "Pulling MKR's TransactionCount\n",
      "Pulling MKR's ActiveAddress\n"
     ]
    },
    {
     "name": "stderr",
     "output_type": "stream",
     "text": [
      "\r",
      " 53%|██████████████████████▎                   | 66/124 [02:09<01:42,  1.77s/it]"
     ]
    },
    {
     "name": "stdout",
     "output_type": "stream",
     "text": [
      "MKR data successfully pulled\n",
      "\n",
      "Start Pulling MLN's data:\n",
      "Pulling MLN's Price\n",
      "Pulling MLN's MarketCap\n",
      "Pulling MLN's TransactionCount\n",
      "Pulling MLN's ActiveAddress\n"
     ]
    },
    {
     "name": "stderr",
     "output_type": "stream",
     "text": [
      "\r",
      " 54%|██████████████████████▋                   | 67/124 [02:11<01:40,  1.76s/it]"
     ]
    },
    {
     "name": "stdout",
     "output_type": "stream",
     "text": [
      "MLN data successfully pulled\n",
      "\n",
      "Start Pulling MTA's data:\n",
      "Pulling MTA's Price\n",
      "Pulling MTA's MarketCap\n",
      "Pulling MTA's TransactionCount\n",
      "Pulling MTA's ActiveAddress\n"
     ]
    },
    {
     "name": "stderr",
     "output_type": "stream",
     "text": [
      "\r",
      " 55%|███████████████████████                   | 68/124 [02:12<01:32,  1.65s/it]"
     ]
    },
    {
     "name": "stdout",
     "output_type": "stream",
     "text": [
      "MTA data successfully pulled\n",
      "\n",
      "Start Pulling MTL's data:\n",
      "Pulling MTL's Price\n",
      "Pulling MTL's MarketCap\n",
      "Pulling MTL's TransactionCount\n",
      "Pulling MTL's ActiveAddress\n"
     ]
    },
    {
     "name": "stderr",
     "output_type": "stream",
     "text": [
      "\r",
      " 56%|███████████████████████▎                  | 69/124 [02:15<01:43,  1.89s/it]"
     ]
    },
    {
     "name": "stdout",
     "output_type": "stream",
     "text": [
      "MTL data successfully pulled\n",
      "\n",
      "Start Pulling MX's data:\n",
      "Pulling MX's Price\n",
      "Pulling MX's MarketCap\n",
      "Pulling MX's TransactionCount\n",
      "Pulling MX's ActiveAddress\n"
     ]
    },
    {
     "name": "stderr",
     "output_type": "stream",
     "text": [
      "\r",
      " 56%|███████████████████████▋                  | 70/124 [02:16<01:35,  1.77s/it]"
     ]
    },
    {
     "name": "stdout",
     "output_type": "stream",
     "text": [
      "MX data successfully pulled\n",
      "\n",
      "Start Pulling NDX's data:\n",
      "Pulling NDX's Price\n",
      "Pulling NDX's MarketCap\n",
      "Pulling NDX's TransactionCount\n",
      "Pulling NDX's ActiveAddress\n"
     ]
    },
    {
     "name": "stderr",
     "output_type": "stream",
     "text": [
      "\r",
      " 57%|████████████████████████                  | 71/124 [02:19<01:54,  2.17s/it]"
     ]
    },
    {
     "name": "stdout",
     "output_type": "stream",
     "text": [
      "NDX data successfully pulled\n",
      "\n",
      "Start Pulling NEXO's data:\n",
      "Pulling NEXO's Price\n",
      "Pulling NEXO's MarketCap\n",
      "Pulling NEXO's TransactionCount\n",
      "Pulling NEXO's ActiveAddress\n"
     ]
    },
    {
     "name": "stderr",
     "output_type": "stream",
     "text": [
      "\r",
      " 58%|████████████████████████▍                 | 72/124 [02:21<01:42,  1.97s/it]"
     ]
    },
    {
     "name": "stdout",
     "output_type": "stream",
     "text": [
      "NEXO data successfully pulled\n",
      "\n",
      "Start Pulling NFTX's data:\n",
      "Pulling NFTX's Price\n",
      "Pulling NFTX's MarketCap\n",
      "Pulling NFTX's TransactionCount\n",
      "Pulling NFTX's ActiveAddress\n"
     ]
    },
    {
     "name": "stderr",
     "output_type": "stream",
     "text": [
      "\r",
      " 59%|████████████████████████▋                 | 73/124 [02:23<01:37,  1.90s/it]"
     ]
    },
    {
     "name": "stdout",
     "output_type": "stream",
     "text": [
      "NFTX data successfully pulled\n",
      "\n",
      "Start Pulling NMR's data:\n",
      "Pulling NMR's Price\n",
      "Pulling NMR's MarketCap\n",
      "Pulling NMR's TransactionCount\n",
      "Pulling NMR's ActiveAddress\n"
     ]
    },
    {
     "name": "stderr",
     "output_type": "stream",
     "text": [
      "\r",
      " 60%|█████████████████████████                 | 74/124 [02:25<01:43,  2.07s/it]"
     ]
    },
    {
     "name": "stdout",
     "output_type": "stream",
     "text": [
      "NMR data successfully pulled\n",
      "\n",
      "Start Pulling Nsure's data:\n",
      "Pulling Nsure's Price\n",
      "Pulling Nsure's MarketCap\n",
      "Pulling Nsure's TransactionCount\n",
      "Pulling Nsure's ActiveAddress\n"
     ]
    },
    {
     "name": "stderr",
     "output_type": "stream",
     "text": [
      "\r",
      " 60%|█████████████████████████▍                | 75/124 [02:27<01:34,  1.93s/it]"
     ]
    },
    {
     "name": "stdout",
     "output_type": "stream",
     "text": [
      "Nsure data successfully pulled\n",
      "\n",
      "Start Pulling OCEAN's data:\n",
      "Pulling OCEAN's Price\n",
      "Pulling OCEAN's MarketCap\n",
      "Pulling OCEAN's TransactionCount\n",
      "Pulling OCEAN's ActiveAddress\n"
     ]
    },
    {
     "name": "stderr",
     "output_type": "stream",
     "text": [
      "\r",
      " 61%|█████████████████████████▋                | 76/124 [02:28<01:27,  1.83s/it]"
     ]
    },
    {
     "name": "stdout",
     "output_type": "stream",
     "text": [
      "OCEAN data successfully pulled\n",
      "\n",
      "Start Pulling OKB's data:\n",
      "Pulling OKB's Price\n",
      "Pulling OKB's MarketCap\n",
      "Pulling OKB's TransactionCount\n",
      "Pulling OKB's ActiveAddress\n"
     ]
    },
    {
     "name": "stderr",
     "output_type": "stream",
     "text": [
      "\r",
      " 62%|██████████████████████████                | 77/124 [02:30<01:26,  1.83s/it]"
     ]
    },
    {
     "name": "stdout",
     "output_type": "stream",
     "text": [
      "OKB data successfully pulled\n",
      "\n",
      "Start Pulling OMG's data:\n",
      "Pulling OMG's Price\n",
      "Pulling OMG's MarketCap\n",
      "Pulling OMG's TransactionCount\n",
      "Pulling OMG's ActiveAddress\n"
     ]
    },
    {
     "name": "stderr",
     "output_type": "stream",
     "text": [
      "\r",
      " 63%|██████████████████████████▍               | 78/124 [02:32<01:21,  1.76s/it]"
     ]
    },
    {
     "name": "stdout",
     "output_type": "stream",
     "text": [
      "OMG data successfully pulled\n",
      "\n",
      "Start Pulling PAY's data:\n",
      "Pulling PAY's Price\n",
      "Pulling PAY's MarketCap\n",
      "Pulling PAY's TransactionCount\n",
      "Pulling PAY's ActiveAddress\n"
     ]
    },
    {
     "name": "stderr",
     "output_type": "stream",
     "text": [
      "\r",
      " 64%|██████████████████████████▊               | 79/124 [02:33<01:15,  1.67s/it]"
     ]
    },
    {
     "name": "stdout",
     "output_type": "stream",
     "text": [
      "PAY data successfully pulled\n",
      "\n",
      "Start Pulling PERP's data:\n",
      "Pulling PERP's Price\n",
      "Pulling PERP's MarketCap\n",
      "Pulling PERP's TransactionCount\n",
      "Pulling PERP's ActiveAddress\n"
     ]
    },
    {
     "name": "stderr",
     "output_type": "stream",
     "text": [
      "\r",
      " 65%|███████████████████████████               | 80/124 [02:35<01:10,  1.61s/it]"
     ]
    },
    {
     "name": "stdout",
     "output_type": "stream",
     "text": [
      "PERP data successfully pulled\n",
      "\n",
      "Start Pulling PICKLE's data:\n",
      "Pulling PICKLE's Price\n",
      "Pulling PICKLE's MarketCap\n",
      "Pulling PICKLE's TransactionCount\n",
      "Pulling PICKLE's ActiveAddress\n"
     ]
    },
    {
     "name": "stderr",
     "output_type": "stream",
     "text": [
      "\r",
      " 65%|███████████████████████████▍              | 81/124 [02:37<01:13,  1.70s/it]"
     ]
    },
    {
     "name": "stdout",
     "output_type": "stream",
     "text": [
      "PICKLE data successfully pulled\n",
      "\n",
      "Start Pulling PNK's data:\n",
      "Pulling PNK's Price\n",
      "Pulling PNK's MarketCap\n",
      "Pulling PNK's TransactionCount\n",
      "Pulling PNK's ActiveAddress\n"
     ]
    },
    {
     "name": "stderr",
     "output_type": "stream",
     "text": [
      "\r",
      " 66%|███████████████████████████▊              | 82/124 [02:38<01:07,  1.62s/it]"
     ]
    },
    {
     "name": "stdout",
     "output_type": "stream",
     "text": [
      "PNK data successfully pulled\n",
      "\n",
      "Start Pulling PNT's data:\n",
      "Pulling PNT's Price\n",
      "Pulling PNT's MarketCap\n",
      "Pulling PNT's TransactionCount\n",
      "Pulling PNT's ActiveAddress\n"
     ]
    },
    {
     "name": "stderr",
     "output_type": "stream",
     "text": [
      "\r",
      " 67%|████████████████████████████              | 83/124 [02:40<01:06,  1.63s/it]"
     ]
    },
    {
     "name": "stdout",
     "output_type": "stream",
     "text": [
      "PNT data successfully pulled\n",
      "\n",
      "Start Pulling POLY's data:\n",
      "Pulling POLY's Price\n",
      "Pulling POLY's MarketCap\n",
      "Pulling POLY's TransactionCount\n",
      "Pulling POLY's ActiveAddress\n"
     ]
    },
    {
     "name": "stderr",
     "output_type": "stream",
     "text": [
      "\r",
      " 68%|████████████████████████████▍             | 84/124 [02:42<01:07,  1.70s/it]"
     ]
    },
    {
     "name": "stdout",
     "output_type": "stream",
     "text": [
      "POLY data successfully pulled\n",
      "\n",
      "Start Pulling POWR's data:\n",
      "Pulling POWR's Price\n",
      "Pulling POWR's MarketCap\n",
      "Pulling POWR's TransactionCount\n",
      "Pulling POWR's ActiveAddress\n"
     ]
    },
    {
     "name": "stderr",
     "output_type": "stream",
     "text": [
      "\r",
      " 69%|████████████████████████████▊             | 85/124 [02:43<01:07,  1.72s/it]"
     ]
    },
    {
     "name": "stdout",
     "output_type": "stream",
     "text": [
      "POWR data successfully pulled\n",
      "\n",
      "Start Pulling PPT's data:\n",
      "Pulling PPT's Price\n",
      "Pulling PPT's MarketCap\n",
      "Pulling PPT's TransactionCount\n",
      "Pulling PPT's ActiveAddress\n"
     ]
    },
    {
     "name": "stderr",
     "output_type": "stream",
     "text": [
      "\r",
      " 69%|█████████████████████████████▏            | 86/124 [02:46<01:11,  1.88s/it]"
     ]
    },
    {
     "name": "stdout",
     "output_type": "stream",
     "text": [
      "PPT data successfully pulled\n",
      "\n",
      "Start Pulling QASH's data:\n",
      "Pulling QASH's Price\n",
      "Pulling QASH's MarketCap\n",
      "Pulling QASH's TransactionCount\n",
      "Pulling QASH's ActiveAddress\n"
     ]
    },
    {
     "name": "stderr",
     "output_type": "stream",
     "text": [
      "\r",
      " 70%|█████████████████████████████▍            | 87/124 [02:47<01:09,  1.89s/it]"
     ]
    },
    {
     "name": "stdout",
     "output_type": "stream",
     "text": [
      "QASH data successfully pulled\n",
      "\n",
      "Start Pulling QKC's data:\n",
      "Pulling QKC's Price\n",
      "Pulling QKC's MarketCap\n",
      "Pulling QKC's TransactionCount\n",
      "Pulling QKC's ActiveAddress\n"
     ]
    },
    {
     "name": "stderr",
     "output_type": "stream",
     "text": [
      "\r",
      " 71%|█████████████████████████████▊            | 88/124 [02:49<01:04,  1.78s/it]"
     ]
    },
    {
     "name": "stdout",
     "output_type": "stream",
     "text": [
      "QKC data successfully pulled\n",
      "\n",
      "Start Pulling QNT's data:\n",
      "Pulling QNT's Price\n",
      "Pulling QNT's MarketCap\n",
      "Pulling QNT's TransactionCount\n",
      "Pulling QNT's ActiveAddress\n"
     ]
    },
    {
     "name": "stderr",
     "output_type": "stream",
     "text": [
      "\r",
      " 72%|██████████████████████████████▏           | 89/124 [02:50<00:58,  1.68s/it]"
     ]
    },
    {
     "name": "stdout",
     "output_type": "stream",
     "text": [
      "QNT data successfully pulled\n",
      "\n",
      "Start Pulling RDN's data:\n",
      "Pulling RDN's Price\n",
      "Pulling RDN's MarketCap\n",
      "Pulling RDN's TransactionCount\n",
      "Pulling RDN's ActiveAddress\n"
     ]
    },
    {
     "name": "stderr",
     "output_type": "stream",
     "text": [
      "\r",
      " 73%|██████████████████████████████▍           | 90/124 [02:52<00:54,  1.61s/it]"
     ]
    },
    {
     "name": "stdout",
     "output_type": "stream",
     "text": [
      "RDN data successfully pulled\n",
      "\n",
      "Start Pulling REN's data:\n",
      "Pulling REN's Price\n",
      "Pulling REN's MarketCap\n",
      "Pulling REN's TransactionCount\n",
      "Pulling REN's ActiveAddress\n"
     ]
    },
    {
     "name": "stderr",
     "output_type": "stream",
     "text": [
      "\r",
      " 73%|██████████████████████████████▊           | 91/124 [02:54<00:57,  1.75s/it]"
     ]
    },
    {
     "name": "stdout",
     "output_type": "stream",
     "text": [
      "REN data successfully pulled\n",
      "\n",
      "Start Pulling REP's data:\n",
      "Pulling REP's Price\n",
      "Pulling REP's MarketCap\n",
      "Pulling REP's TransactionCount\n",
      "Pulling REP's ActiveAddress\n"
     ]
    },
    {
     "name": "stderr",
     "output_type": "stream",
     "text": [
      "\r",
      " 74%|███████████████████████████████▏          | 92/124 [02:56<00:58,  1.81s/it]"
     ]
    },
    {
     "name": "stdout",
     "output_type": "stream",
     "text": [
      "REP data successfully pulled\n",
      "\n",
      "Start Pulling RLC's data:\n",
      "Pulling RLC's Price\n",
      "Pulling RLC's MarketCap\n",
      "Pulling RLC's TransactionCount\n",
      "Pulling RLC's ActiveAddress\n"
     ]
    },
    {
     "name": "stderr",
     "output_type": "stream",
     "text": [
      "\r",
      " 75%|███████████████████████████████▌          | 93/124 [02:59<01:03,  2.04s/it]"
     ]
    },
    {
     "name": "stdout",
     "output_type": "stream",
     "text": [
      "RLC data successfully pulled\n",
      "\n",
      "Start Pulling ROOK's data:\n",
      "Pulling ROOK's Price\n",
      "Pulling ROOK's MarketCap\n",
      "Pulling ROOK's TransactionCount\n",
      "Pulling ROOK's ActiveAddress\n"
     ]
    },
    {
     "name": "stderr",
     "output_type": "stream",
     "text": [
      "\r",
      " 76%|███████████████████████████████▊          | 94/124 [03:00<00:58,  1.96s/it]"
     ]
    },
    {
     "name": "stdout",
     "output_type": "stream",
     "text": [
      "ROOK data successfully pulled\n",
      "\n",
      "Start Pulling RPL's data:\n",
      "Pulling RPL's Price\n",
      "Pulling RPL's MarketCap\n",
      "Pulling RPL's TransactionCount\n",
      "Pulling RPL's ActiveAddress\n"
     ]
    },
    {
     "name": "stderr",
     "output_type": "stream",
     "text": [
      "\r",
      " 77%|████████████████████████████████▏         | 95/124 [03:02<00:54,  1.90s/it]"
     ]
    },
    {
     "name": "stdout",
     "output_type": "stream",
     "text": [
      "RPL data successfully pulled\n",
      "\n",
      "Start Pulling RSR's data:\n",
      "Pulling RSR's Price\n",
      "Pulling RSR's MarketCap\n",
      "Pulling RSR's TransactionCount\n",
      "Pulling RSR's ActiveAddress\n"
     ]
    },
    {
     "name": "stderr",
     "output_type": "stream",
     "text": [
      "\r",
      " 77%|████████████████████████████████▌         | 96/124 [03:04<00:50,  1.79s/it]"
     ]
    },
    {
     "name": "stdout",
     "output_type": "stream",
     "text": [
      "RSR data successfully pulled\n",
      "\n",
      "Start Pulling SAI's data:\n",
      "Pulling SAI's Price\n",
      "Pulling SAI's MarketCap\n",
      "Pulling SAI's TransactionCount\n",
      "Pulling SAI's ActiveAddress\n"
     ]
    },
    {
     "name": "stderr",
     "output_type": "stream",
     "text": [
      "\r",
      " 78%|████████████████████████████████▊         | 97/124 [03:05<00:49,  1.83s/it]"
     ]
    },
    {
     "name": "stdout",
     "output_type": "stream",
     "text": [
      "SAI data successfully pulled\n",
      "\n",
      "Start Pulling SAN's data:\n",
      "Pulling SAN's Price\n",
      "Pulling SAN's MarketCap\n",
      "Pulling SAN's TransactionCount\n",
      "Pulling SAN's ActiveAddress\n"
     ]
    },
    {
     "name": "stderr",
     "output_type": "stream",
     "text": [
      "\r",
      " 79%|█████████████████████████████████▏        | 98/124 [03:07<00:46,  1.78s/it]"
     ]
    },
    {
     "name": "stdout",
     "output_type": "stream",
     "text": [
      "SAN data successfully pulled\n",
      "\n",
      "Start Pulling SNT's data:\n",
      "Pulling SNT's Price\n",
      "Pulling SNT's MarketCap\n",
      "Pulling SNT's TransactionCount\n",
      "Pulling SNT's ActiveAddress\n"
     ]
    },
    {
     "name": "stderr",
     "output_type": "stream",
     "text": [
      "\r",
      " 80%|█████████████████████████████████▌        | 99/124 [03:09<00:45,  1.83s/it]"
     ]
    },
    {
     "name": "stdout",
     "output_type": "stream",
     "text": [
      "SNT data successfully pulled\n",
      "\n",
      "Start Pulling SNX's data:\n",
      "Pulling SNX's Price\n",
      "Pulling SNX's MarketCap\n",
      "Pulling SNX's TransactionCount\n",
      "Pulling SNX's ActiveAddress\n"
     ]
    },
    {
     "name": "stderr",
     "output_type": "stream",
     "text": [
      "\r",
      " 81%|█████████████████████████████████        | 100/124 [03:11<00:44,  1.87s/it]"
     ]
    },
    {
     "name": "stdout",
     "output_type": "stream",
     "text": [
      "SNX data successfully pulled\n",
      "\n",
      "Start Pulling STAKE's data:\n",
      "Pulling STAKE's Price\n",
      "Pulling STAKE's MarketCap\n",
      "Pulling STAKE's TransactionCount\n",
      "Pulling STAKE's ActiveAddress\n"
     ]
    },
    {
     "name": "stderr",
     "output_type": "stream",
     "text": [
      "\r",
      " 81%|█████████████████████████████████▍       | 101/124 [03:14<00:47,  2.08s/it]"
     ]
    },
    {
     "name": "stdout",
     "output_type": "stream",
     "text": [
      "STAKE data successfully pulled\n",
      "\n",
      "Start Pulling STORJ's data:\n",
      "Pulling STORJ's Price\n",
      "Pulling STORJ's MarketCap\n",
      "Pulling STORJ's TransactionCount\n",
      "Pulling STORJ's ActiveAddress\n"
     ]
    },
    {
     "name": "stderr",
     "output_type": "stream",
     "text": [
      "\r",
      " 82%|█████████████████████████████████▋       | 102/124 [03:15<00:41,  1.90s/it]"
     ]
    },
    {
     "name": "stdout",
     "output_type": "stream",
     "text": [
      "STORJ data successfully pulled\n",
      "\n",
      "Start Pulling sUSD's data:\n",
      "Pulling sUSD's Price\n",
      "Pulling sUSD's MarketCap\n",
      "Pulling sUSD's TransactionCount\n",
      "Pulling sUSD's ActiveAddress\n"
     ]
    },
    {
     "name": "stderr",
     "output_type": "stream",
     "text": [
      "\r",
      " 83%|██████████████████████████████████       | 103/124 [03:17<00:37,  1.77s/it]"
     ]
    },
    {
     "name": "stdout",
     "output_type": "stream",
     "text": [
      "sUSD data successfully pulled\n",
      "\n",
      "Start Pulling SUSHI's data:\n",
      "Pulling SUSHI's Price\n",
      "Pulling SUSHI's MarketCap\n",
      "Pulling SUSHI's TransactionCount\n",
      "Pulling SUSHI's ActiveAddress\n"
     ]
    },
    {
     "name": "stderr",
     "output_type": "stream",
     "text": [
      "\r",
      " 84%|██████████████████████████████████▍      | 104/124 [03:18<00:33,  1.69s/it]"
     ]
    },
    {
     "name": "stdout",
     "output_type": "stream",
     "text": [
      "SUSHI data successfully pulled\n",
      "\n",
      "Start Pulling TEL's data:\n",
      "Pulling TEL's Price\n",
      "Pulling TEL's MarketCap\n",
      "Pulling TEL's TransactionCount\n",
      "Pulling TEL's ActiveAddress\n"
     ]
    },
    {
     "name": "stderr",
     "output_type": "stream",
     "text": [
      "\r",
      " 85%|██████████████████████████████████▋      | 105/124 [03:20<00:33,  1.75s/it]"
     ]
    },
    {
     "name": "stdout",
     "output_type": "stream",
     "text": [
      "TEL data successfully pulled\n",
      "\n",
      "Start Pulling TOP's data:\n",
      "Pulling TOP's Price\n",
      "Pulling TOP's MarketCap\n",
      "Pulling TOP's TransactionCount\n",
      "Pulling TOP's ActiveAddress\n"
     ]
    },
    {
     "name": "stderr",
     "output_type": "stream",
     "text": [
      "\r",
      " 85%|███████████████████████████████████      | 106/124 [03:22<00:33,  1.85s/it]"
     ]
    },
    {
     "name": "stdout",
     "output_type": "stream",
     "text": [
      "TOP data successfully pulled\n",
      "\n",
      "Start Pulling UBT's data:\n",
      "Pulling UBT's Price\n",
      "Pulling UBT's MarketCap\n",
      "Pulling UBT's TransactionCount\n",
      "Pulling UBT's ActiveAddress\n"
     ]
    },
    {
     "name": "stderr",
     "output_type": "stream",
     "text": [
      "\r",
      " 86%|███████████████████████████████████▍     | 107/124 [03:25<00:34,  2.04s/it]"
     ]
    },
    {
     "name": "stdout",
     "output_type": "stream",
     "text": [
      "UBT data successfully pulled\n",
      "\n",
      "Start Pulling UMA's data:\n",
      "Pulling UMA's Price\n",
      "Pulling UMA's MarketCap\n",
      "Pulling UMA's TransactionCount\n",
      "Pulling UMA's ActiveAddress\n"
     ]
    },
    {
     "name": "stderr",
     "output_type": "stream",
     "text": [
      "\r",
      " 87%|███████████████████████████████████▋     | 108/124 [03:27<00:34,  2.13s/it]"
     ]
    },
    {
     "name": "stdout",
     "output_type": "stream",
     "text": [
      "UMA data successfully pulled\n",
      "\n",
      "Start Pulling UNI's data:\n",
      "Pulling UNI's Price\n",
      "Pulling UNI's MarketCap\n",
      "Pulling UNI's TransactionCount\n",
      "Pulling UNI's ActiveAddress\n"
     ]
    },
    {
     "name": "stderr",
     "output_type": "stream",
     "text": [
      "\r",
      " 88%|████████████████████████████████████     | 109/124 [03:29<00:31,  2.08s/it]"
     ]
    },
    {
     "name": "stdout",
     "output_type": "stream",
     "text": [
      "UNI data successfully pulled\n",
      "\n",
      "Start Pulling USDC's data:\n",
      "Pulling USDC's Price\n",
      "Pulling USDC's MarketCap\n",
      "Pulling USDC's TransactionCount\n",
      "Pulling USDC's ActiveAddress\n"
     ]
    },
    {
     "name": "stderr",
     "output_type": "stream",
     "text": [
      "\r",
      " 89%|████████████████████████████████████▎    | 110/124 [03:31<00:29,  2.11s/it]"
     ]
    },
    {
     "name": "stdout",
     "output_type": "stream",
     "text": [
      "USDC data successfully pulled\n",
      "\n",
      "Start Pulling USDK's data:\n",
      "Pulling USDK's Price\n",
      "Pulling USDK's MarketCap\n",
      "Pulling USDK's TransactionCount\n",
      "Pulling USDK's ActiveAddress\n"
     ]
    },
    {
     "name": "stderr",
     "output_type": "stream",
     "text": [
      "\r",
      " 90%|████████████████████████████████████▋    | 111/124 [03:33<00:25,  2.00s/it]"
     ]
    },
    {
     "name": "stdout",
     "output_type": "stream",
     "text": [
      "USDK data successfully pulled\n",
      "\n",
      "Start Pulling USDP's data:\n",
      "Pulling USDP's Price\n",
      "Pulling USDP's MarketCap\n",
      "Pulling USDP's TransactionCount\n",
      "Pulling USDP's ActiveAddress\n"
     ]
    },
    {
     "name": "stderr",
     "output_type": "stream",
     "text": [
      "\r",
      " 90%|█████████████████████████████████████    | 112/124 [03:35<00:23,  1.96s/it]"
     ]
    },
    {
     "name": "stdout",
     "output_type": "stream",
     "text": [
      "USDP data successfully pulled\n",
      "\n",
      "Start Pulling USDT's data:\n",
      "Pulling USDT's Price\n",
      "Pulling USDT's MarketCap\n",
      "Pulling USDT's TransactionCount\n",
      "Pulling USDT's ActiveAddress\n"
     ]
    },
    {
     "name": "stderr",
     "output_type": "stream",
     "text": [
      "\r",
      " 91%|█████████████████████████████████████▎   | 113/124 [03:37<00:23,  2.11s/it]"
     ]
    },
    {
     "name": "stdout",
     "output_type": "stream",
     "text": [
      "USDT data successfully pulled\n",
      "\n",
      "Start Pulling UTK's data:\n",
      "Pulling UTK's Price\n",
      "Pulling UTK's MarketCap\n",
      "Pulling UTK's TransactionCount\n",
      "Pulling UTK's ActiveAddress\n"
     ]
    },
    {
     "name": "stderr",
     "output_type": "stream",
     "text": [
      "\r",
      " 92%|█████████████████████████████████████▋   | 114/124 [03:39<00:19,  1.93s/it]"
     ]
    },
    {
     "name": "stdout",
     "output_type": "stream",
     "text": [
      "UTK data successfully pulled\n",
      "\n",
      "Start Pulling VERI's data:\n",
      "Pulling VERI's Price\n",
      "Pulling VERI's MarketCap\n",
      "Pulling VERI's TransactionCount\n",
      "Pulling VERI's ActiveAddress\n"
     ]
    },
    {
     "name": "stderr",
     "output_type": "stream",
     "text": [
      "\r",
      " 93%|██████████████████████████████████████   | 115/124 [03:42<00:22,  2.46s/it]"
     ]
    },
    {
     "name": "stdout",
     "output_type": "stream",
     "text": [
      "VERI data successfully pulled\n",
      "\n",
      "Start Pulling WaBi's data:\n",
      "Pulling WaBi's Price\n",
      "Pulling WaBi's MarketCap\n",
      "Pulling WaBi's TransactionCount\n",
      "Pulling WaBi's ActiveAddress\n"
     ]
    },
    {
     "name": "stderr",
     "output_type": "stream",
     "text": [
      "\r",
      " 94%|██████████████████████████████████████▎  | 116/124 [03:45<00:19,  2.46s/it]"
     ]
    },
    {
     "name": "stdout",
     "output_type": "stream",
     "text": [
      "WaBi data successfully pulled\n",
      "\n",
      "Start Pulling WAX's data:\n",
      "Pulling WAX's Price\n",
      "Pulling WAX's MarketCap\n",
      "Pulling WAX's TransactionCount\n",
      "Pulling WAX's ActiveAddress\n"
     ]
    },
    {
     "name": "stderr",
     "output_type": "stream",
     "text": [
      "\r",
      " 94%|██████████████████████████████████████▋  | 117/124 [03:47<00:17,  2.48s/it]"
     ]
    },
    {
     "name": "stdout",
     "output_type": "stream",
     "text": [
      "WAX data successfully pulled\n",
      "\n",
      "Start Pulling WBTC's data:\n",
      "Pulling WBTC's Price\n",
      "Pulling WBTC's MarketCap\n",
      "Pulling WBTC's TransactionCount\n",
      "Pulling WBTC's ActiveAddress\n"
     ]
    },
    {
     "name": "stderr",
     "output_type": "stream",
     "text": [
      "\r",
      " 95%|███████████████████████████████████████  | 118/124 [03:49<00:13,  2.21s/it]"
     ]
    },
    {
     "name": "stdout",
     "output_type": "stream",
     "text": [
      "WBTC data successfully pulled\n",
      "\n",
      "Start Pulling WETH's data:\n",
      "Pulling WETH's Price\n",
      "Pulling WETH's MarketCap\n",
      "Pulling WETH's TransactionCount\n",
      "Pulling WETH's ActiveAddress\n"
     ]
    },
    {
     "name": "stderr",
     "output_type": "stream",
     "text": [
      "\r",
      " 96%|███████████████████████████████████████▎ | 119/124 [03:52<00:11,  2.39s/it]"
     ]
    },
    {
     "name": "stdout",
     "output_type": "stream",
     "text": [
      "WETH data successfully pulled\n",
      "\n",
      "Start Pulling wNXM's data:\n",
      "Pulling wNXM's Price\n",
      "Pulling wNXM's MarketCap\n",
      "Pulling wNXM's TransactionCount\n",
      "Pulling wNXM's ActiveAddress\n"
     ]
    },
    {
     "name": "stderr",
     "output_type": "stream",
     "text": [
      "\r",
      " 97%|███████████████████████████████████████▋ | 120/124 [03:53<00:08,  2.03s/it]"
     ]
    },
    {
     "name": "stdout",
     "output_type": "stream",
     "text": [
      "wNXM data successfully pulled\n",
      "\n",
      "Start Pulling WTC's data:\n",
      "Pulling WTC's Price\n",
      "Pulling WTC's MarketCap\n",
      "Pulling WTC's TransactionCount\n",
      "Pulling WTC's ActiveAddress\n"
     ]
    },
    {
     "name": "stderr",
     "output_type": "stream",
     "text": [
      "\r",
      " 98%|████████████████████████████████████████ | 121/124 [03:55<00:05,  1.98s/it]"
     ]
    },
    {
     "name": "stdout",
     "output_type": "stream",
     "text": [
      "WTC data successfully pulled\n",
      "\n",
      "Start Pulling YAM's data:\n",
      "Pulling YAM's Price\n",
      "Pulling YAM's MarketCap\n",
      "Pulling YAM's TransactionCount\n",
      "Pulling YAM's ActiveAddress\n"
     ]
    },
    {
     "name": "stderr",
     "output_type": "stream",
     "text": [
      "\r",
      " 98%|████████████████████████████████████████▎| 122/124 [03:56<00:03,  1.80s/it]"
     ]
    },
    {
     "name": "stdout",
     "output_type": "stream",
     "text": [
      "YAM data successfully pulled\n",
      "\n",
      "Start Pulling YFI's data:\n",
      "Pulling YFI's Price\n",
      "Pulling YFI's MarketCap\n",
      "Pulling YFI's TransactionCount\n",
      "Pulling YFI's ActiveAddress\n"
     ]
    },
    {
     "name": "stderr",
     "output_type": "stream",
     "text": [
      "\r",
      " 99%|████████████████████████████████████████▋| 123/124 [03:58<00:01,  1.74s/it]"
     ]
    },
    {
     "name": "stdout",
     "output_type": "stream",
     "text": [
      "YFI data successfully pulled\n",
      "\n",
      "Start Pulling ZRX's data:\n",
      "Pulling ZRX's Price\n",
      "Pulling ZRX's MarketCap\n",
      "Pulling ZRX's TransactionCount\n",
      "Pulling ZRX's ActiveAddress\n"
     ]
    },
    {
     "name": "stderr",
     "output_type": "stream",
     "text": [
      "100%|█████████████████████████████████████████| 124/124 [03:59<00:00,  1.93s/it]"
     ]
    },
    {
     "name": "stdout",
     "output_type": "stream",
     "text": [
      "ZRX data successfully pulled\n",
      "\n",
      "All Frames Merged\n",
      "\n",
      "ALL DATA SUCCESSFULLY PULLED!\n"
     ]
    },
    {
     "name": "stderr",
     "output_type": "stream",
     "text": [
      "\n"
     ]
    }
   ],
   "source": [
    "# Get fullSample Raw Data(Without Return)\n",
    "fullSample_raw = PullStart(symbolList)\n",
    "\n",
    "# Add Return to fullSample\n",
    "fullSample_add = AddReturn(fullSample_raw)\n",
    "\n",
    "# Impute missing value using interploration method\n",
    "fullSample = InterpolationImpute(fullSample_add)\n",
    "\n"
   ]
  },
  {
   "cell_type": "code",
   "execution_count": 82,
   "metadata": {},
   "outputs": [
    {
     "data": {
      "text/plain": [
       "Date                  0\n",
       "Price               104\n",
       "MarketCap             0\n",
       "TransactionCount      0\n",
       "ActiveAddress         0\n",
       "RiskFree              0\n",
       "Asset                 0\n",
       "Return              104\n",
       "dtype: int64"
      ]
     },
     "execution_count": 82,
     "metadata": {},
     "output_type": "execute_result"
    }
   ],
   "source": [
    "fullSample.isnull().sum()"
   ]
  },
  {
   "cell_type": "markdown",
   "metadata": {},
   "source": [
    "### <font color='red'>testing purchase, test which crypto doesn't have price info.  ! IMP: SAI and WAX currently cannot be used. need to improve method to remove the crypto currencies from the full and large sample if they don't have any values for price"
   ]
  },
  {
   "cell_type": "code",
   "execution_count": 70,
   "metadata": {},
   "outputs": [
    {
     "data": {
      "text/plain": [
       "array(['SAI', 'WAX'], dtype=object)"
      ]
     },
     "execution_count": 70,
     "metadata": {},
     "output_type": "execute_result"
    }
   ],
   "source": [
    "pricenul = fullSample[fullSample['Price'].isnull()]\n",
    "pricenul.Asset.unique()"
   ]
  },
  {
   "cell_type": "code",
   "execution_count": 75,
   "metadata": {},
   "outputs": [
    {
     "data": {
      "text/plain": [
       "(52, 8)"
      ]
     },
     "execution_count": 75,
     "metadata": {},
     "output_type": "execute_result"
    }
   ],
   "source": [
    "df1=pricenul.query(\" (Asset == 'SAI') \")\n",
    "df1.shape"
   ]
  },
  {
   "cell_type": "code",
   "execution_count": 76,
   "metadata": {},
   "outputs": [
    {
     "data": {
      "text/plain": [
       "(52, 8)"
      ]
     },
     "execution_count": 76,
     "metadata": {},
     "output_type": "execute_result"
    }
   ],
   "source": [
    "df2=pricenul.query(\" (Asset == 'WAX') \")\n",
    "df2.shape"
   ]
  },
  {
   "cell_type": "code",
   "execution_count": 77,
   "metadata": {},
   "outputs": [
    {
     "data": {
      "text/html": [
       "<div>\n",
       "<style scoped>\n",
       "    .dataframe tbody tr th:only-of-type {\n",
       "        vertical-align: middle;\n",
       "    }\n",
       "\n",
       "    .dataframe tbody tr th {\n",
       "        vertical-align: top;\n",
       "    }\n",
       "\n",
       "    .dataframe thead th {\n",
       "        text-align: right;\n",
       "    }\n",
       "</style>\n",
       "<table border=\"1\" class=\"dataframe\">\n",
       "  <thead>\n",
       "    <tr style=\"text-align: right;\">\n",
       "      <th></th>\n",
       "      <th>Date</th>\n",
       "      <th>Price</th>\n",
       "      <th>MarketCap</th>\n",
       "      <th>TransactionCount</th>\n",
       "      <th>ActiveAddress</th>\n",
       "      <th>RiskFree</th>\n",
       "      <th>Asset</th>\n",
       "      <th>Return</th>\n",
       "    </tr>\n",
       "  </thead>\n",
       "  <tbody>\n",
       "    <tr>\n",
       "      <th>5928</th>\n",
       "      <td>2021-05-03</td>\n",
       "      <td>NaN</td>\n",
       "      <td>3.404077e+07</td>\n",
       "      <td>0.0</td>\n",
       "      <td>98.0</td>\n",
       "      <td>0.0002</td>\n",
       "      <td>WAX</td>\n",
       "      <td>NaN</td>\n",
       "    </tr>\n",
       "    <tr>\n",
       "      <th>5929</th>\n",
       "      <td>2021-05-10</td>\n",
       "      <td>NaN</td>\n",
       "      <td>3.404077e+07</td>\n",
       "      <td>0.0</td>\n",
       "      <td>26.0</td>\n",
       "      <td>0.0002</td>\n",
       "      <td>WAX</td>\n",
       "      <td>NaN</td>\n",
       "    </tr>\n",
       "    <tr>\n",
       "      <th>5930</th>\n",
       "      <td>2021-05-17</td>\n",
       "      <td>NaN</td>\n",
       "      <td>3.404077e+07</td>\n",
       "      <td>0.0</td>\n",
       "      <td>53.0</td>\n",
       "      <td>0.0000</td>\n",
       "      <td>WAX</td>\n",
       "      <td>NaN</td>\n",
       "    </tr>\n",
       "    <tr>\n",
       "      <th>5931</th>\n",
       "      <td>2021-05-24</td>\n",
       "      <td>NaN</td>\n",
       "      <td>3.404077e+07</td>\n",
       "      <td>0.0</td>\n",
       "      <td>48.0</td>\n",
       "      <td>0.0001</td>\n",
       "      <td>WAX</td>\n",
       "      <td>NaN</td>\n",
       "    </tr>\n",
       "    <tr>\n",
       "      <th>5932</th>\n",
       "      <td>2021-05-31</td>\n",
       "      <td>NaN</td>\n",
       "      <td>3.404077e+07</td>\n",
       "      <td>0.0</td>\n",
       "      <td>47.0</td>\n",
       "      <td>0.0011</td>\n",
       "      <td>WAX</td>\n",
       "      <td>NaN</td>\n",
       "    </tr>\n",
       "    <tr>\n",
       "      <th>5933</th>\n",
       "      <td>2021-06-07</td>\n",
       "      <td>NaN</td>\n",
       "      <td>3.404077e+07</td>\n",
       "      <td>0.0</td>\n",
       "      <td>51.0</td>\n",
       "      <td>0.0001</td>\n",
       "      <td>WAX</td>\n",
       "      <td>NaN</td>\n",
       "    </tr>\n",
       "    <tr>\n",
       "      <th>5934</th>\n",
       "      <td>2021-06-14</td>\n",
       "      <td>NaN</td>\n",
       "      <td>3.404077e+07</td>\n",
       "      <td>0.0</td>\n",
       "      <td>47.0</td>\n",
       "      <td>0.0001</td>\n",
       "      <td>WAX</td>\n",
       "      <td>NaN</td>\n",
       "    </tr>\n",
       "    <tr>\n",
       "      <th>5935</th>\n",
       "      <td>2021-06-21</td>\n",
       "      <td>NaN</td>\n",
       "      <td>3.404077e+07</td>\n",
       "      <td>0.0</td>\n",
       "      <td>29.0</td>\n",
       "      <td>0.0004</td>\n",
       "      <td>WAX</td>\n",
       "      <td>NaN</td>\n",
       "    </tr>\n",
       "    <tr>\n",
       "      <th>5936</th>\n",
       "      <td>2021-06-28</td>\n",
       "      <td>NaN</td>\n",
       "      <td>3.404077e+07</td>\n",
       "      <td>0.0</td>\n",
       "      <td>24.0</td>\n",
       "      <td>0.0004</td>\n",
       "      <td>WAX</td>\n",
       "      <td>NaN</td>\n",
       "    </tr>\n",
       "    <tr>\n",
       "      <th>5937</th>\n",
       "      <td>2021-07-05</td>\n",
       "      <td>NaN</td>\n",
       "      <td>3.404077e+07</td>\n",
       "      <td>0.0</td>\n",
       "      <td>34.0</td>\n",
       "      <td>0.0011</td>\n",
       "      <td>WAX</td>\n",
       "      <td>NaN</td>\n",
       "    </tr>\n",
       "    <tr>\n",
       "      <th>5938</th>\n",
       "      <td>2021-07-12</td>\n",
       "      <td>NaN</td>\n",
       "      <td>3.404077e+07</td>\n",
       "      <td>0.0</td>\n",
       "      <td>35.0</td>\n",
       "      <td>0.0005</td>\n",
       "      <td>WAX</td>\n",
       "      <td>NaN</td>\n",
       "    </tr>\n",
       "    <tr>\n",
       "      <th>5939</th>\n",
       "      <td>2021-07-19</td>\n",
       "      <td>NaN</td>\n",
       "      <td>3.404077e+07</td>\n",
       "      <td>0.0</td>\n",
       "      <td>49.0</td>\n",
       "      <td>0.0005</td>\n",
       "      <td>WAX</td>\n",
       "      <td>NaN</td>\n",
       "    </tr>\n",
       "    <tr>\n",
       "      <th>5940</th>\n",
       "      <td>2021-07-26</td>\n",
       "      <td>NaN</td>\n",
       "      <td>3.404077e+07</td>\n",
       "      <td>0.0</td>\n",
       "      <td>6.0</td>\n",
       "      <td>0.0005</td>\n",
       "      <td>WAX</td>\n",
       "      <td>NaN</td>\n",
       "    </tr>\n",
       "    <tr>\n",
       "      <th>5941</th>\n",
       "      <td>2021-08-02</td>\n",
       "      <td>NaN</td>\n",
       "      <td>3.404077e+07</td>\n",
       "      <td>0.0</td>\n",
       "      <td>38.0</td>\n",
       "      <td>0.0005</td>\n",
       "      <td>WAX</td>\n",
       "      <td>NaN</td>\n",
       "    </tr>\n",
       "    <tr>\n",
       "      <th>5942</th>\n",
       "      <td>2021-08-09</td>\n",
       "      <td>NaN</td>\n",
       "      <td>3.404077e+07</td>\n",
       "      <td>0.0</td>\n",
       "      <td>31.0</td>\n",
       "      <td>0.0004</td>\n",
       "      <td>WAX</td>\n",
       "      <td>NaN</td>\n",
       "    </tr>\n",
       "    <tr>\n",
       "      <th>5943</th>\n",
       "      <td>2021-08-16</td>\n",
       "      <td>NaN</td>\n",
       "      <td>3.404077e+07</td>\n",
       "      <td>0.0</td>\n",
       "      <td>33.0</td>\n",
       "      <td>0.0004</td>\n",
       "      <td>WAX</td>\n",
       "      <td>NaN</td>\n",
       "    </tr>\n",
       "    <tr>\n",
       "      <th>5944</th>\n",
       "      <td>2021-08-23</td>\n",
       "      <td>NaN</td>\n",
       "      <td>3.404077e+07</td>\n",
       "      <td>0.0</td>\n",
       "      <td>119.0</td>\n",
       "      <td>0.0004</td>\n",
       "      <td>WAX</td>\n",
       "      <td>NaN</td>\n",
       "    </tr>\n",
       "    <tr>\n",
       "      <th>5945</th>\n",
       "      <td>2021-08-30</td>\n",
       "      <td>NaN</td>\n",
       "      <td>3.404077e+07</td>\n",
       "      <td>0.0</td>\n",
       "      <td>30.0</td>\n",
       "      <td>0.0004</td>\n",
       "      <td>WAX</td>\n",
       "      <td>NaN</td>\n",
       "    </tr>\n",
       "    <tr>\n",
       "      <th>5946</th>\n",
       "      <td>2021-09-06</td>\n",
       "      <td>NaN</td>\n",
       "      <td>3.404077e+07</td>\n",
       "      <td>0.0</td>\n",
       "      <td>29.0</td>\n",
       "      <td>0.0011</td>\n",
       "      <td>WAX</td>\n",
       "      <td>NaN</td>\n",
       "    </tr>\n",
       "    <tr>\n",
       "      <th>5947</th>\n",
       "      <td>2021-09-13</td>\n",
       "      <td>NaN</td>\n",
       "      <td>3.404077e+07</td>\n",
       "      <td>0.0</td>\n",
       "      <td>33.0</td>\n",
       "      <td>0.0006</td>\n",
       "      <td>WAX</td>\n",
       "      <td>NaN</td>\n",
       "    </tr>\n",
       "    <tr>\n",
       "      <th>5948</th>\n",
       "      <td>2021-09-20</td>\n",
       "      <td>NaN</td>\n",
       "      <td>3.404077e+07</td>\n",
       "      <td>0.0</td>\n",
       "      <td>16.0</td>\n",
       "      <td>0.0006</td>\n",
       "      <td>WAX</td>\n",
       "      <td>NaN</td>\n",
       "    </tr>\n",
       "    <tr>\n",
       "      <th>5949</th>\n",
       "      <td>2021-09-27</td>\n",
       "      <td>NaN</td>\n",
       "      <td>3.404077e+07</td>\n",
       "      <td>0.0</td>\n",
       "      <td>17.0</td>\n",
       "      <td>0.0006</td>\n",
       "      <td>WAX</td>\n",
       "      <td>NaN</td>\n",
       "    </tr>\n",
       "    <tr>\n",
       "      <th>5950</th>\n",
       "      <td>2021-10-04</td>\n",
       "      <td>NaN</td>\n",
       "      <td>3.404077e+07</td>\n",
       "      <td>0.0</td>\n",
       "      <td>16.0</td>\n",
       "      <td>0.0009</td>\n",
       "      <td>WAX</td>\n",
       "      <td>NaN</td>\n",
       "    </tr>\n",
       "    <tr>\n",
       "      <th>5951</th>\n",
       "      <td>2021-10-11</td>\n",
       "      <td>NaN</td>\n",
       "      <td>3.404077e+07</td>\n",
       "      <td>0.0</td>\n",
       "      <td>35.0</td>\n",
       "      <td>0.0011</td>\n",
       "      <td>WAX</td>\n",
       "      <td>NaN</td>\n",
       "    </tr>\n",
       "    <tr>\n",
       "      <th>5952</th>\n",
       "      <td>2021-10-18</td>\n",
       "      <td>NaN</td>\n",
       "      <td>3.404077e+07</td>\n",
       "      <td>0.0</td>\n",
       "      <td>23.0</td>\n",
       "      <td>0.0005</td>\n",
       "      <td>WAX</td>\n",
       "      <td>NaN</td>\n",
       "    </tr>\n",
       "    <tr>\n",
       "      <th>5953</th>\n",
       "      <td>2021-10-25</td>\n",
       "      <td>NaN</td>\n",
       "      <td>3.404077e+07</td>\n",
       "      <td>0.0</td>\n",
       "      <td>18.0</td>\n",
       "      <td>0.0007</td>\n",
       "      <td>WAX</td>\n",
       "      <td>NaN</td>\n",
       "    </tr>\n",
       "    <tr>\n",
       "      <th>5954</th>\n",
       "      <td>2021-11-01</td>\n",
       "      <td>NaN</td>\n",
       "      <td>3.404077e+07</td>\n",
       "      <td>0.0</td>\n",
       "      <td>38.0</td>\n",
       "      <td>0.0005</td>\n",
       "      <td>WAX</td>\n",
       "      <td>NaN</td>\n",
       "    </tr>\n",
       "    <tr>\n",
       "      <th>5955</th>\n",
       "      <td>2021-11-08</td>\n",
       "      <td>NaN</td>\n",
       "      <td>3.404077e+07</td>\n",
       "      <td>0.0</td>\n",
       "      <td>40.0</td>\n",
       "      <td>0.0004</td>\n",
       "      <td>WAX</td>\n",
       "      <td>NaN</td>\n",
       "    </tr>\n",
       "    <tr>\n",
       "      <th>5956</th>\n",
       "      <td>2021-11-15</td>\n",
       "      <td>NaN</td>\n",
       "      <td>3.404077e+07</td>\n",
       "      <td>0.0</td>\n",
       "      <td>75.0</td>\n",
       "      <td>0.0006</td>\n",
       "      <td>WAX</td>\n",
       "      <td>NaN</td>\n",
       "    </tr>\n",
       "    <tr>\n",
       "      <th>5957</th>\n",
       "      <td>2021-11-22</td>\n",
       "      <td>NaN</td>\n",
       "      <td>3.404077e+07</td>\n",
       "      <td>0.0</td>\n",
       "      <td>36.0</td>\n",
       "      <td>0.0007</td>\n",
       "      <td>WAX</td>\n",
       "      <td>NaN</td>\n",
       "    </tr>\n",
       "    <tr>\n",
       "      <th>5958</th>\n",
       "      <td>2021-11-29</td>\n",
       "      <td>NaN</td>\n",
       "      <td>3.404077e+07</td>\n",
       "      <td>0.0</td>\n",
       "      <td>26.0</td>\n",
       "      <td>0.0007</td>\n",
       "      <td>WAX</td>\n",
       "      <td>NaN</td>\n",
       "    </tr>\n",
       "    <tr>\n",
       "      <th>5959</th>\n",
       "      <td>2021-12-06</td>\n",
       "      <td>NaN</td>\n",
       "      <td>3.404077e+07</td>\n",
       "      <td>0.0</td>\n",
       "      <td>40.0</td>\n",
       "      <td>0.0005</td>\n",
       "      <td>WAX</td>\n",
       "      <td>NaN</td>\n",
       "    </tr>\n",
       "    <tr>\n",
       "      <th>5960</th>\n",
       "      <td>2021-12-13</td>\n",
       "      <td>NaN</td>\n",
       "      <td>3.404077e+07</td>\n",
       "      <td>0.0</td>\n",
       "      <td>56.0</td>\n",
       "      <td>0.0001</td>\n",
       "      <td>WAX</td>\n",
       "      <td>NaN</td>\n",
       "    </tr>\n",
       "    <tr>\n",
       "      <th>5961</th>\n",
       "      <td>2021-12-20</td>\n",
       "      <td>NaN</td>\n",
       "      <td>3.404077e+07</td>\n",
       "      <td>0.0</td>\n",
       "      <td>28.0</td>\n",
       "      <td>0.0003</td>\n",
       "      <td>WAX</td>\n",
       "      <td>NaN</td>\n",
       "    </tr>\n",
       "    <tr>\n",
       "      <th>5962</th>\n",
       "      <td>2021-12-27</td>\n",
       "      <td>NaN</td>\n",
       "      <td>3.404077e+07</td>\n",
       "      <td>0.0</td>\n",
       "      <td>8.0</td>\n",
       "      <td>0.0004</td>\n",
       "      <td>WAX</td>\n",
       "      <td>NaN</td>\n",
       "    </tr>\n",
       "    <tr>\n",
       "      <th>5963</th>\n",
       "      <td>2022-01-03</td>\n",
       "      <td>NaN</td>\n",
       "      <td>3.404077e+07</td>\n",
       "      <td>0.0</td>\n",
       "      <td>16.0</td>\n",
       "      <td>0.0005</td>\n",
       "      <td>WAX</td>\n",
       "      <td>NaN</td>\n",
       "    </tr>\n",
       "    <tr>\n",
       "      <th>5964</th>\n",
       "      <td>2022-01-10</td>\n",
       "      <td>NaN</td>\n",
       "      <td>3.404077e+07</td>\n",
       "      <td>0.0</td>\n",
       "      <td>13.0</td>\n",
       "      <td>0.0005</td>\n",
       "      <td>WAX</td>\n",
       "      <td>NaN</td>\n",
       "    </tr>\n",
       "    <tr>\n",
       "      <th>5965</th>\n",
       "      <td>2022-01-17</td>\n",
       "      <td>NaN</td>\n",
       "      <td>3.404077e+07</td>\n",
       "      <td>0.0</td>\n",
       "      <td>21.0</td>\n",
       "      <td>0.0011</td>\n",
       "      <td>WAX</td>\n",
       "      <td>NaN</td>\n",
       "    </tr>\n",
       "    <tr>\n",
       "      <th>5966</th>\n",
       "      <td>2022-01-24</td>\n",
       "      <td>NaN</td>\n",
       "      <td>3.404077e+07</td>\n",
       "      <td>0.0</td>\n",
       "      <td>20.0</td>\n",
       "      <td>0.0005</td>\n",
       "      <td>WAX</td>\n",
       "      <td>NaN</td>\n",
       "    </tr>\n",
       "    <tr>\n",
       "      <th>5967</th>\n",
       "      <td>2022-01-31</td>\n",
       "      <td>NaN</td>\n",
       "      <td>3.404077e+07</td>\n",
       "      <td>0.0</td>\n",
       "      <td>17.0</td>\n",
       "      <td>0.0003</td>\n",
       "      <td>WAX</td>\n",
       "      <td>NaN</td>\n",
       "    </tr>\n",
       "    <tr>\n",
       "      <th>5968</th>\n",
       "      <td>2022-02-07</td>\n",
       "      <td>NaN</td>\n",
       "      <td>3.404077e+07</td>\n",
       "      <td>0.0</td>\n",
       "      <td>21.0</td>\n",
       "      <td>0.0003</td>\n",
       "      <td>WAX</td>\n",
       "      <td>NaN</td>\n",
       "    </tr>\n",
       "    <tr>\n",
       "      <th>5969</th>\n",
       "      <td>2022-02-14</td>\n",
       "      <td>NaN</td>\n",
       "      <td>3.404077e+07</td>\n",
       "      <td>0.0</td>\n",
       "      <td>13.0</td>\n",
       "      <td>0.0003</td>\n",
       "      <td>WAX</td>\n",
       "      <td>NaN</td>\n",
       "    </tr>\n",
       "    <tr>\n",
       "      <th>5970</th>\n",
       "      <td>2022-02-21</td>\n",
       "      <td>NaN</td>\n",
       "      <td>3.404077e+07</td>\n",
       "      <td>0.0</td>\n",
       "      <td>19.0</td>\n",
       "      <td>0.0011</td>\n",
       "      <td>WAX</td>\n",
       "      <td>NaN</td>\n",
       "    </tr>\n",
       "    <tr>\n",
       "      <th>5971</th>\n",
       "      <td>2022-02-28</td>\n",
       "      <td>NaN</td>\n",
       "      <td>3.404077e+07</td>\n",
       "      <td>0.0</td>\n",
       "      <td>16.0</td>\n",
       "      <td>0.0006</td>\n",
       "      <td>WAX</td>\n",
       "      <td>NaN</td>\n",
       "    </tr>\n",
       "    <tr>\n",
       "      <th>5972</th>\n",
       "      <td>2022-03-07</td>\n",
       "      <td>NaN</td>\n",
       "      <td>3.404077e+07</td>\n",
       "      <td>0.0</td>\n",
       "      <td>17.0</td>\n",
       "      <td>0.0017</td>\n",
       "      <td>WAX</td>\n",
       "      <td>NaN</td>\n",
       "    </tr>\n",
       "    <tr>\n",
       "      <th>5973</th>\n",
       "      <td>2022-03-14</td>\n",
       "      <td>NaN</td>\n",
       "      <td>3.404077e+07</td>\n",
       "      <td>0.0</td>\n",
       "      <td>5.0</td>\n",
       "      <td>0.0023</td>\n",
       "      <td>WAX</td>\n",
       "      <td>NaN</td>\n",
       "    </tr>\n",
       "    <tr>\n",
       "      <th>5974</th>\n",
       "      <td>2022-03-21</td>\n",
       "      <td>NaN</td>\n",
       "      <td>3.404077e+07</td>\n",
       "      <td>0.0</td>\n",
       "      <td>28.0</td>\n",
       "      <td>0.0022</td>\n",
       "      <td>WAX</td>\n",
       "      <td>NaN</td>\n",
       "    </tr>\n",
       "    <tr>\n",
       "      <th>5975</th>\n",
       "      <td>2022-03-28</td>\n",
       "      <td>NaN</td>\n",
       "      <td>3.404077e+07</td>\n",
       "      <td>0.0</td>\n",
       "      <td>12.0</td>\n",
       "      <td>0.0019</td>\n",
       "      <td>WAX</td>\n",
       "      <td>NaN</td>\n",
       "    </tr>\n",
       "    <tr>\n",
       "      <th>5976</th>\n",
       "      <td>2022-04-04</td>\n",
       "      <td>NaN</td>\n",
       "      <td>3.404077e+07</td>\n",
       "      <td>0.0</td>\n",
       "      <td>4.0</td>\n",
       "      <td>0.0018</td>\n",
       "      <td>WAX</td>\n",
       "      <td>NaN</td>\n",
       "    </tr>\n",
       "    <tr>\n",
       "      <th>5977</th>\n",
       "      <td>2022-04-11</td>\n",
       "      <td>NaN</td>\n",
       "      <td>3.404077e+07</td>\n",
       "      <td>0.0</td>\n",
       "      <td>18.0</td>\n",
       "      <td>0.0022</td>\n",
       "      <td>WAX</td>\n",
       "      <td>NaN</td>\n",
       "    </tr>\n",
       "    <tr>\n",
       "      <th>5978</th>\n",
       "      <td>2022-04-18</td>\n",
       "      <td>NaN</td>\n",
       "      <td>3.404077e+07</td>\n",
       "      <td>0.0</td>\n",
       "      <td>16.0</td>\n",
       "      <td>0.0038</td>\n",
       "      <td>WAX</td>\n",
       "      <td>NaN</td>\n",
       "    </tr>\n",
       "    <tr>\n",
       "      <th>5979</th>\n",
       "      <td>2022-04-25</td>\n",
       "      <td>NaN</td>\n",
       "      <td>3.404077e+07</td>\n",
       "      <td>0.0</td>\n",
       "      <td>15.0</td>\n",
       "      <td>0.0040</td>\n",
       "      <td>WAX</td>\n",
       "      <td>NaN</td>\n",
       "    </tr>\n",
       "  </tbody>\n",
       "</table>\n",
       "</div>"
      ],
      "text/plain": [
       "           Date  Price     MarketCap  TransactionCount  ActiveAddress  \\\n",
       "5928 2021-05-03    NaN  3.404077e+07               0.0           98.0   \n",
       "5929 2021-05-10    NaN  3.404077e+07               0.0           26.0   \n",
       "5930 2021-05-17    NaN  3.404077e+07               0.0           53.0   \n",
       "5931 2021-05-24    NaN  3.404077e+07               0.0           48.0   \n",
       "5932 2021-05-31    NaN  3.404077e+07               0.0           47.0   \n",
       "5933 2021-06-07    NaN  3.404077e+07               0.0           51.0   \n",
       "5934 2021-06-14    NaN  3.404077e+07               0.0           47.0   \n",
       "5935 2021-06-21    NaN  3.404077e+07               0.0           29.0   \n",
       "5936 2021-06-28    NaN  3.404077e+07               0.0           24.0   \n",
       "5937 2021-07-05    NaN  3.404077e+07               0.0           34.0   \n",
       "5938 2021-07-12    NaN  3.404077e+07               0.0           35.0   \n",
       "5939 2021-07-19    NaN  3.404077e+07               0.0           49.0   \n",
       "5940 2021-07-26    NaN  3.404077e+07               0.0            6.0   \n",
       "5941 2021-08-02    NaN  3.404077e+07               0.0           38.0   \n",
       "5942 2021-08-09    NaN  3.404077e+07               0.0           31.0   \n",
       "5943 2021-08-16    NaN  3.404077e+07               0.0           33.0   \n",
       "5944 2021-08-23    NaN  3.404077e+07               0.0          119.0   \n",
       "5945 2021-08-30    NaN  3.404077e+07               0.0           30.0   \n",
       "5946 2021-09-06    NaN  3.404077e+07               0.0           29.0   \n",
       "5947 2021-09-13    NaN  3.404077e+07               0.0           33.0   \n",
       "5948 2021-09-20    NaN  3.404077e+07               0.0           16.0   \n",
       "5949 2021-09-27    NaN  3.404077e+07               0.0           17.0   \n",
       "5950 2021-10-04    NaN  3.404077e+07               0.0           16.0   \n",
       "5951 2021-10-11    NaN  3.404077e+07               0.0           35.0   \n",
       "5952 2021-10-18    NaN  3.404077e+07               0.0           23.0   \n",
       "5953 2021-10-25    NaN  3.404077e+07               0.0           18.0   \n",
       "5954 2021-11-01    NaN  3.404077e+07               0.0           38.0   \n",
       "5955 2021-11-08    NaN  3.404077e+07               0.0           40.0   \n",
       "5956 2021-11-15    NaN  3.404077e+07               0.0           75.0   \n",
       "5957 2021-11-22    NaN  3.404077e+07               0.0           36.0   \n",
       "5958 2021-11-29    NaN  3.404077e+07               0.0           26.0   \n",
       "5959 2021-12-06    NaN  3.404077e+07               0.0           40.0   \n",
       "5960 2021-12-13    NaN  3.404077e+07               0.0           56.0   \n",
       "5961 2021-12-20    NaN  3.404077e+07               0.0           28.0   \n",
       "5962 2021-12-27    NaN  3.404077e+07               0.0            8.0   \n",
       "5963 2022-01-03    NaN  3.404077e+07               0.0           16.0   \n",
       "5964 2022-01-10    NaN  3.404077e+07               0.0           13.0   \n",
       "5965 2022-01-17    NaN  3.404077e+07               0.0           21.0   \n",
       "5966 2022-01-24    NaN  3.404077e+07               0.0           20.0   \n",
       "5967 2022-01-31    NaN  3.404077e+07               0.0           17.0   \n",
       "5968 2022-02-07    NaN  3.404077e+07               0.0           21.0   \n",
       "5969 2022-02-14    NaN  3.404077e+07               0.0           13.0   \n",
       "5970 2022-02-21    NaN  3.404077e+07               0.0           19.0   \n",
       "5971 2022-02-28    NaN  3.404077e+07               0.0           16.0   \n",
       "5972 2022-03-07    NaN  3.404077e+07               0.0           17.0   \n",
       "5973 2022-03-14    NaN  3.404077e+07               0.0            5.0   \n",
       "5974 2022-03-21    NaN  3.404077e+07               0.0           28.0   \n",
       "5975 2022-03-28    NaN  3.404077e+07               0.0           12.0   \n",
       "5976 2022-04-04    NaN  3.404077e+07               0.0            4.0   \n",
       "5977 2022-04-11    NaN  3.404077e+07               0.0           18.0   \n",
       "5978 2022-04-18    NaN  3.404077e+07               0.0           16.0   \n",
       "5979 2022-04-25    NaN  3.404077e+07               0.0           15.0   \n",
       "\n",
       "      RiskFree Asset  Return  \n",
       "5928    0.0002   WAX     NaN  \n",
       "5929    0.0002   WAX     NaN  \n",
       "5930    0.0000   WAX     NaN  \n",
       "5931    0.0001   WAX     NaN  \n",
       "5932    0.0011   WAX     NaN  \n",
       "5933    0.0001   WAX     NaN  \n",
       "5934    0.0001   WAX     NaN  \n",
       "5935    0.0004   WAX     NaN  \n",
       "5936    0.0004   WAX     NaN  \n",
       "5937    0.0011   WAX     NaN  \n",
       "5938    0.0005   WAX     NaN  \n",
       "5939    0.0005   WAX     NaN  \n",
       "5940    0.0005   WAX     NaN  \n",
       "5941    0.0005   WAX     NaN  \n",
       "5942    0.0004   WAX     NaN  \n",
       "5943    0.0004   WAX     NaN  \n",
       "5944    0.0004   WAX     NaN  \n",
       "5945    0.0004   WAX     NaN  \n",
       "5946    0.0011   WAX     NaN  \n",
       "5947    0.0006   WAX     NaN  \n",
       "5948    0.0006   WAX     NaN  \n",
       "5949    0.0006   WAX     NaN  \n",
       "5950    0.0009   WAX     NaN  \n",
       "5951    0.0011   WAX     NaN  \n",
       "5952    0.0005   WAX     NaN  \n",
       "5953    0.0007   WAX     NaN  \n",
       "5954    0.0005   WAX     NaN  \n",
       "5955    0.0004   WAX     NaN  \n",
       "5956    0.0006   WAX     NaN  \n",
       "5957    0.0007   WAX     NaN  \n",
       "5958    0.0007   WAX     NaN  \n",
       "5959    0.0005   WAX     NaN  \n",
       "5960    0.0001   WAX     NaN  \n",
       "5961    0.0003   WAX     NaN  \n",
       "5962    0.0004   WAX     NaN  \n",
       "5963    0.0005   WAX     NaN  \n",
       "5964    0.0005   WAX     NaN  \n",
       "5965    0.0011   WAX     NaN  \n",
       "5966    0.0005   WAX     NaN  \n",
       "5967    0.0003   WAX     NaN  \n",
       "5968    0.0003   WAX     NaN  \n",
       "5969    0.0003   WAX     NaN  \n",
       "5970    0.0011   WAX     NaN  \n",
       "5971    0.0006   WAX     NaN  \n",
       "5972    0.0017   WAX     NaN  \n",
       "5973    0.0023   WAX     NaN  \n",
       "5974    0.0022   WAX     NaN  \n",
       "5975    0.0019   WAX     NaN  \n",
       "5976    0.0018   WAX     NaN  \n",
       "5977    0.0022   WAX     NaN  \n",
       "5978    0.0038   WAX     NaN  \n",
       "5979    0.0040   WAX     NaN  "
      ]
     },
     "execution_count": 77,
     "metadata": {},
     "output_type": "execute_result"
    }
   ],
   "source": [
    "df2"
   ]
  },
  {
   "cell_type": "code",
   "execution_count": null,
   "metadata": {},
   "outputs": [],
   "source": []
  },
  {
   "cell_type": "markdown",
   "metadata": {},
   "source": [
    "## MKT \n",
    "Use (maket cap > 1m and top 100) to set up market porfolio"
   ]
  },
  {
   "cell_type": "code",
   "execution_count": 163,
   "metadata": {},
   "outputs": [],
   "source": [
    "largeCap = fullSample.query(\"MarketCap > 1000000\")\n",
    "largeCapSample = largeCap.groupby(['Date']).apply(lambda x: x.nlargest(100,['MarketCap'])).reset_index(drop=True)"
   ]
  },
  {
   "cell_type": "code",
   "execution_count": 166,
   "metadata": {},
   "outputs": [
    {
     "data": {
      "text/html": [
       "<div>\n",
       "<style scoped>\n",
       "    .dataframe tbody tr th:only-of-type {\n",
       "        vertical-align: middle;\n",
       "    }\n",
       "\n",
       "    .dataframe tbody tr th {\n",
       "        vertical-align: top;\n",
       "    }\n",
       "\n",
       "    .dataframe thead th {\n",
       "        text-align: right;\n",
       "    }\n",
       "</style>\n",
       "<table border=\"1\" class=\"dataframe\">\n",
       "  <thead>\n",
       "    <tr style=\"text-align: right;\">\n",
       "      <th></th>\n",
       "      <th>Date</th>\n",
       "      <th>Price</th>\n",
       "      <th>MarketCap</th>\n",
       "      <th>TransactionCount</th>\n",
       "      <th>ActiveAddress</th>\n",
       "      <th>RiskFree</th>\n",
       "      <th>Asset</th>\n",
       "      <th>Return</th>\n",
       "    </tr>\n",
       "  </thead>\n",
       "  <tbody>\n",
       "    <tr>\n",
       "      <th>0</th>\n",
       "      <td>2021-05-03</td>\n",
       "      <td>58218.566077</td>\n",
       "      <td>1.088991e+12</td>\n",
       "      <td>2038316.0</td>\n",
       "      <td>6622607.0</td>\n",
       "      <td>0.0002</td>\n",
       "      <td>BTC</td>\n",
       "      <td>0.028357</td>\n",
       "    </tr>\n",
       "    <tr>\n",
       "      <th>1</th>\n",
       "      <td>2021-05-03</td>\n",
       "      <td>3932.359246</td>\n",
       "      <td>4.554030e+11</td>\n",
       "      <td>10602184.0</td>\n",
       "      <td>3548128.0</td>\n",
       "      <td>0.0002</td>\n",
       "      <td>ETH</td>\n",
       "      <td>0.331870</td>\n",
       "    </tr>\n",
       "    <tr>\n",
       "      <th>2</th>\n",
       "      <td>2021-05-03</td>\n",
       "      <td>1.000026</td>\n",
       "      <td>5.372178e+10</td>\n",
       "      <td>0.0</td>\n",
       "      <td>576798.0</td>\n",
       "      <td>0.0002</td>\n",
       "      <td>USDT</td>\n",
       "      <td>0.000035</td>\n",
       "    </tr>\n",
       "    <tr>\n",
       "      <th>3</th>\n",
       "      <td>2021-05-03</td>\n",
       "      <td>385.704466</td>\n",
       "      <td>2.608153e+10</td>\n",
       "      <td>882361.0</td>\n",
       "      <td>1438322.0</td>\n",
       "      <td>0.0002</td>\n",
       "      <td>LTC</td>\n",
       "      <td>0.433524</td>\n",
       "    </tr>\n",
       "    <tr>\n",
       "      <th>4</th>\n",
       "      <td>2021-05-03</td>\n",
       "      <td>52.096533</td>\n",
       "      <td>2.182895e+10</td>\n",
       "      <td>0.0</td>\n",
       "      <td>65705.0</td>\n",
       "      <td>0.0002</td>\n",
       "      <td>LINK</td>\n",
       "      <td>0.320233</td>\n",
       "    </tr>\n",
       "  </tbody>\n",
       "</table>\n",
       "</div>"
      ],
      "text/plain": [
       "        Date         Price     MarketCap  TransactionCount  ActiveAddress  \\\n",
       "0 2021-05-03  58218.566077  1.088991e+12         2038316.0      6622607.0   \n",
       "1 2021-05-03   3932.359246  4.554030e+11        10602184.0      3548128.0   \n",
       "2 2021-05-03      1.000026  5.372178e+10               0.0       576798.0   \n",
       "3 2021-05-03    385.704466  2.608153e+10          882361.0      1438322.0   \n",
       "4 2021-05-03     52.096533  2.182895e+10               0.0        65705.0   \n",
       "\n",
       "   RiskFree Asset    Return  \n",
       "0    0.0002   BTC  0.028357  \n",
       "1    0.0002   ETH  0.331870  \n",
       "2    0.0002  USDT  0.000035  \n",
       "3    0.0002   LTC  0.433524  \n",
       "4    0.0002  LINK  0.320233  "
      ]
     },
     "execution_count": 166,
     "metadata": {},
     "output_type": "execute_result"
    }
   ],
   "source": [
    "largeCapSample.head()"
   ]
  },
  {
   "cell_type": "markdown",
   "metadata": {},
   "source": [
    "## Calculate MKT for each week"
   ]
  },
  {
   "cell_type": "code",
   "execution_count": 167,
   "metadata": {},
   "outputs": [],
   "source": [
    "## largeCapSample is a big dataframe include all crypto currencies makcap greater than 1000000\n",
    "marketport = largeCapSample.groupby('Date')['MarketCap'].sum().reset_index(name='TotalMarketCap')\n",
    "\n",
    "marketInd = largeCapSample.copy()\n",
    "marketInd['weights'] = marketInd['Return'] * marketInd['MarketCap']\n",
    "recomp = marketInd.groupby('Date')['weights'].sum().reset_index(name='TotalMarketReturn')\n",
    "marketport['MarketIndexReturn'] = recomp['TotalMarketReturn']/ marketport['TotalMarketCap']"
   ]
  },
  {
   "cell_type": "code",
   "execution_count": 176,
   "metadata": {},
   "outputs": [],
   "source": [
    "riskfree = largeCapSample.groupby('Date')['RiskFree'].mean().reset_index()\n",
    "marketport = marketport.merge(riskfree, on='Date')\n",
    "marketport['MKT'] = marketport['MarketIndexReturn'] - marketport['RiskFree']\n",
    "MKT_f = marketport[['Date','MKT']]"
   ]
  },
  {
   "cell_type": "code",
   "execution_count": 180,
   "metadata": {},
   "outputs": [
    {
     "data": {
      "text/html": [
       "<div>\n",
       "<style scoped>\n",
       "    .dataframe tbody tr th:only-of-type {\n",
       "        vertical-align: middle;\n",
       "    }\n",
       "\n",
       "    .dataframe tbody tr th {\n",
       "        vertical-align: top;\n",
       "    }\n",
       "\n",
       "    .dataframe thead th {\n",
       "        text-align: right;\n",
       "    }\n",
       "</style>\n",
       "<table border=\"1\" class=\"dataframe\">\n",
       "  <thead>\n",
       "    <tr style=\"text-align: right;\">\n",
       "      <th></th>\n",
       "      <th>Date</th>\n",
       "      <th>MKT</th>\n",
       "    </tr>\n",
       "  </thead>\n",
       "  <tbody>\n",
       "    <tr>\n",
       "      <th>0</th>\n",
       "      <td>2021-05-03</td>\n",
       "      <td>0.107046</td>\n",
       "    </tr>\n",
       "    <tr>\n",
       "      <th>1</th>\n",
       "      <td>2021-05-10</td>\n",
       "      <td>-0.142201</td>\n",
       "    </tr>\n",
       "    <tr>\n",
       "      <th>2</th>\n",
       "      <td>2021-05-17</td>\n",
       "      <td>-0.250966</td>\n",
       "    </tr>\n",
       "    <tr>\n",
       "      <th>3</th>\n",
       "      <td>2021-05-24</td>\n",
       "      <td>0.045617</td>\n",
       "    </tr>\n",
       "    <tr>\n",
       "      <th>4</th>\n",
       "      <td>2021-05-31</td>\n",
       "      <td>0.037638</td>\n",
       "    </tr>\n",
       "  </tbody>\n",
       "</table>\n",
       "</div>"
      ],
      "text/plain": [
       "        Date       MKT\n",
       "0 2021-05-03  0.107046\n",
       "1 2021-05-10 -0.142201\n",
       "2 2021-05-17 -0.250966\n",
       "3 2021-05-24  0.045617\n",
       "4 2021-05-31  0.037638"
      ]
     },
     "execution_count": 180,
     "metadata": {},
     "output_type": "execute_result"
    }
   ],
   "source": [
    "MKT_f.head()"
   ]
  },
  {
   "cell_type": "code",
   "execution_count": 165,
   "metadata": {},
   "outputs": [
    {
     "data": {
      "text/plain": [
       "109"
      ]
     },
     "execution_count": 165,
     "metadata": {},
     "output_type": "execute_result"
    }
   ],
   "source": [
    "len(largeCapSample.Asset.unique())"
   ]
  },
  {
   "cell_type": "code",
   "execution_count": 162,
   "metadata": {},
   "outputs": [
    {
     "data": {
      "text/plain": [
       "124"
      ]
     },
     "execution_count": 162,
     "metadata": {},
     "output_type": "execute_result"
    }
   ],
   "source": [
    "len(fullSample.Asset.unique())"
   ]
  },
  {
   "cell_type": "markdown",
   "metadata": {},
   "source": [
    "## Calculate Size - SMB (currently use full sample)"
   ]
  },
  {
   "cell_type": "markdown",
   "metadata": {},
   "source": [
    "### largeCap includes all the cryptos in the top cap 20%, smallCap includes all the cryptos in the bottom cap 20%"
   ]
  },
  {
   "cell_type": "code",
   "execution_count": 184,
   "metadata": {},
   "outputs": [
    {
     "data": {
      "text/html": [
       "<div>\n",
       "<style scoped>\n",
       "    .dataframe tbody tr th:only-of-type {\n",
       "        vertical-align: middle;\n",
       "    }\n",
       "\n",
       "    .dataframe tbody tr th {\n",
       "        vertical-align: top;\n",
       "    }\n",
       "\n",
       "    .dataframe thead th {\n",
       "        text-align: right;\n",
       "    }\n",
       "</style>\n",
       "<table border=\"1\" class=\"dataframe\">\n",
       "  <thead>\n",
       "    <tr style=\"text-align: right;\">\n",
       "      <th></th>\n",
       "      <th>Date</th>\n",
       "      <th>Price</th>\n",
       "      <th>MarketCap</th>\n",
       "      <th>TransactionCount</th>\n",
       "      <th>ActiveAddress</th>\n",
       "      <th>RiskFree</th>\n",
       "      <th>Asset</th>\n",
       "      <th>Return</th>\n",
       "    </tr>\n",
       "  </thead>\n",
       "  <tbody>\n",
       "    <tr>\n",
       "      <th>0</th>\n",
       "      <td>2021-05-03</td>\n",
       "      <td>58218.566077</td>\n",
       "      <td>1.088991e+12</td>\n",
       "      <td>2038316.0</td>\n",
       "      <td>6622607.0</td>\n",
       "      <td>0.0002</td>\n",
       "      <td>BTC</td>\n",
       "      <td>0.028357</td>\n",
       "    </tr>\n",
       "    <tr>\n",
       "      <th>1</th>\n",
       "      <td>2021-05-03</td>\n",
       "      <td>3932.359246</td>\n",
       "      <td>4.554030e+11</td>\n",
       "      <td>10602184.0</td>\n",
       "      <td>3548128.0</td>\n",
       "      <td>0.0002</td>\n",
       "      <td>ETH</td>\n",
       "      <td>0.331870</td>\n",
       "    </tr>\n",
       "    <tr>\n",
       "      <th>2</th>\n",
       "      <td>2021-05-03</td>\n",
       "      <td>1.000026</td>\n",
       "      <td>5.372178e+10</td>\n",
       "      <td>0.0</td>\n",
       "      <td>576798.0</td>\n",
       "      <td>0.0002</td>\n",
       "      <td>USDT</td>\n",
       "      <td>0.000035</td>\n",
       "    </tr>\n",
       "    <tr>\n",
       "      <th>3</th>\n",
       "      <td>2021-05-03</td>\n",
       "      <td>385.704466</td>\n",
       "      <td>2.608153e+10</td>\n",
       "      <td>882361.0</td>\n",
       "      <td>1438322.0</td>\n",
       "      <td>0.0002</td>\n",
       "      <td>LTC</td>\n",
       "      <td>0.433524</td>\n",
       "    </tr>\n",
       "    <tr>\n",
       "      <th>4</th>\n",
       "      <td>2021-05-03</td>\n",
       "      <td>52.096533</td>\n",
       "      <td>2.182895e+10</td>\n",
       "      <td>0.0</td>\n",
       "      <td>65705.0</td>\n",
       "      <td>0.0002</td>\n",
       "      <td>LINK</td>\n",
       "      <td>0.320233</td>\n",
       "    </tr>\n",
       "  </tbody>\n",
       "</table>\n",
       "</div>"
      ],
      "text/plain": [
       "        Date         Price     MarketCap  TransactionCount  ActiveAddress  \\\n",
       "0 2021-05-03  58218.566077  1.088991e+12         2038316.0      6622607.0   \n",
       "1 2021-05-03   3932.359246  4.554030e+11        10602184.0      3548128.0   \n",
       "2 2021-05-03      1.000026  5.372178e+10               0.0       576798.0   \n",
       "3 2021-05-03    385.704466  2.608153e+10          882361.0      1438322.0   \n",
       "4 2021-05-03     52.096533  2.182895e+10               0.0        65705.0   \n",
       "\n",
       "   RiskFree Asset    Return  \n",
       "0    0.0002   BTC  0.028357  \n",
       "1    0.0002   ETH  0.331870  \n",
       "2    0.0002  USDT  0.000035  \n",
       "3    0.0002   LTC  0.433524  \n",
       "4    0.0002  LINK  0.320233  "
      ]
     },
     "execution_count": 184,
     "metadata": {},
     "output_type": "execute_result"
    }
   ],
   "source": [
    "largeCap = fullSample.groupby(['Date']).apply(lambda \n",
    "                                                x: x.nlargest(round(0.2*len(symbolList)),\n",
    "                                                              ['MarketCap'])).reset_index(drop=True)\n",
    "\n",
    "smallCap = fullSample.groupby(['Date']).apply(lambda \n",
    "                                                x: x.nsmallest(round(0.2*len(symbolList)),\n",
    "                                                              ['MarketCap'])).reset_index(drop=True)\n",
    "largeCap.head()"
   ]
  },
  {
   "cell_type": "code",
   "execution_count": 186,
   "metadata": {},
   "outputs": [
    {
     "data": {
      "text/plain": [
       "122"
      ]
     },
     "execution_count": 186,
     "metadata": {},
     "output_type": "execute_result"
    }
   ],
   "source": [
    "len(largeCap.Asset.unique().sum())"
   ]
  },
  {
   "cell_type": "markdown",
   "metadata": {},
   "source": [
    "### <font color = 'green'> Method 1: using value weighted method"
   ]
  },
  {
   "cell_type": "code",
   "execution_count": 187,
   "metadata": {},
   "outputs": [],
   "source": [
    "largeInd = largeCap.copy()\n",
    "largeport = largeCap.groupby('Date')['MarketCap'].sum().reset_index(name='TotalMarketCap')\n",
    "\n",
    "largeInd['weights'] = largeInd['Return'] * largeInd['MarketCap']\n",
    "\n",
    "temp = largeInd.groupby('Date')['weights'].sum().reset_index(name='TotalMarketReturn')\n",
    "\n",
    "largeport['LargePortReturn'] = temp['TotalMarketReturn']/ largeport['TotalMarketCap']"
   ]
  },
  {
   "cell_type": "code",
   "execution_count": 188,
   "metadata": {},
   "outputs": [],
   "source": [
    "smallInd = smallCap.copy()\n",
    "smallport = smallCap.groupby('Date')['MarketCap'].sum().reset_index(name='TotalMarketCap')\n",
    "\n",
    "smallInd['weights'] = smallInd['Return'] * smallInd['MarketCap']\n",
    "\n",
    "temp = smallInd.groupby('Date')['weights'].sum().reset_index(name='TotalMarketReturn')\n",
    "\n",
    "smallport['SmallPortReturn'] = temp['TotalMarketReturn']/ smallport['TotalMarketCap']"
   ]
  },
  {
   "cell_type": "code",
   "execution_count": 189,
   "metadata": {},
   "outputs": [],
   "source": [
    "smallport['SMB'] = smallport['SmallPortReturn'] - largeport['LargePortReturn']\n",
    "smb_f = smallport[['Date','SMB']]"
   ]
  },
  {
   "cell_type": "code",
   "execution_count": 190,
   "metadata": {},
   "outputs": [
    {
     "data": {
      "text/html": [
       "<div>\n",
       "<style scoped>\n",
       "    .dataframe tbody tr th:only-of-type {\n",
       "        vertical-align: middle;\n",
       "    }\n",
       "\n",
       "    .dataframe tbody tr th {\n",
       "        vertical-align: top;\n",
       "    }\n",
       "\n",
       "    .dataframe thead th {\n",
       "        text-align: right;\n",
       "    }\n",
       "</style>\n",
       "<table border=\"1\" class=\"dataframe\">\n",
       "  <thead>\n",
       "    <tr style=\"text-align: right;\">\n",
       "      <th></th>\n",
       "      <th>Date</th>\n",
       "      <th>SMB</th>\n",
       "    </tr>\n",
       "  </thead>\n",
       "  <tbody>\n",
       "    <tr>\n",
       "      <th>0</th>\n",
       "      <td>2021-05-03</td>\n",
       "      <td>-0.106599</td>\n",
       "    </tr>\n",
       "    <tr>\n",
       "      <th>1</th>\n",
       "      <td>2021-05-10</td>\n",
       "      <td>0.022096</td>\n",
       "    </tr>\n",
       "    <tr>\n",
       "      <th>2</th>\n",
       "      <td>2021-05-17</td>\n",
       "      <td>-0.175977</td>\n",
       "    </tr>\n",
       "    <tr>\n",
       "      <th>3</th>\n",
       "      <td>2021-05-24</td>\n",
       "      <td>0.061044</td>\n",
       "    </tr>\n",
       "    <tr>\n",
       "      <th>4</th>\n",
       "      <td>2021-05-31</td>\n",
       "      <td>0.041924</td>\n",
       "    </tr>\n",
       "  </tbody>\n",
       "</table>\n",
       "</div>"
      ],
      "text/plain": [
       "        Date       SMB\n",
       "0 2021-05-03 -0.106599\n",
       "1 2021-05-10  0.022096\n",
       "2 2021-05-17 -0.175977\n",
       "3 2021-05-24  0.061044\n",
       "4 2021-05-31  0.041924"
      ]
     },
     "execution_count": 190,
     "metadata": {},
     "output_type": "execute_result"
    }
   ],
   "source": [
    "smb_f.head()"
   ]
  },
  {
   "cell_type": "code",
   "execution_count": 191,
   "metadata": {},
   "outputs": [
    {
     "data": {
      "text/html": [
       "<div>\n",
       "<style scoped>\n",
       "    .dataframe tbody tr th:only-of-type {\n",
       "        vertical-align: middle;\n",
       "    }\n",
       "\n",
       "    .dataframe tbody tr th {\n",
       "        vertical-align: top;\n",
       "    }\n",
       "\n",
       "    .dataframe thead th {\n",
       "        text-align: right;\n",
       "    }\n",
       "</style>\n",
       "<table border=\"1\" class=\"dataframe\">\n",
       "  <thead>\n",
       "    <tr style=\"text-align: right;\">\n",
       "      <th></th>\n",
       "      <th>Date</th>\n",
       "      <th>TotalMarketCap</th>\n",
       "      <th>SmallPortReturn</th>\n",
       "      <th>SMB</th>\n",
       "    </tr>\n",
       "  </thead>\n",
       "  <tbody>\n",
       "    <tr>\n",
       "      <th>0</th>\n",
       "      <td>2021-05-03</td>\n",
       "      <td>4.058719e+08</td>\n",
       "      <td>0.012682</td>\n",
       "      <td>-0.106599</td>\n",
       "    </tr>\n",
       "    <tr>\n",
       "      <th>1</th>\n",
       "      <td>2021-05-10</td>\n",
       "      <td>3.611829e+08</td>\n",
       "      <td>-0.123626</td>\n",
       "      <td>0.022096</td>\n",
       "    </tr>\n",
       "    <tr>\n",
       "      <th>2</th>\n",
       "      <td>2021-05-17</td>\n",
       "      <td>2.055850e+08</td>\n",
       "      <td>-0.453640</td>\n",
       "      <td>-0.175977</td>\n",
       "    </tr>\n",
       "    <tr>\n",
       "      <th>3</th>\n",
       "      <td>2021-05-24</td>\n",
       "      <td>2.321177e+08</td>\n",
       "      <td>0.127781</td>\n",
       "      <td>0.061044</td>\n",
       "    </tr>\n",
       "    <tr>\n",
       "      <th>4</th>\n",
       "      <td>2021-05-31</td>\n",
       "      <td>2.492947e+08</td>\n",
       "      <td>0.082656</td>\n",
       "      <td>0.041924</td>\n",
       "    </tr>\n",
       "  </tbody>\n",
       "</table>\n",
       "</div>"
      ],
      "text/plain": [
       "        Date  TotalMarketCap  SmallPortReturn       SMB\n",
       "0 2021-05-03    4.058719e+08         0.012682 -0.106599\n",
       "1 2021-05-10    3.611829e+08        -0.123626  0.022096\n",
       "2 2021-05-17    2.055850e+08        -0.453640 -0.175977\n",
       "3 2021-05-24    2.321177e+08         0.127781  0.061044\n",
       "4 2021-05-31    2.492947e+08         0.082656  0.041924"
      ]
     },
     "execution_count": 191,
     "metadata": {},
     "output_type": "execute_result"
    }
   ],
   "source": [
    "smallport.head()"
   ]
  },
  {
   "cell_type": "code",
   "execution_count": null,
   "metadata": {},
   "outputs": [],
   "source": []
  },
  {
   "cell_type": "markdown",
   "metadata": {},
   "source": [
    "### <font color = 'green'> Method 2: using equal weighted method"
   ]
  },
  {
   "cell_type": "code",
   "execution_count": 192,
   "metadata": {},
   "outputs": [],
   "source": [
    "largeport2 = largeCap.groupby('Date')['Return'].mean().reset_index(name='LargePortReturn')\n",
    "smallport2 = smallCap.groupby('Date')['Return'].mean().reset_index(name='SmallPortReturn')\n",
    "smallport2['SMB'] = smallport2['SmallPortReturn'] - largeport2['LargePortReturn']\n",
    "smb_f2 = smallport2[['Date','SMB']]"
   ]
  },
  {
   "cell_type": "code",
   "execution_count": 193,
   "metadata": {},
   "outputs": [
    {
     "data": {
      "text/html": [
       "<div>\n",
       "<style scoped>\n",
       "    .dataframe tbody tr th:only-of-type {\n",
       "        vertical-align: middle;\n",
       "    }\n",
       "\n",
       "    .dataframe tbody tr th {\n",
       "        vertical-align: top;\n",
       "    }\n",
       "\n",
       "    .dataframe thead th {\n",
       "        text-align: right;\n",
       "    }\n",
       "</style>\n",
       "<table border=\"1\" class=\"dataframe\">\n",
       "  <thead>\n",
       "    <tr style=\"text-align: right;\">\n",
       "      <th></th>\n",
       "      <th>Date</th>\n",
       "      <th>SMB</th>\n",
       "    </tr>\n",
       "  </thead>\n",
       "  <tbody>\n",
       "    <tr>\n",
       "      <th>0</th>\n",
       "      <td>2021-05-03</td>\n",
       "      <td>-0.182226</td>\n",
       "    </tr>\n",
       "    <tr>\n",
       "      <th>1</th>\n",
       "      <td>2021-05-10</td>\n",
       "      <td>-0.114913</td>\n",
       "    </tr>\n",
       "    <tr>\n",
       "      <th>2</th>\n",
       "      <td>2021-05-17</td>\n",
       "      <td>-0.095260</td>\n",
       "    </tr>\n",
       "    <tr>\n",
       "      <th>3</th>\n",
       "      <td>2021-05-24</td>\n",
       "      <td>-0.034057</td>\n",
       "    </tr>\n",
       "    <tr>\n",
       "      <th>4</th>\n",
       "      <td>2021-05-31</td>\n",
       "      <td>0.038340</td>\n",
       "    </tr>\n",
       "  </tbody>\n",
       "</table>\n",
       "</div>"
      ],
      "text/plain": [
       "        Date       SMB\n",
       "0 2021-05-03 -0.182226\n",
       "1 2021-05-10 -0.114913\n",
       "2 2021-05-17 -0.095260\n",
       "3 2021-05-24 -0.034057\n",
       "4 2021-05-31  0.038340"
      ]
     },
     "execution_count": 193,
     "metadata": {},
     "output_type": "execute_result"
    }
   ],
   "source": [
    "smb_f2.head()"
   ]
  },
  {
   "cell_type": "markdown",
   "metadata": {},
   "source": [
    "## Linear Regression Model"
   ]
  },
  {
   "cell_type": "code",
   "execution_count": 209,
   "metadata": {},
   "outputs": [],
   "source": [
    "ltc_reg = LTC_All[['Date','RiskFree','Return']]\n",
    "mkt_smb = MKT_f.merge(smb_f, on = 'Date', how = 'outer')\n",
    "ltc_reg = ltc_reg.merge(mkt_smb, on = 'Date', how = 'outer')"
   ]
  },
  {
   "cell_type": "code",
   "execution_count": 210,
   "metadata": {},
   "outputs": [
    {
     "data": {
      "text/html": [
       "<div>\n",
       "<style scoped>\n",
       "    .dataframe tbody tr th:only-of-type {\n",
       "        vertical-align: middle;\n",
       "    }\n",
       "\n",
       "    .dataframe tbody tr th {\n",
       "        vertical-align: top;\n",
       "    }\n",
       "\n",
       "    .dataframe thead th {\n",
       "        text-align: right;\n",
       "    }\n",
       "</style>\n",
       "<table border=\"1\" class=\"dataframe\">\n",
       "  <thead>\n",
       "    <tr style=\"text-align: right;\">\n",
       "      <th></th>\n",
       "      <th>Date</th>\n",
       "      <th>RiskFree</th>\n",
       "      <th>Return</th>\n",
       "      <th>MKT</th>\n",
       "      <th>SMB</th>\n",
       "      <th>ExcessReturn</th>\n",
       "    </tr>\n",
       "  </thead>\n",
       "  <tbody>\n",
       "    <tr>\n",
       "      <th>0</th>\n",
       "      <td>2021-05-03</td>\n",
       "      <td>0.0002</td>\n",
       "      <td>0.433524</td>\n",
       "      <td>0.107046</td>\n",
       "      <td>-0.106599</td>\n",
       "      <td>0.433324</td>\n",
       "    </tr>\n",
       "    <tr>\n",
       "      <th>1</th>\n",
       "      <td>2021-05-10</td>\n",
       "      <td>0.0002</td>\n",
       "      <td>-0.231293</td>\n",
       "      <td>-0.142201</td>\n",
       "      <td>0.022096</td>\n",
       "      <td>-0.231493</td>\n",
       "    </tr>\n",
       "    <tr>\n",
       "      <th>2</th>\n",
       "      <td>2021-05-17</td>\n",
       "      <td>0.0000</td>\n",
       "      <td>-0.513065</td>\n",
       "      <td>-0.250966</td>\n",
       "      <td>-0.175977</td>\n",
       "      <td>-0.513065</td>\n",
       "    </tr>\n",
       "    <tr>\n",
       "      <th>3</th>\n",
       "      <td>2021-05-24</td>\n",
       "      <td>0.0001</td>\n",
       "      <td>0.183915</td>\n",
       "      <td>0.045617</td>\n",
       "      <td>0.061044</td>\n",
       "      <td>0.183815</td>\n",
       "    </tr>\n",
       "    <tr>\n",
       "      <th>4</th>\n",
       "      <td>2021-05-31</td>\n",
       "      <td>0.0042</td>\n",
       "      <td>0.032219</td>\n",
       "      <td>0.037638</td>\n",
       "      <td>0.041924</td>\n",
       "      <td>0.028019</td>\n",
       "    </tr>\n",
       "  </tbody>\n",
       "</table>\n",
       "</div>"
      ],
      "text/plain": [
       "        Date  RiskFree    Return       MKT       SMB  ExcessReturn\n",
       "0 2021-05-03    0.0002  0.433524  0.107046 -0.106599      0.433324\n",
       "1 2021-05-10    0.0002 -0.231293 -0.142201  0.022096     -0.231493\n",
       "2 2021-05-17    0.0000 -0.513065 -0.250966 -0.175977     -0.513065\n",
       "3 2021-05-24    0.0001  0.183915  0.045617  0.061044      0.183815\n",
       "4 2021-05-31    0.0042  0.032219  0.037638  0.041924      0.028019"
      ]
     },
     "execution_count": 210,
     "metadata": {},
     "output_type": "execute_result"
    }
   ],
   "source": [
    "ltc_reg['ExcessReturn']=ltc_reg['Return'] - ltc_reg['RiskFree']\n",
    "ltc_reg.head(5)"
   ]
  },
  {
   "cell_type": "code",
   "execution_count": 211,
   "metadata": {},
   "outputs": [],
   "source": [
    "target = \"ExcessReturn\"\n",
    "feature1 = ['MKT']\n",
    "feature2 = ['SMB']\n",
    "features =['MKT', 'SMB']\n",
    "\n",
    "# features.remove(target)\n",
    "# features.remove(\"Date\")\n",
    "y = ltc_reg[target].copy()\n",
    "x1 = ltc_reg [feature1].copy()\n",
    "x2 = ltc_reg [feature2].copy()\n",
    "x3 = ltc_reg [features].copy()\n"
   ]
  },
  {
   "cell_type": "code",
   "execution_count": 212,
   "metadata": {},
   "outputs": [],
   "source": [
    "from sklearn.linear_model import LinearRegression\n",
    "from sklearn.metrics import mean_absolute_error, mean_squared_error, r2_score\n",
    "\n",
    "model1 = LinearRegression()\n",
    "model2 = LinearRegression()\n",
    "model3 = LinearRegression()"
   ]
  },
  {
   "cell_type": "code",
   "execution_count": 213,
   "metadata": {},
   "outputs": [
    {
     "data": {
      "text/plain": [
       "LinearRegression()"
      ]
     },
     "execution_count": 213,
     "metadata": {},
     "output_type": "execute_result"
    }
   ],
   "source": [
    "model1.fit(x1, y)\n",
    "model2.fit(x2, y)\n",
    "model3.fit(x3, y)"
   ]
  },
  {
   "cell_type": "code",
   "execution_count": 214,
   "metadata": {},
   "outputs": [],
   "source": [
    "y1 = model1.predict(x1)\n",
    "y2 = model2.predict(x2)\n",
    "y3 = model3.predict(x3)"
   ]
  },
  {
   "cell_type": "code",
   "execution_count": 215,
   "metadata": {},
   "outputs": [],
   "source": [
    "import numpy as np\n",
    "import matplotlib.pyplot as plt\n",
    "%matplotlib inline\n",
    "\n",
    "def myPlot(factor, excessreturn, model):\n",
    "    plt.scatter(factor, excessreturn, alpha=0.3)\n",
    "    x = np.linspace(factor.min(), factor.max())\n",
    "    y = model.predict(x.reshape(-1,1))\n",
    "    plt.plot(x, y, color='r')\n",
    "    plt.xlabel('factor')\n",
    "    plt.ylabel('Excess Return')\n",
    "    plt.title('Linear regression result for excess return and ONE factor')\n",
    "    plt.show()"
   ]
  },
  {
   "cell_type": "markdown",
   "metadata": {},
   "source": [
    "## Fator MKT vs Excess return"
   ]
  },
  {
   "cell_type": "code",
   "execution_count": 216,
   "metadata": {},
   "outputs": [
    {
     "data": {
      "image/png": "[encoded data removed]",
      "text/plain": [
       "<Figure size 432x288 with 1 Axes>"
      ]
     },
     "metadata": {
      "needs_background": "light"
     },
     "output_type": "display_data"
    }
   ],
   "source": [
    "myPlot(ltc_reg.MKT, ltc_reg.ExcessReturn, model1)"
   ]
  },
  {
   "cell_type": "code",
   "execution_count": 217,
   "metadata": {},
   "outputs": [
    {
     "name": "stdout",
     "output_type": "stream",
     "text": [
      "alpha for LTC with MKT is: -0.006703038462547492\n"
     ]
    }
   ],
   "source": [
    "### get the alpha with MKT factor only\n",
    "print('alpha for LTC with MKT is:', model1.intercept_)"
   ]
  },
  {
   "cell_type": "code",
   "execution_count": 218,
   "metadata": {},
   "outputs": [
    {
     "name": "stdout",
     "output_type": "stream",
     "text": [
      "MAS for MKT is  5.91e-02\n",
      "MSE for MKT is  7.29e-03\n",
      "R2_score for MKT is  0.71\n"
     ]
    }
   ],
   "source": [
    "### measure the performance of MKT Factor\n",
    "print('MAS for MKT is {: .2e}'.format(mean_absolute_error(y, y1)))\n",
    "print('MSE for MKT is {: .2e}'.format(mean_squared_error(y, y1)))\n",
    "print('R2_score for MKT is {: .2f}'.format(r2_score(y, y1)))\n"
   ]
  },
  {
   "cell_type": "code",
   "execution_count": 219,
   "metadata": {},
   "outputs": [
    {
     "data": {
      "image/png": "[encoded data removed]",
      "text/plain": [
       "<Figure size 432x288 with 1 Axes>"
      ]
     },
     "metadata": {
      "needs_background": "light"
     },
     "output_type": "display_data"
    }
   ],
   "source": [
    "myPlot(ltc_reg.SMB, ltc_reg.ExcessReturn, model2)"
   ]
  },
  {
   "cell_type": "code",
   "execution_count": 220,
   "metadata": {},
   "outputs": [
    {
     "name": "stdout",
     "output_type": "stream",
     "text": [
      "MAS for SMB is  1.07e-01\n",
      "MSE for SMB is  2.38e-02\n",
      "R2_score for SMB is  0.05\n"
     ]
    }
   ],
   "source": [
    "print('MAS for SMB is {: .2e}'.format(mean_absolute_error(y, y2)))\n",
    "print('MSE for SMB is {: .2e}'.format(mean_squared_error(y, y2)))\n",
    "print('R2_score for SMB is {: .2f}'.format(r2_score(y, y2)))"
   ]
  },
  {
   "cell_type": "code",
   "execution_count": 221,
   "metadata": {},
   "outputs": [
    {
     "name": "stdout",
     "output_type": "stream",
     "text": [
      "alpha for LTC with SMB is: 0.0034438327933844597\n"
     ]
    }
   ],
   "source": [
    "### get the alpha with Size factor only\n",
    "print('alpha for LTC with SMB is:', model2.intercept_)"
   ]
  },
  {
   "cell_type": "code",
   "execution_count": null,
   "metadata": {},
   "outputs": [],
   "source": []
  },
  {
   "cell_type": "code",
   "execution_count": 222,
   "metadata": {},
   "outputs": [
    {
     "name": "stdout",
     "output_type": "stream",
     "text": [
      "MAS for MKT combined with SMB is  5.91e-02\n",
      "MSE for MKT combined with SMB is  7.29e-03\n",
      "R2_score for MKT combined with SMB is  0.71\n"
     ]
    }
   ],
   "source": [
    "print('MAS for MKT combined with SMB is {: .2e}'.format(mean_absolute_error(y, y3)))\n",
    "print('MSE for MKT combined with SMB is {: .2e}'.format(mean_squared_error(y, y3)))\n",
    "print('R2_score for MKT combined with SMB is {: .2f}'.format(r2_score(y, y3)))"
   ]
  },
  {
   "cell_type": "code",
   "execution_count": 223,
   "metadata": {},
   "outputs": [
    {
     "name": "stdout",
     "output_type": "stream",
     "text": [
      "alpha for LTC with combination for MKT and SMB is: -0.006657691691503771\n"
     ]
    }
   ],
   "source": [
    "print('alpha for LTC with combination for MKT and SMB is:', model3.intercept_)"
   ]
  },
  {
   "cell_type": "code",
   "execution_count": null,
   "metadata": {},
   "outputs": [],
   "source": []
  },
  {
   "cell_type": "markdown",
   "metadata": {},
   "source": [
    "## <font color='green'>Testing purpose : try to find the first date with available price"
   ]
  },
  {
   "cell_type": "code",
   "execution_count": 89,
   "metadata": {},
   "outputs": [],
   "source": [
    "df = pd.DataFrame(columns = LTC_All.columns.values)\n",
    "df['Asset'] = ''\n",
    "\n",
    "for i in symbolList:\n",
    "    \n",
    "    dfName = f\"{i}_All\" \n",
    "    test=pd.DataFrame\n",
    "    df1 = locals()[dfName][locals()[dfName].Price.notnull()].iloc[0]\n",
    "    \n",
    "    df1['Asset'] = i\n",
    "    df=df.append(df1, ignore_index=True)"
   ]
  },
  {
   "cell_type": "code",
   "execution_count": 90,
   "metadata": {},
   "outputs": [],
   "source": [
    "df.to_csv(\"firstavailable_price.csv\")"
   ]
  },
  {
   "cell_type": "code",
   "execution_count": 108,
   "metadata": {},
   "outputs": [],
   "source": [
    "new = df.sort_values(by=['Date'])"
   ]
  },
  {
   "cell_type": "code",
   "execution_count": 78,
   "metadata": {},
   "outputs": [
    {
     "data": {
      "text/plain": [
       "0        3.149100\n",
       "1        3.150000\n",
       "2        2.830000\n",
       "3        2.348333\n",
       "4        2.150000\n",
       "          ...    \n",
       "462    129.241438\n",
       "463    128.926292\n",
       "464    111.343007\n",
       "465    109.018201\n",
       "466    104.648982\n",
       "Name: Price, Length: 467, dtype: float64"
      ]
     },
     "execution_count": 78,
     "metadata": {},
     "output_type": "execute_result"
    }
   ],
   "source": [
    "LTC_All.Price.loc[~LTC_All.Price.isnull()]"
   ]
  },
  {
   "cell_type": "code",
   "execution_count": 49,
   "metadata": {},
   "outputs": [
    {
     "data": {
      "text/html": [
       "<div>\n",
       "<style scoped>\n",
       "    .dataframe tbody tr th:only-of-type {\n",
       "        vertical-align: middle;\n",
       "    }\n",
       "\n",
       "    .dataframe tbody tr th {\n",
       "        vertical-align: top;\n",
       "    }\n",
       "\n",
       "    .dataframe thead th {\n",
       "        text-align: right;\n",
       "    }\n",
       "</style>\n",
       "<table border=\"1\" class=\"dataframe\">\n",
       "  <thead>\n",
       "    <tr style=\"text-align: right;\">\n",
       "      <th></th>\n",
       "      <th>Date</th>\n",
       "      <th>AAVE</th>\n",
       "      <th>ABT</th>\n",
       "      <th>AMPL</th>\n",
       "      <th>ANT</th>\n",
       "      <th>ARMOR</th>\n",
       "      <th>BADGER</th>\n",
       "      <th>BAL</th>\n",
       "      <th>BTC</th>\n",
       "      <th>ETH</th>\n",
       "      <th>LTC</th>\n",
       "      <th>percentil_80</th>\n",
       "      <th>percentil_20</th>\n",
       "    </tr>\n",
       "  </thead>\n",
       "  <tbody>\n",
       "    <tr>\n",
       "      <th>0</th>\n",
       "      <td>2021-05-03</td>\n",
       "      <td>5.735887e+09</td>\n",
       "      <td>2.256086e+07</td>\n",
       "      <td>2.526164e+08</td>\n",
       "      <td>2.017177e+08</td>\n",
       "      <td>5.443477e+07</td>\n",
       "      <td>3.027644e+08</td>\n",
       "      <td>4.597610e+08</td>\n",
       "      <td>1.088991e+12</td>\n",
       "      <td>4.554030e+11</td>\n",
       "      <td>2.608153e+10</td>\n",
       "      <td>1.119458e+11</td>\n",
       "      <td>2.017177e+08</td>\n",
       "    </tr>\n",
       "    <tr>\n",
       "      <th>1</th>\n",
       "      <td>2021-05-10</td>\n",
       "      <td>6.648981e+09</td>\n",
       "      <td>1.869232e+07</td>\n",
       "      <td>1.814148e+08</td>\n",
       "      <td>1.524085e+08</td>\n",
       "      <td>4.557013e+07</td>\n",
       "      <td>2.295646e+08</td>\n",
       "      <td>3.758166e+08</td>\n",
       "      <td>8.683518e+11</td>\n",
       "      <td>4.152052e+11</td>\n",
       "      <td>2.006374e+10</td>\n",
       "      <td>9.909203e+10</td>\n",
       "      <td>1.524085e+08</td>\n",
       "    </tr>\n",
       "    <tr>\n",
       "      <th>2</th>\n",
       "      <td>2021-05-17</td>\n",
       "      <td>3.779533e+09</td>\n",
       "      <td>9.674406e+06</td>\n",
       "      <td>1.599928e+08</td>\n",
       "      <td>6.694150e+07</td>\n",
       "      <td>3.158087e+07</td>\n",
       "      <td>9.413106e+07</td>\n",
       "      <td>1.792233e+08</td>\n",
       "      <td>6.530094e+11</td>\n",
       "      <td>2.455595e+11</td>\n",
       "      <td>9.776754e+09</td>\n",
       "      <td>5.693331e+10</td>\n",
       "      <td>6.694150e+07</td>\n",
       "    </tr>\n",
       "    <tr>\n",
       "      <th>3</th>\n",
       "      <td>2021-05-24</td>\n",
       "      <td>4.141262e+09</td>\n",
       "      <td>1.334450e+07</td>\n",
       "      <td>1.904880e+08</td>\n",
       "      <td>8.221074e+07</td>\n",
       "      <td>3.862744e+07</td>\n",
       "      <td>1.081680e+08</td>\n",
       "      <td>1.917345e+08</td>\n",
       "      <td>6.672647e+11</td>\n",
       "      <td>2.772904e+11</td>\n",
       "      <td>1.158400e+10</td>\n",
       "      <td>6.472528e+10</td>\n",
       "      <td>8.221074e+07</td>\n",
       "    </tr>\n",
       "    <tr>\n",
       "      <th>4</th>\n",
       "      <td>2021-05-31</td>\n",
       "      <td>4.669538e+09</td>\n",
       "      <td>1.281857e+07</td>\n",
       "      <td>1.763299e+08</td>\n",
       "      <td>1.133197e+08</td>\n",
       "      <td>3.765641e+07</td>\n",
       "      <td>1.452830e+08</td>\n",
       "      <td>2.022194e+08</td>\n",
       "      <td>6.704378e+11</td>\n",
       "      <td>3.148817e+11</td>\n",
       "      <td>1.196580e+10</td>\n",
       "      <td>7.254899e+10</td>\n",
       "      <td>1.133197e+08</td>\n",
       "    </tr>\n",
       "    <tr>\n",
       "      <th>5</th>\n",
       "      <td>2021-06-07</td>\n",
       "      <td>4.048896e+09</td>\n",
       "      <td>1.228822e+07</td>\n",
       "      <td>1.617541e+08</td>\n",
       "      <td>1.537709e+08</td>\n",
       "      <td>3.021902e+07</td>\n",
       "      <td>1.250255e+08</td>\n",
       "      <td>1.657510e+08</td>\n",
       "      <td>7.310086e+11</td>\n",
       "      <td>2.915623e+11</td>\n",
       "      <td>1.159329e+10</td>\n",
       "      <td>6.758709e+10</td>\n",
       "      <td>1.250255e+08</td>\n",
       "    </tr>\n",
       "    <tr>\n",
       "      <th>6</th>\n",
       "      <td>2021-06-14</td>\n",
       "      <td>3.502813e+09</td>\n",
       "      <td>1.162006e+07</td>\n",
       "      <td>1.463064e+08</td>\n",
       "      <td>8.574663e+07</td>\n",
       "      <td>2.629560e+07</td>\n",
       "      <td>1.160773e+08</td>\n",
       "      <td>1.351632e+08</td>\n",
       "      <td>6.690894e+11</td>\n",
       "      <td>2.612966e+11</td>\n",
       "      <td>1.053850e+10</td>\n",
       "      <td>6.069013e+10</td>\n",
       "      <td>8.574663e+07</td>\n",
       "    </tr>\n",
       "    <tr>\n",
       "      <th>7</th>\n",
       "      <td>2021-06-21</td>\n",
       "      <td>2.592849e+09</td>\n",
       "      <td>9.001236e+06</td>\n",
       "      <td>1.336328e+08</td>\n",
       "      <td>7.603815e+07</td>\n",
       "      <td>2.175547e+07</td>\n",
       "      <td>7.728276e+07</td>\n",
       "      <td>1.139720e+08</td>\n",
       "      <td>6.486684e+11</td>\n",
       "      <td>2.301775e+11</td>\n",
       "      <td>8.987872e+09</td>\n",
       "      <td>5.322579e+10</td>\n",
       "      <td>7.603815e+07</td>\n",
       "    </tr>\n",
       "    <tr>\n",
       "      <th>8</th>\n",
       "      <td>2021-06-28</td>\n",
       "      <td>3.554832e+09</td>\n",
       "      <td>1.209484e+07</td>\n",
       "      <td>1.433075e+08</td>\n",
       "      <td>9.936997e+07</td>\n",
       "      <td>2.277966e+07</td>\n",
       "      <td>9.297402e+07</td>\n",
       "      <td>1.752774e+08</td>\n",
       "      <td>6.615261e+11</td>\n",
       "      <td>2.706572e+11</td>\n",
       "      <td>9.866695e+09</td>\n",
       "      <td>6.202479e+10</td>\n",
       "      <td>9.297402e+07</td>\n",
       "    </tr>\n",
       "    <tr>\n",
       "      <th>9</th>\n",
       "      <td>2021-07-05</td>\n",
       "      <td>3.906758e+09</td>\n",
       "      <td>1.075528e+07</td>\n",
       "      <td>1.283528e+08</td>\n",
       "      <td>9.201309e+07</td>\n",
       "      <td>2.140240e+07</td>\n",
       "      <td>8.839890e+07</td>\n",
       "      <td>1.531016e+08</td>\n",
       "      <td>6.421867e+11</td>\n",
       "      <td>2.496326e+11</td>\n",
       "      <td>9.133662e+09</td>\n",
       "      <td>5.723344e+10</td>\n",
       "      <td>8.839890e+07</td>\n",
       "    </tr>\n",
       "    <tr>\n",
       "      <th>10</th>\n",
       "      <td>2021-07-12</td>\n",
       "      <td>3.281887e+09</td>\n",
       "      <td>8.593366e+06</td>\n",
       "      <td>1.158799e+08</td>\n",
       "      <td>8.190729e+07</td>\n",
       "      <td>1.820724e+07</td>\n",
       "      <td>7.703804e+07</td>\n",
       "      <td>1.270959e+08</td>\n",
       "      <td>5.968441e+11</td>\n",
       "      <td>2.216367e+11</td>\n",
       "      <td>8.155425e+09</td>\n",
       "      <td>5.085167e+10</td>\n",
       "      <td>7.703804e+07</td>\n",
       "    </tr>\n",
       "    <tr>\n",
       "      <th>11</th>\n",
       "      <td>2021-07-19</td>\n",
       "      <td>3.701218e+09</td>\n",
       "      <td>8.762146e+06</td>\n",
       "      <td>2.406988e+08</td>\n",
       "      <td>9.892505e+07</td>\n",
       "      <td>2.067288e+07</td>\n",
       "      <td>9.117925e+07</td>\n",
       "      <td>1.326412e+08</td>\n",
       "      <td>6.613870e+11</td>\n",
       "      <td>2.563331e+11</td>\n",
       "      <td>8.692973e+09</td>\n",
       "      <td>5.822099e+10</td>\n",
       "      <td>9.117925e+07</td>\n",
       "    </tr>\n",
       "    <tr>\n",
       "      <th>12</th>\n",
       "      <td>2021-07-26</td>\n",
       "      <td>4.116788e+09</td>\n",
       "      <td>9.875987e+06</td>\n",
       "      <td>1.455809e+08</td>\n",
       "      <td>1.305789e+08</td>\n",
       "      <td>2.324411e+07</td>\n",
       "      <td>1.082130e+08</td>\n",
       "      <td>1.501863e+08</td>\n",
       "      <td>7.534862e+11</td>\n",
       "      <td>3.007091e+11</td>\n",
       "      <td>9.647266e+09</td>\n",
       "      <td>6.785963e+10</td>\n",
       "      <td>1.082130e+08</td>\n",
       "    </tr>\n",
       "    <tr>\n",
       "      <th>13</th>\n",
       "      <td>2021-08-02</td>\n",
       "      <td>4.671780e+09</td>\n",
       "      <td>1.124131e+07</td>\n",
       "      <td>1.410147e+08</td>\n",
       "      <td>1.364860e+08</td>\n",
       "      <td>2.731367e+07</td>\n",
       "      <td>2.306689e+08</td>\n",
       "      <td>1.674139e+08</td>\n",
       "      <td>8.223116e+11</td>\n",
       "      <td>3.524885e+11</td>\n",
       "      <td>1.023616e+10</td>\n",
       "      <td>7.868662e+10</td>\n",
       "      <td>1.364860e+08</td>\n",
       "    </tr>\n",
       "    <tr>\n",
       "      <th>14</th>\n",
       "      <td>2021-08-09</td>\n",
       "      <td>5.313603e+09</td>\n",
       "      <td>2.135144e+07</td>\n",
       "      <td>1.409801e+08</td>\n",
       "      <td>2.001891e+08</td>\n",
       "      <td>2.691169e+07</td>\n",
       "      <td>2.665626e+08</td>\n",
       "      <td>1.962973e+08</td>\n",
       "      <td>8.842200e+11</td>\n",
       "      <td>3.874095e+11</td>\n",
       "      <td>1.262187e+10</td>\n",
       "      <td>8.757939e+10</td>\n",
       "      <td>1.409801e+08</td>\n",
       "    </tr>\n",
       "    <tr>\n",
       "      <th>15</th>\n",
       "      <td>2021-08-16</td>\n",
       "      <td>5.203482e+09</td>\n",
       "      <td>2.076224e+07</td>\n",
       "      <td>1.207345e+08</td>\n",
       "      <td>1.914241e+08</td>\n",
       "      <td>3.344231e+07</td>\n",
       "      <td>2.460344e+08</td>\n",
       "      <td>2.090932e+08</td>\n",
       "      <td>9.269675e+11</td>\n",
       "      <td>3.797833e+11</td>\n",
       "      <td>1.273818e+10</td>\n",
       "      <td>8.614720e+10</td>\n",
       "      <td>1.207345e+08</td>\n",
       "    </tr>\n",
       "    <tr>\n",
       "      <th>16</th>\n",
       "      <td>2021-08-23</td>\n",
       "      <td>4.798074e+09</td>\n",
       "      <td>1.947143e+07</td>\n",
       "      <td>1.177904e+08</td>\n",
       "      <td>1.962571e+08</td>\n",
       "      <td>2.717078e+07</td>\n",
       "      <td>2.355526e+08</td>\n",
       "      <td>1.871917e+08</td>\n",
       "      <td>9.202675e+11</td>\n",
       "      <td>3.788011e+11</td>\n",
       "      <td>1.198414e+10</td>\n",
       "      <td>8.534752e+10</td>\n",
       "      <td>1.177904e+08</td>\n",
       "    </tr>\n",
       "    <tr>\n",
       "      <th>17</th>\n",
       "      <td>2021-08-30</td>\n",
       "      <td>5.487150e+09</td>\n",
       "      <td>2.162260e+07</td>\n",
       "      <td>1.112777e+08</td>\n",
       "      <td>2.722707e+08</td>\n",
       "      <td>2.502089e+07</td>\n",
       "      <td>2.522597e+08</td>\n",
       "      <td>2.331410e+08</td>\n",
       "      <td>9.731373e+11</td>\n",
       "      <td>4.633900e+11</td>\n",
       "      <td>1.577939e+10</td>\n",
       "      <td>1.053015e+11</td>\n",
       "      <td>1.112777e+08</td>\n",
       "    </tr>\n",
       "    <tr>\n",
       "      <th>18</th>\n",
       "      <td>2021-09-06</td>\n",
       "      <td>4.388329e+09</td>\n",
       "      <td>1.742988e+07</td>\n",
       "      <td>1.088921e+08</td>\n",
       "      <td>2.376107e+08</td>\n",
       "      <td>1.991681e+07</td>\n",
       "      <td>1.919515e+08</td>\n",
       "      <td>1.860161e+08</td>\n",
       "      <td>8.669969e+11</td>\n",
       "      <td>3.997631e+11</td>\n",
       "      <td>1.255652e+10</td>\n",
       "      <td>8.999784e+10</td>\n",
       "      <td>1.088921e+08</td>\n",
       "    </tr>\n",
       "    <tr>\n",
       "      <th>19</th>\n",
       "      <td>2021-09-13</td>\n",
       "      <td>4.480264e+09</td>\n",
       "      <td>1.748039e+07</td>\n",
       "      <td>1.046788e+08</td>\n",
       "      <td>2.364023e+08</td>\n",
       "      <td>1.627685e+07</td>\n",
       "      <td>2.088630e+08</td>\n",
       "      <td>1.719812e+08</td>\n",
       "      <td>8.894197e+11</td>\n",
       "      <td>3.903186e+11</td>\n",
       "      <td>1.204151e+10</td>\n",
       "      <td>8.769694e+10</td>\n",
       "      <td>1.046788e+08</td>\n",
       "    </tr>\n",
       "    <tr>\n",
       "      <th>20</th>\n",
       "      <td>2021-09-20</td>\n",
       "      <td>3.866728e+09</td>\n",
       "      <td>1.390651e+07</td>\n",
       "      <td>1.050716e+08</td>\n",
       "      <td>1.797614e+08</td>\n",
       "      <td>1.780806e+07</td>\n",
       "      <td>1.663187e+08</td>\n",
       "      <td>1.440396e+08</td>\n",
       "      <td>8.142264e+11</td>\n",
       "      <td>3.593634e+11</td>\n",
       "      <td>1.034424e+10</td>\n",
       "      <td>8.014808e+10</td>\n",
       "      <td>1.050716e+08</td>\n",
       "    </tr>\n",
       "    <tr>\n",
       "      <th>21</th>\n",
       "      <td>2021-09-27</td>\n",
       "      <td>4.101827e+09</td>\n",
       "      <td>1.443993e+07</td>\n",
       "      <td>1.165818e+08</td>\n",
       "      <td>1.961384e+08</td>\n",
       "      <td>1.621192e+07</td>\n",
       "      <td>1.944562e+08</td>\n",
       "      <td>1.579724e+08</td>\n",
       "      <td>9.081848e+11</td>\n",
       "      <td>4.015320e+11</td>\n",
       "      <td>1.172739e+10</td>\n",
       "      <td>8.968831e+10</td>\n",
       "      <td>1.165818e+08</td>\n",
       "    </tr>\n",
       "    <tr>\n",
       "      <th>22</th>\n",
       "      <td>2021-10-04</td>\n",
       "      <td>3.805932e+09</td>\n",
       "      <td>1.539389e+07</td>\n",
       "      <td>1.020908e+08</td>\n",
       "      <td>1.831445e+08</td>\n",
       "      <td>1.502778e+07</td>\n",
       "      <td>2.792221e+08</td>\n",
       "      <td>1.439369e+08</td>\n",
       "      <td>1.030096e+12</td>\n",
       "      <td>4.015544e+11</td>\n",
       "      <td>1.204738e+10</td>\n",
       "      <td>8.994879e+10</td>\n",
       "      <td>1.020908e+08</td>\n",
       "    </tr>\n",
       "    <tr>\n",
       "      <th>23</th>\n",
       "      <td>2021-10-11</td>\n",
       "      <td>4.034897e+09</td>\n",
       "      <td>1.524101e+07</td>\n",
       "      <td>9.897662e+07</td>\n",
       "      <td>1.918853e+08</td>\n",
       "      <td>1.425155e+07</td>\n",
       "      <td>2.807944e+08</td>\n",
       "      <td>1.568085e+08</td>\n",
       "      <td>1.161717e+12</td>\n",
       "      <td>4.527541e+11</td>\n",
       "      <td>1.264741e+10</td>\n",
       "      <td>1.006687e+11</td>\n",
       "      <td>9.897662e+07</td>\n",
       "    </tr>\n",
       "    <tr>\n",
       "      <th>24</th>\n",
       "      <td>2021-10-18</td>\n",
       "      <td>4.065398e+09</td>\n",
       "      <td>1.743255e+07</td>\n",
       "      <td>1.823367e+08</td>\n",
       "      <td>1.798293e+08</td>\n",
       "      <td>1.863778e+07</td>\n",
       "      <td>2.771085e+08</td>\n",
       "      <td>1.492512e+08</td>\n",
       "      <td>1.147825e+12</td>\n",
       "      <td>4.793877e+11</td>\n",
       "      <td>1.310471e+10</td>\n",
       "      <td>1.063613e+11</td>\n",
       "      <td>1.492512e+08</td>\n",
       "    </tr>\n",
       "    <tr>\n",
       "      <th>25</th>\n",
       "      <td>2021-10-25</td>\n",
       "      <td>4.159989e+09</td>\n",
       "      <td>1.841927e+07</td>\n",
       "      <td>2.263916e+08</td>\n",
       "      <td>1.860229e+08</td>\n",
       "      <td>2.042637e+07</td>\n",
       "      <td>2.630344e+08</td>\n",
       "      <td>1.713898e+08</td>\n",
       "      <td>1.157395e+12</td>\n",
       "      <td>5.039842e+11</td>\n",
       "      <td>1.322171e+10</td>\n",
       "      <td>1.113742e+11</td>\n",
       "      <td>1.713898e+08</td>\n",
       "    </tr>\n",
       "    <tr>\n",
       "      <th>26</th>\n",
       "      <td>2021-11-01</td>\n",
       "      <td>4.239095e+09</td>\n",
       "      <td>2.053772e+07</td>\n",
       "      <td>3.212305e+08</td>\n",
       "      <td>1.964626e+08</td>\n",
       "      <td>2.120564e+07</td>\n",
       "      <td>3.338067e+08</td>\n",
       "      <td>1.816660e+08</td>\n",
       "      <td>1.193378e+12</td>\n",
       "      <td>5.423645e+11</td>\n",
       "      <td>1.391404e+10</td>\n",
       "      <td>1.196041e+11</td>\n",
       "      <td>1.816660e+08</td>\n",
       "    </tr>\n",
       "    <tr>\n",
       "      <th>27</th>\n",
       "      <td>2021-11-08</td>\n",
       "      <td>4.182353e+09</td>\n",
       "      <td>1.856525e+07</td>\n",
       "      <td>2.338969e+08</td>\n",
       "      <td>2.157325e+08</td>\n",
       "      <td>2.065230e+07</td>\n",
       "      <td>3.414121e+08</td>\n",
       "      <td>1.689150e+08</td>\n",
       "      <td>1.233237e+12</td>\n",
       "      <td>5.435669e+11</td>\n",
       "      <td>1.918007e+10</td>\n",
       "      <td>1.240574e+11</td>\n",
       "      <td>1.689150e+08</td>\n",
       "    </tr>\n",
       "    <tr>\n",
       "      <th>28</th>\n",
       "      <td>2021-11-15</td>\n",
       "      <td>3.527546e+09</td>\n",
       "      <td>1.943095e+07</td>\n",
       "      <td>2.116973e+08</td>\n",
       "      <td>2.039939e+08</td>\n",
       "      <td>1.810880e+07</td>\n",
       "      <td>2.805710e+08</td>\n",
       "      <td>1.464992e+08</td>\n",
       "      <td>1.107372e+12</td>\n",
       "      <td>5.002696e+11</td>\n",
       "      <td>1.526987e+10</td>\n",
       "      <td>1.122698e+11</td>\n",
       "      <td>1.464992e+08</td>\n",
       "    </tr>\n",
       "    <tr>\n",
       "      <th>29</th>\n",
       "      <td>2021-11-22</td>\n",
       "      <td>3.191655e+09</td>\n",
       "      <td>1.892979e+07</td>\n",
       "      <td>2.643513e+08</td>\n",
       "      <td>2.327120e+08</td>\n",
       "      <td>2.246857e+07</td>\n",
       "      <td>2.883748e+08</td>\n",
       "      <td>1.433318e+08</td>\n",
       "      <td>1.080302e+12</td>\n",
       "      <td>5.048078e+11</td>\n",
       "      <td>1.374198e+10</td>\n",
       "      <td>1.119551e+11</td>\n",
       "      <td>1.433318e+08</td>\n",
       "    </tr>\n",
       "    <tr>\n",
       "      <th>30</th>\n",
       "      <td>2021-11-29</td>\n",
       "      <td>2.560896e+09</td>\n",
       "      <td>1.600969e+07</td>\n",
       "      <td>2.231844e+08</td>\n",
       "      <td>1.545904e+08</td>\n",
       "      <td>1.346271e+07</td>\n",
       "      <td>1.705574e+08</td>\n",
       "      <td>1.091631e+08</td>\n",
       "      <td>9.290344e+11</td>\n",
       "      <td>4.914545e+11</td>\n",
       "      <td>1.078289e+10</td>\n",
       "      <td>1.069172e+11</td>\n",
       "      <td>1.091631e+08</td>\n",
       "    </tr>\n",
       "    <tr>\n",
       "      <th>31</th>\n",
       "      <td>2021-12-06</td>\n",
       "      <td>2.419755e+09</td>\n",
       "      <td>1.574565e+07</td>\n",
       "      <td>2.298613e+08</td>\n",
       "      <td>1.777168e+08</td>\n",
       "      <td>1.347826e+07</td>\n",
       "      <td>1.728599e+08</td>\n",
       "      <td>1.057630e+08</td>\n",
       "      <td>9.472150e+11</td>\n",
       "      <td>4.861942e+11</td>\n",
       "      <td>1.100970e+10</td>\n",
       "      <td>1.060466e+11</td>\n",
       "      <td>1.057630e+08</td>\n",
       "    </tr>\n",
       "    <tr>\n",
       "      <th>32</th>\n",
       "      <td>2021-12-13</td>\n",
       "      <td>2.467005e+09</td>\n",
       "      <td>1.699478e+07</td>\n",
       "      <td>2.090207e+08</td>\n",
       "      <td>2.226703e+08</td>\n",
       "      <td>1.256699e+07</td>\n",
       "      <td>1.671886e+08</td>\n",
       "      <td>1.218561e+08</td>\n",
       "      <td>8.846204e+11</td>\n",
       "      <td>4.615516e+11</td>\n",
       "      <td>1.061437e+10</td>\n",
       "      <td>1.008018e+11</td>\n",
       "      <td>1.218561e+08</td>\n",
       "    </tr>\n",
       "    <tr>\n",
       "      <th>33</th>\n",
       "      <td>2021-12-20</td>\n",
       "      <td>3.612579e+09</td>\n",
       "      <td>1.575681e+07</td>\n",
       "      <td>1.886192e+08</td>\n",
       "      <td>3.882899e+08</td>\n",
       "      <td>1.098199e+07</td>\n",
       "      <td>1.921318e+08</td>\n",
       "      <td>1.261837e+08</td>\n",
       "      <td>9.608464e+11</td>\n",
       "      <td>4.791682e+11</td>\n",
       "      <td>1.081996e+10</td>\n",
       "      <td>1.044896e+11</td>\n",
       "      <td>1.261837e+08</td>\n",
       "    </tr>\n",
       "    <tr>\n",
       "      <th>34</th>\n",
       "      <td>2021-12-27</td>\n",
       "      <td>3.579856e+09</td>\n",
       "      <td>1.535480e+07</td>\n",
       "      <td>1.663454e+08</td>\n",
       "      <td>2.655265e+08</td>\n",
       "      <td>9.511308e+06</td>\n",
       "      <td>1.816964e+08</td>\n",
       "      <td>1.364040e+08</td>\n",
       "      <td>8.956842e+11</td>\n",
       "      <td>4.506195e+11</td>\n",
       "      <td>1.048686e+10</td>\n",
       "      <td>9.851338e+10</td>\n",
       "      <td>1.364040e+08</td>\n",
       "    </tr>\n",
       "    <tr>\n",
       "      <th>35</th>\n",
       "      <td>2022-01-03</td>\n",
       "      <td>2.834238e+09</td>\n",
       "      <td>1.236800e+07</td>\n",
       "      <td>1.189223e+08</td>\n",
       "      <td>1.750432e+08</td>\n",
       "      <td>8.279287e+06</td>\n",
       "      <td>1.532754e+08</td>\n",
       "      <td>1.294246e+08</td>\n",
       "      <td>7.931399e+11</td>\n",
       "      <td>3.716058e+11</td>\n",
       "      <td>9.109745e+09</td>\n",
       "      <td>8.160896e+10</td>\n",
       "      <td>1.189223e+08</td>\n",
       "    </tr>\n",
       "    <tr>\n",
       "      <th>36</th>\n",
       "      <td>2022-01-10</td>\n",
       "      <td>3.262889e+09</td>\n",
       "      <td>1.585100e+07</td>\n",
       "      <td>1.402697e+08</td>\n",
       "      <td>2.438889e+08</td>\n",
       "      <td>7.969982e+06</td>\n",
       "      <td>1.808801e+08</td>\n",
       "      <td>1.208431e+08</td>\n",
       "      <td>8.163831e+11</td>\n",
       "      <td>3.943514e+11</td>\n",
       "      <td>1.018005e+10</td>\n",
       "      <td>8.701433e+10</td>\n",
       "      <td>1.208431e+08</td>\n",
       "    </tr>\n",
       "    <tr>\n",
       "      <th>37</th>\n",
       "      <td>2022-01-17</td>\n",
       "      <td>2.131295e+09</td>\n",
       "      <td>1.723413e+07</td>\n",
       "      <td>1.139008e+08</td>\n",
       "      <td>1.630079e+08</td>\n",
       "      <td>5.922684e+06</td>\n",
       "      <td>1.344940e+08</td>\n",
       "      <td>8.360021e+07</td>\n",
       "      <td>6.866001e+11</td>\n",
       "      <td>2.982555e+11</td>\n",
       "      <td>7.787694e+09</td>\n",
       "      <td>6.588125e+10</td>\n",
       "      <td>8.360021e+07</td>\n",
       "    </tr>\n",
       "    <tr>\n",
       "      <th>38</th>\n",
       "      <td>2022-01-24</td>\n",
       "      <td>2.009910e+09</td>\n",
       "      <td>2.005263e+07</td>\n",
       "      <td>1.106596e+08</td>\n",
       "      <td>2.633275e+08</td>\n",
       "      <td>6.188132e+06</td>\n",
       "      <td>1.367169e+08</td>\n",
       "      <td>8.428651e+07</td>\n",
       "      <td>7.186836e+11</td>\n",
       "      <td>3.066397e+11</td>\n",
       "      <td>7.568193e+09</td>\n",
       "      <td>6.738249e+10</td>\n",
       "      <td>8.428651e+07</td>\n",
       "    </tr>\n",
       "    <tr>\n",
       "      <th>39</th>\n",
       "      <td>2022-01-31</td>\n",
       "      <td>2.339812e+09</td>\n",
       "      <td>1.918118e+07</td>\n",
       "      <td>1.197077e+08</td>\n",
       "      <td>2.769833e+08</td>\n",
       "      <td>6.995431e+06</td>\n",
       "      <td>1.457743e+08</td>\n",
       "      <td>1.015450e+08</td>\n",
       "      <td>8.037214e+11</td>\n",
       "      <td>3.598447e+11</td>\n",
       "      <td>8.860762e+09</td>\n",
       "      <td>7.905755e+10</td>\n",
       "      <td>1.015450e+08</td>\n",
       "    </tr>\n",
       "    <tr>\n",
       "      <th>40</th>\n",
       "      <td>2022-02-07</td>\n",
       "      <td>2.145643e+09</td>\n",
       "      <td>1.777923e+07</td>\n",
       "      <td>9.925939e+07</td>\n",
       "      <td>2.303130e+08</td>\n",
       "      <td>6.487645e+06</td>\n",
       "      <td>1.367264e+08</td>\n",
       "      <td>9.562052e+07</td>\n",
       "      <td>8.007996e+11</td>\n",
       "      <td>3.398814e+11</td>\n",
       "      <td>8.791689e+09</td>\n",
       "      <td>7.500963e+10</td>\n",
       "      <td>9.562052e+07</td>\n",
       "    </tr>\n",
       "    <tr>\n",
       "      <th>41</th>\n",
       "      <td>2022-02-14</td>\n",
       "      <td>1.862258e+09</td>\n",
       "      <td>1.699604e+07</td>\n",
       "      <td>9.153928e+07</td>\n",
       "      <td>1.938527e+08</td>\n",
       "      <td>4.119261e+06</td>\n",
       "      <td>1.104582e+08</td>\n",
       "      <td>8.710701e+07</td>\n",
       "      <td>7.293650e+11</td>\n",
       "      <td>3.098494e+11</td>\n",
       "      <td>7.726847e+09</td>\n",
       "      <td>6.815136e+10</td>\n",
       "      <td>8.710701e+07</td>\n",
       "    </tr>\n",
       "    <tr>\n",
       "      <th>42</th>\n",
       "      <td>2022-02-21</td>\n",
       "      <td>1.792322e+09</td>\n",
       "      <td>1.314279e+07</td>\n",
       "      <td>8.771482e+07</td>\n",
       "      <td>1.919571e+08</td>\n",
       "      <td>3.472647e+06</td>\n",
       "      <td>9.937308e+07</td>\n",
       "      <td>8.069864e+07</td>\n",
       "      <td>7.155758e+11</td>\n",
       "      <td>3.091749e+11</td>\n",
       "      <td>7.194289e+09</td>\n",
       "      <td>6.759041e+10</td>\n",
       "      <td>8.069864e+07</td>\n",
       "    </tr>\n",
       "    <tr>\n",
       "      <th>43</th>\n",
       "      <td>2022-02-28</td>\n",
       "      <td>1.594312e+09</td>\n",
       "      <td>1.248699e+07</td>\n",
       "      <td>7.873120e+07</td>\n",
       "      <td>1.821390e+08</td>\n",
       "      <td>3.082833e+06</td>\n",
       "      <td>9.294856e+07</td>\n",
       "      <td>7.752335e+07</td>\n",
       "      <td>7.291348e+11</td>\n",
       "      <td>3.014458e+11</td>\n",
       "      <td>7.087672e+09</td>\n",
       "      <td>6.595930e+10</td>\n",
       "      <td>7.752335e+07</td>\n",
       "    </tr>\n",
       "    <tr>\n",
       "      <th>44</th>\n",
       "      <td>2022-03-07</td>\n",
       "      <td>1.581515e+09</td>\n",
       "      <td>1.186144e+07</td>\n",
       "      <td>7.385897e+07</td>\n",
       "      <td>1.694037e+08</td>\n",
       "      <td>3.047677e+06</td>\n",
       "      <td>8.544391e+07</td>\n",
       "      <td>7.342601e+07</td>\n",
       "      <td>7.182136e+11</td>\n",
       "      <td>2.970955e+11</td>\n",
       "      <td>7.125871e+09</td>\n",
       "      <td>6.511980e+10</td>\n",
       "      <td>7.342601e+07</td>\n",
       "    </tr>\n",
       "    <tr>\n",
       "      <th>45</th>\n",
       "      <td>2022-03-14</td>\n",
       "      <td>2.079844e+09</td>\n",
       "      <td>1.211385e+07</td>\n",
       "      <td>7.751416e+07</td>\n",
       "      <td>1.843287e+08</td>\n",
       "      <td>4.080681e+06</td>\n",
       "      <td>9.709420e+07</td>\n",
       "      <td>8.163476e+07</td>\n",
       "      <td>7.832117e+11</td>\n",
       "      <td>3.375979e+11</td>\n",
       "      <td>8.025319e+09</td>\n",
       "      <td>7.393983e+10</td>\n",
       "      <td>7.751416e+07</td>\n",
       "    </tr>\n",
       "    <tr>\n",
       "      <th>46</th>\n",
       "      <td>2022-03-21</td>\n",
       "      <td>2.305997e+09</td>\n",
       "      <td>1.316065e+07</td>\n",
       "      <td>8.167019e+07</td>\n",
       "      <td>2.210051e+08</td>\n",
       "      <td>6.200832e+06</td>\n",
       "      <td>1.575734e+08</td>\n",
       "      <td>9.704135e+07</td>\n",
       "      <td>8.894490e+11</td>\n",
       "      <td>3.886297e+11</td>\n",
       "      <td>9.039261e+09</td>\n",
       "      <td>8.495736e+10</td>\n",
       "      <td>8.167019e+07</td>\n",
       "    </tr>\n",
       "    <tr>\n",
       "      <th>47</th>\n",
       "      <td>2022-03-28</td>\n",
       "      <td>3.317588e+09</td>\n",
       "      <td>1.345303e+07</td>\n",
       "      <td>7.748916e+07</td>\n",
       "      <td>2.350403e+08</td>\n",
       "      <td>7.344116e+06</td>\n",
       "      <td>1.512152e+08</td>\n",
       "      <td>1.122460e+08</td>\n",
       "      <td>8.824674e+11</td>\n",
       "      <td>4.160569e+11</td>\n",
       "      <td>9.023978e+09</td>\n",
       "      <td>9.043056e+10</td>\n",
       "      <td>7.748916e+07</td>\n",
       "    </tr>\n",
       "    <tr>\n",
       "      <th>48</th>\n",
       "      <td>2022-04-04</td>\n",
       "      <td>2.442151e+09</td>\n",
       "      <td>1.242454e+07</td>\n",
       "      <td>7.873058e+07</td>\n",
       "      <td>1.826529e+08</td>\n",
       "      <td>6.472291e+06</td>\n",
       "      <td>1.271143e+08</td>\n",
       "      <td>1.190135e+08</td>\n",
       "      <td>8.034573e+11</td>\n",
       "      <td>3.804407e+11</td>\n",
       "      <td>7.798857e+09</td>\n",
       "      <td>8.232722e+10</td>\n",
       "      <td>7.873058e+07</td>\n",
       "    </tr>\n",
       "    <tr>\n",
       "      <th>49</th>\n",
       "      <td>2022-04-11</td>\n",
       "      <td>2.292021e+09</td>\n",
       "      <td>1.485002e+07</td>\n",
       "      <td>7.873542e+07</td>\n",
       "      <td>1.662839e+08</td>\n",
       "      <td>5.556878e+06</td>\n",
       "      <td>1.089524e+08</td>\n",
       "      <td>1.004089e+08</td>\n",
       "      <td>7.553182e+11</td>\n",
       "      <td>3.542076e+11</td>\n",
       "      <td>7.641529e+09</td>\n",
       "      <td>7.695474e+10</td>\n",
       "      <td>7.873542e+07</td>\n",
       "    </tr>\n",
       "    <tr>\n",
       "      <th>50</th>\n",
       "      <td>2022-04-18</td>\n",
       "      <td>2.277758e+09</td>\n",
       "      <td>1.419418e+07</td>\n",
       "      <td>9.770412e+07</td>\n",
       "      <td>1.665154e+08</td>\n",
       "      <td>4.556684e+06</td>\n",
       "      <td>1.074096e+08</td>\n",
       "      <td>1.013799e+08</td>\n",
       "      <td>7.510738e+11</td>\n",
       "      <td>3.459113e+11</td>\n",
       "      <td>7.340578e+09</td>\n",
       "      <td>7.505472e+10</td>\n",
       "      <td>9.770412e+07</td>\n",
       "    </tr>\n",
       "    <tr>\n",
       "      <th>51</th>\n",
       "      <td>2022-04-25</td>\n",
       "      <td>2.007300e+09</td>\n",
       "      <td>1.297036e+07</td>\n",
       "      <td>8.846144e+07</td>\n",
       "      <td>1.350754e+08</td>\n",
       "      <td>3.469232e+06</td>\n",
       "      <td>9.706506e+07</td>\n",
       "      <td>8.852314e+07</td>\n",
       "      <td>7.322090e+11</td>\n",
       "      <td>3.348525e+11</td>\n",
       "      <td>6.982212e+09</td>\n",
       "      <td>7.255627e+10</td>\n",
       "      <td>8.846144e+07</td>\n",
       "    </tr>\n",
       "  </tbody>\n",
       "</table>\n",
       "</div>"
      ],
      "text/plain": [
       "         Date          AAVE           ABT          AMPL           ANT  \\\n",
       "0  2021-05-03  5.735887e+09  2.256086e+07  2.526164e+08  2.017177e+08   \n",
       "1  2021-05-10  6.648981e+09  1.869232e+07  1.814148e+08  1.524085e+08   \n",
       "2  2021-05-17  3.779533e+09  9.674406e+06  1.599928e+08  6.694150e+07   \n",
       "3  2021-05-24  4.141262e+09  1.334450e+07  1.904880e+08  8.221074e+07   \n",
       "4  2021-05-31  4.669538e+09  1.281857e+07  1.763299e+08  1.133197e+08   \n",
       "5  2021-06-07  4.048896e+09  1.228822e+07  1.617541e+08  1.537709e+08   \n",
       "6  2021-06-14  3.502813e+09  1.162006e+07  1.463064e+08  8.574663e+07   \n",
       "7  2021-06-21  2.592849e+09  9.001236e+06  1.336328e+08  7.603815e+07   \n",
       "8  2021-06-28  3.554832e+09  1.209484e+07  1.433075e+08  9.936997e+07   \n",
       "9  2021-07-05  3.906758e+09  1.075528e+07  1.283528e+08  9.201309e+07   \n",
       "10 2021-07-12  3.281887e+09  8.593366e+06  1.158799e+08  8.190729e+07   \n",
       "11 2021-07-19  3.701218e+09  8.762146e+06  2.406988e+08  9.892505e+07   \n",
       "12 2021-07-26  4.116788e+09  9.875987e+06  1.455809e+08  1.305789e+08   \n",
       "13 2021-08-02  4.671780e+09  1.124131e+07  1.410147e+08  1.364860e+08   \n",
       "14 2021-08-09  5.313603e+09  2.135144e+07  1.409801e+08  2.001891e+08   \n",
       "15 2021-08-16  5.203482e+09  2.076224e+07  1.207345e+08  1.914241e+08   \n",
       "16 2021-08-23  4.798074e+09  1.947143e+07  1.177904e+08  1.962571e+08   \n",
       "17 2021-08-30  5.487150e+09  2.162260e+07  1.112777e+08  2.722707e+08   \n",
       "18 2021-09-06  4.388329e+09  1.742988e+07  1.088921e+08  2.376107e+08   \n",
       "19 2021-09-13  4.480264e+09  1.748039e+07  1.046788e+08  2.364023e+08   \n",
       "20 2021-09-20  3.866728e+09  1.390651e+07  1.050716e+08  1.797614e+08   \n",
       "21 2021-09-27  4.101827e+09  1.443993e+07  1.165818e+08  1.961384e+08   \n",
       "22 2021-10-04  3.805932e+09  1.539389e+07  1.020908e+08  1.831445e+08   \n",
       "23 2021-10-11  4.034897e+09  1.524101e+07  9.897662e+07  1.918853e+08   \n",
       "24 2021-10-18  4.065398e+09  1.743255e+07  1.823367e+08  1.798293e+08   \n",
       "25 2021-10-25  4.159989e+09  1.841927e+07  2.263916e+08  1.860229e+08   \n",
       "26 2021-11-01  4.239095e+09  2.053772e+07  3.212305e+08  1.964626e+08   \n",
       "27 2021-11-08  4.182353e+09  1.856525e+07  2.338969e+08  2.157325e+08   \n",
       "28 2021-11-15  3.527546e+09  1.943095e+07  2.116973e+08  2.039939e+08   \n",
       "29 2021-11-22  3.191655e+09  1.892979e+07  2.643513e+08  2.327120e+08   \n",
       "30 2021-11-29  2.560896e+09  1.600969e+07  2.231844e+08  1.545904e+08   \n",
       "31 2021-12-06  2.419755e+09  1.574565e+07  2.298613e+08  1.777168e+08   \n",
       "32 2021-12-13  2.467005e+09  1.699478e+07  2.090207e+08  2.226703e+08   \n",
       "33 2021-12-20  3.612579e+09  1.575681e+07  1.886192e+08  3.882899e+08   \n",
       "34 2021-12-27  3.579856e+09  1.535480e+07  1.663454e+08  2.655265e+08   \n",
       "35 2022-01-03  2.834238e+09  1.236800e+07  1.189223e+08  1.750432e+08   \n",
       "36 2022-01-10  3.262889e+09  1.585100e+07  1.402697e+08  2.438889e+08   \n",
       "37 2022-01-17  2.131295e+09  1.723413e+07  1.139008e+08  1.630079e+08   \n",
       "38 2022-01-24  2.009910e+09  2.005263e+07  1.106596e+08  2.633275e+08   \n",
       "39 2022-01-31  2.339812e+09  1.918118e+07  1.197077e+08  2.769833e+08   \n",
       "40 2022-02-07  2.145643e+09  1.777923e+07  9.925939e+07  2.303130e+08   \n",
       "41 2022-02-14  1.862258e+09  1.699604e+07  9.153928e+07  1.938527e+08   \n",
       "42 2022-02-21  1.792322e+09  1.314279e+07  8.771482e+07  1.919571e+08   \n",
       "43 2022-02-28  1.594312e+09  1.248699e+07  7.873120e+07  1.821390e+08   \n",
       "44 2022-03-07  1.581515e+09  1.186144e+07  7.385897e+07  1.694037e+08   \n",
       "45 2022-03-14  2.079844e+09  1.211385e+07  7.751416e+07  1.843287e+08   \n",
       "46 2022-03-21  2.305997e+09  1.316065e+07  8.167019e+07  2.210051e+08   \n",
       "47 2022-03-28  3.317588e+09  1.345303e+07  7.748916e+07  2.350403e+08   \n",
       "48 2022-04-04  2.442151e+09  1.242454e+07  7.873058e+07  1.826529e+08   \n",
       "49 2022-04-11  2.292021e+09  1.485002e+07  7.873542e+07  1.662839e+08   \n",
       "50 2022-04-18  2.277758e+09  1.419418e+07  9.770412e+07  1.665154e+08   \n",
       "51 2022-04-25  2.007300e+09  1.297036e+07  8.846144e+07  1.350754e+08   \n",
       "\n",
       "           ARMOR        BADGER           BAL           BTC           ETH  \\\n",
       "0   5.443477e+07  3.027644e+08  4.597610e+08  1.088991e+12  4.554030e+11   \n",
       "1   4.557013e+07  2.295646e+08  3.758166e+08  8.683518e+11  4.152052e+11   \n",
       "2   3.158087e+07  9.413106e+07  1.792233e+08  6.530094e+11  2.455595e+11   \n",
       "3   3.862744e+07  1.081680e+08  1.917345e+08  6.672647e+11  2.772904e+11   \n",
       "4   3.765641e+07  1.452830e+08  2.022194e+08  6.704378e+11  3.148817e+11   \n",
       "5   3.021902e+07  1.250255e+08  1.657510e+08  7.310086e+11  2.915623e+11   \n",
       "6   2.629560e+07  1.160773e+08  1.351632e+08  6.690894e+11  2.612966e+11   \n",
       "7   2.175547e+07  7.728276e+07  1.139720e+08  6.486684e+11  2.301775e+11   \n",
       "8   2.277966e+07  9.297402e+07  1.752774e+08  6.615261e+11  2.706572e+11   \n",
       "9   2.140240e+07  8.839890e+07  1.531016e+08  6.421867e+11  2.496326e+11   \n",
       "10  1.820724e+07  7.703804e+07  1.270959e+08  5.968441e+11  2.216367e+11   \n",
       "11  2.067288e+07  9.117925e+07  1.326412e+08  6.613870e+11  2.563331e+11   \n",
       "12  2.324411e+07  1.082130e+08  1.501863e+08  7.534862e+11  3.007091e+11   \n",
       "13  2.731367e+07  2.306689e+08  1.674139e+08  8.223116e+11  3.524885e+11   \n",
       "14  2.691169e+07  2.665626e+08  1.962973e+08  8.842200e+11  3.874095e+11   \n",
       "15  3.344231e+07  2.460344e+08  2.090932e+08  9.269675e+11  3.797833e+11   \n",
       "16  2.717078e+07  2.355526e+08  1.871917e+08  9.202675e+11  3.788011e+11   \n",
       "17  2.502089e+07  2.522597e+08  2.331410e+08  9.731373e+11  4.633900e+11   \n",
       "18  1.991681e+07  1.919515e+08  1.860161e+08  8.669969e+11  3.997631e+11   \n",
       "19  1.627685e+07  2.088630e+08  1.719812e+08  8.894197e+11  3.903186e+11   \n",
       "20  1.780806e+07  1.663187e+08  1.440396e+08  8.142264e+11  3.593634e+11   \n",
       "21  1.621192e+07  1.944562e+08  1.579724e+08  9.081848e+11  4.015320e+11   \n",
       "22  1.502778e+07  2.792221e+08  1.439369e+08  1.030096e+12  4.015544e+11   \n",
       "23  1.425155e+07  2.807944e+08  1.568085e+08  1.161717e+12  4.527541e+11   \n",
       "24  1.863778e+07  2.771085e+08  1.492512e+08  1.147825e+12  4.793877e+11   \n",
       "25  2.042637e+07  2.630344e+08  1.713898e+08  1.157395e+12  5.039842e+11   \n",
       "26  2.120564e+07  3.338067e+08  1.816660e+08  1.193378e+12  5.423645e+11   \n",
       "27  2.065230e+07  3.414121e+08  1.689150e+08  1.233237e+12  5.435669e+11   \n",
       "28  1.810880e+07  2.805710e+08  1.464992e+08  1.107372e+12  5.002696e+11   \n",
       "29  2.246857e+07  2.883748e+08  1.433318e+08  1.080302e+12  5.048078e+11   \n",
       "30  1.346271e+07  1.705574e+08  1.091631e+08  9.290344e+11  4.914545e+11   \n",
       "31  1.347826e+07  1.728599e+08  1.057630e+08  9.472150e+11  4.861942e+11   \n",
       "32  1.256699e+07  1.671886e+08  1.218561e+08  8.846204e+11  4.615516e+11   \n",
       "33  1.098199e+07  1.921318e+08  1.261837e+08  9.608464e+11  4.791682e+11   \n",
       "34  9.511308e+06  1.816964e+08  1.364040e+08  8.956842e+11  4.506195e+11   \n",
       "35  8.279287e+06  1.532754e+08  1.294246e+08  7.931399e+11  3.716058e+11   \n",
       "36  7.969982e+06  1.808801e+08  1.208431e+08  8.163831e+11  3.943514e+11   \n",
       "37  5.922684e+06  1.344940e+08  8.360021e+07  6.866001e+11  2.982555e+11   \n",
       "38  6.188132e+06  1.367169e+08  8.428651e+07  7.186836e+11  3.066397e+11   \n",
       "39  6.995431e+06  1.457743e+08  1.015450e+08  8.037214e+11  3.598447e+11   \n",
       "40  6.487645e+06  1.367264e+08  9.562052e+07  8.007996e+11  3.398814e+11   \n",
       "41  4.119261e+06  1.104582e+08  8.710701e+07  7.293650e+11  3.098494e+11   \n",
       "42  3.472647e+06  9.937308e+07  8.069864e+07  7.155758e+11  3.091749e+11   \n",
       "43  3.082833e+06  9.294856e+07  7.752335e+07  7.291348e+11  3.014458e+11   \n",
       "44  3.047677e+06  8.544391e+07  7.342601e+07  7.182136e+11  2.970955e+11   \n",
       "45  4.080681e+06  9.709420e+07  8.163476e+07  7.832117e+11  3.375979e+11   \n",
       "46  6.200832e+06  1.575734e+08  9.704135e+07  8.894490e+11  3.886297e+11   \n",
       "47  7.344116e+06  1.512152e+08  1.122460e+08  8.824674e+11  4.160569e+11   \n",
       "48  6.472291e+06  1.271143e+08  1.190135e+08  8.034573e+11  3.804407e+11   \n",
       "49  5.556878e+06  1.089524e+08  1.004089e+08  7.553182e+11  3.542076e+11   \n",
       "50  4.556684e+06  1.074096e+08  1.013799e+08  7.510738e+11  3.459113e+11   \n",
       "51  3.469232e+06  9.706506e+07  8.852314e+07  7.322090e+11  3.348525e+11   \n",
       "\n",
       "             LTC  percentil_80  percentil_20  \n",
       "0   2.608153e+10  1.119458e+11  2.017177e+08  \n",
       "1   2.006374e+10  9.909203e+10  1.524085e+08  \n",
       "2   9.776754e+09  5.693331e+10  6.694150e+07  \n",
       "3   1.158400e+10  6.472528e+10  8.221074e+07  \n",
       "4   1.196580e+10  7.254899e+10  1.133197e+08  \n",
       "5   1.159329e+10  6.758709e+10  1.250255e+08  \n",
       "6   1.053850e+10  6.069013e+10  8.574663e+07  \n",
       "7   8.987872e+09  5.322579e+10  7.603815e+07  \n",
       "8   9.866695e+09  6.202479e+10  9.297402e+07  \n",
       "9   9.133662e+09  5.723344e+10  8.839890e+07  \n",
       "10  8.155425e+09  5.085167e+10  7.703804e+07  \n",
       "11  8.692973e+09  5.822099e+10  9.117925e+07  \n",
       "12  9.647266e+09  6.785963e+10  1.082130e+08  \n",
       "13  1.023616e+10  7.868662e+10  1.364860e+08  \n",
       "14  1.262187e+10  8.757939e+10  1.409801e+08  \n",
       "15  1.273818e+10  8.614720e+10  1.207345e+08  \n",
       "16  1.198414e+10  8.534752e+10  1.177904e+08  \n",
       "17  1.577939e+10  1.053015e+11  1.112777e+08  \n",
       "18  1.255652e+10  8.999784e+10  1.088921e+08  \n",
       "19  1.204151e+10  8.769694e+10  1.046788e+08  \n",
       "20  1.034424e+10  8.014808e+10  1.050716e+08  \n",
       "21  1.172739e+10  8.968831e+10  1.165818e+08  \n",
       "22  1.204738e+10  8.994879e+10  1.020908e+08  \n",
       "23  1.264741e+10  1.006687e+11  9.897662e+07  \n",
       "24  1.310471e+10  1.063613e+11  1.492512e+08  \n",
       "25  1.322171e+10  1.113742e+11  1.713898e+08  \n",
       "26  1.391404e+10  1.196041e+11  1.816660e+08  \n",
       "27  1.918007e+10  1.240574e+11  1.689150e+08  \n",
       "28  1.526987e+10  1.122698e+11  1.464992e+08  \n",
       "29  1.374198e+10  1.119551e+11  1.433318e+08  \n",
       "30  1.078289e+10  1.069172e+11  1.091631e+08  \n",
       "31  1.100970e+10  1.060466e+11  1.057630e+08  \n",
       "32  1.061437e+10  1.008018e+11  1.218561e+08  \n",
       "33  1.081996e+10  1.044896e+11  1.261837e+08  \n",
       "34  1.048686e+10  9.851338e+10  1.364040e+08  \n",
       "35  9.109745e+09  8.160896e+10  1.189223e+08  \n",
       "36  1.018005e+10  8.701433e+10  1.208431e+08  \n",
       "37  7.787694e+09  6.588125e+10  8.360021e+07  \n",
       "38  7.568193e+09  6.738249e+10  8.428651e+07  \n",
       "39  8.860762e+09  7.905755e+10  1.015450e+08  \n",
       "40  8.791689e+09  7.500963e+10  9.562052e+07  \n",
       "41  7.726847e+09  6.815136e+10  8.710701e+07  \n",
       "42  7.194289e+09  6.759041e+10  8.069864e+07  \n",
       "43  7.087672e+09  6.595930e+10  7.752335e+07  \n",
       "44  7.125871e+09  6.511980e+10  7.342601e+07  \n",
       "45  8.025319e+09  7.393983e+10  7.751416e+07  \n",
       "46  9.039261e+09  8.495736e+10  8.167019e+07  \n",
       "47  9.023978e+09  9.043056e+10  7.748916e+07  \n",
       "48  7.798857e+09  8.232722e+10  7.873058e+07  \n",
       "49  7.641529e+09  7.695474e+10  7.873542e+07  \n",
       "50  7.340578e+09  7.505472e+10  9.770412e+07  \n",
       "51  6.982212e+09  7.255627e+10  8.846144e+07  "
      ]
     },
     "execution_count": 49,
     "metadata": {},
     "output_type": "execute_result"
    }
   ],
   "source": [
    "capMatrix"
   ]
  },
  {
   "cell_type": "code",
   "execution_count": null,
   "metadata": {},
   "outputs": [],
   "source": []
  },
  {
   "cell_type": "code",
   "execution_count": 44,
   "metadata": {},
   "outputs": [],
   "source": [
    "## testing purpose\n",
    "imputedFrame = pd.DataFrame(columns=list(fullSample.columns))\n",
    "orgcols = list(fullSample.columns)\n",
    "cols = orgcols.copy()\n",
    "cols.remove('Date')\n",
    "cols.remove('Asset')\n",
    "\n",
    "for index in fullSample.groupby('Asset').count().index.values.tolist():\n",
    "    syntax = f\"Asset == '{index}'\"\n",
    "    segment = fullSample.query(syntax)\n",
    "    \n",
    "    temp = segment[cols].interpolate(method='linear', limit_direction='forward', axis=0)\n",
    "    \n",
    "    temp['Asset'] = segment['Asset']\n",
    "    temp['Date'] = segment['Date']\n",
    "\n",
    "    imputedFrame = pd.concat([imputedFrame, temp[orgcols]],\n",
    "                                     ignore_index=True)\n",
    "\n",
    "   "
   ]
  }
 ],
 "metadata": {
  "colab": {
   "name": "DataPullZ.ipynb",
   "provenance": []
  },
  "kernelspec": {
   "display_name": "Python 3 (ipykernel)",
   "language": "python",
   "name": "python3"
  },
  "language_info": {
   "codemirror_mode": {
    "name": "ipython",
    "version": 3
   },
   "file_extension": ".py",
   "mimetype": "text/x-python",
   "name": "python",
   "nbconvert_exporter": "python",
   "pygments_lexer": "ipython3",
   "version": "3.9.7"
  }
 },
 "nbformat": 4,
 "nbformat_minor": 1
}
