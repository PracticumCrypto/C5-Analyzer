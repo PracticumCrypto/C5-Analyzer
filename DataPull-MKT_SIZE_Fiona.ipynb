{
 "cells": [
  {
   "cell_type": "markdown",
   "metadata": {
    "id": "lh68fHXe8UTs"
   },
   "source": [
    "## Fixed Data:"
   ]
  },
  {
   "cell_type": "code",
   "execution_count": 1,
   "metadata": {
    "colab": {
     "base_uri": "https://localhost:8080/"
    },
    "id": "jjOiSHrVIxNU",
    "outputId": "8e1c6393-a343-4f83-f547-ceb3700dd420"
   },
   "outputs": [
    {
     "name": "stdout",
     "output_type": "stream",
     "text": [
      "Requirement already satisfied: fredapi in /Users/fionafu/opt/anaconda3/lib/python3.9/site-packages (0.5.0)\n",
      "Requirement already satisfied: pandas in /Users/fionafu/opt/anaconda3/lib/python3.9/site-packages (from fredapi) (1.3.4)\n",
      "Requirement already satisfied: python-dateutil>=2.7.3 in /Users/fionafu/opt/anaconda3/lib/python3.9/site-packages (from pandas->fredapi) (2.8.2)\n",
      "Requirement already satisfied: pytz>=2017.3 in /Users/fionafu/opt/anaconda3/lib/python3.9/site-packages (from pandas->fredapi) (2021.3)\n",
      "Requirement already satisfied: numpy>=1.17.3 in /Users/fionafu/opt/anaconda3/lib/python3.9/site-packages (from pandas->fredapi) (1.20.3)\n",
      "Requirement already satisfied: six>=1.5 in /Users/fionafu/opt/anaconda3/lib/python3.9/site-packages (from python-dateutil>=2.7.3->pandas->fredapi) (1.16.0)\n",
      "Note: you may need to restart the kernel to use updated packages.\n"
     ]
    }
   ],
   "source": [
    "pip install fredapi"
   ]
  },
  {
   "cell_type": "code",
   "execution_count": 189,
   "metadata": {
    "id": "xRHrfZma_zRz"
   },
   "outputs": [],
   "source": [
    "import json\n",
    "import requests\n",
    "import pandas as pd\n",
    "from fredapi import Fred\n",
    "\n",
    "API_KEY = '1vGb0FOsg2hEIGrEhpueLCcWd1Y'\n",
    "FRED_API_KEY = 'b13a905b98b5dfc1f3910d6a0d875ae3'\n",
    "\n",
    "rootUrl = 'https://api.glassnode.com'\n",
    "\n",
    "symbolList = ['BTC', 'ETH', 'LTC', 'AAVE', 'ABT', 'AMPL', 'ANT', 'ARMOR', 'BADGER', 'BAL', 'BAND', 'BAT', 'BIX', 'BNT', 'BOND', 'BRD', 'BUSD', 'BZRX', 'CELR', 'CHSB', 'CND', 'COMP', 'CREAM', 'CRO', 'CRV', 'CVC', 'CVP', 'DAI', 'DDX', 'DENT', 'DGX', 'DHT', 'DMG', 'DODO', 'DOUGH', 'DRGN', 'ELF', 'ENG', 'ENJ', 'EURS', 'FET', 'FTT', 'FUN', 'GNO', 'GUSD', 'HEGIC', 'HOT', 'HPT', 'HT', 'HUSD', 'INDEX', 'KCS', 'LAMB', 'LBA', 'LDO', 'LEO', 'LINK', 'LOOM', 'LRC', 'MANA', 'MATIC',\n",
    "              'MCB', 'MCO', 'MFT', 'MIR', 'MKR', 'MLN', 'MTA', 'MTL', 'MX', 'NDX', 'NEXO', 'NFTX', 'NMR', 'Nsure', 'OCEAN', 'OKB', 'OMG', 'PAY', 'PERP', 'PICKLE', 'PNK', 'PNT', 'POLY', 'POWR', 'PPT', 'QASH', 'QKC', 'QNT', 'RDN', 'REN', 'REP', 'RLC', 'ROOK', 'RPL', 'RSR', 'SAI', 'SAN', 'SNT', 'SNX', 'STAKE', 'STORJ', 'sUSD', 'SUSHI', 'TEL', 'TOP', 'UBT', 'UMA', 'UNI', 'USDC', 'USDK', 'USDP', 'USDT', 'UTK', 'VERI', 'WaBi', 'WAX', 'WBTC', 'WETH', 'wNXM', 'WTC', 'YAM', 'YFI', 'ZRX']\n",
    "\n",
    "symbolListShort = ['BTC', 'ETH', 'LTC', 'AAVE', 'ABT', 'AMPL', 'ANT', 'ARMOR', 'BADGER', 'BAL']\n",
    "\n",
    "endPoints = {\n",
    "    'Price': '/v1/metrics/market/price_usd_close',\n",
    "    'MarketCap': '/v1/metrics/market/marketcap_usd',\n",
    "    'TransactionCount': '/v1/metrics/transactions/count',\n",
    "    'ActiveAddress': '/v1/metrics/addresses/active_count',\n",
    "}"
   ]
  },
  {
   "cell_type": "markdown",
   "metadata": {},
   "source": [
    "## <font color='red'> It seems the risk-free rate is daily rate. is it in percentage or in unit 1? need to adjust to weekly rate and select Monday"
   ]
  },
  {
   "cell_type": "code",
   "execution_count": 190,
   "metadata": {
    "id": "jKTjV1E9IxNX"
   },
   "outputs": [],
   "source": [
    "fred = Fred(api_key=FRED_API_KEY)\n",
    "Risk_free_rate = fred.get_series('DGS1MO')\n",
    "Risk_free_rate = Risk_free_rate.to_frame()\n",
    "Risk_free_rate = Risk_free_rate.reset_index()\n",
    "Risk_free_rate = Risk_free_rate.rename(columns={'index':'Date', 0:'RiskFree'})"
   ]
  },
  {
   "cell_type": "markdown",
   "metadata": {},
   "source": [
    "# FF:Add a line of code to change the scale to be consistent with return"
   ]
  },
  {
   "cell_type": "code",
   "execution_count": 191,
   "metadata": {},
   "outputs": [
    {
     "data": {
      "text/html": [
       "<div>\n",
       "<style scoped>\n",
       "    .dataframe tbody tr th:only-of-type {\n",
       "        vertical-align: middle;\n",
       "    }\n",
       "\n",
       "    .dataframe tbody tr th {\n",
       "        vertical-align: top;\n",
       "    }\n",
       "\n",
       "    .dataframe thead th {\n",
       "        text-align: right;\n",
       "    }\n",
       "</style>\n",
       "<table border=\"1\" class=\"dataframe\">\n",
       "  <thead>\n",
       "    <tr style=\"text-align: right;\">\n",
       "      <th></th>\n",
       "      <th>Date</th>\n",
       "      <th>RiskFree</th>\n",
       "    </tr>\n",
       "  </thead>\n",
       "  <tbody>\n",
       "    <tr>\n",
       "      <th>0</th>\n",
       "      <td>2001-07-31</td>\n",
       "      <td>0.0367</td>\n",
       "    </tr>\n",
       "    <tr>\n",
       "      <th>1</th>\n",
       "      <td>2001-08-01</td>\n",
       "      <td>0.0365</td>\n",
       "    </tr>\n",
       "    <tr>\n",
       "      <th>2</th>\n",
       "      <td>2001-08-02</td>\n",
       "      <td>0.0365</td>\n",
       "    </tr>\n",
       "    <tr>\n",
       "      <th>3</th>\n",
       "      <td>2001-08-03</td>\n",
       "      <td>0.0363</td>\n",
       "    </tr>\n",
       "    <tr>\n",
       "      <th>4</th>\n",
       "      <td>2001-08-06</td>\n",
       "      <td>0.0362</td>\n",
       "    </tr>\n",
       "    <tr>\n",
       "      <th>...</th>\n",
       "      <td>...</td>\n",
       "      <td>...</td>\n",
       "    </tr>\n",
       "    <tr>\n",
       "      <th>5408</th>\n",
       "      <td>2022-04-22</td>\n",
       "      <td>0.0046</td>\n",
       "    </tr>\n",
       "    <tr>\n",
       "      <th>5409</th>\n",
       "      <td>2022-04-25</td>\n",
       "      <td>0.0040</td>\n",
       "    </tr>\n",
       "    <tr>\n",
       "      <th>5410</th>\n",
       "      <td>2022-04-26</td>\n",
       "      <td>0.0038</td>\n",
       "    </tr>\n",
       "    <tr>\n",
       "      <th>5411</th>\n",
       "      <td>2022-04-27</td>\n",
       "      <td>0.0037</td>\n",
       "    </tr>\n",
       "    <tr>\n",
       "      <th>5412</th>\n",
       "      <td>2022-04-28</td>\n",
       "      <td>0.0037</td>\n",
       "    </tr>\n",
       "  </tbody>\n",
       "</table>\n",
       "<p>5413 rows × 2 columns</p>\n",
       "</div>"
      ],
      "text/plain": [
       "           Date  RiskFree\n",
       "0    2001-07-31    0.0367\n",
       "1    2001-08-01    0.0365\n",
       "2    2001-08-02    0.0365\n",
       "3    2001-08-03    0.0363\n",
       "4    2001-08-06    0.0362\n",
       "...         ...       ...\n",
       "5408 2022-04-22    0.0046\n",
       "5409 2022-04-25    0.0040\n",
       "5410 2022-04-26    0.0038\n",
       "5411 2022-04-27    0.0037\n",
       "5412 2022-04-28    0.0037\n",
       "\n",
       "[5413 rows x 2 columns]"
      ]
     },
     "execution_count": 191,
     "metadata": {},
     "output_type": "execute_result"
    }
   ],
   "source": [
    "Risk_free_rate['RiskFree']= Risk_free_rate['RiskFree']/100\n",
    "Risk_free_rate"
   ]
  },
  {
   "cell_type": "code",
   "execution_count": 27,
   "metadata": {},
   "outputs": [
    {
     "data": {
      "text/plain": [
       "Date        0\n",
       "RiskFree    0\n",
       "dtype: int64"
      ]
     },
     "execution_count": 27,
     "metadata": {},
     "output_type": "execute_result"
    }
   ],
   "source": []
  },
  {
   "cell_type": "code",
   "execution_count": null,
   "metadata": {},
   "outputs": [],
   "source": []
  },
  {
   "cell_type": "code",
   "execution_count": 192,
   "metadata": {},
   "outputs": [],
   "source": [
    "### impute with mean for risk free rate ### will change to linear regression later\n",
    "from sklearn.impute import SimpleImputer\n",
    "from sklearn.pipeline import Pipeline\n",
    "\n",
    "sim_imp = SimpleImputer(strategy='median')\n",
    "\n",
    "Risk_free_rate['RiskFree']=sim_imp.fit_transform(Risk_free_rate[['RiskFree']])"
   ]
  },
  {
   "cell_type": "code",
   "execution_count": 193,
   "metadata": {},
   "outputs": [
    {
     "data": {
      "text/plain": [
       "Date        0\n",
       "RiskFree    0\n",
       "dtype: int64"
      ]
     },
     "execution_count": 193,
     "metadata": {},
     "output_type": "execute_result"
    }
   ],
   "source": [
    "Risk_free_rate.isnull().sum()"
   ]
  },
  {
   "cell_type": "markdown",
   "metadata": {
    "id": "7nlgSPPTKKkP"
   },
   "source": [
    "## Get Multiple Attributes for Multiple Coins:"
   ]
  },
  {
   "cell_type": "code",
   "execution_count": 194,
   "metadata": {
    "id": "NoAHRVf366me"
   },
   "outputs": [],
   "source": [
    "### Define a function to pull data according to input values(coin, feature)\n",
    "### After running this method, it should return pulled data, and also store it in memory named as \"coin_feature\"\n",
    "\n",
    "def PullData(coin, feature):\n",
    "    print(f\"Pulling {coin}'s {feature} data\")\n",
    "\n",
    "    # Assemble full request url and get responses:\n",
    "    reqUrl = rootUrl + endPoints[feature]\n",
    "    res = requests.get(reqUrl,\n",
    "                       params={'a': coin, 'api_key': API_KEY, 'i':'1w'})\n",
    "    data_raw = pd.read_json(res.text, convert_dates=['t'])\n",
    "\n",
    "    # Rename column \"v\" according to features\n",
    "    data = data_raw.rename(columns={\"v\" : f\"{feature}\", 't':'Date'})\n",
    "\n",
    "    # Turn renamed dataframe into a global variable for future using\n",
    "    name = f\"{coin}_{feature}\"\n",
    "    globals()[name] = data\n",
    "\n",
    "    # Return a dataframe\n",
    "    return data"
   ]
  },
  {
   "cell_type": "code",
   "execution_count": 195,
   "metadata": {
    "colab": {
     "base_uri": "https://localhost:8080/"
    },
    "id": "hRBQM5TVKZO8",
    "outputId": "63911f86-3c92-4bbf-d87b-238b63730b23"
   },
   "outputs": [
    {
     "name": "stdout",
     "output_type": "stream",
     "text": [
      "Start Pulling BTC's data:\n",
      "Pulling BTC's Price data\n",
      "Pulling BTC's MarketCap data\n",
      "Pulling BTC's TransactionCount data\n",
      "Pulling BTC's ActiveAddress data\n",
      "Merging Dataframes...\n",
      "BTC data successfully pulled\n",
      "\n",
      "Start Pulling ETH's data:\n",
      "Pulling ETH's Price data\n",
      "Pulling ETH's MarketCap data\n",
      "Pulling ETH's TransactionCount data\n",
      "Pulling ETH's ActiveAddress data\n",
      "Merging Dataframes...\n",
      "ETH data successfully pulled\n",
      "\n",
      "Start Pulling LTC's data:\n",
      "Pulling LTC's Price data\n",
      "Pulling LTC's MarketCap data\n",
      "Pulling LTC's TransactionCount data\n",
      "Pulling LTC's ActiveAddress data\n",
      "Merging Dataframes...\n",
      "LTC data successfully pulled\n",
      "\n",
      "Start Pulling AAVE's data:\n",
      "Pulling AAVE's Price data\n",
      "Pulling AAVE's MarketCap data\n",
      "Pulling AAVE's TransactionCount data\n",
      "Pulling AAVE's ActiveAddress data\n",
      "Merging Dataframes...\n",
      "AAVE data successfully pulled\n",
      "\n",
      "Start Pulling ABT's data:\n",
      "Pulling ABT's Price data\n",
      "Pulling ABT's MarketCap data\n",
      "Pulling ABT's TransactionCount data\n",
      "Pulling ABT's ActiveAddress data\n",
      "Merging Dataframes...\n",
      "ABT data successfully pulled\n",
      "\n",
      "Start Pulling AMPL's data:\n",
      "Pulling AMPL's Price data\n",
      "Pulling AMPL's MarketCap data\n",
      "Pulling AMPL's TransactionCount data\n",
      "Pulling AMPL's ActiveAddress data\n",
      "Merging Dataframes...\n",
      "AMPL data successfully pulled\n",
      "\n",
      "Start Pulling ANT's data:\n",
      "Pulling ANT's Price data\n",
      "Pulling ANT's MarketCap data\n",
      "Pulling ANT's TransactionCount data\n",
      "Pulling ANT's ActiveAddress data\n",
      "Merging Dataframes...\n",
      "ANT data successfully pulled\n",
      "\n",
      "Start Pulling ARMOR's data:\n",
      "Pulling ARMOR's Price data\n",
      "Pulling ARMOR's MarketCap data\n",
      "Pulling ARMOR's TransactionCount data\n",
      "Pulling ARMOR's ActiveAddress data\n",
      "Merging Dataframes...\n",
      "ARMOR data successfully pulled\n",
      "\n",
      "Start Pulling BADGER's data:\n",
      "Pulling BADGER's Price data\n",
      "Pulling BADGER's MarketCap data\n",
      "Pulling BADGER's TransactionCount data\n",
      "Pulling BADGER's ActiveAddress data\n",
      "Merging Dataframes...\n",
      "BADGER data successfully pulled\n",
      "\n",
      "Start Pulling BAL's data:\n",
      "Pulling BAL's Price data\n",
      "Pulling BAL's MarketCap data\n",
      "Pulling BAL's TransactionCount data\n",
      "Pulling BAL's ActiveAddress data\n",
      "Merging Dataframes...\n",
      "BAL data successfully pulled\n",
      "\n",
      "\n",
      "ALL DATA SUCCESSFULLY PULLED!\n"
     ]
    }
   ],
   "source": [
    "### Get all features(listed in endPoints) of all coins(listed in symbolListShort) \n",
    "\n",
    "from functools import reduce\n",
    "\n",
    "for i in symbolListShort:\n",
    "    print(f\"Start Pulling {i}'s data:\")\n",
    "\n",
    "    # Preparation for merging\n",
    "    frameName = f\"{i}_Frames\"\n",
    "    locals()[frameName] = []\n",
    "\n",
    "    # Get data\n",
    "    for j in list(endPoints.keys()):\n",
    "        locals()[frameName].append(PullData(i, j))\n",
    "\n",
    "    # Merge to single dataframe\n",
    "    print('Merging Dataframes...')\n",
    "    dfName = f\"{i}_All\"\n",
    "    # change merge method to outer to ensure not missing any values.\n",
    "    locals()[dfName] = reduce(lambda  left,right: pd.merge(left,right, on='Date', how='outer'), locals()[frameName]) \n",
    "    \n",
    "    # change merege method to left, to ensure all the records in api stored.\n",
    "    locals()[dfName] = locals()[dfName].merge(Risk_free_rate,how = 'left',on='Date').sort_values(by=['Date'])\n",
    "\n",
    "    print(f\"{i} data successfully pulled\\n\")\n",
    "print('\\nALL DATA SUCCESSFULLY PULLED!')"
   ]
  },
  {
   "cell_type": "markdown",
   "metadata": {},
   "source": [
    "## <font color='red'> Imputation for NA values for other attributes-- to be resolved"
   ]
  },
  {
   "cell_type": "code",
   "execution_count": null,
   "metadata": {},
   "outputs": [],
   "source": [
    "### impute with mean for risk free rate ###\n",
    "\n"
   ]
  },
  {
   "cell_type": "code",
   "execution_count": null,
   "metadata": {},
   "outputs": [],
   "source": []
  },
  {
   "cell_type": "code",
   "execution_count": null,
   "metadata": {},
   "outputs": [],
   "source": []
  },
  {
   "cell_type": "markdown",
   "metadata": {},
   "source": [
    "## Calculate the return - Now only pick lastest 52 records for testing"
   ]
  },
  {
   "cell_type": "code",
   "execution_count": 196,
   "metadata": {},
   "outputs": [],
   "source": [
    "nainfo = pd.DataFrame(index=LTC_All.columns.values)  #can be improved\n",
    "\n",
    "for i in symbolListShort:\n",
    "     \n",
    "    dfName = f\"{i}_All\" \n",
    "\n",
    "    temp = locals()[dfName][-53:-1].reset_index()\n",
    "    \n",
    "    locals()[dfName] = locals()[dfName][-52:].reset_index()   \n",
    "    \n",
    "    natemp = locals()[dfName].isnull().sum().to_frame(name= i)\n",
    "    \n",
    "    #nainfo pick all the na values\n",
    "    nainfo = nainfo.join(natemp)  #can be removed, just for data checking purpose\n",
    "    \n",
    "    \n",
    "    locals()[dfName]['Return'] = (locals()[dfName]['Price'] - temp['Price'])/temp['Price']\n",
    "    \n"
   ]
  },
  {
   "cell_type": "code",
   "execution_count": 197,
   "metadata": {},
   "outputs": [
    {
     "data": {
      "text/html": [
       "<div>\n",
       "<style scoped>\n",
       "    .dataframe tbody tr th:only-of-type {\n",
       "        vertical-align: middle;\n",
       "    }\n",
       "\n",
       "    .dataframe tbody tr th {\n",
       "        vertical-align: top;\n",
       "    }\n",
       "\n",
       "    .dataframe thead th {\n",
       "        text-align: right;\n",
       "    }\n",
       "</style>\n",
       "<table border=\"1\" class=\"dataframe\">\n",
       "  <thead>\n",
       "    <tr style=\"text-align: right;\">\n",
       "      <th></th>\n",
       "      <th>index</th>\n",
       "      <th>Date</th>\n",
       "      <th>Price</th>\n",
       "      <th>MarketCap</th>\n",
       "      <th>TransactionCount</th>\n",
       "      <th>ActiveAddress</th>\n",
       "      <th>RiskFree</th>\n",
       "      <th>Return</th>\n",
       "    </tr>\n",
       "  </thead>\n",
       "  <tbody>\n",
       "    <tr>\n",
       "      <th>0</th>\n",
       "      <td>30</td>\n",
       "      <td>2021-04-26</td>\n",
       "      <td>483.109487</td>\n",
       "      <td>6.033093e+09</td>\n",
       "      <td>0</td>\n",
       "      <td>4294</td>\n",
       "      <td>0.0002</td>\n",
       "      <td>0.393008</td>\n",
       "    </tr>\n",
       "    <tr>\n",
       "      <th>1</th>\n",
       "      <td>31</td>\n",
       "      <td>2021-05-03</td>\n",
       "      <td>459.310213</td>\n",
       "      <td>5.735887e+09</td>\n",
       "      <td>0</td>\n",
       "      <td>9738</td>\n",
       "      <td>0.0002</td>\n",
       "      <td>-0.049263</td>\n",
       "    </tr>\n",
       "    <tr>\n",
       "      <th>2</th>\n",
       "      <td>32</td>\n",
       "      <td>2021-05-10</td>\n",
       "      <td>525.296787</td>\n",
       "      <td>6.648981e+09</td>\n",
       "      <td>0</td>\n",
       "      <td>10036</td>\n",
       "      <td>0.0002</td>\n",
       "      <td>0.143665</td>\n",
       "    </tr>\n",
       "    <tr>\n",
       "      <th>3</th>\n",
       "      <td>33</td>\n",
       "      <td>2021-05-17</td>\n",
       "      <td>296.307038</td>\n",
       "      <td>3.779533e+09</td>\n",
       "      <td>0</td>\n",
       "      <td>12152</td>\n",
       "      <td>0.0000</td>\n",
       "      <td>-0.435925</td>\n",
       "    </tr>\n",
       "    <tr>\n",
       "      <th>4</th>\n",
       "      <td>34</td>\n",
       "      <td>2021-05-24</td>\n",
       "      <td>324.282384</td>\n",
       "      <td>4.141262e+09</td>\n",
       "      <td>0</td>\n",
       "      <td>11055</td>\n",
       "      <td>0.0001</td>\n",
       "      <td>0.094413</td>\n",
       "    </tr>\n",
       "  </tbody>\n",
       "</table>\n",
       "</div>"
      ],
      "text/plain": [
       "   index       Date       Price     MarketCap  TransactionCount  \\\n",
       "0     30 2021-04-26  483.109487  6.033093e+09                 0   \n",
       "1     31 2021-05-03  459.310213  5.735887e+09                 0   \n",
       "2     32 2021-05-10  525.296787  6.648981e+09                 0   \n",
       "3     33 2021-05-17  296.307038  3.779533e+09                 0   \n",
       "4     34 2021-05-24  324.282384  4.141262e+09                 0   \n",
       "\n",
       "   ActiveAddress  RiskFree    Return  \n",
       "0           4294    0.0002  0.393008  \n",
       "1           9738    0.0002 -0.049263  \n",
       "2          10036    0.0002  0.143665  \n",
       "3          12152    0.0000 -0.435925  \n",
       "4          11055    0.0001  0.094413  "
      ]
     },
     "execution_count": 197,
     "metadata": {},
     "output_type": "execute_result"
    }
   ],
   "source": [
    "AAVE_All.head()"
   ]
  },
  {
   "cell_type": "code",
   "execution_count": 198,
   "metadata": {},
   "outputs": [
    {
     "data": {
      "text/plain": [
       "index               0\n",
       "Date                0\n",
       "Price               0\n",
       "MarketCap           0\n",
       "TransactionCount    0\n",
       "ActiveAddress       0\n",
       "RiskFree            0\n",
       "Return              0\n",
       "dtype: int64"
      ]
     },
     "execution_count": 198,
     "metadata": {},
     "output_type": "execute_result"
    }
   ],
   "source": [
    "AAVE_All.isnull().sum()"
   ]
  },
  {
   "cell_type": "markdown",
   "metadata": {},
   "source": [
    "## Create two sample groups: Full Sample vs Large Cap sample(maket cap > 1m and top 100)\n",
    "There are two groups of smaple: LaregeCapSample vs Full sample\n",
    "<br>LargeCapSample : MaketCap > 1m and Capitalization ranked at top 100"
   ]
  },
  {
   "cell_type": "code",
   "execution_count": 200,
   "metadata": {},
   "outputs": [],
   "source": [
    "## find market portfolio\n",
    "\n",
    "markdf = pd.DataFrame(columns = LTC_All.columns.values)  # can be improved\n",
    "fullsample = pd.DataFrame(columns = LTC_All.columns.values)\n",
    "markdf['Asset'] = ''\n",
    "fullsample['Asset'] = ''\n",
    "\n",
    "## step 1: pick all maket cap > 10000\n",
    "for i in symbolListShort:\n",
    "     \n",
    "    dfName = f\"{i}_All\" \n",
    "    \n",
    "    ## find all date with MarketCap greater than 10000\n",
    "    mkttemp = locals()[dfName].query(\"MarketCap > 1000000\")\n",
    "    mkttemp['Asset'] = i\n",
    "    markdf = markdf.append(mkttemp)\n",
    "        \n",
    "    fulltemp = locals()[dfName].query(\"MarketCap > 0.001\")\n",
    "    fulltemp['Asset'] = i    \n",
    "    fullsample = fullsample.append(fulltemp)\n",
    "\n",
    "## sort all the market cap and pick top 100\n",
    "largeCapSample = markdf.groupby(['Date']).apply(lambda x: x.nlargest(100,['MarketCap'])).reset_index(drop=True)\n",
    "\n"
   ]
  },
  {
   "cell_type": "code",
   "execution_count": 201,
   "metadata": {},
   "outputs": [
    {
     "data": {
      "text/html": [
       "<div>\n",
       "<style scoped>\n",
       "    .dataframe tbody tr th:only-of-type {\n",
       "        vertical-align: middle;\n",
       "    }\n",
       "\n",
       "    .dataframe tbody tr th {\n",
       "        vertical-align: top;\n",
       "    }\n",
       "\n",
       "    .dataframe thead th {\n",
       "        text-align: right;\n",
       "    }\n",
       "</style>\n",
       "<table border=\"1\" class=\"dataframe\">\n",
       "  <thead>\n",
       "    <tr style=\"text-align: right;\">\n",
       "      <th></th>\n",
       "      <th>index</th>\n",
       "      <th>Date</th>\n",
       "      <th>Price</th>\n",
       "      <th>MarketCap</th>\n",
       "      <th>TransactionCount</th>\n",
       "      <th>ActiveAddress</th>\n",
       "      <th>RiskFree</th>\n",
       "      <th>Return</th>\n",
       "      <th>Asset</th>\n",
       "    </tr>\n",
       "  </thead>\n",
       "  <tbody>\n",
       "    <tr>\n",
       "      <th>0</th>\n",
       "      <td>563</td>\n",
       "      <td>2021-04-26</td>\n",
       "      <td>56613.202648</td>\n",
       "      <td>1.058532e+12</td>\n",
       "      <td>1861992.0</td>\n",
       "      <td>5778871</td>\n",
       "      <td>0.0002</td>\n",
       "      <td>0.154432</td>\n",
       "      <td>BTC</td>\n",
       "    </tr>\n",
       "    <tr>\n",
       "      <th>1</th>\n",
       "      <td>564</td>\n",
       "      <td>2021-05-03</td>\n",
       "      <td>58218.566077</td>\n",
       "      <td>1.088991e+12</td>\n",
       "      <td>2038316.0</td>\n",
       "      <td>6622607</td>\n",
       "      <td>0.0002</td>\n",
       "      <td>0.028357</td>\n",
       "      <td>BTC</td>\n",
       "    </tr>\n",
       "    <tr>\n",
       "      <th>2</th>\n",
       "      <td>565</td>\n",
       "      <td>2021-05-10</td>\n",
       "      <td>46406.331544</td>\n",
       "      <td>8.683518e+11</td>\n",
       "      <td>1908851.0</td>\n",
       "      <td>6062366</td>\n",
       "      <td>0.0002</td>\n",
       "      <td>-0.202895</td>\n",
       "      <td>BTC</td>\n",
       "    </tr>\n",
       "    <tr>\n",
       "      <th>3</th>\n",
       "      <td>566</td>\n",
       "      <td>2021-05-17</td>\n",
       "      <td>34888.678313</td>\n",
       "      <td>6.530094e+11</td>\n",
       "      <td>1607054.0</td>\n",
       "      <td>4960283</td>\n",
       "      <td>0.0000</td>\n",
       "      <td>-0.248191</td>\n",
       "      <td>BTC</td>\n",
       "    </tr>\n",
       "    <tr>\n",
       "      <th>4</th>\n",
       "      <td>567</td>\n",
       "      <td>2021-05-24</td>\n",
       "      <td>35639.981455</td>\n",
       "      <td>6.672647e+11</td>\n",
       "      <td>1508758.0</td>\n",
       "      <td>4981835</td>\n",
       "      <td>0.0001</td>\n",
       "      <td>0.021534</td>\n",
       "      <td>BTC</td>\n",
       "    </tr>\n",
       "  </tbody>\n",
       "</table>\n",
       "</div>"
      ],
      "text/plain": [
       "  index       Date         Price     MarketCap  TransactionCount  \\\n",
       "0   563 2021-04-26  56613.202648  1.058532e+12         1861992.0   \n",
       "1   564 2021-05-03  58218.566077  1.088991e+12         2038316.0   \n",
       "2   565 2021-05-10  46406.331544  8.683518e+11         1908851.0   \n",
       "3   566 2021-05-17  34888.678313  6.530094e+11         1607054.0   \n",
       "4   567 2021-05-24  35639.981455  6.672647e+11         1508758.0   \n",
       "\n",
       "  ActiveAddress  RiskFree    Return Asset  \n",
       "0       5778871    0.0002  0.154432   BTC  \n",
       "1       6622607    0.0002  0.028357   BTC  \n",
       "2       6062366    0.0002 -0.202895   BTC  \n",
       "3       4960283    0.0000 -0.248191   BTC  \n",
       "4       4981835    0.0001  0.021534   BTC  "
      ]
     },
     "execution_count": 201,
     "metadata": {},
     "output_type": "execute_result"
    }
   ],
   "source": [
    "fullsample.head()"
   ]
  },
  {
   "cell_type": "code",
   "execution_count": 202,
   "metadata": {},
   "outputs": [
    {
     "data": {
      "text/html": [
       "<div>\n",
       "<style scoped>\n",
       "    .dataframe tbody tr th:only-of-type {\n",
       "        vertical-align: middle;\n",
       "    }\n",
       "\n",
       "    .dataframe tbody tr th {\n",
       "        vertical-align: top;\n",
       "    }\n",
       "\n",
       "    .dataframe thead th {\n",
       "        text-align: right;\n",
       "    }\n",
       "</style>\n",
       "<table border=\"1\" class=\"dataframe\">\n",
       "  <thead>\n",
       "    <tr style=\"text-align: right;\">\n",
       "      <th></th>\n",
       "      <th>index</th>\n",
       "      <th>Date</th>\n",
       "      <th>Price</th>\n",
       "      <th>MarketCap</th>\n",
       "      <th>TransactionCount</th>\n",
       "      <th>ActiveAddress</th>\n",
       "      <th>RiskFree</th>\n",
       "      <th>Return</th>\n",
       "      <th>Asset</th>\n",
       "    </tr>\n",
       "  </thead>\n",
       "  <tbody>\n",
       "    <tr>\n",
       "      <th>0</th>\n",
       "      <td>563</td>\n",
       "      <td>2021-04-26</td>\n",
       "      <td>56613.202648</td>\n",
       "      <td>1.058532e+12</td>\n",
       "      <td>1861992.0</td>\n",
       "      <td>5778871</td>\n",
       "      <td>0.0002</td>\n",
       "      <td>0.154432</td>\n",
       "      <td>BTC</td>\n",
       "    </tr>\n",
       "    <tr>\n",
       "      <th>1</th>\n",
       "      <td>299</td>\n",
       "      <td>2021-04-26</td>\n",
       "      <td>2952.509999</td>\n",
       "      <td>3.416486e+11</td>\n",
       "      <td>9864476.0</td>\n",
       "      <td>1185768</td>\n",
       "      <td>0.0002</td>\n",
       "      <td>0.276095</td>\n",
       "      <td>ETH</td>\n",
       "    </tr>\n",
       "    <tr>\n",
       "      <th>2</th>\n",
       "      <td>415</td>\n",
       "      <td>2021-04-26</td>\n",
       "      <td>269.060433</td>\n",
       "      <td>1.817989e+10</td>\n",
       "      <td>777669.0</td>\n",
       "      <td>1261380</td>\n",
       "      <td>0.0002</td>\n",
       "      <td>0.201887</td>\n",
       "      <td>LTC</td>\n",
       "    </tr>\n",
       "    <tr>\n",
       "      <th>3</th>\n",
       "      <td>30</td>\n",
       "      <td>2021-04-26</td>\n",
       "      <td>483.109487</td>\n",
       "      <td>6.033093e+09</td>\n",
       "      <td>0.0</td>\n",
       "      <td>4294</td>\n",
       "      <td>0.0002</td>\n",
       "      <td>0.393008</td>\n",
       "      <td>AAVE</td>\n",
       "    </tr>\n",
       "    <tr>\n",
       "      <th>4</th>\n",
       "      <td>44</td>\n",
       "      <td>2021-04-26</td>\n",
       "      <td>61.357531</td>\n",
       "      <td>4.260563e+08</td>\n",
       "      <td>0.0</td>\n",
       "      <td>1380</td>\n",
       "      <td>0.0002</td>\n",
       "      <td>0.282477</td>\n",
       "      <td>BAL</td>\n",
       "    </tr>\n",
       "  </tbody>\n",
       "</table>\n",
       "</div>"
      ],
      "text/plain": [
       "  index       Date         Price     MarketCap  TransactionCount  \\\n",
       "0   563 2021-04-26  56613.202648  1.058532e+12         1861992.0   \n",
       "1   299 2021-04-26   2952.509999  3.416486e+11         9864476.0   \n",
       "2   415 2021-04-26    269.060433  1.817989e+10          777669.0   \n",
       "3    30 2021-04-26    483.109487  6.033093e+09               0.0   \n",
       "4    44 2021-04-26     61.357531  4.260563e+08               0.0   \n",
       "\n",
       "  ActiveAddress  RiskFree    Return Asset  \n",
       "0       5778871    0.0002  0.154432   BTC  \n",
       "1       1185768    0.0002  0.276095   ETH  \n",
       "2       1261380    0.0002  0.201887   LTC  \n",
       "3          4294    0.0002  0.393008  AAVE  \n",
       "4          1380    0.0002  0.282477   BAL  "
      ]
     },
     "execution_count": 202,
     "metadata": {},
     "output_type": "execute_result"
    }
   ],
   "source": [
    "largeCapSample.head()"
   ]
  },
  {
   "cell_type": "markdown",
   "metadata": {},
   "source": [
    "## Calculate MKT for each week"
   ]
  },
  {
   "cell_type": "code",
   "execution_count": 203,
   "metadata": {},
   "outputs": [],
   "source": [
    "## markdf is a big dataframe include all crypto currencies makcap greater than 1000000\n",
    "marketport = largeCapSample.groupby('Date')['MarketCap'].sum().reset_index(name='TotalMarketCap')\n",
    "\n",
    "marketInd = markdf.copy()\n",
    "marketInd['weights'] = marketInd['Return'] * marketInd['MarketCap']\n",
    "recomp = marketInd.groupby('Date')['weights'].sum().reset_index(name='TotalMarketReturn')\n",
    "marketport['MarketIndexReturn'] = recomp['TotalMarketReturn']/ marketport['TotalMarketCap']"
   ]
  },
  {
   "cell_type": "code",
   "execution_count": 204,
   "metadata": {},
   "outputs": [],
   "source": [
    "marketport = marketport.merge(Risk_free_rate, on='Date')\n",
    "marketport['MKT'] = marketport['MarketIndexReturn'] - marketport['RiskFree']\n",
    "MKT_f = marketport[['Date','MKT']]"
   ]
  },
  {
   "cell_type": "code",
   "execution_count": 205,
   "metadata": {},
   "outputs": [
    {
     "data": {
      "text/html": [
       "<div>\n",
       "<style scoped>\n",
       "    .dataframe tbody tr th:only-of-type {\n",
       "        vertical-align: middle;\n",
       "    }\n",
       "\n",
       "    .dataframe tbody tr th {\n",
       "        vertical-align: top;\n",
       "    }\n",
       "\n",
       "    .dataframe thead th {\n",
       "        text-align: right;\n",
       "    }\n",
       "</style>\n",
       "<table border=\"1\" class=\"dataframe\">\n",
       "  <thead>\n",
       "    <tr style=\"text-align: right;\">\n",
       "      <th></th>\n",
       "      <th>Date</th>\n",
       "      <th>MKT</th>\n",
       "    </tr>\n",
       "  </thead>\n",
       "  <tbody>\n",
       "    <tr>\n",
       "      <th>0</th>\n",
       "      <td>2021-04-26</td>\n",
       "      <td>0.185075</td>\n",
       "    </tr>\n",
       "    <tr>\n",
       "      <th>1</th>\n",
       "      <td>2021-05-03</td>\n",
       "      <td>0.122218</td>\n",
       "    </tr>\n",
       "    <tr>\n",
       "      <th>2</th>\n",
       "      <td>2021-05-10</td>\n",
       "      <td>-0.165735</td>\n",
       "    </tr>\n",
       "    <tr>\n",
       "      <th>3</th>\n",
       "      <td>2021-05-17</td>\n",
       "      <td>-0.295232</td>\n",
       "    </tr>\n",
       "    <tr>\n",
       "      <th>4</th>\n",
       "      <td>2021-05-24</td>\n",
       "      <td>0.054651</td>\n",
       "    </tr>\n",
       "  </tbody>\n",
       "</table>\n",
       "</div>"
      ],
      "text/plain": [
       "        Date       MKT\n",
       "0 2021-04-26  0.185075\n",
       "1 2021-05-03  0.122218\n",
       "2 2021-05-10 -0.165735\n",
       "3 2021-05-17 -0.295232\n",
       "4 2021-05-24  0.054651"
      ]
     },
     "execution_count": 205,
     "metadata": {},
     "output_type": "execute_result"
    }
   ],
   "source": [
    "MKT_f.head()"
   ]
  },
  {
   "cell_type": "code",
   "execution_count": 54,
   "metadata": {},
   "outputs": [
    {
     "data": {
      "text/html": [
       "<div>\n",
       "<style scoped>\n",
       "    .dataframe tbody tr th:only-of-type {\n",
       "        vertical-align: middle;\n",
       "    }\n",
       "\n",
       "    .dataframe tbody tr th {\n",
       "        vertical-align: top;\n",
       "    }\n",
       "\n",
       "    .dataframe thead th {\n",
       "        text-align: right;\n",
       "    }\n",
       "</style>\n",
       "<table border=\"1\" class=\"dataframe\">\n",
       "  <thead>\n",
       "    <tr style=\"text-align: right;\">\n",
       "      <th></th>\n",
       "      <th>index</th>\n",
       "      <th>Date</th>\n",
       "      <th>Price</th>\n",
       "      <th>MarketCap</th>\n",
       "      <th>TransactionCount</th>\n",
       "      <th>ActiveAddress</th>\n",
       "      <th>RiskFree</th>\n",
       "      <th>Return</th>\n",
       "      <th>Asset</th>\n",
       "    </tr>\n",
       "  </thead>\n",
       "  <tbody>\n",
       "    <tr>\n",
       "      <th>0</th>\n",
       "      <td>563</td>\n",
       "      <td>2021-04-26</td>\n",
       "      <td>56613.202648</td>\n",
       "      <td>1.058532e+12</td>\n",
       "      <td>1861992.0</td>\n",
       "      <td>5778871</td>\n",
       "      <td>0.0002</td>\n",
       "      <td>0.154432</td>\n",
       "      <td>BTC</td>\n",
       "    </tr>\n",
       "    <tr>\n",
       "      <th>1</th>\n",
       "      <td>564</td>\n",
       "      <td>2021-05-03</td>\n",
       "      <td>58218.566077</td>\n",
       "      <td>1.088991e+12</td>\n",
       "      <td>2038316.0</td>\n",
       "      <td>6622607</td>\n",
       "      <td>0.0002</td>\n",
       "      <td>0.028357</td>\n",
       "      <td>BTC</td>\n",
       "    </tr>\n",
       "    <tr>\n",
       "      <th>2</th>\n",
       "      <td>565</td>\n",
       "      <td>2021-05-10</td>\n",
       "      <td>46406.331544</td>\n",
       "      <td>8.683518e+11</td>\n",
       "      <td>1908851.0</td>\n",
       "      <td>6062366</td>\n",
       "      <td>0.0002</td>\n",
       "      <td>-0.202895</td>\n",
       "      <td>BTC</td>\n",
       "    </tr>\n",
       "    <tr>\n",
       "      <th>3</th>\n",
       "      <td>566</td>\n",
       "      <td>2021-05-17</td>\n",
       "      <td>34888.678313</td>\n",
       "      <td>6.530094e+11</td>\n",
       "      <td>1607054.0</td>\n",
       "      <td>4960283</td>\n",
       "      <td>0.0000</td>\n",
       "      <td>-0.248191</td>\n",
       "      <td>BTC</td>\n",
       "    </tr>\n",
       "    <tr>\n",
       "      <th>4</th>\n",
       "      <td>567</td>\n",
       "      <td>2021-05-24</td>\n",
       "      <td>35639.981455</td>\n",
       "      <td>6.672647e+11</td>\n",
       "      <td>1508758.0</td>\n",
       "      <td>4981835</td>\n",
       "      <td>0.0001</td>\n",
       "      <td>0.021534</td>\n",
       "      <td>BTC</td>\n",
       "    </tr>\n",
       "  </tbody>\n",
       "</table>\n",
       "</div>"
      ],
      "text/plain": [
       "  index       Date         Price     MarketCap  TransactionCount  \\\n",
       "0   563 2021-04-26  56613.202648  1.058532e+12         1861992.0   \n",
       "1   564 2021-05-03  58218.566077  1.088991e+12         2038316.0   \n",
       "2   565 2021-05-10  46406.331544  8.683518e+11         1908851.0   \n",
       "3   566 2021-05-17  34888.678313  6.530094e+11         1607054.0   \n",
       "4   567 2021-05-24  35639.981455  6.672647e+11         1508758.0   \n",
       "\n",
       "  ActiveAddress  RiskFree    Return Asset  \n",
       "0       5778871    0.0002  0.154432   BTC  \n",
       "1       6622607    0.0002  0.028357   BTC  \n",
       "2       6062366    0.0002 -0.202895   BTC  \n",
       "3       4960283    0.0000 -0.248191   BTC  \n",
       "4       4981835    0.0001  0.021534   BTC  "
      ]
     },
     "execution_count": 54,
     "metadata": {},
     "output_type": "execute_result"
    }
   ],
   "source": [
    "fullsample.head()"
   ]
  },
  {
   "cell_type": "markdown",
   "metadata": {},
   "source": [
    "## Calculate Size - currently use full sample"
   ]
  },
  {
   "cell_type": "code",
   "execution_count": 206,
   "metadata": {},
   "outputs": [],
   "source": [
    "makcapAll = fullsample.loc[:,['Date', 'MarketCap', 'Asset']].pivot(index=\"Asset\", \n",
    "                                                                   columns=[\"Date\"], values='MarketCap')\n",
    "datestamp = makcapAll.columns.tolist()"
   ]
  },
  {
   "cell_type": "code",
   "execution_count": 207,
   "metadata": {},
   "outputs": [],
   "source": [
    "# get the average value for the bottom 20 percentile (smallcap) and top 20 percentile(largecap)\n",
    "datestamp = makcapAll.columns.tolist()\n",
    "smallcap = {}\n",
    "largecap = {}\n",
    "for i in datestamp:\n",
    "    smallcap[i] = makcapAll[i].sort_values().head(round(0.2*len(makcapAll))).mean()\n",
    "    largecap[i] = makcapAll[i].sort_values().tail(round(0.2*len(makcapAll))).mean()"
   ]
  },
  {
   "cell_type": "code",
   "execution_count": 208,
   "metadata": {},
   "outputs": [
    {
     "data": {
      "text/html": [
       "<div>\n",
       "<style scoped>\n",
       "    .dataframe tbody tr th:only-of-type {\n",
       "        vertical-align: middle;\n",
       "    }\n",
       "\n",
       "    .dataframe tbody tr th {\n",
       "        vertical-align: top;\n",
       "    }\n",
       "\n",
       "    .dataframe thead th {\n",
       "        text-align: right;\n",
       "    }\n",
       "</style>\n",
       "<table border=\"1\" class=\"dataframe\">\n",
       "  <thead>\n",
       "    <tr style=\"text-align: right;\">\n",
       "      <th></th>\n",
       "      <th>Date</th>\n",
       "      <th>SMB-Large</th>\n",
       "      <th>SMB</th>\n",
       "    </tr>\n",
       "  </thead>\n",
       "  <tbody>\n",
       "    <tr>\n",
       "      <th>0</th>\n",
       "      <td>2021-04-26</td>\n",
       "      <td>7.000905e+11</td>\n",
       "      <td>7.000565e+11</td>\n",
       "    </tr>\n",
       "    <tr>\n",
       "      <th>1</th>\n",
       "      <td>2021-05-03</td>\n",
       "      <td>7.721968e+11</td>\n",
       "      <td>7.721583e+11</td>\n",
       "    </tr>\n",
       "    <tr>\n",
       "      <th>2</th>\n",
       "      <td>2021-05-10</td>\n",
       "      <td>6.417785e+11</td>\n",
       "      <td>6.417464e+11</td>\n",
       "    </tr>\n",
       "    <tr>\n",
       "      <th>3</th>\n",
       "      <td>2021-05-17</td>\n",
       "      <td>4.492845e+11</td>\n",
       "      <td>4.492639e+11</td>\n",
       "    </tr>\n",
       "    <tr>\n",
       "      <th>4</th>\n",
       "      <td>2021-05-24</td>\n",
       "      <td>4.722775e+11</td>\n",
       "      <td>4.722516e+11</td>\n",
       "    </tr>\n",
       "  </tbody>\n",
       "</table>\n",
       "</div>"
      ],
      "text/plain": [
       "        Date     SMB-Large           SMB\n",
       "0 2021-04-26  7.000905e+11  7.000565e+11\n",
       "1 2021-05-03  7.721968e+11  7.721583e+11\n",
       "2 2021-05-10  6.417785e+11  6.417464e+11\n",
       "3 2021-05-17  4.492845e+11  4.492639e+11\n",
       "4 2021-05-24  4.722775e+11  4.722516e+11"
      ]
     },
     "execution_count": 208,
     "metadata": {},
     "output_type": "execute_result"
    }
   ],
   "source": [
    "smallcapdf = pd.DataFrame(list(smallcap.items()), columns=['Date','SMB-Small']).sort_values('Date')\n",
    "smb_f = pd.DataFrame(list(largecap.items()), columns=['Date','SMB-Large']).sort_values('Date')\n",
    "smb_f['SMB'] = smb_f['SMB-Large'] - smallcapdf['SMB-Small']\n",
    "smb_f.head()"
   ]
  },
  {
   "cell_type": "markdown",
   "metadata": {},
   "source": [
    "## MKT_SMB Factors Regression Test"
   ]
  },
  {
   "cell_type": "code",
   "execution_count": 209,
   "metadata": {},
   "outputs": [],
   "source": [
    "mkt_smb = MKT_f.merge(smb_f, on = 'Date', how = 'outer')"
   ]
  },
  {
   "cell_type": "code",
   "execution_count": 210,
   "metadata": {},
   "outputs": [],
   "source": [
    "ltc_reg = LTC_All[['Date','RiskFree','Return']]\n",
    "ltc_reg = ltc_reg.merge(mkt_smb, on = 'Date', how = 'outer')"
   ]
  },
  {
   "cell_type": "code",
   "execution_count": 211,
   "metadata": {},
   "outputs": [
    {
     "data": {
      "text/html": [
       "<div>\n",
       "<style scoped>\n",
       "    .dataframe tbody tr th:only-of-type {\n",
       "        vertical-align: middle;\n",
       "    }\n",
       "\n",
       "    .dataframe tbody tr th {\n",
       "        vertical-align: top;\n",
       "    }\n",
       "\n",
       "    .dataframe thead th {\n",
       "        text-align: right;\n",
       "    }\n",
       "</style>\n",
       "<table border=\"1\" class=\"dataframe\">\n",
       "  <thead>\n",
       "    <tr style=\"text-align: right;\">\n",
       "      <th></th>\n",
       "      <th>Date</th>\n",
       "      <th>RiskFree</th>\n",
       "      <th>Return</th>\n",
       "      <th>MKT</th>\n",
       "      <th>SMB-Large</th>\n",
       "      <th>SMB</th>\n",
       "    </tr>\n",
       "  </thead>\n",
       "  <tbody>\n",
       "    <tr>\n",
       "      <th>0</th>\n",
       "      <td>2021-04-26</td>\n",
       "      <td>0.0002</td>\n",
       "      <td>0.201887</td>\n",
       "      <td>0.185075</td>\n",
       "      <td>7.000905e+11</td>\n",
       "      <td>7.000565e+11</td>\n",
       "    </tr>\n",
       "    <tr>\n",
       "      <th>1</th>\n",
       "      <td>2021-05-03</td>\n",
       "      <td>0.0002</td>\n",
       "      <td>0.433524</td>\n",
       "      <td>0.122218</td>\n",
       "      <td>7.721968e+11</td>\n",
       "      <td>7.721583e+11</td>\n",
       "    </tr>\n",
       "    <tr>\n",
       "      <th>2</th>\n",
       "      <td>2021-05-10</td>\n",
       "      <td>0.0002</td>\n",
       "      <td>-0.231293</td>\n",
       "      <td>-0.165735</td>\n",
       "      <td>6.417785e+11</td>\n",
       "      <td>6.417464e+11</td>\n",
       "    </tr>\n",
       "    <tr>\n",
       "      <th>3</th>\n",
       "      <td>2021-05-17</td>\n",
       "      <td>0.0000</td>\n",
       "      <td>-0.513065</td>\n",
       "      <td>-0.295232</td>\n",
       "      <td>4.492845e+11</td>\n",
       "      <td>4.492639e+11</td>\n",
       "    </tr>\n",
       "    <tr>\n",
       "      <th>4</th>\n",
       "      <td>2021-05-24</td>\n",
       "      <td>0.0001</td>\n",
       "      <td>0.183915</td>\n",
       "      <td>0.054651</td>\n",
       "      <td>4.722775e+11</td>\n",
       "      <td>4.722516e+11</td>\n",
       "    </tr>\n",
       "  </tbody>\n",
       "</table>\n",
       "</div>"
      ],
      "text/plain": [
       "        Date  RiskFree    Return       MKT     SMB-Large           SMB\n",
       "0 2021-04-26    0.0002  0.201887  0.185075  7.000905e+11  7.000565e+11\n",
       "1 2021-05-03    0.0002  0.433524  0.122218  7.721968e+11  7.721583e+11\n",
       "2 2021-05-10    0.0002 -0.231293 -0.165735  6.417785e+11  6.417464e+11\n",
       "3 2021-05-17    0.0000 -0.513065 -0.295232  4.492845e+11  4.492639e+11\n",
       "4 2021-05-24    0.0001  0.183915  0.054651  4.722775e+11  4.722516e+11"
      ]
     },
     "execution_count": 211,
     "metadata": {},
     "output_type": "execute_result"
    }
   ],
   "source": [
    "ltc_reg.head()"
   ]
  },
  {
   "cell_type": "code",
   "execution_count": 1,
   "metadata": {},
   "outputs": [],
   "source": [
    "###to be continue"
   ]
  },
  {
   "cell_type": "code",
   "execution_count": 99,
   "metadata": {},
   "outputs": [],
   "source": []
  },
  {
   "cell_type": "code",
   "execution_count": null,
   "metadata": {},
   "outputs": [],
   "source": []
  },
  {
   "cell_type": "code",
   "execution_count": null,
   "metadata": {},
   "outputs": [],
   "source": []
  },
  {
   "cell_type": "code",
   "execution_count": null,
   "metadata": {},
   "outputs": [],
   "source": []
  },
  {
   "cell_type": "code",
   "execution_count": null,
   "metadata": {},
   "outputs": [],
   "source": []
  },
  {
   "cell_type": "code",
   "execution_count": null,
   "metadata": {},
   "outputs": [],
   "source": []
  },
  {
   "cell_type": "code",
   "execution_count": null,
   "metadata": {},
   "outputs": [],
   "source": []
  },
  {
   "cell_type": "code",
   "execution_count": null,
   "metadata": {},
   "outputs": [],
   "source": []
  },
  {
   "cell_type": "markdown",
   "metadata": {},
   "source": [
    "## <font color='green'>Testing purpose : try to find the first date with available price"
   ]
  },
  {
   "cell_type": "code",
   "execution_count": 89,
   "metadata": {},
   "outputs": [],
   "source": [
    "df = pd.DataFrame(columns = LTC_All.columns.values)\n",
    "df['Asset'] = ''\n",
    "\n",
    "for i in symbolList:\n",
    "    \n",
    " \n",
    "    dfName = f\"{i}_All\" \n",
    "    test=pd.DataFrame\n",
    "    df1 = locals()[dfName][locals()[dfName].Price.notnull()].iloc[0]\n",
    "    \n",
    "    df1['Asset'] = i\n",
    "    df=df.append(df1, ignore_index=True)\n",
    "\n",
    "    "
   ]
  },
  {
   "cell_type": "code",
   "execution_count": 90,
   "metadata": {},
   "outputs": [],
   "source": [
    "df.to_csv(\"firstavailable_price.csv\")"
   ]
  },
  {
   "cell_type": "code",
   "execution_count": 108,
   "metadata": {},
   "outputs": [],
   "source": [
    "new = df.sort_values(by=['Date'])"
   ]
  },
  {
   "cell_type": "code",
   "execution_count": 78,
   "metadata": {},
   "outputs": [
    {
     "data": {
      "text/plain": [
       "0        3.149100\n",
       "1        3.150000\n",
       "2        2.830000\n",
       "3        2.348333\n",
       "4        2.150000\n",
       "          ...    \n",
       "462    129.241438\n",
       "463    128.926292\n",
       "464    111.343007\n",
       "465    109.018201\n",
       "466    104.648982\n",
       "Name: Price, Length: 467, dtype: float64"
      ]
     },
     "execution_count": 78,
     "metadata": {},
     "output_type": "execute_result"
    }
   ],
   "source": [
    "LTC_All.Price.loc[~LTC_All.Price.isnull()]"
   ]
  },
  {
   "cell_type": "code",
   "execution_count": null,
   "metadata": {},
   "outputs": [],
   "source": []
  }
 ],
 "metadata": {
  "colab": {
   "name": "DataPullZ.ipynb",
   "provenance": []
  },
  "kernelspec": {
   "display_name": "Python 3 (ipykernel)",
   "language": "python",
   "name": "python3"
  },
  "language_info": {
   "codemirror_mode": {
    "name": "ipython",
    "version": 3
   },
   "file_extension": ".py",
   "mimetype": "text/x-python",
   "name": "python",
   "nbconvert_exporter": "python",
   "pygments_lexer": "ipython3",
   "version": "3.9.7"
  }
 },
 "nbformat": 4,
 "nbformat_minor": 1
}
