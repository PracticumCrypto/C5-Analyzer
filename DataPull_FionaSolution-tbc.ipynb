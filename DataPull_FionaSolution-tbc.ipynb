{
 "cells": [
  {
   "cell_type": "markdown",
   "metadata": {
    "id": "lh68fHXe8UTs"
   },
   "source": [
    "## Fixed Data:"
   ]
  },
  {
   "cell_type": "code",
   "execution_count": 2,
   "metadata": {
    "id": "xRHrfZma_zRz"
   },
   "outputs": [],
   "source": [
    "import json\n",
    "import requests\n",
    "import pandas as pd\n",
    "\n",
    "API_KEY = '1vGb0FOsg2hEIGrEhpueLCcWd1Y'\n",
    "\n",
    "rootUrl = 'https://api.glassnode.com'\n",
    "\n",
    "symbolList = ['BTC', 'ETH', 'LTC', 'AAVE', 'ABT', 'AMPL', 'ANT', 'ARMOR', 'BADGER', 'BAL', 'BAND', 'BAT', 'BIX', 'BNT', 'BOND', 'BRD', 'BUSD', 'BZRX', 'CELR', 'CHSB', 'CND', 'COMP', 'CREAM', 'CRO', 'CRV', 'CVC', 'CVP', 'DAI', 'DDX', 'DENT', 'DGX', 'DHT', 'DMG', 'DODO', 'DOUGH', 'DRGN', 'ELF', 'ENG', 'ENJ', 'EURS', 'FET', 'FTT', 'FUN', 'GNO', 'GUSD', 'HEGIC', 'HOT', 'HPT', 'HT', 'HUSD', 'INDEX', 'KCS', 'LAMB', 'LBA', 'LDO', 'LEO', 'LINK', 'LOOM', 'LRC', 'MANA', 'MATIC',\n",
    "              'MCB', 'MCO', 'MFT', 'MIR', 'MKR', 'MLN', 'MTA', 'MTL', 'MX', 'NDX', 'NEXO', 'NFTX', 'NMR', 'Nsure', 'OCEAN', 'OKB', 'OMG', 'PAY', 'PERP', 'PICKLE', 'PNK', 'PNT', 'POLY', 'POWR', 'PPT', 'QASH', 'QKC', 'QNT', 'RDN', 'REN', 'REP', 'RLC', 'ROOK', 'RPL', 'RSR', 'SAI', 'SAN', 'SNT', 'SNX', 'STAKE', 'STORJ', 'sUSD', 'SUSHI', 'TEL', 'TOP', 'UBT', 'UMA', 'UNI', 'USDC', 'USDK', 'USDP', 'USDT', 'UTK', 'VERI', 'WaBi', 'WAX', 'WBTC', 'WETH', 'wNXM', 'WTC', 'YAM', 'YFI', 'ZRX']\n",
    "\n",
    "symbolListShort = ['BTC', 'ETH', 'LTC']\n",
    "\n",
    "endPoints = {\n",
    "    'Price': '/v1/metrics/market/price_usd_close',\n",
    "    'MarketCap': '/v1/metrics/market/marketcap_usd',\n",
    "    'TransactionCount': '/v1/metrics/transactions/count',\n",
    "    'ActiveAddress': '/v1/metrics/addresses/active_count',\n",
    "}"
   ]
  },
  {
   "cell_type": "markdown",
   "metadata": {
    "id": "7nlgSPPTKKkP"
   },
   "source": [
    "## Get Multiple Attributes for Multiple Coins:"
   ]
  },
  {
   "cell_type": "code",
   "execution_count": 3,
   "metadata": {},
   "outputs": [],
   "source": [
    "def PullData(coin, feature):\n",
    "    print(f\"Pulling {coin}'s {feature} data\")\n",
    "\n",
    "    # Assemble full request url and get responses:\n",
    "    reqUrl = rootUrl + endPoints[feature]\n",
    "    res = requests.get(reqUrl,\n",
    "                       params={'a': coin, 'api_key': API_KEY})\n",
    "    data_raw = pd.read_json(res.text, convert_dates=['t'])\n",
    "\n",
    "    # Rename column \"v\" according to features\n",
    "    data = data_raw.rename(columns={\"v\" : f\"{feature}\", 't':'Date'})\n",
    "\n",
    "    # Return a dataframe\n",
    "    return data"
   ]
  },
  {
   "cell_type": "code",
   "execution_count": 6,
   "metadata": {},
   "outputs": [
    {
     "name": "stdout",
     "output_type": "stream",
     "text": [
      "Start Pulling BTC's data:\n",
      "Pulling BTC's Price data\n",
      "Pulling BTC's MarketCap data\n",
      "Pulling BTC's TransactionCount data\n",
      "Pulling BTC's ActiveAddress data\n",
      "BTC data successfully pulled\n",
      "\n",
      "Start Pulling ETH's data:\n",
      "Pulling ETH's Price data\n",
      "Pulling ETH's MarketCap data\n",
      "Pulling ETH's TransactionCount data\n",
      "Pulling ETH's ActiveAddress data\n",
      "ETH data successfully pulled\n",
      "\n",
      "Start Pulling LTC's data:\n",
      "Pulling LTC's Price data\n",
      "Pulling LTC's MarketCap data\n",
      "Pulling LTC's TransactionCount data\n",
      "Pulling LTC's ActiveAddress data\n",
      "LTC data successfully pulled\n",
      "\n",
      "\n",
      "ALL DATA SUCCESSFULLY PULLED!\n"
     ]
    }
   ],
   "source": [
    "### Get all features(listed in endPoints) of all coins(listed in symbolListShort) \n",
    "\n",
    "df = pd.DataFrame(columns = endPoints.keys())\n",
    "df['Asset'] = ''\n",
    "\n",
    "for i in symbolListShort:\n",
    "    print(f\"Start Pulling {i}'s data:\")\n",
    "\n",
    "    # Get data\n",
    "    \n",
    "    df1 =PullData(i, 'Price')\n",
    "    for j in list(endPoints.keys()):\n",
    "        if j != 'Price':\n",
    "           # df1 = df1.merge(PullData(i, j),on = 'Date', how = 'outer')\n",
    "            df1 = df1.merge(PullData(i, j),on = 'Date', how = 'inner')\n",
    "    df1['Asset'] = i\n",
    "    df=df.append(df1, ignore_index=True)\n",
    "\n",
    "    print(f\"{i} data successfully pulled\\n\")\n",
    "print('\\nALL DATA SUCCESSFULLY PULLED!')"
   ]
  },
  {
   "cell_type": "code",
   "execution_count": 8,
   "metadata": {},
   "outputs": [],
   "source": [
    "## save to csv file\n",
    "df.to_csv(\"crypto_currency.csv\")\n",
    "\n"
   ]
  },
  {
   "cell_type": "code",
   "execution_count": 7,
   "metadata": {},
   "outputs": [
    {
     "data": {
      "text/plain": [
       "(9997, 6)"
      ]
     },
     "execution_count": 7,
     "metadata": {},
     "output_type": "execute_result"
    }
   ],
   "source": [
    "df.shape  # use inner method"
   ]
  },
  {
   "cell_type": "code",
   "execution_count": 5,
   "metadata": {},
   "outputs": [
    {
     "data": {
      "text/plain": [
       "(11153, 6)"
      ]
     },
     "execution_count": 5,
     "metadata": {},
     "output_type": "execute_result"
    }
   ],
   "source": [
    "## Make some test\n",
    "\n",
    "df.shape # use outer method"
   ]
  },
  {
   "cell_type": "code",
   "execution_count": null,
   "metadata": {},
   "outputs": [],
   "source": [
    "## Make some test\n",
    "\n",
    "df.loc[df['Asset'] == 'LTC']"
   ]
  }
 ],
 "metadata": {
  "colab": {
   "name": "DataPull.ipynb",
   "provenance": []
  },
  "kernelspec": {
   "display_name": "Python 3 (ipykernel)",
   "language": "python",
   "name": "python3"
  },
  "language_info": {
   "codemirror_mode": {
    "name": "ipython",
    "version": 3
   },
   "file_extension": ".py",
   "mimetype": "text/x-python",
   "name": "python",
   "nbconvert_exporter": "python",
   "pygments_lexer": "ipython3",
   "version": "3.7.7"
  }
 },
 "nbformat": 4,
 "nbformat_minor": 1
}
