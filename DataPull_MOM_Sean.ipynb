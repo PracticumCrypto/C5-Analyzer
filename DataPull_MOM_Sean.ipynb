{
  "cells": [
    {
      "cell_type": "markdown",
      "metadata": {
        "id": "lh68fHXe8UTs"
      },
      "source": [
        "## Fixed Data:"
      ]
    },
    {
      "cell_type": "code",
      "source": [
        "pip install fredapi"
      ],
      "metadata": {
        "colab": {
          "base_uri": "https://localhost:8080/"
        },
        "id": "Rlvd_qcq4mxT",
        "outputId": "ba8f4a6b-ff62-4f43-8016-c64f4083d0b4"
      },
      "execution_count": 1,
      "outputs": [
        {
          "output_type": "stream",
          "name": "stdout",
          "text": [
            "Requirement already satisfied: fredapi in /usr/local/lib/python3.7/dist-packages (0.5.0)\n",
            "Requirement already satisfied: pandas in /usr/local/lib/python3.7/dist-packages (from fredapi) (1.3.5)\n",
            "Requirement already satisfied: python-dateutil>=2.7.3 in /usr/local/lib/python3.7/dist-packages (from pandas->fredapi) (2.8.2)\n",
            "Requirement already satisfied: pytz>=2017.3 in /usr/local/lib/python3.7/dist-packages (from pandas->fredapi) (2022.1)\n",
            "Requirement already satisfied: numpy>=1.17.3 in /usr/local/lib/python3.7/dist-packages (from pandas->fredapi) (1.21.6)\n",
            "Requirement already satisfied: six>=1.5 in /usr/local/lib/python3.7/dist-packages (from python-dateutil>=2.7.3->pandas->fredapi) (1.15.0)\n"
          ]
        }
      ]
    },
    {
      "cell_type": "code",
      "source": [
        "# Progress Bar\n",
        "pip install tqdm"
      ],
      "metadata": {
        "colab": {
          "base_uri": "https://localhost:8080/"
        },
        "id": "RbqwLojC21y6",
        "outputId": "dbfd8c29-e527-4572-8843-f55b0dc10974"
      },
      "execution_count": 117,
      "outputs": [
        {
          "output_type": "stream",
          "name": "stdout",
          "text": [
            "Requirement already satisfied: tqdm in /usr/local/lib/python3.7/dist-packages (4.64.0)\n"
          ]
        }
      ]
    },
    {
      "cell_type": "code",
      "execution_count": 2,
      "metadata": {
        "id": "xRHrfZma_zRz"
      },
      "outputs": [],
      "source": [
        "\n",
        "import json\n",
        "import requests\n",
        "import pandas as pd\n",
        "from fredapi import Fred\n",
        "\n",
        "API_KEY = '1vGb0FOsg2hEIGrEhpueLCcWd1Y'\n",
        "FRED_API_KEY = 'b13a905b98b5dfc1f3910d6a0d875ae3'\n",
        "\n",
        "rootUrl = 'https://api.glassnode.com'\n",
        "\n",
        "symbolList = ['BTC', 'ETH', 'LTC', 'AAVE', 'ABT', 'AMPL', 'ANT', 'ARMOR', 'BADGER', 'BAL', 'BAND', 'BAT', 'BIX', 'BNT', 'BOND', 'BRD', 'BUSD', 'BZRX', 'CELR', 'CHSB', 'CND', 'COMP', 'CREAM', 'CRO', 'CRV', 'CVC', 'CVP', 'DAI', 'DDX', 'DENT', 'DGX', 'DHT', 'DMG', 'DODO', 'DOUGH', 'DRGN', 'ELF', 'ENG', 'ENJ', 'EURS', 'FET', 'FTT', 'FUN', 'GNO', 'GUSD', 'HEGIC', 'HOT', 'HPT', 'HT', 'HUSD', 'INDEX', 'KCS', 'LAMB', 'LBA', 'LDO', 'LEO', 'LINK', 'LOOM', 'LRC', 'MANA', 'MATIC',\n",
        "              'MCB', 'MCO', 'MFT', 'MIR', 'MKR', 'MLN', 'MTA', 'MTL', 'MX', 'NDX', 'NEXO', 'NFTX', 'NMR', 'Nsure', 'OCEAN', 'OKB', 'OMG', 'PAY', 'PERP', 'PICKLE', 'PNK', 'PNT', 'POLY', 'POWR', 'PPT', 'QASH', 'QKC', 'QNT', 'RDN', 'REN', 'REP', 'RLC', 'ROOK', 'RPL', 'RSR', 'SAI', 'SAN', 'SNT', 'SNX', 'STAKE', 'STORJ', 'sUSD', 'SUSHI', 'TEL', 'TOP', 'UBT', 'UMA', 'UNI', 'USDC', 'USDK', 'USDP', 'USDT', 'UTK', 'VERI', 'WaBi', 'WAX', 'WBTC', 'WETH', 'wNXM', 'WTC', 'YAM', 'YFI', 'ZRX']\n",
        "\n",
        "symbolListShort = ['BTC', 'ETH', 'LTC']\n",
        "\n",
        "endPoints = {\n",
        "    'Price': '/v1/metrics/market/price_usd_close',\n",
        "    'MarketCap': '/v1/metrics/market/marketcap_usd',\n",
        "    'TransactionCount': '/v1/metrics/transactions/count',\n",
        "    'ActiveAddress': '/v1/metrics/addresses/active_count',\n",
        "}"
      ]
    },
    {
      "cell_type": "markdown",
      "metadata": {
        "id": "Q9ClQJPVUD-4"
      },
      "source": [
        "### <font color='red'> It seems the risk-free rate is daily rate. is it in percentage or in unit 1? need to adjust to weekly rate and select Monday"
      ]
    },
    {
      "cell_type": "code",
      "execution_count": 3,
      "metadata": {
        "id": "jKTjV1E9IxNX"
      },
      "outputs": [],
      "source": [
        "fred = Fred(api_key=FRED_API_KEY)\n",
        "Risk_free_rate = fred.get_series('DGS1MO').to_frame().reset_index().rename(columns={'index':'Date', \n",
        "                                                                                    0:'RiskFree'})\n",
        "Risk_free_rate['RiskFree']= Risk_free_rate['RiskFree'] / 100"
      ]
    },
    {
      "cell_type": "markdown",
      "metadata": {
        "id": "7nlgSPPTKKkP"
      },
      "source": [
        "## Get Multiple Attributes for Multiple Coins:"
      ]
    },
    {
      "cell_type": "code",
      "execution_count": 104,
      "metadata": {
        "id": "NoAHRVf366me"
      },
      "outputs": [],
      "source": [
        "### Define a Method to Pull Data According to Input Prameter(coin, feature)\n",
        "\n",
        "def PullData(coin, feature):\n",
        "    print(f\"Pulling {coin}'s {feature}\")\n",
        "\n",
        "    # Assemble full request url and get responses:\n",
        "    reqUrl = rootUrl + endPoints[feature]\n",
        "    res = requests.get(reqUrl,\n",
        "                       params={'a': coin, \n",
        "                               'api_key': API_KEY, \n",
        "                               'i':'1w'})\n",
        "    data_raw = pd.read_json(res.text, \n",
        "                            convert_dates=['t'])\n",
        "\n",
        "    # Rename column \"v\" according to features\n",
        "    data = data_raw.rename(columns={\"v\" : f\"{feature}\", \n",
        "                                    't':'Date'})\n",
        "\n",
        "    # Return a dataframe\n",
        "    return data"
      ]
    },
    {
      "cell_type": "code",
      "source": [
        "# Effect:\n",
        "PullData('BTC', 'Price').head()"
      ],
      "metadata": {
        "colab": {
          "base_uri": "https://localhost:8080/",
          "height": 224
        },
        "id": "Fj1-IswOdYJU",
        "outputId": "ed568e2a-162c-4713-c23a-cee8a4ec512d"
      },
      "execution_count": 118,
      "outputs": [
        {
          "output_type": "stream",
          "name": "stdout",
          "text": [
            "Pulling BTC's Price\n"
          ]
        },
        {
          "output_type": "execute_result",
          "data": {
            "text/plain": [
              "        Date    Price\n",
              "0 2010-07-12  0.08584\n",
              "1 2010-07-19  0.05050\n",
              "2 2010-07-26  0.06110\n",
              "3 2010-08-02  0.06090\n",
              "4 2010-08-09  0.06529"
            ],
            "text/html": [
              "\n",
              "  <div id=\"df-79b10a86-8691-4fb3-84c8-7099be2646bf\">\n",
              "    <div class=\"colab-df-container\">\n",
              "      <div>\n",
              "<style scoped>\n",
              "    .dataframe tbody tr th:only-of-type {\n",
              "        vertical-align: middle;\n",
              "    }\n",
              "\n",
              "    .dataframe tbody tr th {\n",
              "        vertical-align: top;\n",
              "    }\n",
              "\n",
              "    .dataframe thead th {\n",
              "        text-align: right;\n",
              "    }\n",
              "</style>\n",
              "<table border=\"1\" class=\"dataframe\">\n",
              "  <thead>\n",
              "    <tr style=\"text-align: right;\">\n",
              "      <th></th>\n",
              "      <th>Date</th>\n",
              "      <th>Price</th>\n",
              "    </tr>\n",
              "  </thead>\n",
              "  <tbody>\n",
              "    <tr>\n",
              "      <th>0</th>\n",
              "      <td>2010-07-12</td>\n",
              "      <td>0.08584</td>\n",
              "    </tr>\n",
              "    <tr>\n",
              "      <th>1</th>\n",
              "      <td>2010-07-19</td>\n",
              "      <td>0.05050</td>\n",
              "    </tr>\n",
              "    <tr>\n",
              "      <th>2</th>\n",
              "      <td>2010-07-26</td>\n",
              "      <td>0.06110</td>\n",
              "    </tr>\n",
              "    <tr>\n",
              "      <th>3</th>\n",
              "      <td>2010-08-02</td>\n",
              "      <td>0.06090</td>\n",
              "    </tr>\n",
              "    <tr>\n",
              "      <th>4</th>\n",
              "      <td>2010-08-09</td>\n",
              "      <td>0.06529</td>\n",
              "    </tr>\n",
              "  </tbody>\n",
              "</table>\n",
              "</div>\n",
              "      <button class=\"colab-df-convert\" onclick=\"convertToInteractive('df-79b10a86-8691-4fb3-84c8-7099be2646bf')\"\n",
              "              title=\"Convert this dataframe to an interactive table.\"\n",
              "              style=\"display:none;\">\n",
              "        \n",
              "  <svg xmlns=\"http://www.w3.org/2000/svg\" height=\"24px\"viewBox=\"0 0 24 24\"\n",
              "       width=\"24px\">\n",
              "    <path d=\"M0 0h24v24H0V0z\" fill=\"none\"/>\n",
              "    <path d=\"M18.56 5.44l.94 2.06.94-2.06 2.06-.94-2.06-.94-.94-2.06-.94 2.06-2.06.94zm-11 1L8.5 8.5l.94-2.06 2.06-.94-2.06-.94L8.5 2.5l-.94 2.06-2.06.94zm10 10l.94 2.06.94-2.06 2.06-.94-2.06-.94-.94-2.06-.94 2.06-2.06.94z\"/><path d=\"M17.41 7.96l-1.37-1.37c-.4-.4-.92-.59-1.43-.59-.52 0-1.04.2-1.43.59L10.3 9.45l-7.72 7.72c-.78.78-.78 2.05 0 2.83L4 21.41c.39.39.9.59 1.41.59.51 0 1.02-.2 1.41-.59l7.78-7.78 2.81-2.81c.8-.78.8-2.07 0-2.86zM5.41 20L4 18.59l7.72-7.72 1.47 1.35L5.41 20z\"/>\n",
              "  </svg>\n",
              "      </button>\n",
              "      \n",
              "  <style>\n",
              "    .colab-df-container {\n",
              "      display:flex;\n",
              "      flex-wrap:wrap;\n",
              "      gap: 12px;\n",
              "    }\n",
              "\n",
              "    .colab-df-convert {\n",
              "      background-color: #E8F0FE;\n",
              "      border: none;\n",
              "      border-radius: 50%;\n",
              "      cursor: pointer;\n",
              "      display: none;\n",
              "      fill: #1967D2;\n",
              "      height: 32px;\n",
              "      padding: 0 0 0 0;\n",
              "      width: 32px;\n",
              "    }\n",
              "\n",
              "    .colab-df-convert:hover {\n",
              "      background-color: #E2EBFA;\n",
              "      box-shadow: 0px 1px 2px rgba(60, 64, 67, 0.3), 0px 1px 3px 1px rgba(60, 64, 67, 0.15);\n",
              "      fill: #174EA6;\n",
              "    }\n",
              "\n",
              "    [theme=dark] .colab-df-convert {\n",
              "      background-color: #3B4455;\n",
              "      fill: #D2E3FC;\n",
              "    }\n",
              "\n",
              "    [theme=dark] .colab-df-convert:hover {\n",
              "      background-color: #434B5C;\n",
              "      box-shadow: 0px 1px 3px 1px rgba(0, 0, 0, 0.15);\n",
              "      filter: drop-shadow(0px 1px 2px rgba(0, 0, 0, 0.3));\n",
              "      fill: #FFFFFF;\n",
              "    }\n",
              "  </style>\n",
              "\n",
              "      <script>\n",
              "        const buttonEl =\n",
              "          document.querySelector('#df-79b10a86-8691-4fb3-84c8-7099be2646bf button.colab-df-convert');\n",
              "        buttonEl.style.display =\n",
              "          google.colab.kernel.accessAllowed ? 'block' : 'none';\n",
              "\n",
              "        async function convertToInteractive(key) {\n",
              "          const element = document.querySelector('#df-79b10a86-8691-4fb3-84c8-7099be2646bf');\n",
              "          const dataTable =\n",
              "            await google.colab.kernel.invokeFunction('convertToInteractive',\n",
              "                                                     [key], {});\n",
              "          if (!dataTable) return;\n",
              "\n",
              "          const docLinkHtml = 'Like what you see? Visit the ' +\n",
              "            '<a target=\"_blank\" href=https://colab.research.google.com/notebooks/data_table.ipynb>data table notebook</a>'\n",
              "            + ' to learn more about interactive tables.';\n",
              "          element.innerHTML = '';\n",
              "          dataTable['output_type'] = 'display_data';\n",
              "          await google.colab.output.renderOutput(dataTable, element);\n",
              "          const docLink = document.createElement('div');\n",
              "          docLink.innerHTML = docLinkHtml;\n",
              "          element.appendChild(docLink);\n",
              "        }\n",
              "      </script>\n",
              "    </div>\n",
              "  </div>\n",
              "  "
            ]
          },
          "metadata": {},
          "execution_count": 118
        }
      ]
    },
    {
      "cell_type": "code",
      "execution_count": 124,
      "metadata": {
        "id": "hRBQM5TVKZO8"
      },
      "outputs": [],
      "source": [
        "### Define a Method to Get Features(Listed in \"endPoints\"(Constant)) of Coins(Listed in \"coinList\"(Method Prameter)) \n",
        "\n",
        "def PullStart(coinList):\n",
        "    # Initialization\n",
        "    from functools import reduce\n",
        "    from tqdm import tqdm\n",
        "\n",
        "    colName = [\"Date\"]\n",
        "    for key, value in endPoints.items():\n",
        "        colName.append(key) \n",
        "    fullFrame = pd.DataFrame(columns = colName.append(\"Asset\"))\n",
        "\n",
        "    # Data Pull\n",
        "    for i in tqdm(coinList):\n",
        "        print(f\"Start Pulling {i}'s data:\")\n",
        "\n",
        "        # Preparation for merging\n",
        "        frameName = f\"{i}_Frames\"\n",
        "        locals()[frameName] = []\n",
        "\n",
        "        # Get data\n",
        "        for j in list(endPoints.keys()):\n",
        "            locals()[frameName].append(PullData(i, \n",
        "                                                j))\n",
        "\n",
        "        # Merge 2-column dataframes to a single dataframe\n",
        "        dfName = f\"{i}_All\"\n",
        "        # Outer Merge Glassnode to Ensure Not Missing Any Values.\n",
        "        # Left Merge Fred to ensure all the records in api stored.\n",
        "        locals()[dfName] = reduce(lambda left, right:\n",
        "                                  pd.merge(left,right, \n",
        "                                           on='Date', \n",
        "                                           how='outer'), \n",
        "                                  locals()[frameName]).merge(Risk_free_rate, \n",
        "                                                             how = 'left').sort_values(by=['Date'])\n",
        "        locals()[dfName]['Asset'] = i\n",
        "\n",
        "        # Merge All Coins into a single Dataframe\n",
        "        fullFrame = fullFrame.append(locals()[dfName],\n",
        "                                     ignore_index=True)\n",
        "\n",
        "        print(f\"{i} data successfully pulled\\n\")\n",
        "    print('All Frames Merged')\n",
        "    print('\\nALL DATA SUCCESSFULLY PULLED!')\n",
        "\n",
        "    return fullFrame"
      ]
    },
    {
      "cell_type": "code",
      "source": [
        "# Effect:\n",
        "df = PullStart(symbolListShort)\n",
        "df"
      ],
      "metadata": {
        "colab": {
          "base_uri": "https://localhost:8080/",
          "height": 858
        },
        "id": "YZwf9w5gEwZ8",
        "outputId": "20cd7eb5-6602-45a2-e8f2-59d589b2e722"
      },
      "execution_count": 125,
      "outputs": [
        {
          "output_type": "stream",
          "name": "stderr",
          "text": [
            "\r  0%|          | 0/3 [00:00<?, ?it/s]"
          ]
        },
        {
          "output_type": "stream",
          "name": "stdout",
          "text": [
            "Start Pulling BTC's data:\n",
            "Pulling BTC's Price\n",
            "Pulling BTC's MarketCap\n",
            "Pulling BTC's TransactionCount\n",
            "Pulling BTC's ActiveAddress\n"
          ]
        },
        {
          "output_type": "stream",
          "name": "stderr",
          "text": [
            "\r 33%|███▎      | 1/3 [00:02<00:05,  2.78s/it]"
          ]
        },
        {
          "output_type": "stream",
          "name": "stdout",
          "text": [
            "BTC data successfully pulled\n",
            "\n",
            "Start Pulling ETH's data:\n",
            "Pulling ETH's Price\n",
            "Pulling ETH's MarketCap\n",
            "Pulling ETH's TransactionCount\n",
            "Pulling ETH's ActiveAddress\n"
          ]
        },
        {
          "output_type": "stream",
          "name": "stderr",
          "text": [
            "\r 67%|██████▋   | 2/3 [00:04<00:01,  1.99s/it]"
          ]
        },
        {
          "output_type": "stream",
          "name": "stdout",
          "text": [
            "ETH data successfully pulled\n",
            "\n",
            "Start Pulling LTC's data:\n",
            "Pulling LTC's Price\n",
            "Pulling LTC's MarketCap\n",
            "Pulling LTC's TransactionCount\n",
            "Pulling LTC's ActiveAddress\n"
          ]
        },
        {
          "output_type": "stream",
          "name": "stderr",
          "text": [
            "100%|██████████| 3/3 [00:06<00:00,  2.17s/it]"
          ]
        },
        {
          "output_type": "stream",
          "name": "stdout",
          "text": [
            "LTC data successfully pulled\n",
            "\n",
            "All Frames Merged\n",
            "\n",
            "ALL DATA SUCCESSFULLY PULLED!\n"
          ]
        },
        {
          "output_type": "stream",
          "name": "stderr",
          "text": [
            "\n"
          ]
        },
        {
          "output_type": "execute_result",
          "data": {
            "text/plain": [
              "           Date       Price     MarketCap  TransactionCount  ActiveAddress  \\\n",
              "0    2008-12-29         NaN           NaN               NaN            0.0   \n",
              "1    2009-01-05         NaN           NaN               NaN            0.0   \n",
              "2    2009-01-12         NaN           NaN              19.0           34.0   \n",
              "3    2009-01-19         NaN           NaN               9.0           63.0   \n",
              "4    2009-01-26         NaN           NaN               5.0           61.0   \n",
              "...         ...         ...           ...               ...            ...   \n",
              "1595 2022-03-28  128.926292  9.023978e+09          807733.0      1566202.0   \n",
              "1596 2022-04-04  111.343007  7.798857e+09          841901.0      1576883.0   \n",
              "1597 2022-04-11  109.018201  7.641529e+09          832321.0      1652475.0   \n",
              "1598 2022-04-18  104.648982  7.340578e+09          830602.0      1562294.0   \n",
              "1599 2022-04-25   96.258752           NaN               NaN            NaN   \n",
              "\n",
              "      RiskFree Asset  \n",
              "0       0.0004   BTC  \n",
              "1       0.0005   BTC  \n",
              "2       0.0004   BTC  \n",
              "3          NaN   BTC  \n",
              "4       0.0002   BTC  \n",
              "...        ...   ...  \n",
              "1595    0.0019   LTC  \n",
              "1596    0.0018   LTC  \n",
              "1597    0.0022   LTC  \n",
              "1598    0.0038   LTC  \n",
              "1599    0.0040   LTC  \n",
              "\n",
              "[1600 rows x 7 columns]"
            ],
            "text/html": [
              "\n",
              "  <div id=\"df-0d01a3eb-8a03-443d-bc0b-8a3e8960d9b5\">\n",
              "    <div class=\"colab-df-container\">\n",
              "      <div>\n",
              "<style scoped>\n",
              "    .dataframe tbody tr th:only-of-type {\n",
              "        vertical-align: middle;\n",
              "    }\n",
              "\n",
              "    .dataframe tbody tr th {\n",
              "        vertical-align: top;\n",
              "    }\n",
              "\n",
              "    .dataframe thead th {\n",
              "        text-align: right;\n",
              "    }\n",
              "</style>\n",
              "<table border=\"1\" class=\"dataframe\">\n",
              "  <thead>\n",
              "    <tr style=\"text-align: right;\">\n",
              "      <th></th>\n",
              "      <th>Date</th>\n",
              "      <th>Price</th>\n",
              "      <th>MarketCap</th>\n",
              "      <th>TransactionCount</th>\n",
              "      <th>ActiveAddress</th>\n",
              "      <th>RiskFree</th>\n",
              "      <th>Asset</th>\n",
              "    </tr>\n",
              "  </thead>\n",
              "  <tbody>\n",
              "    <tr>\n",
              "      <th>0</th>\n",
              "      <td>2008-12-29</td>\n",
              "      <td>NaN</td>\n",
              "      <td>NaN</td>\n",
              "      <td>NaN</td>\n",
              "      <td>0.0</td>\n",
              "      <td>0.0004</td>\n",
              "      <td>BTC</td>\n",
              "    </tr>\n",
              "    <tr>\n",
              "      <th>1</th>\n",
              "      <td>2009-01-05</td>\n",
              "      <td>NaN</td>\n",
              "      <td>NaN</td>\n",
              "      <td>NaN</td>\n",
              "      <td>0.0</td>\n",
              "      <td>0.0005</td>\n",
              "      <td>BTC</td>\n",
              "    </tr>\n",
              "    <tr>\n",
              "      <th>2</th>\n",
              "      <td>2009-01-12</td>\n",
              "      <td>NaN</td>\n",
              "      <td>NaN</td>\n",
              "      <td>19.0</td>\n",
              "      <td>34.0</td>\n",
              "      <td>0.0004</td>\n",
              "      <td>BTC</td>\n",
              "    </tr>\n",
              "    <tr>\n",
              "      <th>3</th>\n",
              "      <td>2009-01-19</td>\n",
              "      <td>NaN</td>\n",
              "      <td>NaN</td>\n",
              "      <td>9.0</td>\n",
              "      <td>63.0</td>\n",
              "      <td>NaN</td>\n",
              "      <td>BTC</td>\n",
              "    </tr>\n",
              "    <tr>\n",
              "      <th>4</th>\n",
              "      <td>2009-01-26</td>\n",
              "      <td>NaN</td>\n",
              "      <td>NaN</td>\n",
              "      <td>5.0</td>\n",
              "      <td>61.0</td>\n",
              "      <td>0.0002</td>\n",
              "      <td>BTC</td>\n",
              "    </tr>\n",
              "    <tr>\n",
              "      <th>...</th>\n",
              "      <td>...</td>\n",
              "      <td>...</td>\n",
              "      <td>...</td>\n",
              "      <td>...</td>\n",
              "      <td>...</td>\n",
              "      <td>...</td>\n",
              "      <td>...</td>\n",
              "    </tr>\n",
              "    <tr>\n",
              "      <th>1595</th>\n",
              "      <td>2022-03-28</td>\n",
              "      <td>128.926292</td>\n",
              "      <td>9.023978e+09</td>\n",
              "      <td>807733.0</td>\n",
              "      <td>1566202.0</td>\n",
              "      <td>0.0019</td>\n",
              "      <td>LTC</td>\n",
              "    </tr>\n",
              "    <tr>\n",
              "      <th>1596</th>\n",
              "      <td>2022-04-04</td>\n",
              "      <td>111.343007</td>\n",
              "      <td>7.798857e+09</td>\n",
              "      <td>841901.0</td>\n",
              "      <td>1576883.0</td>\n",
              "      <td>0.0018</td>\n",
              "      <td>LTC</td>\n",
              "    </tr>\n",
              "    <tr>\n",
              "      <th>1597</th>\n",
              "      <td>2022-04-11</td>\n",
              "      <td>109.018201</td>\n",
              "      <td>7.641529e+09</td>\n",
              "      <td>832321.0</td>\n",
              "      <td>1652475.0</td>\n",
              "      <td>0.0022</td>\n",
              "      <td>LTC</td>\n",
              "    </tr>\n",
              "    <tr>\n",
              "      <th>1598</th>\n",
              "      <td>2022-04-18</td>\n",
              "      <td>104.648982</td>\n",
              "      <td>7.340578e+09</td>\n",
              "      <td>830602.0</td>\n",
              "      <td>1562294.0</td>\n",
              "      <td>0.0038</td>\n",
              "      <td>LTC</td>\n",
              "    </tr>\n",
              "    <tr>\n",
              "      <th>1599</th>\n",
              "      <td>2022-04-25</td>\n",
              "      <td>96.258752</td>\n",
              "      <td>NaN</td>\n",
              "      <td>NaN</td>\n",
              "      <td>NaN</td>\n",
              "      <td>0.0040</td>\n",
              "      <td>LTC</td>\n",
              "    </tr>\n",
              "  </tbody>\n",
              "</table>\n",
              "<p>1600 rows × 7 columns</p>\n",
              "</div>\n",
              "      <button class=\"colab-df-convert\" onclick=\"convertToInteractive('df-0d01a3eb-8a03-443d-bc0b-8a3e8960d9b5')\"\n",
              "              title=\"Convert this dataframe to an interactive table.\"\n",
              "              style=\"display:none;\">\n",
              "        \n",
              "  <svg xmlns=\"http://www.w3.org/2000/svg\" height=\"24px\"viewBox=\"0 0 24 24\"\n",
              "       width=\"24px\">\n",
              "    <path d=\"M0 0h24v24H0V0z\" fill=\"none\"/>\n",
              "    <path d=\"M18.56 5.44l.94 2.06.94-2.06 2.06-.94-2.06-.94-.94-2.06-.94 2.06-2.06.94zm-11 1L8.5 8.5l.94-2.06 2.06-.94-2.06-.94L8.5 2.5l-.94 2.06-2.06.94zm10 10l.94 2.06.94-2.06 2.06-.94-2.06-.94-.94-2.06-.94 2.06-2.06.94z\"/><path d=\"M17.41 7.96l-1.37-1.37c-.4-.4-.92-.59-1.43-.59-.52 0-1.04.2-1.43.59L10.3 9.45l-7.72 7.72c-.78.78-.78 2.05 0 2.83L4 21.41c.39.39.9.59 1.41.59.51 0 1.02-.2 1.41-.59l7.78-7.78 2.81-2.81c.8-.78.8-2.07 0-2.86zM5.41 20L4 18.59l7.72-7.72 1.47 1.35L5.41 20z\"/>\n",
              "  </svg>\n",
              "      </button>\n",
              "      \n",
              "  <style>\n",
              "    .colab-df-container {\n",
              "      display:flex;\n",
              "      flex-wrap:wrap;\n",
              "      gap: 12px;\n",
              "    }\n",
              "\n",
              "    .colab-df-convert {\n",
              "      background-color: #E8F0FE;\n",
              "      border: none;\n",
              "      border-radius: 50%;\n",
              "      cursor: pointer;\n",
              "      display: none;\n",
              "      fill: #1967D2;\n",
              "      height: 32px;\n",
              "      padding: 0 0 0 0;\n",
              "      width: 32px;\n",
              "    }\n",
              "\n",
              "    .colab-df-convert:hover {\n",
              "      background-color: #E2EBFA;\n",
              "      box-shadow: 0px 1px 2px rgba(60, 64, 67, 0.3), 0px 1px 3px 1px rgba(60, 64, 67, 0.15);\n",
              "      fill: #174EA6;\n",
              "    }\n",
              "\n",
              "    [theme=dark] .colab-df-convert {\n",
              "      background-color: #3B4455;\n",
              "      fill: #D2E3FC;\n",
              "    }\n",
              "\n",
              "    [theme=dark] .colab-df-convert:hover {\n",
              "      background-color: #434B5C;\n",
              "      box-shadow: 0px 1px 3px 1px rgba(0, 0, 0, 0.15);\n",
              "      filter: drop-shadow(0px 1px 2px rgba(0, 0, 0, 0.3));\n",
              "      fill: #FFFFFF;\n",
              "    }\n",
              "  </style>\n",
              "\n",
              "      <script>\n",
              "        const buttonEl =\n",
              "          document.querySelector('#df-0d01a3eb-8a03-443d-bc0b-8a3e8960d9b5 button.colab-df-convert');\n",
              "        buttonEl.style.display =\n",
              "          google.colab.kernel.accessAllowed ? 'block' : 'none';\n",
              "\n",
              "        async function convertToInteractive(key) {\n",
              "          const element = document.querySelector('#df-0d01a3eb-8a03-443d-bc0b-8a3e8960d9b5');\n",
              "          const dataTable =\n",
              "            await google.colab.kernel.invokeFunction('convertToInteractive',\n",
              "                                                     [key], {});\n",
              "          if (!dataTable) return;\n",
              "\n",
              "          const docLinkHtml = 'Like what you see? Visit the ' +\n",
              "            '<a target=\"_blank\" href=https://colab.research.google.com/notebooks/data_table.ipynb>data table notebook</a>'\n",
              "            + ' to learn more about interactive tables.';\n",
              "          element.innerHTML = '';\n",
              "          dataTable['output_type'] = 'display_data';\n",
              "          await google.colab.output.renderOutput(dataTable, element);\n",
              "          const docLink = document.createElement('div');\n",
              "          docLink.innerHTML = docLinkHtml;\n",
              "          element.appendChild(docLink);\n",
              "        }\n",
              "      </script>\n",
              "    </div>\n",
              "  </div>\n",
              "  "
            ]
          },
          "metadata": {},
          "execution_count": 125
        }
      ]
    },
    {
      "cell_type": "markdown",
      "metadata": {
        "id": "cxiN5F9WUD-7"
      },
      "source": [
        "## <font color='red'> Imputation for NA values -- to be resolved"
      ]
    },
    {
      "cell_type": "code",
      "source": [
        ""
      ],
      "metadata": {
        "id": "8xv-mT1RXEWH"
      },
      "execution_count": null,
      "outputs": []
    },
    {
      "cell_type": "markdown",
      "source": [
        "## Calculate Returns"
      ],
      "metadata": {
        "id": "pyJLym45QFcu"
      }
    },
    {
      "cell_type": "code",
      "source": [
        "### Define a Method to Add Return Column\n",
        "\n",
        "def AddReturn(sample):\n",
        "    fullFrame = pd.DataFrame(columns = list(sample.columns).append('Return'))\n",
        "    for index in sample.groupby('Asset').count().index.values.tolist():\n",
        "        syntax = f\"Asset == '{index}'\"\n",
        "        sagment = sample.query(syntax)\n",
        "        # Only Select 53 Weeks for Test\n",
        "        temp = sagment[-53:-1].reset_index().drop('index', axis=1)\n",
        "        sagment = sagment[-52:].reset_index().drop('index', axis=1)\n",
        "        sagment['Return'] = (sagment['Price'] - temp['Price'])/temp['Price']\n",
        "        fullFrame = fullFrame.append(sagment,\n",
        "                                     ignore_index=True)\n",
        "    return fullFrame"
      ],
      "metadata": {
        "id": "nTkmyWGERMT-"
      },
      "execution_count": 8,
      "outputs": []
    },
    {
      "cell_type": "code",
      "source": [
        "# Effect:\n",
        "\n",
        "AddReturn(df)"
      ],
      "metadata": {
        "colab": {
          "base_uri": "https://localhost:8080/",
          "height": 424
        },
        "id": "jmjAibj9XIWA",
        "outputId": "e2572a0b-c252-4b5a-d20a-2ddb1ac74333"
      },
      "execution_count": 9,
      "outputs": [
        {
          "output_type": "execute_result",
          "data": {
            "text/plain": [
              "          Date         Price     MarketCap  TransactionCount  ActiveAddress  \\\n",
              "0   2021-05-03  58218.566077  1.088991e+12         2038316.0      6622607.0   \n",
              "1   2021-05-10  46406.331544  8.683518e+11         1908851.0      6062366.0   \n",
              "2   2021-05-17  34888.678313  6.530094e+11         1607054.0      4960283.0   \n",
              "3   2021-05-24  35639.981455  6.672647e+11         1508758.0      4981835.0   \n",
              "4   2021-05-31  35797.422390  6.704378e+11         1582789.0      4893673.0   \n",
              "..         ...           ...           ...               ...            ...   \n",
              "151 2022-03-28    128.926292  9.023978e+09          807733.0      1566202.0   \n",
              "152 2022-04-04    111.343007  7.798857e+09          841901.0      1576883.0   \n",
              "153 2022-04-11    109.018201  7.641529e+09          832321.0      1652475.0   \n",
              "154 2022-04-18    104.648982  7.340578e+09          830602.0      1562294.0   \n",
              "155 2022-04-25     96.114067           NaN               NaN            NaN   \n",
              "\n",
              "     RiskFree Asset    Return  \n",
              "0      0.0002   BTC  0.028357  \n",
              "1      0.0002   BTC -0.202895  \n",
              "2      0.0000   BTC -0.248191  \n",
              "3      0.0001   BTC  0.021534  \n",
              "4         NaN   BTC  0.004418  \n",
              "..        ...   ...       ...  \n",
              "151    0.0019   LTC -0.002438  \n",
              "152    0.0018   LTC -0.136382  \n",
              "153    0.0022   LTC -0.020880  \n",
              "154    0.0038   LTC -0.040078  \n",
              "155    0.0040   LTC -0.081558  \n",
              "\n",
              "[156 rows x 8 columns]"
            ],
            "text/html": [
              "\n",
              "  <div id=\"df-cf598251-3851-4b57-913b-98a7ce22c4a8\">\n",
              "    <div class=\"colab-df-container\">\n",
              "      <div>\n",
              "<style scoped>\n",
              "    .dataframe tbody tr th:only-of-type {\n",
              "        vertical-align: middle;\n",
              "    }\n",
              "\n",
              "    .dataframe tbody tr th {\n",
              "        vertical-align: top;\n",
              "    }\n",
              "\n",
              "    .dataframe thead th {\n",
              "        text-align: right;\n",
              "    }\n",
              "</style>\n",
              "<table border=\"1\" class=\"dataframe\">\n",
              "  <thead>\n",
              "    <tr style=\"text-align: right;\">\n",
              "      <th></th>\n",
              "      <th>Date</th>\n",
              "      <th>Price</th>\n",
              "      <th>MarketCap</th>\n",
              "      <th>TransactionCount</th>\n",
              "      <th>ActiveAddress</th>\n",
              "      <th>RiskFree</th>\n",
              "      <th>Asset</th>\n",
              "      <th>Return</th>\n",
              "    </tr>\n",
              "  </thead>\n",
              "  <tbody>\n",
              "    <tr>\n",
              "      <th>0</th>\n",
              "      <td>2021-05-03</td>\n",
              "      <td>58218.566077</td>\n",
              "      <td>1.088991e+12</td>\n",
              "      <td>2038316.0</td>\n",
              "      <td>6622607.0</td>\n",
              "      <td>0.0002</td>\n",
              "      <td>BTC</td>\n",
              "      <td>0.028357</td>\n",
              "    </tr>\n",
              "    <tr>\n",
              "      <th>1</th>\n",
              "      <td>2021-05-10</td>\n",
              "      <td>46406.331544</td>\n",
              "      <td>8.683518e+11</td>\n",
              "      <td>1908851.0</td>\n",
              "      <td>6062366.0</td>\n",
              "      <td>0.0002</td>\n",
              "      <td>BTC</td>\n",
              "      <td>-0.202895</td>\n",
              "    </tr>\n",
              "    <tr>\n",
              "      <th>2</th>\n",
              "      <td>2021-05-17</td>\n",
              "      <td>34888.678313</td>\n",
              "      <td>6.530094e+11</td>\n",
              "      <td>1607054.0</td>\n",
              "      <td>4960283.0</td>\n",
              "      <td>0.0000</td>\n",
              "      <td>BTC</td>\n",
              "      <td>-0.248191</td>\n",
              "    </tr>\n",
              "    <tr>\n",
              "      <th>3</th>\n",
              "      <td>2021-05-24</td>\n",
              "      <td>35639.981455</td>\n",
              "      <td>6.672647e+11</td>\n",
              "      <td>1508758.0</td>\n",
              "      <td>4981835.0</td>\n",
              "      <td>0.0001</td>\n",
              "      <td>BTC</td>\n",
              "      <td>0.021534</td>\n",
              "    </tr>\n",
              "    <tr>\n",
              "      <th>4</th>\n",
              "      <td>2021-05-31</td>\n",
              "      <td>35797.422390</td>\n",
              "      <td>6.704378e+11</td>\n",
              "      <td>1582789.0</td>\n",
              "      <td>4893673.0</td>\n",
              "      <td>NaN</td>\n",
              "      <td>BTC</td>\n",
              "      <td>0.004418</td>\n",
              "    </tr>\n",
              "    <tr>\n",
              "      <th>...</th>\n",
              "      <td>...</td>\n",
              "      <td>...</td>\n",
              "      <td>...</td>\n",
              "      <td>...</td>\n",
              "      <td>...</td>\n",
              "      <td>...</td>\n",
              "      <td>...</td>\n",
              "      <td>...</td>\n",
              "    </tr>\n",
              "    <tr>\n",
              "      <th>151</th>\n",
              "      <td>2022-03-28</td>\n",
              "      <td>128.926292</td>\n",
              "      <td>9.023978e+09</td>\n",
              "      <td>807733.0</td>\n",
              "      <td>1566202.0</td>\n",
              "      <td>0.0019</td>\n",
              "      <td>LTC</td>\n",
              "      <td>-0.002438</td>\n",
              "    </tr>\n",
              "    <tr>\n",
              "      <th>152</th>\n",
              "      <td>2022-04-04</td>\n",
              "      <td>111.343007</td>\n",
              "      <td>7.798857e+09</td>\n",
              "      <td>841901.0</td>\n",
              "      <td>1576883.0</td>\n",
              "      <td>0.0018</td>\n",
              "      <td>LTC</td>\n",
              "      <td>-0.136382</td>\n",
              "    </tr>\n",
              "    <tr>\n",
              "      <th>153</th>\n",
              "      <td>2022-04-11</td>\n",
              "      <td>109.018201</td>\n",
              "      <td>7.641529e+09</td>\n",
              "      <td>832321.0</td>\n",
              "      <td>1652475.0</td>\n",
              "      <td>0.0022</td>\n",
              "      <td>LTC</td>\n",
              "      <td>-0.020880</td>\n",
              "    </tr>\n",
              "    <tr>\n",
              "      <th>154</th>\n",
              "      <td>2022-04-18</td>\n",
              "      <td>104.648982</td>\n",
              "      <td>7.340578e+09</td>\n",
              "      <td>830602.0</td>\n",
              "      <td>1562294.0</td>\n",
              "      <td>0.0038</td>\n",
              "      <td>LTC</td>\n",
              "      <td>-0.040078</td>\n",
              "    </tr>\n",
              "    <tr>\n",
              "      <th>155</th>\n",
              "      <td>2022-04-25</td>\n",
              "      <td>96.114067</td>\n",
              "      <td>NaN</td>\n",
              "      <td>NaN</td>\n",
              "      <td>NaN</td>\n",
              "      <td>0.0040</td>\n",
              "      <td>LTC</td>\n",
              "      <td>-0.081558</td>\n",
              "    </tr>\n",
              "  </tbody>\n",
              "</table>\n",
              "<p>156 rows × 8 columns</p>\n",
              "</div>\n",
              "      <button class=\"colab-df-convert\" onclick=\"convertToInteractive('df-cf598251-3851-4b57-913b-98a7ce22c4a8')\"\n",
              "              title=\"Convert this dataframe to an interactive table.\"\n",
              "              style=\"display:none;\">\n",
              "        \n",
              "  <svg xmlns=\"http://www.w3.org/2000/svg\" height=\"24px\"viewBox=\"0 0 24 24\"\n",
              "       width=\"24px\">\n",
              "    <path d=\"M0 0h24v24H0V0z\" fill=\"none\"/>\n",
              "    <path d=\"M18.56 5.44l.94 2.06.94-2.06 2.06-.94-2.06-.94-.94-2.06-.94 2.06-2.06.94zm-11 1L8.5 8.5l.94-2.06 2.06-.94-2.06-.94L8.5 2.5l-.94 2.06-2.06.94zm10 10l.94 2.06.94-2.06 2.06-.94-2.06-.94-.94-2.06-.94 2.06-2.06.94z\"/><path d=\"M17.41 7.96l-1.37-1.37c-.4-.4-.92-.59-1.43-.59-.52 0-1.04.2-1.43.59L10.3 9.45l-7.72 7.72c-.78.78-.78 2.05 0 2.83L4 21.41c.39.39.9.59 1.41.59.51 0 1.02-.2 1.41-.59l7.78-7.78 2.81-2.81c.8-.78.8-2.07 0-2.86zM5.41 20L4 18.59l7.72-7.72 1.47 1.35L5.41 20z\"/>\n",
              "  </svg>\n",
              "      </button>\n",
              "      \n",
              "  <style>\n",
              "    .colab-df-container {\n",
              "      display:flex;\n",
              "      flex-wrap:wrap;\n",
              "      gap: 12px;\n",
              "    }\n",
              "\n",
              "    .colab-df-convert {\n",
              "      background-color: #E8F0FE;\n",
              "      border: none;\n",
              "      border-radius: 50%;\n",
              "      cursor: pointer;\n",
              "      display: none;\n",
              "      fill: #1967D2;\n",
              "      height: 32px;\n",
              "      padding: 0 0 0 0;\n",
              "      width: 32px;\n",
              "    }\n",
              "\n",
              "    .colab-df-convert:hover {\n",
              "      background-color: #E2EBFA;\n",
              "      box-shadow: 0px 1px 2px rgba(60, 64, 67, 0.3), 0px 1px 3px 1px rgba(60, 64, 67, 0.15);\n",
              "      fill: #174EA6;\n",
              "    }\n",
              "\n",
              "    [theme=dark] .colab-df-convert {\n",
              "      background-color: #3B4455;\n",
              "      fill: #D2E3FC;\n",
              "    }\n",
              "\n",
              "    [theme=dark] .colab-df-convert:hover {\n",
              "      background-color: #434B5C;\n",
              "      box-shadow: 0px 1px 3px 1px rgba(0, 0, 0, 0.15);\n",
              "      filter: drop-shadow(0px 1px 2px rgba(0, 0, 0, 0.3));\n",
              "      fill: #FFFFFF;\n",
              "    }\n",
              "  </style>\n",
              "\n",
              "      <script>\n",
              "        const buttonEl =\n",
              "          document.querySelector('#df-cf598251-3851-4b57-913b-98a7ce22c4a8 button.colab-df-convert');\n",
              "        buttonEl.style.display =\n",
              "          google.colab.kernel.accessAllowed ? 'block' : 'none';\n",
              "\n",
              "        async function convertToInteractive(key) {\n",
              "          const element = document.querySelector('#df-cf598251-3851-4b57-913b-98a7ce22c4a8');\n",
              "          const dataTable =\n",
              "            await google.colab.kernel.invokeFunction('convertToInteractive',\n",
              "                                                     [key], {});\n",
              "          if (!dataTable) return;\n",
              "\n",
              "          const docLinkHtml = 'Like what you see? Visit the ' +\n",
              "            '<a target=\"_blank\" href=https://colab.research.google.com/notebooks/data_table.ipynb>data table notebook</a>'\n",
              "            + ' to learn more about interactive tables.';\n",
              "          element.innerHTML = '';\n",
              "          dataTable['output_type'] = 'display_data';\n",
              "          await google.colab.output.renderOutput(dataTable, element);\n",
              "          const docLink = document.createElement('div');\n",
              "          docLink.innerHTML = docLinkHtml;\n",
              "          element.appendChild(docLink);\n",
              "        }\n",
              "      </script>\n",
              "    </div>\n",
              "  </div>\n",
              "  "
            ]
          },
          "metadata": {},
          "execution_count": 9
        }
      ]
    },
    {
      "cell_type": "markdown",
      "source": [
        "## MOM Factor"
      ],
      "metadata": {
        "id": "kYD8nD44_lyf"
      }
    },
    {
      "cell_type": "markdown",
      "metadata": {
        "id": "w7hAW78NUD-9"
      },
      "source": [
        "### Get LargeCap Sample(maket cap > 10000)"
      ]
    },
    {
      "cell_type": "code",
      "source": [
        "### Define a Method to Get LargeCoin List\n",
        "\n",
        "def getLargeSample():\n",
        "    from tqdm import tqdm\n",
        "    largeList = []\n",
        "    print('Finding All Coins with More Than 1m Cap......')\n",
        "    for i in tqdm(symbolList):\n",
        "        if pd.read_json(requests.get(rootUrl + endPoints['MarketCap'], \n",
        "                                    params={'a': i, \n",
        "                                            'api_key': API_KEY, \n",
        "                                            'i':'1w'}).text, \n",
        "                        convert_dates=['t']).iloc[-1,1] > 1000000:\n",
        "            largeList.append(i)\n",
        "    print(\"\\nDone!\")\n",
        "\n",
        "    return largeList\n",
        "\n",
        "largeList = getLargeSample()"
      ],
      "metadata": {
        "colab": {
          "base_uri": "https://localhost:8080/"
        },
        "id": "y758Eangwhtq",
        "outputId": "7f7c2cae-e4b3-44ce-c374-dd9ce0511925"
      },
      "execution_count": 95,
      "outputs": [
        {
          "output_type": "stream",
          "name": "stdout",
          "text": [
            "Finding All Coins with More Than 1m Cap......\n"
          ]
        },
        {
          "output_type": "stream",
          "name": "stderr",
          "text": [
            "100%|██████████| 124/124 [00:50<00:00,  2.47it/s]"
          ]
        },
        {
          "output_type": "stream",
          "name": "stdout",
          "text": [
            "\n",
            "Done!\n"
          ]
        },
        {
          "output_type": "stream",
          "name": "stderr",
          "text": [
            "\n"
          ]
        }
      ]
    },
    {
      "cell_type": "code",
      "source": [
        "# Get largeCapSample_raw Data(Without Return)\n",
        "largeCapSample_raw = PullStart(largeList)"
      ],
      "metadata": {
        "colab": {
          "base_uri": "https://localhost:8080/"
        },
        "id": "X_lcLIJXyTot",
        "outputId": "4d7bc2aa-103c-47c6-ea50-564eaf4f4480"
      },
      "execution_count": 106,
      "outputs": [
        {
          "output_type": "stream",
          "name": "stderr",
          "text": [
            "\r  0%|          | 0/120 [00:00<?, ?it/s]"
          ]
        },
        {
          "output_type": "stream",
          "name": "stdout",
          "text": [
            "Start Pulling BTC's data:\n",
            "Pulling BTC's Price\n",
            "Pulling BTC's MarketCap\n",
            "Pulling BTC's TransactionCount\n",
            "Pulling BTC's ActiveAddress\n"
          ]
        },
        {
          "output_type": "stream",
          "name": "stderr",
          "text": [
            "\r  1%|          | 1/120 [00:03<06:20,  3.20s/it]"
          ]
        },
        {
          "output_type": "stream",
          "name": "stdout",
          "text": [
            "BTC data successfully pulled\n",
            "\n",
            "Start Pulling ETH's data:\n",
            "Pulling ETH's Price\n",
            "Pulling ETH's MarketCap\n",
            "Pulling ETH's TransactionCount\n",
            "Pulling ETH's ActiveAddress\n"
          ]
        },
        {
          "output_type": "stream",
          "name": "stderr",
          "text": [
            "\r  2%|▏         | 2/120 [00:04<04:12,  2.14s/it]"
          ]
        },
        {
          "output_type": "stream",
          "name": "stdout",
          "text": [
            "ETH data successfully pulled\n",
            "\n",
            "Start Pulling LTC's data:\n",
            "Pulling LTC's Price\n",
            "Pulling LTC's MarketCap\n",
            "Pulling LTC's TransactionCount\n",
            "Pulling LTC's ActiveAddress\n"
          ]
        },
        {
          "output_type": "stream",
          "name": "stderr",
          "text": [
            "\r  2%|▎         | 3/120 [00:07<04:24,  2.26s/it]"
          ]
        },
        {
          "output_type": "stream",
          "name": "stdout",
          "text": [
            "LTC data successfully pulled\n",
            "\n",
            "Start Pulling AAVE's data:\n",
            "Pulling AAVE's Price\n",
            "Pulling AAVE's MarketCap\n",
            "Pulling AAVE's TransactionCount\n",
            "Pulling AAVE's ActiveAddress\n"
          ]
        },
        {
          "output_type": "stream",
          "name": "stderr",
          "text": [
            "\r  3%|▎         | 4/120 [00:07<03:24,  1.76s/it]"
          ]
        },
        {
          "output_type": "stream",
          "name": "stdout",
          "text": [
            "AAVE data successfully pulled\n",
            "\n",
            "Start Pulling ABT's data:\n",
            "Pulling ABT's Price\n",
            "Pulling ABT's MarketCap\n",
            "Pulling ABT's TransactionCount\n",
            "Pulling ABT's ActiveAddress\n"
          ]
        },
        {
          "output_type": "stream",
          "name": "stderr",
          "text": [
            "\r  4%|▍         | 5/120 [00:09<03:04,  1.61s/it]"
          ]
        },
        {
          "output_type": "stream",
          "name": "stdout",
          "text": [
            "ABT data successfully pulled\n",
            "\n",
            "Start Pulling AMPL's data:\n",
            "Pulling AMPL's Price\n",
            "Pulling AMPL's MarketCap\n",
            "Pulling AMPL's TransactionCount\n",
            "Pulling AMPL's ActiveAddress\n"
          ]
        },
        {
          "output_type": "stream",
          "name": "stderr",
          "text": [
            "\r  5%|▌         | 6/120 [00:10<02:40,  1.40s/it]"
          ]
        },
        {
          "output_type": "stream",
          "name": "stdout",
          "text": [
            "AMPL data successfully pulled\n",
            "\n",
            "Start Pulling ANT's data:\n",
            "Pulling ANT's Price\n",
            "Pulling ANT's MarketCap\n",
            "Pulling ANT's TransactionCount\n",
            "Pulling ANT's ActiveAddress\n"
          ]
        },
        {
          "output_type": "stream",
          "name": "stderr",
          "text": [
            "\r  6%|▌         | 7/120 [00:11<02:34,  1.37s/it]"
          ]
        },
        {
          "output_type": "stream",
          "name": "stdout",
          "text": [
            "ANT data successfully pulled\n",
            "\n",
            "Start Pulling ARMOR's data:\n",
            "Pulling ARMOR's Price\n",
            "Pulling ARMOR's MarketCap\n",
            "Pulling ARMOR's TransactionCount\n",
            "Pulling ARMOR's ActiveAddress\n"
          ]
        },
        {
          "output_type": "stream",
          "name": "stderr",
          "text": [
            "\r  7%|▋         | 8/120 [00:12<02:19,  1.24s/it]"
          ]
        },
        {
          "output_type": "stream",
          "name": "stdout",
          "text": [
            "ARMOR data successfully pulled\n",
            "\n",
            "Start Pulling BADGER's data:\n",
            "Pulling BADGER's Price\n",
            "Pulling BADGER's MarketCap\n",
            "Pulling BADGER's TransactionCount\n",
            "Pulling BADGER's ActiveAddress\n"
          ]
        },
        {
          "output_type": "stream",
          "name": "stderr",
          "text": [
            "\r  8%|▊         | 9/120 [00:13<02:10,  1.17s/it]"
          ]
        },
        {
          "output_type": "stream",
          "name": "stdout",
          "text": [
            "BADGER data successfully pulled\n",
            "\n",
            "Start Pulling BAL's data:\n",
            "Pulling BAL's Price\n",
            "Pulling BAL's MarketCap\n",
            "Pulling BAL's TransactionCount\n",
            "Pulling BAL's ActiveAddress\n"
          ]
        },
        {
          "output_type": "stream",
          "name": "stderr",
          "text": [
            "\r  8%|▊         | 10/120 [00:14<02:00,  1.10s/it]"
          ]
        },
        {
          "output_type": "stream",
          "name": "stdout",
          "text": [
            "BAL data successfully pulled\n",
            "\n",
            "Start Pulling BAND's data:\n",
            "Pulling BAND's Price\n",
            "Pulling BAND's MarketCap\n",
            "Pulling BAND's TransactionCount\n",
            "Pulling BAND's ActiveAddress\n"
          ]
        },
        {
          "output_type": "stream",
          "name": "stderr",
          "text": [
            "\r  9%|▉         | 11/120 [00:15<01:58,  1.08s/it]"
          ]
        },
        {
          "output_type": "stream",
          "name": "stdout",
          "text": [
            "BAND data successfully pulled\n",
            "\n",
            "Start Pulling BAT's data:\n",
            "Pulling BAT's Price\n",
            "Pulling BAT's MarketCap\n",
            "Pulling BAT's TransactionCount\n",
            "Pulling BAT's ActiveAddress\n"
          ]
        },
        {
          "output_type": "stream",
          "name": "stderr",
          "text": [
            "\r 10%|█         | 12/120 [00:16<01:59,  1.10s/it]"
          ]
        },
        {
          "output_type": "stream",
          "name": "stdout",
          "text": [
            "BAT data successfully pulled\n",
            "\n",
            "Start Pulling BIX's data:\n",
            "Pulling BIX's Price\n",
            "Pulling BIX's MarketCap\n",
            "Pulling BIX's TransactionCount\n",
            "Pulling BIX's ActiveAddress\n"
          ]
        },
        {
          "output_type": "stream",
          "name": "stderr",
          "text": [
            "\r 11%|█         | 13/120 [00:18<02:02,  1.15s/it]"
          ]
        },
        {
          "output_type": "stream",
          "name": "stdout",
          "text": [
            "BIX data successfully pulled\n",
            "\n",
            "Start Pulling BNT's data:\n",
            "Pulling BNT's Price\n",
            "Pulling BNT's MarketCap\n",
            "Pulling BNT's TransactionCount\n",
            "Pulling BNT's ActiveAddress\n"
          ]
        },
        {
          "output_type": "stream",
          "name": "stderr",
          "text": [
            "\r 12%|█▏        | 14/120 [00:19<02:08,  1.21s/it]"
          ]
        },
        {
          "output_type": "stream",
          "name": "stdout",
          "text": [
            "BNT data successfully pulled\n",
            "\n",
            "Start Pulling BOND's data:\n",
            "Pulling BOND's Price\n",
            "Pulling BOND's MarketCap\n",
            "Pulling BOND's TransactionCount\n",
            "Pulling BOND's ActiveAddress\n"
          ]
        },
        {
          "output_type": "stream",
          "name": "stderr",
          "text": [
            "\r 12%|█▎        | 15/120 [00:20<02:03,  1.17s/it]"
          ]
        },
        {
          "output_type": "stream",
          "name": "stdout",
          "text": [
            "BOND data successfully pulled\n",
            "\n",
            "Start Pulling BRD's data:\n",
            "Pulling BRD's Price\n",
            "Pulling BRD's MarketCap\n",
            "Pulling BRD's TransactionCount\n",
            "Pulling BRD's ActiveAddress\n"
          ]
        },
        {
          "output_type": "stream",
          "name": "stderr",
          "text": [
            "\r 13%|█▎        | 16/120 [00:22<02:25,  1.40s/it]"
          ]
        },
        {
          "output_type": "stream",
          "name": "stdout",
          "text": [
            "BRD data successfully pulled\n",
            "\n",
            "Start Pulling BUSD's data:\n",
            "Pulling BUSD's Price\n",
            "Pulling BUSD's MarketCap\n",
            "Pulling BUSD's TransactionCount\n",
            "Pulling BUSD's ActiveAddress\n"
          ]
        },
        {
          "output_type": "stream",
          "name": "stderr",
          "text": [
            "\r 14%|█▍        | 17/120 [00:23<02:19,  1.36s/it]"
          ]
        },
        {
          "output_type": "stream",
          "name": "stdout",
          "text": [
            "BUSD data successfully pulled\n",
            "\n",
            "Start Pulling BZRX's data:\n",
            "Pulling BZRX's Price\n",
            "Pulling BZRX's MarketCap\n",
            "Pulling BZRX's TransactionCount\n",
            "Pulling BZRX's ActiveAddress\n"
          ]
        },
        {
          "output_type": "stream",
          "name": "stderr",
          "text": [
            "\r 15%|█▌        | 18/120 [00:24<02:08,  1.26s/it]"
          ]
        },
        {
          "output_type": "stream",
          "name": "stdout",
          "text": [
            "BZRX data successfully pulled\n",
            "\n",
            "Start Pulling CELR's data:\n",
            "Pulling CELR's Price\n",
            "Pulling CELR's MarketCap\n",
            "Pulling CELR's TransactionCount\n",
            "Pulling CELR's ActiveAddress\n"
          ]
        },
        {
          "output_type": "stream",
          "name": "stderr",
          "text": [
            "\r 16%|█▌        | 19/120 [00:25<02:00,  1.19s/it]"
          ]
        },
        {
          "output_type": "stream",
          "name": "stdout",
          "text": [
            "CELR data successfully pulled\n",
            "\n",
            "Start Pulling CHSB's data:\n",
            "Pulling CHSB's Price\n",
            "Pulling CHSB's MarketCap\n",
            "Pulling CHSB's TransactionCount\n",
            "Pulling CHSB's ActiveAddress\n"
          ]
        },
        {
          "output_type": "stream",
          "name": "stderr",
          "text": [
            "\r 17%|█▋        | 20/120 [00:26<01:57,  1.17s/it]"
          ]
        },
        {
          "output_type": "stream",
          "name": "stdout",
          "text": [
            "CHSB data successfully pulled\n",
            "\n",
            "Start Pulling CND's data:\n",
            "Pulling CND's Price\n",
            "Pulling CND's MarketCap\n",
            "Pulling CND's TransactionCount\n",
            "Pulling CND's ActiveAddress\n"
          ]
        },
        {
          "output_type": "stream",
          "name": "stderr",
          "text": [
            "\r 18%|█▊        | 21/120 [00:28<01:57,  1.19s/it]"
          ]
        },
        {
          "output_type": "stream",
          "name": "stdout",
          "text": [
            "CND data successfully pulled\n",
            "\n",
            "Start Pulling COMP's data:\n",
            "Pulling COMP's Price\n",
            "Pulling COMP's MarketCap\n",
            "Pulling COMP's TransactionCount\n",
            "Pulling COMP's ActiveAddress\n"
          ]
        },
        {
          "output_type": "stream",
          "name": "stderr",
          "text": [
            "\r 18%|█▊        | 22/120 [00:29<01:52,  1.15s/it]"
          ]
        },
        {
          "output_type": "stream",
          "name": "stdout",
          "text": [
            "COMP data successfully pulled\n",
            "\n",
            "Start Pulling CREAM's data:\n",
            "Pulling CREAM's Price\n",
            "Pulling CREAM's MarketCap\n",
            "Pulling CREAM's TransactionCount\n",
            "Pulling CREAM's ActiveAddress\n"
          ]
        },
        {
          "output_type": "stream",
          "name": "stderr",
          "text": [
            "\r 19%|█▉        | 23/120 [00:30<01:48,  1.12s/it]"
          ]
        },
        {
          "output_type": "stream",
          "name": "stdout",
          "text": [
            "CREAM data successfully pulled\n",
            "\n",
            "Start Pulling CRO's data:\n",
            "Pulling CRO's Price\n",
            "Pulling CRO's MarketCap\n",
            "Pulling CRO's TransactionCount\n",
            "Pulling CRO's ActiveAddress\n"
          ]
        },
        {
          "output_type": "stream",
          "name": "stderr",
          "text": [
            "\r 20%|██        | 24/120 [00:31<01:46,  1.10s/it]"
          ]
        },
        {
          "output_type": "stream",
          "name": "stdout",
          "text": [
            "CRO data successfully pulled\n",
            "\n",
            "Start Pulling CRV's data:\n",
            "Pulling CRV's Price\n",
            "Pulling CRV's MarketCap\n",
            "Pulling CRV's TransactionCount\n",
            "Pulling CRV's ActiveAddress\n"
          ]
        },
        {
          "output_type": "stream",
          "name": "stderr",
          "text": [
            "\r 21%|██        | 25/120 [00:32<01:44,  1.10s/it]"
          ]
        },
        {
          "output_type": "stream",
          "name": "stdout",
          "text": [
            "CRV data successfully pulled\n",
            "\n",
            "Start Pulling CVC's data:\n",
            "Pulling CVC's Price\n",
            "Pulling CVC's MarketCap\n",
            "Pulling CVC's TransactionCount\n",
            "Pulling CVC's ActiveAddress\n"
          ]
        },
        {
          "output_type": "stream",
          "name": "stderr",
          "text": [
            "\r 22%|██▏       | 26/120 [00:33<01:44,  1.11s/it]"
          ]
        },
        {
          "output_type": "stream",
          "name": "stdout",
          "text": [
            "CVC data successfully pulled\n",
            "\n",
            "Start Pulling CVP's data:\n",
            "Pulling CVP's Price\n",
            "Pulling CVP's MarketCap\n",
            "Pulling CVP's TransactionCount\n",
            "Pulling CVP's ActiveAddress\n"
          ]
        },
        {
          "output_type": "stream",
          "name": "stderr",
          "text": [
            "\r 22%|██▎       | 27/120 [00:34<01:48,  1.17s/it]"
          ]
        },
        {
          "output_type": "stream",
          "name": "stdout",
          "text": [
            "CVP data successfully pulled\n",
            "\n",
            "Start Pulling DAI's data:\n",
            "Pulling DAI's Price\n",
            "Pulling DAI's MarketCap\n",
            "Pulling DAI's TransactionCount\n",
            "Pulling DAI's ActiveAddress\n"
          ]
        },
        {
          "output_type": "stream",
          "name": "stderr",
          "text": [
            "\r 23%|██▎       | 28/120 [00:35<01:47,  1.17s/it]"
          ]
        },
        {
          "output_type": "stream",
          "name": "stdout",
          "text": [
            "DAI data successfully pulled\n",
            "\n",
            "Start Pulling DDX's data:\n",
            "Pulling DDX's Price\n",
            "Pulling DDX's MarketCap\n",
            "Pulling DDX's TransactionCount\n",
            "Pulling DDX's ActiveAddress\n"
          ]
        },
        {
          "output_type": "stream",
          "name": "stderr",
          "text": [
            "\r 24%|██▍       | 29/120 [00:37<01:47,  1.18s/it]"
          ]
        },
        {
          "output_type": "stream",
          "name": "stdout",
          "text": [
            "DDX data successfully pulled\n",
            "\n",
            "Start Pulling DENT's data:\n",
            "Pulling DENT's Price\n",
            "Pulling DENT's MarketCap\n",
            "Pulling DENT's TransactionCount\n",
            "Pulling DENT's ActiveAddress\n"
          ]
        },
        {
          "output_type": "stream",
          "name": "stderr",
          "text": [
            "\r 25%|██▌       | 30/120 [00:38<01:46,  1.18s/it]"
          ]
        },
        {
          "output_type": "stream",
          "name": "stdout",
          "text": [
            "DENT data successfully pulled\n",
            "\n",
            "Start Pulling DGX's data:\n",
            "Pulling DGX's Price\n",
            "Pulling DGX's MarketCap\n",
            "Pulling DGX's TransactionCount\n",
            "Pulling DGX's ActiveAddress\n"
          ]
        },
        {
          "output_type": "stream",
          "name": "stderr",
          "text": [
            "\r 26%|██▌       | 31/120 [00:39<01:42,  1.15s/it]"
          ]
        },
        {
          "output_type": "stream",
          "name": "stdout",
          "text": [
            "DGX data successfully pulled\n",
            "\n",
            "Start Pulling DHT's data:\n",
            "Pulling DHT's Price\n",
            "Pulling DHT's MarketCap\n",
            "Pulling DHT's TransactionCount\n",
            "Pulling DHT's ActiveAddress\n"
          ]
        },
        {
          "output_type": "stream",
          "name": "stderr",
          "text": [
            "\r 27%|██▋       | 32/120 [00:40<01:38,  1.12s/it]"
          ]
        },
        {
          "output_type": "stream",
          "name": "stdout",
          "text": [
            "DHT data successfully pulled\n",
            "\n",
            "Start Pulling DMG's data:\n",
            "Pulling DMG's Price\n",
            "Pulling DMG's MarketCap\n",
            "Pulling DMG's TransactionCount\n",
            "Pulling DMG's ActiveAddress\n"
          ]
        },
        {
          "output_type": "stream",
          "name": "stderr",
          "text": [
            "\r 28%|██▊       | 33/120 [00:41<01:34,  1.09s/it]"
          ]
        },
        {
          "output_type": "stream",
          "name": "stdout",
          "text": [
            "DMG data successfully pulled\n",
            "\n",
            "Start Pulling DODO's data:\n",
            "Pulling DODO's Price\n",
            "Pulling DODO's MarketCap\n",
            "Pulling DODO's TransactionCount\n",
            "Pulling DODO's ActiveAddress\n"
          ]
        },
        {
          "output_type": "stream",
          "name": "stderr",
          "text": [
            "\r 28%|██▊       | 34/120 [00:42<01:30,  1.05s/it]"
          ]
        },
        {
          "output_type": "stream",
          "name": "stdout",
          "text": [
            "DODO data successfully pulled\n",
            "\n",
            "Start Pulling DOUGH's data:\n",
            "Pulling DOUGH's Price\n",
            "Pulling DOUGH's MarketCap\n",
            "Pulling DOUGH's TransactionCount\n",
            "Pulling DOUGH's ActiveAddress\n"
          ]
        },
        {
          "output_type": "stream",
          "name": "stderr",
          "text": [
            "\r 29%|██▉       | 35/120 [00:43<01:27,  1.03s/it]"
          ]
        },
        {
          "output_type": "stream",
          "name": "stdout",
          "text": [
            "DOUGH data successfully pulled\n",
            "\n",
            "Start Pulling DRGN's data:\n",
            "Pulling DRGN's Price\n",
            "Pulling DRGN's MarketCap\n",
            "Pulling DRGN's TransactionCount\n",
            "Pulling DRGN's ActiveAddress\n"
          ]
        },
        {
          "output_type": "stream",
          "name": "stderr",
          "text": [
            "\r 30%|███       | 36/120 [00:44<01:29,  1.07s/it]"
          ]
        },
        {
          "output_type": "stream",
          "name": "stdout",
          "text": [
            "DRGN data successfully pulled\n",
            "\n",
            "Start Pulling ELF's data:\n",
            "Pulling ELF's Price\n",
            "Pulling ELF's MarketCap\n",
            "Pulling ELF's TransactionCount\n",
            "Pulling ELF's ActiveAddress\n"
          ]
        },
        {
          "output_type": "stream",
          "name": "stderr",
          "text": [
            "\r 31%|███       | 37/120 [00:45<01:36,  1.16s/it]"
          ]
        },
        {
          "output_type": "stream",
          "name": "stdout",
          "text": [
            "ELF data successfully pulled\n",
            "\n",
            "Start Pulling ENJ's data:\n",
            "Pulling ENJ's Price\n",
            "Pulling ENJ's MarketCap\n",
            "Pulling ENJ's TransactionCount\n",
            "Pulling ENJ's ActiveAddress\n"
          ]
        },
        {
          "output_type": "stream",
          "name": "stderr",
          "text": [
            "\r 32%|███▏      | 38/120 [00:47<01:41,  1.24s/it]"
          ]
        },
        {
          "output_type": "stream",
          "name": "stdout",
          "text": [
            "ENJ data successfully pulled\n",
            "\n",
            "Start Pulling EURS's data:\n",
            "Pulling EURS's Price\n",
            "Pulling EURS's MarketCap\n",
            "Pulling EURS's TransactionCount\n",
            "Pulling EURS's ActiveAddress\n"
          ]
        },
        {
          "output_type": "stream",
          "name": "stderr",
          "text": [
            "\r 32%|███▎      | 39/120 [00:48<01:43,  1.28s/it]"
          ]
        },
        {
          "output_type": "stream",
          "name": "stdout",
          "text": [
            "EURS data successfully pulled\n",
            "\n",
            "Start Pulling FET's data:\n",
            "Pulling FET's Price\n",
            "Pulling FET's MarketCap\n",
            "Pulling FET's TransactionCount\n",
            "Pulling FET's ActiveAddress\n"
          ]
        },
        {
          "output_type": "stream",
          "name": "stderr",
          "text": [
            "\r 33%|███▎      | 40/120 [00:49<01:36,  1.20s/it]"
          ]
        },
        {
          "output_type": "stream",
          "name": "stdout",
          "text": [
            "FET data successfully pulled\n",
            "\n",
            "Start Pulling FTT's data:\n",
            "Pulling FTT's Price\n",
            "Pulling FTT's MarketCap\n",
            "Pulling FTT's TransactionCount\n",
            "Pulling FTT's ActiveAddress\n"
          ]
        },
        {
          "output_type": "stream",
          "name": "stderr",
          "text": [
            "\r 34%|███▍      | 41/120 [00:50<01:33,  1.19s/it]"
          ]
        },
        {
          "output_type": "stream",
          "name": "stdout",
          "text": [
            "FTT data successfully pulled\n",
            "\n",
            "Start Pulling FUN's data:\n",
            "Pulling FUN's Price\n",
            "Pulling FUN's MarketCap\n",
            "Pulling FUN's TransactionCount\n",
            "Pulling FUN's ActiveAddress\n"
          ]
        },
        {
          "output_type": "stream",
          "name": "stderr",
          "text": [
            "\r 35%|███▌      | 42/120 [00:52<01:35,  1.23s/it]"
          ]
        },
        {
          "output_type": "stream",
          "name": "stdout",
          "text": [
            "FUN data successfully pulled\n",
            "\n",
            "Start Pulling GNO's data:\n",
            "Pulling GNO's Price\n",
            "Pulling GNO's MarketCap\n",
            "Pulling GNO's TransactionCount\n",
            "Pulling GNO's ActiveAddress\n"
          ]
        },
        {
          "output_type": "stream",
          "name": "stderr",
          "text": [
            "\r 36%|███▌      | 43/120 [00:53<01:34,  1.22s/it]"
          ]
        },
        {
          "output_type": "stream",
          "name": "stdout",
          "text": [
            "GNO data successfully pulled\n",
            "\n",
            "Start Pulling GUSD's data:\n",
            "Pulling GUSD's Price\n",
            "Pulling GUSD's MarketCap\n",
            "Pulling GUSD's TransactionCount\n",
            "Pulling GUSD's ActiveAddress\n"
          ]
        },
        {
          "output_type": "stream",
          "name": "stderr",
          "text": [
            "\r 37%|███▋      | 44/120 [00:54<01:35,  1.26s/it]"
          ]
        },
        {
          "output_type": "stream",
          "name": "stdout",
          "text": [
            "GUSD data successfully pulled\n",
            "\n",
            "Start Pulling HEGIC's data:\n",
            "Pulling HEGIC's Price\n",
            "Pulling HEGIC's MarketCap\n",
            "Pulling HEGIC's TransactionCount\n",
            "Pulling HEGIC's ActiveAddress\n"
          ]
        },
        {
          "output_type": "stream",
          "name": "stderr",
          "text": [
            "\r 38%|███▊      | 45/120 [00:55<01:32,  1.23s/it]"
          ]
        },
        {
          "output_type": "stream",
          "name": "stdout",
          "text": [
            "HEGIC data successfully pulled\n",
            "\n",
            "Start Pulling HOT's data:\n",
            "Pulling HOT's Price\n",
            "Pulling HOT's MarketCap\n",
            "Pulling HOT's TransactionCount\n",
            "Pulling HOT's ActiveAddress\n"
          ]
        },
        {
          "output_type": "stream",
          "name": "stderr",
          "text": [
            "\r 38%|███▊      | 46/120 [00:57<01:44,  1.41s/it]"
          ]
        },
        {
          "output_type": "stream",
          "name": "stdout",
          "text": [
            "HOT data successfully pulled\n",
            "\n",
            "Start Pulling HPT's data:\n",
            "Pulling HPT's Price\n",
            "Pulling HPT's MarketCap\n",
            "Pulling HPT's TransactionCount\n",
            "Pulling HPT's ActiveAddress\n"
          ]
        },
        {
          "output_type": "stream",
          "name": "stderr",
          "text": [
            "\r 39%|███▉      | 47/120 [00:59<01:43,  1.42s/it]"
          ]
        },
        {
          "output_type": "stream",
          "name": "stdout",
          "text": [
            "HPT data successfully pulled\n",
            "\n",
            "Start Pulling HT's data:\n",
            "Pulling HT's Price\n",
            "Pulling HT's MarketCap\n",
            "Pulling HT's TransactionCount\n",
            "Pulling HT's ActiveAddress\n"
          ]
        },
        {
          "output_type": "stream",
          "name": "stderr",
          "text": [
            "\r 40%|████      | 48/120 [01:00<01:37,  1.35s/it]"
          ]
        },
        {
          "output_type": "stream",
          "name": "stdout",
          "text": [
            "HT data successfully pulled\n",
            "\n",
            "Start Pulling HUSD's data:\n",
            "Pulling HUSD's Price\n",
            "Pulling HUSD's MarketCap\n",
            "Pulling HUSD's TransactionCount\n",
            "Pulling HUSD's ActiveAddress\n"
          ]
        },
        {
          "output_type": "stream",
          "name": "stderr",
          "text": [
            "\r 41%|████      | 49/120 [01:01<01:31,  1.28s/it]"
          ]
        },
        {
          "output_type": "stream",
          "name": "stdout",
          "text": [
            "HUSD data successfully pulled\n",
            "\n",
            "Start Pulling KCS's data:\n",
            "Pulling KCS's Price\n",
            "Pulling KCS's MarketCap\n",
            "Pulling KCS's TransactionCount\n",
            "Pulling KCS's ActiveAddress\n"
          ]
        },
        {
          "output_type": "stream",
          "name": "stderr",
          "text": [
            "\r 42%|████▏     | 50/120 [01:02<01:29,  1.27s/it]"
          ]
        },
        {
          "output_type": "stream",
          "name": "stdout",
          "text": [
            "KCS data successfully pulled\n",
            "\n",
            "Start Pulling LAMB's data:\n",
            "Pulling LAMB's Price\n",
            "Pulling LAMB's MarketCap\n",
            "Pulling LAMB's TransactionCount\n",
            "Pulling LAMB's ActiveAddress\n"
          ]
        },
        {
          "output_type": "stream",
          "name": "stderr",
          "text": [
            "\r 42%|████▎     | 51/120 [01:03<01:22,  1.20s/it]"
          ]
        },
        {
          "output_type": "stream",
          "name": "stdout",
          "text": [
            "LAMB data successfully pulled\n",
            "\n",
            "Start Pulling LBA's data:\n",
            "Pulling LBA's Price\n",
            "Pulling LBA's MarketCap\n",
            "Pulling LBA's TransactionCount\n",
            "Pulling LBA's ActiveAddress\n"
          ]
        },
        {
          "output_type": "stream",
          "name": "stderr",
          "text": [
            "\r 43%|████▎     | 52/120 [01:04<01:18,  1.16s/it]"
          ]
        },
        {
          "output_type": "stream",
          "name": "stdout",
          "text": [
            "LBA data successfully pulled\n",
            "\n",
            "Start Pulling LDO's data:\n",
            "Pulling LDO's Price\n",
            "Pulling LDO's MarketCap\n",
            "Pulling LDO's TransactionCount\n",
            "Pulling LDO's ActiveAddress\n"
          ]
        },
        {
          "output_type": "stream",
          "name": "stderr",
          "text": [
            "\r 44%|████▍     | 53/120 [01:05<01:14,  1.12s/it]"
          ]
        },
        {
          "output_type": "stream",
          "name": "stdout",
          "text": [
            "LDO data successfully pulled\n",
            "\n",
            "Start Pulling LEO's data:\n",
            "Pulling LEO's Price\n",
            "Pulling LEO's MarketCap\n",
            "Pulling LEO's TransactionCount\n",
            "Pulling LEO's ActiveAddress\n"
          ]
        },
        {
          "output_type": "stream",
          "name": "stderr",
          "text": [
            "\r 45%|████▌     | 54/120 [01:07<01:14,  1.13s/it]"
          ]
        },
        {
          "output_type": "stream",
          "name": "stdout",
          "text": [
            "LEO data successfully pulled\n",
            "\n",
            "Start Pulling LINK's data:\n",
            "Pulling LINK's Price\n",
            "Pulling LINK's MarketCap\n",
            "Pulling LINK's TransactionCount\n",
            "Pulling LINK's ActiveAddress\n"
          ]
        },
        {
          "output_type": "stream",
          "name": "stderr",
          "text": [
            "\r 46%|████▌     | 55/120 [01:08<01:13,  1.13s/it]"
          ]
        },
        {
          "output_type": "stream",
          "name": "stdout",
          "text": [
            "LINK data successfully pulled\n",
            "\n",
            "Start Pulling LOOM's data:\n",
            "Pulling LOOM's Price\n",
            "Pulling LOOM's MarketCap\n",
            "Pulling LOOM's TransactionCount\n",
            "Pulling LOOM's ActiveAddress\n"
          ]
        },
        {
          "output_type": "stream",
          "name": "stderr",
          "text": [
            "\r 47%|████▋     | 56/120 [01:09<01:12,  1.13s/it]"
          ]
        },
        {
          "output_type": "stream",
          "name": "stdout",
          "text": [
            "LOOM data successfully pulled\n",
            "\n",
            "Start Pulling LRC's data:\n",
            "Pulling LRC's Price\n",
            "Pulling LRC's MarketCap\n",
            "Pulling LRC's TransactionCount\n",
            "Pulling LRC's ActiveAddress\n"
          ]
        },
        {
          "output_type": "stream",
          "name": "stderr",
          "text": [
            "\r 48%|████▊     | 57/120 [01:10<01:18,  1.25s/it]"
          ]
        },
        {
          "output_type": "stream",
          "name": "stdout",
          "text": [
            "LRC data successfully pulled\n",
            "\n",
            "Start Pulling MANA's data:\n",
            "Pulling MANA's Price\n",
            "Pulling MANA's MarketCap\n",
            "Pulling MANA's TransactionCount\n",
            "Pulling MANA's ActiveAddress\n"
          ]
        },
        {
          "output_type": "stream",
          "name": "stderr",
          "text": [
            "\r 48%|████▊     | 58/120 [01:12<01:25,  1.37s/it]"
          ]
        },
        {
          "output_type": "stream",
          "name": "stdout",
          "text": [
            "MANA data successfully pulled\n",
            "\n",
            "Start Pulling MATIC's data:\n",
            "Pulling MATIC's Price\n",
            "Pulling MATIC's MarketCap\n",
            "Pulling MATIC's TransactionCount\n",
            "Pulling MATIC's ActiveAddress\n"
          ]
        },
        {
          "output_type": "stream",
          "name": "stderr",
          "text": [
            "\r 49%|████▉     | 59/120 [01:13<01:17,  1.27s/it]"
          ]
        },
        {
          "output_type": "stream",
          "name": "stdout",
          "text": [
            "MATIC data successfully pulled\n",
            "\n",
            "Start Pulling MCB's data:\n",
            "Pulling MCB's Price\n",
            "Pulling MCB's MarketCap\n",
            "Pulling MCB's TransactionCount\n",
            "Pulling MCB's ActiveAddress\n"
          ]
        },
        {
          "output_type": "stream",
          "name": "stderr",
          "text": [
            "\r 50%|█████     | 60/120 [01:14<01:10,  1.18s/it]"
          ]
        },
        {
          "output_type": "stream",
          "name": "stdout",
          "text": [
            "MCB data successfully pulled\n",
            "\n",
            "Start Pulling MCO's data:\n",
            "Pulling MCO's Price\n",
            "Pulling MCO's MarketCap\n",
            "Pulling MCO's TransactionCount\n",
            "Pulling MCO's ActiveAddress\n"
          ]
        },
        {
          "output_type": "stream",
          "name": "stderr",
          "text": [
            "\r 51%|█████     | 61/120 [01:15<01:07,  1.15s/it]"
          ]
        },
        {
          "output_type": "stream",
          "name": "stdout",
          "text": [
            "MCO data successfully pulled\n",
            "\n",
            "Start Pulling MFT's data:\n",
            "Pulling MFT's Price\n",
            "Pulling MFT's MarketCap\n",
            "Pulling MFT's TransactionCount\n",
            "Pulling MFT's ActiveAddress\n"
          ]
        },
        {
          "output_type": "stream",
          "name": "stderr",
          "text": [
            "\r 52%|█████▏    | 62/120 [01:16<01:06,  1.15s/it]"
          ]
        },
        {
          "output_type": "stream",
          "name": "stdout",
          "text": [
            "MFT data successfully pulled\n",
            "\n",
            "Start Pulling MIR's data:\n",
            "Pulling MIR's Price\n",
            "Pulling MIR's MarketCap\n",
            "Pulling MIR's TransactionCount\n",
            "Pulling MIR's ActiveAddress\n"
          ]
        },
        {
          "output_type": "stream",
          "name": "stderr",
          "text": [
            "\r 52%|█████▎    | 63/120 [01:17<01:02,  1.10s/it]"
          ]
        },
        {
          "output_type": "stream",
          "name": "stdout",
          "text": [
            "MIR data successfully pulled\n",
            "\n",
            "Start Pulling MKR's data:\n",
            "Pulling MKR's Price\n",
            "Pulling MKR's MarketCap\n",
            "Pulling MKR's TransactionCount\n",
            "Pulling MKR's ActiveAddress\n"
          ]
        },
        {
          "output_type": "stream",
          "name": "stderr",
          "text": [
            "\r 53%|█████▎    | 64/120 [01:19<01:05,  1.17s/it]"
          ]
        },
        {
          "output_type": "stream",
          "name": "stdout",
          "text": [
            "MKR data successfully pulled\n",
            "\n",
            "Start Pulling MLN's data:\n",
            "Pulling MLN's Price\n",
            "Pulling MLN's MarketCap\n",
            "Pulling MLN's TransactionCount\n",
            "Pulling MLN's ActiveAddress\n"
          ]
        },
        {
          "output_type": "stream",
          "name": "stderr",
          "text": [
            "\r 54%|█████▍    | 65/120 [01:20<01:16,  1.38s/it]"
          ]
        },
        {
          "output_type": "stream",
          "name": "stdout",
          "text": [
            "MLN data successfully pulled\n",
            "\n",
            "Start Pulling MTA's data:\n",
            "Pulling MTA's Price\n",
            "Pulling MTA's MarketCap\n",
            "Pulling MTA's TransactionCount\n",
            "Pulling MTA's ActiveAddress\n"
          ]
        },
        {
          "output_type": "stream",
          "name": "stderr",
          "text": [
            "\r 55%|█████▌    | 66/120 [01:21<01:08,  1.26s/it]"
          ]
        },
        {
          "output_type": "stream",
          "name": "stdout",
          "text": [
            "MTA data successfully pulled\n",
            "\n",
            "Start Pulling MTL's data:\n",
            "Pulling MTL's Price\n",
            "Pulling MTL's MarketCap\n",
            "Pulling MTL's TransactionCount\n",
            "Pulling MTL's ActiveAddress\n"
          ]
        },
        {
          "output_type": "stream",
          "name": "stderr",
          "text": [
            "\r 56%|█████▌    | 67/120 [01:23<01:17,  1.46s/it]"
          ]
        },
        {
          "output_type": "stream",
          "name": "stdout",
          "text": [
            "MTL data successfully pulled\n",
            "\n",
            "Start Pulling MX's data:\n",
            "Pulling MX's Price\n",
            "Pulling MX's MarketCap\n",
            "Pulling MX's TransactionCount\n",
            "Pulling MX's ActiveAddress\n"
          ]
        },
        {
          "output_type": "stream",
          "name": "stderr",
          "text": [
            "\r 57%|█████▋    | 68/120 [01:25<01:12,  1.39s/it]"
          ]
        },
        {
          "output_type": "stream",
          "name": "stdout",
          "text": [
            "MX data successfully pulled\n",
            "\n",
            "Start Pulling NDX's data:\n",
            "Pulling NDX's Price\n",
            "Pulling NDX's MarketCap\n",
            "Pulling NDX's TransactionCount\n",
            "Pulling NDX's ActiveAddress\n"
          ]
        },
        {
          "output_type": "stream",
          "name": "stderr",
          "text": [
            "\r 57%|█████▊    | 69/120 [01:26<01:09,  1.35s/it]"
          ]
        },
        {
          "output_type": "stream",
          "name": "stdout",
          "text": [
            "NDX data successfully pulled\n",
            "\n",
            "Start Pulling NEXO's data:\n",
            "Pulling NEXO's Price\n",
            "Pulling NEXO's MarketCap\n",
            "Pulling NEXO's TransactionCount\n",
            "Pulling NEXO's ActiveAddress\n"
          ]
        },
        {
          "output_type": "stream",
          "name": "stderr",
          "text": [
            "\r 58%|█████▊    | 70/120 [01:27<01:05,  1.31s/it]"
          ]
        },
        {
          "output_type": "stream",
          "name": "stdout",
          "text": [
            "NEXO data successfully pulled\n",
            "\n",
            "Start Pulling NFTX's data:\n",
            "Pulling NFTX's Price\n",
            "Pulling NFTX's MarketCap\n",
            "Pulling NFTX's TransactionCount\n",
            "Pulling NFTX's ActiveAddress\n"
          ]
        },
        {
          "output_type": "stream",
          "name": "stderr",
          "text": [
            "\r 59%|█████▉    | 71/120 [01:28<00:59,  1.22s/it]"
          ]
        },
        {
          "output_type": "stream",
          "name": "stdout",
          "text": [
            "NFTX data successfully pulled\n",
            "\n",
            "Start Pulling NMR's data:\n",
            "Pulling NMR's Price\n",
            "Pulling NMR's MarketCap\n",
            "Pulling NMR's TransactionCount\n",
            "Pulling NMR's ActiveAddress\n"
          ]
        },
        {
          "output_type": "stream",
          "name": "stderr",
          "text": [
            "\r 60%|██████    | 72/120 [01:29<00:57,  1.21s/it]"
          ]
        },
        {
          "output_type": "stream",
          "name": "stdout",
          "text": [
            "NMR data successfully pulled\n",
            "\n",
            "Start Pulling OCEAN's data:\n",
            "Pulling OCEAN's Price\n",
            "Pulling OCEAN's MarketCap\n",
            "Pulling OCEAN's TransactionCount\n",
            "Pulling OCEAN's ActiveAddress\n"
          ]
        },
        {
          "output_type": "stream",
          "name": "stderr",
          "text": [
            "\r 61%|██████    | 73/120 [01:30<00:54,  1.15s/it]"
          ]
        },
        {
          "output_type": "stream",
          "name": "stdout",
          "text": [
            "OCEAN data successfully pulled\n",
            "\n",
            "Start Pulling OKB's data:\n",
            "Pulling OKB's Price\n",
            "Pulling OKB's MarketCap\n",
            "Pulling OKB's TransactionCount\n",
            "Pulling OKB's ActiveAddress\n"
          ]
        },
        {
          "output_type": "stream",
          "name": "stderr",
          "text": [
            "\r 62%|██████▏   | 74/120 [01:31<00:53,  1.16s/it]"
          ]
        },
        {
          "output_type": "stream",
          "name": "stdout",
          "text": [
            "OKB data successfully pulled\n",
            "\n",
            "Start Pulling OMG's data:\n",
            "Pulling OMG's Price\n",
            "Pulling OMG's MarketCap\n",
            "Pulling OMG's TransactionCount\n",
            "Pulling OMG's ActiveAddress\n"
          ]
        },
        {
          "output_type": "stream",
          "name": "stderr",
          "text": [
            "\r 62%|██████▎   | 75/120 [01:33<00:52,  1.18s/it]"
          ]
        },
        {
          "output_type": "stream",
          "name": "stdout",
          "text": [
            "OMG data successfully pulled\n",
            "\n",
            "Start Pulling PAY's data:\n",
            "Pulling PAY's Price\n",
            "Pulling PAY's MarketCap\n",
            "Pulling PAY's TransactionCount\n",
            "Pulling PAY's ActiveAddress\n"
          ]
        },
        {
          "output_type": "stream",
          "name": "stderr",
          "text": [
            "\r 63%|██████▎   | 76/120 [01:34<00:51,  1.17s/it]"
          ]
        },
        {
          "output_type": "stream",
          "name": "stdout",
          "text": [
            "PAY data successfully pulled\n",
            "\n",
            "Start Pulling PERP's data:\n",
            "Pulling PERP's Price\n",
            "Pulling PERP's MarketCap\n",
            "Pulling PERP's TransactionCount\n",
            "Pulling PERP's ActiveAddress\n"
          ]
        },
        {
          "output_type": "stream",
          "name": "stderr",
          "text": [
            "\r 64%|██████▍   | 77/120 [01:35<00:48,  1.13s/it]"
          ]
        },
        {
          "output_type": "stream",
          "name": "stdout",
          "text": [
            "PERP data successfully pulled\n",
            "\n",
            "Start Pulling PICKLE's data:\n",
            "Pulling PICKLE's Price\n",
            "Pulling PICKLE's MarketCap\n",
            "Pulling PICKLE's TransactionCount\n",
            "Pulling PICKLE's ActiveAddress\n"
          ]
        },
        {
          "output_type": "stream",
          "name": "stderr",
          "text": [
            "\r 65%|██████▌   | 78/120 [01:36<00:46,  1.10s/it]"
          ]
        },
        {
          "output_type": "stream",
          "name": "stdout",
          "text": [
            "PICKLE data successfully pulled\n",
            "\n",
            "Start Pulling PNK's data:\n",
            "Pulling PNK's Price\n",
            "Pulling PNK's MarketCap\n",
            "Pulling PNK's TransactionCount\n",
            "Pulling PNK's ActiveAddress\n"
          ]
        },
        {
          "output_type": "stream",
          "name": "stderr",
          "text": [
            "\r 66%|██████▌   | 79/120 [01:37<00:50,  1.24s/it]"
          ]
        },
        {
          "output_type": "stream",
          "name": "stdout",
          "text": [
            "PNK data successfully pulled\n",
            "\n",
            "Start Pulling PNT's data:\n",
            "Pulling PNT's Price\n",
            "Pulling PNT's MarketCap\n",
            "Pulling PNT's TransactionCount\n",
            "Pulling PNT's ActiveAddress\n"
          ]
        },
        {
          "output_type": "stream",
          "name": "stderr",
          "text": [
            "\r 67%|██████▋   | 80/120 [01:38<00:46,  1.17s/it]"
          ]
        },
        {
          "output_type": "stream",
          "name": "stdout",
          "text": [
            "PNT data successfully pulled\n",
            "\n",
            "Start Pulling POLY's data:\n",
            "Pulling POLY's Price\n",
            "Pulling POLY's MarketCap\n",
            "Pulling POLY's TransactionCount\n",
            "Pulling POLY's ActiveAddress\n"
          ]
        },
        {
          "output_type": "stream",
          "name": "stderr",
          "text": [
            "\r 68%|██████▊   | 81/120 [01:40<00:45,  1.17s/it]"
          ]
        },
        {
          "output_type": "stream",
          "name": "stdout",
          "text": [
            "POLY data successfully pulled\n",
            "\n",
            "Start Pulling POWR's data:\n",
            "Pulling POWR's Price\n",
            "Pulling POWR's MarketCap\n",
            "Pulling POWR's TransactionCount\n",
            "Pulling POWR's ActiveAddress\n"
          ]
        },
        {
          "output_type": "stream",
          "name": "stderr",
          "text": [
            "\r 68%|██████▊   | 82/120 [01:41<00:44,  1.17s/it]"
          ]
        },
        {
          "output_type": "stream",
          "name": "stdout",
          "text": [
            "POWR data successfully pulled\n",
            "\n",
            "Start Pulling PPT's data:\n",
            "Pulling PPT's Price\n",
            "Pulling PPT's MarketCap\n",
            "Pulling PPT's TransactionCount\n",
            "Pulling PPT's ActiveAddress\n"
          ]
        },
        {
          "output_type": "stream",
          "name": "stderr",
          "text": [
            "\r 69%|██████▉   | 83/120 [01:42<00:43,  1.16s/it]"
          ]
        },
        {
          "output_type": "stream",
          "name": "stdout",
          "text": [
            "PPT data successfully pulled\n",
            "\n",
            "Start Pulling QASH's data:\n",
            "Pulling QASH's Price\n",
            "Pulling QASH's MarketCap\n",
            "Pulling QASH's TransactionCount\n",
            "Pulling QASH's ActiveAddress\n"
          ]
        },
        {
          "output_type": "stream",
          "name": "stderr",
          "text": [
            "\r 70%|███████   | 84/120 [01:43<00:43,  1.21s/it]"
          ]
        },
        {
          "output_type": "stream",
          "name": "stdout",
          "text": [
            "QASH data successfully pulled\n",
            "\n",
            "Start Pulling QKC's data:\n",
            "Pulling QKC's Price\n",
            "Pulling QKC's MarketCap\n",
            "Pulling QKC's TransactionCount\n",
            "Pulling QKC's ActiveAddress\n"
          ]
        },
        {
          "output_type": "stream",
          "name": "stderr",
          "text": [
            "\r 71%|███████   | 85/120 [01:44<00:41,  1.18s/it]"
          ]
        },
        {
          "output_type": "stream",
          "name": "stdout",
          "text": [
            "QKC data successfully pulled\n",
            "\n",
            "Start Pulling QNT's data:\n",
            "Pulling QNT's Price\n",
            "Pulling QNT's MarketCap\n",
            "Pulling QNT's TransactionCount\n",
            "Pulling QNT's ActiveAddress\n"
          ]
        },
        {
          "output_type": "stream",
          "name": "stderr",
          "text": [
            "\r 72%|███████▏  | 86/120 [01:45<00:39,  1.15s/it]"
          ]
        },
        {
          "output_type": "stream",
          "name": "stdout",
          "text": [
            "QNT data successfully pulled\n",
            "\n",
            "Start Pulling RDN's data:\n",
            "Pulling RDN's Price\n",
            "Pulling RDN's MarketCap\n",
            "Pulling RDN's TransactionCount\n",
            "Pulling RDN's ActiveAddress\n"
          ]
        },
        {
          "output_type": "stream",
          "name": "stderr",
          "text": [
            "\r 72%|███████▎  | 87/120 [01:47<00:37,  1.14s/it]"
          ]
        },
        {
          "output_type": "stream",
          "name": "stdout",
          "text": [
            "RDN data successfully pulled\n",
            "\n",
            "Start Pulling REN's data:\n",
            "Pulling REN's Price\n",
            "Pulling REN's MarketCap\n",
            "Pulling REN's TransactionCount\n",
            "Pulling REN's ActiveAddress\n"
          ]
        },
        {
          "output_type": "stream",
          "name": "stderr",
          "text": [
            "\r 73%|███████▎  | 88/120 [01:48<00:35,  1.11s/it]"
          ]
        },
        {
          "output_type": "stream",
          "name": "stdout",
          "text": [
            "REN data successfully pulled\n",
            "\n",
            "Start Pulling REP's data:\n",
            "Pulling REP's Price\n",
            "Pulling REP's MarketCap\n",
            "Pulling REP's TransactionCount\n",
            "Pulling REP's ActiveAddress\n"
          ]
        },
        {
          "output_type": "stream",
          "name": "stderr",
          "text": [
            "\r 74%|███████▍  | 89/120 [01:49<00:34,  1.12s/it]"
          ]
        },
        {
          "output_type": "stream",
          "name": "stdout",
          "text": [
            "REP data successfully pulled\n",
            "\n",
            "Start Pulling RLC's data:\n",
            "Pulling RLC's Price\n",
            "Pulling RLC's MarketCap\n",
            "Pulling RLC's TransactionCount\n",
            "Pulling RLC's ActiveAddress\n"
          ]
        },
        {
          "output_type": "stream",
          "name": "stderr",
          "text": [
            "\r 75%|███████▌  | 90/120 [01:50<00:34,  1.16s/it]"
          ]
        },
        {
          "output_type": "stream",
          "name": "stdout",
          "text": [
            "RLC data successfully pulled\n",
            "\n",
            "Start Pulling ROOK's data:\n",
            "Pulling ROOK's Price\n",
            "Pulling ROOK's MarketCap\n",
            "Pulling ROOK's TransactionCount\n",
            "Pulling ROOK's ActiveAddress\n"
          ]
        },
        {
          "output_type": "stream",
          "name": "stderr",
          "text": [
            "\r 76%|███████▌  | 91/120 [01:52<00:37,  1.29s/it]"
          ]
        },
        {
          "output_type": "stream",
          "name": "stdout",
          "text": [
            "ROOK data successfully pulled\n",
            "\n",
            "Start Pulling RPL's data:\n",
            "Pulling RPL's Price\n",
            "Pulling RPL's MarketCap\n",
            "Pulling RPL's TransactionCount\n",
            "Pulling RPL's ActiveAddress\n"
          ]
        },
        {
          "output_type": "stream",
          "name": "stderr",
          "text": [
            "\r 77%|███████▋  | 92/120 [01:53<00:34,  1.23s/it]"
          ]
        },
        {
          "output_type": "stream",
          "name": "stdout",
          "text": [
            "RPL data successfully pulled\n",
            "\n",
            "Start Pulling RSR's data:\n",
            "Pulling RSR's Price\n",
            "Pulling RSR's MarketCap\n",
            "Pulling RSR's TransactionCount\n",
            "Pulling RSR's ActiveAddress\n"
          ]
        },
        {
          "output_type": "stream",
          "name": "stderr",
          "text": [
            "\r 78%|███████▊  | 93/120 [01:54<00:33,  1.23s/it]"
          ]
        },
        {
          "output_type": "stream",
          "name": "stdout",
          "text": [
            "RSR data successfully pulled\n",
            "\n",
            "Start Pulling SAI's data:\n",
            "Pulling SAI's Price\n",
            "Pulling SAI's MarketCap\n",
            "Pulling SAI's TransactionCount\n",
            "Pulling SAI's ActiveAddress\n"
          ]
        },
        {
          "output_type": "stream",
          "name": "stderr",
          "text": [
            "\r 78%|███████▊  | 94/120 [01:55<00:30,  1.17s/it]"
          ]
        },
        {
          "output_type": "stream",
          "name": "stdout",
          "text": [
            "SAI data successfully pulled\n",
            "\n",
            "Start Pulling SAN's data:\n",
            "Pulling SAN's Price\n",
            "Pulling SAN's MarketCap\n",
            "Pulling SAN's TransactionCount\n",
            "Pulling SAN's ActiveAddress\n"
          ]
        },
        {
          "output_type": "stream",
          "name": "stderr",
          "text": [
            "\r 79%|███████▉  | 95/120 [01:56<00:29,  1.17s/it]"
          ]
        },
        {
          "output_type": "stream",
          "name": "stdout",
          "text": [
            "SAN data successfully pulled\n",
            "\n",
            "Start Pulling SNT's data:\n",
            "Pulling SNT's Price\n",
            "Pulling SNT's MarketCap\n",
            "Pulling SNT's TransactionCount\n",
            "Pulling SNT's ActiveAddress\n"
          ]
        },
        {
          "output_type": "stream",
          "name": "stderr",
          "text": [
            "\r 80%|████████  | 96/120 [01:57<00:27,  1.16s/it]"
          ]
        },
        {
          "output_type": "stream",
          "name": "stdout",
          "text": [
            "SNT data successfully pulled\n",
            "\n",
            "Start Pulling SNX's data:\n",
            "Pulling SNX's Price\n",
            "Pulling SNX's MarketCap\n",
            "Pulling SNX's TransactionCount\n",
            "Pulling SNX's ActiveAddress\n"
          ]
        },
        {
          "output_type": "stream",
          "name": "stderr",
          "text": [
            "\r 81%|████████  | 97/120 [01:59<00:27,  1.21s/it]"
          ]
        },
        {
          "output_type": "stream",
          "name": "stdout",
          "text": [
            "SNX data successfully pulled\n",
            "\n",
            "Start Pulling STAKE's data:\n",
            "Pulling STAKE's Price\n",
            "Pulling STAKE's MarketCap\n",
            "Pulling STAKE's TransactionCount\n",
            "Pulling STAKE's ActiveAddress\n"
          ]
        },
        {
          "output_type": "stream",
          "name": "stderr",
          "text": [
            "\r 82%|████████▏ | 98/120 [02:00<00:25,  1.15s/it]"
          ]
        },
        {
          "output_type": "stream",
          "name": "stdout",
          "text": [
            "STAKE data successfully pulled\n",
            "\n",
            "Start Pulling STORJ's data:\n",
            "Pulling STORJ's Price\n",
            "Pulling STORJ's MarketCap\n",
            "Pulling STORJ's TransactionCount\n",
            "Pulling STORJ's ActiveAddress\n"
          ]
        },
        {
          "output_type": "stream",
          "name": "stderr",
          "text": [
            "\r 82%|████████▎ | 99/120 [02:01<00:24,  1.15s/it]"
          ]
        },
        {
          "output_type": "stream",
          "name": "stdout",
          "text": [
            "STORJ data successfully pulled\n",
            "\n",
            "Start Pulling sUSD's data:\n",
            "Pulling sUSD's Price\n",
            "Pulling sUSD's MarketCap\n",
            "Pulling sUSD's TransactionCount\n",
            "Pulling sUSD's ActiveAddress\n"
          ]
        },
        {
          "output_type": "stream",
          "name": "stderr",
          "text": [
            "\r 83%|████████▎ | 100/120 [02:02<00:22,  1.13s/it]"
          ]
        },
        {
          "output_type": "stream",
          "name": "stdout",
          "text": [
            "sUSD data successfully pulled\n",
            "\n",
            "Start Pulling SUSHI's data:\n",
            "Pulling SUSHI's Price\n",
            "Pulling SUSHI's MarketCap\n",
            "Pulling SUSHI's TransactionCount\n",
            "Pulling SUSHI's ActiveAddress\n"
          ]
        },
        {
          "output_type": "stream",
          "name": "stderr",
          "text": [
            "\r 84%|████████▍ | 101/120 [02:03<00:23,  1.24s/it]"
          ]
        },
        {
          "output_type": "stream",
          "name": "stdout",
          "text": [
            "SUSHI data successfully pulled\n",
            "\n",
            "Start Pulling TEL's data:\n",
            "Pulling TEL's Price\n",
            "Pulling TEL's MarketCap\n",
            "Pulling TEL's TransactionCount\n",
            "Pulling TEL's ActiveAddress\n"
          ]
        },
        {
          "output_type": "stream",
          "name": "stderr",
          "text": [
            "\r 85%|████████▌ | 102/120 [02:04<00:21,  1.21s/it]"
          ]
        },
        {
          "output_type": "stream",
          "name": "stdout",
          "text": [
            "TEL data successfully pulled\n",
            "\n",
            "Start Pulling TOP's data:\n",
            "Pulling TOP's Price\n",
            "Pulling TOP's MarketCap\n",
            "Pulling TOP's TransactionCount\n",
            "Pulling TOP's ActiveAddress\n"
          ]
        },
        {
          "output_type": "stream",
          "name": "stderr",
          "text": [
            "\r 86%|████████▌ | 103/120 [02:06<00:19,  1.17s/it]"
          ]
        },
        {
          "output_type": "stream",
          "name": "stdout",
          "text": [
            "TOP data successfully pulled\n",
            "\n",
            "Start Pulling UBT's data:\n",
            "Pulling UBT's Price\n",
            "Pulling UBT's MarketCap\n",
            "Pulling UBT's TransactionCount\n",
            "Pulling UBT's ActiveAddress\n"
          ]
        },
        {
          "output_type": "stream",
          "name": "stderr",
          "text": [
            "\r 87%|████████▋ | 104/120 [02:07<00:20,  1.27s/it]"
          ]
        },
        {
          "output_type": "stream",
          "name": "stdout",
          "text": [
            "UBT data successfully pulled\n",
            "\n",
            "Start Pulling UMA's data:\n",
            "Pulling UMA's Price\n",
            "Pulling UMA's MarketCap\n",
            "Pulling UMA's TransactionCount\n",
            "Pulling UMA's ActiveAddress\n"
          ]
        },
        {
          "output_type": "stream",
          "name": "stderr",
          "text": [
            "\r 88%|████████▊ | 105/120 [02:08<00:18,  1.22s/it]"
          ]
        },
        {
          "output_type": "stream",
          "name": "stdout",
          "text": [
            "UMA data successfully pulled\n",
            "\n",
            "Start Pulling UNI's data:\n",
            "Pulling UNI's Price\n",
            "Pulling UNI's MarketCap\n",
            "Pulling UNI's TransactionCount\n",
            "Pulling UNI's ActiveAddress\n"
          ]
        },
        {
          "output_type": "stream",
          "name": "stderr",
          "text": [
            "\r 88%|████████▊ | 106/120 [02:09<00:16,  1.16s/it]"
          ]
        },
        {
          "output_type": "stream",
          "name": "stdout",
          "text": [
            "UNI data successfully pulled\n",
            "\n",
            "Start Pulling USDC's data:\n",
            "Pulling USDC's Price\n",
            "Pulling USDC's MarketCap\n",
            "Pulling USDC's TransactionCount\n",
            "Pulling USDC's ActiveAddress\n"
          ]
        },
        {
          "output_type": "stream",
          "name": "stderr",
          "text": [
            "\r 89%|████████▉ | 107/120 [02:10<00:14,  1.14s/it]"
          ]
        },
        {
          "output_type": "stream",
          "name": "stdout",
          "text": [
            "USDC data successfully pulled\n",
            "\n",
            "Start Pulling USDK's data:\n",
            "Pulling USDK's Price\n",
            "Pulling USDK's MarketCap\n",
            "Pulling USDK's TransactionCount\n",
            "Pulling USDK's ActiveAddress\n"
          ]
        },
        {
          "output_type": "stream",
          "name": "stderr",
          "text": [
            "\r 90%|█████████ | 108/120 [02:11<00:13,  1.09s/it]"
          ]
        },
        {
          "output_type": "stream",
          "name": "stdout",
          "text": [
            "USDK data successfully pulled\n",
            "\n",
            "Start Pulling USDP's data:\n",
            "Pulling USDP's Price\n",
            "Pulling USDP's MarketCap\n",
            "Pulling USDP's TransactionCount\n",
            "Pulling USDP's ActiveAddress\n"
          ]
        },
        {
          "output_type": "stream",
          "name": "stderr",
          "text": [
            "\r 91%|█████████ | 109/120 [02:12<00:12,  1.10s/it]"
          ]
        },
        {
          "output_type": "stream",
          "name": "stdout",
          "text": [
            "USDP data successfully pulled\n",
            "\n",
            "Start Pulling USDT's data:\n",
            "Pulling USDT's Price\n",
            "Pulling USDT's MarketCap\n",
            "Pulling USDT's TransactionCount\n",
            "Pulling USDT's ActiveAddress\n"
          ]
        },
        {
          "output_type": "stream",
          "name": "stderr",
          "text": [
            "\r 92%|█████████▏| 110/120 [02:13<00:11,  1.10s/it]"
          ]
        },
        {
          "output_type": "stream",
          "name": "stdout",
          "text": [
            "USDT data successfully pulled\n",
            "\n",
            "Start Pulling UTK's data:\n",
            "Pulling UTK's Price\n",
            "Pulling UTK's MarketCap\n",
            "Pulling UTK's TransactionCount\n",
            "Pulling UTK's ActiveAddress\n"
          ]
        },
        {
          "output_type": "stream",
          "name": "stderr",
          "text": [
            "\r 92%|█████████▎| 111/120 [02:15<00:09,  1.10s/it]"
          ]
        },
        {
          "output_type": "stream",
          "name": "stdout",
          "text": [
            "UTK data successfully pulled\n",
            "\n",
            "Start Pulling VERI's data:\n",
            "Pulling VERI's Price\n",
            "Pulling VERI's MarketCap\n",
            "Pulling VERI's TransactionCount\n",
            "Pulling VERI's ActiveAddress\n"
          ]
        },
        {
          "output_type": "stream",
          "name": "stderr",
          "text": [
            "\r 93%|█████████▎| 112/120 [02:16<00:08,  1.10s/it]"
          ]
        },
        {
          "output_type": "stream",
          "name": "stdout",
          "text": [
            "VERI data successfully pulled\n",
            "\n",
            "Start Pulling WaBi's data:\n",
            "Pulling WaBi's Price\n",
            "Pulling WaBi's MarketCap\n",
            "Pulling WaBi's TransactionCount\n",
            "Pulling WaBi's ActiveAddress\n"
          ]
        },
        {
          "output_type": "stream",
          "name": "stderr",
          "text": [
            "\r 94%|█████████▍| 113/120 [02:17<00:07,  1.13s/it]"
          ]
        },
        {
          "output_type": "stream",
          "name": "stdout",
          "text": [
            "WaBi data successfully pulled\n",
            "\n",
            "Start Pulling WAX's data:\n",
            "Pulling WAX's Price\n",
            "Pulling WAX's MarketCap\n",
            "Pulling WAX's TransactionCount\n",
            "Pulling WAX's ActiveAddress\n"
          ]
        },
        {
          "output_type": "stream",
          "name": "stderr",
          "text": [
            "\r 95%|█████████▌| 114/120 [02:18<00:06,  1.11s/it]"
          ]
        },
        {
          "output_type": "stream",
          "name": "stdout",
          "text": [
            "WAX data successfully pulled\n",
            "\n",
            "Start Pulling WBTC's data:\n",
            "Pulling WBTC's Price\n",
            "Pulling WBTC's MarketCap\n",
            "Pulling WBTC's TransactionCount\n",
            "Pulling WBTC's ActiveAddress\n"
          ]
        },
        {
          "output_type": "stream",
          "name": "stderr",
          "text": [
            "\r 96%|█████████▌| 115/120 [02:19<00:05,  1.11s/it]"
          ]
        },
        {
          "output_type": "stream",
          "name": "stdout",
          "text": [
            "WBTC data successfully pulled\n",
            "\n",
            "Start Pulling wNXM's data:\n",
            "Pulling wNXM's Price\n",
            "Pulling wNXM's MarketCap\n",
            "Pulling wNXM's TransactionCount\n",
            "Pulling wNXM's ActiveAddress\n"
          ]
        },
        {
          "output_type": "stream",
          "name": "stderr",
          "text": [
            "\r 97%|█████████▋| 116/120 [02:20<00:04,  1.07s/it]"
          ]
        },
        {
          "output_type": "stream",
          "name": "stdout",
          "text": [
            "wNXM data successfully pulled\n",
            "\n",
            "Start Pulling WTC's data:\n",
            "Pulling WTC's Price\n",
            "Pulling WTC's MarketCap\n",
            "Pulling WTC's TransactionCount\n",
            "Pulling WTC's ActiveAddress\n"
          ]
        },
        {
          "output_type": "stream",
          "name": "stderr",
          "text": [
            "\r 98%|█████████▊| 117/120 [02:21<00:03,  1.10s/it]"
          ]
        },
        {
          "output_type": "stream",
          "name": "stdout",
          "text": [
            "WTC data successfully pulled\n",
            "\n",
            "Start Pulling YAM's data:\n",
            "Pulling YAM's Price\n",
            "Pulling YAM's MarketCap\n",
            "Pulling YAM's TransactionCount\n",
            "Pulling YAM's ActiveAddress\n"
          ]
        },
        {
          "output_type": "stream",
          "name": "stderr",
          "text": [
            "\r 98%|█████████▊| 118/120 [02:22<00:02,  1.06s/it]"
          ]
        },
        {
          "output_type": "stream",
          "name": "stdout",
          "text": [
            "YAM data successfully pulled\n",
            "\n",
            "Start Pulling YFI's data:\n",
            "Pulling YFI's Price\n",
            "Pulling YFI's MarketCap\n",
            "Pulling YFI's TransactionCount\n",
            "Pulling YFI's ActiveAddress\n"
          ]
        },
        {
          "output_type": "stream",
          "name": "stderr",
          "text": [
            "\r 99%|█████████▉| 119/120 [02:23<00:01,  1.05s/it]"
          ]
        },
        {
          "output_type": "stream",
          "name": "stdout",
          "text": [
            "YFI data successfully pulled\n",
            "\n",
            "Start Pulling ZRX's data:\n",
            "Pulling ZRX's Price\n",
            "Pulling ZRX's MarketCap\n",
            "Pulling ZRX's TransactionCount\n",
            "Pulling ZRX's ActiveAddress\n"
          ]
        },
        {
          "output_type": "stream",
          "name": "stderr",
          "text": [
            "100%|██████████| 120/120 [02:24<00:00,  1.21s/it]"
          ]
        },
        {
          "output_type": "stream",
          "name": "stdout",
          "text": [
            "ZRX data successfully pulled\n",
            "\n",
            "All Frames Merged\n",
            "\n",
            "ALL DATA SUCCESSFULLY PULLED!\n"
          ]
        },
        {
          "output_type": "stream",
          "name": "stderr",
          "text": [
            "\n"
          ]
        }
      ]
    },
    {
      "cell_type": "code",
      "source": [
        "# Add Return to largeCapSample_raw\n",
        "largeCapSample = AddReturn(largeCapSample_raw)\n",
        "largeCapSample"
      ],
      "metadata": {
        "colab": {
          "base_uri": "https://localhost:8080/",
          "height": 424
        },
        "id": "-S6kbZIg981r",
        "outputId": "8390a41b-59e5-40c6-bfba-fdce07f20ed8"
      },
      "execution_count": 25,
      "outputs": [
        {
          "output_type": "execute_result",
          "data": {
            "text/plain": [
              "           Date       Price     MarketCap  TransactionCount  ActiveAddress  \\\n",
              "0    2021-05-03  459.310213  5.735887e+09               0.0         9738.0   \n",
              "1    2021-05-10  525.296787  6.648981e+09               0.0        10036.0   \n",
              "2    2021-05-17  296.307038  3.779533e+09               0.0        12152.0   \n",
              "3    2021-05-24  324.282384  4.141262e+09               0.0        11055.0   \n",
              "4    2021-05-31  365.167460  4.669538e+09               0.0         7849.0   \n",
              "...         ...         ...           ...               ...            ...   \n",
              "6235 2022-03-28   34.426101  5.773133e+07               0.0           90.0   \n",
              "6236 2022-04-04   33.251072  5.576085e+07               0.0          195.0   \n",
              "6237 2022-04-11   27.854533  4.671105e+07               0.0          255.0   \n",
              "6238 2022-04-18   28.499363  4.779241e+07               0.0          191.0   \n",
              "6239 2022-04-25   26.325165           NaN               NaN            NaN   \n",
              "\n",
              "      RiskFree Asset    Return  \n",
              "0       0.0002  AAVE -0.049263  \n",
              "1       0.0002  AAVE  0.143665  \n",
              "2       0.0000  AAVE -0.435925  \n",
              "3       0.0001  AAVE  0.094413  \n",
              "4          NaN  AAVE  0.126079  \n",
              "...        ...   ...       ...  \n",
              "6235    0.0019  wNXM  0.077775  \n",
              "6236    0.0018  wNXM -0.034132  \n",
              "6237    0.0022  wNXM -0.162297  \n",
              "6238    0.0038  wNXM  0.023150  \n",
              "6239    0.0040  wNXM -0.076289  \n",
              "\n",
              "[6240 rows x 8 columns]"
            ],
            "text/html": [
              "\n",
              "  <div id=\"df-827eca89-d769-432c-874a-3519df8060ae\">\n",
              "    <div class=\"colab-df-container\">\n",
              "      <div>\n",
              "<style scoped>\n",
              "    .dataframe tbody tr th:only-of-type {\n",
              "        vertical-align: middle;\n",
              "    }\n",
              "\n",
              "    .dataframe tbody tr th {\n",
              "        vertical-align: top;\n",
              "    }\n",
              "\n",
              "    .dataframe thead th {\n",
              "        text-align: right;\n",
              "    }\n",
              "</style>\n",
              "<table border=\"1\" class=\"dataframe\">\n",
              "  <thead>\n",
              "    <tr style=\"text-align: right;\">\n",
              "      <th></th>\n",
              "      <th>Date</th>\n",
              "      <th>Price</th>\n",
              "      <th>MarketCap</th>\n",
              "      <th>TransactionCount</th>\n",
              "      <th>ActiveAddress</th>\n",
              "      <th>RiskFree</th>\n",
              "      <th>Asset</th>\n",
              "      <th>Return</th>\n",
              "    </tr>\n",
              "  </thead>\n",
              "  <tbody>\n",
              "    <tr>\n",
              "      <th>0</th>\n",
              "      <td>2021-05-03</td>\n",
              "      <td>459.310213</td>\n",
              "      <td>5.735887e+09</td>\n",
              "      <td>0.0</td>\n",
              "      <td>9738.0</td>\n",
              "      <td>0.0002</td>\n",
              "      <td>AAVE</td>\n",
              "      <td>-0.049263</td>\n",
              "    </tr>\n",
              "    <tr>\n",
              "      <th>1</th>\n",
              "      <td>2021-05-10</td>\n",
              "      <td>525.296787</td>\n",
              "      <td>6.648981e+09</td>\n",
              "      <td>0.0</td>\n",
              "      <td>10036.0</td>\n",
              "      <td>0.0002</td>\n",
              "      <td>AAVE</td>\n",
              "      <td>0.143665</td>\n",
              "    </tr>\n",
              "    <tr>\n",
              "      <th>2</th>\n",
              "      <td>2021-05-17</td>\n",
              "      <td>296.307038</td>\n",
              "      <td>3.779533e+09</td>\n",
              "      <td>0.0</td>\n",
              "      <td>12152.0</td>\n",
              "      <td>0.0000</td>\n",
              "      <td>AAVE</td>\n",
              "      <td>-0.435925</td>\n",
              "    </tr>\n",
              "    <tr>\n",
              "      <th>3</th>\n",
              "      <td>2021-05-24</td>\n",
              "      <td>324.282384</td>\n",
              "      <td>4.141262e+09</td>\n",
              "      <td>0.0</td>\n",
              "      <td>11055.0</td>\n",
              "      <td>0.0001</td>\n",
              "      <td>AAVE</td>\n",
              "      <td>0.094413</td>\n",
              "    </tr>\n",
              "    <tr>\n",
              "      <th>4</th>\n",
              "      <td>2021-05-31</td>\n",
              "      <td>365.167460</td>\n",
              "      <td>4.669538e+09</td>\n",
              "      <td>0.0</td>\n",
              "      <td>7849.0</td>\n",
              "      <td>NaN</td>\n",
              "      <td>AAVE</td>\n",
              "      <td>0.126079</td>\n",
              "    </tr>\n",
              "    <tr>\n",
              "      <th>...</th>\n",
              "      <td>...</td>\n",
              "      <td>...</td>\n",
              "      <td>...</td>\n",
              "      <td>...</td>\n",
              "      <td>...</td>\n",
              "      <td>...</td>\n",
              "      <td>...</td>\n",
              "      <td>...</td>\n",
              "    </tr>\n",
              "    <tr>\n",
              "      <th>6235</th>\n",
              "      <td>2022-03-28</td>\n",
              "      <td>34.426101</td>\n",
              "      <td>5.773133e+07</td>\n",
              "      <td>0.0</td>\n",
              "      <td>90.0</td>\n",
              "      <td>0.0019</td>\n",
              "      <td>wNXM</td>\n",
              "      <td>0.077775</td>\n",
              "    </tr>\n",
              "    <tr>\n",
              "      <th>6236</th>\n",
              "      <td>2022-04-04</td>\n",
              "      <td>33.251072</td>\n",
              "      <td>5.576085e+07</td>\n",
              "      <td>0.0</td>\n",
              "      <td>195.0</td>\n",
              "      <td>0.0018</td>\n",
              "      <td>wNXM</td>\n",
              "      <td>-0.034132</td>\n",
              "    </tr>\n",
              "    <tr>\n",
              "      <th>6237</th>\n",
              "      <td>2022-04-11</td>\n",
              "      <td>27.854533</td>\n",
              "      <td>4.671105e+07</td>\n",
              "      <td>0.0</td>\n",
              "      <td>255.0</td>\n",
              "      <td>0.0022</td>\n",
              "      <td>wNXM</td>\n",
              "      <td>-0.162297</td>\n",
              "    </tr>\n",
              "    <tr>\n",
              "      <th>6238</th>\n",
              "      <td>2022-04-18</td>\n",
              "      <td>28.499363</td>\n",
              "      <td>4.779241e+07</td>\n",
              "      <td>0.0</td>\n",
              "      <td>191.0</td>\n",
              "      <td>0.0038</td>\n",
              "      <td>wNXM</td>\n",
              "      <td>0.023150</td>\n",
              "    </tr>\n",
              "    <tr>\n",
              "      <th>6239</th>\n",
              "      <td>2022-04-25</td>\n",
              "      <td>26.325165</td>\n",
              "      <td>NaN</td>\n",
              "      <td>NaN</td>\n",
              "      <td>NaN</td>\n",
              "      <td>0.0040</td>\n",
              "      <td>wNXM</td>\n",
              "      <td>-0.076289</td>\n",
              "    </tr>\n",
              "  </tbody>\n",
              "</table>\n",
              "<p>6240 rows × 8 columns</p>\n",
              "</div>\n",
              "      <button class=\"colab-df-convert\" onclick=\"convertToInteractive('df-827eca89-d769-432c-874a-3519df8060ae')\"\n",
              "              title=\"Convert this dataframe to an interactive table.\"\n",
              "              style=\"display:none;\">\n",
              "        \n",
              "  <svg xmlns=\"http://www.w3.org/2000/svg\" height=\"24px\"viewBox=\"0 0 24 24\"\n",
              "       width=\"24px\">\n",
              "    <path d=\"M0 0h24v24H0V0z\" fill=\"none\"/>\n",
              "    <path d=\"M18.56 5.44l.94 2.06.94-2.06 2.06-.94-2.06-.94-.94-2.06-.94 2.06-2.06.94zm-11 1L8.5 8.5l.94-2.06 2.06-.94-2.06-.94L8.5 2.5l-.94 2.06-2.06.94zm10 10l.94 2.06.94-2.06 2.06-.94-2.06-.94-.94-2.06-.94 2.06-2.06.94z\"/><path d=\"M17.41 7.96l-1.37-1.37c-.4-.4-.92-.59-1.43-.59-.52 0-1.04.2-1.43.59L10.3 9.45l-7.72 7.72c-.78.78-.78 2.05 0 2.83L4 21.41c.39.39.9.59 1.41.59.51 0 1.02-.2 1.41-.59l7.78-7.78 2.81-2.81c.8-.78.8-2.07 0-2.86zM5.41 20L4 18.59l7.72-7.72 1.47 1.35L5.41 20z\"/>\n",
              "  </svg>\n",
              "      </button>\n",
              "      \n",
              "  <style>\n",
              "    .colab-df-container {\n",
              "      display:flex;\n",
              "      flex-wrap:wrap;\n",
              "      gap: 12px;\n",
              "    }\n",
              "\n",
              "    .colab-df-convert {\n",
              "      background-color: #E8F0FE;\n",
              "      border: none;\n",
              "      border-radius: 50%;\n",
              "      cursor: pointer;\n",
              "      display: none;\n",
              "      fill: #1967D2;\n",
              "      height: 32px;\n",
              "      padding: 0 0 0 0;\n",
              "      width: 32px;\n",
              "    }\n",
              "\n",
              "    .colab-df-convert:hover {\n",
              "      background-color: #E2EBFA;\n",
              "      box-shadow: 0px 1px 2px rgba(60, 64, 67, 0.3), 0px 1px 3px 1px rgba(60, 64, 67, 0.15);\n",
              "      fill: #174EA6;\n",
              "    }\n",
              "\n",
              "    [theme=dark] .colab-df-convert {\n",
              "      background-color: #3B4455;\n",
              "      fill: #D2E3FC;\n",
              "    }\n",
              "\n",
              "    [theme=dark] .colab-df-convert:hover {\n",
              "      background-color: #434B5C;\n",
              "      box-shadow: 0px 1px 3px 1px rgba(0, 0, 0, 0.15);\n",
              "      filter: drop-shadow(0px 1px 2px rgba(0, 0, 0, 0.3));\n",
              "      fill: #FFFFFF;\n",
              "    }\n",
              "  </style>\n",
              "\n",
              "      <script>\n",
              "        const buttonEl =\n",
              "          document.querySelector('#df-827eca89-d769-432c-874a-3519df8060ae button.colab-df-convert');\n",
              "        buttonEl.style.display =\n",
              "          google.colab.kernel.accessAllowed ? 'block' : 'none';\n",
              "\n",
              "        async function convertToInteractive(key) {\n",
              "          const element = document.querySelector('#df-827eca89-d769-432c-874a-3519df8060ae');\n",
              "          const dataTable =\n",
              "            await google.colab.kernel.invokeFunction('convertToInteractive',\n",
              "                                                     [key], {});\n",
              "          if (!dataTable) return;\n",
              "\n",
              "          const docLinkHtml = 'Like what you see? Visit the ' +\n",
              "            '<a target=\"_blank\" href=https://colab.research.google.com/notebooks/data_table.ipynb>data table notebook</a>'\n",
              "            + ' to learn more about interactive tables.';\n",
              "          element.innerHTML = '';\n",
              "          dataTable['output_type'] = 'display_data';\n",
              "          await google.colab.output.renderOutput(dataTable, element);\n",
              "          const docLink = document.createElement('div');\n",
              "          docLink.innerHTML = docLinkHtml;\n",
              "          element.appendChild(docLink);\n",
              "        }\n",
              "      </script>\n",
              "    </div>\n",
              "  </div>\n",
              "  "
            ]
          },
          "metadata": {},
          "execution_count": 25
        }
      ]
    },
    {
      "cell_type": "markdown",
      "source": [
        "### Reshape Dataframe"
      ],
      "metadata": {
        "id": "nd9S7nK-AKfh"
      }
    },
    {
      "cell_type": "code",
      "source": [
        "# Get Return DataFrame\n",
        "returnAll = largeCapSample.loc[:,['Date', 'Return', 'Asset']].pivot(index=\"Date\", columns=[\"Asset\"], values='Return').reset_index().rename_axis(None, axis=1).sort_values('Date')\n",
        "returnAll.head()"
      ],
      "metadata": {
        "colab": {
          "base_uri": "https://localhost:8080/",
          "height": 236
        },
        "id": "Ht-0JWPWAknX",
        "outputId": "f2b50c41-ad22-4136-8d01-b81f58cf808a"
      },
      "execution_count": 138,
      "outputs": [
        {
          "output_type": "execute_result",
          "data": {
            "text/plain": [
              "        Date      AAVE       ABT      AMPL       ANT     ARMOR    BADGER  \\\n",
              "0 2021-04-26       NaN       NaN       NaN       NaN       NaN       NaN   \n",
              "1 2021-05-03 -0.049263  0.022970  0.112456  0.069679  0.080898 -0.024938   \n",
              "2 2021-05-10  0.143665 -0.171471 -0.281857 -0.244447 -0.323333 -0.256346   \n",
              "3 2021-05-17 -0.435925 -0.482439 -0.357192 -0.560776 -0.456955 -0.597872   \n",
              "4 2021-05-24  0.094413  0.379361  0.464830  0.228098  0.103387  0.117416   \n",
              "\n",
              "        BAL      BAND       BAT  ...      VERI  WAX      WBTC       WTC  \\\n",
              "0       NaN       NaN       NaN  ...       NaN  NaN       NaN       NaN   \n",
              "1  0.079109  0.001570  0.126182  ...  0.406858  NaN  0.032826  0.141704   \n",
              "2 -0.182583 -0.204940 -0.194722  ...  0.062182  NaN -0.204564 -0.164128   \n",
              "3 -0.523110 -0.514725 -0.504094  ... -0.447383  NaN -0.245743 -0.593304   \n",
              "4  0.069808  0.085198  0.244939  ...  0.188722  NaN  0.019047  0.204790   \n",
              "\n",
              "       WaBi       YAM       YFI       ZRX      sUSD      wNXM  \n",
              "0       NaN       NaN       NaN       NaN       NaN       NaN  \n",
              "1  0.070760 -0.145964  0.102180  0.046813  0.010270  0.348608  \n",
              "2 -0.319218  0.064864  0.234226 -0.195655 -0.007335 -0.150428  \n",
              "3 -0.551696 -0.382593 -0.499353 -0.486727 -0.019204 -0.410748  \n",
              "4  0.212288 -0.279703  0.272157  0.161636  0.005509  0.241871  \n",
              "\n",
              "[5 rows x 121 columns]"
            ],
            "text/html": [
              "\n",
              "  <div id=\"df-711ed2b3-092a-4faa-b98c-d4dcbd8626f1\">\n",
              "    <div class=\"colab-df-container\">\n",
              "      <div>\n",
              "<style scoped>\n",
              "    .dataframe tbody tr th:only-of-type {\n",
              "        vertical-align: middle;\n",
              "    }\n",
              "\n",
              "    .dataframe tbody tr th {\n",
              "        vertical-align: top;\n",
              "    }\n",
              "\n",
              "    .dataframe thead th {\n",
              "        text-align: right;\n",
              "    }\n",
              "</style>\n",
              "<table border=\"1\" class=\"dataframe\">\n",
              "  <thead>\n",
              "    <tr style=\"text-align: right;\">\n",
              "      <th></th>\n",
              "      <th>Date</th>\n",
              "      <th>AAVE</th>\n",
              "      <th>ABT</th>\n",
              "      <th>AMPL</th>\n",
              "      <th>ANT</th>\n",
              "      <th>ARMOR</th>\n",
              "      <th>BADGER</th>\n",
              "      <th>BAL</th>\n",
              "      <th>BAND</th>\n",
              "      <th>BAT</th>\n",
              "      <th>...</th>\n",
              "      <th>VERI</th>\n",
              "      <th>WAX</th>\n",
              "      <th>WBTC</th>\n",
              "      <th>WTC</th>\n",
              "      <th>WaBi</th>\n",
              "      <th>YAM</th>\n",
              "      <th>YFI</th>\n",
              "      <th>ZRX</th>\n",
              "      <th>sUSD</th>\n",
              "      <th>wNXM</th>\n",
              "    </tr>\n",
              "  </thead>\n",
              "  <tbody>\n",
              "    <tr>\n",
              "      <th>0</th>\n",
              "      <td>2021-04-26</td>\n",
              "      <td>NaN</td>\n",
              "      <td>NaN</td>\n",
              "      <td>NaN</td>\n",
              "      <td>NaN</td>\n",
              "      <td>NaN</td>\n",
              "      <td>NaN</td>\n",
              "      <td>NaN</td>\n",
              "      <td>NaN</td>\n",
              "      <td>NaN</td>\n",
              "      <td>...</td>\n",
              "      <td>NaN</td>\n",
              "      <td>NaN</td>\n",
              "      <td>NaN</td>\n",
              "      <td>NaN</td>\n",
              "      <td>NaN</td>\n",
              "      <td>NaN</td>\n",
              "      <td>NaN</td>\n",
              "      <td>NaN</td>\n",
              "      <td>NaN</td>\n",
              "      <td>NaN</td>\n",
              "    </tr>\n",
              "    <tr>\n",
              "      <th>1</th>\n",
              "      <td>2021-05-03</td>\n",
              "      <td>-0.049263</td>\n",
              "      <td>0.022970</td>\n",
              "      <td>0.112456</td>\n",
              "      <td>0.069679</td>\n",
              "      <td>0.080898</td>\n",
              "      <td>-0.024938</td>\n",
              "      <td>0.079109</td>\n",
              "      <td>0.001570</td>\n",
              "      <td>0.126182</td>\n",
              "      <td>...</td>\n",
              "      <td>0.406858</td>\n",
              "      <td>NaN</td>\n",
              "      <td>0.032826</td>\n",
              "      <td>0.141704</td>\n",
              "      <td>0.070760</td>\n",
              "      <td>-0.145964</td>\n",
              "      <td>0.102180</td>\n",
              "      <td>0.046813</td>\n",
              "      <td>0.010270</td>\n",
              "      <td>0.348608</td>\n",
              "    </tr>\n",
              "    <tr>\n",
              "      <th>2</th>\n",
              "      <td>2021-05-10</td>\n",
              "      <td>0.143665</td>\n",
              "      <td>-0.171471</td>\n",
              "      <td>-0.281857</td>\n",
              "      <td>-0.244447</td>\n",
              "      <td>-0.323333</td>\n",
              "      <td>-0.256346</td>\n",
              "      <td>-0.182583</td>\n",
              "      <td>-0.204940</td>\n",
              "      <td>-0.194722</td>\n",
              "      <td>...</td>\n",
              "      <td>0.062182</td>\n",
              "      <td>NaN</td>\n",
              "      <td>-0.204564</td>\n",
              "      <td>-0.164128</td>\n",
              "      <td>-0.319218</td>\n",
              "      <td>0.064864</td>\n",
              "      <td>0.234226</td>\n",
              "      <td>-0.195655</td>\n",
              "      <td>-0.007335</td>\n",
              "      <td>-0.150428</td>\n",
              "    </tr>\n",
              "    <tr>\n",
              "      <th>3</th>\n",
              "      <td>2021-05-17</td>\n",
              "      <td>-0.435925</td>\n",
              "      <td>-0.482439</td>\n",
              "      <td>-0.357192</td>\n",
              "      <td>-0.560776</td>\n",
              "      <td>-0.456955</td>\n",
              "      <td>-0.597872</td>\n",
              "      <td>-0.523110</td>\n",
              "      <td>-0.514725</td>\n",
              "      <td>-0.504094</td>\n",
              "      <td>...</td>\n",
              "      <td>-0.447383</td>\n",
              "      <td>NaN</td>\n",
              "      <td>-0.245743</td>\n",
              "      <td>-0.593304</td>\n",
              "      <td>-0.551696</td>\n",
              "      <td>-0.382593</td>\n",
              "      <td>-0.499353</td>\n",
              "      <td>-0.486727</td>\n",
              "      <td>-0.019204</td>\n",
              "      <td>-0.410748</td>\n",
              "    </tr>\n",
              "    <tr>\n",
              "      <th>4</th>\n",
              "      <td>2021-05-24</td>\n",
              "      <td>0.094413</td>\n",
              "      <td>0.379361</td>\n",
              "      <td>0.464830</td>\n",
              "      <td>0.228098</td>\n",
              "      <td>0.103387</td>\n",
              "      <td>0.117416</td>\n",
              "      <td>0.069808</td>\n",
              "      <td>0.085198</td>\n",
              "      <td>0.244939</td>\n",
              "      <td>...</td>\n",
              "      <td>0.188722</td>\n",
              "      <td>NaN</td>\n",
              "      <td>0.019047</td>\n",
              "      <td>0.204790</td>\n",
              "      <td>0.212288</td>\n",
              "      <td>-0.279703</td>\n",
              "      <td>0.272157</td>\n",
              "      <td>0.161636</td>\n",
              "      <td>0.005509</td>\n",
              "      <td>0.241871</td>\n",
              "    </tr>\n",
              "  </tbody>\n",
              "</table>\n",
              "<p>5 rows × 121 columns</p>\n",
              "</div>\n",
              "      <button class=\"colab-df-convert\" onclick=\"convertToInteractive('df-711ed2b3-092a-4faa-b98c-d4dcbd8626f1')\"\n",
              "              title=\"Convert this dataframe to an interactive table.\"\n",
              "              style=\"display:none;\">\n",
              "        \n",
              "  <svg xmlns=\"http://www.w3.org/2000/svg\" height=\"24px\"viewBox=\"0 0 24 24\"\n",
              "       width=\"24px\">\n",
              "    <path d=\"M0 0h24v24H0V0z\" fill=\"none\"/>\n",
              "    <path d=\"M18.56 5.44l.94 2.06.94-2.06 2.06-.94-2.06-.94-.94-2.06-.94 2.06-2.06.94zm-11 1L8.5 8.5l.94-2.06 2.06-.94-2.06-.94L8.5 2.5l-.94 2.06-2.06.94zm10 10l.94 2.06.94-2.06 2.06-.94-2.06-.94-.94-2.06-.94 2.06-2.06.94z\"/><path d=\"M17.41 7.96l-1.37-1.37c-.4-.4-.92-.59-1.43-.59-.52 0-1.04.2-1.43.59L10.3 9.45l-7.72 7.72c-.78.78-.78 2.05 0 2.83L4 21.41c.39.39.9.59 1.41.59.51 0 1.02-.2 1.41-.59l7.78-7.78 2.81-2.81c.8-.78.8-2.07 0-2.86zM5.41 20L4 18.59l7.72-7.72 1.47 1.35L5.41 20z\"/>\n",
              "  </svg>\n",
              "      </button>\n",
              "      \n",
              "  <style>\n",
              "    .colab-df-container {\n",
              "      display:flex;\n",
              "      flex-wrap:wrap;\n",
              "      gap: 12px;\n",
              "    }\n",
              "\n",
              "    .colab-df-convert {\n",
              "      background-color: #E8F0FE;\n",
              "      border: none;\n",
              "      border-radius: 50%;\n",
              "      cursor: pointer;\n",
              "      display: none;\n",
              "      fill: #1967D2;\n",
              "      height: 32px;\n",
              "      padding: 0 0 0 0;\n",
              "      width: 32px;\n",
              "    }\n",
              "\n",
              "    .colab-df-convert:hover {\n",
              "      background-color: #E2EBFA;\n",
              "      box-shadow: 0px 1px 2px rgba(60, 64, 67, 0.3), 0px 1px 3px 1px rgba(60, 64, 67, 0.15);\n",
              "      fill: #174EA6;\n",
              "    }\n",
              "\n",
              "    [theme=dark] .colab-df-convert {\n",
              "      background-color: #3B4455;\n",
              "      fill: #D2E3FC;\n",
              "    }\n",
              "\n",
              "    [theme=dark] .colab-df-convert:hover {\n",
              "      background-color: #434B5C;\n",
              "      box-shadow: 0px 1px 3px 1px rgba(0, 0, 0, 0.15);\n",
              "      filter: drop-shadow(0px 1px 2px rgba(0, 0, 0, 0.3));\n",
              "      fill: #FFFFFF;\n",
              "    }\n",
              "  </style>\n",
              "\n",
              "      <script>\n",
              "        const buttonEl =\n",
              "          document.querySelector('#df-711ed2b3-092a-4faa-b98c-d4dcbd8626f1 button.colab-df-convert');\n",
              "        buttonEl.style.display =\n",
              "          google.colab.kernel.accessAllowed ? 'block' : 'none';\n",
              "\n",
              "        async function convertToInteractive(key) {\n",
              "          const element = document.querySelector('#df-711ed2b3-092a-4faa-b98c-d4dcbd8626f1');\n",
              "          const dataTable =\n",
              "            await google.colab.kernel.invokeFunction('convertToInteractive',\n",
              "                                                     [key], {});\n",
              "          if (!dataTable) return;\n",
              "\n",
              "          const docLinkHtml = 'Like what you see? Visit the ' +\n",
              "            '<a target=\"_blank\" href=https://colab.research.google.com/notebooks/data_table.ipynb>data table notebook</a>'\n",
              "            + ' to learn more about interactive tables.';\n",
              "          element.innerHTML = '';\n",
              "          dataTable['output_type'] = 'display_data';\n",
              "          await google.colab.output.renderOutput(dataTable, element);\n",
              "          const docLink = document.createElement('div');\n",
              "          docLink.innerHTML = docLinkHtml;\n",
              "          element.appendChild(docLink);\n",
              "        }\n",
              "      </script>\n",
              "    </div>\n",
              "  </div>\n",
              "  "
            ]
          },
          "metadata": {},
          "execution_count": 138
        }
      ]
    },
    {
      "cell_type": "code",
      "source": [
        "priceAll = largeCapSample.loc[:,['Date', 'Price', 'Asset']].pivot(index=\"Date\", columns=[\"Asset\"], values='Price').reset_index().rename_axis(None, axis=1).sort_values('Date')\n",
        "priceAll.head()"
      ],
      "metadata": {
        "colab": {
          "base_uri": "https://localhost:8080/",
          "height": 236
        },
        "id": "eg2JRQuF428r",
        "outputId": "81a7a659-011c-45fc-f4c3-696bb8413a30"
      },
      "execution_count": 139,
      "outputs": [
        {
          "output_type": "execute_result",
          "data": {
            "text/plain": [
              "        Date        AAVE       ABT      AMPL        ANT     ARMOR     BADGER  \\\n",
              "0 2021-04-26         NaN       NaN       NaN        NaN       NaN        NaN   \n",
              "1 2021-05-03  459.310213  0.228918  1.190291  10.185312  1.136358  35.192097   \n",
              "2 2021-05-10  525.296787  0.189665  0.854800   7.695547  0.768935  26.170739   \n",
              "3 2021-05-17  296.307038  0.098163  0.549472   3.380071  0.417567  10.523989   \n",
              "4 2021-05-24  324.282384  0.135402  0.804883   4.151059  0.460737  11.759670   \n",
              "\n",
              "         BAL       BAND       BAT  ...       VERI  WAX          WBTC  \\\n",
              "0        NaN        NaN       NaN  ...        NaN  NaN           NaN   \n",
              "1  66.211436  17.652240  1.414453  ...  24.769653  NaN  58296.148718   \n",
              "2  54.122365  14.034590  1.139028  ...  26.309891  NaN  46370.827072   \n",
              "3  25.810436   6.810641  0.564851  ...  14.539290  NaN  34975.530687   \n",
              "4  27.612201   7.390893  0.703204  ...  17.283173  NaN  35641.705527   \n",
              "\n",
              "        WTC      WaBi       YAM           YFI       ZRX      sUSD        wNXM  \n",
              "0       NaN       NaN       NaN           NaN       NaN       NaN         NaN  \n",
              "1  1.963506  0.599371  1.980944  53279.650539  1.955483  1.026809  117.702644  \n",
              "2  1.641239  0.408041  2.109437  65759.108989  1.572884  1.019278   99.996818  \n",
              "3  0.667486  0.182926  1.302382  32922.121717  0.807320  0.999703   58.923315  \n",
              "4  0.804181  0.221759  0.938102  41882.102419  0.937811  1.005210   73.175135  \n",
              "\n",
              "[5 rows x 121 columns]"
            ],
            "text/html": [
              "\n",
              "  <div id=\"df-d2648204-6256-4b19-bbd7-7f0e86dfa1a3\">\n",
              "    <div class=\"colab-df-container\">\n",
              "      <div>\n",
              "<style scoped>\n",
              "    .dataframe tbody tr th:only-of-type {\n",
              "        vertical-align: middle;\n",
              "    }\n",
              "\n",
              "    .dataframe tbody tr th {\n",
              "        vertical-align: top;\n",
              "    }\n",
              "\n",
              "    .dataframe thead th {\n",
              "        text-align: right;\n",
              "    }\n",
              "</style>\n",
              "<table border=\"1\" class=\"dataframe\">\n",
              "  <thead>\n",
              "    <tr style=\"text-align: right;\">\n",
              "      <th></th>\n",
              "      <th>Date</th>\n",
              "      <th>AAVE</th>\n",
              "      <th>ABT</th>\n",
              "      <th>AMPL</th>\n",
              "      <th>ANT</th>\n",
              "      <th>ARMOR</th>\n",
              "      <th>BADGER</th>\n",
              "      <th>BAL</th>\n",
              "      <th>BAND</th>\n",
              "      <th>BAT</th>\n",
              "      <th>...</th>\n",
              "      <th>VERI</th>\n",
              "      <th>WAX</th>\n",
              "      <th>WBTC</th>\n",
              "      <th>WTC</th>\n",
              "      <th>WaBi</th>\n",
              "      <th>YAM</th>\n",
              "      <th>YFI</th>\n",
              "      <th>ZRX</th>\n",
              "      <th>sUSD</th>\n",
              "      <th>wNXM</th>\n",
              "    </tr>\n",
              "  </thead>\n",
              "  <tbody>\n",
              "    <tr>\n",
              "      <th>0</th>\n",
              "      <td>2021-04-26</td>\n",
              "      <td>NaN</td>\n",
              "      <td>NaN</td>\n",
              "      <td>NaN</td>\n",
              "      <td>NaN</td>\n",
              "      <td>NaN</td>\n",
              "      <td>NaN</td>\n",
              "      <td>NaN</td>\n",
              "      <td>NaN</td>\n",
              "      <td>NaN</td>\n",
              "      <td>...</td>\n",
              "      <td>NaN</td>\n",
              "      <td>NaN</td>\n",
              "      <td>NaN</td>\n",
              "      <td>NaN</td>\n",
              "      <td>NaN</td>\n",
              "      <td>NaN</td>\n",
              "      <td>NaN</td>\n",
              "      <td>NaN</td>\n",
              "      <td>NaN</td>\n",
              "      <td>NaN</td>\n",
              "    </tr>\n",
              "    <tr>\n",
              "      <th>1</th>\n",
              "      <td>2021-05-03</td>\n",
              "      <td>459.310213</td>\n",
              "      <td>0.228918</td>\n",
              "      <td>1.190291</td>\n",
              "      <td>10.185312</td>\n",
              "      <td>1.136358</td>\n",
              "      <td>35.192097</td>\n",
              "      <td>66.211436</td>\n",
              "      <td>17.652240</td>\n",
              "      <td>1.414453</td>\n",
              "      <td>...</td>\n",
              "      <td>24.769653</td>\n",
              "      <td>NaN</td>\n",
              "      <td>58296.148718</td>\n",
              "      <td>1.963506</td>\n",
              "      <td>0.599371</td>\n",
              "      <td>1.980944</td>\n",
              "      <td>53279.650539</td>\n",
              "      <td>1.955483</td>\n",
              "      <td>1.026809</td>\n",
              "      <td>117.702644</td>\n",
              "    </tr>\n",
              "    <tr>\n",
              "      <th>2</th>\n",
              "      <td>2021-05-10</td>\n",
              "      <td>525.296787</td>\n",
              "      <td>0.189665</td>\n",
              "      <td>0.854800</td>\n",
              "      <td>7.695547</td>\n",
              "      <td>0.768935</td>\n",
              "      <td>26.170739</td>\n",
              "      <td>54.122365</td>\n",
              "      <td>14.034590</td>\n",
              "      <td>1.139028</td>\n",
              "      <td>...</td>\n",
              "      <td>26.309891</td>\n",
              "      <td>NaN</td>\n",
              "      <td>46370.827072</td>\n",
              "      <td>1.641239</td>\n",
              "      <td>0.408041</td>\n",
              "      <td>2.109437</td>\n",
              "      <td>65759.108989</td>\n",
              "      <td>1.572884</td>\n",
              "      <td>1.019278</td>\n",
              "      <td>99.996818</td>\n",
              "    </tr>\n",
              "    <tr>\n",
              "      <th>3</th>\n",
              "      <td>2021-05-17</td>\n",
              "      <td>296.307038</td>\n",
              "      <td>0.098163</td>\n",
              "      <td>0.549472</td>\n",
              "      <td>3.380071</td>\n",
              "      <td>0.417567</td>\n",
              "      <td>10.523989</td>\n",
              "      <td>25.810436</td>\n",
              "      <td>6.810641</td>\n",
              "      <td>0.564851</td>\n",
              "      <td>...</td>\n",
              "      <td>14.539290</td>\n",
              "      <td>NaN</td>\n",
              "      <td>34975.530687</td>\n",
              "      <td>0.667486</td>\n",
              "      <td>0.182926</td>\n",
              "      <td>1.302382</td>\n",
              "      <td>32922.121717</td>\n",
              "      <td>0.807320</td>\n",
              "      <td>0.999703</td>\n",
              "      <td>58.923315</td>\n",
              "    </tr>\n",
              "    <tr>\n",
              "      <th>4</th>\n",
              "      <td>2021-05-24</td>\n",
              "      <td>324.282384</td>\n",
              "      <td>0.135402</td>\n",
              "      <td>0.804883</td>\n",
              "      <td>4.151059</td>\n",
              "      <td>0.460737</td>\n",
              "      <td>11.759670</td>\n",
              "      <td>27.612201</td>\n",
              "      <td>7.390893</td>\n",
              "      <td>0.703204</td>\n",
              "      <td>...</td>\n",
              "      <td>17.283173</td>\n",
              "      <td>NaN</td>\n",
              "      <td>35641.705527</td>\n",
              "      <td>0.804181</td>\n",
              "      <td>0.221759</td>\n",
              "      <td>0.938102</td>\n",
              "      <td>41882.102419</td>\n",
              "      <td>0.937811</td>\n",
              "      <td>1.005210</td>\n",
              "      <td>73.175135</td>\n",
              "    </tr>\n",
              "  </tbody>\n",
              "</table>\n",
              "<p>5 rows × 121 columns</p>\n",
              "</div>\n",
              "      <button class=\"colab-df-convert\" onclick=\"convertToInteractive('df-d2648204-6256-4b19-bbd7-7f0e86dfa1a3')\"\n",
              "              title=\"Convert this dataframe to an interactive table.\"\n",
              "              style=\"display:none;\">\n",
              "        \n",
              "  <svg xmlns=\"http://www.w3.org/2000/svg\" height=\"24px\"viewBox=\"0 0 24 24\"\n",
              "       width=\"24px\">\n",
              "    <path d=\"M0 0h24v24H0V0z\" fill=\"none\"/>\n",
              "    <path d=\"M18.56 5.44l.94 2.06.94-2.06 2.06-.94-2.06-.94-.94-2.06-.94 2.06-2.06.94zm-11 1L8.5 8.5l.94-2.06 2.06-.94-2.06-.94L8.5 2.5l-.94 2.06-2.06.94zm10 10l.94 2.06.94-2.06 2.06-.94-2.06-.94-.94-2.06-.94 2.06-2.06.94z\"/><path d=\"M17.41 7.96l-1.37-1.37c-.4-.4-.92-.59-1.43-.59-.52 0-1.04.2-1.43.59L10.3 9.45l-7.72 7.72c-.78.78-.78 2.05 0 2.83L4 21.41c.39.39.9.59 1.41.59.51 0 1.02-.2 1.41-.59l7.78-7.78 2.81-2.81c.8-.78.8-2.07 0-2.86zM5.41 20L4 18.59l7.72-7.72 1.47 1.35L5.41 20z\"/>\n",
              "  </svg>\n",
              "      </button>\n",
              "      \n",
              "  <style>\n",
              "    .colab-df-container {\n",
              "      display:flex;\n",
              "      flex-wrap:wrap;\n",
              "      gap: 12px;\n",
              "    }\n",
              "\n",
              "    .colab-df-convert {\n",
              "      background-color: #E8F0FE;\n",
              "      border: none;\n",
              "      border-radius: 50%;\n",
              "      cursor: pointer;\n",
              "      display: none;\n",
              "      fill: #1967D2;\n",
              "      height: 32px;\n",
              "      padding: 0 0 0 0;\n",
              "      width: 32px;\n",
              "    }\n",
              "\n",
              "    .colab-df-convert:hover {\n",
              "      background-color: #E2EBFA;\n",
              "      box-shadow: 0px 1px 2px rgba(60, 64, 67, 0.3), 0px 1px 3px 1px rgba(60, 64, 67, 0.15);\n",
              "      fill: #174EA6;\n",
              "    }\n",
              "\n",
              "    [theme=dark] .colab-df-convert {\n",
              "      background-color: #3B4455;\n",
              "      fill: #D2E3FC;\n",
              "    }\n",
              "\n",
              "    [theme=dark] .colab-df-convert:hover {\n",
              "      background-color: #434B5C;\n",
              "      box-shadow: 0px 1px 3px 1px rgba(0, 0, 0, 0.15);\n",
              "      filter: drop-shadow(0px 1px 2px rgba(0, 0, 0, 0.3));\n",
              "      fill: #FFFFFF;\n",
              "    }\n",
              "  </style>\n",
              "\n",
              "      <script>\n",
              "        const buttonEl =\n",
              "          document.querySelector('#df-d2648204-6256-4b19-bbd7-7f0e86dfa1a3 button.colab-df-convert');\n",
              "        buttonEl.style.display =\n",
              "          google.colab.kernel.accessAllowed ? 'block' : 'none';\n",
              "\n",
              "        async function convertToInteractive(key) {\n",
              "          const element = document.querySelector('#df-d2648204-6256-4b19-bbd7-7f0e86dfa1a3');\n",
              "          const dataTable =\n",
              "            await google.colab.kernel.invokeFunction('convertToInteractive',\n",
              "                                                     [key], {});\n",
              "          if (!dataTable) return;\n",
              "\n",
              "          const docLinkHtml = 'Like what you see? Visit the ' +\n",
              "            '<a target=\"_blank\" href=https://colab.research.google.com/notebooks/data_table.ipynb>data table notebook</a>'\n",
              "            + ' to learn more about interactive tables.';\n",
              "          element.innerHTML = '';\n",
              "          dataTable['output_type'] = 'display_data';\n",
              "          await google.colab.output.renderOutput(dataTable, element);\n",
              "          const docLink = document.createElement('div');\n",
              "          docLink.innerHTML = docLinkHtml;\n",
              "          element.appendChild(docLink);\n",
              "        }\n",
              "      </script>\n",
              "    </div>\n",
              "  </div>\n",
              "  "
            ]
          },
          "metadata": {},
          "execution_count": 139
        }
      ]
    },
    {
      "cell_type": "markdown",
      "source": [
        "### Calculate Momentum Matrix(Cumulative 2 week Return)"
      ],
      "metadata": {
        "id": "s4AoBQs1A11P"
      }
    },
    {
      "cell_type": "code",
      "source": [
        "### Define a Method to Transform Price Matrix to MOM Matrix\n",
        "\n",
        "def getMomMatrix(priceAll):\n",
        "    # Initialization\n",
        "    from tqdm import tqdm\n",
        "    momMatrix = priceAll.copy()\n",
        "    \n",
        "    # Iterate Through priceAll \n",
        "    for i in tqdm(range(0, priceAll.shape[0]-2)):\n",
        "        for j in range(1, priceAll.shape[1]):\n",
        "            momMatrix.iloc[i+2, j] = (priceAll.iloc[i+2, j] - priceAll.iloc[i,j]) / priceAll.iloc[i,j]\n",
        "    return momMatrix.drop(momMatrix.head(2).index).reset_index().drop('index',\n",
        "                                                                      axis=1)\n",
        "\n",
        "# Effect:\n",
        "momMatrix = getMomMatrix(priceAll)\n",
        "momMatrix.head()"
      ],
      "metadata": {
        "colab": {
          "base_uri": "https://localhost:8080/",
          "height": 253
        },
        "id": "z1qILtRK5nly",
        "outputId": "b5e8199d-7f81-4cde-85b0-242b49bee347"
      },
      "execution_count": 140,
      "outputs": [
        {
          "output_type": "stream",
          "name": "stderr",
          "text": [
            "100%|██████████| 51/51 [00:02<00:00, 22.38it/s]\n"
          ]
        },
        {
          "output_type": "execute_result",
          "data": {
            "text/plain": [
              "        Date      AAVE       ABT      AMPL       ANT     ARMOR    BADGER  \\\n",
              "0 2021-05-10       NaN       NaN       NaN       NaN       NaN       NaN   \n",
              "1 2021-05-17 -0.354887 -0.571186 -0.538372 -0.668143 -0.632540 -0.700956   \n",
              "2 2021-05-24 -0.382668 -0.286097 -0.058396 -0.460589 -0.400811 -0.550656   \n",
              "3 2021-05-31  0.232395  0.324998  0.577449  0.652091  0.058700  0.455930   \n",
              "4 2021-06-07 -0.024113 -0.079155  0.106285  0.062860 -0.246951  0.113917   \n",
              "\n",
              "        BAL      BAND       BAT  ...      VERI  WAX      WBTC       WTC  \\\n",
              "0       NaN       NaN       NaN  ...       NaN  NaN       NaN       NaN   \n",
              "1 -0.610182 -0.614177 -0.600658  ... -0.413020  NaN -0.400037 -0.660054   \n",
              "2 -0.489819 -0.473380 -0.382628  ... -0.343092  NaN -0.231377 -0.510016   \n",
              "3  0.128310  0.183153  0.347782  ...  0.243890  NaN  0.024712  0.174587   \n",
              "4 -0.135518 -0.058087 -0.081645  ...  0.827227  NaN  0.088765 -0.083618   \n",
              "\n",
              "       WaBi       YAM       YFI       ZRX      sUSD      wNXM  \n",
              "0       NaN       NaN       NaN       NaN       NaN       NaN  \n",
              "1 -0.694803 -0.342545 -0.382088 -0.587151 -0.026398 -0.499388  \n",
              "2 -0.456527 -0.555283 -0.363098 -0.403763 -0.013801 -0.268225  \n",
              "3  0.321486 -0.207288  0.307871  0.311204  0.006451  0.307454  \n",
              "4 -0.012386  0.051829 -0.080879 -0.047386  0.001049 -0.136481  \n",
              "\n",
              "[5 rows x 121 columns]"
            ],
            "text/html": [
              "\n",
              "  <div id=\"df-a191ce31-e022-4ab5-8ddd-6cfeef8132a9\">\n",
              "    <div class=\"colab-df-container\">\n",
              "      <div>\n",
              "<style scoped>\n",
              "    .dataframe tbody tr th:only-of-type {\n",
              "        vertical-align: middle;\n",
              "    }\n",
              "\n",
              "    .dataframe tbody tr th {\n",
              "        vertical-align: top;\n",
              "    }\n",
              "\n",
              "    .dataframe thead th {\n",
              "        text-align: right;\n",
              "    }\n",
              "</style>\n",
              "<table border=\"1\" class=\"dataframe\">\n",
              "  <thead>\n",
              "    <tr style=\"text-align: right;\">\n",
              "      <th></th>\n",
              "      <th>Date</th>\n",
              "      <th>AAVE</th>\n",
              "      <th>ABT</th>\n",
              "      <th>AMPL</th>\n",
              "      <th>ANT</th>\n",
              "      <th>ARMOR</th>\n",
              "      <th>BADGER</th>\n",
              "      <th>BAL</th>\n",
              "      <th>BAND</th>\n",
              "      <th>BAT</th>\n",
              "      <th>...</th>\n",
              "      <th>VERI</th>\n",
              "      <th>WAX</th>\n",
              "      <th>WBTC</th>\n",
              "      <th>WTC</th>\n",
              "      <th>WaBi</th>\n",
              "      <th>YAM</th>\n",
              "      <th>YFI</th>\n",
              "      <th>ZRX</th>\n",
              "      <th>sUSD</th>\n",
              "      <th>wNXM</th>\n",
              "    </tr>\n",
              "  </thead>\n",
              "  <tbody>\n",
              "    <tr>\n",
              "      <th>0</th>\n",
              "      <td>2021-05-10</td>\n",
              "      <td>NaN</td>\n",
              "      <td>NaN</td>\n",
              "      <td>NaN</td>\n",
              "      <td>NaN</td>\n",
              "      <td>NaN</td>\n",
              "      <td>NaN</td>\n",
              "      <td>NaN</td>\n",
              "      <td>NaN</td>\n",
              "      <td>NaN</td>\n",
              "      <td>...</td>\n",
              "      <td>NaN</td>\n",
              "      <td>NaN</td>\n",
              "      <td>NaN</td>\n",
              "      <td>NaN</td>\n",
              "      <td>NaN</td>\n",
              "      <td>NaN</td>\n",
              "      <td>NaN</td>\n",
              "      <td>NaN</td>\n",
              "      <td>NaN</td>\n",
              "      <td>NaN</td>\n",
              "    </tr>\n",
              "    <tr>\n",
              "      <th>1</th>\n",
              "      <td>2021-05-17</td>\n",
              "      <td>-0.354887</td>\n",
              "      <td>-0.571186</td>\n",
              "      <td>-0.538372</td>\n",
              "      <td>-0.668143</td>\n",
              "      <td>-0.632540</td>\n",
              "      <td>-0.700956</td>\n",
              "      <td>-0.610182</td>\n",
              "      <td>-0.614177</td>\n",
              "      <td>-0.600658</td>\n",
              "      <td>...</td>\n",
              "      <td>-0.413020</td>\n",
              "      <td>NaN</td>\n",
              "      <td>-0.400037</td>\n",
              "      <td>-0.660054</td>\n",
              "      <td>-0.694803</td>\n",
              "      <td>-0.342545</td>\n",
              "      <td>-0.382088</td>\n",
              "      <td>-0.587151</td>\n",
              "      <td>-0.026398</td>\n",
              "      <td>-0.499388</td>\n",
              "    </tr>\n",
              "    <tr>\n",
              "      <th>2</th>\n",
              "      <td>2021-05-24</td>\n",
              "      <td>-0.382668</td>\n",
              "      <td>-0.286097</td>\n",
              "      <td>-0.058396</td>\n",
              "      <td>-0.460589</td>\n",
              "      <td>-0.400811</td>\n",
              "      <td>-0.550656</td>\n",
              "      <td>-0.489819</td>\n",
              "      <td>-0.473380</td>\n",
              "      <td>-0.382628</td>\n",
              "      <td>...</td>\n",
              "      <td>-0.343092</td>\n",
              "      <td>NaN</td>\n",
              "      <td>-0.231377</td>\n",
              "      <td>-0.510016</td>\n",
              "      <td>-0.456527</td>\n",
              "      <td>-0.555283</td>\n",
              "      <td>-0.363098</td>\n",
              "      <td>-0.403763</td>\n",
              "      <td>-0.013801</td>\n",
              "      <td>-0.268225</td>\n",
              "    </tr>\n",
              "    <tr>\n",
              "      <th>3</th>\n",
              "      <td>2021-05-31</td>\n",
              "      <td>0.232395</td>\n",
              "      <td>0.324998</td>\n",
              "      <td>0.577449</td>\n",
              "      <td>0.652091</td>\n",
              "      <td>0.058700</td>\n",
              "      <td>0.455930</td>\n",
              "      <td>0.128310</td>\n",
              "      <td>0.183153</td>\n",
              "      <td>0.347782</td>\n",
              "      <td>...</td>\n",
              "      <td>0.243890</td>\n",
              "      <td>NaN</td>\n",
              "      <td>0.024712</td>\n",
              "      <td>0.174587</td>\n",
              "      <td>0.321486</td>\n",
              "      <td>-0.207288</td>\n",
              "      <td>0.307871</td>\n",
              "      <td>0.311204</td>\n",
              "      <td>0.006451</td>\n",
              "      <td>0.307454</td>\n",
              "    </tr>\n",
              "    <tr>\n",
              "      <th>4</th>\n",
              "      <td>2021-06-07</td>\n",
              "      <td>-0.024113</td>\n",
              "      <td>-0.079155</td>\n",
              "      <td>0.106285</td>\n",
              "      <td>0.062860</td>\n",
              "      <td>-0.246951</td>\n",
              "      <td>0.113917</td>\n",
              "      <td>-0.135518</td>\n",
              "      <td>-0.058087</td>\n",
              "      <td>-0.081645</td>\n",
              "      <td>...</td>\n",
              "      <td>0.827227</td>\n",
              "      <td>NaN</td>\n",
              "      <td>0.088765</td>\n",
              "      <td>-0.083618</td>\n",
              "      <td>-0.012386</td>\n",
              "      <td>0.051829</td>\n",
              "      <td>-0.080879</td>\n",
              "      <td>-0.047386</td>\n",
              "      <td>0.001049</td>\n",
              "      <td>-0.136481</td>\n",
              "    </tr>\n",
              "  </tbody>\n",
              "</table>\n",
              "<p>5 rows × 121 columns</p>\n",
              "</div>\n",
              "      <button class=\"colab-df-convert\" onclick=\"convertToInteractive('df-a191ce31-e022-4ab5-8ddd-6cfeef8132a9')\"\n",
              "              title=\"Convert this dataframe to an interactive table.\"\n",
              "              style=\"display:none;\">\n",
              "        \n",
              "  <svg xmlns=\"http://www.w3.org/2000/svg\" height=\"24px\"viewBox=\"0 0 24 24\"\n",
              "       width=\"24px\">\n",
              "    <path d=\"M0 0h24v24H0V0z\" fill=\"none\"/>\n",
              "    <path d=\"M18.56 5.44l.94 2.06.94-2.06 2.06-.94-2.06-.94-.94-2.06-.94 2.06-2.06.94zm-11 1L8.5 8.5l.94-2.06 2.06-.94-2.06-.94L8.5 2.5l-.94 2.06-2.06.94zm10 10l.94 2.06.94-2.06 2.06-.94-2.06-.94-.94-2.06-.94 2.06-2.06.94z\"/><path d=\"M17.41 7.96l-1.37-1.37c-.4-.4-.92-.59-1.43-.59-.52 0-1.04.2-1.43.59L10.3 9.45l-7.72 7.72c-.78.78-.78 2.05 0 2.83L4 21.41c.39.39.9.59 1.41.59.51 0 1.02-.2 1.41-.59l7.78-7.78 2.81-2.81c.8-.78.8-2.07 0-2.86zM5.41 20L4 18.59l7.72-7.72 1.47 1.35L5.41 20z\"/>\n",
              "  </svg>\n",
              "      </button>\n",
              "      \n",
              "  <style>\n",
              "    .colab-df-container {\n",
              "      display:flex;\n",
              "      flex-wrap:wrap;\n",
              "      gap: 12px;\n",
              "    }\n",
              "\n",
              "    .colab-df-convert {\n",
              "      background-color: #E8F0FE;\n",
              "      border: none;\n",
              "      border-radius: 50%;\n",
              "      cursor: pointer;\n",
              "      display: none;\n",
              "      fill: #1967D2;\n",
              "      height: 32px;\n",
              "      padding: 0 0 0 0;\n",
              "      width: 32px;\n",
              "    }\n",
              "\n",
              "    .colab-df-convert:hover {\n",
              "      background-color: #E2EBFA;\n",
              "      box-shadow: 0px 1px 2px rgba(60, 64, 67, 0.3), 0px 1px 3px 1px rgba(60, 64, 67, 0.15);\n",
              "      fill: #174EA6;\n",
              "    }\n",
              "\n",
              "    [theme=dark] .colab-df-convert {\n",
              "      background-color: #3B4455;\n",
              "      fill: #D2E3FC;\n",
              "    }\n",
              "\n",
              "    [theme=dark] .colab-df-convert:hover {\n",
              "      background-color: #434B5C;\n",
              "      box-shadow: 0px 1px 3px 1px rgba(0, 0, 0, 0.15);\n",
              "      filter: drop-shadow(0px 1px 2px rgba(0, 0, 0, 0.3));\n",
              "      fill: #FFFFFF;\n",
              "    }\n",
              "  </style>\n",
              "\n",
              "      <script>\n",
              "        const buttonEl =\n",
              "          document.querySelector('#df-a191ce31-e022-4ab5-8ddd-6cfeef8132a9 button.colab-df-convert');\n",
              "        buttonEl.style.display =\n",
              "          google.colab.kernel.accessAllowed ? 'block' : 'none';\n",
              "\n",
              "        async function convertToInteractive(key) {\n",
              "          const element = document.querySelector('#df-a191ce31-e022-4ab5-8ddd-6cfeef8132a9');\n",
              "          const dataTable =\n",
              "            await google.colab.kernel.invokeFunction('convertToInteractive',\n",
              "                                                     [key], {});\n",
              "          if (!dataTable) return;\n",
              "\n",
              "          const docLinkHtml = 'Like what you see? Visit the ' +\n",
              "            '<a target=\"_blank\" href=https://colab.research.google.com/notebooks/data_table.ipynb>data table notebook</a>'\n",
              "            + ' to learn more about interactive tables.';\n",
              "          element.innerHTML = '';\n",
              "          dataTable['output_type'] = 'display_data';\n",
              "          await google.colab.output.renderOutput(dataTable, element);\n",
              "          const docLink = document.createElement('div');\n",
              "          docLink.innerHTML = docLinkHtml;\n",
              "          element.appendChild(docLink);\n",
              "        }\n",
              "      </script>\n",
              "    </div>\n",
              "  </div>\n",
              "  "
            ]
          },
          "metadata": {},
          "execution_count": 140
        }
      ]
    },
    {
      "cell_type": "markdown",
      "source": [
        "### Calculate MOM Percentile(30%, 70%)"
      ],
      "metadata": {
        "id": "6rmuXBpRBhbn"
      }
    },
    {
      "cell_type": "code",
      "source": [
        "# Only Select Assets(BTC, ETH...) Columns\n",
        "col = []\n",
        "for colName in momMatrix.columns:\n",
        "     if colName not in ['Date','MOM30p','MOM70p']:\n",
        "         col.append(colName)\n",
        "momMatrix[col].head()"
      ],
      "metadata": {
        "colab": {
          "base_uri": "https://localhost:8080/",
          "height": 236
        },
        "id": "RI0O0dDpQ7_L",
        "outputId": "7e3af578-68d8-4aaf-f106-de9e4cdb171b"
      },
      "execution_count": 141,
      "outputs": [
        {
          "output_type": "execute_result",
          "data": {
            "text/plain": [
              "       AAVE       ABT      AMPL       ANT     ARMOR    BADGER       BAL  \\\n",
              "0       NaN       NaN       NaN       NaN       NaN       NaN       NaN   \n",
              "1 -0.354887 -0.571186 -0.538372 -0.668143 -0.632540 -0.700956 -0.610182   \n",
              "2 -0.382668 -0.286097 -0.058396 -0.460589 -0.400811 -0.550656 -0.489819   \n",
              "3  0.232395  0.324998  0.577449  0.652091  0.058700  0.455930  0.128310   \n",
              "4 -0.024113 -0.079155  0.106285  0.062860 -0.246951  0.113917 -0.135518   \n",
              "\n",
              "       BAND       BAT       BIX  ...      VERI  WAX      WBTC       WTC  \\\n",
              "0       NaN       NaN       NaN  ...       NaN  NaN       NaN       NaN   \n",
              "1 -0.614177 -0.600658 -0.574095  ... -0.413020  NaN -0.400037 -0.660054   \n",
              "2 -0.473380 -0.382628 -0.504048  ... -0.343092  NaN -0.231377 -0.510016   \n",
              "3  0.183153  0.347782  0.219793  ...  0.243890  NaN  0.024712  0.174587   \n",
              "4 -0.058087 -0.081645  0.011821  ...  0.827227  NaN  0.088765 -0.083618   \n",
              "\n",
              "       WaBi       YAM       YFI       ZRX      sUSD      wNXM  \n",
              "0       NaN       NaN       NaN       NaN       NaN       NaN  \n",
              "1 -0.694803 -0.342545 -0.382088 -0.587151 -0.026398 -0.499388  \n",
              "2 -0.456527 -0.555283 -0.363098 -0.403763 -0.013801 -0.268225  \n",
              "3  0.321486 -0.207288  0.307871  0.311204  0.006451  0.307454  \n",
              "4 -0.012386  0.051829 -0.080879 -0.047386  0.001049 -0.136481  \n",
              "\n",
              "[5 rows x 120 columns]"
            ],
            "text/html": [
              "\n",
              "  <div id=\"df-a86869ca-2245-486a-a80c-640d6d2d6679\">\n",
              "    <div class=\"colab-df-container\">\n",
              "      <div>\n",
              "<style scoped>\n",
              "    .dataframe tbody tr th:only-of-type {\n",
              "        vertical-align: middle;\n",
              "    }\n",
              "\n",
              "    .dataframe tbody tr th {\n",
              "        vertical-align: top;\n",
              "    }\n",
              "\n",
              "    .dataframe thead th {\n",
              "        text-align: right;\n",
              "    }\n",
              "</style>\n",
              "<table border=\"1\" class=\"dataframe\">\n",
              "  <thead>\n",
              "    <tr style=\"text-align: right;\">\n",
              "      <th></th>\n",
              "      <th>AAVE</th>\n",
              "      <th>ABT</th>\n",
              "      <th>AMPL</th>\n",
              "      <th>ANT</th>\n",
              "      <th>ARMOR</th>\n",
              "      <th>BADGER</th>\n",
              "      <th>BAL</th>\n",
              "      <th>BAND</th>\n",
              "      <th>BAT</th>\n",
              "      <th>BIX</th>\n",
              "      <th>...</th>\n",
              "      <th>VERI</th>\n",
              "      <th>WAX</th>\n",
              "      <th>WBTC</th>\n",
              "      <th>WTC</th>\n",
              "      <th>WaBi</th>\n",
              "      <th>YAM</th>\n",
              "      <th>YFI</th>\n",
              "      <th>ZRX</th>\n",
              "      <th>sUSD</th>\n",
              "      <th>wNXM</th>\n",
              "    </tr>\n",
              "  </thead>\n",
              "  <tbody>\n",
              "    <tr>\n",
              "      <th>0</th>\n",
              "      <td>NaN</td>\n",
              "      <td>NaN</td>\n",
              "      <td>NaN</td>\n",
              "      <td>NaN</td>\n",
              "      <td>NaN</td>\n",
              "      <td>NaN</td>\n",
              "      <td>NaN</td>\n",
              "      <td>NaN</td>\n",
              "      <td>NaN</td>\n",
              "      <td>NaN</td>\n",
              "      <td>...</td>\n",
              "      <td>NaN</td>\n",
              "      <td>NaN</td>\n",
              "      <td>NaN</td>\n",
              "      <td>NaN</td>\n",
              "      <td>NaN</td>\n",
              "      <td>NaN</td>\n",
              "      <td>NaN</td>\n",
              "      <td>NaN</td>\n",
              "      <td>NaN</td>\n",
              "      <td>NaN</td>\n",
              "    </tr>\n",
              "    <tr>\n",
              "      <th>1</th>\n",
              "      <td>-0.354887</td>\n",
              "      <td>-0.571186</td>\n",
              "      <td>-0.538372</td>\n",
              "      <td>-0.668143</td>\n",
              "      <td>-0.632540</td>\n",
              "      <td>-0.700956</td>\n",
              "      <td>-0.610182</td>\n",
              "      <td>-0.614177</td>\n",
              "      <td>-0.600658</td>\n",
              "      <td>-0.574095</td>\n",
              "      <td>...</td>\n",
              "      <td>-0.413020</td>\n",
              "      <td>NaN</td>\n",
              "      <td>-0.400037</td>\n",
              "      <td>-0.660054</td>\n",
              "      <td>-0.694803</td>\n",
              "      <td>-0.342545</td>\n",
              "      <td>-0.382088</td>\n",
              "      <td>-0.587151</td>\n",
              "      <td>-0.026398</td>\n",
              "      <td>-0.499388</td>\n",
              "    </tr>\n",
              "    <tr>\n",
              "      <th>2</th>\n",
              "      <td>-0.382668</td>\n",
              "      <td>-0.286097</td>\n",
              "      <td>-0.058396</td>\n",
              "      <td>-0.460589</td>\n",
              "      <td>-0.400811</td>\n",
              "      <td>-0.550656</td>\n",
              "      <td>-0.489819</td>\n",
              "      <td>-0.473380</td>\n",
              "      <td>-0.382628</td>\n",
              "      <td>-0.504048</td>\n",
              "      <td>...</td>\n",
              "      <td>-0.343092</td>\n",
              "      <td>NaN</td>\n",
              "      <td>-0.231377</td>\n",
              "      <td>-0.510016</td>\n",
              "      <td>-0.456527</td>\n",
              "      <td>-0.555283</td>\n",
              "      <td>-0.363098</td>\n",
              "      <td>-0.403763</td>\n",
              "      <td>-0.013801</td>\n",
              "      <td>-0.268225</td>\n",
              "    </tr>\n",
              "    <tr>\n",
              "      <th>3</th>\n",
              "      <td>0.232395</td>\n",
              "      <td>0.324998</td>\n",
              "      <td>0.577449</td>\n",
              "      <td>0.652091</td>\n",
              "      <td>0.058700</td>\n",
              "      <td>0.455930</td>\n",
              "      <td>0.128310</td>\n",
              "      <td>0.183153</td>\n",
              "      <td>0.347782</td>\n",
              "      <td>0.219793</td>\n",
              "      <td>...</td>\n",
              "      <td>0.243890</td>\n",
              "      <td>NaN</td>\n",
              "      <td>0.024712</td>\n",
              "      <td>0.174587</td>\n",
              "      <td>0.321486</td>\n",
              "      <td>-0.207288</td>\n",
              "      <td>0.307871</td>\n",
              "      <td>0.311204</td>\n",
              "      <td>0.006451</td>\n",
              "      <td>0.307454</td>\n",
              "    </tr>\n",
              "    <tr>\n",
              "      <th>4</th>\n",
              "      <td>-0.024113</td>\n",
              "      <td>-0.079155</td>\n",
              "      <td>0.106285</td>\n",
              "      <td>0.062860</td>\n",
              "      <td>-0.246951</td>\n",
              "      <td>0.113917</td>\n",
              "      <td>-0.135518</td>\n",
              "      <td>-0.058087</td>\n",
              "      <td>-0.081645</td>\n",
              "      <td>0.011821</td>\n",
              "      <td>...</td>\n",
              "      <td>0.827227</td>\n",
              "      <td>NaN</td>\n",
              "      <td>0.088765</td>\n",
              "      <td>-0.083618</td>\n",
              "      <td>-0.012386</td>\n",
              "      <td>0.051829</td>\n",
              "      <td>-0.080879</td>\n",
              "      <td>-0.047386</td>\n",
              "      <td>0.001049</td>\n",
              "      <td>-0.136481</td>\n",
              "    </tr>\n",
              "  </tbody>\n",
              "</table>\n",
              "<p>5 rows × 120 columns</p>\n",
              "</div>\n",
              "      <button class=\"colab-df-convert\" onclick=\"convertToInteractive('df-a86869ca-2245-486a-a80c-640d6d2d6679')\"\n",
              "              title=\"Convert this dataframe to an interactive table.\"\n",
              "              style=\"display:none;\">\n",
              "        \n",
              "  <svg xmlns=\"http://www.w3.org/2000/svg\" height=\"24px\"viewBox=\"0 0 24 24\"\n",
              "       width=\"24px\">\n",
              "    <path d=\"M0 0h24v24H0V0z\" fill=\"none\"/>\n",
              "    <path d=\"M18.56 5.44l.94 2.06.94-2.06 2.06-.94-2.06-.94-.94-2.06-.94 2.06-2.06.94zm-11 1L8.5 8.5l.94-2.06 2.06-.94-2.06-.94L8.5 2.5l-.94 2.06-2.06.94zm10 10l.94 2.06.94-2.06 2.06-.94-2.06-.94-.94-2.06-.94 2.06-2.06.94z\"/><path d=\"M17.41 7.96l-1.37-1.37c-.4-.4-.92-.59-1.43-.59-.52 0-1.04.2-1.43.59L10.3 9.45l-7.72 7.72c-.78.78-.78 2.05 0 2.83L4 21.41c.39.39.9.59 1.41.59.51 0 1.02-.2 1.41-.59l7.78-7.78 2.81-2.81c.8-.78.8-2.07 0-2.86zM5.41 20L4 18.59l7.72-7.72 1.47 1.35L5.41 20z\"/>\n",
              "  </svg>\n",
              "      </button>\n",
              "      \n",
              "  <style>\n",
              "    .colab-df-container {\n",
              "      display:flex;\n",
              "      flex-wrap:wrap;\n",
              "      gap: 12px;\n",
              "    }\n",
              "\n",
              "    .colab-df-convert {\n",
              "      background-color: #E8F0FE;\n",
              "      border: none;\n",
              "      border-radius: 50%;\n",
              "      cursor: pointer;\n",
              "      display: none;\n",
              "      fill: #1967D2;\n",
              "      height: 32px;\n",
              "      padding: 0 0 0 0;\n",
              "      width: 32px;\n",
              "    }\n",
              "\n",
              "    .colab-df-convert:hover {\n",
              "      background-color: #E2EBFA;\n",
              "      box-shadow: 0px 1px 2px rgba(60, 64, 67, 0.3), 0px 1px 3px 1px rgba(60, 64, 67, 0.15);\n",
              "      fill: #174EA6;\n",
              "    }\n",
              "\n",
              "    [theme=dark] .colab-df-convert {\n",
              "      background-color: #3B4455;\n",
              "      fill: #D2E3FC;\n",
              "    }\n",
              "\n",
              "    [theme=dark] .colab-df-convert:hover {\n",
              "      background-color: #434B5C;\n",
              "      box-shadow: 0px 1px 3px 1px rgba(0, 0, 0, 0.15);\n",
              "      filter: drop-shadow(0px 1px 2px rgba(0, 0, 0, 0.3));\n",
              "      fill: #FFFFFF;\n",
              "    }\n",
              "  </style>\n",
              "\n",
              "      <script>\n",
              "        const buttonEl =\n",
              "          document.querySelector('#df-a86869ca-2245-486a-a80c-640d6d2d6679 button.colab-df-convert');\n",
              "        buttonEl.style.display =\n",
              "          google.colab.kernel.accessAllowed ? 'block' : 'none';\n",
              "\n",
              "        async function convertToInteractive(key) {\n",
              "          const element = document.querySelector('#df-a86869ca-2245-486a-a80c-640d6d2d6679');\n",
              "          const dataTable =\n",
              "            await google.colab.kernel.invokeFunction('convertToInteractive',\n",
              "                                                     [key], {});\n",
              "          if (!dataTable) return;\n",
              "\n",
              "          const docLinkHtml = 'Like what you see? Visit the ' +\n",
              "            '<a target=\"_blank\" href=https://colab.research.google.com/notebooks/data_table.ipynb>data table notebook</a>'\n",
              "            + ' to learn more about interactive tables.';\n",
              "          element.innerHTML = '';\n",
              "          dataTable['output_type'] = 'display_data';\n",
              "          await google.colab.output.renderOutput(dataTable, element);\n",
              "          const docLink = document.createElement('div');\n",
              "          docLink.innerHTML = docLinkHtml;\n",
              "          element.appendChild(docLink);\n",
              "        }\n",
              "      </script>\n",
              "    </div>\n",
              "  </div>\n",
              "  "
            ]
          },
          "metadata": {},
          "execution_count": 141
        }
      ]
    },
    {
      "cell_type": "code",
      "source": [
        "# 30% pencentile example\n",
        "momMatrix[col].quantile(.3, axis=1).head()"
      ],
      "metadata": {
        "colab": {
          "base_uri": "https://localhost:8080/"
        },
        "id": "C-QS4QQicNAA",
        "outputId": "bcd93ca8-e88e-4a09-fd9c-31acc84e7caa"
      },
      "execution_count": 142,
      "outputs": [
        {
          "output_type": "execute_result",
          "data": {
            "text/plain": [
              "0   -0.382874\n",
              "1   -0.606894\n",
              "2   -0.411377\n",
              "3    0.149268\n",
              "4   -0.084378\n",
              "Name: 0.3, dtype: float64"
            ]
          },
          "metadata": {},
          "execution_count": 142
        }
      ]
    },
    {
      "cell_type": "code",
      "source": [
        "momMatrix['MOM30p']=momMatrix[col].quantile(.3, axis=1)\n",
        "momMatrix['MOM70p']=momMatrix[col].quantile(.7, axis=1)\n",
        "momMatrix.head()"
      ],
      "metadata": {
        "colab": {
          "base_uri": "https://localhost:8080/",
          "height": 236
        },
        "id": "ewMOdEMUBiO2",
        "outputId": "db866ec1-d250-4123-f6c1-220fa3203b7d"
      },
      "execution_count": 143,
      "outputs": [
        {
          "output_type": "execute_result",
          "data": {
            "text/plain": [
              "        Date      AAVE       ABT      AMPL       ANT     ARMOR    BADGER  \\\n",
              "0 2021-05-10       NaN       NaN       NaN       NaN       NaN       NaN   \n",
              "1 2021-05-17 -0.354887 -0.571186 -0.538372 -0.668143 -0.632540 -0.700956   \n",
              "2 2021-05-24 -0.382668 -0.286097 -0.058396 -0.460589 -0.400811 -0.550656   \n",
              "3 2021-05-31  0.232395  0.324998  0.577449  0.652091  0.058700  0.455930   \n",
              "4 2021-06-07 -0.024113 -0.079155  0.106285  0.062860 -0.246951  0.113917   \n",
              "\n",
              "        BAL      BAND       BAT  ...      WBTC       WTC      WaBi       YAM  \\\n",
              "0       NaN       NaN       NaN  ...       NaN       NaN       NaN       NaN   \n",
              "1 -0.610182 -0.614177 -0.600658  ... -0.400037 -0.660054 -0.694803 -0.342545   \n",
              "2 -0.489819 -0.473380 -0.382628  ... -0.231377 -0.510016 -0.456527 -0.555283   \n",
              "3  0.128310  0.183153  0.347782  ...  0.024712  0.174587  0.321486 -0.207288   \n",
              "4 -0.135518 -0.058087 -0.081645  ...  0.088765 -0.083618 -0.012386  0.051829   \n",
              "\n",
              "        YFI       ZRX      sUSD      wNXM    MOM30p    MOM70p  \n",
              "0       NaN       NaN       NaN       NaN -0.382874 -0.382874  \n",
              "1 -0.382088 -0.587151 -0.026398 -0.499388 -0.606894 -0.460275  \n",
              "2 -0.363098 -0.403763 -0.013801 -0.268225 -0.411377 -0.277419  \n",
              "3  0.307871  0.311204  0.006451  0.307454  0.149268  0.346496  \n",
              "4 -0.080879 -0.047386  0.001049 -0.136481 -0.084378  0.028558  \n",
              "\n",
              "[5 rows x 123 columns]"
            ],
            "text/html": [
              "\n",
              "  <div id=\"df-6fc6e201-3617-498f-a52c-a4966c7877c8\">\n",
              "    <div class=\"colab-df-container\">\n",
              "      <div>\n",
              "<style scoped>\n",
              "    .dataframe tbody tr th:only-of-type {\n",
              "        vertical-align: middle;\n",
              "    }\n",
              "\n",
              "    .dataframe tbody tr th {\n",
              "        vertical-align: top;\n",
              "    }\n",
              "\n",
              "    .dataframe thead th {\n",
              "        text-align: right;\n",
              "    }\n",
              "</style>\n",
              "<table border=\"1\" class=\"dataframe\">\n",
              "  <thead>\n",
              "    <tr style=\"text-align: right;\">\n",
              "      <th></th>\n",
              "      <th>Date</th>\n",
              "      <th>AAVE</th>\n",
              "      <th>ABT</th>\n",
              "      <th>AMPL</th>\n",
              "      <th>ANT</th>\n",
              "      <th>ARMOR</th>\n",
              "      <th>BADGER</th>\n",
              "      <th>BAL</th>\n",
              "      <th>BAND</th>\n",
              "      <th>BAT</th>\n",
              "      <th>...</th>\n",
              "      <th>WBTC</th>\n",
              "      <th>WTC</th>\n",
              "      <th>WaBi</th>\n",
              "      <th>YAM</th>\n",
              "      <th>YFI</th>\n",
              "      <th>ZRX</th>\n",
              "      <th>sUSD</th>\n",
              "      <th>wNXM</th>\n",
              "      <th>MOM30p</th>\n",
              "      <th>MOM70p</th>\n",
              "    </tr>\n",
              "  </thead>\n",
              "  <tbody>\n",
              "    <tr>\n",
              "      <th>0</th>\n",
              "      <td>2021-05-10</td>\n",
              "      <td>NaN</td>\n",
              "      <td>NaN</td>\n",
              "      <td>NaN</td>\n",
              "      <td>NaN</td>\n",
              "      <td>NaN</td>\n",
              "      <td>NaN</td>\n",
              "      <td>NaN</td>\n",
              "      <td>NaN</td>\n",
              "      <td>NaN</td>\n",
              "      <td>...</td>\n",
              "      <td>NaN</td>\n",
              "      <td>NaN</td>\n",
              "      <td>NaN</td>\n",
              "      <td>NaN</td>\n",
              "      <td>NaN</td>\n",
              "      <td>NaN</td>\n",
              "      <td>NaN</td>\n",
              "      <td>NaN</td>\n",
              "      <td>-0.382874</td>\n",
              "      <td>-0.382874</td>\n",
              "    </tr>\n",
              "    <tr>\n",
              "      <th>1</th>\n",
              "      <td>2021-05-17</td>\n",
              "      <td>-0.354887</td>\n",
              "      <td>-0.571186</td>\n",
              "      <td>-0.538372</td>\n",
              "      <td>-0.668143</td>\n",
              "      <td>-0.632540</td>\n",
              "      <td>-0.700956</td>\n",
              "      <td>-0.610182</td>\n",
              "      <td>-0.614177</td>\n",
              "      <td>-0.600658</td>\n",
              "      <td>...</td>\n",
              "      <td>-0.400037</td>\n",
              "      <td>-0.660054</td>\n",
              "      <td>-0.694803</td>\n",
              "      <td>-0.342545</td>\n",
              "      <td>-0.382088</td>\n",
              "      <td>-0.587151</td>\n",
              "      <td>-0.026398</td>\n",
              "      <td>-0.499388</td>\n",
              "      <td>-0.606894</td>\n",
              "      <td>-0.460275</td>\n",
              "    </tr>\n",
              "    <tr>\n",
              "      <th>2</th>\n",
              "      <td>2021-05-24</td>\n",
              "      <td>-0.382668</td>\n",
              "      <td>-0.286097</td>\n",
              "      <td>-0.058396</td>\n",
              "      <td>-0.460589</td>\n",
              "      <td>-0.400811</td>\n",
              "      <td>-0.550656</td>\n",
              "      <td>-0.489819</td>\n",
              "      <td>-0.473380</td>\n",
              "      <td>-0.382628</td>\n",
              "      <td>...</td>\n",
              "      <td>-0.231377</td>\n",
              "      <td>-0.510016</td>\n",
              "      <td>-0.456527</td>\n",
              "      <td>-0.555283</td>\n",
              "      <td>-0.363098</td>\n",
              "      <td>-0.403763</td>\n",
              "      <td>-0.013801</td>\n",
              "      <td>-0.268225</td>\n",
              "      <td>-0.411377</td>\n",
              "      <td>-0.277419</td>\n",
              "    </tr>\n",
              "    <tr>\n",
              "      <th>3</th>\n",
              "      <td>2021-05-31</td>\n",
              "      <td>0.232395</td>\n",
              "      <td>0.324998</td>\n",
              "      <td>0.577449</td>\n",
              "      <td>0.652091</td>\n",
              "      <td>0.058700</td>\n",
              "      <td>0.455930</td>\n",
              "      <td>0.128310</td>\n",
              "      <td>0.183153</td>\n",
              "      <td>0.347782</td>\n",
              "      <td>...</td>\n",
              "      <td>0.024712</td>\n",
              "      <td>0.174587</td>\n",
              "      <td>0.321486</td>\n",
              "      <td>-0.207288</td>\n",
              "      <td>0.307871</td>\n",
              "      <td>0.311204</td>\n",
              "      <td>0.006451</td>\n",
              "      <td>0.307454</td>\n",
              "      <td>0.149268</td>\n",
              "      <td>0.346496</td>\n",
              "    </tr>\n",
              "    <tr>\n",
              "      <th>4</th>\n",
              "      <td>2021-06-07</td>\n",
              "      <td>-0.024113</td>\n",
              "      <td>-0.079155</td>\n",
              "      <td>0.106285</td>\n",
              "      <td>0.062860</td>\n",
              "      <td>-0.246951</td>\n",
              "      <td>0.113917</td>\n",
              "      <td>-0.135518</td>\n",
              "      <td>-0.058087</td>\n",
              "      <td>-0.081645</td>\n",
              "      <td>...</td>\n",
              "      <td>0.088765</td>\n",
              "      <td>-0.083618</td>\n",
              "      <td>-0.012386</td>\n",
              "      <td>0.051829</td>\n",
              "      <td>-0.080879</td>\n",
              "      <td>-0.047386</td>\n",
              "      <td>0.001049</td>\n",
              "      <td>-0.136481</td>\n",
              "      <td>-0.084378</td>\n",
              "      <td>0.028558</td>\n",
              "    </tr>\n",
              "  </tbody>\n",
              "</table>\n",
              "<p>5 rows × 123 columns</p>\n",
              "</div>\n",
              "      <button class=\"colab-df-convert\" onclick=\"convertToInteractive('df-6fc6e201-3617-498f-a52c-a4966c7877c8')\"\n",
              "              title=\"Convert this dataframe to an interactive table.\"\n",
              "              style=\"display:none;\">\n",
              "        \n",
              "  <svg xmlns=\"http://www.w3.org/2000/svg\" height=\"24px\"viewBox=\"0 0 24 24\"\n",
              "       width=\"24px\">\n",
              "    <path d=\"M0 0h24v24H0V0z\" fill=\"none\"/>\n",
              "    <path d=\"M18.56 5.44l.94 2.06.94-2.06 2.06-.94-2.06-.94-.94-2.06-.94 2.06-2.06.94zm-11 1L8.5 8.5l.94-2.06 2.06-.94-2.06-.94L8.5 2.5l-.94 2.06-2.06.94zm10 10l.94 2.06.94-2.06 2.06-.94-2.06-.94-.94-2.06-.94 2.06-2.06.94z\"/><path d=\"M17.41 7.96l-1.37-1.37c-.4-.4-.92-.59-1.43-.59-.52 0-1.04.2-1.43.59L10.3 9.45l-7.72 7.72c-.78.78-.78 2.05 0 2.83L4 21.41c.39.39.9.59 1.41.59.51 0 1.02-.2 1.41-.59l7.78-7.78 2.81-2.81c.8-.78.8-2.07 0-2.86zM5.41 20L4 18.59l7.72-7.72 1.47 1.35L5.41 20z\"/>\n",
              "  </svg>\n",
              "      </button>\n",
              "      \n",
              "  <style>\n",
              "    .colab-df-container {\n",
              "      display:flex;\n",
              "      flex-wrap:wrap;\n",
              "      gap: 12px;\n",
              "    }\n",
              "\n",
              "    .colab-df-convert {\n",
              "      background-color: #E8F0FE;\n",
              "      border: none;\n",
              "      border-radius: 50%;\n",
              "      cursor: pointer;\n",
              "      display: none;\n",
              "      fill: #1967D2;\n",
              "      height: 32px;\n",
              "      padding: 0 0 0 0;\n",
              "      width: 32px;\n",
              "    }\n",
              "\n",
              "    .colab-df-convert:hover {\n",
              "      background-color: #E2EBFA;\n",
              "      box-shadow: 0px 1px 2px rgba(60, 64, 67, 0.3), 0px 1px 3px 1px rgba(60, 64, 67, 0.15);\n",
              "      fill: #174EA6;\n",
              "    }\n",
              "\n",
              "    [theme=dark] .colab-df-convert {\n",
              "      background-color: #3B4455;\n",
              "      fill: #D2E3FC;\n",
              "    }\n",
              "\n",
              "    [theme=dark] .colab-df-convert:hover {\n",
              "      background-color: #434B5C;\n",
              "      box-shadow: 0px 1px 3px 1px rgba(0, 0, 0, 0.15);\n",
              "      filter: drop-shadow(0px 1px 2px rgba(0, 0, 0, 0.3));\n",
              "      fill: #FFFFFF;\n",
              "    }\n",
              "  </style>\n",
              "\n",
              "      <script>\n",
              "        const buttonEl =\n",
              "          document.querySelector('#df-6fc6e201-3617-498f-a52c-a4966c7877c8 button.colab-df-convert');\n",
              "        buttonEl.style.display =\n",
              "          google.colab.kernel.accessAllowed ? 'block' : 'none';\n",
              "\n",
              "        async function convertToInteractive(key) {\n",
              "          const element = document.querySelector('#df-6fc6e201-3617-498f-a52c-a4966c7877c8');\n",
              "          const dataTable =\n",
              "            await google.colab.kernel.invokeFunction('convertToInteractive',\n",
              "                                                     [key], {});\n",
              "          if (!dataTable) return;\n",
              "\n",
              "          const docLinkHtml = 'Like what you see? Visit the ' +\n",
              "            '<a target=\"_blank\" href=https://colab.research.google.com/notebooks/data_table.ipynb>data table notebook</a>'\n",
              "            + ' to learn more about interactive tables.';\n",
              "          element.innerHTML = '';\n",
              "          dataTable['output_type'] = 'display_data';\n",
              "          await google.colab.output.renderOutput(dataTable, element);\n",
              "          const docLink = document.createElement('div');\n",
              "          docLink.innerHTML = docLinkHtml;\n",
              "          element.appendChild(docLink);\n",
              "        }\n",
              "      </script>\n",
              "    </div>\n",
              "  </div>\n",
              "  "
            ]
          },
          "metadata": {},
          "execution_count": 143
        }
      ]
    },
    {
      "cell_type": "code",
      "source": [
        "# Reshape for Later Use\n",
        "momPt = momMatrix[['MOM30p','MOM70p']]\n",
        "momMatrix = momMatrix.drop(['MOM30p','MOM70p'], axis=1)"
      ],
      "metadata": {
        "id": "Q8SHmnPAXU6F"
      },
      "execution_count": 144,
      "outputs": []
    },
    {
      "cell_type": "code",
      "source": [
        "momPt.head()"
      ],
      "metadata": {
        "colab": {
          "base_uri": "https://localhost:8080/",
          "height": 206
        },
        "id": "hb1wNQfhJlg3",
        "outputId": "5d687f88-db06-4da6-9f72-c78efe393a11"
      },
      "execution_count": 145,
      "outputs": [
        {
          "output_type": "execute_result",
          "data": {
            "text/plain": [
              "     MOM30p    MOM70p\n",
              "0 -0.382874 -0.382874\n",
              "1 -0.606894 -0.460275\n",
              "2 -0.411377 -0.277419\n",
              "3  0.149268  0.346496\n",
              "4 -0.084378  0.028558"
            ],
            "text/html": [
              "\n",
              "  <div id=\"df-627d4399-431d-42a7-a877-9664853f6418\">\n",
              "    <div class=\"colab-df-container\">\n",
              "      <div>\n",
              "<style scoped>\n",
              "    .dataframe tbody tr th:only-of-type {\n",
              "        vertical-align: middle;\n",
              "    }\n",
              "\n",
              "    .dataframe tbody tr th {\n",
              "        vertical-align: top;\n",
              "    }\n",
              "\n",
              "    .dataframe thead th {\n",
              "        text-align: right;\n",
              "    }\n",
              "</style>\n",
              "<table border=\"1\" class=\"dataframe\">\n",
              "  <thead>\n",
              "    <tr style=\"text-align: right;\">\n",
              "      <th></th>\n",
              "      <th>MOM30p</th>\n",
              "      <th>MOM70p</th>\n",
              "    </tr>\n",
              "  </thead>\n",
              "  <tbody>\n",
              "    <tr>\n",
              "      <th>0</th>\n",
              "      <td>-0.382874</td>\n",
              "      <td>-0.382874</td>\n",
              "    </tr>\n",
              "    <tr>\n",
              "      <th>1</th>\n",
              "      <td>-0.606894</td>\n",
              "      <td>-0.460275</td>\n",
              "    </tr>\n",
              "    <tr>\n",
              "      <th>2</th>\n",
              "      <td>-0.411377</td>\n",
              "      <td>-0.277419</td>\n",
              "    </tr>\n",
              "    <tr>\n",
              "      <th>3</th>\n",
              "      <td>0.149268</td>\n",
              "      <td>0.346496</td>\n",
              "    </tr>\n",
              "    <tr>\n",
              "      <th>4</th>\n",
              "      <td>-0.084378</td>\n",
              "      <td>0.028558</td>\n",
              "    </tr>\n",
              "  </tbody>\n",
              "</table>\n",
              "</div>\n",
              "      <button class=\"colab-df-convert\" onclick=\"convertToInteractive('df-627d4399-431d-42a7-a877-9664853f6418')\"\n",
              "              title=\"Convert this dataframe to an interactive table.\"\n",
              "              style=\"display:none;\">\n",
              "        \n",
              "  <svg xmlns=\"http://www.w3.org/2000/svg\" height=\"24px\"viewBox=\"0 0 24 24\"\n",
              "       width=\"24px\">\n",
              "    <path d=\"M0 0h24v24H0V0z\" fill=\"none\"/>\n",
              "    <path d=\"M18.56 5.44l.94 2.06.94-2.06 2.06-.94-2.06-.94-.94-2.06-.94 2.06-2.06.94zm-11 1L8.5 8.5l.94-2.06 2.06-.94-2.06-.94L8.5 2.5l-.94 2.06-2.06.94zm10 10l.94 2.06.94-2.06 2.06-.94-2.06-.94-.94-2.06-.94 2.06-2.06.94z\"/><path d=\"M17.41 7.96l-1.37-1.37c-.4-.4-.92-.59-1.43-.59-.52 0-1.04.2-1.43.59L10.3 9.45l-7.72 7.72c-.78.78-.78 2.05 0 2.83L4 21.41c.39.39.9.59 1.41.59.51 0 1.02-.2 1.41-.59l7.78-7.78 2.81-2.81c.8-.78.8-2.07 0-2.86zM5.41 20L4 18.59l7.72-7.72 1.47 1.35L5.41 20z\"/>\n",
              "  </svg>\n",
              "      </button>\n",
              "      \n",
              "  <style>\n",
              "    .colab-df-container {\n",
              "      display:flex;\n",
              "      flex-wrap:wrap;\n",
              "      gap: 12px;\n",
              "    }\n",
              "\n",
              "    .colab-df-convert {\n",
              "      background-color: #E8F0FE;\n",
              "      border: none;\n",
              "      border-radius: 50%;\n",
              "      cursor: pointer;\n",
              "      display: none;\n",
              "      fill: #1967D2;\n",
              "      height: 32px;\n",
              "      padding: 0 0 0 0;\n",
              "      width: 32px;\n",
              "    }\n",
              "\n",
              "    .colab-df-convert:hover {\n",
              "      background-color: #E2EBFA;\n",
              "      box-shadow: 0px 1px 2px rgba(60, 64, 67, 0.3), 0px 1px 3px 1px rgba(60, 64, 67, 0.15);\n",
              "      fill: #174EA6;\n",
              "    }\n",
              "\n",
              "    [theme=dark] .colab-df-convert {\n",
              "      background-color: #3B4455;\n",
              "      fill: #D2E3FC;\n",
              "    }\n",
              "\n",
              "    [theme=dark] .colab-df-convert:hover {\n",
              "      background-color: #434B5C;\n",
              "      box-shadow: 0px 1px 3px 1px rgba(0, 0, 0, 0.15);\n",
              "      filter: drop-shadow(0px 1px 2px rgba(0, 0, 0, 0.3));\n",
              "      fill: #FFFFFF;\n",
              "    }\n",
              "  </style>\n",
              "\n",
              "      <script>\n",
              "        const buttonEl =\n",
              "          document.querySelector('#df-627d4399-431d-42a7-a877-9664853f6418 button.colab-df-convert');\n",
              "        buttonEl.style.display =\n",
              "          google.colab.kernel.accessAllowed ? 'block' : 'none';\n",
              "\n",
              "        async function convertToInteractive(key) {\n",
              "          const element = document.querySelector('#df-627d4399-431d-42a7-a877-9664853f6418');\n",
              "          const dataTable =\n",
              "            await google.colab.kernel.invokeFunction('convertToInteractive',\n",
              "                                                     [key], {});\n",
              "          if (!dataTable) return;\n",
              "\n",
              "          const docLinkHtml = 'Like what you see? Visit the ' +\n",
              "            '<a target=\"_blank\" href=https://colab.research.google.com/notebooks/data_table.ipynb>data table notebook</a>'\n",
              "            + ' to learn more about interactive tables.';\n",
              "          element.innerHTML = '';\n",
              "          dataTable['output_type'] = 'display_data';\n",
              "          await google.colab.output.renderOutput(dataTable, element);\n",
              "          const docLink = document.createElement('div');\n",
              "          docLink.innerHTML = docLinkHtml;\n",
              "          element.appendChild(docLink);\n",
              "        }\n",
              "      </script>\n",
              "    </div>\n",
              "  </div>\n",
              "  "
            ]
          },
          "metadata": {},
          "execution_count": 145
        }
      ]
    },
    {
      "cell_type": "markdown",
      "source": [
        "### Calculate Momentum portfolio returns"
      ],
      "metadata": {
        "id": "lIAdQcVyxW3U"
      }
    },
    {
      "cell_type": "code",
      "source": [
        "# Delete the First 2 Rows of returnAll to Match the momMatrix Date\n",
        "returnAll = returnAll.drop(returnAll.head(2).index).reset_index().drop('index', axis=1)\n",
        "returnAll.head()"
      ],
      "metadata": {
        "colab": {
          "base_uri": "https://localhost:8080/",
          "height": 236
        },
        "id": "89WFVndmxWZL",
        "outputId": "2d0b264a-c889-4fdd-c9d9-938718be4340"
      },
      "execution_count": 146,
      "outputs": [
        {
          "output_type": "execute_result",
          "data": {
            "text/plain": [
              "        Date      AAVE       ABT      AMPL       ANT     ARMOR    BADGER  \\\n",
              "0 2021-05-10  0.143665 -0.171471 -0.281857 -0.244447 -0.323333 -0.256346   \n",
              "1 2021-05-17 -0.435925 -0.482439 -0.357192 -0.560776 -0.456955 -0.597872   \n",
              "2 2021-05-24  0.094413  0.379361  0.464830  0.228098  0.103387  0.117416   \n",
              "3 2021-05-31  0.126079 -0.039411  0.076882  0.345243 -0.040499  0.302944   \n",
              "4 2021-06-07 -0.133376 -0.041374  0.027304 -0.209913 -0.215166 -0.145077   \n",
              "\n",
              "        BAL      BAND       BAT  ...      VERI  WAX      WBTC       WTC  \\\n",
              "0 -0.182583 -0.204940 -0.194722  ...  0.062182  NaN -0.204564 -0.164128   \n",
              "1 -0.523110 -0.514725 -0.504094  ... -0.447383  NaN -0.245743 -0.593304   \n",
              "2  0.069808  0.085198  0.244939  ...  0.188722  NaN  0.019047  0.204790   \n",
              "3  0.054685  0.090265  0.082609  ...  0.046409  NaN  0.005559 -0.025069   \n",
              "4 -0.180341 -0.136070 -0.151720  ...  0.746187  NaN  0.082746 -0.060055   \n",
              "\n",
              "       WaBi       YAM       YFI       ZRX      sUSD      wNXM  \n",
              "0 -0.319218  0.064864  0.234226 -0.195655 -0.007335 -0.150428  \n",
              "1 -0.551696 -0.382593 -0.499353 -0.486727 -0.019204 -0.410748  \n",
              "2  0.212288 -0.279703  0.272157  0.161636  0.005509  0.241871  \n",
              "3  0.090076  0.100535  0.028074  0.128756  0.000937  0.052810  \n",
              "4 -0.093995 -0.044256 -0.105978 -0.156050  0.000112 -0.179796  \n",
              "\n",
              "[5 rows x 121 columns]"
            ],
            "text/html": [
              "\n",
              "  <div id=\"df-fdc63de1-5c39-4c4b-8cf6-66e7c05872d8\">\n",
              "    <div class=\"colab-df-container\">\n",
              "      <div>\n",
              "<style scoped>\n",
              "    .dataframe tbody tr th:only-of-type {\n",
              "        vertical-align: middle;\n",
              "    }\n",
              "\n",
              "    .dataframe tbody tr th {\n",
              "        vertical-align: top;\n",
              "    }\n",
              "\n",
              "    .dataframe thead th {\n",
              "        text-align: right;\n",
              "    }\n",
              "</style>\n",
              "<table border=\"1\" class=\"dataframe\">\n",
              "  <thead>\n",
              "    <tr style=\"text-align: right;\">\n",
              "      <th></th>\n",
              "      <th>Date</th>\n",
              "      <th>AAVE</th>\n",
              "      <th>ABT</th>\n",
              "      <th>AMPL</th>\n",
              "      <th>ANT</th>\n",
              "      <th>ARMOR</th>\n",
              "      <th>BADGER</th>\n",
              "      <th>BAL</th>\n",
              "      <th>BAND</th>\n",
              "      <th>BAT</th>\n",
              "      <th>...</th>\n",
              "      <th>VERI</th>\n",
              "      <th>WAX</th>\n",
              "      <th>WBTC</th>\n",
              "      <th>WTC</th>\n",
              "      <th>WaBi</th>\n",
              "      <th>YAM</th>\n",
              "      <th>YFI</th>\n",
              "      <th>ZRX</th>\n",
              "      <th>sUSD</th>\n",
              "      <th>wNXM</th>\n",
              "    </tr>\n",
              "  </thead>\n",
              "  <tbody>\n",
              "    <tr>\n",
              "      <th>0</th>\n",
              "      <td>2021-05-10</td>\n",
              "      <td>0.143665</td>\n",
              "      <td>-0.171471</td>\n",
              "      <td>-0.281857</td>\n",
              "      <td>-0.244447</td>\n",
              "      <td>-0.323333</td>\n",
              "      <td>-0.256346</td>\n",
              "      <td>-0.182583</td>\n",
              "      <td>-0.204940</td>\n",
              "      <td>-0.194722</td>\n",
              "      <td>...</td>\n",
              "      <td>0.062182</td>\n",
              "      <td>NaN</td>\n",
              "      <td>-0.204564</td>\n",
              "      <td>-0.164128</td>\n",
              "      <td>-0.319218</td>\n",
              "      <td>0.064864</td>\n",
              "      <td>0.234226</td>\n",
              "      <td>-0.195655</td>\n",
              "      <td>-0.007335</td>\n",
              "      <td>-0.150428</td>\n",
              "    </tr>\n",
              "    <tr>\n",
              "      <th>1</th>\n",
              "      <td>2021-05-17</td>\n",
              "      <td>-0.435925</td>\n",
              "      <td>-0.482439</td>\n",
              "      <td>-0.357192</td>\n",
              "      <td>-0.560776</td>\n",
              "      <td>-0.456955</td>\n",
              "      <td>-0.597872</td>\n",
              "      <td>-0.523110</td>\n",
              "      <td>-0.514725</td>\n",
              "      <td>-0.504094</td>\n",
              "      <td>...</td>\n",
              "      <td>-0.447383</td>\n",
              "      <td>NaN</td>\n",
              "      <td>-0.245743</td>\n",
              "      <td>-0.593304</td>\n",
              "      <td>-0.551696</td>\n",
              "      <td>-0.382593</td>\n",
              "      <td>-0.499353</td>\n",
              "      <td>-0.486727</td>\n",
              "      <td>-0.019204</td>\n",
              "      <td>-0.410748</td>\n",
              "    </tr>\n",
              "    <tr>\n",
              "      <th>2</th>\n",
              "      <td>2021-05-24</td>\n",
              "      <td>0.094413</td>\n",
              "      <td>0.379361</td>\n",
              "      <td>0.464830</td>\n",
              "      <td>0.228098</td>\n",
              "      <td>0.103387</td>\n",
              "      <td>0.117416</td>\n",
              "      <td>0.069808</td>\n",
              "      <td>0.085198</td>\n",
              "      <td>0.244939</td>\n",
              "      <td>...</td>\n",
              "      <td>0.188722</td>\n",
              "      <td>NaN</td>\n",
              "      <td>0.019047</td>\n",
              "      <td>0.204790</td>\n",
              "      <td>0.212288</td>\n",
              "      <td>-0.279703</td>\n",
              "      <td>0.272157</td>\n",
              "      <td>0.161636</td>\n",
              "      <td>0.005509</td>\n",
              "      <td>0.241871</td>\n",
              "    </tr>\n",
              "    <tr>\n",
              "      <th>3</th>\n",
              "      <td>2021-05-31</td>\n",
              "      <td>0.126079</td>\n",
              "      <td>-0.039411</td>\n",
              "      <td>0.076882</td>\n",
              "      <td>0.345243</td>\n",
              "      <td>-0.040499</td>\n",
              "      <td>0.302944</td>\n",
              "      <td>0.054685</td>\n",
              "      <td>0.090265</td>\n",
              "      <td>0.082609</td>\n",
              "      <td>...</td>\n",
              "      <td>0.046409</td>\n",
              "      <td>NaN</td>\n",
              "      <td>0.005559</td>\n",
              "      <td>-0.025069</td>\n",
              "      <td>0.090076</td>\n",
              "      <td>0.100535</td>\n",
              "      <td>0.028074</td>\n",
              "      <td>0.128756</td>\n",
              "      <td>0.000937</td>\n",
              "      <td>0.052810</td>\n",
              "    </tr>\n",
              "    <tr>\n",
              "      <th>4</th>\n",
              "      <td>2021-06-07</td>\n",
              "      <td>-0.133376</td>\n",
              "      <td>-0.041374</td>\n",
              "      <td>0.027304</td>\n",
              "      <td>-0.209913</td>\n",
              "      <td>-0.215166</td>\n",
              "      <td>-0.145077</td>\n",
              "      <td>-0.180341</td>\n",
              "      <td>-0.136070</td>\n",
              "      <td>-0.151720</td>\n",
              "      <td>...</td>\n",
              "      <td>0.746187</td>\n",
              "      <td>NaN</td>\n",
              "      <td>0.082746</td>\n",
              "      <td>-0.060055</td>\n",
              "      <td>-0.093995</td>\n",
              "      <td>-0.044256</td>\n",
              "      <td>-0.105978</td>\n",
              "      <td>-0.156050</td>\n",
              "      <td>0.000112</td>\n",
              "      <td>-0.179796</td>\n",
              "    </tr>\n",
              "  </tbody>\n",
              "</table>\n",
              "<p>5 rows × 121 columns</p>\n",
              "</div>\n",
              "      <button class=\"colab-df-convert\" onclick=\"convertToInteractive('df-fdc63de1-5c39-4c4b-8cf6-66e7c05872d8')\"\n",
              "              title=\"Convert this dataframe to an interactive table.\"\n",
              "              style=\"display:none;\">\n",
              "        \n",
              "  <svg xmlns=\"http://www.w3.org/2000/svg\" height=\"24px\"viewBox=\"0 0 24 24\"\n",
              "       width=\"24px\">\n",
              "    <path d=\"M0 0h24v24H0V0z\" fill=\"none\"/>\n",
              "    <path d=\"M18.56 5.44l.94 2.06.94-2.06 2.06-.94-2.06-.94-.94-2.06-.94 2.06-2.06.94zm-11 1L8.5 8.5l.94-2.06 2.06-.94-2.06-.94L8.5 2.5l-.94 2.06-2.06.94zm10 10l.94 2.06.94-2.06 2.06-.94-2.06-.94-.94-2.06-.94 2.06-2.06.94z\"/><path d=\"M17.41 7.96l-1.37-1.37c-.4-.4-.92-.59-1.43-.59-.52 0-1.04.2-1.43.59L10.3 9.45l-7.72 7.72c-.78.78-.78 2.05 0 2.83L4 21.41c.39.39.9.59 1.41.59.51 0 1.02-.2 1.41-.59l7.78-7.78 2.81-2.81c.8-.78.8-2.07 0-2.86zM5.41 20L4 18.59l7.72-7.72 1.47 1.35L5.41 20z\"/>\n",
              "  </svg>\n",
              "      </button>\n",
              "      \n",
              "  <style>\n",
              "    .colab-df-container {\n",
              "      display:flex;\n",
              "      flex-wrap:wrap;\n",
              "      gap: 12px;\n",
              "    }\n",
              "\n",
              "    .colab-df-convert {\n",
              "      background-color: #E8F0FE;\n",
              "      border: none;\n",
              "      border-radius: 50%;\n",
              "      cursor: pointer;\n",
              "      display: none;\n",
              "      fill: #1967D2;\n",
              "      height: 32px;\n",
              "      padding: 0 0 0 0;\n",
              "      width: 32px;\n",
              "    }\n",
              "\n",
              "    .colab-df-convert:hover {\n",
              "      background-color: #E2EBFA;\n",
              "      box-shadow: 0px 1px 2px rgba(60, 64, 67, 0.3), 0px 1px 3px 1px rgba(60, 64, 67, 0.15);\n",
              "      fill: #174EA6;\n",
              "    }\n",
              "\n",
              "    [theme=dark] .colab-df-convert {\n",
              "      background-color: #3B4455;\n",
              "      fill: #D2E3FC;\n",
              "    }\n",
              "\n",
              "    [theme=dark] .colab-df-convert:hover {\n",
              "      background-color: #434B5C;\n",
              "      box-shadow: 0px 1px 3px 1px rgba(0, 0, 0, 0.15);\n",
              "      filter: drop-shadow(0px 1px 2px rgba(0, 0, 0, 0.3));\n",
              "      fill: #FFFFFF;\n",
              "    }\n",
              "  </style>\n",
              "\n",
              "      <script>\n",
              "        const buttonEl =\n",
              "          document.querySelector('#df-fdc63de1-5c39-4c4b-8cf6-66e7c05872d8 button.colab-df-convert');\n",
              "        buttonEl.style.display =\n",
              "          google.colab.kernel.accessAllowed ? 'block' : 'none';\n",
              "\n",
              "        async function convertToInteractive(key) {\n",
              "          const element = document.querySelector('#df-fdc63de1-5c39-4c4b-8cf6-66e7c05872d8');\n",
              "          const dataTable =\n",
              "            await google.colab.kernel.invokeFunction('convertToInteractive',\n",
              "                                                     [key], {});\n",
              "          if (!dataTable) return;\n",
              "\n",
              "          const docLinkHtml = 'Like what you see? Visit the ' +\n",
              "            '<a target=\"_blank\" href=https://colab.research.google.com/notebooks/data_table.ipynb>data table notebook</a>'\n",
              "            + ' to learn more about interactive tables.';\n",
              "          element.innerHTML = '';\n",
              "          dataTable['output_type'] = 'display_data';\n",
              "          await google.colab.output.renderOutput(dataTable, element);\n",
              "          const docLink = document.createElement('div');\n",
              "          docLink.innerHTML = docLinkHtml;\n",
              "          element.appendChild(docLink);\n",
              "        }\n",
              "      </script>\n",
              "    </div>\n",
              "  </div>\n",
              "  "
            ]
          },
          "metadata": {},
          "execution_count": 146
        }
      ]
    },
    {
      "cell_type": "code",
      "source": [
        "def LMH_MOM(momMatrix, returnAll, priceAll):\n",
        "    from tqdm import tqdm\n",
        "    # Initialize DataFrames for Low, Medium and High MOM\n",
        "    lowMom = pd.DataFrame(columns = ['Date',\n",
        "                                     'LowMomentum'])\n",
        "    lowMom['Date'] = momMatrix['Date']\n",
        "\n",
        "    medMom = pd.DataFrame(columns = ['Date', \n",
        "                                     'MedMomentum'])\n",
        "    medMom['Date'] = momMatrix['Date']\n",
        "\n",
        "    highMom = pd.DataFrame(columns = ['Date', \n",
        "                                      'HighMomentum'])\n",
        "    highMom['Date'] = momMatrix['Date']\n",
        "\n",
        "    # Iterate Through Whole DataFrame to Get Low, Medium and High MOM\n",
        "    # Iterate Though Rows\n",
        "    for i in tqdm(range(0, momMatrix.shape[0])):\n",
        "\n",
        "        # Initialization df Used in Method\n",
        "        lowMomReturnList = []\n",
        "        medMomReturnList = []\n",
        "        highMomReturnList = []\n",
        "\n",
        "        lowMomPriceList = []\n",
        "        medMomPriceList = []\n",
        "        highMomPriceList = []\n",
        "\n",
        "        # Iterate Through Columns\n",
        "        for j in range(1, momMatrix.shape[1]):\n",
        "            if momMatrix.iloc[i,j] < momPt.iloc[i,0]:\n",
        "                lowMomReturnList.append(returnAll.iloc[i,j])\n",
        "                lowMomPriceList.append(priceAll.iloc[i,j])\n",
        "            elif (momPt.iloc[i,0] < momMatrix.iloc[i,j]) and (momMatrix.iloc[i,j] < momPt.iloc[i,1]):\n",
        "                medMomReturnList.append(returnAll.iloc[i,j])\n",
        "                medMomPriceList.append(priceAll.iloc[i,j])\n",
        "            elif momMatrix.iloc[i,j] > momPt.iloc[i,1]:\n",
        "                highMomReturnList.append(returnAll.iloc[i,j])\n",
        "                highMomPriceList.append(priceAll.iloc[i,j])\n",
        "\n",
        "        # Low MOM\n",
        "        lowValueWeightedAvgList = []\n",
        "        lowMomPriceSum = sum(lowMomPriceList)\n",
        "        for index in range(0, len(lowMomPriceList)):\n",
        "            lowValueWeightedAvgList.append((lowMomPriceList[index]/lowMomPriceSum) * lowMomReturnList[index])\n",
        "        lowMom.iloc[i,1] = sum(lowValueWeightedAvgList)\n",
        "        \n",
        "        # Med MOM\n",
        "        medValueWeightedAvgList = []\n",
        "        medMomPriceSum = sum(medMomPriceList)\n",
        "        for index in range(0, len(medMomPriceList)):\n",
        "            medValueWeightedAvgList.append((medMomPriceList[index]/medMomPriceSum) * medMomReturnList[index])\n",
        "        medMom.iloc[i,1] = sum(medValueWeightedAvgList)\n",
        "\n",
        "        # High MOM\n",
        "        highValueWeightedAvgList = []\n",
        "        highMomPriceSum = sum(highMomPriceList)\n",
        "        for index in range(0, len(highMomPriceList)):\n",
        "            highValueWeightedAvgList.append((highMomPriceList[index]/highMomPriceSum) * highMomReturnList[index])\n",
        "        highMom.iloc[i,1] = sum(highValueWeightedAvgList)\n",
        "\n",
        "        # Merge\n",
        "        from functools import reduce\n",
        "        momLMH = reduce(lambda  left,right:\n",
        "                        pd.merge(left,right, \n",
        "                                on='Date',\n",
        "                                how='outer'),\n",
        "                        [lowMom, medMom, highMom])\n",
        "\n",
        "    return momLMH\n",
        "\n",
        "momLMH = LMH_MOM(momMatrix, returnAll, priceAll)"
      ],
      "metadata": {
        "id": "phcqxvLhtxYM",
        "colab": {
          "base_uri": "https://localhost:8080/"
        },
        "outputId": "e2668b32-9df5-4ae4-b250-181bd4c54ac1"
      },
      "execution_count": 151,
      "outputs": [
        {
          "output_type": "stream",
          "name": "stderr",
          "text": [
            "100%|██████████| 51/51 [00:01<00:00, 26.49it/s]\n"
          ]
        }
      ]
    },
    {
      "cell_type": "code",
      "source": [
        ""
      ],
      "metadata": {
        "id": "BbLzvXCeeTQL"
      },
      "execution_count": null,
      "outputs": []
    },
    {
      "cell_type": "code",
      "source": [
        "# from functools import reduce\n",
        "# momLMH = reduce(lambda  left,right:\n",
        "#                 pd.merge(left,right, \n",
        "#                          on='Date',\n",
        "#                          how='outer'),\n",
        "#                 [lowMom, medMom, highMom])\n",
        "momLMH.head()"
      ],
      "metadata": {
        "colab": {
          "base_uri": "https://localhost:8080/",
          "height": 206
        },
        "id": "pxIIbL2IQ5VS",
        "outputId": "f7427a62-aca7-4fa1-9df5-0564d2fe2970"
      },
      "execution_count": 152,
      "outputs": [
        {
          "output_type": "execute_result",
          "data": {
            "text/plain": [
              "        Date LowMomentum MedMomentum HighMomentum\n",
              "0 2021-05-10           0           0            0\n",
              "1 2021-05-17    -0.58298   -0.410799    -0.326323\n",
              "2 2021-05-24     0.07534    0.262537     0.030213\n",
              "3 2021-05-31    0.004954    0.040897     0.278781\n",
              "4 2021-06-07   -0.172042   -0.107539     0.079781"
            ],
            "text/html": [
              "\n",
              "  <div id=\"df-34ee3467-2fa1-4341-948d-43535fedca1d\">\n",
              "    <div class=\"colab-df-container\">\n",
              "      <div>\n",
              "<style scoped>\n",
              "    .dataframe tbody tr th:only-of-type {\n",
              "        vertical-align: middle;\n",
              "    }\n",
              "\n",
              "    .dataframe tbody tr th {\n",
              "        vertical-align: top;\n",
              "    }\n",
              "\n",
              "    .dataframe thead th {\n",
              "        text-align: right;\n",
              "    }\n",
              "</style>\n",
              "<table border=\"1\" class=\"dataframe\">\n",
              "  <thead>\n",
              "    <tr style=\"text-align: right;\">\n",
              "      <th></th>\n",
              "      <th>Date</th>\n",
              "      <th>LowMomentum</th>\n",
              "      <th>MedMomentum</th>\n",
              "      <th>HighMomentum</th>\n",
              "    </tr>\n",
              "  </thead>\n",
              "  <tbody>\n",
              "    <tr>\n",
              "      <th>0</th>\n",
              "      <td>2021-05-10</td>\n",
              "      <td>0</td>\n",
              "      <td>0</td>\n",
              "      <td>0</td>\n",
              "    </tr>\n",
              "    <tr>\n",
              "      <th>1</th>\n",
              "      <td>2021-05-17</td>\n",
              "      <td>-0.58298</td>\n",
              "      <td>-0.410799</td>\n",
              "      <td>-0.326323</td>\n",
              "    </tr>\n",
              "    <tr>\n",
              "      <th>2</th>\n",
              "      <td>2021-05-24</td>\n",
              "      <td>0.07534</td>\n",
              "      <td>0.262537</td>\n",
              "      <td>0.030213</td>\n",
              "    </tr>\n",
              "    <tr>\n",
              "      <th>3</th>\n",
              "      <td>2021-05-31</td>\n",
              "      <td>0.004954</td>\n",
              "      <td>0.040897</td>\n",
              "      <td>0.278781</td>\n",
              "    </tr>\n",
              "    <tr>\n",
              "      <th>4</th>\n",
              "      <td>2021-06-07</td>\n",
              "      <td>-0.172042</td>\n",
              "      <td>-0.107539</td>\n",
              "      <td>0.079781</td>\n",
              "    </tr>\n",
              "  </tbody>\n",
              "</table>\n",
              "</div>\n",
              "      <button class=\"colab-df-convert\" onclick=\"convertToInteractive('df-34ee3467-2fa1-4341-948d-43535fedca1d')\"\n",
              "              title=\"Convert this dataframe to an interactive table.\"\n",
              "              style=\"display:none;\">\n",
              "        \n",
              "  <svg xmlns=\"http://www.w3.org/2000/svg\" height=\"24px\"viewBox=\"0 0 24 24\"\n",
              "       width=\"24px\">\n",
              "    <path d=\"M0 0h24v24H0V0z\" fill=\"none\"/>\n",
              "    <path d=\"M18.56 5.44l.94 2.06.94-2.06 2.06-.94-2.06-.94-.94-2.06-.94 2.06-2.06.94zm-11 1L8.5 8.5l.94-2.06 2.06-.94-2.06-.94L8.5 2.5l-.94 2.06-2.06.94zm10 10l.94 2.06.94-2.06 2.06-.94-2.06-.94-.94-2.06-.94 2.06-2.06.94z\"/><path d=\"M17.41 7.96l-1.37-1.37c-.4-.4-.92-.59-1.43-.59-.52 0-1.04.2-1.43.59L10.3 9.45l-7.72 7.72c-.78.78-.78 2.05 0 2.83L4 21.41c.39.39.9.59 1.41.59.51 0 1.02-.2 1.41-.59l7.78-7.78 2.81-2.81c.8-.78.8-2.07 0-2.86zM5.41 20L4 18.59l7.72-7.72 1.47 1.35L5.41 20z\"/>\n",
              "  </svg>\n",
              "      </button>\n",
              "      \n",
              "  <style>\n",
              "    .colab-df-container {\n",
              "      display:flex;\n",
              "      flex-wrap:wrap;\n",
              "      gap: 12px;\n",
              "    }\n",
              "\n",
              "    .colab-df-convert {\n",
              "      background-color: #E8F0FE;\n",
              "      border: none;\n",
              "      border-radius: 50%;\n",
              "      cursor: pointer;\n",
              "      display: none;\n",
              "      fill: #1967D2;\n",
              "      height: 32px;\n",
              "      padding: 0 0 0 0;\n",
              "      width: 32px;\n",
              "    }\n",
              "\n",
              "    .colab-df-convert:hover {\n",
              "      background-color: #E2EBFA;\n",
              "      box-shadow: 0px 1px 2px rgba(60, 64, 67, 0.3), 0px 1px 3px 1px rgba(60, 64, 67, 0.15);\n",
              "      fill: #174EA6;\n",
              "    }\n",
              "\n",
              "    [theme=dark] .colab-df-convert {\n",
              "      background-color: #3B4455;\n",
              "      fill: #D2E3FC;\n",
              "    }\n",
              "\n",
              "    [theme=dark] .colab-df-convert:hover {\n",
              "      background-color: #434B5C;\n",
              "      box-shadow: 0px 1px 3px 1px rgba(0, 0, 0, 0.15);\n",
              "      filter: drop-shadow(0px 1px 2px rgba(0, 0, 0, 0.3));\n",
              "      fill: #FFFFFF;\n",
              "    }\n",
              "  </style>\n",
              "\n",
              "      <script>\n",
              "        const buttonEl =\n",
              "          document.querySelector('#df-34ee3467-2fa1-4341-948d-43535fedca1d button.colab-df-convert');\n",
              "        buttonEl.style.display =\n",
              "          google.colab.kernel.accessAllowed ? 'block' : 'none';\n",
              "\n",
              "        async function convertToInteractive(key) {\n",
              "          const element = document.querySelector('#df-34ee3467-2fa1-4341-948d-43535fedca1d');\n",
              "          const dataTable =\n",
              "            await google.colab.kernel.invokeFunction('convertToInteractive',\n",
              "                                                     [key], {});\n",
              "          if (!dataTable) return;\n",
              "\n",
              "          const docLinkHtml = 'Like what you see? Visit the ' +\n",
              "            '<a target=\"_blank\" href=https://colab.research.google.com/notebooks/data_table.ipynb>data table notebook</a>'\n",
              "            + ' to learn more about interactive tables.';\n",
              "          element.innerHTML = '';\n",
              "          dataTable['output_type'] = 'display_data';\n",
              "          await google.colab.output.renderOutput(dataTable, element);\n",
              "          const docLink = document.createElement('div');\n",
              "          docLink.innerHTML = docLinkHtml;\n",
              "          element.appendChild(docLink);\n",
              "        }\n",
              "      </script>\n",
              "    </div>\n",
              "  </div>\n",
              "  "
            ]
          },
          "metadata": {},
          "execution_count": 152
        }
      ]
    },
    {
      "cell_type": "markdown",
      "source": [
        "### Calculate Momentum Factor"
      ],
      "metadata": {
        "id": "wTjVxQ_9ggog"
      }
    },
    {
      "cell_type": "code",
      "source": [
        "momFactor = pd.DataFrame(columns = ['Date', 'MOM_LTW'])\n",
        "momFactor['Date'] = momMatrix['Date']\n",
        "momFactor['MOM_LTW'] = momLMH['HighMomentum'] - momLMH['LowMomentum']\n",
        "\n",
        "momFactor.head(20)"
      ],
      "metadata": {
        "id": "KcEPw6Lva6Xs",
        "colab": {
          "base_uri": "https://localhost:8080/",
          "height": 677
        },
        "outputId": "c97eae1d-02fe-4e19-c3b9-42e3cfe197ce"
      },
      "execution_count": 153,
      "outputs": [
        {
          "output_type": "execute_result",
          "data": {
            "text/plain": [
              "         Date   MOM_LTW\n",
              "0  2021-05-10         0\n",
              "1  2021-05-17  0.256657\n",
              "2  2021-05-24 -0.045127\n",
              "3  2021-05-31  0.273827\n",
              "4  2021-06-07  0.251823\n",
              "5  2021-06-14  0.052093\n",
              "6  2021-06-21  0.189945\n",
              "7  2021-06-28  0.177345\n",
              "8  2021-07-05  0.006033\n",
              "9  2021-07-12   0.05247\n",
              "10 2021-07-19  0.042552\n",
              "11 2021-07-26  0.193738\n",
              "12 2021-08-02  0.134575\n",
              "13 2021-08-09  0.209751\n",
              "14 2021-08-16  0.194383\n",
              "15 2021-08-23  0.336592\n",
              "16 2021-08-30   0.15877\n",
              "17 2021-09-06  0.105451\n",
              "18 2021-09-13  0.032909\n",
              "19 2021-09-20  0.088204"
            ],
            "text/html": [
              "\n",
              "  <div id=\"df-a6d43491-fa08-4716-b46e-c50c61abe5a5\">\n",
              "    <div class=\"colab-df-container\">\n",
              "      <div>\n",
              "<style scoped>\n",
              "    .dataframe tbody tr th:only-of-type {\n",
              "        vertical-align: middle;\n",
              "    }\n",
              "\n",
              "    .dataframe tbody tr th {\n",
              "        vertical-align: top;\n",
              "    }\n",
              "\n",
              "    .dataframe thead th {\n",
              "        text-align: right;\n",
              "    }\n",
              "</style>\n",
              "<table border=\"1\" class=\"dataframe\">\n",
              "  <thead>\n",
              "    <tr style=\"text-align: right;\">\n",
              "      <th></th>\n",
              "      <th>Date</th>\n",
              "      <th>MOM_LTW</th>\n",
              "    </tr>\n",
              "  </thead>\n",
              "  <tbody>\n",
              "    <tr>\n",
              "      <th>0</th>\n",
              "      <td>2021-05-10</td>\n",
              "      <td>0</td>\n",
              "    </tr>\n",
              "    <tr>\n",
              "      <th>1</th>\n",
              "      <td>2021-05-17</td>\n",
              "      <td>0.256657</td>\n",
              "    </tr>\n",
              "    <tr>\n",
              "      <th>2</th>\n",
              "      <td>2021-05-24</td>\n",
              "      <td>-0.045127</td>\n",
              "    </tr>\n",
              "    <tr>\n",
              "      <th>3</th>\n",
              "      <td>2021-05-31</td>\n",
              "      <td>0.273827</td>\n",
              "    </tr>\n",
              "    <tr>\n",
              "      <th>4</th>\n",
              "      <td>2021-06-07</td>\n",
              "      <td>0.251823</td>\n",
              "    </tr>\n",
              "    <tr>\n",
              "      <th>5</th>\n",
              "      <td>2021-06-14</td>\n",
              "      <td>0.052093</td>\n",
              "    </tr>\n",
              "    <tr>\n",
              "      <th>6</th>\n",
              "      <td>2021-06-21</td>\n",
              "      <td>0.189945</td>\n",
              "    </tr>\n",
              "    <tr>\n",
              "      <th>7</th>\n",
              "      <td>2021-06-28</td>\n",
              "      <td>0.177345</td>\n",
              "    </tr>\n",
              "    <tr>\n",
              "      <th>8</th>\n",
              "      <td>2021-07-05</td>\n",
              "      <td>0.006033</td>\n",
              "    </tr>\n",
              "    <tr>\n",
              "      <th>9</th>\n",
              "      <td>2021-07-12</td>\n",
              "      <td>0.05247</td>\n",
              "    </tr>\n",
              "    <tr>\n",
              "      <th>10</th>\n",
              "      <td>2021-07-19</td>\n",
              "      <td>0.042552</td>\n",
              "    </tr>\n",
              "    <tr>\n",
              "      <th>11</th>\n",
              "      <td>2021-07-26</td>\n",
              "      <td>0.193738</td>\n",
              "    </tr>\n",
              "    <tr>\n",
              "      <th>12</th>\n",
              "      <td>2021-08-02</td>\n",
              "      <td>0.134575</td>\n",
              "    </tr>\n",
              "    <tr>\n",
              "      <th>13</th>\n",
              "      <td>2021-08-09</td>\n",
              "      <td>0.209751</td>\n",
              "    </tr>\n",
              "    <tr>\n",
              "      <th>14</th>\n",
              "      <td>2021-08-16</td>\n",
              "      <td>0.194383</td>\n",
              "    </tr>\n",
              "    <tr>\n",
              "      <th>15</th>\n",
              "      <td>2021-08-23</td>\n",
              "      <td>0.336592</td>\n",
              "    </tr>\n",
              "    <tr>\n",
              "      <th>16</th>\n",
              "      <td>2021-08-30</td>\n",
              "      <td>0.15877</td>\n",
              "    </tr>\n",
              "    <tr>\n",
              "      <th>17</th>\n",
              "      <td>2021-09-06</td>\n",
              "      <td>0.105451</td>\n",
              "    </tr>\n",
              "    <tr>\n",
              "      <th>18</th>\n",
              "      <td>2021-09-13</td>\n",
              "      <td>0.032909</td>\n",
              "    </tr>\n",
              "    <tr>\n",
              "      <th>19</th>\n",
              "      <td>2021-09-20</td>\n",
              "      <td>0.088204</td>\n",
              "    </tr>\n",
              "  </tbody>\n",
              "</table>\n",
              "</div>\n",
              "      <button class=\"colab-df-convert\" onclick=\"convertToInteractive('df-a6d43491-fa08-4716-b46e-c50c61abe5a5')\"\n",
              "              title=\"Convert this dataframe to an interactive table.\"\n",
              "              style=\"display:none;\">\n",
              "        \n",
              "  <svg xmlns=\"http://www.w3.org/2000/svg\" height=\"24px\"viewBox=\"0 0 24 24\"\n",
              "       width=\"24px\">\n",
              "    <path d=\"M0 0h24v24H0V0z\" fill=\"none\"/>\n",
              "    <path d=\"M18.56 5.44l.94 2.06.94-2.06 2.06-.94-2.06-.94-.94-2.06-.94 2.06-2.06.94zm-11 1L8.5 8.5l.94-2.06 2.06-.94-2.06-.94L8.5 2.5l-.94 2.06-2.06.94zm10 10l.94 2.06.94-2.06 2.06-.94-2.06-.94-.94-2.06-.94 2.06-2.06.94z\"/><path d=\"M17.41 7.96l-1.37-1.37c-.4-.4-.92-.59-1.43-.59-.52 0-1.04.2-1.43.59L10.3 9.45l-7.72 7.72c-.78.78-.78 2.05 0 2.83L4 21.41c.39.39.9.59 1.41.59.51 0 1.02-.2 1.41-.59l7.78-7.78 2.81-2.81c.8-.78.8-2.07 0-2.86zM5.41 20L4 18.59l7.72-7.72 1.47 1.35L5.41 20z\"/>\n",
              "  </svg>\n",
              "      </button>\n",
              "      \n",
              "  <style>\n",
              "    .colab-df-container {\n",
              "      display:flex;\n",
              "      flex-wrap:wrap;\n",
              "      gap: 12px;\n",
              "    }\n",
              "\n",
              "    .colab-df-convert {\n",
              "      background-color: #E8F0FE;\n",
              "      border: none;\n",
              "      border-radius: 50%;\n",
              "      cursor: pointer;\n",
              "      display: none;\n",
              "      fill: #1967D2;\n",
              "      height: 32px;\n",
              "      padding: 0 0 0 0;\n",
              "      width: 32px;\n",
              "    }\n",
              "\n",
              "    .colab-df-convert:hover {\n",
              "      background-color: #E2EBFA;\n",
              "      box-shadow: 0px 1px 2px rgba(60, 64, 67, 0.3), 0px 1px 3px 1px rgba(60, 64, 67, 0.15);\n",
              "      fill: #174EA6;\n",
              "    }\n",
              "\n",
              "    [theme=dark] .colab-df-convert {\n",
              "      background-color: #3B4455;\n",
              "      fill: #D2E3FC;\n",
              "    }\n",
              "\n",
              "    [theme=dark] .colab-df-convert:hover {\n",
              "      background-color: #434B5C;\n",
              "      box-shadow: 0px 1px 3px 1px rgba(0, 0, 0, 0.15);\n",
              "      filter: drop-shadow(0px 1px 2px rgba(0, 0, 0, 0.3));\n",
              "      fill: #FFFFFF;\n",
              "    }\n",
              "  </style>\n",
              "\n",
              "      <script>\n",
              "        const buttonEl =\n",
              "          document.querySelector('#df-a6d43491-fa08-4716-b46e-c50c61abe5a5 button.colab-df-convert');\n",
              "        buttonEl.style.display =\n",
              "          google.colab.kernel.accessAllowed ? 'block' : 'none';\n",
              "\n",
              "        async function convertToInteractive(key) {\n",
              "          const element = document.querySelector('#df-a6d43491-fa08-4716-b46e-c50c61abe5a5');\n",
              "          const dataTable =\n",
              "            await google.colab.kernel.invokeFunction('convertToInteractive',\n",
              "                                                     [key], {});\n",
              "          if (!dataTable) return;\n",
              "\n",
              "          const docLinkHtml = 'Like what you see? Visit the ' +\n",
              "            '<a target=\"_blank\" href=https://colab.research.google.com/notebooks/data_table.ipynb>data table notebook</a>'\n",
              "            + ' to learn more about interactive tables.';\n",
              "          element.innerHTML = '';\n",
              "          dataTable['output_type'] = 'display_data';\n",
              "          await google.colab.output.renderOutput(dataTable, element);\n",
              "          const docLink = document.createElement('div');\n",
              "          docLink.innerHTML = docLinkHtml;\n",
              "          element.appendChild(docLink);\n",
              "        }\n",
              "      </script>\n",
              "    </div>\n",
              "  </div>\n",
              "  "
            ]
          },
          "metadata": {},
          "execution_count": 153
        }
      ]
    },
    {
      "cell_type": "code",
      "source": [
        "momLMH.HighMomentum.mean()"
      ],
      "metadata": {
        "colab": {
          "base_uri": "https://localhost:8080/"
        },
        "id": "HlEz6lUza7Rp",
        "outputId": "ba5ddd8e-2266-492c-9c26-38388d07c636"
      },
      "execution_count": 154,
      "outputs": [
        {
          "output_type": "execute_result",
          "data": {
            "text/plain": [
              "0.0636617749515979"
            ]
          },
          "metadata": {},
          "execution_count": 154
        }
      ]
    }
  ],
  "metadata": {
    "colab": {
      "name": "DataPull-MOM_Sean.ipynb",
      "provenance": [],
      "collapsed_sections": []
    },
    "kernelspec": {
      "display_name": "Python 3 (ipykernel)",
      "language": "python",
      "name": "python3"
    },
    "language_info": {
      "codemirror_mode": {
        "name": "ipython",
        "version": 3
      },
      "file_extension": ".py",
      "mimetype": "text/x-python",
      "name": "python",
      "nbconvert_exporter": "python",
      "pygments_lexer": "ipython3",
      "version": "3.9.7"
    }
  },
  "nbformat": 4,
  "nbformat_minor": 0
}