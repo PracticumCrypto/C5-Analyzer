{
 "cells": [
  {
   "cell_type": "markdown",
   "metadata": {
    "heading_collapsed": true,
    "id": "lh68fHXe8UTs"
   },
   "source": [
    "## 1. Fixed Data:"
   ]
  },
  {
   "cell_type": "code",
   "execution_count": 62,
   "metadata": {
    "hidden": true
   },
   "outputs": [
    {
     "name": "stderr",
     "output_type": "stream",
     "text": [
      "Please specify an nbextension/package to enable or disable\n"
     ]
    }
   ],
   "source": [
    "!jupyter nbextension enable "
   ]
  },
  {
   "cell_type": "code",
   "execution_count": 63,
   "metadata": {
    "colab": {
     "base_uri": "https://localhost:8080/"
    },
    "hidden": true,
    "id": "Rlvd_qcq4mxT",
    "outputId": "93e01b93-3edf-433f-ab26-4b50d33cd1fe",
    "scrolled": true
   },
   "outputs": [
    {
     "name": "stdout",
     "output_type": "stream",
     "text": [
      "Requirement already satisfied: fredapi in c:\\zacharyyang\\lib\\site-packages (0.5.0)\n",
      "Requirement already satisfied: pandas in c:\\zacharyyang\\lib\\site-packages (from fredapi) (1.1.3)\n",
      "Requirement already satisfied: pytz>=2017.2 in c:\\zacharyyang\\lib\\site-packages (from pandas->fredapi) (2020.1)\n",
      "Requirement already satisfied: numpy>=1.15.4 in c:\\zacharyyang\\lib\\site-packages (from pandas->fredapi) (1.19.2)\n",
      "Requirement already satisfied: python-dateutil>=2.7.3 in c:\\zacharyyang\\lib\\site-packages (from pandas->fredapi) (2.8.1)Note: you may need to restart the kernel to use updated packages.\n",
      "\n",
      "Requirement already satisfied: six>=1.5 in c:\\zacharyyang\\lib\\site-packages (from python-dateutil>=2.7.3->pandas->fredapi) (1.15.0)\n"
     ]
    }
   ],
   "source": [
    "pip install fredapi"
   ]
  },
  {
   "cell_type": "code",
   "execution_count": 64,
   "metadata": {
    "hidden": true,
    "id": "xRHrfZma_zRz"
   },
   "outputs": [],
   "source": [
    "import pandas as pd\n",
    "import numpy as np\n",
    "from fredapi import Fred\n",
    "from tqdm import tqdm\n",
    "\n",
    "API_KEY = '1vGb0FOsg2hEIGrEhpueLCcWd1Y'\n",
    "FRED_API_KEY = 'b13a905b98b5dfc1f3910d6a0d875ae3'\n",
    "\n",
    "rootUrl = 'https://api.glassnode.com'\n",
    "\n",
    "symbolList = ['BTC', 'ETH', 'LTC', 'AAVE', 'ABT', 'AMPL', 'ANT', 'ARMOR', 'BADGER', 'BAL', 'BAND', 'BAT', 'BIX', 'BNT', 'BOND', 'BRD', 'BUSD', 'BZRX', 'CELR', 'CHSB', 'CND', 'COMP', 'CREAM', 'CRO', 'CRV', 'CVC', 'CVP', 'DAI', 'DDX', 'DENT', 'DGX', 'DHT', 'DMG', 'DODO', 'DOUGH', 'DRGN', 'ELF', 'ENG', 'ENJ', 'EURS', 'FET', 'FTT', 'FUN', 'GNO', 'GUSD', 'HEGIC', 'HOT', 'HPT', 'HT', 'HUSD', 'INDEX', 'KCS', 'LAMB', 'LBA', 'LDO', 'LEO', 'LINK', 'LOOM', 'LRC', 'MANA', 'MATIC',\n",
    "              'MCB', 'MCO', 'MFT', 'MIR', 'MKR', 'MLN', 'MTA', 'MTL', 'MX', 'NDX', 'NEXO', 'NFTX', 'NMR', 'Nsure', 'OCEAN', 'OKB', 'OMG', 'PAY', 'PERP', 'PICKLE', 'PNK', 'PNT', 'POLY', 'POWR', 'PPT', 'QASH', 'QKC', 'QNT', 'RDN', 'REN', 'REP', 'RLC', 'ROOK', 'RPL', 'RSR', 'SAI', 'SAN', 'SNT', 'SNX', 'STAKE', 'STORJ', 'sUSD', 'SUSHI', 'TEL', 'TOP', 'UBT', 'UMA', 'UNI', 'USDC', 'USDK', 'USDP', 'USDT', 'UTK', 'VERI', 'WaBi', 'WAX', 'WBTC', 'WETH', 'wNXM', 'WTC', 'YAM', 'YFI', 'ZRX']\n",
    "\n",
    "# symbolListShort = ['BTC', 'ETH', 'LTC']\n",
    "\n",
    "endPoints = {\n",
    "    'Price': '/v1/metrics/market/price_usd_close',\n",
    "    'MarketCap': '/v1/metrics/market/marketcap_usd',\n",
    "    'ActiveAddress': '/v1/metrics/addresses/active_count',\n",
    "}"
   ]
  },
  {
   "cell_type": "markdown",
   "metadata": {
    "heading_collapsed": true,
    "id": "7nlgSPPTKKkP"
   },
   "source": [
    "## 1.1 Get Multiple Attributes for Multiple Coins:"
   ]
  },
  {
   "cell_type": "code",
   "execution_count": 65,
   "metadata": {
    "hidden": true,
    "id": "NoAHRVf366me"
   },
   "outputs": [],
   "source": [
    "def PullData(coin: str,\n",
    "             feature: str):\n",
    "    \"\"\"This Method Pull Data According to Input Parameters(coin, feature)\n",
    "\n",
    "    Args:\n",
    "        coin (str): Name of a Coin. Like: \"BTC\"\n",
    "        feature (str): Feature of a Coin. Like: \"Price\"\n",
    "\n",
    "    Returns:\n",
    "        data (pd.DataFrame): A DataFrame Contains Date and Feature of One Coin\n",
    "    \"\"\"\n",
    "    print(f\"Pulling {coin}'s {feature}\")\n",
    "\n",
    "    import requests\n",
    "\n",
    "    # Assemble full request url and get responses:\n",
    "    reqUrl = rootUrl + endPoints[feature]\n",
    "    res = requests.get(reqUrl,\n",
    "                       params={'a': coin,\n",
    "                               'api_key': API_KEY,\n",
    "                               'i': '1w'})\n",
    "    data_raw = pd.read_json(res.text,\n",
    "                            convert_dates=['t'])\n",
    "\n",
    "    # Rename column \"v\" according to features\n",
    "    data = data_raw.rename(columns={\"v\": f\"{feature}\",\n",
    "                                    't': 'Date'})\n",
    "\n",
    "    # Return a dataframe\n",
    "    return data"
   ]
  },
  {
   "cell_type": "code",
   "execution_count": 66,
   "metadata": {
    "hidden": true,
    "id": "hRBQM5TVKZO8"
   },
   "outputs": [],
   "source": [
    "def PullStart(coinList: list):\n",
    "    \"\"\"This Method Gets Features(Listed in \"endPoints\"(Constant)) of Coins(Listed in \"coinList\"(Method Parameter))\n",
    "\n",
    "    Args:\n",
    "        coinList (list): The List of Coins' Name\n",
    "\n",
    "    Returns:\n",
    "        fullFrame (pd.DataFrame): A DataFrame Contains All Features of Listed Coin's\n",
    "    \"\"\"\n",
    "    # Initialization\n",
    "    from functools import reduce\n",
    "    from tqdm import tqdm\n",
    "    from fredapi import Fred\n",
    "\n",
    "    colName = [\"Date\"]\n",
    "    for key in endPoints.items():\n",
    "        colName.append(key)\n",
    "    fullFrame = pd.DataFrame(columns=colName.append(\"Asset\"))\n",
    "\n",
    "    # Pull Fred RiskFree\n",
    "    fred = Fred(api_key=FRED_API_KEY)\n",
    "    Risk_free_rate = fred.get_series('DGS1MO', frequency = 'wem').to_frame().reset_index().rename(columns={'index': 'Date',\n",
    "                                                                                        0: 'RiskFree'})\n",
    "    Risk_free_rate['RiskFree'] = Risk_free_rate['RiskFree'] / 100\n",
    "\n",
    "    # Data Pull\n",
    "    for i in tqdm(coinList):\n",
    "        print(f\"\\nStart Pulling {i}'s data:\")\n",
    "\n",
    "        # Preparation for merging\n",
    "        frameName = f\"{i}_Frames\"\n",
    "        locals()[frameName] = []\n",
    "\n",
    "        # Get data\n",
    "        for j in list(endPoints.keys()):\n",
    "            locals()[frameName].append(PullData(i,\n",
    "                                                j))\n",
    "\n",
    "        # Merge 2-column dataframes to a single dataframe\n",
    "        dfName = f\"{i}_All\"\n",
    "        # Outer Merge Glassnode to Ensure Not Missing Any Values.\n",
    "        # Left Merge Fred to ensure all the records in api stored.\n",
    "        locals()[dfName] = reduce(lambda left, right:\n",
    "                                  pd.merge(left, right,\n",
    "                                           on='Date',\n",
    "                                           how='outer'),\n",
    "                                  locals()[frameName]).merge(Risk_free_rate,\n",
    "                                                             how='left',\n",
    "                                                             on='Date').sort_values(by=['Date'])\n",
    "        locals()[dfName]['Asset'] = i\n",
    "\n",
    "        # Merge All Coins into a single Dataframe\n",
    "        fullFrame = pd.concat([fullFrame, locals()[dfName]],\n",
    "                                     ignore_index=True)\n",
    "\n",
    "        print(f\"\\n{i} data successfully pulled\\n\")\n",
    "    print('All Frames Merged')\n",
    "    print('\\nALL DATA SUCCESSFULLY PULLED!')\n",
    "\n",
    "    return fullFrame"
   ]
  },
  {
   "cell_type": "markdown",
   "metadata": {
    "heading_collapsed": true,
    "id": "pyJLym45QFcu"
   },
   "source": [
    "## 1.2 Calculate Returns"
   ]
  },
  {
   "cell_type": "code",
   "execution_count": 67,
   "metadata": {
    "hidden": true,
    "id": "nTkmyWGERMT-"
   },
   "outputs": [],
   "source": [
    "def AddReturn(sample: pd.DataFrame):\n",
    "    \"\"\"This Method Add Return Column to Pulled Raw Data\n",
    "\n",
    "    Args:\n",
    "        sample (pd.DataFrame): The Raw Pulled Data without a Return Column\n",
    "\n",
    "    Returns:\n",
    "        fullFrame (pd.DataFrame): DataFrame with a Return Column\n",
    "    \"\"\"\n",
    "    fullFrame = pd.DataFrame(columns=list(sample.columns).append(['Return','week2_return','Npast52']))\n",
    "    for index in sample['Asset'].unique().tolist():\n",
    "        syntax = f\"Asset == '{index}'\"\n",
    "        segment = sample.query(syntax)\n",
    "        # Only Select 53 Weeks for Test\n",
    "#         temp = segment[-53:-1].reset_index().drop('index', axis=1)\n",
    "#         segment = segment[-52:].reset_index().drop('index', axis=1)\n",
    "        segment = segment.assign(Return = segment.Price.rolling(2).apply(lambda x: (x.iloc[-1]-x.iloc[0])/x.iloc[0]).copy())\n",
    "        segment = segment.assign(week2_return = segment.Price.rolling(3).apply(lambda x: (x.iloc[-1]-x.iloc[0])/x.iloc[0]))\n",
    "        segment = segment.assign(Npast52_return = segment.Price.rolling(52).apply(lambda x: (x.iloc[-1]-x.iloc[0])/x.iloc[0]))\n",
    "        segment = segment[-52:].reset_index(drop=True)\n",
    "        fullFrame = pd.concat([fullFrame, segment],\n",
    "                                     ignore_index=True)\n",
    "        fullFrame[\"ExcessReturn\"] = fullFrame[\"Return\"] - fullFrame[\"RiskFree\"]\n",
    "\n",
    "    return fullFrame"
   ]
  },
  {
   "cell_type": "markdown",
   "metadata": {
    "heading_collapsed": true,
    "id": "79gEwzQCFpTE"
   },
   "source": [
    "## 1.3 Imputation for NA values using linear interpolation method"
   ]
  },
  {
   "cell_type": "markdown",
   "metadata": {
    "hidden": true,
    "id": "26GIbL0dFpTF"
   },
   "source": [
    "If the price for the asset is missing for the latest 4 weeks , then we consider it as a cryto currency that stopped trading, we won't include it in our sample"
   ]
  },
  {
   "cell_type": "code",
   "execution_count": 68,
   "metadata": {
    "hidden": true,
    "id": "8xv-mT1RXEWH"
   },
   "outputs": [],
   "source": [
    "def InterpolationImpute (sample: pd.DataFrame):\n",
    "    \"\"\"This Method will impute NA values using linear interpolation method\n",
    "\n",
    "    Args:\n",
    "        sample (pd.DataFrame): The Pulled Data \n",
    "\n",
    "    Returns:\n",
    "        fullFrame (pd.DataFrame): A DataFrame Imputed all NA using linear interpolation\n",
    "    \"\"\"\n",
    "    # Initialization\n",
    "    imputedFrame = pd.DataFrame(columns=list(sample.columns))\n",
    "    \n",
    "    orgcols = list(sample.columns)\n",
    "    cols = orgcols.copy()\n",
    "    cols.remove('Date')\n",
    "    cols.remove('Asset')\n",
    "    for index in sample['Asset'].unique().tolist():\n",
    "        syntax = f\"Asset == '{index}'\"\n",
    "        segment = sample.query(syntax)\n",
    "\n",
    "#if the price for the asset is missing for the latest **4 weeks** , \n",
    "#then we consider it as a cryto currency that stopped trading, we won't include it in our sample\n",
    "\n",
    "        if (segment['Price'][-4:].isnull().sum() < 4):\n",
    "            temp = segment[cols].interpolate(method='linear', limit_direction='forward', axis=0)\n",
    "            temp['Asset'] = segment['Asset']\n",
    "            temp['Date'] = segment['Date']\n",
    "            imputedFrame = pd.concat([imputedFrame, temp[orgcols]],\n",
    "                                     ignore_index=True)\n",
    "    \n",
    "\n",
    "    \n",
    "    return imputedFrame"
   ]
  },
  {
   "cell_type": "markdown",
   "metadata": {
    "heading_collapsed": true,
    "id": "v2upt3VXXmLV"
   },
   "source": [
    "## 1.4 Initialize - get full sample"
   ]
  },
  {
   "cell_type": "code",
   "execution_count": 69,
   "metadata": {
    "colab": {
     "base_uri": "https://localhost:8080/"
    },
    "hidden": true,
    "id": "UQO5REu5IGU1",
    "outputId": "1a5491c3-8a78-4c1d-fcaf-bacb937b7a27"
   },
   "outputs": [
    {
     "name": "stderr",
     "output_type": "stream",
     "text": [
      "  0%|          | 0/124 [00:00<?, ?it/s]"
     ]
    },
    {
     "name": "stdout",
     "output_type": "stream",
     "text": [
      "\n",
      "Start Pulling BTC's data:\n",
      "Pulling BTC's Price\n",
      "Pulling BTC's MarketCap\n",
      "Pulling BTC's ActiveAddress\n"
     ]
    },
    {
     "name": "stderr",
     "output_type": "stream",
     "text": [
      "  1%|          | 1/124 [00:02<05:00,  2.44s/it]"
     ]
    },
    {
     "name": "stdout",
     "output_type": "stream",
     "text": [
      "\n",
      "BTC data successfully pulled\n",
      "\n",
      "\n",
      "Start Pulling ETH's data:\n",
      "Pulling ETH's Price\n",
      "Pulling ETH's MarketCap\n",
      "Pulling ETH's ActiveAddress\n"
     ]
    },
    {
     "name": "stderr",
     "output_type": "stream",
     "text": [
      "  2%|▏         | 2/124 [00:04<04:51,  2.39s/it]"
     ]
    },
    {
     "name": "stdout",
     "output_type": "stream",
     "text": [
      "\n",
      "ETH data successfully pulled\n",
      "\n",
      "\n",
      "Start Pulling LTC's data:\n",
      "Pulling LTC's Price\n",
      "Pulling LTC's MarketCap\n",
      "Pulling LTC's ActiveAddress\n"
     ]
    },
    {
     "name": "stderr",
     "output_type": "stream",
     "text": [
      "  2%|▏         | 3/124 [00:06<04:42,  2.33s/it]"
     ]
    },
    {
     "name": "stdout",
     "output_type": "stream",
     "text": [
      "\n",
      "LTC data successfully pulled\n",
      "\n",
      "\n",
      "Start Pulling AAVE's data:\n",
      "Pulling AAVE's Price\n",
      "Pulling AAVE's MarketCap\n",
      "Pulling AAVE's ActiveAddress\n"
     ]
    },
    {
     "name": "stderr",
     "output_type": "stream",
     "text": [
      "  3%|▎         | 4/124 [00:09<04:33,  2.28s/it]"
     ]
    },
    {
     "name": "stdout",
     "output_type": "stream",
     "text": [
      "\n",
      "AAVE data successfully pulled\n",
      "\n",
      "\n",
      "Start Pulling ABT's data:\n",
      "Pulling ABT's Price\n",
      "Pulling ABT's MarketCap\n",
      "Pulling ABT's ActiveAddress\n"
     ]
    },
    {
     "name": "stderr",
     "output_type": "stream",
     "text": [
      "  4%|▍         | 5/124 [00:11<04:32,  2.29s/it]"
     ]
    },
    {
     "name": "stdout",
     "output_type": "stream",
     "text": [
      "\n",
      "ABT data successfully pulled\n",
      "\n",
      "\n",
      "Start Pulling AMPL's data:\n",
      "Pulling AMPL's Price\n",
      "Pulling AMPL's MarketCap\n",
      "Pulling AMPL's ActiveAddress\n"
     ]
    },
    {
     "name": "stderr",
     "output_type": "stream",
     "text": [
      "  5%|▍         | 6/124 [00:13<04:17,  2.18s/it]"
     ]
    },
    {
     "name": "stdout",
     "output_type": "stream",
     "text": [
      "\n",
      "AMPL data successfully pulled\n",
      "\n",
      "\n",
      "Start Pulling ANT's data:\n",
      "Pulling ANT's Price\n",
      "Pulling ANT's MarketCap\n",
      "Pulling ANT's ActiveAddress\n"
     ]
    },
    {
     "name": "stderr",
     "output_type": "stream",
     "text": [
      "  6%|▌         | 7/124 [00:16<04:39,  2.39s/it]"
     ]
    },
    {
     "name": "stdout",
     "output_type": "stream",
     "text": [
      "\n",
      "ANT data successfully pulled\n",
      "\n",
      "\n",
      "Start Pulling ARMOR's data:\n",
      "Pulling ARMOR's Price\n",
      "Pulling ARMOR's MarketCap\n",
      "Pulling ARMOR's ActiveAddress\n"
     ]
    },
    {
     "name": "stderr",
     "output_type": "stream",
     "text": [
      "  6%|▋         | 8/124 [00:17<04:09,  2.15s/it]"
     ]
    },
    {
     "name": "stdout",
     "output_type": "stream",
     "text": [
      "\n",
      "ARMOR data successfully pulled\n",
      "\n",
      "\n",
      "Start Pulling BADGER's data:\n",
      "Pulling BADGER's Price\n",
      "Pulling BADGER's MarketCap\n",
      "Pulling BADGER's ActiveAddress\n"
     ]
    },
    {
     "name": "stderr",
     "output_type": "stream",
     "text": [
      "  7%|▋         | 9/124 [00:19<03:50,  2.01s/it]"
     ]
    },
    {
     "name": "stdout",
     "output_type": "stream",
     "text": [
      "\n",
      "BADGER data successfully pulled\n",
      "\n",
      "\n",
      "Start Pulling BAL's data:\n",
      "Pulling BAL's Price\n",
      "Pulling BAL's MarketCap\n",
      "Pulling BAL's ActiveAddress\n"
     ]
    },
    {
     "name": "stderr",
     "output_type": "stream",
     "text": [
      "  8%|▊         | 10/124 [00:21<03:38,  1.92s/it]"
     ]
    },
    {
     "name": "stdout",
     "output_type": "stream",
     "text": [
      "\n",
      "BAL data successfully pulled\n",
      "\n",
      "\n",
      "Start Pulling BAND's data:\n",
      "Pulling BAND's Price\n",
      "Pulling BAND's MarketCap\n",
      "Pulling BAND's ActiveAddress\n"
     ]
    },
    {
     "name": "stderr",
     "output_type": "stream",
     "text": [
      "  9%|▉         | 11/124 [00:22<03:27,  1.84s/it]"
     ]
    },
    {
     "name": "stdout",
     "output_type": "stream",
     "text": [
      "\n",
      "BAND data successfully pulled\n",
      "\n",
      "\n",
      "Start Pulling BAT's data:\n",
      "Pulling BAT's Price\n",
      "Pulling BAT's MarketCap\n",
      "Pulling BAT's ActiveAddress\n"
     ]
    },
    {
     "name": "stderr",
     "output_type": "stream",
     "text": [
      " 10%|▉         | 12/124 [00:25<03:38,  1.95s/it]"
     ]
    },
    {
     "name": "stdout",
     "output_type": "stream",
     "text": [
      "\n",
      "BAT data successfully pulled\n",
      "\n",
      "\n",
      "Start Pulling BIX's data:\n",
      "Pulling BIX's Price\n",
      "Pulling BIX's MarketCap\n",
      "Pulling BIX's ActiveAddress\n"
     ]
    },
    {
     "name": "stderr",
     "output_type": "stream",
     "text": [
      " 10%|█         | 13/124 [00:27<03:41,  2.00s/it]"
     ]
    },
    {
     "name": "stdout",
     "output_type": "stream",
     "text": [
      "\n",
      "BIX data successfully pulled\n",
      "\n",
      "\n",
      "Start Pulling BNT's data:\n",
      "Pulling BNT's Price\n",
      "Pulling BNT's MarketCap\n",
      "Pulling BNT's ActiveAddress\n"
     ]
    },
    {
     "name": "stderr",
     "output_type": "stream",
     "text": [
      " 11%|█▏        | 14/124 [00:28<03:32,  1.93s/it]"
     ]
    },
    {
     "name": "stdout",
     "output_type": "stream",
     "text": [
      "\n",
      "BNT data successfully pulled\n",
      "\n",
      "\n",
      "Start Pulling BOND's data:\n",
      "Pulling BOND's Price\n",
      "Pulling BOND's MarketCap\n",
      "Pulling BOND's ActiveAddress\n"
     ]
    },
    {
     "name": "stderr",
     "output_type": "stream",
     "text": [
      " 12%|█▏        | 15/124 [00:30<03:22,  1.86s/it]"
     ]
    },
    {
     "name": "stdout",
     "output_type": "stream",
     "text": [
      "\n",
      "BOND data successfully pulled\n",
      "\n",
      "\n",
      "Start Pulling BRD's data:\n",
      "Pulling BRD's Price\n",
      "Pulling BRD's MarketCap\n",
      "Pulling BRD's ActiveAddress\n"
     ]
    },
    {
     "name": "stderr",
     "output_type": "stream",
     "text": [
      " 13%|█▎        | 16/124 [00:31<02:59,  1.67s/it]"
     ]
    },
    {
     "name": "stdout",
     "output_type": "stream",
     "text": [
      "\n",
      "BRD data successfully pulled\n",
      "\n",
      "\n",
      "Start Pulling BUSD's data:\n",
      "Pulling BUSD's Price\n",
      "Pulling BUSD's MarketCap\n",
      "Pulling BUSD's ActiveAddress\n"
     ]
    },
    {
     "name": "stderr",
     "output_type": "stream",
     "text": [
      " 14%|█▎        | 17/124 [00:33<02:47,  1.57s/it]"
     ]
    },
    {
     "name": "stdout",
     "output_type": "stream",
     "text": [
      "\n",
      "BUSD data successfully pulled\n",
      "\n",
      "\n",
      "Start Pulling BZRX's data:\n",
      "Pulling BZRX's Price\n",
      "Pulling BZRX's MarketCap\n",
      "Pulling BZRX's ActiveAddress\n"
     ]
    },
    {
     "name": "stderr",
     "output_type": "stream",
     "text": [
      " 15%|█▍        | 18/124 [00:34<02:28,  1.40s/it]"
     ]
    },
    {
     "name": "stdout",
     "output_type": "stream",
     "text": [
      "\n",
      "BZRX data successfully pulled\n",
      "\n",
      "\n",
      "Start Pulling CELR's data:\n",
      "Pulling CELR's Price\n",
      "Pulling CELR's MarketCap\n",
      "Pulling CELR's ActiveAddress\n"
     ]
    },
    {
     "name": "stderr",
     "output_type": "stream",
     "text": [
      " 15%|█▌        | 19/124 [00:35<02:35,  1.48s/it]"
     ]
    },
    {
     "name": "stdout",
     "output_type": "stream",
     "text": [
      "\n",
      "CELR data successfully pulled\n",
      "\n",
      "\n",
      "Start Pulling CHSB's data:\n",
      "Pulling CHSB's Price\n",
      "Pulling CHSB's MarketCap\n",
      "Pulling CHSB's ActiveAddress\n"
     ]
    },
    {
     "name": "stderr",
     "output_type": "stream",
     "text": [
      " 16%|█▌        | 20/124 [00:36<02:23,  1.38s/it]"
     ]
    },
    {
     "name": "stdout",
     "output_type": "stream",
     "text": [
      "\n",
      "CHSB data successfully pulled\n",
      "\n",
      "\n",
      "Start Pulling CND's data:\n",
      "Pulling CND's Price\n",
      "Pulling CND's MarketCap\n",
      "Pulling CND's ActiveAddress\n"
     ]
    },
    {
     "name": "stderr",
     "output_type": "stream",
     "text": [
      " 17%|█▋        | 21/124 [00:38<02:21,  1.37s/it]"
     ]
    },
    {
     "name": "stdout",
     "output_type": "stream",
     "text": [
      "\n",
      "CND data successfully pulled\n",
      "\n",
      "\n",
      "Start Pulling COMP's data:\n",
      "Pulling COMP's Price\n",
      "Pulling COMP's MarketCap\n",
      "Pulling COMP's ActiveAddress\n"
     ]
    },
    {
     "name": "stderr",
     "output_type": "stream",
     "text": [
      " 18%|█▊        | 22/124 [00:39<02:26,  1.44s/it]"
     ]
    },
    {
     "name": "stdout",
     "output_type": "stream",
     "text": [
      "\n",
      "COMP data successfully pulled\n",
      "\n",
      "\n",
      "Start Pulling CREAM's data:\n",
      "Pulling CREAM's Price\n",
      "Pulling CREAM's MarketCap\n",
      "Pulling CREAM's ActiveAddress\n"
     ]
    },
    {
     "name": "stderr",
     "output_type": "stream",
     "text": [
      " 19%|█▊        | 23/124 [00:41<02:24,  1.43s/it]"
     ]
    },
    {
     "name": "stdout",
     "output_type": "stream",
     "text": [
      "\n",
      "CREAM data successfully pulled\n",
      "\n",
      "\n",
      "Start Pulling CRO's data:\n",
      "Pulling CRO's Price\n",
      "Pulling CRO's MarketCap\n",
      "Pulling CRO's ActiveAddress\n"
     ]
    },
    {
     "name": "stderr",
     "output_type": "stream",
     "text": [
      " 19%|█▉        | 24/124 [00:42<02:19,  1.39s/it]"
     ]
    },
    {
     "name": "stdout",
     "output_type": "stream",
     "text": [
      "\n",
      "CRO data successfully pulled\n",
      "\n",
      "\n",
      "Start Pulling CRV's data:\n",
      "Pulling CRV's Price\n",
      "Pulling CRV's MarketCap\n",
      "Pulling CRV's ActiveAddress\n"
     ]
    },
    {
     "name": "stderr",
     "output_type": "stream",
     "text": [
      " 20%|██        | 25/124 [00:43<02:09,  1.31s/it]"
     ]
    },
    {
     "name": "stdout",
     "output_type": "stream",
     "text": [
      "\n",
      "CRV data successfully pulled\n",
      "\n",
      "\n",
      "Start Pulling CVC's data:\n",
      "Pulling CVC's Price\n",
      "Pulling CVC's MarketCap\n",
      "Pulling CVC's ActiveAddress\n"
     ]
    },
    {
     "name": "stderr",
     "output_type": "stream",
     "text": [
      " 21%|██        | 26/124 [00:44<02:02,  1.25s/it]"
     ]
    },
    {
     "name": "stdout",
     "output_type": "stream",
     "text": [
      "\n",
      "CVC data successfully pulled\n",
      "\n",
      "\n",
      "Start Pulling CVP's data:\n",
      "Pulling CVP's Price\n",
      "Pulling CVP's MarketCap\n",
      "Pulling CVP's ActiveAddress\n"
     ]
    },
    {
     "name": "stderr",
     "output_type": "stream",
     "text": [
      " 22%|██▏       | 27/124 [00:46<02:07,  1.31s/it]"
     ]
    },
    {
     "name": "stdout",
     "output_type": "stream",
     "text": [
      "\n",
      "CVP data successfully pulled\n",
      "\n",
      "\n",
      "Start Pulling DAI's data:\n",
      "Pulling DAI's Price\n",
      "Pulling DAI's MarketCap\n",
      "Pulling DAI's ActiveAddress\n"
     ]
    },
    {
     "name": "stderr",
     "output_type": "stream",
     "text": [
      " 23%|██▎       | 28/124 [00:47<02:06,  1.32s/it]"
     ]
    },
    {
     "name": "stdout",
     "output_type": "stream",
     "text": [
      "\n",
      "DAI data successfully pulled\n",
      "\n",
      "\n",
      "Start Pulling DDX's data:\n",
      "Pulling DDX's Price\n",
      "Pulling DDX's MarketCap\n",
      "Pulling DDX's ActiveAddress\n"
     ]
    },
    {
     "name": "stderr",
     "output_type": "stream",
     "text": [
      " 23%|██▎       | 29/124 [00:48<02:05,  1.32s/it]"
     ]
    },
    {
     "name": "stdout",
     "output_type": "stream",
     "text": [
      "\n",
      "DDX data successfully pulled\n",
      "\n",
      "\n",
      "Start Pulling DENT's data:\n",
      "Pulling DENT's Price\n",
      "Pulling DENT's MarketCap\n",
      "Pulling DENT's ActiveAddress\n"
     ]
    },
    {
     "name": "stderr",
     "output_type": "stream",
     "text": [
      " 24%|██▍       | 30/124 [00:50<01:57,  1.25s/it]"
     ]
    },
    {
     "name": "stdout",
     "output_type": "stream",
     "text": [
      "\n",
      "DENT data successfully pulled\n",
      "\n",
      "\n",
      "Start Pulling DGX's data:\n",
      "Pulling DGX's Price\n",
      "Pulling DGX's MarketCap\n",
      "Pulling DGX's ActiveAddress\n"
     ]
    },
    {
     "name": "stderr",
     "output_type": "stream",
     "text": [
      " 25%|██▌       | 31/124 [00:51<02:04,  1.34s/it]"
     ]
    },
    {
     "name": "stdout",
     "output_type": "stream",
     "text": [
      "\n",
      "DGX data successfully pulled\n",
      "\n",
      "\n",
      "Start Pulling DHT's data:\n",
      "Pulling DHT's Price\n",
      "Pulling DHT's MarketCap\n",
      "Pulling DHT's ActiveAddress\n"
     ]
    },
    {
     "name": "stderr",
     "output_type": "stream",
     "text": [
      " 26%|██▌       | 32/124 [00:53<02:05,  1.36s/it]"
     ]
    },
    {
     "name": "stdout",
     "output_type": "stream",
     "text": [
      "\n",
      "DHT data successfully pulled\n",
      "\n",
      "\n",
      "Start Pulling DMG's data:\n",
      "Pulling DMG's Price\n",
      "Pulling DMG's MarketCap\n",
      "Pulling DMG's ActiveAddress\n"
     ]
    },
    {
     "name": "stderr",
     "output_type": "stream",
     "text": [
      " 27%|██▋       | 33/124 [00:54<02:08,  1.42s/it]"
     ]
    },
    {
     "name": "stdout",
     "output_type": "stream",
     "text": [
      "\n",
      "DMG data successfully pulled\n",
      "\n",
      "\n",
      "Start Pulling DODO's data:\n",
      "Pulling DODO's Price\n",
      "Pulling DODO's MarketCap\n",
      "Pulling DODO's ActiveAddress\n"
     ]
    },
    {
     "name": "stderr",
     "output_type": "stream",
     "text": [
      " 27%|██▋       | 34/124 [00:55<02:04,  1.38s/it]"
     ]
    },
    {
     "name": "stdout",
     "output_type": "stream",
     "text": [
      "\n",
      "DODO data successfully pulled\n",
      "\n",
      "\n",
      "Start Pulling DOUGH's data:\n",
      "Pulling DOUGH's Price\n",
      "Pulling DOUGH's MarketCap\n",
      "Pulling DOUGH's ActiveAddress\n"
     ]
    },
    {
     "name": "stderr",
     "output_type": "stream",
     "text": [
      " 28%|██▊       | 35/124 [00:57<02:01,  1.37s/it]"
     ]
    },
    {
     "name": "stdout",
     "output_type": "stream",
     "text": [
      "\n",
      "DOUGH data successfully pulled\n",
      "\n",
      "\n",
      "Start Pulling DRGN's data:\n",
      "Pulling DRGN's Price\n",
      "Pulling DRGN's MarketCap\n",
      "Pulling DRGN's ActiveAddress\n"
     ]
    },
    {
     "name": "stderr",
     "output_type": "stream",
     "text": [
      " 29%|██▉       | 36/124 [00:58<02:03,  1.41s/it]"
     ]
    },
    {
     "name": "stdout",
     "output_type": "stream",
     "text": [
      "\n",
      "DRGN data successfully pulled\n",
      "\n",
      "\n",
      "Start Pulling ELF's data:\n",
      "Pulling ELF's Price\n",
      "Pulling ELF's MarketCap\n",
      "Pulling ELF's ActiveAddress\n"
     ]
    },
    {
     "name": "stderr",
     "output_type": "stream",
     "text": [
      " 30%|██▉       | 37/124 [01:00<02:05,  1.44s/it]"
     ]
    },
    {
     "name": "stdout",
     "output_type": "stream",
     "text": [
      "\n",
      "ELF data successfully pulled\n",
      "\n",
      "\n",
      "Start Pulling ENG's data:\n",
      "Pulling ENG's Price\n",
      "Pulling ENG's MarketCap\n",
      "Pulling ENG's ActiveAddress\n"
     ]
    },
    {
     "name": "stderr",
     "output_type": "stream",
     "text": [
      " 31%|███       | 38/124 [01:01<02:03,  1.43s/it]"
     ]
    },
    {
     "name": "stdout",
     "output_type": "stream",
     "text": [
      "\n",
      "ENG data successfully pulled\n",
      "\n",
      "\n",
      "Start Pulling ENJ's data:\n",
      "Pulling ENJ's Price\n",
      "Pulling ENJ's MarketCap\n",
      "Pulling ENJ's ActiveAddress\n"
     ]
    },
    {
     "name": "stderr",
     "output_type": "stream",
     "text": [
      " 31%|███▏      | 39/124 [01:02<01:56,  1.37s/it]"
     ]
    },
    {
     "name": "stdout",
     "output_type": "stream",
     "text": [
      "\n",
      "ENJ data successfully pulled\n",
      "\n",
      "\n",
      "Start Pulling EURS's data:\n",
      "Pulling EURS's Price\n",
      "Pulling EURS's MarketCap\n",
      "Pulling EURS's ActiveAddress\n"
     ]
    },
    {
     "name": "stderr",
     "output_type": "stream",
     "text": [
      " 32%|███▏      | 40/124 [01:04<01:49,  1.31s/it]"
     ]
    },
    {
     "name": "stdout",
     "output_type": "stream",
     "text": [
      "\n",
      "EURS data successfully pulled\n",
      "\n",
      "\n",
      "Start Pulling FET's data:\n",
      "Pulling FET's Price\n",
      "Pulling FET's MarketCap\n",
      "Pulling FET's ActiveAddress\n"
     ]
    },
    {
     "name": "stderr",
     "output_type": "stream",
     "text": [
      " 33%|███▎      | 41/124 [01:05<01:47,  1.29s/it]"
     ]
    },
    {
     "name": "stdout",
     "output_type": "stream",
     "text": [
      "\n",
      "FET data successfully pulled\n",
      "\n",
      "\n",
      "Start Pulling FTT's data:\n",
      "Pulling FTT's Price\n",
      "Pulling FTT's MarketCap\n",
      "Pulling FTT's ActiveAddress\n"
     ]
    },
    {
     "name": "stderr",
     "output_type": "stream",
     "text": [
      " 34%|███▍      | 42/124 [01:06<01:41,  1.24s/it]"
     ]
    },
    {
     "name": "stdout",
     "output_type": "stream",
     "text": [
      "\n",
      "FTT data successfully pulled\n",
      "\n",
      "\n",
      "Start Pulling FUN's data:\n",
      "Pulling FUN's Price\n",
      "Pulling FUN's MarketCap\n",
      "Pulling FUN's ActiveAddress\n"
     ]
    },
    {
     "name": "stderr",
     "output_type": "stream",
     "text": [
      " 35%|███▍      | 43/124 [01:08<02:08,  1.58s/it]"
     ]
    },
    {
     "name": "stdout",
     "output_type": "stream",
     "text": [
      "\n",
      "FUN data successfully pulled\n",
      "\n",
      "\n",
      "Start Pulling GNO's data:\n",
      "Pulling GNO's Price\n",
      "Pulling GNO's MarketCap\n",
      "Pulling GNO's ActiveAddress\n"
     ]
    },
    {
     "name": "stderr",
     "output_type": "stream",
     "text": [
      " 35%|███▌      | 44/124 [01:10<02:12,  1.65s/it]"
     ]
    },
    {
     "name": "stdout",
     "output_type": "stream",
     "text": [
      "\n",
      "GNO data successfully pulled\n",
      "\n",
      "\n",
      "Start Pulling GUSD's data:\n",
      "Pulling GUSD's Price\n",
      "Pulling GUSD's MarketCap\n",
      "Pulling GUSD's ActiveAddress\n"
     ]
    },
    {
     "name": "stderr",
     "output_type": "stream",
     "text": [
      " 36%|███▋      | 45/124 [01:11<02:00,  1.52s/it]"
     ]
    },
    {
     "name": "stdout",
     "output_type": "stream",
     "text": [
      "\n",
      "GUSD data successfully pulled\n",
      "\n",
      "\n",
      "Start Pulling HEGIC's data:\n",
      "Pulling HEGIC's Price\n",
      "Pulling HEGIC's MarketCap\n",
      "Pulling HEGIC's ActiveAddress\n"
     ]
    },
    {
     "name": "stderr",
     "output_type": "stream",
     "text": [
      " 37%|███▋      | 46/124 [01:13<02:06,  1.63s/it]"
     ]
    },
    {
     "name": "stdout",
     "output_type": "stream",
     "text": [
      "\n",
      "HEGIC data successfully pulled\n",
      "\n",
      "\n",
      "Start Pulling HOT's data:\n",
      "Pulling HOT's Price\n",
      "Pulling HOT's MarketCap\n",
      "Pulling HOT's ActiveAddress\n"
     ]
    },
    {
     "name": "stderr",
     "output_type": "stream",
     "text": [
      " 38%|███▊      | 47/124 [01:15<02:04,  1.62s/it]"
     ]
    },
    {
     "name": "stdout",
     "output_type": "stream",
     "text": [
      "\n",
      "HOT data successfully pulled\n",
      "\n",
      "\n",
      "Start Pulling HPT's data:\n",
      "Pulling HPT's Price\n",
      "Pulling HPT's MarketCap\n",
      "Pulling HPT's ActiveAddress\n"
     ]
    },
    {
     "name": "stderr",
     "output_type": "stream",
     "text": [
      " 39%|███▊      | 48/124 [01:16<01:57,  1.55s/it]"
     ]
    },
    {
     "name": "stdout",
     "output_type": "stream",
     "text": [
      "\n",
      "HPT data successfully pulled\n",
      "\n",
      "\n",
      "Start Pulling HT's data:\n",
      "Pulling HT's Price\n",
      "Pulling HT's MarketCap\n",
      "Pulling HT's ActiveAddress\n"
     ]
    },
    {
     "name": "stderr",
     "output_type": "stream",
     "text": [
      " 40%|███▉      | 49/124 [01:17<01:47,  1.44s/it]"
     ]
    },
    {
     "name": "stdout",
     "output_type": "stream",
     "text": [
      "\n",
      "HT data successfully pulled\n",
      "\n",
      "\n",
      "Start Pulling HUSD's data:\n",
      "Pulling HUSD's Price\n",
      "Pulling HUSD's MarketCap\n",
      "Pulling HUSD's ActiveAddress\n"
     ]
    },
    {
     "name": "stderr",
     "output_type": "stream",
     "text": [
      " 40%|████      | 50/124 [01:19<01:45,  1.42s/it]"
     ]
    },
    {
     "name": "stdout",
     "output_type": "stream",
     "text": [
      "\n",
      "HUSD data successfully pulled\n",
      "\n",
      "\n",
      "Start Pulling INDEX's data:\n",
      "Pulling INDEX's Price\n",
      "Pulling INDEX's MarketCap\n",
      "Pulling INDEX's ActiveAddress\n"
     ]
    },
    {
     "name": "stderr",
     "output_type": "stream",
     "text": [
      " 41%|████      | 51/124 [01:20<01:39,  1.36s/it]"
     ]
    },
    {
     "name": "stdout",
     "output_type": "stream",
     "text": [
      "\n",
      "INDEX data successfully pulled\n",
      "\n",
      "\n",
      "Start Pulling KCS's data:\n",
      "Pulling KCS's Price\n",
      "Pulling KCS's MarketCap\n",
      "Pulling KCS's ActiveAddress\n"
     ]
    },
    {
     "name": "stderr",
     "output_type": "stream",
     "text": [
      " 42%|████▏     | 52/124 [01:22<01:56,  1.62s/it]"
     ]
    },
    {
     "name": "stdout",
     "output_type": "stream",
     "text": [
      "\n",
      "KCS data successfully pulled\n",
      "\n",
      "\n",
      "Start Pulling LAMB's data:\n",
      "Pulling LAMB's Price\n",
      "Pulling LAMB's MarketCap\n",
      "Pulling LAMB's ActiveAddress\n"
     ]
    },
    {
     "name": "stderr",
     "output_type": "stream",
     "text": [
      " 43%|████▎     | 53/124 [01:24<01:54,  1.62s/it]"
     ]
    },
    {
     "name": "stdout",
     "output_type": "stream",
     "text": [
      "\n",
      "LAMB data successfully pulled\n",
      "\n",
      "\n",
      "Start Pulling LBA's data:\n",
      "Pulling LBA's Price\n",
      "Pulling LBA's MarketCap\n",
      "Pulling LBA's ActiveAddress\n"
     ]
    },
    {
     "name": "stderr",
     "output_type": "stream",
     "text": [
      " 44%|████▎     | 54/124 [01:25<01:44,  1.49s/it]"
     ]
    },
    {
     "name": "stdout",
     "output_type": "stream",
     "text": [
      "\n",
      "LBA data successfully pulled\n",
      "\n",
      "\n",
      "Start Pulling LDO's data:\n",
      "Pulling LDO's Price\n",
      "Pulling LDO's MarketCap\n",
      "Pulling LDO's ActiveAddress\n"
     ]
    },
    {
     "name": "stderr",
     "output_type": "stream",
     "text": [
      " 44%|████▍     | 55/124 [01:27<01:45,  1.53s/it]"
     ]
    },
    {
     "name": "stdout",
     "output_type": "stream",
     "text": [
      "\n",
      "LDO data successfully pulled\n",
      "\n",
      "\n",
      "Start Pulling LEO's data:\n",
      "Pulling LEO's Price\n",
      "Pulling LEO's MarketCap\n",
      "Pulling LEO's ActiveAddress\n"
     ]
    },
    {
     "name": "stderr",
     "output_type": "stream",
     "text": [
      " 45%|████▌     | 56/124 [01:28<01:42,  1.50s/it]"
     ]
    },
    {
     "name": "stdout",
     "output_type": "stream",
     "text": [
      "\n",
      "LEO data successfully pulled\n",
      "\n",
      "\n",
      "Start Pulling LINK's data:\n",
      "Pulling LINK's Price\n",
      "Pulling LINK's MarketCap\n",
      "Pulling LINK's ActiveAddress\n"
     ]
    },
    {
     "name": "stderr",
     "output_type": "stream",
     "text": [
      " 46%|████▌     | 57/124 [01:30<01:47,  1.61s/it]"
     ]
    },
    {
     "name": "stdout",
     "output_type": "stream",
     "text": [
      "\n",
      "LINK data successfully pulled\n",
      "\n",
      "\n",
      "Start Pulling LOOM's data:\n",
      "Pulling LOOM's Price\n",
      "Pulling LOOM's MarketCap\n",
      "Pulling LOOM's ActiveAddress\n"
     ]
    },
    {
     "name": "stderr",
     "output_type": "stream",
     "text": [
      " 47%|████▋     | 58/124 [01:32<01:50,  1.67s/it]"
     ]
    },
    {
     "name": "stdout",
     "output_type": "stream",
     "text": [
      "\n",
      "LOOM data successfully pulled\n",
      "\n",
      "\n",
      "Start Pulling LRC's data:\n",
      "Pulling LRC's Price\n",
      "Pulling LRC's MarketCap\n",
      "Pulling LRC's ActiveAddress\n"
     ]
    },
    {
     "name": "stderr",
     "output_type": "stream",
     "text": [
      " 48%|████▊     | 59/124 [01:34<01:54,  1.76s/it]"
     ]
    },
    {
     "name": "stdout",
     "output_type": "stream",
     "text": [
      "\n",
      "LRC data successfully pulled\n",
      "\n",
      "\n",
      "Start Pulling MANA's data:\n",
      "Pulling MANA's Price\n",
      "Pulling MANA's MarketCap\n",
      "Pulling MANA's ActiveAddress\n"
     ]
    },
    {
     "name": "stderr",
     "output_type": "stream",
     "text": [
      " 48%|████▊     | 60/124 [01:35<01:53,  1.77s/it]"
     ]
    },
    {
     "name": "stdout",
     "output_type": "stream",
     "text": [
      "\n",
      "MANA data successfully pulled\n",
      "\n",
      "\n",
      "Start Pulling MATIC's data:\n",
      "Pulling MATIC's Price\n",
      "Pulling MATIC's MarketCap\n",
      "Pulling MATIC's ActiveAddress\n"
     ]
    },
    {
     "name": "stderr",
     "output_type": "stream",
     "text": [
      " 49%|████▉     | 61/124 [01:37<01:45,  1.67s/it]"
     ]
    },
    {
     "name": "stdout",
     "output_type": "stream",
     "text": [
      "\n",
      "MATIC data successfully pulled\n",
      "\n",
      "\n",
      "Start Pulling MCB's data:\n",
      "Pulling MCB's Price\n",
      "Pulling MCB's MarketCap\n",
      "Pulling MCB's ActiveAddress\n"
     ]
    },
    {
     "name": "stderr",
     "output_type": "stream",
     "text": [
      " 50%|█████     | 62/124 [01:38<01:34,  1.52s/it]"
     ]
    },
    {
     "name": "stdout",
     "output_type": "stream",
     "text": [
      "\n",
      "MCB data successfully pulled\n",
      "\n",
      "\n",
      "Start Pulling MCO's data:\n",
      "Pulling MCO's Price\n",
      "Pulling MCO's MarketCap\n",
      "Pulling MCO's ActiveAddress\n"
     ]
    },
    {
     "name": "stderr",
     "output_type": "stream",
     "text": [
      " 51%|█████     | 63/124 [01:39<01:28,  1.45s/it]"
     ]
    },
    {
     "name": "stdout",
     "output_type": "stream",
     "text": [
      "\n",
      "MCO data successfully pulled\n",
      "\n",
      "\n",
      "Start Pulling MFT's data:\n",
      "Pulling MFT's Price\n",
      "Pulling MFT's MarketCap\n",
      "Pulling MFT's ActiveAddress\n"
     ]
    },
    {
     "name": "stderr",
     "output_type": "stream",
     "text": [
      " 52%|█████▏    | 64/124 [01:41<01:23,  1.39s/it]"
     ]
    },
    {
     "name": "stdout",
     "output_type": "stream",
     "text": [
      "\n",
      "MFT data successfully pulled\n",
      "\n",
      "\n",
      "Start Pulling MIR's data:\n",
      "Pulling MIR's Price\n",
      "Pulling MIR's MarketCap\n",
      "Pulling MIR's ActiveAddress\n"
     ]
    },
    {
     "name": "stderr",
     "output_type": "stream",
     "text": [
      " 52%|█████▏    | 65/124 [01:42<01:21,  1.38s/it]"
     ]
    },
    {
     "name": "stdout",
     "output_type": "stream",
     "text": [
      "\n",
      "MIR data successfully pulled\n",
      "\n",
      "\n",
      "Start Pulling MKR's data:\n",
      "Pulling MKR's Price\n",
      "Pulling MKR's MarketCap\n",
      "Pulling MKR's ActiveAddress\n"
     ]
    },
    {
     "name": "stderr",
     "output_type": "stream",
     "text": [
      " 53%|█████▎    | 66/124 [01:43<01:18,  1.35s/it]"
     ]
    },
    {
     "name": "stdout",
     "output_type": "stream",
     "text": [
      "\n",
      "MKR data successfully pulled\n",
      "\n",
      "\n",
      "Start Pulling MLN's data:\n",
      "Pulling MLN's Price\n",
      "Pulling MLN's MarketCap\n",
      "Pulling MLN's ActiveAddress\n"
     ]
    },
    {
     "name": "stderr",
     "output_type": "stream",
     "text": [
      " 54%|█████▍    | 67/124 [01:45<01:16,  1.34s/it]"
     ]
    },
    {
     "name": "stdout",
     "output_type": "stream",
     "text": [
      "\n",
      "MLN data successfully pulled\n",
      "\n",
      "\n",
      "Start Pulling MTA's data:\n",
      "Pulling MTA's Price\n",
      "Pulling MTA's MarketCap\n",
      "Pulling MTA's ActiveAddress\n"
     ]
    },
    {
     "name": "stderr",
     "output_type": "stream",
     "text": [
      " 55%|█████▍    | 68/124 [01:46<01:11,  1.28s/it]"
     ]
    },
    {
     "name": "stdout",
     "output_type": "stream",
     "text": [
      "\n",
      "MTA data successfully pulled\n",
      "\n",
      "\n",
      "Start Pulling MTL's data:\n",
      "Pulling MTL's Price\n",
      "Pulling MTL's MarketCap\n",
      "Pulling MTL's ActiveAddress\n"
     ]
    },
    {
     "name": "stderr",
     "output_type": "stream",
     "text": [
      " 56%|█████▌    | 69/124 [01:47<01:13,  1.34s/it]"
     ]
    },
    {
     "name": "stdout",
     "output_type": "stream",
     "text": [
      "\n",
      "MTL data successfully pulled\n",
      "\n",
      "\n",
      "Start Pulling MX's data:\n",
      "Pulling MX's Price\n",
      "Pulling MX's MarketCap\n",
      "Pulling MX's ActiveAddress\n"
     ]
    },
    {
     "name": "stderr",
     "output_type": "stream",
     "text": [
      " 56%|█████▋    | 70/124 [01:48<01:10,  1.31s/it]"
     ]
    },
    {
     "name": "stdout",
     "output_type": "stream",
     "text": [
      "\n",
      "MX data successfully pulled\n",
      "\n",
      "\n",
      "Start Pulling NDX's data:\n",
      "Pulling NDX's Price\n",
      "Pulling NDX's MarketCap\n",
      "Pulling NDX's ActiveAddress\n"
     ]
    },
    {
     "name": "stderr",
     "output_type": "stream",
     "text": [
      " 57%|█████▋    | 71/124 [01:50<01:08,  1.29s/it]"
     ]
    },
    {
     "name": "stdout",
     "output_type": "stream",
     "text": [
      "\n",
      "NDX data successfully pulled\n",
      "\n",
      "\n",
      "Start Pulling NEXO's data:\n",
      "Pulling NEXO's Price\n",
      "Pulling NEXO's MarketCap\n",
      "Pulling NEXO's ActiveAddress\n"
     ]
    },
    {
     "name": "stderr",
     "output_type": "stream",
     "text": [
      " 58%|█████▊    | 72/124 [01:51<01:05,  1.25s/it]"
     ]
    },
    {
     "name": "stdout",
     "output_type": "stream",
     "text": [
      "\n",
      "NEXO data successfully pulled\n",
      "\n",
      "\n",
      "Start Pulling NFTX's data:\n",
      "Pulling NFTX's Price\n",
      "Pulling NFTX's MarketCap\n",
      "Pulling NFTX's ActiveAddress\n"
     ]
    },
    {
     "name": "stderr",
     "output_type": "stream",
     "text": [
      " 59%|█████▉    | 73/124 [01:52<01:01,  1.21s/it]"
     ]
    },
    {
     "name": "stdout",
     "output_type": "stream",
     "text": [
      "\n",
      "NFTX data successfully pulled\n",
      "\n",
      "\n",
      "Start Pulling NMR's data:\n",
      "Pulling NMR's Price\n",
      "Pulling NMR's MarketCap\n",
      "Pulling NMR's ActiveAddress\n"
     ]
    },
    {
     "name": "stderr",
     "output_type": "stream",
     "text": [
      " 60%|█████▉    | 74/124 [01:53<00:58,  1.18s/it]"
     ]
    },
    {
     "name": "stdout",
     "output_type": "stream",
     "text": [
      "\n",
      "NMR data successfully pulled\n",
      "\n",
      "\n",
      "Start Pulling Nsure's data:\n",
      "Pulling Nsure's Price\n",
      "Pulling Nsure's MarketCap\n",
      "Pulling Nsure's ActiveAddress\n"
     ]
    },
    {
     "name": "stderr",
     "output_type": "stream",
     "text": [
      " 60%|██████    | 75/124 [01:54<00:56,  1.15s/it]"
     ]
    },
    {
     "name": "stdout",
     "output_type": "stream",
     "text": [
      "\n",
      "Nsure data successfully pulled\n",
      "\n",
      "\n",
      "Start Pulling OCEAN's data:\n",
      "Pulling OCEAN's Price\n",
      "Pulling OCEAN's MarketCap\n",
      "Pulling OCEAN's ActiveAddress\n"
     ]
    },
    {
     "name": "stderr",
     "output_type": "stream",
     "text": [
      " 61%|██████▏   | 76/124 [01:55<00:54,  1.13s/it]"
     ]
    },
    {
     "name": "stdout",
     "output_type": "stream",
     "text": [
      "\n",
      "OCEAN data successfully pulled\n",
      "\n",
      "\n",
      "Start Pulling OKB's data:\n",
      "Pulling OKB's Price\n",
      "Pulling OKB's MarketCap\n",
      "Pulling OKB's ActiveAddress\n"
     ]
    },
    {
     "name": "stderr",
     "output_type": "stream",
     "text": [
      " 62%|██████▏   | 77/124 [01:56<00:53,  1.13s/it]"
     ]
    },
    {
     "name": "stdout",
     "output_type": "stream",
     "text": [
      "\n",
      "OKB data successfully pulled\n",
      "\n",
      "\n",
      "Start Pulling OMG's data:\n",
      "Pulling OMG's Price\n",
      "Pulling OMG's MarketCap\n",
      "Pulling OMG's ActiveAddress\n"
     ]
    },
    {
     "name": "stderr",
     "output_type": "stream",
     "text": [
      " 63%|██████▎   | 78/124 [01:58<00:59,  1.29s/it]"
     ]
    },
    {
     "name": "stdout",
     "output_type": "stream",
     "text": [
      "\n",
      "OMG data successfully pulled\n",
      "\n",
      "\n",
      "Start Pulling PAY's data:\n",
      "Pulling PAY's Price\n",
      "Pulling PAY's MarketCap\n",
      "Pulling PAY's ActiveAddress\n"
     ]
    },
    {
     "name": "stderr",
     "output_type": "stream",
     "text": [
      " 64%|██████▎   | 79/124 [01:59<00:56,  1.26s/it]"
     ]
    },
    {
     "name": "stdout",
     "output_type": "stream",
     "text": [
      "\n",
      "PAY data successfully pulled\n",
      "\n",
      "\n",
      "Start Pulling PERP's data:\n",
      "Pulling PERP's Price\n",
      "Pulling PERP's MarketCap\n",
      "Pulling PERP's ActiveAddress\n"
     ]
    },
    {
     "name": "stderr",
     "output_type": "stream",
     "text": [
      " 65%|██████▍   | 80/124 [02:00<00:52,  1.19s/it]"
     ]
    },
    {
     "name": "stdout",
     "output_type": "stream",
     "text": [
      "\n",
      "PERP data successfully pulled\n",
      "\n",
      "\n",
      "Start Pulling PICKLE's data:\n",
      "Pulling PICKLE's Price\n",
      "Pulling PICKLE's MarketCap\n",
      "Pulling PICKLE's ActiveAddress\n"
     ]
    },
    {
     "name": "stderr",
     "output_type": "stream",
     "text": [
      " 65%|██████▌   | 81/124 [02:01<00:50,  1.17s/it]"
     ]
    },
    {
     "name": "stdout",
     "output_type": "stream",
     "text": [
      "\n",
      "PICKLE data successfully pulled\n",
      "\n",
      "\n",
      "Start Pulling PNK's data:\n",
      "Pulling PNK's Price\n",
      "Pulling PNK's MarketCap\n",
      "Pulling PNK's ActiveAddress\n"
     ]
    },
    {
     "name": "stderr",
     "output_type": "stream",
     "text": [
      " 66%|██████▌   | 82/124 [02:02<00:49,  1.17s/it]"
     ]
    },
    {
     "name": "stdout",
     "output_type": "stream",
     "text": [
      "\n",
      "PNK data successfully pulled\n",
      "\n",
      "\n",
      "Start Pulling PNT's data:\n",
      "Pulling PNT's Price\n",
      "Pulling PNT's MarketCap\n",
      "Pulling PNT's ActiveAddress\n"
     ]
    },
    {
     "name": "stderr",
     "output_type": "stream",
     "text": [
      " 67%|██████▋   | 83/124 [02:04<00:48,  1.18s/it]"
     ]
    },
    {
     "name": "stdout",
     "output_type": "stream",
     "text": [
      "\n",
      "PNT data successfully pulled\n",
      "\n",
      "\n",
      "Start Pulling POLY's data:\n",
      "Pulling POLY's Price\n",
      "Pulling POLY's MarketCap\n",
      "Pulling POLY's ActiveAddress\n"
     ]
    },
    {
     "name": "stderr",
     "output_type": "stream",
     "text": [
      " 68%|██████▊   | 84/124 [02:05<00:48,  1.22s/it]"
     ]
    },
    {
     "name": "stdout",
     "output_type": "stream",
     "text": [
      "\n",
      "POLY data successfully pulled\n",
      "\n",
      "\n",
      "Start Pulling POWR's data:\n",
      "Pulling POWR's Price\n",
      "Pulling POWR's MarketCap\n",
      "Pulling POWR's ActiveAddress\n"
     ]
    },
    {
     "name": "stderr",
     "output_type": "stream",
     "text": [
      " 69%|██████▊   | 85/124 [02:06<00:48,  1.25s/it]"
     ]
    },
    {
     "name": "stdout",
     "output_type": "stream",
     "text": [
      "\n",
      "POWR data successfully pulled\n",
      "\n",
      "\n",
      "Start Pulling PPT's data:\n",
      "Pulling PPT's Price\n",
      "Pulling PPT's MarketCap\n",
      "Pulling PPT's ActiveAddress\n"
     ]
    },
    {
     "name": "stderr",
     "output_type": "stream",
     "text": [
      " 69%|██████▉   | 86/124 [02:08<00:48,  1.28s/it]"
     ]
    },
    {
     "name": "stdout",
     "output_type": "stream",
     "text": [
      "\n",
      "PPT data successfully pulled\n",
      "\n",
      "\n",
      "Start Pulling QASH's data:\n",
      "Pulling QASH's Price\n",
      "Pulling QASH's MarketCap\n",
      "Pulling QASH's ActiveAddress\n"
     ]
    },
    {
     "name": "stderr",
     "output_type": "stream",
     "text": [
      " 70%|███████   | 87/124 [02:09<00:47,  1.30s/it]"
     ]
    },
    {
     "name": "stdout",
     "output_type": "stream",
     "text": [
      "\n",
      "QASH data successfully pulled\n",
      "\n",
      "\n",
      "Start Pulling QKC's data:\n",
      "Pulling QKC's Price\n",
      "Pulling QKC's MarketCap\n",
      "Pulling QKC's ActiveAddress\n"
     ]
    },
    {
     "name": "stderr",
     "output_type": "stream",
     "text": [
      " 71%|███████   | 88/124 [02:10<00:46,  1.30s/it]"
     ]
    },
    {
     "name": "stdout",
     "output_type": "stream",
     "text": [
      "\n",
      "QKC data successfully pulled\n",
      "\n",
      "\n",
      "Start Pulling QNT's data:\n",
      "Pulling QNT's Price\n",
      "Pulling QNT's MarketCap\n",
      "Pulling QNT's ActiveAddress\n"
     ]
    },
    {
     "name": "stderr",
     "output_type": "stream",
     "text": [
      " 72%|███████▏  | 89/124 [02:11<00:43,  1.26s/it]"
     ]
    },
    {
     "name": "stdout",
     "output_type": "stream",
     "text": [
      "\n",
      "QNT data successfully pulled\n",
      "\n",
      "\n",
      "Start Pulling RDN's data:\n",
      "Pulling RDN's Price\n",
      "Pulling RDN's MarketCap\n",
      "Pulling RDN's ActiveAddress\n"
     ]
    },
    {
     "name": "stderr",
     "output_type": "stream",
     "text": [
      " 73%|███████▎  | 90/124 [02:13<00:41,  1.23s/it]"
     ]
    },
    {
     "name": "stdout",
     "output_type": "stream",
     "text": [
      "\n",
      "RDN data successfully pulled\n",
      "\n",
      "\n",
      "Start Pulling REN's data:\n",
      "Pulling REN's Price\n",
      "Pulling REN's MarketCap\n",
      "Pulling REN's ActiveAddress\n"
     ]
    },
    {
     "name": "stderr",
     "output_type": "stream",
     "text": [
      " 73%|███████▎  | 91/124 [02:14<00:39,  1.20s/it]"
     ]
    },
    {
     "name": "stdout",
     "output_type": "stream",
     "text": [
      "\n",
      "REN data successfully pulled\n",
      "\n",
      "\n",
      "Start Pulling REP's data:\n",
      "Pulling REP's Price\n",
      "Pulling REP's MarketCap\n",
      "Pulling REP's ActiveAddress\n"
     ]
    },
    {
     "name": "stderr",
     "output_type": "stream",
     "text": [
      " 74%|███████▍  | 92/124 [02:15<00:38,  1.21s/it]"
     ]
    },
    {
     "name": "stdout",
     "output_type": "stream",
     "text": [
      "\n",
      "REP data successfully pulled\n",
      "\n",
      "\n",
      "Start Pulling RLC's data:\n",
      "Pulling RLC's Price\n",
      "Pulling RLC's MarketCap\n",
      "Pulling RLC's ActiveAddress\n"
     ]
    },
    {
     "name": "stderr",
     "output_type": "stream",
     "text": [
      " 75%|███████▌  | 93/124 [02:17<00:40,  1.30s/it]"
     ]
    },
    {
     "name": "stdout",
     "output_type": "stream",
     "text": [
      "\n",
      "RLC data successfully pulled\n",
      "\n",
      "\n",
      "Start Pulling ROOK's data:\n",
      "Pulling ROOK's Price\n",
      "Pulling ROOK's MarketCap\n",
      "Pulling ROOK's ActiveAddress\n"
     ]
    },
    {
     "name": "stderr",
     "output_type": "stream",
     "text": [
      " 76%|███████▌  | 94/124 [02:18<00:38,  1.30s/it]"
     ]
    },
    {
     "name": "stdout",
     "output_type": "stream",
     "text": [
      "\n",
      "ROOK data successfully pulled\n",
      "\n",
      "\n",
      "Start Pulling RPL's data:\n",
      "Pulling RPL's Price\n",
      "Pulling RPL's MarketCap\n",
      "Pulling RPL's ActiveAddress\n"
     ]
    },
    {
     "name": "stderr",
     "output_type": "stream",
     "text": [
      " 77%|███████▋  | 95/124 [02:19<00:39,  1.35s/it]"
     ]
    },
    {
     "name": "stdout",
     "output_type": "stream",
     "text": [
      "\n",
      "RPL data successfully pulled\n",
      "\n",
      "\n",
      "Start Pulling RSR's data:\n",
      "Pulling RSR's Price\n",
      "Pulling RSR's MarketCap\n",
      "Pulling RSR's ActiveAddress\n"
     ]
    },
    {
     "name": "stderr",
     "output_type": "stream",
     "text": [
      " 77%|███████▋  | 96/124 [02:21<00:37,  1.34s/it]"
     ]
    },
    {
     "name": "stdout",
     "output_type": "stream",
     "text": [
      "\n",
      "RSR data successfully pulled\n",
      "\n",
      "\n",
      "Start Pulling SAI's data:\n",
      "Pulling SAI's Price\n",
      "Pulling SAI's MarketCap\n",
      "Pulling SAI's ActiveAddress\n"
     ]
    },
    {
     "name": "stderr",
     "output_type": "stream",
     "text": [
      " 78%|███████▊  | 97/124 [02:22<00:35,  1.32s/it]"
     ]
    },
    {
     "name": "stdout",
     "output_type": "stream",
     "text": [
      "\n",
      "SAI data successfully pulled\n",
      "\n",
      "\n",
      "Start Pulling SAN's data:\n",
      "Pulling SAN's Price\n",
      "Pulling SAN's MarketCap\n",
      "Pulling SAN's ActiveAddress\n"
     ]
    },
    {
     "name": "stderr",
     "output_type": "stream",
     "text": [
      " 79%|███████▉  | 98/124 [02:23<00:34,  1.32s/it]"
     ]
    },
    {
     "name": "stdout",
     "output_type": "stream",
     "text": [
      "\n",
      "SAN data successfully pulled\n",
      "\n",
      "\n",
      "Start Pulling SNT's data:\n",
      "Pulling SNT's Price\n",
      "Pulling SNT's MarketCap\n",
      "Pulling SNT's ActiveAddress\n"
     ]
    },
    {
     "name": "stderr",
     "output_type": "stream",
     "text": [
      " 80%|███████▉  | 99/124 [02:25<00:36,  1.46s/it]"
     ]
    },
    {
     "name": "stdout",
     "output_type": "stream",
     "text": [
      "\n",
      "SNT data successfully pulled\n",
      "\n",
      "\n",
      "Start Pulling SNX's data:\n",
      "Pulling SNX's Price\n",
      "Pulling SNX's MarketCap\n",
      "Pulling SNX's ActiveAddress\n"
     ]
    },
    {
     "name": "stderr",
     "output_type": "stream",
     "text": [
      " 81%|████████  | 100/124 [02:26<00:34,  1.42s/it]"
     ]
    },
    {
     "name": "stdout",
     "output_type": "stream",
     "text": [
      "\n",
      "SNX data successfully pulled\n",
      "\n",
      "\n",
      "Start Pulling STAKE's data:\n",
      "Pulling STAKE's Price\n",
      "Pulling STAKE's MarketCap\n",
      "Pulling STAKE's ActiveAddress\n"
     ]
    },
    {
     "name": "stderr",
     "output_type": "stream",
     "text": [
      " 81%|████████▏ | 101/124 [02:27<00:31,  1.35s/it]"
     ]
    },
    {
     "name": "stdout",
     "output_type": "stream",
     "text": [
      "\n",
      "STAKE data successfully pulled\n",
      "\n",
      "\n",
      "Start Pulling STORJ's data:\n",
      "Pulling STORJ's Price\n",
      "Pulling STORJ's MarketCap\n",
      "Pulling STORJ's ActiveAddress\n"
     ]
    },
    {
     "name": "stderr",
     "output_type": "stream",
     "text": [
      " 82%|████████▏ | 102/124 [02:29<00:28,  1.31s/it]"
     ]
    },
    {
     "name": "stdout",
     "output_type": "stream",
     "text": [
      "\n",
      "STORJ data successfully pulled\n",
      "\n",
      "\n",
      "Start Pulling sUSD's data:\n",
      "Pulling sUSD's Price\n",
      "Pulling sUSD's MarketCap\n",
      "Pulling sUSD's ActiveAddress\n"
     ]
    },
    {
     "name": "stderr",
     "output_type": "stream",
     "text": [
      " 83%|████████▎ | 103/124 [02:30<00:26,  1.26s/it]"
     ]
    },
    {
     "name": "stdout",
     "output_type": "stream",
     "text": [
      "\n",
      "sUSD data successfully pulled\n",
      "\n",
      "\n",
      "Start Pulling SUSHI's data:\n",
      "Pulling SUSHI's Price\n",
      "Pulling SUSHI's MarketCap\n",
      "Pulling SUSHI's ActiveAddress\n"
     ]
    },
    {
     "name": "stderr",
     "output_type": "stream",
     "text": [
      " 84%|████████▍ | 104/124 [02:31<00:24,  1.23s/it]"
     ]
    },
    {
     "name": "stdout",
     "output_type": "stream",
     "text": [
      "\n",
      "SUSHI data successfully pulled\n",
      "\n",
      "\n",
      "Start Pulling TEL's data:\n",
      "Pulling TEL's Price\n",
      "Pulling TEL's MarketCap\n",
      "Pulling TEL's ActiveAddress\n"
     ]
    },
    {
     "name": "stderr",
     "output_type": "stream",
     "text": [
      " 85%|████████▍ | 105/124 [02:32<00:22,  1.19s/it]"
     ]
    },
    {
     "name": "stdout",
     "output_type": "stream",
     "text": [
      "\n",
      "TEL data successfully pulled\n",
      "\n",
      "\n",
      "Start Pulling TOP's data:\n",
      "Pulling TOP's Price\n",
      "Pulling TOP's MarketCap\n",
      "Pulling TOP's ActiveAddress\n"
     ]
    },
    {
     "name": "stderr",
     "output_type": "stream",
     "text": [
      " 85%|████████▌ | 106/124 [02:33<00:21,  1.21s/it]"
     ]
    },
    {
     "name": "stdout",
     "output_type": "stream",
     "text": [
      "\n",
      "TOP data successfully pulled\n",
      "\n",
      "\n",
      "Start Pulling UBT's data:\n",
      "Pulling UBT's Price\n",
      "Pulling UBT's MarketCap\n",
      "Pulling UBT's ActiveAddress\n"
     ]
    },
    {
     "name": "stderr",
     "output_type": "stream",
     "text": [
      " 86%|████████▋ | 107/124 [02:35<00:20,  1.21s/it]"
     ]
    },
    {
     "name": "stdout",
     "output_type": "stream",
     "text": [
      "\n",
      "UBT data successfully pulled\n",
      "\n",
      "\n",
      "Start Pulling UMA's data:\n",
      "Pulling UMA's Price\n",
      "Pulling UMA's MarketCap\n",
      "Pulling UMA's ActiveAddress\n"
     ]
    },
    {
     "name": "stderr",
     "output_type": "stream",
     "text": [
      " 87%|████████▋ | 108/124 [02:36<00:19,  1.19s/it]"
     ]
    },
    {
     "name": "stdout",
     "output_type": "stream",
     "text": [
      "\n",
      "UMA data successfully pulled\n",
      "\n",
      "\n",
      "Start Pulling UNI's data:\n",
      "Pulling UNI's Price\n",
      "Pulling UNI's MarketCap\n",
      "Pulling UNI's ActiveAddress\n"
     ]
    },
    {
     "name": "stderr",
     "output_type": "stream",
     "text": [
      " 88%|████████▊ | 109/124 [02:37<00:17,  1.16s/it]"
     ]
    },
    {
     "name": "stdout",
     "output_type": "stream",
     "text": [
      "\n",
      "UNI data successfully pulled\n",
      "\n",
      "\n",
      "Start Pulling USDC's data:\n",
      "Pulling USDC's Price\n",
      "Pulling USDC's MarketCap\n",
      "Pulling USDC's ActiveAddress\n"
     ]
    },
    {
     "name": "stderr",
     "output_type": "stream",
     "text": [
      " 89%|████████▊ | 110/124 [02:38<00:16,  1.15s/it]"
     ]
    },
    {
     "name": "stdout",
     "output_type": "stream",
     "text": [
      "\n",
      "USDC data successfully pulled\n",
      "\n",
      "\n",
      "Start Pulling USDK's data:\n",
      "Pulling USDK's Price\n",
      "Pulling USDK's MarketCap\n",
      "Pulling USDK's ActiveAddress\n"
     ]
    },
    {
     "name": "stderr",
     "output_type": "stream",
     "text": [
      " 90%|████████▉ | 111/124 [02:39<00:14,  1.13s/it]"
     ]
    },
    {
     "name": "stdout",
     "output_type": "stream",
     "text": [
      "\n",
      "USDK data successfully pulled\n",
      "\n",
      "\n",
      "Start Pulling USDP's data:\n",
      "Pulling USDP's Price\n",
      "Pulling USDP's MarketCap\n",
      "Pulling USDP's ActiveAddress\n"
     ]
    },
    {
     "name": "stderr",
     "output_type": "stream",
     "text": [
      " 90%|█████████ | 112/124 [02:40<00:13,  1.14s/it]"
     ]
    },
    {
     "name": "stdout",
     "output_type": "stream",
     "text": [
      "\n",
      "USDP data successfully pulled\n",
      "\n",
      "\n",
      "Start Pulling USDT's data:\n",
      "Pulling USDT's Price\n",
      "Pulling USDT's MarketCap\n",
      "Pulling USDT's ActiveAddress\n"
     ]
    },
    {
     "name": "stderr",
     "output_type": "stream",
     "text": [
      " 91%|█████████ | 113/124 [02:41<00:12,  1.13s/it]"
     ]
    },
    {
     "name": "stdout",
     "output_type": "stream",
     "text": [
      "\n",
      "USDT data successfully pulled\n",
      "\n",
      "\n",
      "Start Pulling UTK's data:\n",
      "Pulling UTK's Price\n",
      "Pulling UTK's MarketCap\n",
      "Pulling UTK's ActiveAddress\n"
     ]
    },
    {
     "name": "stderr",
     "output_type": "stream",
     "text": [
      " 92%|█████████▏| 114/124 [02:43<00:13,  1.36s/it]"
     ]
    },
    {
     "name": "stdout",
     "output_type": "stream",
     "text": [
      "\n",
      "UTK data successfully pulled\n",
      "\n",
      "\n",
      "Start Pulling VERI's data:\n",
      "Pulling VERI's Price\n",
      "Pulling VERI's MarketCap\n",
      "Pulling VERI's ActiveAddress\n"
     ]
    },
    {
     "name": "stderr",
     "output_type": "stream",
     "text": [
      " 93%|█████████▎| 115/124 [02:45<00:12,  1.38s/it]"
     ]
    },
    {
     "name": "stdout",
     "output_type": "stream",
     "text": [
      "\n",
      "VERI data successfully pulled\n",
      "\n",
      "\n",
      "Start Pulling WaBi's data:\n",
      "Pulling WaBi's Price\n",
      "Pulling WaBi's MarketCap\n",
      "Pulling WaBi's ActiveAddress\n"
     ]
    },
    {
     "name": "stderr",
     "output_type": "stream",
     "text": [
      " 94%|█████████▎| 116/124 [02:46<00:11,  1.38s/it]"
     ]
    },
    {
     "name": "stdout",
     "output_type": "stream",
     "text": [
      "\n",
      "WaBi data successfully pulled\n",
      "\n",
      "\n",
      "Start Pulling WAX's data:\n",
      "Pulling WAX's Price\n",
      "Pulling WAX's MarketCap\n",
      "Pulling WAX's ActiveAddress\n"
     ]
    },
    {
     "name": "stderr",
     "output_type": "stream",
     "text": [
      " 94%|█████████▍| 117/124 [02:47<00:09,  1.34s/it]"
     ]
    },
    {
     "name": "stdout",
     "output_type": "stream",
     "text": [
      "\n",
      "WAX data successfully pulled\n",
      "\n",
      "\n",
      "Start Pulling WBTC's data:\n",
      "Pulling WBTC's Price\n",
      "Pulling WBTC's MarketCap\n",
      "Pulling WBTC's ActiveAddress\n"
     ]
    },
    {
     "name": "stderr",
     "output_type": "stream",
     "text": [
      " 95%|█████████▌| 118/124 [02:48<00:07,  1.31s/it]"
     ]
    },
    {
     "name": "stdout",
     "output_type": "stream",
     "text": [
      "\n",
      "WBTC data successfully pulled\n",
      "\n",
      "\n",
      "Start Pulling WETH's data:\n",
      "Pulling WETH's Price\n",
      "Pulling WETH's MarketCap\n",
      "Pulling WETH's ActiveAddress\n"
     ]
    },
    {
     "name": "stderr",
     "output_type": "stream",
     "text": [
      " 96%|█████████▌| 119/124 [02:50<00:06,  1.29s/it]"
     ]
    },
    {
     "name": "stdout",
     "output_type": "stream",
     "text": [
      "\n",
      "WETH data successfully pulled\n",
      "\n",
      "\n",
      "Start Pulling wNXM's data:\n",
      "Pulling wNXM's Price\n",
      "Pulling wNXM's MarketCap\n",
      "Pulling wNXM's ActiveAddress\n"
     ]
    },
    {
     "name": "stderr",
     "output_type": "stream",
     "text": [
      " 97%|█████████▋| 120/124 [02:51<00:05,  1.27s/it]"
     ]
    },
    {
     "name": "stdout",
     "output_type": "stream",
     "text": [
      "\n",
      "wNXM data successfully pulled\n",
      "\n",
      "\n",
      "Start Pulling WTC's data:\n",
      "Pulling WTC's Price\n",
      "Pulling WTC's MarketCap\n",
      "Pulling WTC's ActiveAddress\n"
     ]
    },
    {
     "name": "stderr",
     "output_type": "stream",
     "text": [
      " 98%|█████████▊| 121/124 [02:52<00:03,  1.24s/it]"
     ]
    },
    {
     "name": "stdout",
     "output_type": "stream",
     "text": [
      "\n",
      "WTC data successfully pulled\n",
      "\n",
      "\n",
      "Start Pulling YAM's data:\n",
      "Pulling YAM's Price\n",
      "Pulling YAM's MarketCap\n",
      "Pulling YAM's ActiveAddress\n"
     ]
    },
    {
     "name": "stderr",
     "output_type": "stream",
     "text": [
      " 98%|█████████▊| 122/124 [02:53<00:02,  1.22s/it]"
     ]
    },
    {
     "name": "stdout",
     "output_type": "stream",
     "text": [
      "\n",
      "YAM data successfully pulled\n",
      "\n",
      "\n",
      "Start Pulling YFI's data:\n",
      "Pulling YFI's Price\n",
      "Pulling YFI's MarketCap\n",
      "Pulling YFI's ActiveAddress\n"
     ]
    },
    {
     "name": "stderr",
     "output_type": "stream",
     "text": [
      " 99%|█████████▉| 123/124 [02:54<00:01,  1.22s/it]"
     ]
    },
    {
     "name": "stdout",
     "output_type": "stream",
     "text": [
      "\n",
      "YFI data successfully pulled\n",
      "\n",
      "\n",
      "Start Pulling ZRX's data:\n",
      "Pulling ZRX's Price\n",
      "Pulling ZRX's MarketCap\n",
      "Pulling ZRX's ActiveAddress\n"
     ]
    },
    {
     "name": "stderr",
     "output_type": "stream",
     "text": [
      "100%|██████████| 124/124 [02:56<00:00,  1.42s/it]"
     ]
    },
    {
     "name": "stdout",
     "output_type": "stream",
     "text": [
      "\n",
      "ZRX data successfully pulled\n",
      "\n",
      "All Frames Merged\n",
      "\n",
      "ALL DATA SUCCESSFULLY PULLED!\n"
     ]
    },
    {
     "name": "stderr",
     "output_type": "stream",
     "text": [
      "\n"
     ]
    }
   ],
   "source": [
    "# Get fullSample Raw Data(Without Return)\n",
    "fullSample_raw = PullStart(symbolList)"
   ]
  },
  {
   "cell_type": "code",
   "execution_count": 70,
   "metadata": {
    "hidden": true,
    "id": "cHy6OiCIFpTG"
   },
   "outputs": [],
   "source": [
    "# Add Return to fullSample\n",
    "fullSample_add = AddReturn(fullSample_raw)"
   ]
  },
  {
   "cell_type": "code",
   "execution_count": 71,
   "metadata": {
    "colab": {
     "base_uri": "https://localhost:8080/",
     "height": 424
    },
    "hidden": true,
    "id": "OF6MNKcHFpTH",
    "outputId": "fa7d821a-6863-4024-d205-2871b3ebbfc1"
   },
   "outputs": [
    {
     "data": {
      "text/html": [
       "<div>\n",
       "<style scoped>\n",
       "    .dataframe tbody tr th:only-of-type {\n",
       "        vertical-align: middle;\n",
       "    }\n",
       "\n",
       "    .dataframe tbody tr th {\n",
       "        vertical-align: top;\n",
       "    }\n",
       "\n",
       "    .dataframe thead th {\n",
       "        text-align: right;\n",
       "    }\n",
       "</style>\n",
       "<table border=\"1\" class=\"dataframe\">\n",
       "  <thead>\n",
       "    <tr style=\"text-align: right;\">\n",
       "      <th></th>\n",
       "      <th>Date</th>\n",
       "      <th>Price</th>\n",
       "      <th>MarketCap</th>\n",
       "      <th>ActiveAddress</th>\n",
       "      <th>RiskFree</th>\n",
       "      <th>Asset</th>\n",
       "      <th>Return</th>\n",
       "      <th>week2_return</th>\n",
       "      <th>Npast52_return</th>\n",
       "      <th>ExcessReturn</th>\n",
       "    </tr>\n",
       "  </thead>\n",
       "  <tbody>\n",
       "    <tr>\n",
       "      <th>0</th>\n",
       "      <td>2021-05-03</td>\n",
       "      <td>58218.566077</td>\n",
       "      <td>1.088991e+12</td>\n",
       "      <td>6622607.0</td>\n",
       "      <td>0.0001</td>\n",
       "      <td>BTC</td>\n",
       "      <td>0.028357</td>\n",
       "      <td>0.187168</td>\n",
       "      <td>5.020518</td>\n",
       "      <td>0.028257</td>\n",
       "    </tr>\n",
       "    <tr>\n",
       "      <th>1</th>\n",
       "      <td>2021-05-10</td>\n",
       "      <td>46406.331544</td>\n",
       "      <td>8.683518e+11</td>\n",
       "      <td>6062366.0</td>\n",
       "      <td>0.0001</td>\n",
       "      <td>BTC</td>\n",
       "      <td>-0.202895</td>\n",
       "      <td>-0.180291</td>\n",
       "      <td>4.277670</td>\n",
       "      <td>-0.202995</td>\n",
       "    </tr>\n",
       "    <tr>\n",
       "      <th>2</th>\n",
       "      <td>2021-05-17</td>\n",
       "      <td>34888.678313</td>\n",
       "      <td>6.530094e+11</td>\n",
       "      <td>4960283.0</td>\n",
       "      <td>0.0001</td>\n",
       "      <td>BTC</td>\n",
       "      <td>-0.248191</td>\n",
       "      <td>-0.400729</td>\n",
       "      <td>2.690965</td>\n",
       "      <td>-0.248291</td>\n",
       "    </tr>\n",
       "    <tr>\n",
       "      <th>3</th>\n",
       "      <td>2021-05-24</td>\n",
       "      <td>35639.981455</td>\n",
       "      <td>6.672647e+11</td>\n",
       "      <td>4981835.0</td>\n",
       "      <td>0.0000</td>\n",
       "      <td>BTC</td>\n",
       "      <td>0.021534</td>\n",
       "      <td>-0.232002</td>\n",
       "      <td>2.651751</td>\n",
       "      <td>0.021534</td>\n",
       "    </tr>\n",
       "    <tr>\n",
       "      <th>4</th>\n",
       "      <td>2021-05-31</td>\n",
       "      <td>35797.422390</td>\n",
       "      <td>6.704378e+11</td>\n",
       "      <td>4893673.0</td>\n",
       "      <td>0.0001</td>\n",
       "      <td>BTC</td>\n",
       "      <td>0.004418</td>\n",
       "      <td>0.026047</td>\n",
       "      <td>2.813597</td>\n",
       "      <td>0.004318</td>\n",
       "    </tr>\n",
       "    <tr>\n",
       "      <th>...</th>\n",
       "      <td>...</td>\n",
       "      <td>...</td>\n",
       "      <td>...</td>\n",
       "      <td>...</td>\n",
       "      <td>...</td>\n",
       "      <td>...</td>\n",
       "      <td>...</td>\n",
       "      <td>...</td>\n",
       "      <td>...</td>\n",
       "      <td>...</td>\n",
       "    </tr>\n",
       "    <tr>\n",
       "      <th>6287</th>\n",
       "      <td>2022-03-28</td>\n",
       "      <td>0.910632</td>\n",
       "      <td>7.717570e+08</td>\n",
       "      <td>835.0</td>\n",
       "      <td>0.0017</td>\n",
       "      <td>ZRX</td>\n",
       "      <td>0.254326</td>\n",
       "      <td>0.654764</td>\n",
       "      <td>-0.574214</td>\n",
       "      <td>0.252626</td>\n",
       "    </tr>\n",
       "    <tr>\n",
       "      <th>6288</th>\n",
       "      <td>2022-04-04</td>\n",
       "      <td>0.754619</td>\n",
       "      <td>6.395366e+08</td>\n",
       "      <td>1284.0</td>\n",
       "      <td>0.0017</td>\n",
       "      <td>ZRX</td>\n",
       "      <td>-0.171324</td>\n",
       "      <td>0.039430</td>\n",
       "      <td>-0.567780</td>\n",
       "      <td>-0.173024</td>\n",
       "    </tr>\n",
       "    <tr>\n",
       "      <th>6289</th>\n",
       "      <td>2022-04-11</td>\n",
       "      <td>0.686854</td>\n",
       "      <td>5.821057e+08</td>\n",
       "      <td>1266.0</td>\n",
       "      <td>0.0020</td>\n",
       "      <td>ZRX</td>\n",
       "      <td>-0.089801</td>\n",
       "      <td>-0.245740</td>\n",
       "      <td>-0.487158</td>\n",
       "      <td>-0.091801</td>\n",
       "    </tr>\n",
       "    <tr>\n",
       "      <th>6290</th>\n",
       "      <td>2022-04-18</td>\n",
       "      <td>0.808817</td>\n",
       "      <td>6.854696e+08</td>\n",
       "      <td>2274.0</td>\n",
       "      <td>0.0031</td>\n",
       "      <td>ZRX</td>\n",
       "      <td>0.177569</td>\n",
       "      <td>0.071822</td>\n",
       "      <td>-0.567022</td>\n",
       "      <td>0.174469</td>\n",
       "    </tr>\n",
       "    <tr>\n",
       "      <th>6291</th>\n",
       "      <td>2022-04-25</td>\n",
       "      <td>0.717148</td>\n",
       "      <td>6.077804e+08</td>\n",
       "      <td>1699.0</td>\n",
       "      <td>0.0042</td>\n",
       "      <td>ZRX</td>\n",
       "      <td>-0.113337</td>\n",
       "      <td>0.044106</td>\n",
       "      <td>-0.633263</td>\n",
       "      <td>-0.117537</td>\n",
       "    </tr>\n",
       "  </tbody>\n",
       "</table>\n",
       "<p>6292 rows × 10 columns</p>\n",
       "</div>"
      ],
      "text/plain": [
       "           Date         Price     MarketCap  ActiveAddress  RiskFree Asset  \\\n",
       "0    2021-05-03  58218.566077  1.088991e+12      6622607.0    0.0001   BTC   \n",
       "1    2021-05-10  46406.331544  8.683518e+11      6062366.0    0.0001   BTC   \n",
       "2    2021-05-17  34888.678313  6.530094e+11      4960283.0    0.0001   BTC   \n",
       "3    2021-05-24  35639.981455  6.672647e+11      4981835.0    0.0000   BTC   \n",
       "4    2021-05-31  35797.422390  6.704378e+11      4893673.0    0.0001   BTC   \n",
       "...         ...           ...           ...            ...       ...   ...   \n",
       "6287 2022-03-28      0.910632  7.717570e+08          835.0    0.0017   ZRX   \n",
       "6288 2022-04-04      0.754619  6.395366e+08         1284.0    0.0017   ZRX   \n",
       "6289 2022-04-11      0.686854  5.821057e+08         1266.0    0.0020   ZRX   \n",
       "6290 2022-04-18      0.808817  6.854696e+08         2274.0    0.0031   ZRX   \n",
       "6291 2022-04-25      0.717148  6.077804e+08         1699.0    0.0042   ZRX   \n",
       "\n",
       "        Return  week2_return  Npast52_return  ExcessReturn  \n",
       "0     0.028357      0.187168        5.020518      0.028257  \n",
       "1    -0.202895     -0.180291        4.277670     -0.202995  \n",
       "2    -0.248191     -0.400729        2.690965     -0.248291  \n",
       "3     0.021534     -0.232002        2.651751      0.021534  \n",
       "4     0.004418      0.026047        2.813597      0.004318  \n",
       "...        ...           ...             ...           ...  \n",
       "6287  0.254326      0.654764       -0.574214      0.252626  \n",
       "6288 -0.171324      0.039430       -0.567780     -0.173024  \n",
       "6289 -0.089801     -0.245740       -0.487158     -0.091801  \n",
       "6290  0.177569      0.071822       -0.567022      0.174469  \n",
       "6291 -0.113337      0.044106       -0.633263     -0.117537  \n",
       "\n",
       "[6292 rows x 10 columns]"
      ]
     },
     "execution_count": 71,
     "metadata": {},
     "output_type": "execute_result"
    }
   ],
   "source": [
    "# Impute missing value using interploration method\n",
    "fullSample = InterpolationImpute(fullSample_add)\n",
    "fullSample"
   ]
  },
  {
   "cell_type": "markdown",
   "metadata": {
    "id": "d75HqlreFpTH"
   },
   "source": [
    "## <font color='green'> test"
   ]
  },
  {
   "cell_type": "code",
   "execution_count": 72,
   "metadata": {
    "id": "f8x02CTbFpTH",
    "outputId": "e5e7844b-cf6a-44a8-ba91-4c69929b342b"
   },
   "outputs": [
    {
     "data": {
      "text/plain": [
       "Date                0\n",
       "Price               0\n",
       "MarketCap           0\n",
       "ActiveAddress       0\n",
       "RiskFree            0\n",
       "Asset               0\n",
       "Return              0\n",
       "week2_return        0\n",
       "Npast52_return    616\n",
       "ExcessReturn        0\n",
       "dtype: int64"
      ]
     },
     "execution_count": 72,
     "metadata": {},
     "output_type": "execute_result"
    }
   ],
   "source": [
    "fullSample.isna().sum()"
   ]
  },
  {
   "cell_type": "code",
   "execution_count": 73,
   "metadata": {
    "id": "aef4PSeLFpTI",
    "outputId": "fcf2a34e-f66e-475f-e824-18e053068d16"
   },
   "outputs": [
    {
     "data": {
      "text/plain": [
       "array(['AAVE', 'ARMOR', 'BADGER', 'BAL', 'BOND', 'BZRX', 'COMP', 'CREAM',\n",
       "       'CRV', 'CVP', 'DDX', 'DHT', 'DMG', 'DODO', 'DOUGH', 'HEGIC',\n",
       "       'INDEX', 'LDO', 'MCB', 'MIR', 'MTA', 'NFTX', 'Nsure', 'PERP',\n",
       "       'PICKLE', 'PNT', 'ROOK', 'STAKE', 'SUSHI', 'UMA', 'UNI', 'wNXM',\n",
       "       'YAM', 'YFI'], dtype=object)"
      ]
     },
     "execution_count": 73,
     "metadata": {},
     "output_type": "execute_result"
    }
   ],
   "source": [
    "pricenul = fullSample[fullSample['Npast52_return'].isnull()]\n",
    "pricenul.Asset.unique()"
   ]
  },
  {
   "cell_type": "code",
   "execution_count": 74,
   "metadata": {
    "id": "wkfslBiVFpTI",
    "outputId": "e8f24ebc-662c-4a40-ea10-6728c51f15ba"
   },
   "outputs": [
    {
     "data": {
      "text/html": [
       "<div>\n",
       "<style scoped>\n",
       "    .dataframe tbody tr th:only-of-type {\n",
       "        vertical-align: middle;\n",
       "    }\n",
       "\n",
       "    .dataframe tbody tr th {\n",
       "        vertical-align: top;\n",
       "    }\n",
       "\n",
       "    .dataframe thead th {\n",
       "        text-align: right;\n",
       "    }\n",
       "</style>\n",
       "<table border=\"1\" class=\"dataframe\">\n",
       "  <thead>\n",
       "    <tr style=\"text-align: right;\">\n",
       "      <th></th>\n",
       "      <th>Date</th>\n",
       "      <th>Price</th>\n",
       "      <th>MarketCap</th>\n",
       "      <th>ActiveAddress</th>\n",
       "      <th>RiskFree</th>\n",
       "      <th>Asset</th>\n",
       "      <th>Return</th>\n",
       "      <th>week2_return</th>\n",
       "      <th>Npast52_return</th>\n",
       "      <th>ExcessReturn</th>\n",
       "    </tr>\n",
       "  </thead>\n",
       "  <tbody>\n",
       "    <tr>\n",
       "      <th>156</th>\n",
       "      <td>2021-05-03</td>\n",
       "      <td>459.310213</td>\n",
       "      <td>5.735887e+09</td>\n",
       "      <td>9738.0</td>\n",
       "      <td>0.0001</td>\n",
       "      <td>AAVE</td>\n",
       "      <td>-0.049263</td>\n",
       "      <td>0.324384</td>\n",
       "      <td>NaN</td>\n",
       "      <td>-0.049363</td>\n",
       "    </tr>\n",
       "    <tr>\n",
       "      <th>157</th>\n",
       "      <td>2021-05-10</td>\n",
       "      <td>525.296787</td>\n",
       "      <td>6.648981e+09</td>\n",
       "      <td>10036.0</td>\n",
       "      <td>0.0001</td>\n",
       "      <td>AAVE</td>\n",
       "      <td>0.143665</td>\n",
       "      <td>0.087325</td>\n",
       "      <td>NaN</td>\n",
       "      <td>0.143565</td>\n",
       "    </tr>\n",
       "    <tr>\n",
       "      <th>158</th>\n",
       "      <td>2021-05-17</td>\n",
       "      <td>296.307038</td>\n",
       "      <td>3.779533e+09</td>\n",
       "      <td>12152.0</td>\n",
       "      <td>0.0001</td>\n",
       "      <td>AAVE</td>\n",
       "      <td>-0.435925</td>\n",
       "      <td>-0.354887</td>\n",
       "      <td>NaN</td>\n",
       "      <td>-0.436025</td>\n",
       "    </tr>\n",
       "    <tr>\n",
       "      <th>159</th>\n",
       "      <td>2021-05-24</td>\n",
       "      <td>324.282384</td>\n",
       "      <td>4.141262e+09</td>\n",
       "      <td>11055.0</td>\n",
       "      <td>0.0000</td>\n",
       "      <td>AAVE</td>\n",
       "      <td>0.094413</td>\n",
       "      <td>-0.382668</td>\n",
       "      <td>NaN</td>\n",
       "      <td>0.094413</td>\n",
       "    </tr>\n",
       "    <tr>\n",
       "      <th>160</th>\n",
       "      <td>2021-05-31</td>\n",
       "      <td>365.167460</td>\n",
       "      <td>4.669538e+09</td>\n",
       "      <td>7849.0</td>\n",
       "      <td>0.0001</td>\n",
       "      <td>AAVE</td>\n",
       "      <td>0.126079</td>\n",
       "      <td>0.232395</td>\n",
       "      <td>NaN</td>\n",
       "      <td>0.125979</td>\n",
       "    </tr>\n",
       "    <tr>\n",
       "      <th>161</th>\n",
       "      <td>2021-06-07</td>\n",
       "      <td>316.462816</td>\n",
       "      <td>4.048896e+09</td>\n",
       "      <td>8957.0</td>\n",
       "      <td>0.0001</td>\n",
       "      <td>AAVE</td>\n",
       "      <td>-0.133376</td>\n",
       "      <td>-0.024113</td>\n",
       "      <td>NaN</td>\n",
       "      <td>-0.133476</td>\n",
       "    </tr>\n",
       "    <tr>\n",
       "      <th>162</th>\n",
       "      <td>2021-06-14</td>\n",
       "      <td>273.695401</td>\n",
       "      <td>3.502813e+09</td>\n",
       "      <td>7634.0</td>\n",
       "      <td>0.0001</td>\n",
       "      <td>AAVE</td>\n",
       "      <td>-0.135142</td>\n",
       "      <td>-0.250493</td>\n",
       "      <td>NaN</td>\n",
       "      <td>-0.135242</td>\n",
       "    </tr>\n",
       "    <tr>\n",
       "      <th>163</th>\n",
       "      <td>2021-06-21</td>\n",
       "      <td>202.421695</td>\n",
       "      <td>2.592849e+09</td>\n",
       "      <td>7848.0</td>\n",
       "      <td>0.0004</td>\n",
       "      <td>AAVE</td>\n",
       "      <td>-0.260413</td>\n",
       "      <td>-0.360362</td>\n",
       "      <td>NaN</td>\n",
       "      <td>-0.260813</td>\n",
       "    </tr>\n",
       "    <tr>\n",
       "      <th>164</th>\n",
       "      <td>2021-06-28</td>\n",
       "      <td>277.089061</td>\n",
       "      <td>3.554832e+09</td>\n",
       "      <td>4889.0</td>\n",
       "      <td>0.0004</td>\n",
       "      <td>AAVE</td>\n",
       "      <td>0.368870</td>\n",
       "      <td>0.012399</td>\n",
       "      <td>NaN</td>\n",
       "      <td>0.368470</td>\n",
       "    </tr>\n",
       "    <tr>\n",
       "      <th>165</th>\n",
       "      <td>2021-07-05</td>\n",
       "      <td>304.400519</td>\n",
       "      <td>3.906758e+09</td>\n",
       "      <td>7828.0</td>\n",
       "      <td>0.0005</td>\n",
       "      <td>AAVE</td>\n",
       "      <td>0.098566</td>\n",
       "      <td>0.503794</td>\n",
       "      <td>NaN</td>\n",
       "      <td>0.098066</td>\n",
       "    </tr>\n",
       "    <tr>\n",
       "      <th>166</th>\n",
       "      <td>2021-07-12</td>\n",
       "      <td>255.608178</td>\n",
       "      <td>3.281887e+09</td>\n",
       "      <td>6129.0</td>\n",
       "      <td>0.0005</td>\n",
       "      <td>AAVE</td>\n",
       "      <td>-0.160290</td>\n",
       "      <td>-0.077523</td>\n",
       "      <td>NaN</td>\n",
       "      <td>-0.160790</td>\n",
       "    </tr>\n",
       "    <tr>\n",
       "      <th>167</th>\n",
       "      <td>2021-07-19</td>\n",
       "      <td>288.097314</td>\n",
       "      <td>3.701218e+09</td>\n",
       "      <td>6273.0</td>\n",
       "      <td>0.0005</td>\n",
       "      <td>AAVE</td>\n",
       "      <td>0.127105</td>\n",
       "      <td>-0.053558</td>\n",
       "      <td>NaN</td>\n",
       "      <td>0.126605</td>\n",
       "    </tr>\n",
       "    <tr>\n",
       "      <th>168</th>\n",
       "      <td>2021-07-26</td>\n",
       "      <td>318.657748</td>\n",
       "      <td>4.116788e+09</td>\n",
       "      <td>1235.0</td>\n",
       "      <td>0.0005</td>\n",
       "      <td>AAVE</td>\n",
       "      <td>0.106077</td>\n",
       "      <td>0.246665</td>\n",
       "      <td>NaN</td>\n",
       "      <td>0.105577</td>\n",
       "    </tr>\n",
       "    <tr>\n",
       "      <th>169</th>\n",
       "      <td>2021-08-02</td>\n",
       "      <td>361.205236</td>\n",
       "      <td>4.671780e+09</td>\n",
       "      <td>6119.0</td>\n",
       "      <td>0.0005</td>\n",
       "      <td>AAVE</td>\n",
       "      <td>0.133521</td>\n",
       "      <td>0.253761</td>\n",
       "      <td>NaN</td>\n",
       "      <td>0.133021</td>\n",
       "    </tr>\n",
       "    <tr>\n",
       "      <th>170</th>\n",
       "      <td>2021-08-09</td>\n",
       "      <td>410.472808</td>\n",
       "      <td>5.313603e+09</td>\n",
       "      <td>6237.0</td>\n",
       "      <td>0.0005</td>\n",
       "      <td>AAVE</td>\n",
       "      <td>0.136398</td>\n",
       "      <td>0.288131</td>\n",
       "      <td>NaN</td>\n",
       "      <td>0.135898</td>\n",
       "    </tr>\n",
       "    <tr>\n",
       "      <th>171</th>\n",
       "      <td>2021-08-16</td>\n",
       "      <td>401.557661</td>\n",
       "      <td>5.203482e+09</td>\n",
       "      <td>7072.0</td>\n",
       "      <td>0.0005</td>\n",
       "      <td>AAVE</td>\n",
       "      <td>-0.021719</td>\n",
       "      <td>0.111716</td>\n",
       "      <td>NaN</td>\n",
       "      <td>-0.022219</td>\n",
       "    </tr>\n",
       "    <tr>\n",
       "      <th>172</th>\n",
       "      <td>2021-08-23</td>\n",
       "      <td>366.005902</td>\n",
       "      <td>4.798074e+09</td>\n",
       "      <td>5488.0</td>\n",
       "      <td>0.0004</td>\n",
       "      <td>AAVE</td>\n",
       "      <td>-0.088535</td>\n",
       "      <td>-0.108331</td>\n",
       "      <td>NaN</td>\n",
       "      <td>-0.088935</td>\n",
       "    </tr>\n",
       "    <tr>\n",
       "      <th>173</th>\n",
       "      <td>2021-08-30</td>\n",
       "      <td>417.277678</td>\n",
       "      <td>5.487150e+09</td>\n",
       "      <td>4353.0</td>\n",
       "      <td>0.0004</td>\n",
       "      <td>AAVE</td>\n",
       "      <td>0.140085</td>\n",
       "      <td>0.039148</td>\n",
       "      <td>NaN</td>\n",
       "      <td>0.139685</td>\n",
       "    </tr>\n",
       "    <tr>\n",
       "      <th>174</th>\n",
       "      <td>2021-09-06</td>\n",
       "      <td>333.656399</td>\n",
       "      <td>4.388329e+09</td>\n",
       "      <td>6089.0</td>\n",
       "      <td>0.0004</td>\n",
       "      <td>AAVE</td>\n",
       "      <td>-0.200397</td>\n",
       "      <td>-0.088385</td>\n",
       "      <td>NaN</td>\n",
       "      <td>-0.200797</td>\n",
       "    </tr>\n",
       "    <tr>\n",
       "      <th>175</th>\n",
       "      <td>2021-09-13</td>\n",
       "      <td>340.001959</td>\n",
       "      <td>4.480264e+09</td>\n",
       "      <td>5971.0</td>\n",
       "      <td>0.0006</td>\n",
       "      <td>AAVE</td>\n",
       "      <td>0.019018</td>\n",
       "      <td>-0.185190</td>\n",
       "      <td>NaN</td>\n",
       "      <td>0.018418</td>\n",
       "    </tr>\n",
       "  </tbody>\n",
       "</table>\n",
       "</div>"
      ],
      "text/plain": [
       "          Date       Price     MarketCap  ActiveAddress  RiskFree Asset  \\\n",
       "156 2021-05-03  459.310213  5.735887e+09         9738.0    0.0001  AAVE   \n",
       "157 2021-05-10  525.296787  6.648981e+09        10036.0    0.0001  AAVE   \n",
       "158 2021-05-17  296.307038  3.779533e+09        12152.0    0.0001  AAVE   \n",
       "159 2021-05-24  324.282384  4.141262e+09        11055.0    0.0000  AAVE   \n",
       "160 2021-05-31  365.167460  4.669538e+09         7849.0    0.0001  AAVE   \n",
       "161 2021-06-07  316.462816  4.048896e+09         8957.0    0.0001  AAVE   \n",
       "162 2021-06-14  273.695401  3.502813e+09         7634.0    0.0001  AAVE   \n",
       "163 2021-06-21  202.421695  2.592849e+09         7848.0    0.0004  AAVE   \n",
       "164 2021-06-28  277.089061  3.554832e+09         4889.0    0.0004  AAVE   \n",
       "165 2021-07-05  304.400519  3.906758e+09         7828.0    0.0005  AAVE   \n",
       "166 2021-07-12  255.608178  3.281887e+09         6129.0    0.0005  AAVE   \n",
       "167 2021-07-19  288.097314  3.701218e+09         6273.0    0.0005  AAVE   \n",
       "168 2021-07-26  318.657748  4.116788e+09         1235.0    0.0005  AAVE   \n",
       "169 2021-08-02  361.205236  4.671780e+09         6119.0    0.0005  AAVE   \n",
       "170 2021-08-09  410.472808  5.313603e+09         6237.0    0.0005  AAVE   \n",
       "171 2021-08-16  401.557661  5.203482e+09         7072.0    0.0005  AAVE   \n",
       "172 2021-08-23  366.005902  4.798074e+09         5488.0    0.0004  AAVE   \n",
       "173 2021-08-30  417.277678  5.487150e+09         4353.0    0.0004  AAVE   \n",
       "174 2021-09-06  333.656399  4.388329e+09         6089.0    0.0004  AAVE   \n",
       "175 2021-09-13  340.001959  4.480264e+09         5971.0    0.0006  AAVE   \n",
       "\n",
       "       Return  week2_return  Npast52_return  ExcessReturn  \n",
       "156 -0.049263      0.324384             NaN     -0.049363  \n",
       "157  0.143665      0.087325             NaN      0.143565  \n",
       "158 -0.435925     -0.354887             NaN     -0.436025  \n",
       "159  0.094413     -0.382668             NaN      0.094413  \n",
       "160  0.126079      0.232395             NaN      0.125979  \n",
       "161 -0.133376     -0.024113             NaN     -0.133476  \n",
       "162 -0.135142     -0.250493             NaN     -0.135242  \n",
       "163 -0.260413     -0.360362             NaN     -0.260813  \n",
       "164  0.368870      0.012399             NaN      0.368470  \n",
       "165  0.098566      0.503794             NaN      0.098066  \n",
       "166 -0.160290     -0.077523             NaN     -0.160790  \n",
       "167  0.127105     -0.053558             NaN      0.126605  \n",
       "168  0.106077      0.246665             NaN      0.105577  \n",
       "169  0.133521      0.253761             NaN      0.133021  \n",
       "170  0.136398      0.288131             NaN      0.135898  \n",
       "171 -0.021719      0.111716             NaN     -0.022219  \n",
       "172 -0.088535     -0.108331             NaN     -0.088935  \n",
       "173  0.140085      0.039148             NaN      0.139685  \n",
       "174 -0.200397     -0.088385             NaN     -0.200797  \n",
       "175  0.019018     -0.185190             NaN      0.018418  "
      ]
     },
     "execution_count": 74,
     "metadata": {},
     "output_type": "execute_result"
    }
   ],
   "source": [
    "pricenul.query(\" (Asset == 'AAVE') \")"
   ]
  },
  {
   "cell_type": "code",
   "execution_count": 75,
   "metadata": {},
   "outputs": [],
   "source": [
    "t1=fullSample_add.query(\"MarketCap < 10\") \n",
    "t2=fullSample_add.query(\"MarketCap == 0\") "
   ]
  },
  {
   "cell_type": "markdown",
   "metadata": {
    "id": "JfDbaHguFpTI"
   },
   "source": [
    "## 2. MKT Factor (Fiona)"
   ]
  },
  {
   "cell_type": "markdown",
   "metadata": {
    "id": "gu1BtmNKFpTI"
   },
   "source": [
    "### 1.1Get the large capitalization portfolio - largeCapSample\n",
    "Use (maket cap > 1m and top 100) to set up market porfolio"
   ]
  },
  {
   "cell_type": "code",
   "execution_count": 78,
   "metadata": {
    "id": "QGURRFXFFpTJ"
   },
   "outputs": [],
   "source": [
    "largeCapport = fullSample.query(\"MarketCap > 1000000\")\n",
    "largeCapSample = largeCapport.groupby(['Date']).apply(lambda x: x.nlargest(100,['MarketCap'])).reset_index(drop=True)"
   ]
  },
  {
   "cell_type": "code",
   "execution_count": 79,
   "metadata": {},
   "outputs": [
    {
     "data": {
      "text/plain": [
       "8008764.025968624"
      ]
     },
     "execution_count": 79,
     "metadata": {},
     "output_type": "execute_result"
    }
   ],
   "source": [
    "largeCapSample.MarketCap.min()"
   ]
  },
  {
   "cell_type": "markdown",
   "metadata": {
    "id": "XVpFfsYxFpTJ"
   },
   "source": [
    "### 1.2 Calculate MKT for each week"
   ]
  },
  {
   "cell_type": "code",
   "execution_count": 80,
   "metadata": {
    "id": "dtBEZxYIFpTJ"
   },
   "outputs": [],
   "source": [
    "## largeCapSample is a big dataframe include all crypto currencies makcap greater than 1000000\n",
    "marketport = largeCapSample.groupby('Date')['MarketCap'].sum().reset_index(name='TotalMarketCap')\n",
    "\n",
    "marketInd = largeCapSample.copy()\n",
    "marketInd['weights'] = marketInd['Return'] * marketInd['MarketCap']\n",
    "recomp = marketInd.groupby('Date')['weights'].sum().reset_index(name='TotalMarketReturn')\n",
    "marketport['MarketIndexReturn'] = recomp['TotalMarketReturn']/ marketport['TotalMarketCap']"
   ]
  },
  {
   "cell_type": "code",
   "execution_count": 81,
   "metadata": {
    "id": "7C8vSAmqFpTJ"
   },
   "outputs": [],
   "source": [
    "riskfree = largeCapSample.groupby('Date')['RiskFree'].mean().reset_index()\n",
    "marketport = marketport.merge(riskfree, on='Date')\n",
    "marketport['MKT'] = marketport['MarketIndexReturn'] - marketport['RiskFree']\n",
    "MKT_f = marketport[['Date','MKT']]"
   ]
  },
  {
   "cell_type": "markdown",
   "metadata": {
    "id": "xW_COGdkFpTK"
   },
   "source": [
    "### 1.3 MKT_f is market factor"
   ]
  },
  {
   "cell_type": "code",
   "execution_count": 82,
   "metadata": {
    "colab": {
     "base_uri": "https://localhost:8080/",
     "height": 0
    },
    "id": "YBHoXHeSFpTK",
    "outputId": "f4d923b9-00e6-422f-bd89-fb533c4cfe07"
   },
   "outputs": [
    {
     "data": {
      "text/html": [
       "<div>\n",
       "<style scoped>\n",
       "    .dataframe tbody tr th:only-of-type {\n",
       "        vertical-align: middle;\n",
       "    }\n",
       "\n",
       "    .dataframe tbody tr th {\n",
       "        vertical-align: top;\n",
       "    }\n",
       "\n",
       "    .dataframe thead th {\n",
       "        text-align: right;\n",
       "    }\n",
       "</style>\n",
       "<table border=\"1\" class=\"dataframe\">\n",
       "  <thead>\n",
       "    <tr style=\"text-align: right;\">\n",
       "      <th></th>\n",
       "      <th>Date</th>\n",
       "      <th>MKT</th>\n",
       "    </tr>\n",
       "  </thead>\n",
       "  <tbody>\n",
       "    <tr>\n",
       "      <th>0</th>\n",
       "      <td>2021-05-03</td>\n",
       "      <td>0.118404</td>\n",
       "    </tr>\n",
       "    <tr>\n",
       "      <th>1</th>\n",
       "      <td>2021-05-10</td>\n",
       "      <td>-0.145781</td>\n",
       "    </tr>\n",
       "    <tr>\n",
       "      <th>2</th>\n",
       "      <td>2021-05-17</td>\n",
       "      <td>-0.280499</td>\n",
       "    </tr>\n",
       "    <tr>\n",
       "      <th>3</th>\n",
       "      <td>2021-05-24</td>\n",
       "      <td>0.069525</td>\n",
       "    </tr>\n",
       "    <tr>\n",
       "      <th>4</th>\n",
       "      <td>2021-05-31</td>\n",
       "      <td>0.042021</td>\n",
       "    </tr>\n",
       "  </tbody>\n",
       "</table>\n",
       "</div>"
      ],
      "text/plain": [
       "        Date       MKT\n",
       "0 2021-05-03  0.118404\n",
       "1 2021-05-10 -0.145781\n",
       "2 2021-05-17 -0.280499\n",
       "3 2021-05-24  0.069525\n",
       "4 2021-05-31  0.042021"
      ]
     },
     "execution_count": 82,
     "metadata": {},
     "output_type": "execute_result"
    }
   ],
   "source": [
    "MKT_f.head()"
   ]
  },
  {
   "cell_type": "code",
   "execution_count": null,
   "metadata": {},
   "outputs": [],
   "source": []
  },
  {
   "cell_type": "markdown",
   "metadata": {},
   "source": [
    "### <font color='green'> Test for mkt factor\n",
    "    value weighted return= weight1 * return1 + weight2 * return 2 + ...\n",
    "    weight1 = cap1/cap_sum,  weight2 = cap2/cap_sum ...\n",
    "    value weighted return = cap1  * return1/cap_sum  + cap2 * return2/cap_sum + ..\n",
    "                          = (cap1 * return1 + cap2 * return2 + ...)/cap_sum"
   ]
  },
  {
   "cell_type": "code",
   "execution_count": 83,
   "metadata": {},
   "outputs": [
    {
     "data": {
      "image/png": "[encoded data removed]",
      "text/plain": [
       "<Figure size 864x576 with 1 Axes>"
      ]
     },
     "metadata": {
      "needs_background": "light"
     },
     "output_type": "display_data"
    }
   ],
   "source": [
    "from matplotlib.pyplot import figure\n",
    "import matplotlib.pyplot as plt\n",
    "%matplotlib inline\n",
    "\n",
    "factors = marketport[[\"Date\", \"MKT\",\"MarketIndexReturn\"]]\n",
    "plt.figure(figsize=(12,8))\n",
    "\n",
    "palette = plt.get_cmap('Set1')\n",
    " \n",
    "num=0\n",
    "for column in factors.drop('Date', axis=1):\n",
    "    num+=1\n",
    "    plt.plot(factors['Date'], factors[column], marker='o', linewidth=1, alpha=0.9, label=column)\n",
    "\n",
    "\n",
    "plt.legend(loc=2, ncol=2)\n",
    "plt.title(\"MKT Factor\", loc='center', fontsize=20, fontweight=0, color='blue')\n",
    "plt.xlabel(\"Time\")\n",
    "plt.ylabel(\"Ratio\")\n",
    "plt.show()"
   ]
  },
  {
   "cell_type": "markdown",
   "metadata": {
    "heading_collapsed": true
   },
   "source": [
    "### sanity test"
   ]
  },
  {
   "cell_type": "code",
   "execution_count": 84,
   "metadata": {
    "hidden": true
   },
   "outputs": [
    {
     "data": {
      "text/html": [
       "<div>\n",
       "<style scoped>\n",
       "    .dataframe tbody tr th:only-of-type {\n",
       "        vertical-align: middle;\n",
       "    }\n",
       "\n",
       "    .dataframe tbody tr th {\n",
       "        vertical-align: top;\n",
       "    }\n",
       "\n",
       "    .dataframe thead th {\n",
       "        text-align: right;\n",
       "    }\n",
       "</style>\n",
       "<table border=\"1\" class=\"dataframe\">\n",
       "  <thead>\n",
       "    <tr style=\"text-align: right;\">\n",
       "      <th></th>\n",
       "      <th>Date</th>\n",
       "      <th>TotalMarketCap</th>\n",
       "      <th>MarketIndexReturn</th>\n",
       "      <th>RiskFree</th>\n",
       "      <th>MKT</th>\n",
       "    </tr>\n",
       "  </thead>\n",
       "  <tbody>\n",
       "    <tr>\n",
       "      <th>0</th>\n",
       "      <td>2021-05-03</td>\n",
       "      <td>1.800349e+12</td>\n",
       "      <td>0.118504</td>\n",
       "      <td>0.0001</td>\n",
       "      <td>0.118404</td>\n",
       "    </tr>\n",
       "    <tr>\n",
       "      <th>1</th>\n",
       "      <td>2021-05-10</td>\n",
       "      <td>1.528347e+12</td>\n",
       "      <td>-0.145681</td>\n",
       "      <td>0.0001</td>\n",
       "      <td>-0.145781</td>\n",
       "    </tr>\n",
       "  </tbody>\n",
       "</table>\n",
       "</div>"
      ],
      "text/plain": [
       "        Date  TotalMarketCap  MarketIndexReturn  RiskFree       MKT\n",
       "0 2021-05-03    1.800349e+12           0.118504    0.0001  0.118404\n",
       "1 2021-05-10    1.528347e+12          -0.145681    0.0001 -0.145781"
      ]
     },
     "execution_count": 84,
     "metadata": {},
     "output_type": "execute_result"
    }
   ],
   "source": [
    "marketport.head(2)"
   ]
  },
  {
   "cell_type": "code",
   "execution_count": 85,
   "metadata": {
    "hidden": true
   },
   "outputs": [
    {
     "data": {
      "text/html": [
       "<div>\n",
       "<style scoped>\n",
       "    .dataframe tbody tr th:only-of-type {\n",
       "        vertical-align: middle;\n",
       "    }\n",
       "\n",
       "    .dataframe tbody tr th {\n",
       "        vertical-align: top;\n",
       "    }\n",
       "\n",
       "    .dataframe thead th {\n",
       "        text-align: right;\n",
       "    }\n",
       "</style>\n",
       "<table border=\"1\" class=\"dataframe\">\n",
       "  <thead>\n",
       "    <tr style=\"text-align: right;\">\n",
       "      <th></th>\n",
       "      <th>Date</th>\n",
       "      <th>TotalMarketReturn</th>\n",
       "    </tr>\n",
       "  </thead>\n",
       "  <tbody>\n",
       "    <tr>\n",
       "      <th>0</th>\n",
       "      <td>2021-05-03</td>\n",
       "      <td>2.133488e+11</td>\n",
       "    </tr>\n",
       "    <tr>\n",
       "      <th>1</th>\n",
       "      <td>2021-05-10</td>\n",
       "      <td>-2.226517e+11</td>\n",
       "    </tr>\n",
       "  </tbody>\n",
       "</table>\n",
       "</div>"
      ],
      "text/plain": [
       "        Date  TotalMarketReturn\n",
       "0 2021-05-03       2.133488e+11\n",
       "1 2021-05-10      -2.226517e+11"
      ]
     },
     "execution_count": 85,
     "metadata": {},
     "output_type": "execute_result"
    }
   ],
   "source": [
    "recomp.head(2)"
   ]
  },
  {
   "cell_type": "code",
   "execution_count": 86,
   "metadata": {
    "hidden": true
   },
   "outputs": [
    {
     "data": {
      "text/html": [
       "<div>\n",
       "<style scoped>\n",
       "    .dataframe tbody tr th:only-of-type {\n",
       "        vertical-align: middle;\n",
       "    }\n",
       "\n",
       "    .dataframe tbody tr th {\n",
       "        vertical-align: top;\n",
       "    }\n",
       "\n",
       "    .dataframe thead th {\n",
       "        text-align: right;\n",
       "    }\n",
       "</style>\n",
       "<table border=\"1\" class=\"dataframe\">\n",
       "  <thead>\n",
       "    <tr style=\"text-align: right;\">\n",
       "      <th></th>\n",
       "      <th>Date</th>\n",
       "      <th>Price</th>\n",
       "      <th>MarketCap</th>\n",
       "      <th>ActiveAddress</th>\n",
       "      <th>RiskFree</th>\n",
       "      <th>Asset</th>\n",
       "      <th>Return</th>\n",
       "      <th>week2_return</th>\n",
       "      <th>Npast52_return</th>\n",
       "      <th>ExcessReturn</th>\n",
       "      <th>weights</th>\n",
       "    </tr>\n",
       "  </thead>\n",
       "  <tbody>\n",
       "    <tr>\n",
       "      <th>0</th>\n",
       "      <td>2021-05-03</td>\n",
       "      <td>58218.566077</td>\n",
       "      <td>1.088991e+12</td>\n",
       "      <td>6622607.0</td>\n",
       "      <td>0.0001</td>\n",
       "      <td>BTC</td>\n",
       "      <td>0.028357</td>\n",
       "      <td>0.187168</td>\n",
       "      <td>5.020518</td>\n",
       "      <td>0.028257</td>\n",
       "      <td>3.088018e+10</td>\n",
       "    </tr>\n",
       "    <tr>\n",
       "      <th>1</th>\n",
       "      <td>2021-05-03</td>\n",
       "      <td>3932.359246</td>\n",
       "      <td>4.554030e+11</td>\n",
       "      <td>3548128.0</td>\n",
       "      <td>0.0001</td>\n",
       "      <td>ETH</td>\n",
       "      <td>0.331870</td>\n",
       "      <td>0.699593</td>\n",
       "      <td>17.982967</td>\n",
       "      <td>0.331770</td>\n",
       "      <td>1.511345e+11</td>\n",
       "    </tr>\n",
       "  </tbody>\n",
       "</table>\n",
       "</div>"
      ],
      "text/plain": [
       "        Date         Price     MarketCap  ActiveAddress  RiskFree Asset  \\\n",
       "0 2021-05-03  58218.566077  1.088991e+12      6622607.0    0.0001   BTC   \n",
       "1 2021-05-03   3932.359246  4.554030e+11      3548128.0    0.0001   ETH   \n",
       "\n",
       "     Return  week2_return  Npast52_return  ExcessReturn       weights  \n",
       "0  0.028357      0.187168        5.020518      0.028257  3.088018e+10  \n",
       "1  0.331870      0.699593       17.982967      0.331770  1.511345e+11  "
      ]
     },
     "execution_count": 86,
     "metadata": {},
     "output_type": "execute_result"
    }
   ],
   "source": [
    "marketInd.head(2)"
   ]
  },
  {
   "cell_type": "code",
   "execution_count": 87,
   "metadata": {
    "hidden": true,
    "id": "EwtIvhZbFpTK"
   },
   "outputs": [],
   "source": [
    "from sklearn.linear_model import LinearRegression\n",
    "from sklearn.metrics import mean_absolute_error, mean_squared_error, r2_score\n",
    "\n",
    "btc = fullSample.query(\" Asset == 'BTC'\")\n",
    "\n",
    "btc_reg1 = btc[['Date', 'ExcessReturn']]\n",
    "\n",
    "btc_reg1 = btc_reg1.merge(MKT_f, on = 'Date', how = 'outer')\n",
    "\n",
    "y1 = btc_reg1 ['ExcessReturn'].copy()\n",
    "x1 = btc_reg1 [['MKT']]\n",
    "    \n",
    "model1 = LinearRegression()\n",
    "model1.fit(x1, y1)\n",
    "y_pred1 = model1.predict(x1)    \n",
    "alpha1 = model1.intercept_    \n"
   ]
  },
  {
   "cell_type": "code",
   "execution_count": 88,
   "metadata": {
    "hidden": true,
    "id": "9tDBp_BKFpTK"
   },
   "outputs": [],
   "source": [
    "import numpy as np\n",
    "import matplotlib.pyplot as plt\n",
    "%matplotlib inline\n",
    "\n",
    "def myPlot(factor, excessreturn, model):\n",
    "    plt.scatter(factor, excessreturn, alpha=0.3)\n",
    "    x = np.linspace(factor.min(), factor.max())\n",
    "    y = model.predict(x.reshape(-1,1))\n",
    "    plt.plot(x, y, color='r')\n",
    "    plt.xlabel('factor')\n",
    "    plt.ylabel('Excess Return')\n",
    "    plt.title('Linear regression result for excess return and ONE factor')\n",
    "    plt.show()"
   ]
  },
  {
   "cell_type": "code",
   "execution_count": 89,
   "metadata": {
    "colab": {
     "base_uri": "https://localhost:8080/",
     "height": 0
    },
    "hidden": true,
    "id": "k69U6HXcFpTL",
    "outputId": "169d7c80-a1ac-461b-f88b-aa276a8ecf5d"
   },
   "outputs": [
    {
     "data": {
      "image/png": "[encoded data removed]",
      "text/plain": [
       "<Figure size 432x288 with 1 Axes>"
      ]
     },
     "metadata": {
      "needs_background": "light"
     },
     "output_type": "display_data"
    }
   ],
   "source": [
    "myPlot(btc_reg1.MKT, btc_reg1.ExcessReturn, model1)"
   ]
  },
  {
   "cell_type": "code",
   "execution_count": 90,
   "metadata": {
    "colab": {
     "base_uri": "https://localhost:8080/"
    },
    "hidden": true,
    "id": "HYXIS2GwFpTL",
    "outputId": "39183a2f-b64f-4464-c268-ee9974d99758"
   },
   "outputs": [
    {
     "name": "stdout",
     "output_type": "stream",
     "text": [
      "alpha for BTC with MKT is: -0.004900036810945648\n",
      "MAS for MKT is  1.85e-02\n",
      "MSE for MKT is  6.58e-04\n",
      "R2_score for MKT is  0.91\n"
     ]
    }
   ],
   "source": [
    "### get the alpha with MKT factor only\n",
    "print('alpha for BTC with MKT is:', model1.intercept_)\n",
    "### measure the performance of MKT Factor\n",
    "print('MAS for MKT is {: .2e}'.format(mean_absolute_error(y1, y_pred1)))\n",
    "print('MSE for MKT is {: .2e}'.format(mean_squared_error(y1, y_pred1)))\n",
    "print('R2_score for MKT is {: .2f}'.format(r2_score(y1, y_pred1)))"
   ]
  },
  {
   "cell_type": "code",
   "execution_count": null,
   "metadata": {
    "hidden": true,
    "id": "xRlxhGxCFpTL"
   },
   "outputs": [],
   "source": []
  },
  {
   "cell_type": "markdown",
   "metadata": {
    "id": "m0PaVMQpFpTL"
   },
   "source": [
    "## 3. SMB Factor (Fiona)"
   ]
  },
  {
   "cell_type": "markdown",
   "metadata": {
    "id": "fkKn2hMGFpTL"
   },
   "source": [
    "### largeCap includes all the cryptos in the top cap 20%, smallCap includes all the cryptos in the bottom cap 20%"
   ]
  },
  {
   "cell_type": "code",
   "execution_count": 91,
   "metadata": {
    "colab": {
     "base_uri": "https://localhost:8080/",
     "height": 0
    },
    "id": "DmR06Af4FpTM",
    "outputId": "1ae536d7-32e7-472b-ce45-4a2cf4350e60"
   },
   "outputs": [
    {
     "data": {
      "text/html": [
       "<div>\n",
       "<style scoped>\n",
       "    .dataframe tbody tr th:only-of-type {\n",
       "        vertical-align: middle;\n",
       "    }\n",
       "\n",
       "    .dataframe tbody tr th {\n",
       "        vertical-align: top;\n",
       "    }\n",
       "\n",
       "    .dataframe thead th {\n",
       "        text-align: right;\n",
       "    }\n",
       "</style>\n",
       "<table border=\"1\" class=\"dataframe\">\n",
       "  <thead>\n",
       "    <tr style=\"text-align: right;\">\n",
       "      <th></th>\n",
       "      <th>Date</th>\n",
       "      <th>Price</th>\n",
       "      <th>MarketCap</th>\n",
       "      <th>ActiveAddress</th>\n",
       "      <th>RiskFree</th>\n",
       "      <th>Asset</th>\n",
       "      <th>Return</th>\n",
       "      <th>week2_return</th>\n",
       "      <th>Npast52_return</th>\n",
       "      <th>ExcessReturn</th>\n",
       "    </tr>\n",
       "  </thead>\n",
       "  <tbody>\n",
       "    <tr>\n",
       "      <th>0</th>\n",
       "      <td>2021-05-03</td>\n",
       "      <td>58218.566077</td>\n",
       "      <td>1.088991e+12</td>\n",
       "      <td>6622607.0</td>\n",
       "      <td>0.0001</td>\n",
       "      <td>BTC</td>\n",
       "      <td>0.028357</td>\n",
       "      <td>0.187168</td>\n",
       "      <td>5.020518</td>\n",
       "      <td>0.028257</td>\n",
       "    </tr>\n",
       "    <tr>\n",
       "      <th>1</th>\n",
       "      <td>2021-05-03</td>\n",
       "      <td>3932.359246</td>\n",
       "      <td>4.554030e+11</td>\n",
       "      <td>3548128.0</td>\n",
       "      <td>0.0001</td>\n",
       "      <td>ETH</td>\n",
       "      <td>0.331870</td>\n",
       "      <td>0.699593</td>\n",
       "      <td>17.982967</td>\n",
       "      <td>0.331770</td>\n",
       "    </tr>\n",
       "    <tr>\n",
       "      <th>2</th>\n",
       "      <td>2021-05-03</td>\n",
       "      <td>1.000026</td>\n",
       "      <td>5.372178e+10</td>\n",
       "      <td>576798.0</td>\n",
       "      <td>0.0001</td>\n",
       "      <td>USDT</td>\n",
       "      <td>0.000035</td>\n",
       "      <td>0.000057</td>\n",
       "      <td>-0.002087</td>\n",
       "      <td>-0.000065</td>\n",
       "    </tr>\n",
       "    <tr>\n",
       "      <th>3</th>\n",
       "      <td>2021-05-03</td>\n",
       "      <td>385.704466</td>\n",
       "      <td>2.608153e+10</td>\n",
       "      <td>1438322.0</td>\n",
       "      <td>0.0001</td>\n",
       "      <td>LTC</td>\n",
       "      <td>0.433524</td>\n",
       "      <td>0.722933</td>\n",
       "      <td>7.838155</td>\n",
       "      <td>0.433424</td>\n",
       "    </tr>\n",
       "    <tr>\n",
       "      <th>4</th>\n",
       "      <td>2021-05-03</td>\n",
       "      <td>52.096533</td>\n",
       "      <td>2.182895e+10</td>\n",
       "      <td>65705.0</td>\n",
       "      <td>0.0001</td>\n",
       "      <td>LINK</td>\n",
       "      <td>0.320233</td>\n",
       "      <td>0.652190</td>\n",
       "      <td>12.766384</td>\n",
       "      <td>0.320133</td>\n",
       "    </tr>\n",
       "  </tbody>\n",
       "</table>\n",
       "</div>"
      ],
      "text/plain": [
       "        Date         Price     MarketCap  ActiveAddress  RiskFree Asset  \\\n",
       "0 2021-05-03  58218.566077  1.088991e+12      6622607.0    0.0001   BTC   \n",
       "1 2021-05-03   3932.359246  4.554030e+11      3548128.0    0.0001   ETH   \n",
       "2 2021-05-03      1.000026  5.372178e+10       576798.0    0.0001  USDT   \n",
       "3 2021-05-03    385.704466  2.608153e+10      1438322.0    0.0001   LTC   \n",
       "4 2021-05-03     52.096533  2.182895e+10        65705.0    0.0001  LINK   \n",
       "\n",
       "     Return  week2_return  Npast52_return  ExcessReturn  \n",
       "0  0.028357      0.187168        5.020518      0.028257  \n",
       "1  0.331870      0.699593       17.982967      0.331770  \n",
       "2  0.000035      0.000057       -0.002087     -0.000065  \n",
       "3  0.433524      0.722933        7.838155      0.433424  \n",
       "4  0.320233      0.652190       12.766384      0.320133  "
      ]
     },
     "execution_count": 91,
     "metadata": {},
     "output_type": "execute_result"
    }
   ],
   "source": [
    "fullCapSample = fullSample.query(\"MarketCap > 0.1\")\n",
    "\n",
    "\n",
    "largeCap = fullCapSample.groupby(['Date']).apply(lambda \n",
    "                                                x: x.nlargest(round(0.2*len(x)),\n",
    "                                                              ['MarketCap'])).reset_index(drop=True)\n",
    "\n",
    "smallCap = fullCapSample.groupby(['Date']).apply(lambda \n",
    "                                                x: x.nsmallest(round(0.2*len(x)),\n",
    "                                                              ['MarketCap'])).reset_index(drop=True)\n",
    "largeCap.head()"
   ]
  },
  {
   "cell_type": "markdown",
   "metadata": {
    "heading_collapsed": true
   },
   "source": [
    "### test"
   ]
  },
  {
   "cell_type": "code",
   "execution_count": 92,
   "metadata": {
    "hidden": true
   },
   "outputs": [],
   "source": [
    "week52 = fullCapSample.query( \"Date ==  '2022-04-25'\")"
   ]
  },
  {
   "cell_type": "code",
   "execution_count": null,
   "metadata": {
    "hidden": true
   },
   "outputs": [],
   "source": []
  },
  {
   "cell_type": "code",
   "execution_count": 93,
   "metadata": {
    "hidden": true
   },
   "outputs": [
    {
     "data": {
      "text/plain": [
       "Date              2022-04-25 00:00:00\n",
       "Price                         1.09925\n",
       "MarketCap                 9.69566e+08\n",
       "ActiveAddress                    2960\n",
       "RiskFree                       0.0042\n",
       "Asset                             ENJ\n",
       "Return                      -0.210277\n",
       "week2_return                -0.230881\n",
       "Npast52_return              -0.548547\n",
       "ExcessReturn                -0.214477\n",
       "Name: 2027, dtype: object"
      ]
     },
     "execution_count": 93,
     "metadata": {},
     "output_type": "execute_result"
    }
   ],
   "source": [
    "week52.sort_values(by = 'MarketCap', ascending = False ).iloc[23]"
   ]
  },
  {
   "cell_type": "code",
   "execution_count": 94,
   "metadata": {
    "hidden": true
   },
   "outputs": [
    {
     "data": {
      "text/plain": [
       "Date              24\n",
       "Price             24\n",
       "MarketCap         24\n",
       "ActiveAddress     24\n",
       "RiskFree          24\n",
       "Asset             24\n",
       "Return            24\n",
       "week2_return      24\n",
       "Npast52_return    24\n",
       "ExcessReturn      24\n",
       "dtype: int64"
      ]
     },
     "execution_count": 94,
     "metadata": {},
     "output_type": "execute_result"
    }
   ],
   "source": [
    "largeCap.query( \"Date ==  '2022-04-25'\").count()"
   ]
  },
  {
   "cell_type": "markdown",
   "metadata": {
    "id": "OI1j7qeaFpTM"
   },
   "source": [
    "### <font color = 'green'> Method 1: using value weighted method"
   ]
  },
  {
   "cell_type": "code",
   "execution_count": 95,
   "metadata": {
    "id": "jElWnQRTFpTM"
   },
   "outputs": [],
   "source": [
    "largeInd = largeCap.copy()\n",
    "largeport = largeCap.groupby('Date')['MarketCap'].sum().reset_index(name='TotalMarketCap')\n",
    "\n",
    "largeInd['weights'] = largeInd['Return'] * largeInd['MarketCap']\n",
    "\n",
    "temp = largeInd.groupby('Date')['weights'].sum().reset_index(name='TotalMarketReturn')\n",
    "\n",
    "largeport['LargePortReturn'] = temp['TotalMarketReturn']/ largeport['TotalMarketCap']"
   ]
  },
  {
   "cell_type": "code",
   "execution_count": 96,
   "metadata": {
    "id": "xByZFbsYFpTM"
   },
   "outputs": [],
   "source": [
    "smallInd = smallCap.copy()\n",
    "smallport = smallCap.groupby('Date')['MarketCap'].sum().reset_index(name='TotalMarketCap')\n",
    "\n",
    "smallInd['weights'] = smallInd['Return'] * smallInd['MarketCap']\n",
    "\n",
    "temp = smallInd.groupby('Date')['weights'].sum().reset_index(name='TotalMarketReturn')\n",
    "\n",
    "smallport['SmallPortReturn'] = temp['TotalMarketReturn']/ smallport['TotalMarketCap']"
   ]
  },
  {
   "cell_type": "code",
   "execution_count": 97,
   "metadata": {
    "id": "H0nmFfdEFpTM"
   },
   "outputs": [],
   "source": [
    "smallport['SMB'] = smallport['SmallPortReturn'] - largeport['LargePortReturn']\n",
    "SMB_f = smallport[['Date','SMB']]"
   ]
  },
  {
   "cell_type": "code",
   "execution_count": 98,
   "metadata": {
    "colab": {
     "base_uri": "https://localhost:8080/",
     "height": 0
    },
    "id": "mpQ_yj29FpTN",
    "outputId": "56b6c368-e12f-403c-c668-1793e8eab07c"
   },
   "outputs": [
    {
     "data": {
      "text/html": [
       "<div>\n",
       "<style scoped>\n",
       "    .dataframe tbody tr th:only-of-type {\n",
       "        vertical-align: middle;\n",
       "    }\n",
       "\n",
       "    .dataframe tbody tr th {\n",
       "        vertical-align: top;\n",
       "    }\n",
       "\n",
       "    .dataframe thead th {\n",
       "        text-align: right;\n",
       "    }\n",
       "</style>\n",
       "<table border=\"1\" class=\"dataframe\">\n",
       "  <thead>\n",
       "    <tr style=\"text-align: right;\">\n",
       "      <th></th>\n",
       "      <th>Date</th>\n",
       "      <th>SMB</th>\n",
       "    </tr>\n",
       "  </thead>\n",
       "  <tbody>\n",
       "    <tr>\n",
       "      <th>0</th>\n",
       "      <td>2021-05-03</td>\n",
       "      <td>-0.066791</td>\n",
       "    </tr>\n",
       "    <tr>\n",
       "      <th>1</th>\n",
       "      <td>2021-05-10</td>\n",
       "      <td>-0.047416</td>\n",
       "    </tr>\n",
       "    <tr>\n",
       "      <th>2</th>\n",
       "      <td>2021-05-17</td>\n",
       "      <td>-0.204479</td>\n",
       "    </tr>\n",
       "    <tr>\n",
       "      <th>3</th>\n",
       "      <td>2021-05-24</td>\n",
       "      <td>0.054525</td>\n",
       "    </tr>\n",
       "    <tr>\n",
       "      <th>4</th>\n",
       "      <td>2021-05-31</td>\n",
       "      <td>0.051990</td>\n",
       "    </tr>\n",
       "  </tbody>\n",
       "</table>\n",
       "</div>"
      ],
      "text/plain": [
       "        Date       SMB\n",
       "0 2021-05-03 -0.066791\n",
       "1 2021-05-10 -0.047416\n",
       "2 2021-05-17 -0.204479\n",
       "3 2021-05-24  0.054525\n",
       "4 2021-05-31  0.051990"
      ]
     },
     "execution_count": 98,
     "metadata": {},
     "output_type": "execute_result"
    }
   ],
   "source": [
    "SMB_f.head()"
   ]
  },
  {
   "cell_type": "markdown",
   "metadata": {},
   "source": [
    "### <font color = 'green'> Test SMB factor"
   ]
  },
  {
   "cell_type": "code",
   "execution_count": 99,
   "metadata": {},
   "outputs": [
    {
     "data": {
      "image/png": "[encoded data removed]",
      "text/plain": [
       "<Figure size 864x576 with 1 Axes>"
      ]
     },
     "metadata": {
      "needs_background": "light"
     },
     "output_type": "display_data"
    }
   ],
   "source": [
    "from matplotlib.pyplot import figure\n",
    "import matplotlib.pyplot as plt\n",
    "%matplotlib inline\n",
    "\n",
    "factors = SMB_f\n",
    "plt.figure(figsize=(12,8))\n",
    "\n",
    "palette = plt.get_cmap('Set1')\n",
    " \n",
    "num=0\n",
    "for column in factors.drop('Date', axis=1):\n",
    "    num+=1\n",
    "    plt.plot(factors['Date'], factors[column], marker='o', linewidth=1, alpha=0.9, label=column)\n",
    "\n",
    "\n",
    "plt.legend(loc=2, ncol=2)\n",
    "plt.title(\"SMB Factor\", loc='center', fontsize=20, fontweight=0, color='blue')\n",
    "plt.xlabel(\"Time\")\n",
    "plt.ylabel(\"Ratio\")\n",
    "plt.show()"
   ]
  },
  {
   "cell_type": "code",
   "execution_count": null,
   "metadata": {},
   "outputs": [],
   "source": [
    "from sklearn.linear_model import LinearRegression\n",
    "performance = {}\n",
    "\n",
    "#### to be added for other factor\n",
    "# factors = factors.merge(MOM_f, on = 'Date', how ='outer')\n",
    "factors = SMB_f\n",
    "\n",
    "features = factors.columns.tolist()\n",
    "features.remove('Date')\n",
    "target = \"ExcessReturn\"\n",
    "\n",
    "for index in fullSample['Asset'].unique().tolist():\n",
    "    syntax = f\"Asset == '{index}'\"\n",
    "    segment = fullSample.query(syntax)\n",
    "    \n",
    "    reg = segment[['Date','ExcessReturn']].merge(factors, on = 'Date', how = 'outer')\n",
    "    y = reg [target].copy()\n",
    "    x = reg [features].copy()    \n",
    "    model = LinearRegression()\n",
    "    model.fit(x, y)\n",
    "    y_pred = model.predict(x)    \n",
    "    alpha = model.intercept_    \n",
    "    performance[index] = alpha"
   ]
  },
  {
   "cell_type": "code",
   "execution_count": null,
   "metadata": {},
   "outputs": [
    {
     "data": {
      "text/html": [
       "<div>\n",
       "<style scoped>\n",
       "    .dataframe tbody tr th:only-of-type {\n",
       "        vertical-align: middle;\n",
       "    }\n",
       "\n",
       "    .dataframe tbody tr th {\n",
       "        vertical-align: top;\n",
       "    }\n",
       "\n",
       "    .dataframe thead th {\n",
       "        text-align: right;\n",
       "    }\n",
       "</style>\n",
       "<table border=\"1\" class=\"dataframe\">\n",
       "  <thead>\n",
       "    <tr style=\"text-align: right;\">\n",
       "      <th></th>\n",
       "      <th>Asset</th>\n",
       "      <th>Alpha</th>\n",
       "    </tr>\n",
       "  </thead>\n",
       "  <tbody>\n",
       "    <tr>\n",
       "      <th>112</th>\n",
       "      <td>VERI</td>\n",
       "      <td>0.087157</td>\n",
       "    </tr>\n",
       "    <tr>\n",
       "      <th>15</th>\n",
       "      <td>BRD</td>\n",
       "      <td>0.080314</td>\n",
       "    </tr>\n",
       "    <tr>\n",
       "      <th>59</th>\n",
       "      <td>MANA</td>\n",
       "      <td>0.074328</td>\n",
       "    </tr>\n",
       "    <tr>\n",
       "      <th>58</th>\n",
       "      <td>LRC</td>\n",
       "      <td>0.068594</td>\n",
       "    </tr>\n",
       "    <tr>\n",
       "      <th>71</th>\n",
       "      <td>NFTX</td>\n",
       "      <td>0.067909</td>\n",
       "    </tr>\n",
       "    <tr>\n",
       "      <th>83</th>\n",
       "      <td>POWR</td>\n",
       "      <td>0.064931</td>\n",
       "    </tr>\n",
       "    <tr>\n",
       "      <th>68</th>\n",
       "      <td>MX</td>\n",
       "      <td>0.059733</td>\n",
       "    </tr>\n",
       "    <tr>\n",
       "      <th>23</th>\n",
       "      <td>CRO</td>\n",
       "      <td>0.054426</td>\n",
       "    </tr>\n",
       "    <tr>\n",
       "      <th>93</th>\n",
       "      <td>RPL</td>\n",
       "      <td>0.053738</td>\n",
       "    </tr>\n",
       "    <tr>\n",
       "      <th>5</th>\n",
       "      <td>AMPL</td>\n",
       "      <td>0.052961</td>\n",
       "    </tr>\n",
       "  </tbody>\n",
       "</table>\n",
       "</div>"
      ],
      "text/plain": [
       "    Asset     Alpha\n",
       "112  VERI  0.087157\n",
       "15    BRD  0.080314\n",
       "59   MANA  0.074328\n",
       "58    LRC  0.068594\n",
       "71   NFTX  0.067909\n",
       "83   POWR  0.064931\n",
       "68     MX  0.059733\n",
       "23    CRO  0.054426\n",
       "93    RPL  0.053738\n",
       "5    AMPL  0.052961"
      ]
     },
     "execution_count": 123,
     "metadata": {},
     "output_type": "execute_result"
    }
   ],
   "source": [
    "alp_sig = pd.DataFrame(list(performance.items()), \n",
    "                       columns = ['Asset','Alpha'])\n",
    "alp_sig = alp_sig.sort_values(by=['Alpha'], \n",
    "                              ascending = False)\n",
    "alp_sig.head(10)"
   ]
  },
  {
   "cell_type": "code",
   "execution_count": null,
   "metadata": {},
   "outputs": [
    {
     "data": {
      "text/html": [
       "<div>\n",
       "<style scoped>\n",
       "    .dataframe tbody tr th:only-of-type {\n",
       "        vertical-align: middle;\n",
       "    }\n",
       "\n",
       "    .dataframe tbody tr th {\n",
       "        vertical-align: top;\n",
       "    }\n",
       "\n",
       "    .dataframe thead th {\n",
       "        text-align: right;\n",
       "    }\n",
       "</style>\n",
       "<table border=\"1\" class=\"dataframe\">\n",
       "  <thead>\n",
       "    <tr style=\"text-align: right;\">\n",
       "      <th></th>\n",
       "      <th>Asset</th>\n",
       "      <th>Alpha</th>\n",
       "    </tr>\n",
       "  </thead>\n",
       "  <tbody>\n",
       "    <tr>\n",
       "      <th>32</th>\n",
       "      <td>DMG</td>\n",
       "      <td>-0.002579</td>\n",
       "    </tr>\n",
       "    <tr>\n",
       "      <th>39</th>\n",
       "      <td>EURS</td>\n",
       "      <td>-0.003188</td>\n",
       "    </tr>\n",
       "    <tr>\n",
       "      <th>34</th>\n",
       "      <td>DOUGH</td>\n",
       "      <td>-0.004365</td>\n",
       "    </tr>\n",
       "    <tr>\n",
       "      <th>52</th>\n",
       "      <td>LAMB</td>\n",
       "      <td>-0.005240</td>\n",
       "    </tr>\n",
       "    <tr>\n",
       "      <th>45</th>\n",
       "      <td>HEGIC</td>\n",
       "      <td>-0.005877</td>\n",
       "    </tr>\n",
       "    <tr>\n",
       "      <th>63</th>\n",
       "      <td>MIR</td>\n",
       "      <td>-0.006758</td>\n",
       "    </tr>\n",
       "    <tr>\n",
       "      <th>73</th>\n",
       "      <td>Nsure</td>\n",
       "      <td>-0.010760</td>\n",
       "    </tr>\n",
       "    <tr>\n",
       "      <th>20</th>\n",
       "      <td>CND</td>\n",
       "      <td>-0.011142</td>\n",
       "    </tr>\n",
       "    <tr>\n",
       "      <th>31</th>\n",
       "      <td>DHT</td>\n",
       "      <td>-0.017601</td>\n",
       "    </tr>\n",
       "    <tr>\n",
       "      <th>7</th>\n",
       "      <td>ARMOR</td>\n",
       "      <td>-0.032743</td>\n",
       "    </tr>\n",
       "  </tbody>\n",
       "</table>\n",
       "</div>"
      ],
      "text/plain": [
       "    Asset     Alpha\n",
       "32    DMG -0.002579\n",
       "39   EURS -0.003188\n",
       "34  DOUGH -0.004365\n",
       "52   LAMB -0.005240\n",
       "45  HEGIC -0.005877\n",
       "63    MIR -0.006758\n",
       "73  Nsure -0.010760\n",
       "20    CND -0.011142\n",
       "31    DHT -0.017601\n",
       "7   ARMOR -0.032743"
      ]
     },
     "execution_count": 124,
     "metadata": {},
     "output_type": "execute_result"
    }
   ],
   "source": [
    "alp_sig.tail(10)"
   ]
  },
  {
   "cell_type": "code",
   "execution_count": null,
   "metadata": {},
   "outputs": [
    {
     "data": {
      "text/html": [
       "<div>\n",
       "<style scoped>\n",
       "    .dataframe tbody tr th:only-of-type {\n",
       "        vertical-align: middle;\n",
       "    }\n",
       "\n",
       "    .dataframe tbody tr th {\n",
       "        vertical-align: top;\n",
       "    }\n",
       "\n",
       "    .dataframe thead th {\n",
       "        text-align: right;\n",
       "    }\n",
       "</style>\n",
       "<table border=\"1\" class=\"dataframe\">\n",
       "  <thead>\n",
       "    <tr style=\"text-align: right;\">\n",
       "      <th></th>\n",
       "      <th>Asset</th>\n",
       "      <th>AverageMarketCap</th>\n",
       "    </tr>\n",
       "  </thead>\n",
       "  <tbody>\n",
       "    <tr>\n",
       "      <th>0</th>\n",
       "      <td>AMPL</td>\n",
       "      <td>1.445432e+08</td>\n",
       "    </tr>\n",
       "    <tr>\n",
       "      <th>1</th>\n",
       "      <td>BRD</td>\n",
       "      <td>2.657980e+07</td>\n",
       "    </tr>\n",
       "    <tr>\n",
       "      <th>2</th>\n",
       "      <td>CRO</td>\n",
       "      <td>7.893184e+09</td>\n",
       "    </tr>\n",
       "    <tr>\n",
       "      <th>3</th>\n",
       "      <td>LRC</td>\n",
       "      <td>1.195700e+09</td>\n",
       "    </tr>\n",
       "    <tr>\n",
       "      <th>4</th>\n",
       "      <td>MANA</td>\n",
       "      <td>3.397047e+09</td>\n",
       "    </tr>\n",
       "    <tr>\n",
       "      <th>5</th>\n",
       "      <td>MX</td>\n",
       "      <td>2.055389e+08</td>\n",
       "    </tr>\n",
       "    <tr>\n",
       "      <th>6</th>\n",
       "      <td>NFTX</td>\n",
       "      <td>5.288922e+07</td>\n",
       "    </tr>\n",
       "    <tr>\n",
       "      <th>7</th>\n",
       "      <td>POWR</td>\n",
       "      <td>1.940748e+08</td>\n",
       "    </tr>\n",
       "    <tr>\n",
       "      <th>8</th>\n",
       "      <td>RPL</td>\n",
       "      <td>2.945992e+08</td>\n",
       "    </tr>\n",
       "    <tr>\n",
       "      <th>9</th>\n",
       "      <td>VERI</td>\n",
       "      <td>1.018901e+08</td>\n",
       "    </tr>\n",
       "  </tbody>\n",
       "</table>\n",
       "</div>"
      ],
      "text/plain": [
       "  Asset  AverageMarketCap\n",
       "0  AMPL      1.445432e+08\n",
       "1   BRD      2.657980e+07\n",
       "2   CRO      7.893184e+09\n",
       "3   LRC      1.195700e+09\n",
       "4  MANA      3.397047e+09\n",
       "5    MX      2.055389e+08\n",
       "6  NFTX      5.288922e+07\n",
       "7  POWR      1.940748e+08\n",
       "8   RPL      2.945992e+08\n",
       "9  VERI      1.018901e+08"
      ]
     },
     "execution_count": 125,
     "metadata": {},
     "output_type": "execute_result"
    }
   ],
   "source": [
    "al = alp_sig.head(10).Asset.tolist()\n",
    "hi = fullSample.query(\"Asset in @al \")\n",
    "\n",
    "mk = hi.groupby('Asset')['MarketCap'].mean().reset_index(name = \"AverageMarketCap\")\n",
    "mk"
   ]
  },
  {
   "cell_type": "code",
   "execution_count": null,
   "metadata": {},
   "outputs": [
    {
     "data": {
      "text/html": [
       "<div>\n",
       "<style scoped>\n",
       "    .dataframe tbody tr th:only-of-type {\n",
       "        vertical-align: middle;\n",
       "    }\n",
       "\n",
       "    .dataframe tbody tr th {\n",
       "        vertical-align: top;\n",
       "    }\n",
       "\n",
       "    .dataframe thead th {\n",
       "        text-align: right;\n",
       "    }\n",
       "</style>\n",
       "<table border=\"1\" class=\"dataframe\">\n",
       "  <thead>\n",
       "    <tr style=\"text-align: right;\">\n",
       "      <th></th>\n",
       "      <th>Asset</th>\n",
       "      <th>AverageMarketCap</th>\n",
       "    </tr>\n",
       "  </thead>\n",
       "  <tbody>\n",
       "    <tr>\n",
       "      <th>0</th>\n",
       "      <td>ARMOR</td>\n",
       "      <td>1.743356e+07</td>\n",
       "    </tr>\n",
       "    <tr>\n",
       "      <th>1</th>\n",
       "      <td>CND</td>\n",
       "      <td>2.369338e+07</td>\n",
       "    </tr>\n",
       "    <tr>\n",
       "      <th>2</th>\n",
       "      <td>DHT</td>\n",
       "      <td>1.481919e+07</td>\n",
       "    </tr>\n",
       "    <tr>\n",
       "      <th>3</th>\n",
       "      <td>DMG</td>\n",
       "      <td>2.217906e+06</td>\n",
       "    </tr>\n",
       "    <tr>\n",
       "      <th>4</th>\n",
       "      <td>DOUGH</td>\n",
       "      <td>5.848372e+06</td>\n",
       "    </tr>\n",
       "    <tr>\n",
       "      <th>5</th>\n",
       "      <td>EURS</td>\n",
       "      <td>1.100157e+08</td>\n",
       "    </tr>\n",
       "    <tr>\n",
       "      <th>6</th>\n",
       "      <td>HEGIC</td>\n",
       "      <td>5.799972e+07</td>\n",
       "    </tr>\n",
       "    <tr>\n",
       "      <th>7</th>\n",
       "      <td>LAMB</td>\n",
       "      <td>2.159385e+07</td>\n",
       "    </tr>\n",
       "    <tr>\n",
       "      <th>8</th>\n",
       "      <td>MIR</td>\n",
       "      <td>2.226654e+08</td>\n",
       "    </tr>\n",
       "    <tr>\n",
       "      <th>9</th>\n",
       "      <td>Nsure</td>\n",
       "      <td>1.129428e+06</td>\n",
       "    </tr>\n",
       "  </tbody>\n",
       "</table>\n",
       "</div>"
      ],
      "text/plain": [
       "   Asset  AverageMarketCap\n",
       "0  ARMOR      1.743356e+07\n",
       "1    CND      2.369338e+07\n",
       "2    DHT      1.481919e+07\n",
       "3    DMG      2.217906e+06\n",
       "4  DOUGH      5.848372e+06\n",
       "5   EURS      1.100157e+08\n",
       "6  HEGIC      5.799972e+07\n",
       "7   LAMB      2.159385e+07\n",
       "8    MIR      2.226654e+08\n",
       "9  Nsure      1.129428e+06"
      ]
     },
     "execution_count": 126,
     "metadata": {},
     "output_type": "execute_result"
    }
   ],
   "source": [
    "asm = alp_sig.tail(10).Asset.tolist()\n",
    "lo = fullSample.query(\"Asset in @asm \")\n",
    "\n",
    "ml = lo.groupby('Asset')['MarketCap'].mean().reset_index(name = \"AverageMarketCap\")\n",
    "ml"
   ]
  },
  {
   "cell_type": "code",
   "execution_count": null,
   "metadata": {},
   "outputs": [],
   "source": [
    "\n"
   ]
  },
  {
   "cell_type": "markdown",
   "metadata": {
    "heading_collapsed": true,
    "id": "aVsIpodXFpTN"
   },
   "source": [
    "### <font color = 'green'> Method 2: using equal weighted method - backup plan"
   ]
  },
  {
   "cell_type": "code",
   "execution_count": null,
   "metadata": {
    "hidden": true,
    "id": "MDm9JZPCFpTN"
   },
   "outputs": [],
   "source": [
    "largeport2 = largeCap.groupby('Date')['Return'].mean().reset_index(name='LargePortReturn')\n",
    "smallport2 = smallCap.groupby('Date')['Return'].mean().reset_index(name='SmallPortReturn')\n",
    "smallport2['SMB'] = smallport2['SmallPortReturn'] - largeport2['LargePortReturn']\n",
    "SMB_f2 = smallport2[['Date','SMB']]"
   ]
  },
  {
   "cell_type": "code",
   "execution_count": null,
   "metadata": {
    "colab": {
     "base_uri": "https://localhost:8080/",
     "height": 0
    },
    "hidden": true,
    "id": "PVEOhI9oFpTN",
    "outputId": "5b1fc047-1b3f-44f1-9442-1f1d91334466"
   },
   "outputs": [
    {
     "data": {
      "text/html": [
       "<div>\n",
       "<style scoped>\n",
       "    .dataframe tbody tr th:only-of-type {\n",
       "        vertical-align: middle;\n",
       "    }\n",
       "\n",
       "    .dataframe tbody tr th {\n",
       "        vertical-align: top;\n",
       "    }\n",
       "\n",
       "    .dataframe thead th {\n",
       "        text-align: right;\n",
       "    }\n",
       "</style>\n",
       "<table border=\"1\" class=\"dataframe\">\n",
       "  <thead>\n",
       "    <tr style=\"text-align: right;\">\n",
       "      <th></th>\n",
       "      <th>Date</th>\n",
       "      <th>SMB</th>\n",
       "    </tr>\n",
       "  </thead>\n",
       "  <tbody>\n",
       "    <tr>\n",
       "      <th>0</th>\n",
       "      <td>2021-05-03</td>\n",
       "      <td>-0.193622</td>\n",
       "    </tr>\n",
       "    <tr>\n",
       "      <th>1</th>\n",
       "      <td>2021-05-10</td>\n",
       "      <td>-0.162929</td>\n",
       "    </tr>\n",
       "    <tr>\n",
       "      <th>2</th>\n",
       "      <td>2021-05-17</td>\n",
       "      <td>-0.128733</td>\n",
       "    </tr>\n",
       "    <tr>\n",
       "      <th>3</th>\n",
       "      <td>2021-05-24</td>\n",
       "      <td>-0.037547</td>\n",
       "    </tr>\n",
       "    <tr>\n",
       "      <th>4</th>\n",
       "      <td>2021-05-31</td>\n",
       "      <td>0.044680</td>\n",
       "    </tr>\n",
       "  </tbody>\n",
       "</table>\n",
       "</div>"
      ],
      "text/plain": [
       "        Date       SMB\n",
       "0 2021-05-03 -0.193622\n",
       "1 2021-05-10 -0.162929\n",
       "2 2021-05-17 -0.128733\n",
       "3 2021-05-24 -0.037547\n",
       "4 2021-05-31  0.044680"
      ]
     },
     "execution_count": 95,
     "metadata": {},
     "output_type": "execute_result"
    }
   ],
   "source": [
    "SMB_f2.head()"
   ]
  },
  {
   "cell_type": "code",
   "execution_count": null,
   "metadata": {
    "hidden": true,
    "id": "Pq5UYVoOFpTN"
   },
   "outputs": [],
   "source": [
    "\n",
    "btc_reg2 = btc[['Date', 'ExcessReturn']]\n",
    "\n",
    "btc_reg2 = btc_reg2.merge(SMB_f, on = 'Date', how = 'outer')\n",
    "\n",
    "y2 = btc_reg2 ['ExcessReturn'].copy()\n",
    "x2 = btc_reg2 [['SMB']]\n",
    "    \n",
    "model2 = LinearRegression()\n",
    "model2.fit(x2, y2)\n",
    "y_pred2 = model2.predict(x2)    \n",
    "alpha2 = model2.intercept_    "
   ]
  },
  {
   "cell_type": "code",
   "execution_count": null,
   "metadata": {
    "colab": {
     "base_uri": "https://localhost:8080/",
     "height": 0
    },
    "hidden": true,
    "id": "V6ne_8ZnFpTN",
    "outputId": "ee1cabb3-f3f5-44dd-fe2d-efddd7d219d0"
   },
   "outputs": [
    {
     "data": {
      "image/png": "[encoded data removed]",
      "text/plain": [
       "<Figure size 432x288 with 1 Axes>"
      ]
     },
     "metadata": {
      "needs_background": "light"
     },
     "output_type": "display_data"
    }
   ],
   "source": [
    "myPlot(btc_reg2.SMB, btc_reg2.ExcessReturn, model2)"
   ]
  },
  {
   "cell_type": "code",
   "execution_count": null,
   "metadata": {
    "colab": {
     "base_uri": "https://localhost:8080/"
    },
    "hidden": true,
    "id": "H7Ab552FFpTO",
    "outputId": "a47e1ba7-40ec-44e8-ff50-824c3c329707"
   },
   "outputs": [
    {
     "name": "stdout",
     "output_type": "stream",
     "text": [
      "alpha for BTC with SMB is: 0.0033782058862389004\n",
      "MAS for MKT is  6.71e-02\n",
      "MSE for MKT is  6.97e-03\n",
      "R2_score for MKT is  0.09\n"
     ]
    }
   ],
   "source": [
    "### get the alpha with MKT factor only\n",
    "print('alpha for BTC with SMB is:', model2.intercept_)\n",
    "### measure the performance of MKT Factor\n",
    "print('MAS for MKT is {: .2e}'.format(mean_absolute_error(y2, y_pred2)))\n",
    "print('MSE for MKT is {: .2e}'.format(mean_squared_error(y2, y_pred2)))\n",
    "print('R2_score for MKT is {: .2f}'.format(r2_score(y2, y_pred2)))"
   ]
  },
  {
   "cell_type": "code",
   "execution_count": null,
   "metadata": {
    "hidden": true,
    "id": "hE6-7eoxFpTO"
   },
   "outputs": [],
   "source": []
  },
  {
   "cell_type": "code",
   "execution_count": null,
   "metadata": {
    "hidden": true,
    "id": "76gcMvx_FpTO"
   },
   "outputs": [],
   "source": []
  },
  {
   "cell_type": "markdown",
   "metadata": {
    "id": "wYYIVBb1FpTO"
   },
   "source": [
    "## 4. VAL Factor (Lydia)"
   ]
  },
  {
   "cell_type": "markdown",
   "metadata": {},
   "source": [
    "**4.1 Reshape to get three tables with: Npast52_return, MarketCap, Return**"
   ]
  },
  {
   "cell_type": "code",
   "execution_count": null,
   "metadata": {
    "id": "v0yfnyMFFpTS"
   },
   "outputs": [],
   "source": [
    "value_npast52 = fullSample.loc[:,['Date', \n",
    "                                  'Npast52_return', \n",
    "                                  'Asset']].pivot(index=\"Date\", \n",
    "                                                  columns=[\"Asset\"], \n",
    "\n",
    "                                                  values='Npast52_return').reset_index().rename_axis(None, \n",
    "                                                                                                     axis=1).sort_values('Date')\n",
    "#value_npast52.to_csv('value_npast52.csv')\n",
    "#value_npast52.head()"
   ]
  },
  {
   "cell_type": "code",
   "execution_count": null,
   "metadata": {
    "id": "zrJTpBoXFpTS"
   },
   "outputs": [],
   "source": [
    "value_marketcap = fullSample.loc[:,['Date',\n",
    "                                    'MarketCap',\n",
    "                                    'Asset']].pivot(index ='Date', \n",
    "                                                    columns = [\"Asset\"],\n",
    "                                                    values = 'MarketCap'). reset_index().rename_axis(None,\n",
    "                                                                                                    axis=1).sort_values('Date')\n",
    "#value_marketcap.head(3)\n",
    "\n",
    "value_weekreturn = fullSample.loc[:, ['Date',\n",
    "                                      'Return',\n",
    "                                      'Asset']].pivot(index='Date',\n",
    "                                                      columns=['Asset'],\n",
    "                                                      values ='Return').reset_index().rename_axis(None,\n",
    "                                                                                                  axis=1).sort_values('Date')\n",
    "                                                                                   \n",
    "#value_weekreturn.head(3)"
   ]
  },
  {
   "cell_type": "markdown",
   "metadata": {},
   "source": [
    "**4.2 Generate two tables to identify whether in a day a coins is top20 or low20 against Npast52:**"
   ]
  },
  {
   "cell_type": "code",
   "execution_count": null,
   "metadata": {},
   "outputs": [
    {
     "data": {
      "text/html": [
       "<div>\n",
       "<style scoped>\n",
       "    .dataframe tbody tr th:only-of-type {\n",
       "        vertical-align: middle;\n",
       "    }\n",
       "\n",
       "    .dataframe tbody tr th {\n",
       "        vertical-align: top;\n",
       "    }\n",
       "\n",
       "    .dataframe thead th {\n",
       "        text-align: right;\n",
       "    }\n",
       "</style>\n",
       "<table border=\"1\" class=\"dataframe\">\n",
       "  <thead>\n",
       "    <tr style=\"text-align: right;\">\n",
       "      <th></th>\n",
       "      <th>AAVE</th>\n",
       "      <th>ABT</th>\n",
       "      <th>AMPL</th>\n",
       "      <th>ANT</th>\n",
       "      <th>ARMOR</th>\n",
       "      <th>BADGER</th>\n",
       "      <th>BAL</th>\n",
       "      <th>BAND</th>\n",
       "      <th>BAT</th>\n",
       "      <th>BIX</th>\n",
       "      <th>...</th>\n",
       "      <th>VERI</th>\n",
       "      <th>WBTC</th>\n",
       "      <th>WETH</th>\n",
       "      <th>WTC</th>\n",
       "      <th>WaBi</th>\n",
       "      <th>YAM</th>\n",
       "      <th>YFI</th>\n",
       "      <th>ZRX</th>\n",
       "      <th>sUSD</th>\n",
       "      <th>wNXM</th>\n",
       "    </tr>\n",
       "  </thead>\n",
       "  <tbody>\n",
       "    <tr>\n",
       "      <th>47</th>\n",
       "      <td>False</td>\n",
       "      <td>False</td>\n",
       "      <td>False</td>\n",
       "      <td>False</td>\n",
       "      <td>True</td>\n",
       "      <td>False</td>\n",
       "      <td>False</td>\n",
       "      <td>False</td>\n",
       "      <td>False</td>\n",
       "      <td>True</td>\n",
       "      <td>...</td>\n",
       "      <td>False</td>\n",
       "      <td>False</td>\n",
       "      <td>False</td>\n",
       "      <td>False</td>\n",
       "      <td>True</td>\n",
       "      <td>True</td>\n",
       "      <td>False</td>\n",
       "      <td>False</td>\n",
       "      <td>False</td>\n",
       "      <td>False</td>\n",
       "    </tr>\n",
       "    <tr>\n",
       "      <th>48</th>\n",
       "      <td>False</td>\n",
       "      <td>False</td>\n",
       "      <td>False</td>\n",
       "      <td>False</td>\n",
       "      <td>True</td>\n",
       "      <td>False</td>\n",
       "      <td>False</td>\n",
       "      <td>True</td>\n",
       "      <td>False</td>\n",
       "      <td>True</td>\n",
       "      <td>...</td>\n",
       "      <td>False</td>\n",
       "      <td>False</td>\n",
       "      <td>False</td>\n",
       "      <td>False</td>\n",
       "      <td>True</td>\n",
       "      <td>True</td>\n",
       "      <td>False</td>\n",
       "      <td>False</td>\n",
       "      <td>False</td>\n",
       "      <td>False</td>\n",
       "    </tr>\n",
       "    <tr>\n",
       "      <th>49</th>\n",
       "      <td>False</td>\n",
       "      <td>False</td>\n",
       "      <td>False</td>\n",
       "      <td>False</td>\n",
       "      <td>True</td>\n",
       "      <td>False</td>\n",
       "      <td>False</td>\n",
       "      <td>True</td>\n",
       "      <td>False</td>\n",
       "      <td>False</td>\n",
       "      <td>...</td>\n",
       "      <td>False</td>\n",
       "      <td>False</td>\n",
       "      <td>False</td>\n",
       "      <td>False</td>\n",
       "      <td>False</td>\n",
       "      <td>True</td>\n",
       "      <td>False</td>\n",
       "      <td>False</td>\n",
       "      <td>False</td>\n",
       "      <td>False</td>\n",
       "    </tr>\n",
       "    <tr>\n",
       "      <th>50</th>\n",
       "      <td>False</td>\n",
       "      <td>False</td>\n",
       "      <td>False</td>\n",
       "      <td>False</td>\n",
       "      <td>True</td>\n",
       "      <td>False</td>\n",
       "      <td>False</td>\n",
       "      <td>False</td>\n",
       "      <td>False</td>\n",
       "      <td>True</td>\n",
       "      <td>...</td>\n",
       "      <td>False</td>\n",
       "      <td>False</td>\n",
       "      <td>False</td>\n",
       "      <td>False</td>\n",
       "      <td>True</td>\n",
       "      <td>True</td>\n",
       "      <td>False</td>\n",
       "      <td>False</td>\n",
       "      <td>False</td>\n",
       "      <td>False</td>\n",
       "    </tr>\n",
       "    <tr>\n",
       "      <th>51</th>\n",
       "      <td>False</td>\n",
       "      <td>False</td>\n",
       "      <td>False</td>\n",
       "      <td>False</td>\n",
       "      <td>True</td>\n",
       "      <td>False</td>\n",
       "      <td>False</td>\n",
       "      <td>False</td>\n",
       "      <td>False</td>\n",
       "      <td>False</td>\n",
       "      <td>...</td>\n",
       "      <td>False</td>\n",
       "      <td>False</td>\n",
       "      <td>False</td>\n",
       "      <td>False</td>\n",
       "      <td>True</td>\n",
       "      <td>True</td>\n",
       "      <td>False</td>\n",
       "      <td>False</td>\n",
       "      <td>False</td>\n",
       "      <td>False</td>\n",
       "    </tr>\n",
       "  </tbody>\n",
       "</table>\n",
       "<p>5 rows × 121 columns</p>\n",
       "</div>"
      ],
      "text/plain": [
       "     AAVE    ABT   AMPL    ANT  ARMOR  BADGER    BAL   BAND    BAT    BIX  \\\n",
       "47  False  False  False  False   True   False  False  False  False   True   \n",
       "48  False  False  False  False   True   False  False   True  False   True   \n",
       "49  False  False  False  False   True   False  False   True  False  False   \n",
       "50  False  False  False  False   True   False  False  False  False   True   \n",
       "51  False  False  False  False   True   False  False  False  False  False   \n",
       "\n",
       "    ...   VERI   WBTC   WETH    WTC   WaBi   YAM    YFI    ZRX   sUSD   wNXM  \n",
       "47  ...  False  False  False  False   True  True  False  False  False  False  \n",
       "48  ...  False  False  False  False   True  True  False  False  False  False  \n",
       "49  ...  False  False  False  False  False  True  False  False  False  False  \n",
       "50  ...  False  False  False  False   True  True  False  False  False  False  \n",
       "51  ...  False  False  False  False   True  True  False  False  False  False  \n",
       "\n",
       "[5 rows x 121 columns]"
      ]
     },
     "execution_count": 132,
     "metadata": {},
     "output_type": "execute_result"
    }
   ],
   "source": [
    "value_npast52_temp = value_npast52.copy()\n",
    "cols_coins = list(fullSample['Asset'].unique())\n",
    "\n",
    "value_npast52_temp['top20'] = value_npast52[cols_coins].quantile(q=0.8, axis=1, numeric_only=True, interpolation='linear')\n",
    "value_npast52_temp['low20'] = value_npast52[cols_coins].quantile(q=0.2, axis=1, numeric_only=True, interpolation='linear')\n",
    "\n",
    "value_npast52_top = value_npast52_temp.drop(columns =['Date','low20'])\n",
    "value_npast52_low = value_npast52_temp.drop(columns =['Date','top20'])\n",
    "\n",
    "index_top = value_npast52_top.apply(lambda x: x > value_npast52_top.iloc[:,-1])\n",
    "index_top = index_top.drop(columns='top20')\n",
    "index_low = value_npast52_low.apply(lambda x: x < value_npast52_low.iloc[:,-1])\n",
    "index_low = index_low.drop(columns='low20')\n",
    "index_low.tail()"
   ]
  },
  {
   "cell_type": "markdown",
   "metadata": {},
   "source": [
    "**4.3 Calculate top20 and low20 weighted weekly return:**"
   ]
  },
  {
   "cell_type": "code",
   "execution_count": null,
   "metadata": {},
   "outputs": [],
   "source": [
    "sum_top_weight = pd.DataFrame((value_weekreturn.iloc[:,1:].values \n",
    "                               * index_top.values \n",
    "                               * value_marketcap.iloc[:,1:].values))\n",
    "sum_top_weight['weight_top_sum'] = sum_top_weight.sum(axis='columns')\n",
    "\n",
    "\n",
    "sum_top_mktcap_temp = pd.DataFrame((index_top.values \n",
    "                               * value_marketcap.iloc[:,1:].values))\n",
    "sum_top_weight['Totalmktcap_top'] = sum_top_mktcap_temp.sum(axis='columns')\n",
    "sum_top_weight['ValFactor_top'] = sum_top_weight['weight_top_sum'] / sum_top_weight['Totalmktcap_top']"
   ]
  },
  {
   "cell_type": "code",
   "execution_count": null,
   "metadata": {},
   "outputs": [],
   "source": [
    "sum_low_weight = pd.DataFrame((value_weekreturn.iloc[:,1:].values \n",
    "                               * index_low.values \n",
    "                               * value_marketcap.iloc[:,1:].values))\n",
    "sum_low_weight['weight_low_sum'] = sum_low_weight.sum(axis='columns')\n",
    "\n",
    "sum_low_mktcap_temp = pd.DataFrame((index_low.values \n",
    "                               * value_marketcap.iloc[:,1:].values))\n",
    "sum_low_weight['Totalmktcap_low'] = sum_low_mktcap_temp.sum(axis='columns')\n",
    "sum_low_weight['ValFactor_low'] = sum_low_weight['weight_low_sum'] / sum_low_weight['Totalmktcap_low']"
   ]
  },
  {
   "cell_type": "markdown",
   "metadata": {},
   "source": [
    "**4.4 Get Value Factor:**"
   ]
  },
  {
   "cell_type": "code",
   "execution_count": null,
   "metadata": {},
   "outputs": [
    {
     "data": {
      "text/html": [
       "<div>\n",
       "<style scoped>\n",
       "    .dataframe tbody tr th:only-of-type {\n",
       "        vertical-align: middle;\n",
       "    }\n",
       "\n",
       "    .dataframe tbody tr th {\n",
       "        vertical-align: top;\n",
       "    }\n",
       "\n",
       "    .dataframe thead th {\n",
       "        text-align: right;\n",
       "    }\n",
       "</style>\n",
       "<table border=\"1\" class=\"dataframe\">\n",
       "  <thead>\n",
       "    <tr style=\"text-align: right;\">\n",
       "      <th></th>\n",
       "      <th>Date</th>\n",
       "      <th>VAL</th>\n",
       "    </tr>\n",
       "  </thead>\n",
       "  <tbody>\n",
       "    <tr>\n",
       "      <th>0</th>\n",
       "      <td>2021-05-03</td>\n",
       "      <td>0.427391</td>\n",
       "    </tr>\n",
       "    <tr>\n",
       "      <th>1</th>\n",
       "      <td>2021-05-10</td>\n",
       "      <td>0.165418</td>\n",
       "    </tr>\n",
       "    <tr>\n",
       "      <th>2</th>\n",
       "      <td>2021-05-17</td>\n",
       "      <td>-0.409644</td>\n",
       "    </tr>\n",
       "    <tr>\n",
       "      <th>3</th>\n",
       "      <td>2021-05-24</td>\n",
       "      <td>0.149525</td>\n",
       "    </tr>\n",
       "    <tr>\n",
       "      <th>4</th>\n",
       "      <td>2021-05-31</td>\n",
       "      <td>0.121057</td>\n",
       "    </tr>\n",
       "    <tr>\n",
       "      <th>5</th>\n",
       "      <td>2021-06-07</td>\n",
       "      <td>-0.068965</td>\n",
       "    </tr>\n",
       "    <tr>\n",
       "      <th>6</th>\n",
       "      <td>2021-06-14</td>\n",
       "      <td>-0.099080</td>\n",
       "    </tr>\n",
       "    <tr>\n",
       "      <th>7</th>\n",
       "      <td>2021-06-21</td>\n",
       "      <td>-0.122532</td>\n",
       "    </tr>\n",
       "    <tr>\n",
       "      <th>8</th>\n",
       "      <td>2021-06-28</td>\n",
       "      <td>0.164612</td>\n",
       "    </tr>\n",
       "    <tr>\n",
       "      <th>9</th>\n",
       "      <td>2021-07-05</td>\n",
       "      <td>-0.073297</td>\n",
       "    </tr>\n",
       "    <tr>\n",
       "      <th>10</th>\n",
       "      <td>2021-07-12</td>\n",
       "      <td>-0.071540</td>\n",
       "    </tr>\n",
       "    <tr>\n",
       "      <th>11</th>\n",
       "      <td>2021-07-19</td>\n",
       "      <td>0.151259</td>\n",
       "    </tr>\n",
       "    <tr>\n",
       "      <th>12</th>\n",
       "      <td>2021-07-26</td>\n",
       "      <td>0.144445</td>\n",
       "    </tr>\n",
       "    <tr>\n",
       "      <th>13</th>\n",
       "      <td>2021-08-02</td>\n",
       "      <td>0.065810</td>\n",
       "    </tr>\n",
       "    <tr>\n",
       "      <th>14</th>\n",
       "      <td>2021-08-09</td>\n",
       "      <td>-0.017698</td>\n",
       "    </tr>\n",
       "    <tr>\n",
       "      <th>15</th>\n",
       "      <td>2021-08-16</td>\n",
       "      <td>-0.084075</td>\n",
       "    </tr>\n",
       "    <tr>\n",
       "      <th>16</th>\n",
       "      <td>2021-08-23</td>\n",
       "      <td>-0.002697</td>\n",
       "    </tr>\n",
       "    <tr>\n",
       "      <th>17</th>\n",
       "      <td>2021-08-30</td>\n",
       "      <td>0.224550</td>\n",
       "    </tr>\n",
       "    <tr>\n",
       "      <th>18</th>\n",
       "      <td>2021-09-06</td>\n",
       "      <td>-0.047266</td>\n",
       "    </tr>\n",
       "    <tr>\n",
       "      <th>19</th>\n",
       "      <td>2021-09-13</td>\n",
       "      <td>-0.026500</td>\n",
       "    </tr>\n",
       "    <tr>\n",
       "      <th>20</th>\n",
       "      <td>2021-09-20</td>\n",
       "      <td>-0.084057</td>\n",
       "    </tr>\n",
       "    <tr>\n",
       "      <th>21</th>\n",
       "      <td>2021-09-27</td>\n",
       "      <td>0.116257</td>\n",
       "    </tr>\n",
       "    <tr>\n",
       "      <th>22</th>\n",
       "      <td>2021-10-04</td>\n",
       "      <td>-0.003781</td>\n",
       "    </tr>\n",
       "    <tr>\n",
       "      <th>23</th>\n",
       "      <td>2021-10-11</td>\n",
       "      <td>0.124967</td>\n",
       "    </tr>\n",
       "    <tr>\n",
       "      <th>24</th>\n",
       "      <td>2021-10-18</td>\n",
       "      <td>0.043519</td>\n",
       "    </tr>\n",
       "    <tr>\n",
       "      <th>25</th>\n",
       "      <td>2021-10-25</td>\n",
       "      <td>0.083173</td>\n",
       "    </tr>\n",
       "    <tr>\n",
       "      <th>26</th>\n",
       "      <td>2021-11-01</td>\n",
       "      <td>0.072808</td>\n",
       "    </tr>\n",
       "    <tr>\n",
       "      <th>27</th>\n",
       "      <td>2021-11-08</td>\n",
       "      <td>0.009947</td>\n",
       "    </tr>\n",
       "    <tr>\n",
       "      <th>28</th>\n",
       "      <td>2021-11-15</td>\n",
       "      <td>0.177454</td>\n",
       "    </tr>\n",
       "    <tr>\n",
       "      <th>29</th>\n",
       "      <td>2021-11-22</td>\n",
       "      <td>0.088506</td>\n",
       "    </tr>\n",
       "    <tr>\n",
       "      <th>30</th>\n",
       "      <td>2021-11-29</td>\n",
       "      <td>0.148912</td>\n",
       "    </tr>\n",
       "    <tr>\n",
       "      <th>31</th>\n",
       "      <td>2021-12-06</td>\n",
       "      <td>0.120577</td>\n",
       "    </tr>\n",
       "    <tr>\n",
       "      <th>32</th>\n",
       "      <td>2021-12-13</td>\n",
       "      <td>0.009584</td>\n",
       "    </tr>\n",
       "    <tr>\n",
       "      <th>33</th>\n",
       "      <td>2021-12-20</td>\n",
       "      <td>0.180444</td>\n",
       "    </tr>\n",
       "    <tr>\n",
       "      <th>34</th>\n",
       "      <td>2021-12-27</td>\n",
       "      <td>-0.067235</td>\n",
       "    </tr>\n",
       "    <tr>\n",
       "      <th>35</th>\n",
       "      <td>2022-01-03</td>\n",
       "      <td>-0.014617</td>\n",
       "    </tr>\n",
       "    <tr>\n",
       "      <th>36</th>\n",
       "      <td>2022-01-10</td>\n",
       "      <td>0.086299</td>\n",
       "    </tr>\n",
       "    <tr>\n",
       "      <th>37</th>\n",
       "      <td>2022-01-17</td>\n",
       "      <td>0.015321</td>\n",
       "    </tr>\n",
       "    <tr>\n",
       "      <th>38</th>\n",
       "      <td>2022-01-24</td>\n",
       "      <td>0.086276</td>\n",
       "    </tr>\n",
       "    <tr>\n",
       "      <th>39</th>\n",
       "      <td>2022-01-31</td>\n",
       "      <td>0.082884</td>\n",
       "    </tr>\n",
       "    <tr>\n",
       "      <th>40</th>\n",
       "      <td>2022-02-07</td>\n",
       "      <td>0.063102</td>\n",
       "    </tr>\n",
       "    <tr>\n",
       "      <th>41</th>\n",
       "      <td>2022-02-14</td>\n",
       "      <td>0.030298</td>\n",
       "    </tr>\n",
       "    <tr>\n",
       "      <th>42</th>\n",
       "      <td>2022-02-21</td>\n",
       "      <td>0.082668</td>\n",
       "    </tr>\n",
       "    <tr>\n",
       "      <th>43</th>\n",
       "      <td>2022-02-28</td>\n",
       "      <td>0.010549</td>\n",
       "    </tr>\n",
       "    <tr>\n",
       "      <th>44</th>\n",
       "      <td>2022-03-07</td>\n",
       "      <td>-0.006317</td>\n",
       "    </tr>\n",
       "    <tr>\n",
       "      <th>45</th>\n",
       "      <td>2022-03-14</td>\n",
       "      <td>-0.023083</td>\n",
       "    </tr>\n",
       "    <tr>\n",
       "      <th>46</th>\n",
       "      <td>2022-03-21</td>\n",
       "      <td>-0.049756</td>\n",
       "    </tr>\n",
       "    <tr>\n",
       "      <th>47</th>\n",
       "      <td>2022-03-28</td>\n",
       "      <td>-0.015182</td>\n",
       "    </tr>\n",
       "    <tr>\n",
       "      <th>48</th>\n",
       "      <td>2022-04-04</td>\n",
       "      <td>0.117806</td>\n",
       "    </tr>\n",
       "    <tr>\n",
       "      <th>49</th>\n",
       "      <td>2022-04-11</td>\n",
       "      <td>-0.025170</td>\n",
       "    </tr>\n",
       "    <tr>\n",
       "      <th>50</th>\n",
       "      <td>2022-04-18</td>\n",
       "      <td>0.083083</td>\n",
       "    </tr>\n",
       "    <tr>\n",
       "      <th>51</th>\n",
       "      <td>2022-04-25</td>\n",
       "      <td>0.184336</td>\n",
       "    </tr>\n",
       "  </tbody>\n",
       "</table>\n",
       "</div>"
      ],
      "text/plain": [
       "         Date       VAL\n",
       "0  2021-05-03  0.427391\n",
       "1  2021-05-10  0.165418\n",
       "2  2021-05-17 -0.409644\n",
       "3  2021-05-24  0.149525\n",
       "4  2021-05-31  0.121057\n",
       "5  2021-06-07 -0.068965\n",
       "6  2021-06-14 -0.099080\n",
       "7  2021-06-21 -0.122532\n",
       "8  2021-06-28  0.164612\n",
       "9  2021-07-05 -0.073297\n",
       "10 2021-07-12 -0.071540\n",
       "11 2021-07-19  0.151259\n",
       "12 2021-07-26  0.144445\n",
       "13 2021-08-02  0.065810\n",
       "14 2021-08-09 -0.017698\n",
       "15 2021-08-16 -0.084075\n",
       "16 2021-08-23 -0.002697\n",
       "17 2021-08-30  0.224550\n",
       "18 2021-09-06 -0.047266\n",
       "19 2021-09-13 -0.026500\n",
       "20 2021-09-20 -0.084057\n",
       "21 2021-09-27  0.116257\n",
       "22 2021-10-04 -0.003781\n",
       "23 2021-10-11  0.124967\n",
       "24 2021-10-18  0.043519\n",
       "25 2021-10-25  0.083173\n",
       "26 2021-11-01  0.072808\n",
       "27 2021-11-08  0.009947\n",
       "28 2021-11-15  0.177454\n",
       "29 2021-11-22  0.088506\n",
       "30 2021-11-29  0.148912\n",
       "31 2021-12-06  0.120577\n",
       "32 2021-12-13  0.009584\n",
       "33 2021-12-20  0.180444\n",
       "34 2021-12-27 -0.067235\n",
       "35 2022-01-03 -0.014617\n",
       "36 2022-01-10  0.086299\n",
       "37 2022-01-17  0.015321\n",
       "38 2022-01-24  0.086276\n",
       "39 2022-01-31  0.082884\n",
       "40 2022-02-07  0.063102\n",
       "41 2022-02-14  0.030298\n",
       "42 2022-02-21  0.082668\n",
       "43 2022-02-28  0.010549\n",
       "44 2022-03-07 -0.006317\n",
       "45 2022-03-14 -0.023083\n",
       "46 2022-03-21 -0.049756\n",
       "47 2022-03-28 -0.015182\n",
       "48 2022-04-04  0.117806\n",
       "49 2022-04-11 -0.025170\n",
       "50 2022-04-18  0.083083\n",
       "51 2022-04-25  0.184336"
      ]
     },
     "execution_count": 135,
     "metadata": {},
     "output_type": "execute_result"
    }
   ],
   "source": [
    "valueFactor = pd.DataFrame(columns=['Date','VAL'])\n",
    "valueFactor['Date'] = value_weekreturn['Date']\n",
    "valueFactor['VAL'] = sum_top_weight['ValFactor_top'] - sum_low_weight['ValFactor_low']\n",
    "valueFactor"
   ]
  },
  {
   "cell_type": "markdown",
   "metadata": {},
   "source": [
    "**4.5 Factor visualization:**"
   ]
  },
  {
   "cell_type": "code",
   "execution_count": null,
   "metadata": {
    "id": "_oD8oSa0FpTT",
    "outputId": "8b672fb8-2ace-467a-f775-3917edfc7155"
   },
   "outputs": [
    {
     "data": {
      "image/png": "[encoded data removed]",
      "text/plain": [
       "<Figure size 1440x720 with 1 Axes>"
      ]
     },
     "metadata": {
      "needs_background": "light"
     },
     "output_type": "display_data"
    }
   ],
   "source": [
    "import matplotlib.pyplot as plt\n",
    "\n",
    "#for i in regr_df.columns.to_list():\n",
    "plt.figure(figsize = (20,10))\n",
    "plt.plot(valueFactor.Date, valueFactor.VAL)\n",
    "plt.ylabel('ratio')\n",
    "plt.xlabel('year')\n",
    "plt.title('Value Factor')\n",
    "plt.show()\n"
   ]
  },
  {
   "cell_type": "markdown",
   "metadata": {
    "id": "bFOzfWR5FpTT"
   },
   "source": [
    "## 5. MOM Factor (Sean)"
   ]
  },
  {
   "cell_type": "markdown",
   "metadata": {
    "id": "t2dUAn-ZFpTT"
   },
   "source": [
    "### Get LargeCap Sample(maket cap > 10000)"
   ]
  },
  {
   "cell_type": "code",
   "execution_count": null,
   "metadata": {
    "colab": {
     "base_uri": "https://localhost:8080/",
     "height": 424
    },
    "id": "Q7v3HyqEGrpi",
    "outputId": "3c3861db-467f-4e88-deb0-814c34442054"
   },
   "outputs": [
    {
     "data": {
      "text/html": [
       "<div>\n",
       "<style scoped>\n",
       "    .dataframe tbody tr th:only-of-type {\n",
       "        vertical-align: middle;\n",
       "    }\n",
       "\n",
       "    .dataframe tbody tr th {\n",
       "        vertical-align: top;\n",
       "    }\n",
       "\n",
       "    .dataframe thead th {\n",
       "        text-align: right;\n",
       "    }\n",
       "</style>\n",
       "<table border=\"1\" class=\"dataframe\">\n",
       "  <thead>\n",
       "    <tr style=\"text-align: right;\">\n",
       "      <th></th>\n",
       "      <th>Date</th>\n",
       "      <th>Price</th>\n",
       "      <th>MarketCap</th>\n",
       "      <th>ActiveAddress</th>\n",
       "      <th>RiskFree</th>\n",
       "      <th>Asset</th>\n",
       "      <th>Return</th>\n",
       "      <th>week2_return</th>\n",
       "      <th>Npast52_return</th>\n",
       "      <th>ExcessReturn</th>\n",
       "    </tr>\n",
       "  </thead>\n",
       "  <tbody>\n",
       "    <tr>\n",
       "      <th>0</th>\n",
       "      <td>2021-05-03</td>\n",
       "      <td>58218.566077</td>\n",
       "      <td>1.088991e+12</td>\n",
       "      <td>6622607.0</td>\n",
       "      <td>0.0001</td>\n",
       "      <td>BTC</td>\n",
       "      <td>0.028357</td>\n",
       "      <td>0.187168</td>\n",
       "      <td>5.020518</td>\n",
       "      <td>0.028257</td>\n",
       "    </tr>\n",
       "    <tr>\n",
       "      <th>1</th>\n",
       "      <td>2021-05-10</td>\n",
       "      <td>46406.331544</td>\n",
       "      <td>8.683518e+11</td>\n",
       "      <td>6062366.0</td>\n",
       "      <td>0.0001</td>\n",
       "      <td>BTC</td>\n",
       "      <td>-0.202895</td>\n",
       "      <td>-0.180291</td>\n",
       "      <td>4.277670</td>\n",
       "      <td>-0.202995</td>\n",
       "    </tr>\n",
       "    <tr>\n",
       "      <th>2</th>\n",
       "      <td>2021-05-17</td>\n",
       "      <td>34888.678313</td>\n",
       "      <td>6.530094e+11</td>\n",
       "      <td>4960283.0</td>\n",
       "      <td>0.0001</td>\n",
       "      <td>BTC</td>\n",
       "      <td>-0.248191</td>\n",
       "      <td>-0.400729</td>\n",
       "      <td>2.690965</td>\n",
       "      <td>-0.248291</td>\n",
       "    </tr>\n",
       "    <tr>\n",
       "      <th>3</th>\n",
       "      <td>2021-05-24</td>\n",
       "      <td>35639.981455</td>\n",
       "      <td>6.672647e+11</td>\n",
       "      <td>4981835.0</td>\n",
       "      <td>0.0000</td>\n",
       "      <td>BTC</td>\n",
       "      <td>0.021534</td>\n",
       "      <td>-0.232002</td>\n",
       "      <td>2.651751</td>\n",
       "      <td>0.021534</td>\n",
       "    </tr>\n",
       "    <tr>\n",
       "      <th>4</th>\n",
       "      <td>2021-05-31</td>\n",
       "      <td>35797.422390</td>\n",
       "      <td>6.704378e+11</td>\n",
       "      <td>4893673.0</td>\n",
       "      <td>0.0001</td>\n",
       "      <td>BTC</td>\n",
       "      <td>0.004418</td>\n",
       "      <td>0.026047</td>\n",
       "      <td>2.813597</td>\n",
       "      <td>0.004318</td>\n",
       "    </tr>\n",
       "    <tr>\n",
       "      <th>...</th>\n",
       "      <td>...</td>\n",
       "      <td>...</td>\n",
       "      <td>...</td>\n",
       "      <td>...</td>\n",
       "      <td>...</td>\n",
       "      <td>...</td>\n",
       "      <td>...</td>\n",
       "      <td>...</td>\n",
       "      <td>...</td>\n",
       "      <td>...</td>\n",
       "    </tr>\n",
       "    <tr>\n",
       "      <th>6287</th>\n",
       "      <td>2022-03-28</td>\n",
       "      <td>0.910632</td>\n",
       "      <td>7.717570e+08</td>\n",
       "      <td>835.0</td>\n",
       "      <td>0.0017</td>\n",
       "      <td>ZRX</td>\n",
       "      <td>0.254326</td>\n",
       "      <td>0.654764</td>\n",
       "      <td>-0.574214</td>\n",
       "      <td>0.252626</td>\n",
       "    </tr>\n",
       "    <tr>\n",
       "      <th>6288</th>\n",
       "      <td>2022-04-04</td>\n",
       "      <td>0.754619</td>\n",
       "      <td>6.395366e+08</td>\n",
       "      <td>1284.0</td>\n",
       "      <td>0.0017</td>\n",
       "      <td>ZRX</td>\n",
       "      <td>-0.171324</td>\n",
       "      <td>0.039430</td>\n",
       "      <td>-0.567780</td>\n",
       "      <td>-0.173024</td>\n",
       "    </tr>\n",
       "    <tr>\n",
       "      <th>6289</th>\n",
       "      <td>2022-04-11</td>\n",
       "      <td>0.686854</td>\n",
       "      <td>5.821057e+08</td>\n",
       "      <td>1266.0</td>\n",
       "      <td>0.0020</td>\n",
       "      <td>ZRX</td>\n",
       "      <td>-0.089801</td>\n",
       "      <td>-0.245740</td>\n",
       "      <td>-0.487158</td>\n",
       "      <td>-0.091801</td>\n",
       "    </tr>\n",
       "    <tr>\n",
       "      <th>6290</th>\n",
       "      <td>2022-04-18</td>\n",
       "      <td>0.808817</td>\n",
       "      <td>6.854696e+08</td>\n",
       "      <td>2274.0</td>\n",
       "      <td>0.0031</td>\n",
       "      <td>ZRX</td>\n",
       "      <td>0.177569</td>\n",
       "      <td>0.071822</td>\n",
       "      <td>-0.567022</td>\n",
       "      <td>0.174469</td>\n",
       "    </tr>\n",
       "    <tr>\n",
       "      <th>6291</th>\n",
       "      <td>2022-04-25</td>\n",
       "      <td>0.717148</td>\n",
       "      <td>6.077804e+08</td>\n",
       "      <td>1699.0</td>\n",
       "      <td>0.0042</td>\n",
       "      <td>ZRX</td>\n",
       "      <td>-0.113337</td>\n",
       "      <td>0.044106</td>\n",
       "      <td>-0.633263</td>\n",
       "      <td>-0.117537</td>\n",
       "    </tr>\n",
       "  </tbody>\n",
       "</table>\n",
       "<p>6103 rows × 10 columns</p>\n",
       "</div>"
      ],
      "text/plain": [
       "           Date         Price     MarketCap  ActiveAddress  RiskFree Asset  \\\n",
       "0    2021-05-03  58218.566077  1.088991e+12      6622607.0    0.0001   BTC   \n",
       "1    2021-05-10  46406.331544  8.683518e+11      6062366.0    0.0001   BTC   \n",
       "2    2021-05-17  34888.678313  6.530094e+11      4960283.0    0.0001   BTC   \n",
       "3    2021-05-24  35639.981455  6.672647e+11      4981835.0    0.0000   BTC   \n",
       "4    2021-05-31  35797.422390  6.704378e+11      4893673.0    0.0001   BTC   \n",
       "...         ...           ...           ...            ...       ...   ...   \n",
       "6287 2022-03-28      0.910632  7.717570e+08          835.0    0.0017   ZRX   \n",
       "6288 2022-04-04      0.754619  6.395366e+08         1284.0    0.0017   ZRX   \n",
       "6289 2022-04-11      0.686854  5.821057e+08         1266.0    0.0020   ZRX   \n",
       "6290 2022-04-18      0.808817  6.854696e+08         2274.0    0.0031   ZRX   \n",
       "6291 2022-04-25      0.717148  6.077804e+08         1699.0    0.0042   ZRX   \n",
       "\n",
       "        Return  week2_return  Npast52_return  ExcessReturn  \n",
       "0     0.028357      0.187168        5.020518      0.028257  \n",
       "1    -0.202895     -0.180291        4.277670     -0.202995  \n",
       "2    -0.248191     -0.400729        2.690965     -0.248291  \n",
       "3     0.021534     -0.232002        2.651751      0.021534  \n",
       "4     0.004418      0.026047        2.813597      0.004318  \n",
       "...        ...           ...             ...           ...  \n",
       "6287  0.254326      0.654764       -0.574214      0.252626  \n",
       "6288 -0.171324      0.039430       -0.567780     -0.173024  \n",
       "6289 -0.089801     -0.245740       -0.487158     -0.091801  \n",
       "6290  0.177569      0.071822       -0.567022      0.174469  \n",
       "6291 -0.113337      0.044106       -0.633263     -0.117537  \n",
       "\n",
       "[6103 rows x 10 columns]"
      ]
     },
     "execution_count": 137,
     "metadata": {},
     "output_type": "execute_result"
    }
   ],
   "source": [
    "# Filter MarketCap to Get largeSample\n",
    "largeCapSample = fullSample.query(\"MarketCap > 1000000\")\n",
    "largeCapSample"
   ]
  },
  {
   "cell_type": "markdown",
   "metadata": {
    "id": "L1jGTJhFFpTT"
   },
   "source": [
    "### Reshape Dataframe"
   ]
  },
  {
   "cell_type": "code",
   "execution_count": null,
   "metadata": {
    "colab": {
     "base_uri": "https://localhost:8080/",
     "height": 236
    },
    "id": "Np6iRl-rGxBZ",
    "outputId": "60d963e5-2591-499e-be66-790b28f70a7a"
   },
   "outputs": [
    {
     "data": {
      "text/html": [
       "<div>\n",
       "<style scoped>\n",
       "    .dataframe tbody tr th:only-of-type {\n",
       "        vertical-align: middle;\n",
       "    }\n",
       "\n",
       "    .dataframe tbody tr th {\n",
       "        vertical-align: top;\n",
       "    }\n",
       "\n",
       "    .dataframe thead th {\n",
       "        text-align: right;\n",
       "    }\n",
       "</style>\n",
       "<table border=\"1\" class=\"dataframe\">\n",
       "  <thead>\n",
       "    <tr style=\"text-align: right;\">\n",
       "      <th></th>\n",
       "      <th>Date</th>\n",
       "      <th>AAVE</th>\n",
       "      <th>ABT</th>\n",
       "      <th>AMPL</th>\n",
       "      <th>ANT</th>\n",
       "      <th>ARMOR</th>\n",
       "      <th>BADGER</th>\n",
       "      <th>BAL</th>\n",
       "      <th>BAND</th>\n",
       "      <th>BAT</th>\n",
       "      <th>...</th>\n",
       "      <th>UTK</th>\n",
       "      <th>VERI</th>\n",
       "      <th>WBTC</th>\n",
       "      <th>WTC</th>\n",
       "      <th>WaBi</th>\n",
       "      <th>YAM</th>\n",
       "      <th>YFI</th>\n",
       "      <th>ZRX</th>\n",
       "      <th>sUSD</th>\n",
       "      <th>wNXM</th>\n",
       "    </tr>\n",
       "  </thead>\n",
       "  <tbody>\n",
       "    <tr>\n",
       "      <th>0</th>\n",
       "      <td>2021-05-03</td>\n",
       "      <td>-0.049263</td>\n",
       "      <td>0.022970</td>\n",
       "      <td>0.112456</td>\n",
       "      <td>0.069679</td>\n",
       "      <td>0.080898</td>\n",
       "      <td>-0.024938</td>\n",
       "      <td>0.079109</td>\n",
       "      <td>0.001570</td>\n",
       "      <td>0.126182</td>\n",
       "      <td>...</td>\n",
       "      <td>-0.003380</td>\n",
       "      <td>0.406858</td>\n",
       "      <td>0.032826</td>\n",
       "      <td>0.141704</td>\n",
       "      <td>0.070760</td>\n",
       "      <td>NaN</td>\n",
       "      <td>0.102180</td>\n",
       "      <td>0.046813</td>\n",
       "      <td>0.010270</td>\n",
       "      <td>0.348608</td>\n",
       "    </tr>\n",
       "    <tr>\n",
       "      <th>1</th>\n",
       "      <td>2021-05-10</td>\n",
       "      <td>0.143665</td>\n",
       "      <td>-0.171471</td>\n",
       "      <td>-0.281857</td>\n",
       "      <td>-0.244447</td>\n",
       "      <td>-0.323333</td>\n",
       "      <td>-0.256346</td>\n",
       "      <td>-0.182583</td>\n",
       "      <td>-0.204940</td>\n",
       "      <td>-0.194722</td>\n",
       "      <td>...</td>\n",
       "      <td>-0.254292</td>\n",
       "      <td>0.062182</td>\n",
       "      <td>-0.204564</td>\n",
       "      <td>-0.164128</td>\n",
       "      <td>-0.319218</td>\n",
       "      <td>NaN</td>\n",
       "      <td>0.234226</td>\n",
       "      <td>-0.195655</td>\n",
       "      <td>-0.007335</td>\n",
       "      <td>-0.150428</td>\n",
       "    </tr>\n",
       "    <tr>\n",
       "      <th>2</th>\n",
       "      <td>2021-05-17</td>\n",
       "      <td>-0.435925</td>\n",
       "      <td>-0.482439</td>\n",
       "      <td>-0.357192</td>\n",
       "      <td>-0.560776</td>\n",
       "      <td>-0.456955</td>\n",
       "      <td>-0.597872</td>\n",
       "      <td>-0.523110</td>\n",
       "      <td>-0.514725</td>\n",
       "      <td>-0.504094</td>\n",
       "      <td>...</td>\n",
       "      <td>-0.542375</td>\n",
       "      <td>-0.447383</td>\n",
       "      <td>-0.245743</td>\n",
       "      <td>-0.593304</td>\n",
       "      <td>-0.551696</td>\n",
       "      <td>NaN</td>\n",
       "      <td>-0.499353</td>\n",
       "      <td>-0.486727</td>\n",
       "      <td>-0.019204</td>\n",
       "      <td>-0.410748</td>\n",
       "    </tr>\n",
       "    <tr>\n",
       "      <th>3</th>\n",
       "      <td>2021-05-24</td>\n",
       "      <td>0.094413</td>\n",
       "      <td>0.379361</td>\n",
       "      <td>0.464830</td>\n",
       "      <td>0.228098</td>\n",
       "      <td>0.103387</td>\n",
       "      <td>0.117416</td>\n",
       "      <td>0.069808</td>\n",
       "      <td>0.085198</td>\n",
       "      <td>0.244939</td>\n",
       "      <td>...</td>\n",
       "      <td>0.164792</td>\n",
       "      <td>0.188722</td>\n",
       "      <td>0.019047</td>\n",
       "      <td>0.204790</td>\n",
       "      <td>0.212288</td>\n",
       "      <td>NaN</td>\n",
       "      <td>0.272157</td>\n",
       "      <td>0.161636</td>\n",
       "      <td>0.005509</td>\n",
       "      <td>0.241871</td>\n",
       "    </tr>\n",
       "    <tr>\n",
       "      <th>4</th>\n",
       "      <td>2021-05-31</td>\n",
       "      <td>0.126079</td>\n",
       "      <td>-0.039411</td>\n",
       "      <td>0.076882</td>\n",
       "      <td>0.345243</td>\n",
       "      <td>-0.040499</td>\n",
       "      <td>0.302944</td>\n",
       "      <td>0.054685</td>\n",
       "      <td>0.090265</td>\n",
       "      <td>0.082609</td>\n",
       "      <td>...</td>\n",
       "      <td>0.163088</td>\n",
       "      <td>0.046409</td>\n",
       "      <td>0.005559</td>\n",
       "      <td>-0.025069</td>\n",
       "      <td>0.090076</td>\n",
       "      <td>NaN</td>\n",
       "      <td>0.028074</td>\n",
       "      <td>0.128756</td>\n",
       "      <td>0.000937</td>\n",
       "      <td>0.052810</td>\n",
       "    </tr>\n",
       "  </tbody>\n",
       "</table>\n",
       "<p>5 rows × 120 columns</p>\n",
       "</div>"
      ],
      "text/plain": [
       "        Date      AAVE       ABT      AMPL       ANT     ARMOR    BADGER  \\\n",
       "0 2021-05-03 -0.049263  0.022970  0.112456  0.069679  0.080898 -0.024938   \n",
       "1 2021-05-10  0.143665 -0.171471 -0.281857 -0.244447 -0.323333 -0.256346   \n",
       "2 2021-05-17 -0.435925 -0.482439 -0.357192 -0.560776 -0.456955 -0.597872   \n",
       "3 2021-05-24  0.094413  0.379361  0.464830  0.228098  0.103387  0.117416   \n",
       "4 2021-05-31  0.126079 -0.039411  0.076882  0.345243 -0.040499  0.302944   \n",
       "\n",
       "        BAL      BAND       BAT  ...       UTK      VERI      WBTC       WTC  \\\n",
       "0  0.079109  0.001570  0.126182  ... -0.003380  0.406858  0.032826  0.141704   \n",
       "1 -0.182583 -0.204940 -0.194722  ... -0.254292  0.062182 -0.204564 -0.164128   \n",
       "2 -0.523110 -0.514725 -0.504094  ... -0.542375 -0.447383 -0.245743 -0.593304   \n",
       "3  0.069808  0.085198  0.244939  ...  0.164792  0.188722  0.019047  0.204790   \n",
       "4  0.054685  0.090265  0.082609  ...  0.163088  0.046409  0.005559 -0.025069   \n",
       "\n",
       "       WaBi  YAM       YFI       ZRX      sUSD      wNXM  \n",
       "0  0.070760  NaN  0.102180  0.046813  0.010270  0.348608  \n",
       "1 -0.319218  NaN  0.234226 -0.195655 -0.007335 -0.150428  \n",
       "2 -0.551696  NaN -0.499353 -0.486727 -0.019204 -0.410748  \n",
       "3  0.212288  NaN  0.272157  0.161636  0.005509  0.241871  \n",
       "4  0.090076  NaN  0.028074  0.128756  0.000937  0.052810  \n",
       "\n",
       "[5 rows x 120 columns]"
      ]
     },
     "execution_count": 138,
     "metadata": {},
     "output_type": "execute_result"
    }
   ],
   "source": [
    "# Get Return DataFrame\n",
    "returnAll = largeCapSample.loc[:, ['Date',\n",
    "                                   'Return',\n",
    "                                   'Asset']].pivot(index=\"Date\",\n",
    "                                                   columns=[\"Asset\"],\n",
    "                                                   values='Return').reset_index().rename_axis(None,\n",
    "                                                                                              axis=1).sort_values('Date')\n",
    "returnAll.head()"
   ]
  },
  {
   "cell_type": "code",
   "execution_count": null,
   "metadata": {
    "colab": {
     "base_uri": "https://localhost:8080/",
     "height": 386
    },
    "id": "ILB554avGxIa",
    "outputId": "3c8ca5d4-df2f-4180-abd6-a38ec6433f84"
   },
   "outputs": [
    {
     "data": {
      "text/html": [
       "<div>\n",
       "<style scoped>\n",
       "    .dataframe tbody tr th:only-of-type {\n",
       "        vertical-align: middle;\n",
       "    }\n",
       "\n",
       "    .dataframe tbody tr th {\n",
       "        vertical-align: top;\n",
       "    }\n",
       "\n",
       "    .dataframe thead th {\n",
       "        text-align: right;\n",
       "    }\n",
       "</style>\n",
       "<table border=\"1\" class=\"dataframe\">\n",
       "  <thead>\n",
       "    <tr style=\"text-align: right;\">\n",
       "      <th></th>\n",
       "      <th>Date</th>\n",
       "      <th>AAVE</th>\n",
       "      <th>ABT</th>\n",
       "      <th>AMPL</th>\n",
       "      <th>ANT</th>\n",
       "      <th>ARMOR</th>\n",
       "      <th>BADGER</th>\n",
       "      <th>BAL</th>\n",
       "      <th>BAND</th>\n",
       "      <th>BAT</th>\n",
       "      <th>...</th>\n",
       "      <th>UTK</th>\n",
       "      <th>VERI</th>\n",
       "      <th>WBTC</th>\n",
       "      <th>WTC</th>\n",
       "      <th>WaBi</th>\n",
       "      <th>YAM</th>\n",
       "      <th>YFI</th>\n",
       "      <th>ZRX</th>\n",
       "      <th>sUSD</th>\n",
       "      <th>wNXM</th>\n",
       "    </tr>\n",
       "  </thead>\n",
       "  <tbody>\n",
       "    <tr>\n",
       "      <th>0</th>\n",
       "      <td>2021-05-03</td>\n",
       "      <td>5.735887e+09</td>\n",
       "      <td>2.256086e+07</td>\n",
       "      <td>2.526164e+08</td>\n",
       "      <td>2.017177e+08</td>\n",
       "      <td>5.443477e+07</td>\n",
       "      <td>3.027644e+08</td>\n",
       "      <td>4.597610e+08</td>\n",
       "      <td>3.617656e+08</td>\n",
       "      <td>2.111519e+09</td>\n",
       "      <td>...</td>\n",
       "      <td>3.318752e+08</td>\n",
       "      <td>5.324600e+07</td>\n",
       "      <td>9.906188e+09</td>\n",
       "      <td>1.416346e+08</td>\n",
       "      <td>5.975726e+07</td>\n",
       "      <td>NaN</td>\n",
       "      <td>1.951897e+09</td>\n",
       "      <td>1.528303e+09</td>\n",
       "      <td>1.462172e+08</td>\n",
       "      <td>1.973831e+08</td>\n",
       "    </tr>\n",
       "    <tr>\n",
       "      <th>1</th>\n",
       "      <td>2021-05-10</td>\n",
       "      <td>6.648981e+09</td>\n",
       "      <td>1.869232e+07</td>\n",
       "      <td>1.814148e+08</td>\n",
       "      <td>1.524085e+08</td>\n",
       "      <td>4.557013e+07</td>\n",
       "      <td>2.295646e+08</td>\n",
       "      <td>3.758166e+08</td>\n",
       "      <td>2.876253e+08</td>\n",
       "      <td>1.702456e+09</td>\n",
       "      <td>...</td>\n",
       "      <td>2.474819e+08</td>\n",
       "      <td>5.655696e+07</td>\n",
       "      <td>8.084615e+09</td>\n",
       "      <td>1.183883e+08</td>\n",
       "      <td>4.068168e+07</td>\n",
       "      <td>NaN</td>\n",
       "      <td>2.409084e+09</td>\n",
       "      <td>1.286737e+09</td>\n",
       "      <td>1.451447e+08</td>\n",
       "      <td>1.676911e+08</td>\n",
       "    </tr>\n",
       "    <tr>\n",
       "      <th>2</th>\n",
       "      <td>2021-05-17</td>\n",
       "      <td>3.779533e+09</td>\n",
       "      <td>9.674406e+06</td>\n",
       "      <td>1.599928e+08</td>\n",
       "      <td>6.694150e+07</td>\n",
       "      <td>3.158087e+07</td>\n",
       "      <td>9.413106e+07</td>\n",
       "      <td>1.792233e+08</td>\n",
       "      <td>1.395775e+08</td>\n",
       "      <td>8.449776e+08</td>\n",
       "      <td>...</td>\n",
       "      <td>1.132538e+08</td>\n",
       "      <td>3.125433e+07</td>\n",
       "      <td>6.288841e+09</td>\n",
       "      <td>4.814811e+07</td>\n",
       "      <td>1.823774e+07</td>\n",
       "      <td>NaN</td>\n",
       "      <td>1.206103e+09</td>\n",
       "      <td>6.795007e+08</td>\n",
       "      <td>2.038237e+08</td>\n",
       "      <td>9.881228e+07</td>\n",
       "    </tr>\n",
       "    <tr>\n",
       "      <th>3</th>\n",
       "      <td>2021-05-24</td>\n",
       "      <td>4.141262e+09</td>\n",
       "      <td>1.334450e+07</td>\n",
       "      <td>1.904880e+08</td>\n",
       "      <td>8.221074e+07</td>\n",
       "      <td>3.862744e+07</td>\n",
       "      <td>1.081680e+08</td>\n",
       "      <td>1.917345e+08</td>\n",
       "      <td>1.514692e+08</td>\n",
       "      <td>1.051984e+09</td>\n",
       "      <td>...</td>\n",
       "      <td>1.319171e+08</td>\n",
       "      <td>3.715271e+07</td>\n",
       "      <td>6.548297e+09</td>\n",
       "      <td>5.800838e+07</td>\n",
       "      <td>2.210939e+07</td>\n",
       "      <td>NaN</td>\n",
       "      <td>1.534352e+09</td>\n",
       "      <td>7.894613e+08</td>\n",
       "      <td>2.515073e+08</td>\n",
       "      <td>1.227121e+08</td>\n",
       "    </tr>\n",
       "    <tr>\n",
       "      <th>4</th>\n",
       "      <td>2021-05-31</td>\n",
       "      <td>4.669538e+09</td>\n",
       "      <td>1.281857e+07</td>\n",
       "      <td>1.763299e+08</td>\n",
       "      <td>1.133197e+08</td>\n",
       "      <td>3.765641e+07</td>\n",
       "      <td>1.452830e+08</td>\n",
       "      <td>2.022194e+08</td>\n",
       "      <td>1.651416e+08</td>\n",
       "      <td>1.139018e+09</td>\n",
       "      <td>...</td>\n",
       "      <td>1.534312e+08</td>\n",
       "      <td>3.887694e+07</td>\n",
       "      <td>6.682725e+09</td>\n",
       "      <td>5.966491e+07</td>\n",
       "      <td>2.410091e+07</td>\n",
       "      <td>NaN</td>\n",
       "      <td>1.577431e+09</td>\n",
       "      <td>8.912247e+08</td>\n",
       "      <td>2.567663e+08</td>\n",
       "      <td>1.291925e+08</td>\n",
       "    </tr>\n",
       "  </tbody>\n",
       "</table>\n",
       "<p>5 rows × 120 columns</p>\n",
       "</div>"
      ],
      "text/plain": [
       "        Date          AAVE           ABT          AMPL           ANT  \\\n",
       "0 2021-05-03  5.735887e+09  2.256086e+07  2.526164e+08  2.017177e+08   \n",
       "1 2021-05-10  6.648981e+09  1.869232e+07  1.814148e+08  1.524085e+08   \n",
       "2 2021-05-17  3.779533e+09  9.674406e+06  1.599928e+08  6.694150e+07   \n",
       "3 2021-05-24  4.141262e+09  1.334450e+07  1.904880e+08  8.221074e+07   \n",
       "4 2021-05-31  4.669538e+09  1.281857e+07  1.763299e+08  1.133197e+08   \n",
       "\n",
       "          ARMOR        BADGER           BAL          BAND           BAT  ...  \\\n",
       "0  5.443477e+07  3.027644e+08  4.597610e+08  3.617656e+08  2.111519e+09  ...   \n",
       "1  4.557013e+07  2.295646e+08  3.758166e+08  2.876253e+08  1.702456e+09  ...   \n",
       "2  3.158087e+07  9.413106e+07  1.792233e+08  1.395775e+08  8.449776e+08  ...   \n",
       "3  3.862744e+07  1.081680e+08  1.917345e+08  1.514692e+08  1.051984e+09  ...   \n",
       "4  3.765641e+07  1.452830e+08  2.022194e+08  1.651416e+08  1.139018e+09  ...   \n",
       "\n",
       "            UTK          VERI          WBTC           WTC          WaBi  YAM  \\\n",
       "0  3.318752e+08  5.324600e+07  9.906188e+09  1.416346e+08  5.975726e+07  NaN   \n",
       "1  2.474819e+08  5.655696e+07  8.084615e+09  1.183883e+08  4.068168e+07  NaN   \n",
       "2  1.132538e+08  3.125433e+07  6.288841e+09  4.814811e+07  1.823774e+07  NaN   \n",
       "3  1.319171e+08  3.715271e+07  6.548297e+09  5.800838e+07  2.210939e+07  NaN   \n",
       "4  1.534312e+08  3.887694e+07  6.682725e+09  5.966491e+07  2.410091e+07  NaN   \n",
       "\n",
       "            YFI           ZRX          sUSD          wNXM  \n",
       "0  1.951897e+09  1.528303e+09  1.462172e+08  1.973831e+08  \n",
       "1  2.409084e+09  1.286737e+09  1.451447e+08  1.676911e+08  \n",
       "2  1.206103e+09  6.795007e+08  2.038237e+08  9.881228e+07  \n",
       "3  1.534352e+09  7.894613e+08  2.515073e+08  1.227121e+08  \n",
       "4  1.577431e+09  8.912247e+08  2.567663e+08  1.291925e+08  \n",
       "\n",
       "[5 rows x 120 columns]"
      ]
     },
     "execution_count": 139,
     "metadata": {},
     "output_type": "execute_result"
    }
   ],
   "source": [
    "# Get Price DataFrame\n",
    "capAll = largeCapSample.loc[:, ['Date',\n",
    "                                'MarketCap',\n",
    "                                'Asset']].pivot(index=\"Date\",\n",
    "                                                columns=[\"Asset\"],\n",
    "                                                values='MarketCap').reset_index().rename_axis(None,\n",
    "                                                                                              axis=1).sort_values('Date')\n",
    "capAll.head()"
   ]
  },
  {
   "cell_type": "markdown",
   "metadata": {
    "id": "U_iFa_eVGxO5"
   },
   "source": [
    "### Calculate Momentum Matrix(Cumulative 2 week Return)"
   ]
  },
  {
   "cell_type": "code",
   "execution_count": null,
   "metadata": {
    "colab": {
     "base_uri": "https://localhost:8080/",
     "height": 236
    },
    "id": "BALW8gqyGxU6",
    "outputId": "83191e87-1866-4cfc-e491-437cff7fd52f"
   },
   "outputs": [
    {
     "data": {
      "text/html": [
       "<div>\n",
       "<style scoped>\n",
       "    .dataframe tbody tr th:only-of-type {\n",
       "        vertical-align: middle;\n",
       "    }\n",
       "\n",
       "    .dataframe tbody tr th {\n",
       "        vertical-align: top;\n",
       "    }\n",
       "\n",
       "    .dataframe thead th {\n",
       "        text-align: right;\n",
       "    }\n",
       "</style>\n",
       "<table border=\"1\" class=\"dataframe\">\n",
       "  <thead>\n",
       "    <tr style=\"text-align: right;\">\n",
       "      <th></th>\n",
       "      <th>Date</th>\n",
       "      <th>AAVE</th>\n",
       "      <th>ABT</th>\n",
       "      <th>AMPL</th>\n",
       "      <th>ANT</th>\n",
       "      <th>ARMOR</th>\n",
       "      <th>BADGER</th>\n",
       "      <th>BAL</th>\n",
       "      <th>BAND</th>\n",
       "      <th>BAT</th>\n",
       "      <th>...</th>\n",
       "      <th>UTK</th>\n",
       "      <th>VERI</th>\n",
       "      <th>WBTC</th>\n",
       "      <th>WTC</th>\n",
       "      <th>WaBi</th>\n",
       "      <th>YAM</th>\n",
       "      <th>YFI</th>\n",
       "      <th>ZRX</th>\n",
       "      <th>sUSD</th>\n",
       "      <th>wNXM</th>\n",
       "    </tr>\n",
       "  </thead>\n",
       "  <tbody>\n",
       "    <tr>\n",
       "      <th>0</th>\n",
       "      <td>2021-05-03</td>\n",
       "      <td>0.324384</td>\n",
       "      <td>0.175152</td>\n",
       "      <td>0.030589</td>\n",
       "      <td>0.304105</td>\n",
       "      <td>0.111860</td>\n",
       "      <td>0.414658</td>\n",
       "      <td>0.383932</td>\n",
       "      <td>0.309461</td>\n",
       "      <td>0.384131</td>\n",
       "      <td>...</td>\n",
       "      <td>0.944423</td>\n",
       "      <td>0.340565</td>\n",
       "      <td>0.187350</td>\n",
       "      <td>0.514041</td>\n",
       "      <td>0.650508</td>\n",
       "      <td>NaN</td>\n",
       "      <td>0.338622</td>\n",
       "      <td>0.460070</td>\n",
       "      <td>0.006242</td>\n",
       "      <td>0.606434</td>\n",
       "    </tr>\n",
       "    <tr>\n",
       "      <th>1</th>\n",
       "      <td>2021-05-10</td>\n",
       "      <td>0.087325</td>\n",
       "      <td>-0.152440</td>\n",
       "      <td>-0.201097</td>\n",
       "      <td>-0.191801</td>\n",
       "      <td>-0.268592</td>\n",
       "      <td>-0.274891</td>\n",
       "      <td>-0.117918</td>\n",
       "      <td>-0.203692</td>\n",
       "      <td>-0.093110</td>\n",
       "      <td>...</td>\n",
       "      <td>-0.256813</td>\n",
       "      <td>0.494340</td>\n",
       "      <td>-0.178453</td>\n",
       "      <td>-0.045682</td>\n",
       "      <td>-0.271046</td>\n",
       "      <td>NaN</td>\n",
       "      <td>0.360338</td>\n",
       "      <td>-0.158000</td>\n",
       "      <td>0.002860</td>\n",
       "      <td>0.145739</td>\n",
       "    </tr>\n",
       "    <tr>\n",
       "      <th>2</th>\n",
       "      <td>2021-05-17</td>\n",
       "      <td>-0.354887</td>\n",
       "      <td>-0.571186</td>\n",
       "      <td>-0.538372</td>\n",
       "      <td>-0.668143</td>\n",
       "      <td>-0.632540</td>\n",
       "      <td>-0.700956</td>\n",
       "      <td>-0.610182</td>\n",
       "      <td>-0.614177</td>\n",
       "      <td>-0.600658</td>\n",
       "      <td>...</td>\n",
       "      <td>-0.658746</td>\n",
       "      <td>-0.413020</td>\n",
       "      <td>-0.400037</td>\n",
       "      <td>-0.660054</td>\n",
       "      <td>-0.694803</td>\n",
       "      <td>NaN</td>\n",
       "      <td>-0.382088</td>\n",
       "      <td>-0.587151</td>\n",
       "      <td>-0.026398</td>\n",
       "      <td>-0.499388</td>\n",
       "    </tr>\n",
       "    <tr>\n",
       "      <th>3</th>\n",
       "      <td>2021-05-24</td>\n",
       "      <td>-0.382668</td>\n",
       "      <td>-0.286097</td>\n",
       "      <td>-0.058396</td>\n",
       "      <td>-0.460589</td>\n",
       "      <td>-0.400811</td>\n",
       "      <td>-0.550656</td>\n",
       "      <td>-0.489819</td>\n",
       "      <td>-0.473380</td>\n",
       "      <td>-0.382628</td>\n",
       "      <td>...</td>\n",
       "      <td>-0.466963</td>\n",
       "      <td>-0.343092</td>\n",
       "      <td>-0.231377</td>\n",
       "      <td>-0.510016</td>\n",
       "      <td>-0.456527</td>\n",
       "      <td>NaN</td>\n",
       "      <td>-0.363098</td>\n",
       "      <td>-0.403763</td>\n",
       "      <td>-0.013801</td>\n",
       "      <td>-0.268225</td>\n",
       "    </tr>\n",
       "    <tr>\n",
       "      <th>4</th>\n",
       "      <td>2021-05-31</td>\n",
       "      <td>0.232395</td>\n",
       "      <td>0.324998</td>\n",
       "      <td>0.577449</td>\n",
       "      <td>0.652091</td>\n",
       "      <td>0.058700</td>\n",
       "      <td>0.455930</td>\n",
       "      <td>0.128310</td>\n",
       "      <td>0.183153</td>\n",
       "      <td>0.347782</td>\n",
       "      <td>...</td>\n",
       "      <td>0.354755</td>\n",
       "      <td>0.243890</td>\n",
       "      <td>0.024712</td>\n",
       "      <td>0.174587</td>\n",
       "      <td>0.321486</td>\n",
       "      <td>NaN</td>\n",
       "      <td>0.307871</td>\n",
       "      <td>0.311204</td>\n",
       "      <td>0.006451</td>\n",
       "      <td>0.307454</td>\n",
       "    </tr>\n",
       "  </tbody>\n",
       "</table>\n",
       "<p>5 rows × 120 columns</p>\n",
       "</div>"
      ],
      "text/plain": [
       "        Date      AAVE       ABT      AMPL       ANT     ARMOR    BADGER  \\\n",
       "0 2021-05-03  0.324384  0.175152  0.030589  0.304105  0.111860  0.414658   \n",
       "1 2021-05-10  0.087325 -0.152440 -0.201097 -0.191801 -0.268592 -0.274891   \n",
       "2 2021-05-17 -0.354887 -0.571186 -0.538372 -0.668143 -0.632540 -0.700956   \n",
       "3 2021-05-24 -0.382668 -0.286097 -0.058396 -0.460589 -0.400811 -0.550656   \n",
       "4 2021-05-31  0.232395  0.324998  0.577449  0.652091  0.058700  0.455930   \n",
       "\n",
       "        BAL      BAND       BAT  ...       UTK      VERI      WBTC       WTC  \\\n",
       "0  0.383932  0.309461  0.384131  ...  0.944423  0.340565  0.187350  0.514041   \n",
       "1 -0.117918 -0.203692 -0.093110  ... -0.256813  0.494340 -0.178453 -0.045682   \n",
       "2 -0.610182 -0.614177 -0.600658  ... -0.658746 -0.413020 -0.400037 -0.660054   \n",
       "3 -0.489819 -0.473380 -0.382628  ... -0.466963 -0.343092 -0.231377 -0.510016   \n",
       "4  0.128310  0.183153  0.347782  ...  0.354755  0.243890  0.024712  0.174587   \n",
       "\n",
       "       WaBi  YAM       YFI       ZRX      sUSD      wNXM  \n",
       "0  0.650508  NaN  0.338622  0.460070  0.006242  0.606434  \n",
       "1 -0.271046  NaN  0.360338 -0.158000  0.002860  0.145739  \n",
       "2 -0.694803  NaN -0.382088 -0.587151 -0.026398 -0.499388  \n",
       "3 -0.456527  NaN -0.363098 -0.403763 -0.013801 -0.268225  \n",
       "4  0.321486  NaN  0.307871  0.311204  0.006451  0.307454  \n",
       "\n",
       "[5 rows x 120 columns]"
      ]
     },
     "execution_count": 140,
     "metadata": {},
     "output_type": "execute_result"
    }
   ],
   "source": [
    "def getMomMatrix(largeCapSample: pd.DataFrame):\n",
    "    \"\"\"This Method Transform LargeCap Matrix to MOM Matrix\n",
    "\n",
    "    Args:\n",
    "        largeCapSample (pd.DataFrame): largeCap Matrix Should Contain Every Coins' Full Data\n",
    "\n",
    "    Returns:\n",
    "        momMatrix (pd.DataFrame): The Method Returns a MomMatrix\n",
    "    \"\"\"\n",
    "    momMatrix = largeCapSample.loc[:, ['Date',\n",
    "                                       'week2_return',\n",
    "                                       'Asset']].pivot(index=\"Date\",\n",
    "                                                       columns=[\"Asset\"],\n",
    "                                                       values='week2_return').reset_index().rename_axis(None,\n",
    "                                                                                                        axis=1).sort_values('Date')\n",
    "    return momMatrix\n",
    "\n",
    "# Effect:\n",
    "momMatrix = getMomMatrix(largeCapSample)\n",
    "momMatrix.head()"
   ]
  },
  {
   "cell_type": "markdown",
   "metadata": {
    "id": "CGAd_qvuGxbT"
   },
   "source": [
    "### Calculate MOM Percentile(20%, 80%)"
   ]
  },
  {
   "cell_type": "code",
   "execution_count": null,
   "metadata": {
    "id": "3onR148aHBDq"
   },
   "outputs": [],
   "source": [
    "def getMomPt(momMatrix: pd.DataFrame):\n",
    "    \"\"\"This Method Calculate 20% and 80% Percentile of MomMatrix\n",
    "\n",
    "    Args:\n",
    "        momMatrix (pd.DataFrame): MomMatrix Should Contain All Coins' 2-Week Cumulative Returns\n",
    "\n",
    "    Returns:\n",
    "        momPt (pd.DataFrame): momPt Has 3 Columns: Date, MOM30p and MOM70p\n",
    "    \"\"\"\n",
    "\n",
    "    # Only Select Assets(BTC, ETH...) Columns\n",
    "    col = []\n",
    "    for colName in momMatrix.columns:\n",
    "        if colName not in ['Date']:\n",
    "            col.append(colName)\n",
    "    momMatrix[col].head()\n",
    "\n",
    "    momPt = pd.DataFrame(columns=['MOM20p',\n",
    "                                  'MOM80p'])\n",
    "\n",
    "    momPt['MOM20p'] = momMatrix[col].quantile(.2, axis=1)\n",
    "    momPt['MOM80p'] = momMatrix[col].quantile(.8, axis=1)\n",
    "\n",
    "    return momPt"
   ]
  },
  {
   "cell_type": "code",
   "execution_count": null,
   "metadata": {
    "colab": {
     "base_uri": "https://localhost:8080/",
     "height": 206
    },
    "id": "_rNCaPE1HBKh",
    "outputId": "579c8ad9-b193-4a36-8b7e-c65651de5cd9"
   },
   "outputs": [
    {
     "data": {
      "text/html": [
       "<div>\n",
       "<style scoped>\n",
       "    .dataframe tbody tr th:only-of-type {\n",
       "        vertical-align: middle;\n",
       "    }\n",
       "\n",
       "    .dataframe tbody tr th {\n",
       "        vertical-align: top;\n",
       "    }\n",
       "\n",
       "    .dataframe thead th {\n",
       "        text-align: right;\n",
       "    }\n",
       "</style>\n",
       "<table border=\"1\" class=\"dataframe\">\n",
       "  <thead>\n",
       "    <tr style=\"text-align: right;\">\n",
       "      <th></th>\n",
       "      <th>MOM20p</th>\n",
       "      <th>MOM80p</th>\n",
       "    </tr>\n",
       "  </thead>\n",
       "  <tbody>\n",
       "    <tr>\n",
       "      <th>0</th>\n",
       "      <td>0.105609</td>\n",
       "      <td>0.508565</td>\n",
       "    </tr>\n",
       "    <tr>\n",
       "      <th>1</th>\n",
       "      <td>-0.252592</td>\n",
       "      <td>0.042379</td>\n",
       "    </tr>\n",
       "    <tr>\n",
       "      <th>2</th>\n",
       "      <td>-0.628842</td>\n",
       "      <td>-0.400133</td>\n",
       "    </tr>\n",
       "    <tr>\n",
       "      <th>3</th>\n",
       "      <td>-0.459777</td>\n",
       "      <td>-0.243871</td>\n",
       "    </tr>\n",
       "    <tr>\n",
       "      <th>4</th>\n",
       "      <td>0.074682</td>\n",
       "      <td>0.387382</td>\n",
       "    </tr>\n",
       "  </tbody>\n",
       "</table>\n",
       "</div>"
      ],
      "text/plain": [
       "     MOM20p    MOM80p\n",
       "0  0.105609  0.508565\n",
       "1 -0.252592  0.042379\n",
       "2 -0.628842 -0.400133\n",
       "3 -0.459777 -0.243871\n",
       "4  0.074682  0.387382"
      ]
     },
     "execution_count": 142,
     "metadata": {},
     "output_type": "execute_result"
    }
   ],
   "source": [
    "momPt = getMomPt(momMatrix)\n",
    "momPt.head()"
   ]
  },
  {
   "cell_type": "markdown",
   "metadata": {
    "id": "oC12PaIMHBQi"
   },
   "source": [
    "### Calculate Momentum portfolio returns"
   ]
  },
  {
   "cell_type": "code",
   "execution_count": null,
   "metadata": {
    "colab": {
     "base_uri": "https://localhost:8080/"
    },
    "id": "K1JMTzEcHFzg",
    "outputId": "0bd2c510-d545-43ed-c6b6-df03dc5bf4ea"
   },
   "outputs": [
    {
     "name": "stdout",
     "output_type": "stream",
     "text": [
      "\n",
      "Calculating Low, Medium and High Momentum Matrix...\n"
     ]
    },
    {
     "name": "stderr",
     "output_type": "stream",
     "text": [
      "100%|███████████████████████████████████████████| 52/52 [00:01<00:00, 29.67it/s]\n"
     ]
    }
   ],
   "source": [
    "def LMH_MOM(momMatrix: pd.DataFrame,\n",
    "            returnAll: pd.DataFrame,\n",
    "            capAll: pd.DataFrame,\n",
    "            momPt: pd.DataFrame):\n",
    "    \"\"\"This Method Takes MomMatrix, ReturnMatrix, CapMatrix and MomPercentileMatrix to Get Low, Medium and High Momentum\\nWARNING: These 4 Matrix MUST be in Exactly the Same Shape!\n",
    "\n",
    "    Args:\n",
    "        momMatrix (pd.DataFrame): MomMatrix Should Contain All Coins' 2-Week Cumulative Returns\n",
    "        returnAll (pd.DataFrame): Return Matrix Should Contain Every Coins' Return Data\n",
    "        capAll (pd.DataFrame):  Captial Matrix Should Contain Every Coins' MarketCap Data\n",
    "        momPt (pd.DataFrame): Mom Percentile Matrix Should Contain 30 & 70 Percentile Momentum\n",
    "\n",
    "    Returns:\n",
    "        momLMH (pd.DataFrame): A DataFrame Contains Date, LowMomentum, MediumMomentum and HighMomentum Returns\n",
    "    \"\"\"\n",
    "    # Initialize DataFrames for Low, Medium and High MOM\n",
    "    lowMom = pd.DataFrame(columns=['Date',\n",
    "                                   'LowMomentum'])\n",
    "    lowMom['Date'] = momMatrix['Date']\n",
    "\n",
    "    medMom = pd.DataFrame(columns=['Date',\n",
    "                                   'MedMomentum'])\n",
    "    medMom['Date'] = momMatrix['Date']\n",
    "\n",
    "    highMom = pd.DataFrame(columns=['Date',\n",
    "                                    'HighMomentum'])\n",
    "    highMom['Date'] = momMatrix['Date']\n",
    "\n",
    "    print(\"\\nCalculating Low, Medium and High Momentum Matrix...\")\n",
    "\n",
    "    # Iterate Through Whole DataFrame to Get Low, Medium and High MOM\n",
    "    # Iterate Though Rows\n",
    "    for i in tqdm(range(0, momMatrix.shape[0])):\n",
    "\n",
    "        # Initialization df Used in Method\n",
    "        lowMomReturnList = []\n",
    "        medMomReturnList = []\n",
    "        highMomReturnList = []\n",
    "\n",
    "        lowMomCapList = []\n",
    "        medMomCapList = []\n",
    "        highMomCapList = []\n",
    "\n",
    "        # Iterate Through Columns\n",
    "        for j in range(1, momMatrix.shape[1]):\n",
    "            if momMatrix.iloc[i, j] < momPt.iloc[i, 0]:\n",
    "                lowMomReturnList.append(returnAll.iloc[i, j])\n",
    "                lowMomCapList.append(capAll.iloc[i, j])\n",
    "            elif (momPt.iloc[i, 0] < momMatrix.iloc[i, j]) and (momMatrix.iloc[i, j] < momPt.iloc[i, 1]):\n",
    "                medMomReturnList.append(returnAll.iloc[i, j])\n",
    "                medMomCapList.append(capAll.iloc[i, j])\n",
    "            elif momMatrix.iloc[i, j] > momPt.iloc[i, 1]:\n",
    "                highMomReturnList.append(returnAll.iloc[i, j])\n",
    "                highMomCapList.append(capAll.iloc[i, j])\n",
    "\n",
    "        # Low MOM\n",
    "        lowValueWeightedAvgList = []\n",
    "        lowMomCapSum = sum(lowMomCapList)\n",
    "        for index in range(0, len(lowMomCapList)):\n",
    "            lowValueWeightedAvgList.append(\n",
    "                (lowMomCapList[index]/lowMomCapSum) * lowMomReturnList[index]\n",
    "                )\n",
    "        lowMom.iloc[i, 1] = sum(lowValueWeightedAvgList)\n",
    "\n",
    "        # Med MOM\n",
    "        medValueWeightedAvgList = []\n",
    "        medMomCapSum = sum(medMomCapList)\n",
    "        for index in range(0, len(medMomCapList)):\n",
    "            medValueWeightedAvgList.append(\n",
    "                (medMomCapList[index]/medMomCapSum) * medMomReturnList[index]\n",
    "                )\n",
    "        medMom.iloc[i, 1] = sum(medValueWeightedAvgList)\n",
    "\n",
    "        # High MOM\n",
    "        highValueWeightedAvgList = []\n",
    "        highMomCapSum = sum(highMomCapList)\n",
    "        for index in range(0, len(highMomCapList)):\n",
    "            highValueWeightedAvgList.append(\n",
    "                (highMomCapList[index]/highMomCapSum) * highMomReturnList[index]\n",
    "                )\n",
    "        highMom.iloc[i, 1] = sum(highValueWeightedAvgList)\n",
    "\n",
    "        # Merge\n",
    "        from functools import reduce\n",
    "        momLMH = reduce(lambda left, right:\n",
    "                        pd.merge(left, right,\n",
    "                                 on='Date',\n",
    "                                 how='outer'),\n",
    "                        [lowMom, medMom, highMom])\n",
    "\n",
    "    return momLMH\n",
    "\n",
    "momLMH = LMH_MOM(momMatrix, returnAll, capAll, momPt)"
   ]
  },
  {
   "cell_type": "code",
   "execution_count": null,
   "metadata": {
    "colab": {
     "base_uri": "https://localhost:8080/",
     "height": 206
    },
    "id": "uxmEpv5THF5K",
    "outputId": "3258cd81-5bf9-436c-d33a-ed698fb86935"
   },
   "outputs": [
    {
     "data": {
      "text/html": [
       "<div>\n",
       "<style scoped>\n",
       "    .dataframe tbody tr th:only-of-type {\n",
       "        vertical-align: middle;\n",
       "    }\n",
       "\n",
       "    .dataframe tbody tr th {\n",
       "        vertical-align: top;\n",
       "    }\n",
       "\n",
       "    .dataframe thead th {\n",
       "        text-align: right;\n",
       "    }\n",
       "</style>\n",
       "<table border=\"1\" class=\"dataframe\">\n",
       "  <thead>\n",
       "    <tr style=\"text-align: right;\">\n",
       "      <th></th>\n",
       "      <th>Date</th>\n",
       "      <th>LowMomentum</th>\n",
       "      <th>MedMomentum</th>\n",
       "      <th>HighMomentum</th>\n",
       "    </tr>\n",
       "  </thead>\n",
       "  <tbody>\n",
       "    <tr>\n",
       "      <th>0</th>\n",
       "      <td>2021-05-03</td>\n",
       "      <td>-0.002751</td>\n",
       "      <td>0.027602</td>\n",
       "      <td>0.345279</td>\n",
       "    </tr>\n",
       "    <tr>\n",
       "      <th>1</th>\n",
       "      <td>2021-05-10</td>\n",
       "      <td>-0.16583</td>\n",
       "      <td>-0.181812</td>\n",
       "      <td>-0.067313</td>\n",
       "    </tr>\n",
       "    <tr>\n",
       "      <th>2</th>\n",
       "      <td>2021-05-17</td>\n",
       "      <td>-0.556303</td>\n",
       "      <td>-0.304205</td>\n",
       "      <td>-0.068091</td>\n",
       "    </tr>\n",
       "    <tr>\n",
       "      <th>3</th>\n",
       "      <td>2021-05-24</td>\n",
       "      <td>0.133358</td>\n",
       "      <td>0.155542</td>\n",
       "      <td>0.029855</td>\n",
       "    </tr>\n",
       "    <tr>\n",
       "      <th>4</th>\n",
       "      <td>2021-05-31</td>\n",
       "      <td>0.004335</td>\n",
       "      <td>0.122936</td>\n",
       "      <td>0.00366</td>\n",
       "    </tr>\n",
       "  </tbody>\n",
       "</table>\n",
       "</div>"
      ],
      "text/plain": [
       "        Date LowMomentum MedMomentum HighMomentum\n",
       "0 2021-05-03   -0.002751    0.027602     0.345279\n",
       "1 2021-05-10    -0.16583   -0.181812    -0.067313\n",
       "2 2021-05-17   -0.556303   -0.304205    -0.068091\n",
       "3 2021-05-24    0.133358    0.155542     0.029855\n",
       "4 2021-05-31    0.004335    0.122936      0.00366"
      ]
     },
     "execution_count": 144,
     "metadata": {},
     "output_type": "execute_result"
    }
   ],
   "source": [
    "momLMH.head()"
   ]
  },
  {
   "cell_type": "markdown",
   "metadata": {
    "id": "mNvdaESnHF-K"
   },
   "source": [
    "### Calculate Momentum Factor"
   ]
  },
  {
   "cell_type": "code",
   "execution_count": null,
   "metadata": {
    "id": "nRXqROUKHBXZ"
   },
   "outputs": [],
   "source": [
    "def getMomFactor(momLMH: pd.DataFrame):\n",
    "    \"\"\"This Method Takes momLMH Matrix to Calculate Momentum Factor\n",
    "\n",
    "    Args:\n",
    "        momLMH (pd.DataFrame): Mom LMH Matrix Should Contain Low, Medium, and High Momentum Returns\n",
    "\n",
    "    Returns:\n",
    "        momFactor (pd.DataFrame): A DataFrame Contains a Date Column and a Momentum Factor Column\n",
    "    \"\"\"\n",
    "    momFactor = pd.DataFrame(columns=['Date', 'MOM_LTW'])\n",
    "    momFactor['Date'] = momLMH['Date']\n",
    "    momFactor['MOM_LTW'] = momLMH['HighMomentum'] - momLMH['LowMomentum']\n",
    "    return momFactor"
   ]
  },
  {
   "cell_type": "code",
   "execution_count": null,
   "metadata": {
    "colab": {
     "base_uri": "https://localhost:8080/",
     "height": 206
    },
    "id": "FKwYmDo3FpTT",
    "outputId": "1894a0d0-7688-4960-ce32-148e9f5b487a"
   },
   "outputs": [
    {
     "data": {
      "text/html": [
       "<div>\n",
       "<style scoped>\n",
       "    .dataframe tbody tr th:only-of-type {\n",
       "        vertical-align: middle;\n",
       "    }\n",
       "\n",
       "    .dataframe tbody tr th {\n",
       "        vertical-align: top;\n",
       "    }\n",
       "\n",
       "    .dataframe thead th {\n",
       "        text-align: right;\n",
       "    }\n",
       "</style>\n",
       "<table border=\"1\" class=\"dataframe\">\n",
       "  <thead>\n",
       "    <tr style=\"text-align: right;\">\n",
       "      <th></th>\n",
       "      <th>Date</th>\n",
       "      <th>MOM_LTW</th>\n",
       "    </tr>\n",
       "  </thead>\n",
       "  <tbody>\n",
       "    <tr>\n",
       "      <th>0</th>\n",
       "      <td>2021-05-03</td>\n",
       "      <td>0.34803</td>\n",
       "    </tr>\n",
       "    <tr>\n",
       "      <th>1</th>\n",
       "      <td>2021-05-10</td>\n",
       "      <td>0.098517</td>\n",
       "    </tr>\n",
       "    <tr>\n",
       "      <th>2</th>\n",
       "      <td>2021-05-17</td>\n",
       "      <td>0.488212</td>\n",
       "    </tr>\n",
       "    <tr>\n",
       "      <th>3</th>\n",
       "      <td>2021-05-24</td>\n",
       "      <td>-0.103503</td>\n",
       "    </tr>\n",
       "    <tr>\n",
       "      <th>4</th>\n",
       "      <td>2021-05-31</td>\n",
       "      <td>-0.000675</td>\n",
       "    </tr>\n",
       "  </tbody>\n",
       "</table>\n",
       "</div>"
      ],
      "text/plain": [
       "        Date   MOM_LTW\n",
       "0 2021-05-03   0.34803\n",
       "1 2021-05-10  0.098517\n",
       "2 2021-05-17  0.488212\n",
       "3 2021-05-24 -0.103503\n",
       "4 2021-05-31 -0.000675"
      ]
     },
     "execution_count": 146,
     "metadata": {},
     "output_type": "execute_result"
    }
   ],
   "source": [
    "momFactor = getMomFactor(momLMH)\n",
    "momFactor.head()"
   ]
  },
  {
   "cell_type": "markdown",
   "metadata": {
    "id": "sxzthglDFpTT"
   },
   "source": [
    "## 6. NET Factor (Zachary)"
   ]
  },
  {
   "cell_type": "markdown",
   "metadata": {
    "id": "qBJIPqGUFpTT"
   },
   "source": [
    "The network factor (NET) is constructed by splitting the coins of the Core Sample into 3 groups due to the limitation of available coins. Particularly, each week we split the cryptocurrencies into three [30% 40% 30%] groups by the growth rate in total addresses with balance. The network factor (NET) is the return difference between the top and the bottom network portfolios. "
   ]
  },
  {
   "cell_type": "markdown",
   "metadata": {
    "id": "-U11aeyzFpTT"
   },
   "source": [
    "### Get Address Growth"
   ]
  },
  {
   "cell_type": "code",
   "execution_count": 100,
   "metadata": {},
   "outputs": [
    {
     "name": "stderr",
     "output_type": "stream",
     "text": [
      "C:\\ZacharyYang\\lib\\site-packages\\pandas\\core\\series.py:726: RuntimeWarning: divide by zero encountered in log\n",
      "  result = getattr(ufunc, method)(*inputs, **kwargs)\n"
     ]
    }
   ],
   "source": [
    "Address = fullSample.loc[:,['Date', 'ActiveAddress', 'Asset']] \\\n",
    "                    .pivot(index = 'Date', columns = 'Asset', values = 'ActiveAddress')\\\n",
    "                    .reset_index() \\\n",
    "                    .rename_axis(None, axis = 1)\n",
    "\n",
    "copy1 = Address.copy()\n",
    "copy2 = copy1.shift()\n",
    "\n",
    "Growth = copy1.copy()\n",
    "for i in fullSample.Asset.unique():\n",
    "    Growth[i] = np.log(copy1[i]) - np.log(copy2[i])\n",
    "\n",
    "Growth['30Percentile'] = Growth.quantile(q=0.3, numeric_only = True, axis = 1)\n",
    "Growth['70Percentile'] = Growth.quantile(q=0.3, numeric_only = True, axis = 1)"
   ]
  },
  {
   "cell_type": "markdown",
   "metadata": {},
   "source": [
    "### Construct Network factor"
   ]
  },
  {
   "cell_type": "code",
   "execution_count": 105,
   "metadata": {},
   "outputs": [],
   "source": [
    "Return = fullSample.loc[:,['Date', 'Return', 'Asset']] \\\n",
    "                    .pivot(index = 'Date', columns = 'Asset', values = 'Return')\\\n",
    "                    .reset_index() \\\n",
    "                    .rename_axis(None, axis = 1)\n",
    "\n",
    "Marketcap = fullSample.loc[:,['Date', 'MarketCap', 'Asset']] \\\n",
    "                    .pivot(index = 'Date', columns = 'Asset', values = 'MarketCap')\\\n",
    "                    .reset_index() \\\n",
    "                    .rename_axis(None, axis = 1)\n",
    "\n",
    "weight = Marketcap.copy()\n",
    "weight['total_weight'] = Marketcap.sum(axis = 1, numeric_only=True)\n",
    "weight[fullSample.Asset.unique()] = weight[fullSample.Asset.unique()].apply(lambda x: x/weight['total_weight'])\n",
    "weight.drop(columns=['total_weight'])\n",
    "\n",
    "Weighted_Return = Return.copy()\n",
    "for i in fullSample.Asset.unique():\n",
    "    Weighted_Return[i] = weight[i] * Return[i]"
   ]
  },
  {
   "cell_type": "code",
   "execution_count": 102,
   "metadata": {},
   "outputs": [],
   "source": [
    "Return = fullSample.loc[:,['Date', 'Return', 'Asset']] \\\n",
    "                    .pivot(index = 'Date', columns = 'Asset', values = 'Return')\\\n",
    "                    .reset_index() \\\n",
    "                    .rename_axis(None, axis = 1)\n",
    "\n",
    "NET = pd.DataFrame({'Date':[]})\n",
    "NET['Date'] = Return.Date\n",
    "NET['long'] = Return[Growth[fullSample.Asset.unique()].apply(lambda x: x >= Growth['70Percentile'])].mean(axis=1, numeric_only= True)\n",
    "NET['short'] = Return[Growth[fullSample.Asset.unique()].apply(lambda x: x <= Growth['30Percentile'])].mean(axis=1, numeric_only= True)\n",
    "NET.fillna(value = 0, inplace=True)\n",
    "NET['NET'] = NET.long - NET.short\n",
    "NET.drop(columns=['short', 'long'], inplace=True)"
   ]
  },
  {
   "cell_type": "markdown",
   "metadata": {},
   "source": [
    "### Verification"
   ]
  },
  {
   "cell_type": "code",
   "execution_count": null,
   "metadata": {},
   "outputs": [
    {
     "data": {
      "text/plain": [
       "Text(0, 0.5, 'Cumulative Return')"
      ]
     },
     "execution_count": 151,
     "metadata": {},
     "output_type": "execute_result"
    },
    {
     "data": {
      "image/png": "[encoded data removed]",
      "text/plain": [
       "<Figure size 432x288 with 1 Axes>"
      ]
     },
     "metadata": {
      "needs_background": "light"
     },
     "output_type": "display_data"
    }
   ],
   "source": [
    "import matplotlib.pyplot as plt\n",
    "\n",
    "plt.plot(NET.Date, np.cumsum(NET.NET))\n",
    "plt.xlabel('Year')\n",
    "plt.ylabel('Cumulative Return')"
   ]
  },
  {
   "cell_type": "markdown",
   "metadata": {
    "id": "wiqLJi-oFpTT"
   },
   "source": [
    "## 7.Regression Output\n",
    "### 7.1 Output a list of alphas for all the crypto currencies using factors"
   ]
  },
  {
   "cell_type": "code",
   "execution_count": null,
   "metadata": {
    "id": "ERXrpsRuFpTU"
   },
   "outputs": [],
   "source": [
    "from sklearn.linear_model import LinearRegression\n",
    "performance = {}\n",
    "\n",
    "#### to be added for other factor\n",
    "# factors = factors.merge(MOM_f, on = 'Date', how ='outer')\n",
    "factors = MKT_f.merge(SMB_f, on = 'Date', how = 'outer')\n",
    "\n",
    "# VAL Added\n",
    "factors = factors.merge(valueFactor, on = 'Date', how = 'outer')\n",
    "\n",
    "# MOM Added\n",
    "factors = factors.merge(momFactor, on = 'Date', how ='outer')\n",
    "\n",
    "# NET added\n",
    "factors = factors.merge(NET, on = 'Date', how ='outer')\n",
    "\n",
    "features = factors.columns.tolist()\n",
    "features.remove('Date')\n",
    "target = \"ExcessReturn\"\n",
    "\n",
    "for index in fullSample['Asset'].unique().tolist():\n",
    "    syntax = f\"Asset == '{index}'\"\n",
    "    segment = fullSample.query(syntax)\n",
    "    \n",
    "    reg = segment[['Date','ExcessReturn']].merge(factors, on = 'Date', how = 'outer')\n",
    "    y = reg [target].copy()\n",
    "    x = reg [features].copy()    \n",
    "    model = LinearRegression()\n",
    "    model.fit(x, y)\n",
    "    y_pred = model.predict(x)    \n",
    "    alpha = model.intercept_    \n",
    "    performance[index] = alpha"
   ]
  },
  {
   "cell_type": "code",
   "execution_count": null,
   "metadata": {
    "colab": {
     "base_uri": "https://localhost:8080/",
     "height": 1000
    },
    "id": "331bRavNI6Qw",
    "outputId": "cbff2009-ef85-4965-c602-282afa970dfb"
   },
   "outputs": [
    {
     "data": {
      "text/html": [
       "<div>\n",
       "<style scoped>\n",
       "    .dataframe tbody tr th:only-of-type {\n",
       "        vertical-align: middle;\n",
       "    }\n",
       "\n",
       "    .dataframe tbody tr th {\n",
       "        vertical-align: top;\n",
       "    }\n",
       "\n",
       "    .dataframe thead th {\n",
       "        text-align: right;\n",
       "    }\n",
       "</style>\n",
       "<table border=\"1\" class=\"dataframe\">\n",
       "  <thead>\n",
       "    <tr style=\"text-align: right;\">\n",
       "      <th></th>\n",
       "      <th>Date</th>\n",
       "      <th>MKT</th>\n",
       "      <th>SMB</th>\n",
       "      <th>VAL</th>\n",
       "      <th>MOM_LTW</th>\n",
       "      <th>NET</th>\n",
       "    </tr>\n",
       "  </thead>\n",
       "  <tbody>\n",
       "    <tr>\n",
       "      <th>0</th>\n",
       "      <td>2021-05-03</td>\n",
       "      <td>0.118404</td>\n",
       "      <td>-0.066791</td>\n",
       "      <td>0.427391</td>\n",
       "      <td>0.34803</td>\n",
       "      <td>0.000000</td>\n",
       "    </tr>\n",
       "    <tr>\n",
       "      <th>1</th>\n",
       "      <td>2021-05-10</td>\n",
       "      <td>-0.145781</td>\n",
       "      <td>-0.047416</td>\n",
       "      <td>0.165418</td>\n",
       "      <td>0.098517</td>\n",
       "      <td>0.129719</td>\n",
       "    </tr>\n",
       "    <tr>\n",
       "      <th>2</th>\n",
       "      <td>2021-05-17</td>\n",
       "      <td>-0.280499</td>\n",
       "      <td>-0.204479</td>\n",
       "      <td>-0.409644</td>\n",
       "      <td>0.488212</td>\n",
       "      <td>0.006300</td>\n",
       "    </tr>\n",
       "    <tr>\n",
       "      <th>3</th>\n",
       "      <td>2021-05-24</td>\n",
       "      <td>0.069525</td>\n",
       "      <td>0.054525</td>\n",
       "      <td>0.149525</td>\n",
       "      <td>-0.103503</td>\n",
       "      <td>0.059452</td>\n",
       "    </tr>\n",
       "    <tr>\n",
       "      <th>4</th>\n",
       "      <td>2021-05-31</td>\n",
       "      <td>0.042021</td>\n",
       "      <td>0.051990</td>\n",
       "      <td>0.121057</td>\n",
       "      <td>-0.000675</td>\n",
       "      <td>0.036665</td>\n",
       "    </tr>\n",
       "    <tr>\n",
       "      <th>5</th>\n",
       "      <td>2021-06-07</td>\n",
       "      <td>0.029528</td>\n",
       "      <td>-0.118940</td>\n",
       "      <td>-0.068965</td>\n",
       "      <td>0.216259</td>\n",
       "      <td>0.034761</td>\n",
       "    </tr>\n",
       "    <tr>\n",
       "      <th>6</th>\n",
       "      <td>2021-06-14</td>\n",
       "      <td>-0.079382</td>\n",
       "      <td>-0.000435</td>\n",
       "      <td>-0.099080</td>\n",
       "      <td>0.067207</td>\n",
       "      <td>0.037378</td>\n",
       "    </tr>\n",
       "    <tr>\n",
       "      <th>7</th>\n",
       "      <td>2021-06-21</td>\n",
       "      <td>-0.057400</td>\n",
       "      <td>-0.138086</td>\n",
       "      <td>-0.122532</td>\n",
       "      <td>0.212212</td>\n",
       "      <td>0.005960</td>\n",
       "    </tr>\n",
       "    <tr>\n",
       "      <th>8</th>\n",
       "      <td>2021-06-28</td>\n",
       "      <td>0.066367</td>\n",
       "      <td>0.060376</td>\n",
       "      <td>0.164612</td>\n",
       "      <td>0.332424</td>\n",
       "      <td>0.119494</td>\n",
       "    </tr>\n",
       "    <tr>\n",
       "      <th>9</th>\n",
       "      <td>2021-07-05</td>\n",
       "      <td>-0.036054</td>\n",
       "      <td>-0.006287</td>\n",
       "      <td>-0.073297</td>\n",
       "      <td>0.219559</td>\n",
       "      <td>0.077866</td>\n",
       "    </tr>\n",
       "    <tr>\n",
       "      <th>10</th>\n",
       "      <td>2021-07-12</td>\n",
       "      <td>-0.078781</td>\n",
       "      <td>-0.041702</td>\n",
       "      <td>-0.071540</td>\n",
       "      <td>0.204021</td>\n",
       "      <td>0.018133</td>\n",
       "    </tr>\n",
       "    <tr>\n",
       "      <th>11</th>\n",
       "      <td>2021-07-19</td>\n",
       "      <td>0.107483</td>\n",
       "      <td>-0.021352</td>\n",
       "      <td>0.151259</td>\n",
       "      <td>0.143812</td>\n",
       "      <td>0.040684</td>\n",
       "    </tr>\n",
       "    <tr>\n",
       "      <th>12</th>\n",
       "      <td>2021-07-26</td>\n",
       "      <td>0.136519</td>\n",
       "      <td>-0.031002</td>\n",
       "      <td>0.144445</td>\n",
       "      <td>0.360785</td>\n",
       "      <td>0.160560</td>\n",
       "    </tr>\n",
       "    <tr>\n",
       "      <th>13</th>\n",
       "      <td>2021-08-02</td>\n",
       "      <td>0.104762</td>\n",
       "      <td>0.100468</td>\n",
       "      <td>0.065810</td>\n",
       "      <td>0.152526</td>\n",
       "      <td>0.024837</td>\n",
       "    </tr>\n",
       "    <tr>\n",
       "      <th>14</th>\n",
       "      <td>2021-08-09</td>\n",
       "      <td>0.083516</td>\n",
       "      <td>0.104052</td>\n",
       "      <td>-0.017698</td>\n",
       "      <td>0.358061</td>\n",
       "      <td>0.132159</td>\n",
       "    </tr>\n",
       "    <tr>\n",
       "      <th>15</th>\n",
       "      <td>2021-08-16</td>\n",
       "      <td>0.026098</td>\n",
       "      <td>0.008617</td>\n",
       "      <td>-0.084075</td>\n",
       "      <td>0.163707</td>\n",
       "      <td>0.084235</td>\n",
       "    </tr>\n",
       "    <tr>\n",
       "      <th>16</th>\n",
       "      <td>2021-08-23</td>\n",
       "      <td>-0.008278</td>\n",
       "      <td>-0.012358</td>\n",
       "      <td>-0.002697</td>\n",
       "      <td>0.16577</td>\n",
       "      <td>0.048829</td>\n",
       "    </tr>\n",
       "    <tr>\n",
       "      <th>17</th>\n",
       "      <td>2021-08-30</td>\n",
       "      <td>0.108694</td>\n",
       "      <td>-0.032505</td>\n",
       "      <td>0.224550</td>\n",
       "      <td>0.339385</td>\n",
       "      <td>0.131483</td>\n",
       "    </tr>\n",
       "    <tr>\n",
       "      <th>18</th>\n",
       "      <td>2021-09-06</td>\n",
       "      <td>-0.109194</td>\n",
       "      <td>-0.033058</td>\n",
       "      <td>-0.047266</td>\n",
       "      <td>0.245224</td>\n",
       "      <td>0.059695</td>\n",
       "    </tr>\n",
       "    <tr>\n",
       "      <th>19</th>\n",
       "      <td>2021-09-13</td>\n",
       "      <td>0.006428</td>\n",
       "      <td>-0.043259</td>\n",
       "      <td>-0.026500</td>\n",
       "      <td>0.062954</td>\n",
       "      <td>0.049081</td>\n",
       "    </tr>\n",
       "    <tr>\n",
       "      <th>20</th>\n",
       "      <td>2021-09-20</td>\n",
       "      <td>-0.077336</td>\n",
       "      <td>-0.091418</td>\n",
       "      <td>-0.084057</td>\n",
       "      <td>0.172802</td>\n",
       "      <td>0.045904</td>\n",
       "    </tr>\n",
       "    <tr>\n",
       "      <th>21</th>\n",
       "      <td>2021-09-27</td>\n",
       "      <td>0.106049</td>\n",
       "      <td>0.014552</td>\n",
       "      <td>0.116257</td>\n",
       "      <td>0.092144</td>\n",
       "      <td>0.073205</td>\n",
       "    </tr>\n",
       "    <tr>\n",
       "      <th>22</th>\n",
       "      <td>2021-10-04</td>\n",
       "      <td>0.080152</td>\n",
       "      <td>-0.000750</td>\n",
       "      <td>-0.003781</td>\n",
       "      <td>0.197261</td>\n",
       "      <td>0.036365</td>\n",
       "    </tr>\n",
       "    <tr>\n",
       "      <th>23</th>\n",
       "      <td>2021-10-11</td>\n",
       "      <td>0.114312</td>\n",
       "      <td>0.014342</td>\n",
       "      <td>0.124967</td>\n",
       "      <td>0.152782</td>\n",
       "      <td>0.065627</td>\n",
       "    </tr>\n",
       "    <tr>\n",
       "      <th>24</th>\n",
       "      <td>2021-10-18</td>\n",
       "      <td>0.010832</td>\n",
       "      <td>0.020342</td>\n",
       "      <td>0.043519</td>\n",
       "      <td>0.059901</td>\n",
       "      <td>0.028637</td>\n",
       "    </tr>\n",
       "    <tr>\n",
       "      <th>25</th>\n",
       "      <td>2021-10-25</td>\n",
       "      <td>0.028862</td>\n",
       "      <td>0.004077</td>\n",
       "      <td>0.083173</td>\n",
       "      <td>0.627998</td>\n",
       "      <td>0.106192</td>\n",
       "    </tr>\n",
       "    <tr>\n",
       "      <th>26</th>\n",
       "      <td>2021-11-01</td>\n",
       "      <td>0.046673</td>\n",
       "      <td>0.104343</td>\n",
       "      <td>0.072808</td>\n",
       "      <td>0.351752</td>\n",
       "      <td>0.103335</td>\n",
       "    </tr>\n",
       "    <tr>\n",
       "      <th>27</th>\n",
       "      <td>2021-11-08</td>\n",
       "      <td>0.025617</td>\n",
       "      <td>-0.128612</td>\n",
       "      <td>0.009947</td>\n",
       "      <td>0.400338</td>\n",
       "      <td>0.036542</td>\n",
       "    </tr>\n",
       "    <tr>\n",
       "      <th>28</th>\n",
       "      <td>2021-11-15</td>\n",
       "      <td>-0.080835</td>\n",
       "      <td>0.078176</td>\n",
       "      <td>0.177454</td>\n",
       "      <td>0.31</td>\n",
       "      <td>0.062494</td>\n",
       "    </tr>\n",
       "    <tr>\n",
       "      <th>29</th>\n",
       "      <td>2021-11-22</td>\n",
       "      <td>-0.011782</td>\n",
       "      <td>-0.032752</td>\n",
       "      <td>0.088506</td>\n",
       "      <td>0.307386</td>\n",
       "      <td>0.140888</td>\n",
       "    </tr>\n",
       "    <tr>\n",
       "      <th>30</th>\n",
       "      <td>2021-11-29</td>\n",
       "      <td>-0.097814</td>\n",
       "      <td>-0.089900</td>\n",
       "      <td>0.148912</td>\n",
       "      <td>0.249553</td>\n",
       "      <td>0.093891</td>\n",
       "    </tr>\n",
       "    <tr>\n",
       "      <th>31</th>\n",
       "      <td>2021-12-06</td>\n",
       "      <td>0.009100</td>\n",
       "      <td>-0.038119</td>\n",
       "      <td>0.120577</td>\n",
       "      <td>0.112192</td>\n",
       "      <td>0.075778</td>\n",
       "    </tr>\n",
       "    <tr>\n",
       "      <th>32</th>\n",
       "      <td>2021-12-13</td>\n",
       "      <td>-0.054558</td>\n",
       "      <td>-0.011822</td>\n",
       "      <td>0.009584</td>\n",
       "      <td>0.177181</td>\n",
       "      <td>0.055950</td>\n",
       "    </tr>\n",
       "    <tr>\n",
       "      <th>33</th>\n",
       "      <td>2021-12-20</td>\n",
       "      <td>0.073030</td>\n",
       "      <td>-0.056556</td>\n",
       "      <td>0.180444</td>\n",
       "      <td>0.21885</td>\n",
       "      <td>0.074493</td>\n",
       "    </tr>\n",
       "    <tr>\n",
       "      <th>34</th>\n",
       "      <td>2021-12-27</td>\n",
       "      <td>-0.058055</td>\n",
       "      <td>0.027466</td>\n",
       "      <td>-0.067235</td>\n",
       "      <td>0.080179</td>\n",
       "      <td>0.067078</td>\n",
       "    </tr>\n",
       "    <tr>\n",
       "      <th>35</th>\n",
       "      <td>2022-01-03</td>\n",
       "      <td>-0.118342</td>\n",
       "      <td>-0.009936</td>\n",
       "      <td>-0.014617</td>\n",
       "      <td>0.212018</td>\n",
       "      <td>0.015884</td>\n",
       "    </tr>\n",
       "    <tr>\n",
       "      <th>36</th>\n",
       "      <td>2022-01-10</td>\n",
       "      <td>0.036976</td>\n",
       "      <td>0.071641</td>\n",
       "      <td>0.086299</td>\n",
       "      <td>0.063664</td>\n",
       "      <td>0.065351</td>\n",
       "    </tr>\n",
       "    <tr>\n",
       "      <th>37</th>\n",
       "      <td>2022-01-17</td>\n",
       "      <td>-0.168871</td>\n",
       "      <td>-0.052634</td>\n",
       "      <td>0.015321</td>\n",
       "      <td>0.343418</td>\n",
       "      <td>0.032004</td>\n",
       "    </tr>\n",
       "    <tr>\n",
       "      <th>38</th>\n",
       "      <td>2022-01-24</td>\n",
       "      <td>0.035692</td>\n",
       "      <td>-0.021917</td>\n",
       "      <td>0.086276</td>\n",
       "      <td>0.064195</td>\n",
       "      <td>0.073043</td>\n",
       "    </tr>\n",
       "    <tr>\n",
       "      <th>39</th>\n",
       "      <td>2022-01-31</td>\n",
       "      <td>0.119903</td>\n",
       "      <td>-0.019713</td>\n",
       "      <td>0.082884</td>\n",
       "      <td>0.242355</td>\n",
       "      <td>0.058739</td>\n",
       "    </tr>\n",
       "    <tr>\n",
       "      <th>40</th>\n",
       "      <td>2022-02-07</td>\n",
       "      <td>-0.018982</td>\n",
       "      <td>-0.039268</td>\n",
       "      <td>0.063102</td>\n",
       "      <td>0.154199</td>\n",
       "      <td>-0.004846</td>\n",
       "    </tr>\n",
       "    <tr>\n",
       "      <th>41</th>\n",
       "      <td>2022-02-14</td>\n",
       "      <td>-0.079080</td>\n",
       "      <td>-0.035465</td>\n",
       "      <td>0.030298</td>\n",
       "      <td>0.1277</td>\n",
       "      <td>0.015904</td>\n",
       "    </tr>\n",
       "    <tr>\n",
       "      <th>42</th>\n",
       "      <td>2022-02-21</td>\n",
       "      <td>-0.014147</td>\n",
       "      <td>-0.081530</td>\n",
       "      <td>0.082668</td>\n",
       "      <td>0.160007</td>\n",
       "      <td>0.014265</td>\n",
       "    </tr>\n",
       "    <tr>\n",
       "      <th>43</th>\n",
       "      <td>2022-02-28</td>\n",
       "      <td>0.002771</td>\n",
       "      <td>-0.046752</td>\n",
       "      <td>0.010549</td>\n",
       "      <td>0.216549</td>\n",
       "      <td>0.000170</td>\n",
       "    </tr>\n",
       "    <tr>\n",
       "      <th>44</th>\n",
       "      <td>2022-03-07</td>\n",
       "      <td>-0.015097</td>\n",
       "      <td>-0.078726</td>\n",
       "      <td>-0.006317</td>\n",
       "      <td>0.07325</td>\n",
       "      <td>0.024872</td>\n",
       "    </tr>\n",
       "    <tr>\n",
       "      <th>45</th>\n",
       "      <td>2022-03-14</td>\n",
       "      <td>0.090181</td>\n",
       "      <td>-0.004281</td>\n",
       "      <td>-0.023083</td>\n",
       "      <td>0.197816</td>\n",
       "      <td>0.051625</td>\n",
       "    </tr>\n",
       "    <tr>\n",
       "      <th>46</th>\n",
       "      <td>2022-03-21</td>\n",
       "      <td>0.124759</td>\n",
       "      <td>-0.016012</td>\n",
       "      <td>-0.049756</td>\n",
       "      <td>0.286197</td>\n",
       "      <td>0.056397</td>\n",
       "    </tr>\n",
       "    <tr>\n",
       "      <th>47</th>\n",
       "      <td>2022-03-28</td>\n",
       "      <td>0.015271</td>\n",
       "      <td>0.045368</td>\n",
       "      <td>-0.015182</td>\n",
       "      <td>0.231499</td>\n",
       "      <td>0.062342</td>\n",
       "    </tr>\n",
       "    <tr>\n",
       "      <th>48</th>\n",
       "      <td>2022-04-04</td>\n",
       "      <td>-0.083050</td>\n",
       "      <td>-0.043322</td>\n",
       "      <td>0.117806</td>\n",
       "      <td>0.153779</td>\n",
       "      <td>0.011947</td>\n",
       "    </tr>\n",
       "    <tr>\n",
       "      <th>49</th>\n",
       "      <td>2022-04-11</td>\n",
       "      <td>-0.057564</td>\n",
       "      <td>-0.010966</td>\n",
       "      <td>-0.025170</td>\n",
       "      <td>0.086624</td>\n",
       "      <td>0.037737</td>\n",
       "    </tr>\n",
       "    <tr>\n",
       "      <th>50</th>\n",
       "      <td>2022-04-18</td>\n",
       "      <td>-0.013484</td>\n",
       "      <td>-0.070568</td>\n",
       "      <td>0.083083</td>\n",
       "      <td>0.06188</td>\n",
       "      <td>0.036675</td>\n",
       "    </tr>\n",
       "    <tr>\n",
       "      <th>51</th>\n",
       "      <td>2022-04-25</td>\n",
       "      <td>-0.034133</td>\n",
       "      <td>-0.016849</td>\n",
       "      <td>0.184336</td>\n",
       "      <td>0.20731</td>\n",
       "      <td>0.040646</td>\n",
       "    </tr>\n",
       "  </tbody>\n",
       "</table>\n",
       "</div>"
      ],
      "text/plain": [
       "         Date       MKT       SMB       VAL   MOM_LTW       NET\n",
       "0  2021-05-03  0.118404 -0.066791  0.427391   0.34803  0.000000\n",
       "1  2021-05-10 -0.145781 -0.047416  0.165418  0.098517  0.129719\n",
       "2  2021-05-17 -0.280499 -0.204479 -0.409644  0.488212  0.006300\n",
       "3  2021-05-24  0.069525  0.054525  0.149525 -0.103503  0.059452\n",
       "4  2021-05-31  0.042021  0.051990  0.121057 -0.000675  0.036665\n",
       "5  2021-06-07  0.029528 -0.118940 -0.068965  0.216259  0.034761\n",
       "6  2021-06-14 -0.079382 -0.000435 -0.099080  0.067207  0.037378\n",
       "7  2021-06-21 -0.057400 -0.138086 -0.122532  0.212212  0.005960\n",
       "8  2021-06-28  0.066367  0.060376  0.164612  0.332424  0.119494\n",
       "9  2021-07-05 -0.036054 -0.006287 -0.073297  0.219559  0.077866\n",
       "10 2021-07-12 -0.078781 -0.041702 -0.071540  0.204021  0.018133\n",
       "11 2021-07-19  0.107483 -0.021352  0.151259  0.143812  0.040684\n",
       "12 2021-07-26  0.136519 -0.031002  0.144445  0.360785  0.160560\n",
       "13 2021-08-02  0.104762  0.100468  0.065810  0.152526  0.024837\n",
       "14 2021-08-09  0.083516  0.104052 -0.017698  0.358061  0.132159\n",
       "15 2021-08-16  0.026098  0.008617 -0.084075  0.163707  0.084235\n",
       "16 2021-08-23 -0.008278 -0.012358 -0.002697   0.16577  0.048829\n",
       "17 2021-08-30  0.108694 -0.032505  0.224550  0.339385  0.131483\n",
       "18 2021-09-06 -0.109194 -0.033058 -0.047266  0.245224  0.059695\n",
       "19 2021-09-13  0.006428 -0.043259 -0.026500  0.062954  0.049081\n",
       "20 2021-09-20 -0.077336 -0.091418 -0.084057  0.172802  0.045904\n",
       "21 2021-09-27  0.106049  0.014552  0.116257  0.092144  0.073205\n",
       "22 2021-10-04  0.080152 -0.000750 -0.003781  0.197261  0.036365\n",
       "23 2021-10-11  0.114312  0.014342  0.124967  0.152782  0.065627\n",
       "24 2021-10-18  0.010832  0.020342  0.043519  0.059901  0.028637\n",
       "25 2021-10-25  0.028862  0.004077  0.083173  0.627998  0.106192\n",
       "26 2021-11-01  0.046673  0.104343  0.072808  0.351752  0.103335\n",
       "27 2021-11-08  0.025617 -0.128612  0.009947  0.400338  0.036542\n",
       "28 2021-11-15 -0.080835  0.078176  0.177454      0.31  0.062494\n",
       "29 2021-11-22 -0.011782 -0.032752  0.088506  0.307386  0.140888\n",
       "30 2021-11-29 -0.097814 -0.089900  0.148912  0.249553  0.093891\n",
       "31 2021-12-06  0.009100 -0.038119  0.120577  0.112192  0.075778\n",
       "32 2021-12-13 -0.054558 -0.011822  0.009584  0.177181  0.055950\n",
       "33 2021-12-20  0.073030 -0.056556  0.180444   0.21885  0.074493\n",
       "34 2021-12-27 -0.058055  0.027466 -0.067235  0.080179  0.067078\n",
       "35 2022-01-03 -0.118342 -0.009936 -0.014617  0.212018  0.015884\n",
       "36 2022-01-10  0.036976  0.071641  0.086299  0.063664  0.065351\n",
       "37 2022-01-17 -0.168871 -0.052634  0.015321  0.343418  0.032004\n",
       "38 2022-01-24  0.035692 -0.021917  0.086276  0.064195  0.073043\n",
       "39 2022-01-31  0.119903 -0.019713  0.082884  0.242355  0.058739\n",
       "40 2022-02-07 -0.018982 -0.039268  0.063102  0.154199 -0.004846\n",
       "41 2022-02-14 -0.079080 -0.035465  0.030298    0.1277  0.015904\n",
       "42 2022-02-21 -0.014147 -0.081530  0.082668  0.160007  0.014265\n",
       "43 2022-02-28  0.002771 -0.046752  0.010549  0.216549  0.000170\n",
       "44 2022-03-07 -0.015097 -0.078726 -0.006317   0.07325  0.024872\n",
       "45 2022-03-14  0.090181 -0.004281 -0.023083  0.197816  0.051625\n",
       "46 2022-03-21  0.124759 -0.016012 -0.049756  0.286197  0.056397\n",
       "47 2022-03-28  0.015271  0.045368 -0.015182  0.231499  0.062342\n",
       "48 2022-04-04 -0.083050 -0.043322  0.117806  0.153779  0.011947\n",
       "49 2022-04-11 -0.057564 -0.010966 -0.025170  0.086624  0.037737\n",
       "50 2022-04-18 -0.013484 -0.070568  0.083083   0.06188  0.036675\n",
       "51 2022-04-25 -0.034133 -0.016849  0.184336   0.20731  0.040646"
      ]
     },
     "execution_count": 153,
     "metadata": {},
     "output_type": "execute_result"
    }
   ],
   "source": [
    "factors"
   ]
  },
  {
   "cell_type": "code",
   "execution_count": null,
   "metadata": {},
   "outputs": [
    {
     "data": {
      "image/png": "[encoded data removed]",
      "text/plain": [
       "<Figure size 1296x864 with 1 Axes>"
      ]
     },
     "metadata": {
      "needs_background": "light"
     },
     "output_type": "display_data"
    }
   ],
   "source": [
    "from matplotlib.pyplot import figure\n",
    "\n",
    "plt.figure(figsize=(18,12))\n",
    "\n",
    "palette = plt.get_cmap('Set1')\n",
    " \n",
    "num=0\n",
    "for column in factors.drop('Date', axis=1):\n",
    "    num+=1\n",
    "    plt.plot(factors['Date'], factors[column], marker='o', color=palette(num), linewidth=1, alpha=0.9, label=column)\n",
    "\n",
    "\n",
    "plt.legend(loc=2, ncol=2)\n",
    "plt.title(\"Factor Presentation\", loc='center', fontsize=20, fontweight=0, color='orange')\n",
    "plt.xlabel(\"Time\")\n",
    "plt.ylabel(\"Ratio\")\n",
    "plt.show()"
   ]
  },
  {
   "cell_type": "markdown",
   "metadata": {
    "id": "z30F3MWbFpTU"
   },
   "source": [
    "### 7.2 Currently using values (not abs value) of alpha to sort all the crypto currencies"
   ]
  },
  {
   "cell_type": "code",
   "execution_count": null,
   "metadata": {
    "colab": {
     "base_uri": "https://localhost:8080/",
     "height": 363
    },
    "id": "NyoUgFXQFpTU",
    "outputId": "1d4665bf-47d4-4e9c-b4b1-681d29008e57"
   },
   "outputs": [
    {
     "data": {
      "text/html": [
       "<div>\n",
       "<style scoped>\n",
       "    .dataframe tbody tr th:only-of-type {\n",
       "        vertical-align: middle;\n",
       "    }\n",
       "\n",
       "    .dataframe tbody tr th {\n",
       "        vertical-align: top;\n",
       "    }\n",
       "\n",
       "    .dataframe thead th {\n",
       "        text-align: right;\n",
       "    }\n",
       "</style>\n",
       "<table border=\"1\" class=\"dataframe\">\n",
       "  <thead>\n",
       "    <tr style=\"text-align: right;\">\n",
       "      <th></th>\n",
       "      <th>Asset</th>\n",
       "      <th>Alpha</th>\n",
       "    </tr>\n",
       "  </thead>\n",
       "  <tbody>\n",
       "    <tr>\n",
       "      <th>5</th>\n",
       "      <td>AMPL</td>\n",
       "      <td>0.195585</td>\n",
       "    </tr>\n",
       "    <tr>\n",
       "      <th>22</th>\n",
       "      <td>CREAM</td>\n",
       "      <td>0.130519</td>\n",
       "    </tr>\n",
       "    <tr>\n",
       "      <th>65</th>\n",
       "      <td>MLN</td>\n",
       "      <td>0.127543</td>\n",
       "    </tr>\n",
       "    <tr>\n",
       "      <th>95</th>\n",
       "      <td>SAN</td>\n",
       "      <td>0.107088</td>\n",
       "    </tr>\n",
       "    <tr>\n",
       "      <th>103</th>\n",
       "      <td>TOP</td>\n",
       "      <td>0.102734</td>\n",
       "    </tr>\n",
       "    <tr>\n",
       "      <th>8</th>\n",
       "      <td>BADGER</td>\n",
       "      <td>0.099473</td>\n",
       "    </tr>\n",
       "    <tr>\n",
       "      <th>69</th>\n",
       "      <td>NDX</td>\n",
       "      <td>0.076802</td>\n",
       "    </tr>\n",
       "    <tr>\n",
       "      <th>35</th>\n",
       "      <td>DRGN</td>\n",
       "      <td>0.075553</td>\n",
       "    </tr>\n",
       "    <tr>\n",
       "      <th>75</th>\n",
       "      <td>OKB</td>\n",
       "      <td>0.068608</td>\n",
       "    </tr>\n",
       "    <tr>\n",
       "      <th>70</th>\n",
       "      <td>NEXO</td>\n",
       "      <td>0.058545</td>\n",
       "    </tr>\n",
       "  </tbody>\n",
       "</table>\n",
       "</div>"
      ],
      "text/plain": [
       "      Asset     Alpha\n",
       "5      AMPL  0.195585\n",
       "22    CREAM  0.130519\n",
       "65      MLN  0.127543\n",
       "95      SAN  0.107088\n",
       "103     TOP  0.102734\n",
       "8    BADGER  0.099473\n",
       "69      NDX  0.076802\n",
       "35     DRGN  0.075553\n",
       "75      OKB  0.068608\n",
       "70     NEXO  0.058545"
      ]
     },
     "execution_count": 155,
     "metadata": {},
     "output_type": "execute_result"
    }
   ],
   "source": [
    "alp_sig = pd.DataFrame(list(performance.items()), \n",
    "                       columns = ['Asset','Alpha'])\n",
    "alp_sig = alp_sig.sort_values(by=['Alpha'], \n",
    "                              ascending = False)\n",
    "alp_sig.head(10)"
   ]
  },
  {
   "cell_type": "code",
   "execution_count": null,
   "metadata": {},
   "outputs": [],
   "source": []
  }
 ],
 "metadata": {
  "colab": {
   "collapsed_sections": [
    "lh68fHXe8UTs",
    "7nlgSPPTKKkP",
    "79gEwzQCFpTE",
    "d75HqlreFpTH",
    "JfDbaHguFpTI",
    "m0PaVMQpFpTL"
   ],
   "name": "ALL.ipynb",
   "provenance": []
  },
  "kernelspec": {
   "display_name": "Python 3 (ipykernel)",
   "language": "python",
   "name": "python3"
  },
  "language_info": {
   "codemirror_mode": {
    "name": "ipython",
    "version": 3
   },
   "file_extension": ".py",
   "mimetype": "text/x-python",
   "name": "python",
   "nbconvert_exporter": "python",
   "pygments_lexer": "ipython3",
   "version": "3.9.7"
  }
 },
 "nbformat": 4,
 "nbformat_minor": 1
}
